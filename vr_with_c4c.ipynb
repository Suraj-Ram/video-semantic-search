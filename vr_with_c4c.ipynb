{
	"cells": [
		{
			"cell_type": "code",
			"execution_count": 1,
			"id": "38a23a1e",
			"metadata": {},
			"outputs": [],
			"source": [
				"# Full video reterval using CLIP4CLIP and TwoHee"
			]
		},
		{
			"cell_type": "code",
			"execution_count": 1,
			"id": "cf8f57a9",
			"metadata": {},
			"outputs": [],
			"source": [
				"import os\n",
				"import csv\n",
				"from towhee import ops, pipe, register\n",
				"from towhee.operator import PyOperator\n",
				"from towhee import DataCollection\n",
				"from tqdm import tqdm\n",
				"import pandas as pd\n",
				"import json\n",
				"import numpy as np\n",
				"from pymilvus import connections, FieldSchema, CollectionSchema, DataType, Collection, utility"
			]
		},
		{
			"cell_type": "code",
			"execution_count": 2,
			"id": "3fd14129",
			"metadata": {},
			"outputs": [],
			"source": [
				"# CONSTANTS\n",
				"VIDEOS_FOLDER = \"data/MSRVTT/videos/all\"\n",
				"CSV_LOADER_FILE = \"MSRVTT_video_paths.csv\"\n",
				"CSV_SEARCH_FILE_1 = \"MSRVTT_search_1.csv\"\n",
				"CSV_SEARCH_FILE_2 = \"MSRVTT_search_2.csv\"\n",
				"CSV_SEARCH_DISTINCT = \"MSRVTT_search_distinct.csv\"\n",
				"MILVUS_COLLECTION_NAME = \"text_video_retrieval_6\"\n",
				"MSR_VTT_ANNOTATION_JSON= \"data/MSRVTT/annotation/MSR_VTT.json\"\n",
				"\n",
				"# Constants for CLIP model\n",
				"IMAGES_FOLDER = \"syn_data/msrvtt_imgs\"\n",
				"MILVUS_IMAGES_COLLECTION_NAME = \"text_video_retrieval_images_1\"\n",
				"CSV_IMAGES_LOADER_FILE = \"MSRVTT_images_paths.csv\"\n",
				"CSV_IMAGES_SEARCH_FILE_1 = \"MSRVTT_images_search_1.csv\""
			]
		},
		{
			"cell_type": "code",
			"execution_count": 41,
			"id": "004f67a1",
			"metadata": {},
			"outputs": [],
			"source": [
				"# Load videos into Vector DB"
			]
		},
		{
			"cell_type": "code",
			"execution_count": 3,
			"id": "3422c7a4",
			"metadata": {},
			"outputs": [],
			"source": [
				"connections.connect(host='localhost', port='19530')"
			]
		},
		{
			"cell_type": "code",
			"execution_count": 3,
			"id": "2d2a5932",
			"metadata": {},
			"outputs": [],
			"source": [
				"def create_milvus_collection(collection_name, dim):\n",
				"    if utility.has_collection(collection_name):\n",
				"        utility.drop_collection(collection_name)\n",
				"    \n",
				"    fields = [\n",
				"    FieldSchema(name='vid_id', dtype=DataType.INT64, description='ids', is_primary=True, auto_id=False),\n",
				"    FieldSchema(name='embedding', dtype=DataType.FLOAT_VECTOR, description='embedding vectors', dim=dim)\n",
				"    ]\n",
				"    schema = CollectionSchema(fields=fields, description='video retrieval')\n",
				"    collection = Collection(name=collection_name, schema=schema)\n",
				"\n",
				"    # create IVF_FLAT index for collection.\n",
				"    index_params = {\n",
				"        'metric_type':'L2', #IP\n",
				"        'index_type':\"IVF_FLAT\",\n",
				"        'params':{\"nlist\":2048}\n",
				"    }\n",
				"    collection.create_index(field_name=\"embedding\", index_params=index_params)\n",
				"    return collection\n"
			]
		},
		{
			"cell_type": "code",
			"execution_count": null,
			"id": "db808da3",
			"metadata": {},
			"outputs": [],
			"source": [
				"\n",
				"collection = create_milvus_collection(MILVUS_COLLECTION_NAME, 512)"
			]
		},
		{
			"cell_type": "code",
			"execution_count": 17,
			"id": "f7594b66",
			"metadata": {},
			"outputs": [
				{
					"data": {
						"text/plain": [
							"10000"
						]
					},
					"execution_count": 17,
					"metadata": {},
					"output_type": "execute_result"
				}
			],
			"source": [
				"# get video paths\n",
				"def get_video_paths(folder):\n",
				"    video_paths = []\n",
				"    for root, _, files in os.walk(folder):\n",
				"        for file in files:\n",
				"            if file.endswith(('.mp4', '.avi', '.mov')):\n",
				"                video_paths.append(os.path.join(root, file))\n",
				"    return video_paths\n",
				"def get_video_ids(folder):\n",
				"    video_ids = []\n",
				"    for root, _, files in os.walk(folder):\n",
				"        for file in files:\n",
				"            if file.endswith(('.mp4', '.avi', '.mov')):\n",
				"                video_ids.append(file.split('.')[0])\n",
				"    return video_ids\n",
				"\n",
				"def get_video_frame_paths(folder):\n",
				"    video_frame_paths = []\n",
				"    # print(list(os.walk(folder)))\n",
				"    for root, _, files in os.walk(folder):\n",
				"        for file in files:\n",
				"            if file.endswith(('.jpg', '.png')):\n",
				"                video_frame_paths.append(os.path.join(root, file))\n",
				"    return video_frame_paths\n",
				"\n",
				"all_vid_ids = get_video_ids(VIDEOS_FOLDER)\n",
				"len(all_vid_ids)"
			]
		},
		{
			"cell_type": "code",
			"execution_count": 18,
			"id": "ab5cc04f",
			"metadata": {},
			"outputs": [],
			"source": [
				"# next(os.walk(\"syn_data/msrvtt_imgs\"))\n",
				"all_frame_paths = get_video_frame_paths(IMAGES_FOLDER)"
			]
		},
		{
			"cell_type": "code",
			"execution_count": 19,
			"id": "13a7d8f2",
			"metadata": {},
			"outputs": [
				{
					"name": "stdout",
					"output_type": "stream",
					"text": [
						"data/MSRVTT/videos/all/video12.mp4\n",
						"data/MSRVTT/videos/all/video6110.mp4\n",
						"data/MSRVTT/videos/all/video9223.mp4\n",
						"data/MSRVTT/videos/all/video2376.mp4\n",
						"data/MSRVTT/videos/all/video938.mp4\n",
						"10000\n"
					]
				}
			],
			"source": [
				"all_vid_paths = get_video_paths(VIDEOS_FOLDER)\n",
				"print(*all_vid_paths[:5], sep='\\n')\n",
				"print(len(all_vid_paths))"
			]
		},
		{
			"cell_type": "code",
			"execution_count": null,
			"id": "b3ab1b10",
			"metadata": {},
			"outputs": [],
			"source": [
				"# Create CSV to feed into TwoHee pipeline\n",
				"# Create dataframe with video_ids and video_paths columns\n",
				"pd.DataFrame({\n",
				"    'video_id': all_vid_ids,\n",
				"    'video_path': all_vid_paths\n",
				"}).to_csv(CSV_LOADER_FILE, index=False)"
			]
		},
		{
			"cell_type": "code",
			"execution_count": 20,
			"id": "76e50c1f",
			"metadata": {},
			"outputs": [],
			"source": [
				"pd.DataFrame({\n",
				"    'video_id': all_vid_ids,\n",
				"    'frame_path': all_frame_paths\n",
				"}).head(100).to_csv(CSV_IMAGES_LOADER_FILE, index=False)"
			]
		},
		{
			"cell_type": "code",
			"execution_count": null,
			"id": "9b0a55b6",
			"metadata": {},
			"outputs": [],
			"source": [
				"def read_csv(csv_file):\n",
				"    with open(csv_file, 'r', encoding='utf-8-sig') as f:\n",
				"        data = csv.DictReader(f)\n",
				"        for line in data:\n",
				"            yield int(line['video_id'][len('video'):]), line['video_path']\n",
				"\n",
				"twohee_load_videos_pipeline = (\n",
				"    pipe.input('csv_file')\n",
				"    .flat_map('csv_file', ('video_id', 'video_path'), read_csv)\n",
				"    .map('video_path', 'frames', ops.video_decode.ffmpeg(sample_type='uniform_temporal_subsample', args={'num_samples': 12}))\n",
				"    .map('frames', 'vec', ops.video_text_embedding.clip4clip(model_name='clip_vit_b32', modality='video', device='mps'))\n",
				"    .map(('video_id', 'vec'), (), ops.ann_insert.milvus_client(host='127.0.0.1', port='19530', collection_name=MILVUS_COLLECTION_NAME))\n",
				"    .output('video_id')\n",
				")"
			]
		},
		{
			"cell_type": "code",
			"execution_count": 10,
			"id": "c6bc57c3",
			"metadata": {},
			"outputs": [
				{
					"name": "stderr",
					"output_type": "stream",
					"text": [
						"2025-04-12 17:18:57,508 - 15720230912 - node.py-node:167 - INFO: Begin to run Node-_input\n",
						"2025-04-12 17:18:57,508 - 15737057280 - node.py-node:167 - INFO: Begin to run Node-read_csv-0\n",
						"2025-04-12 17:18:57,509 - 15753883648 - node.py-node:167 - INFO: Begin to run Node-video-decode/ffmpeg-1\n",
						"2025-04-12 17:18:57,509 - 15720230912 - node.py-node:167 - INFO: Begin to run Node-video-text-embedding/clip4clip-2\n",
						"2025-04-12 17:18:57,510 - 15787536384 - node.py-node:167 - INFO: Begin to run Node-ann-insert/milvus-client-3\n",
						"2025-04-12 17:18:57,510 - 15770710016 - node.py-node:167 - INFO: Begin to run Node-_output\n"
					]
				}
			],
			"source": [
				"ret = DataCollection(twohee_load_videos_pipeline(CSV_LOADER_FILE))"
			]
		},
		{
			"cell_type": "code",
			"execution_count": 12,
			"id": "06bb7c54",
			"metadata": {},
			"outputs": [],
			"source": [
				"# Query the collection"
			]
		},
		{
			"cell_type": "code",
			"execution_count": 3,
			"id": "81c97c60",
			"metadata": {},
			"outputs": [],
			"source": [
				"def read_csv_searcher(csv_file):\n",
				"    import csv\n",
				"    with open(csv_file, 'r', encoding='utf-8-sig') as f:\n",
				"        data = csv.DictReader(f)\n",
				"        for line in data:\n",
				"            yield int(line['video_id'][len('video'):]), line['sentence']\n",
				"            \n",
				"twohee_search_videos_pipeline = (\n",
				"    pipe.input('csv_file')\n",
				"    .flat_map('csv_file', ('video_id', 'sentence'), read_csv_searcher)\n",
				"    .map('sentence', 'vec', ops.video_text_embedding.clip4clip(model_name='clip_vit_b32', modality='text', device='mps'))\n",
				"    .map('vec', 'top10_raw_res', \n",
				"         ops.ann_search.milvus_client(\n",
				"             host='127.0.0.1', port='19530', collection_name=MILVUS_COLLECTION_NAME, limit=10)\n",
				"        )\n",
				"    .map('top10_raw_res', ('top1', 'top5', 'top10'), lambda x: (x[:1], x[:5], x[:10]))\n",
				"    .map('video_id', 'ground_truth', lambda x: x)\n",
				"    .output('video_id', 'sentence', 'ground_truth', 'top1', 'top5', 'top10', 'top10_raw_res')\n",
				")"
			]
		},
		{
			"cell_type": "code",
			"execution_count": 13,
			"id": "7c5d841e",
			"metadata": {},
			"outputs": [],
			"source": [
				"# Load the MSR_VTT annotation JSON file\n",
				"with open(MSR_VTT_ANNOTATION_JSON, 'r') as f:\n",
				"    annotations = json.load(f)\n",
				"\n",
				"# Extract video_id and sentence columns\n",
				"annotations_df = pd.DataFrame([\n",
				"    {'video_id': ann['image_id'], 'sentence': ann['caption']}\n",
				"    for ann in annotations['annotations']\n",
				"])\n",
				"\n",
				"# select distinct video_ids\n",
				"anno_df_single_vids = annotations_df.drop_duplicates(subset=['video_id'])\n",
				"anno_df_single_vids.head(10_000).to_csv(CSV_SEARCH_DISTINCT, index=False)\n",
				"\n",
				"# print(annotations_df.head())\n",
				"annotations_df.to_csv(CSV_SEARCH_FILE_2, index=False)"
			]
		},
		{
			"cell_type": "code",
			"execution_count": 14,
			"id": "3d8e49f3",
			"metadata": {},
			"outputs": [
				{
					"name": "stderr",
					"output_type": "stream",
					"text": [
						"2025-04-15 13:02:42,362 - 16185847808 - node.py-node:167 - INFO: Begin to run Node-_input\n"
					]
				},
				{
					"name": "stdout",
					"output_type": "stream",
					"text": [
						"Num entries in search csv: 10000\n"
					]
				}
			],
			"source": [
				"print(\"Num entries in search csv: \" + str(len(open(CSV_SEARCH_DISTINCT).readlines()) - 1))\n",
				"res = DataCollection(twohee_search_videos_pipeline(CSV_SEARCH_DISTINCT))"
			]
		},
		{
			"cell_type": "code",
			"execution_count": 15,
			"id": "9d7fe91c",
			"metadata": {},
			"outputs": [
				{
					"data": {
						"text/html": [
							"<table style=\"border-collapse: collapse;\"><tr><th style=\"text-align: center; font-size: 130%; border: none;\">video_id</th> <th style=\"text-align: center; font-size: 130%; border: none;\">sentence</th> <th style=\"text-align: center; font-size: 130%; border: none;\">ground_truth</th> <th style=\"text-align: center; font-size: 130%; border: none;\">top1</th> <th style=\"text-align: center; font-size: 130%; border: none;\">top5</th> <th style=\"text-align: center; font-size: 130%; border: none;\">top10</th> <th style=\"text-align: center; font-size: 130%; border: none;\">top10_raw_res</th></tr>\n",
							"<tr><td style=\"text-align: center; vertical-align: top; border-right: solid 1px #D3D3D3; border-left: solid 1px #D3D3D3; \">2960</td><td style=\"text-align: center; vertical-align: top; border-right: solid 1px #D3D3D3; border-left: solid 1px #D3D3D3; \">a cartoon animals runs through an ice cave in a video game</td><td style=\"text-align: center; vertical-align: top; border-right: solid 1px #D3D3D3; border-left: solid 1px #D3D3D3; \">2960</td><td style=\"text-align: left; vertical-align: top; border-right: solid 1px #D3D3D3; border-left: solid 1px #D3D3D3; \">[[8203, 1.3518543243408203]] len=1</td><td style=\"text-align: left; vertical-align: top; border-right: solid 1px #D3D3D3; border-left: solid 1px #D3D3D3; \">[[8203, 1.3518543243408203],[2960, 1.3743010759353638],[3121, 1.458393931388855],[1742, 1.4631893634796143],...] len=5</td><td style=\"text-align: left; vertical-align: top; border-right: solid 1px #D3D3D3; border-left: solid 1px #D3D3D3; \">[[8203, 1.3518543243408203],[2960, 1.3743010759353638],[3121, 1.458393931388855],[1742, 1.4631893634796143],...] len=10</td><td style=\"text-align: left; vertical-align: top; border-right: solid 1px #D3D3D3; border-left: solid 1px #D3D3D3; \">[[8203, 1.3518543243408203],[2960, 1.3743010759353638],[3121, 1.458393931388855],[1742, 1.4631893634796143],...] len=10</td></tr>\n",
							"<tr><td style=\"text-align: center; vertical-align: top; border-right: solid 1px #D3D3D3; border-left: solid 1px #D3D3D3; \">2636</td><td style=\"text-align: center; vertical-align: top; border-right: solid 1px #D3D3D3; border-left: solid 1px #D3D3D3; \">a man gets hit in the face with a chair during a wwf wrestling match</td><td style=\"text-align: center; vertical-align: top; border-right: solid 1px #D3D3D3; border-left: solid 1px #D3D3D3; \">2636</td><td style=\"text-align: left; vertical-align: top; border-right: solid 1px #D3D3D3; border-left: solid 1px #D3D3D3; \">[[2636, 1.3602731227874756]] len=1</td><td style=\"text-align: left; vertical-align: top; border-right: solid 1px #D3D3D3; border-left: solid 1px #D3D3D3; \">[[2636, 1.3602731227874756],[4774, 1.3791619539260864],[9847, 1.3864306211471558],[9636, 1.399008870124817],...] len=5</td><td style=\"text-align: left; vertical-align: top; border-right: solid 1px #D3D3D3; border-left: solid 1px #D3D3D3; \">[[2636, 1.3602731227874756],[4774, 1.3791619539260864],[9847, 1.3864306211471558],[9636, 1.399008870124817],...] len=10</td><td style=\"text-align: left; vertical-align: top; border-right: solid 1px #D3D3D3; border-left: solid 1px #D3D3D3; \">[[2636, 1.3602731227874756],[4774, 1.3791619539260864],[9847, 1.3864306211471558],[9636, 1.399008870124817],...] len=10</td></tr>\n",
							"<tr><td style=\"text-align: center; vertical-align: top; border-right: solid 1px #D3D3D3; border-left: solid 1px #D3D3D3; \">4311</td><td style=\"text-align: center; vertical-align: top; border-right: solid 1px #D3D3D3; border-left: solid 1px #D3D3D3; \">a person is explaining something</td><td style=\"text-align: center; vertical-align: top; border-right: solid 1px #D3D3D3; border-left: solid 1px #D3D3D3; \">4311</td><td style=\"text-align: left; vertical-align: top; border-right: solid 1px #D3D3D3; border-left: solid 1px #D3D3D3; \">[[4242, 1.492103934288025]] len=1</td><td style=\"text-align: left; vertical-align: top; border-right: solid 1px #D3D3D3; border-left: solid 1px #D3D3D3; \">[[4242, 1.492103934288025],[6415, 1.5018973350524902],[8060, 1.5108928680419922],[5002, 1.51104736328125],...] len=5</td><td style=\"text-align: left; vertical-align: top; border-right: solid 1px #D3D3D3; border-left: solid 1px #D3D3D3; \">[[4242, 1.492103934288025],[6415, 1.5018973350524902],[8060, 1.5108928680419922],[5002, 1.51104736328125],...] len=10</td><td style=\"text-align: left; vertical-align: top; border-right: solid 1px #D3D3D3; border-left: solid 1px #D3D3D3; \">[[4242, 1.492103934288025],[6415, 1.5018973350524902],[8060, 1.5108928680419922],[5002, 1.51104736328125],...] len=10</td></tr>\n",
							"<tr><td style=\"text-align: center; vertical-align: top; border-right: solid 1px #D3D3D3; border-left: solid 1px #D3D3D3; \">1844</td><td style=\"text-align: center; vertical-align: top; border-right: solid 1px #D3D3D3; border-left: solid 1px #D3D3D3; \">a man conducting a science experiment</td><td style=\"text-align: center; vertical-align: top; border-right: solid 1px #D3D3D3; border-left: solid 1px #D3D3D3; \">1844</td><td style=\"text-align: left; vertical-align: top; border-right: solid 1px #D3D3D3; border-left: solid 1px #D3D3D3; \">[[641, 1.3759840726852417]] len=1</td><td style=\"text-align: left; vertical-align: top; border-right: solid 1px #D3D3D3; border-left: solid 1px #D3D3D3; \">[[641, 1.3759840726852417],[9176, 1.4121618270874023],[7282, 1.4177645444869995],[1844, 1.419187307357788],...] len=5</td><td style=\"text-align: left; vertical-align: top; border-right: solid 1px #D3D3D3; border-left: solid 1px #D3D3D3; \">[[641, 1.3759840726852417],[9176, 1.4121618270874023],[7282, 1.4177645444869995],[1844, 1.419187307357788],...] len=10</td><td style=\"text-align: left; vertical-align: top; border-right: solid 1px #D3D3D3; border-left: solid 1px #D3D3D3; \">[[641, 1.3759840726852417],[9176, 1.4121618270874023],[7282, 1.4177645444869995],[1844, 1.419187307357788],...] len=10</td></tr>\n",
							"<tr><td style=\"text-align: center; vertical-align: top; border-right: solid 1px #D3D3D3; border-left: solid 1px #D3D3D3; \">2213</td><td style=\"text-align: center; vertical-align: top; border-right: solid 1px #D3D3D3; border-left: solid 1px #D3D3D3; \">a couple of men wrestling on the ground</td><td style=\"text-align: center; vertical-align: top; border-right: solid 1px #D3D3D3; border-left: solid 1px #D3D3D3; \">2213</td><td style=\"text-align: left; vertical-align: top; border-right: solid 1px #D3D3D3; border-left: solid 1px #D3D3D3; \">[[4778, 1.414879322052002]] len=1</td><td style=\"text-align: left; vertical-align: top; border-right: solid 1px #D3D3D3; border-left: solid 1px #D3D3D3; \">[[4778, 1.414879322052002],[3685, 1.424682378768921],[5689, 1.4251071214675903],[5475, 1.4268649816513062],...] len=5</td><td style=\"text-align: left; vertical-align: top; border-right: solid 1px #D3D3D3; border-left: solid 1px #D3D3D3; \">[[4778, 1.414879322052002],[3685, 1.424682378768921],[5689, 1.4251071214675903],[5475, 1.4268649816513062],...] len=10</td><td style=\"text-align: left; vertical-align: top; border-right: solid 1px #D3D3D3; border-left: solid 1px #D3D3D3; \">[[4778, 1.414879322052002],[3685, 1.424682378768921],[5689, 1.4251071214675903],[5475, 1.4268649816513062],...] len=10</td></tr></table>"
						],
						"text/plain": [
							"<IPython.core.display.HTML object>"
						]
					},
					"metadata": {},
					"output_type": "display_data"
				}
			],
			"source": [
				"res.show()"
			]
		},
		{
			"cell_type": "code",
			"execution_count": 16,
			"id": "b8679cd9",
			"metadata": {},
			"outputs": [
				{
					"data": {
						"application/vnd.microsoft.datawrangler.viewer.v0+json": {
							"columns": [
								{
									"name": "index",
									"rawType": "int64",
									"type": "integer"
								},
								{
									"name": "video_id",
									"rawType": "int64",
									"type": "integer"
								},
								{
									"name": "sentence",
									"rawType": "object",
									"type": "string"
								},
								{
									"name": "ground_truth",
									"rawType": "int64",
									"type": "integer"
								},
								{
									"name": "top1",
									"rawType": "object",
									"type": "unknown"
								},
								{
									"name": "top5",
									"rawType": "object",
									"type": "unknown"
								},
								{
									"name": "top10",
									"rawType": "object",
									"type": "unknown"
								},
								{
									"name": "top10_raw_res",
									"rawType": "object",
									"type": "unknown"
								}
							],
							"conversionMethod": "pd.DataFrame",
							"ref": "d3405dce-e0dd-4de2-a079-aae831f9340a",
							"rows": [
								[
									"0",
									"2960",
									"a cartoon animals runs through an ice cave in a video game",
									"2960",
									"[[8203, 1.3518543243408203]]",
									"[[8203, 1.3518543243408203], [2960, 1.3743010759353638], [3121, 1.458393931388855], [1742, 1.4631893634796143], [2874, 1.4642057418823242]]",
									"[[8203, 1.3518543243408203], [2960, 1.3743010759353638], [3121, 1.458393931388855], [1742, 1.4631893634796143], [2874, 1.4642057418823242], [4462, 1.468991756439209], [7821, 1.4724347591400146], [5744, 1.476823329925537], [8567, 1.4791474342346191], [3713, 1.4855239391326904]]",
									"[[8203, 1.3518543243408203], [2960, 1.3743010759353638], [3121, 1.458393931388855], [1742, 1.4631893634796143], [2874, 1.4642057418823242], [4462, 1.468991756439209], [7821, 1.4724347591400146], [5744, 1.476823329925537], [8567, 1.4791474342346191], [3713, 1.4855239391326904]]"
								],
								[
									"1",
									"2636",
									"a man gets hit in the face with a chair during a wwf wrestling match",
									"2636",
									"[[2636, 1.3602731227874756]]",
									"[[2636, 1.3602731227874756], [4774, 1.3791619539260864], [9847, 1.3864306211471558], [9636, 1.399008870124817], [8279, 1.408244013786316]]",
									"[[2636, 1.3602731227874756], [4774, 1.3791619539260864], [9847, 1.3864306211471558], [9636, 1.399008870124817], [8279, 1.408244013786316], [9166, 1.4213165044784546], [1007, 1.4229460954666138], [1761, 1.4317041635513306], [4942, 1.4318201541900635], [4778, 1.4341152906417847]]",
									"[[2636, 1.3602731227874756], [4774, 1.3791619539260864], [9847, 1.3864306211471558], [9636, 1.399008870124817], [8279, 1.408244013786316], [9166, 1.4213165044784546], [1007, 1.4229460954666138], [1761, 1.4317041635513306], [4942, 1.4318201541900635], [4778, 1.4341152906417847]]"
								],
								[
									"2",
									"4311",
									"a person is explaining something",
									"4311",
									"[[4242, 1.492103934288025]]",
									"[[4242, 1.492103934288025], [6415, 1.5018973350524902], [8060, 1.5108928680419922], [5002, 1.51104736328125], [5671, 1.5171959400177002]]",
									"[[4242, 1.492103934288025], [6415, 1.5018973350524902], [8060, 1.5108928680419922], [5002, 1.51104736328125], [5671, 1.5171959400177002], [878, 1.5178008079528809], [2298, 1.5225056409835815], [8386, 1.524167776107788], [6104, 1.5245473384857178], [8416, 1.5246002674102783]]",
									"[[4242, 1.492103934288025], [6415, 1.5018973350524902], [8060, 1.5108928680419922], [5002, 1.51104736328125], [5671, 1.5171959400177002], [878, 1.5178008079528809], [2298, 1.5225056409835815], [8386, 1.524167776107788], [6104, 1.5245473384857178], [8416, 1.5246002674102783]]"
								],
								[
									"3",
									"1844",
									"a man conducting a science experiment",
									"1844",
									"[[641, 1.3759840726852417]]",
									"[[641, 1.3759840726852417], [9176, 1.4121618270874023], [7282, 1.4177645444869995], [1844, 1.419187307357788], [9671, 1.4200904369354248]]",
									"[[641, 1.3759840726852417], [9176, 1.4121618270874023], [7282, 1.4177645444869995], [1844, 1.419187307357788], [9671, 1.4200904369354248], [2138, 1.4204106330871582], [9699, 1.4225960969924927], [8221, 1.4277993440628052], [1395, 1.4384760856628418], [8566, 1.4460407495498657]]",
									"[[641, 1.3759840726852417], [9176, 1.4121618270874023], [7282, 1.4177645444869995], [1844, 1.419187307357788], [9671, 1.4200904369354248], [2138, 1.4204106330871582], [9699, 1.4225960969924927], [8221, 1.4277993440628052], [1395, 1.4384760856628418], [8566, 1.4460407495498657]]"
								],
								[
									"4",
									"2213",
									"a couple of men wrestling on the ground",
									"2213",
									"[[4778, 1.414879322052002]]",
									"[[4778, 1.414879322052002], [3685, 1.424682378768921], [5689, 1.4251071214675903], [5475, 1.4268649816513062], [5123, 1.4273970127105713]]",
									"[[4778, 1.414879322052002], [3685, 1.424682378768921], [5689, 1.4251071214675903], [5475, 1.4268649816513062], [5123, 1.4273970127105713], [600, 1.4283043146133423], [7258, 1.4295291900634766], [708, 1.4310905933380127], [8603, 1.4312472343444824], [3331, 1.4320833683013916]]",
									"[[4778, 1.414879322052002], [3685, 1.424682378768921], [5689, 1.4251071214675903], [5475, 1.4268649816513062], [5123, 1.4273970127105713], [600, 1.4283043146133423], [7258, 1.4295291900634766], [708, 1.4310905933380127], [8603, 1.4312472343444824], [3331, 1.4320833683013916]]"
								],
								[
									"5",
									"3513",
									"a clip of two women from a comedic television show",
									"3513",
									"[[4323, 1.3923832178115845]]",
									"[[4323, 1.3923832178115845], [3513, 1.4116039276123047], [3168, 1.4266762733459473], [2753, 1.4513869285583496], [6211, 1.4546564817428589]]",
									"[[4323, 1.3923832178115845], [3513, 1.4116039276123047], [3168, 1.4266762733459473], [2753, 1.4513869285583496], [6211, 1.4546564817428589], [8637, 1.4581763744354248], [1405, 1.4611001014709473], [2180, 1.4627326726913452], [7493, 1.4634262323379517], [5685, 1.4635212421417236]]",
									"[[4323, 1.3923832178115845], [3513, 1.4116039276123047], [3168, 1.4266762733459473], [2753, 1.4513869285583496], [6211, 1.4546564817428589], [8637, 1.4581763744354248], [1405, 1.4611001014709473], [2180, 1.4627326726913452], [7493, 1.4634262323379517], [5685, 1.4635212421417236]]"
								],
								[
									"6",
									"2218",
									"a boy wears a black tie",
									"2218",
									"[[2218, 1.427466630935669]]",
									"[[2218, 1.427466630935669], [7073, 1.4599618911743164], [1770, 1.4618561267852783], [3055, 1.4770432710647583], [6742, 1.4777824878692627]]",
									"[[2218, 1.427466630935669], [7073, 1.4599618911743164], [1770, 1.4618561267852783], [3055, 1.4770432710647583], [6742, 1.4777824878692627], [3432, 1.4782015085220337], [8964, 1.4843976497650146], [1671, 1.4860724210739136], [5018, 1.488728404045105], [2290, 1.4893897771835327]]",
									"[[2218, 1.427466630935669], [7073, 1.4599618911743164], [1770, 1.4618561267852783], [3055, 1.4770432710647583], [6742, 1.4777824878692627], [3432, 1.4782015085220337], [8964, 1.4843976497650146], [1671, 1.4860724210739136], [5018, 1.488728404045105], [2290, 1.4893897771835327]]"
								],
								[
									"7",
									"1974",
									"a band is singing for a music video",
									"1974",
									"[[2081, 1.424072265625]]",
									"[[2081, 1.424072265625], [5803, 1.4309487342834473], [1332, 1.4462640285491943], [8978, 1.4463099241256714], [983, 1.4464741945266724]]",
									"[[2081, 1.424072265625], [5803, 1.4309487342834473], [1332, 1.4462640285491943], [8978, 1.4463099241256714], [983, 1.4464741945266724], [9461, 1.4511399269104004], [3264, 1.4523193836212158], [8755, 1.457342505455017], [9892, 1.4588514566421509], [9216, 1.4602863788604736]]",
									"[[2081, 1.424072265625], [5803, 1.4309487342834473], [1332, 1.4462640285491943], [8978, 1.4463099241256714], [983, 1.4464741945266724], [9461, 1.4511399269104004], [3264, 1.4523193836212158], [8755, 1.457342505455017], [9892, 1.4588514566421509], [9216, 1.4602863788604736]]"
								],
								[
									"8",
									"2755",
									"a child is singing a song",
									"2755",
									"[[7908, 1.4248530864715576]]",
									"[[7908, 1.4248530864715576], [9879, 1.4248974323272705], [2372, 1.4293935298919678], [530, 1.4320873022079468], [2965, 1.4379887580871582]]",
									"[[7908, 1.4248530864715576], [9879, 1.4248974323272705], [2372, 1.4293935298919678], [530, 1.4320873022079468], [2965, 1.4379887580871582], [162, 1.4423986673355103], [1352, 1.4467483758926392], [2115, 1.4518499374389648], [1161, 1.4556939601898193], [1635, 1.4567303657531738]]",
									"[[7908, 1.4248530864715576], [9879, 1.4248974323272705], [2372, 1.4293935298919678], [530, 1.4320873022079468], [2965, 1.4379887580871582], [162, 1.4423986673355103], [1352, 1.4467483758926392], [2115, 1.4518499374389648], [1161, 1.4556939601898193], [1635, 1.4567303657531738]]"
								],
								[
									"9",
									"3597",
									"a basketball game is played",
									"3597",
									"[[4561, 1.4355976581573486]]",
									"[[4561, 1.4355976581573486], [9013, 1.4391863346099854], [8668, 1.4393125772476196], [4214, 1.4400634765625], [1522, 1.4403190612792969]]",
									"[[4561, 1.4355976581573486], [9013, 1.4391863346099854], [8668, 1.4393125772476196], [4214, 1.4400634765625], [1522, 1.4403190612792969], [4177, 1.4413299560546875], [7763, 1.442987084388733], [8610, 1.4456138610839844], [7710, 1.447242021560669], [2967, 1.4479036331176758]]",
									"[[4561, 1.4355976581573486], [9013, 1.4391863346099854], [8668, 1.4393125772476196], [4214, 1.4400634765625], [1522, 1.4403190612792969], [4177, 1.4413299560546875], [7763, 1.442987084388733], [8610, 1.4456138610839844], [7710, 1.447242021560669], [2967, 1.4479036331176758]]"
								],
								[
									"10",
									"3830",
									"a cartoon dog is holding binoculars",
									"3830",
									"[[3830, 1.357851505279541]]",
									"[[3830, 1.357851505279541], [9734, 1.362546443939209], [7338, 1.3717305660247803], [3777, 1.4237914085388184], [3842, 1.423799753189087]]",
									"[[3830, 1.357851505279541], [9734, 1.362546443939209], [7338, 1.3717305660247803], [3777, 1.4237914085388184], [3842, 1.423799753189087], [376, 1.4315388202667236], [3907, 1.4367645978927612], [5839, 1.4461567401885986], [9580, 1.4516704082489014], [2193, 1.455346703529358]]",
									"[[3830, 1.357851505279541], [9734, 1.362546443939209], [7338, 1.3717305660247803], [3777, 1.4237914085388184], [3842, 1.423799753189087], [376, 1.4315388202667236], [3907, 1.4367645978927612], [5839, 1.4461567401885986], [9580, 1.4516704082489014], [2193, 1.455346703529358]]"
								],
								[
									"11",
									"5249",
									"a band is performing a song on stage",
									"5249",
									"[[4267, 1.4152029752731323]]",
									"[[4267, 1.4152029752731323], [8324, 1.4244630336761475], [8926, 1.4348379373550415], [1586, 1.4359211921691895], [9243, 1.4376375675201416]]",
									"[[4267, 1.4152029752731323], [8324, 1.4244630336761475], [8926, 1.4348379373550415], [1586, 1.4359211921691895], [9243, 1.4376375675201416], [964, 1.438739538192749], [7461, 1.4387753009796143], [565, 1.4415771961212158], [4314, 1.4425928592681885], [8925, 1.4428253173828125]]",
									"[[4267, 1.4152029752731323], [8324, 1.4244630336761475], [8926, 1.4348379373550415], [1586, 1.4359211921691895], [9243, 1.4376375675201416], [964, 1.438739538192749], [7461, 1.4387753009796143], [565, 1.4415771961212158], [4314, 1.4425928592681885], [8925, 1.4428253173828125]]"
								],
								[
									"12",
									"923",
									"a cartoon character flies around",
									"923",
									"[[6331, 1.434370756149292]]",
									"[[6331, 1.434370756149292], [9116, 1.450437307357788], [9981, 1.4509658813476562], [9584, 1.4525697231292725], [9133, 1.4535002708435059]]",
									"[[6331, 1.434370756149292], [9116, 1.450437307357788], [9981, 1.4509658813476562], [9584, 1.4525697231292725], [9133, 1.4535002708435059], [5362, 1.457118034362793], [923, 1.4593391418457031], [9772, 1.4614685773849487], [7841, 1.4645692110061646], [9990, 1.4646430015563965]]",
									"[[6331, 1.434370756149292], [9116, 1.450437307357788], [9981, 1.4509658813476562], [9584, 1.4525697231292725], [9133, 1.4535002708435059], [5362, 1.457118034362793], [923, 1.4593391418457031], [9772, 1.4614685773849487], [7841, 1.4645692110061646], [9990, 1.4646430015563965]]"
								],
								[
									"13",
									"6968",
									"a girl is throwing away folded clothes",
									"6968",
									"[[8987, 1.429809331893921]]",
									"[[8987, 1.429809331893921], [661, 1.4398291110992432], [8635, 1.4410640001296997], [8550, 1.4466547966003418], [2204, 1.4480656385421753]]",
									"[[8987, 1.429809331893921], [661, 1.4398291110992432], [8635, 1.4410640001296997], [8550, 1.4466547966003418], [2204, 1.4480656385421753], [1047, 1.4528590440750122], [1853, 1.4566010236740112], [9250, 1.4639012813568115], [6968, 1.4693796634674072], [6903, 1.4705615043640137]]",
									"[[8987, 1.429809331893921], [661, 1.4398291110992432], [8635, 1.4410640001296997], [8550, 1.4466547966003418], [2204, 1.4480656385421753], [1047, 1.4528590440750122], [1853, 1.4566010236740112], [9250, 1.4639012813568115], [6968, 1.4693796634674072], [6903, 1.4705615043640137]]"
								],
								[
									"14",
									"2201",
									"a  cartoon star person",
									"2201",
									"[[2201, 1.4059966802597046]]",
									"[[2201, 1.4059966802597046], [9085, 1.4064797163009644], [1920, 1.4278442859649658], [8615, 1.4314035177230835], [5080, 1.439255714416504]]",
									"[[2201, 1.4059966802597046], [9085, 1.4064797163009644], [1920, 1.4278442859649658], [8615, 1.4314035177230835], [5080, 1.439255714416504], [6137, 1.4406874179840088], [521, 1.4483264684677124], [7324, 1.4555106163024902], [711, 1.4584834575653076], [5894, 1.4620521068572998]]",
									"[[2201, 1.4059966802597046], [9085, 1.4064797163009644], [1920, 1.4278442859649658], [8615, 1.4314035177230835], [5080, 1.439255714416504], [6137, 1.4406874179840088], [521, 1.4483264684677124], [7324, 1.4555106163024902], [711, 1.4584834575653076], [5894, 1.4620521068572998]]"
								],
								[
									"15",
									"106",
									"7 kids on a back deck at a party singing about something",
									"106",
									"[[106, 1.3398956060409546]]",
									"[[106, 1.3398956060409546], [3384, 1.3442802429199219], [3570, 1.424397587776184], [5156, 1.4297407865524292], [3295, 1.4477109909057617]]",
									"[[106, 1.3398956060409546], [3384, 1.3442802429199219], [3570, 1.424397587776184], [5156, 1.4297407865524292], [3295, 1.4477109909057617], [9101, 1.4584314823150635], [3449, 1.4646856784820557], [5720, 1.4733350276947021], [6341, 1.4781312942504883], [8556, 1.4870407581329346]]",
									"[[106, 1.3398956060409546], [3384, 1.3442802429199219], [3570, 1.424397587776184], [5156, 1.4297407865524292], [3295, 1.4477109909057617], [9101, 1.4584314823150635], [3449, 1.4646856784820557], [5720, 1.4733350276947021], [6341, 1.4781312942504883], [8556, 1.4870407581329346]]"
								],
								[
									"16",
									"1835",
									"70 s  band performing live",
									"1835",
									"[[4267, 1.339343547821045]]",
									"[[4267, 1.339343547821045], [869, 1.368387222290039], [5759, 1.3808794021606445], [2482, 1.3887667655944824], [8324, 1.3897080421447754]]",
									"[[4267, 1.339343547821045], [869, 1.368387222290039], [5759, 1.3808794021606445], [2482, 1.3887667655944824], [8324, 1.3897080421447754], [2504, 1.3930401802062988], [8926, 1.3986847400665283], [4710, 1.4016140699386597], [4482, 1.407114028930664], [1835, 1.4080601930618286]]",
									"[[4267, 1.339343547821045], [869, 1.368387222290039], [5759, 1.3808794021606445], [2482, 1.3887667655944824], [8324, 1.3897080421447754], [2504, 1.3930401802062988], [8926, 1.3986847400665283], [4710, 1.4016140699386597], [4482, 1.407114028930664], [1835, 1.4080601930618286]]"
								],
								[
									"17",
									"349",
									"a  bunch of people on tiny motorcycles in a race",
									"349",
									"[[374, 1.3365410566329956]]",
									"[[374, 1.3365410566329956], [349, 1.3426051139831543], [1707, 1.372531771659851], [3917, 1.3842867612838745], [3080, 1.3854882717132568]]",
									"[[374, 1.3365410566329956], [349, 1.3426051139831543], [1707, 1.372531771659851], [3917, 1.3842867612838745], [3080, 1.3854882717132568], [3016, 1.4207731485366821], [6653, 1.4281854629516602], [9017, 1.429225206375122], [7307, 1.429569125175476], [1795, 1.4485414028167725]]",
									"[[374, 1.3365410566329956], [349, 1.3426051139831543], [1707, 1.372531771659851], [3917, 1.3842867612838745], [3080, 1.3854882717132568], [3016, 1.4207731485366821], [6653, 1.4281854629516602], [9017, 1.429225206375122], [7307, 1.429569125175476], [1795, 1.4485414028167725]]"
								],
								[
									"18",
									"1968",
									"a  boy jumps on a trampoline",
									"1968",
									"[[4748, 1.3673431873321533]]",
									"[[4748, 1.3673431873321533], [9276, 1.3703559637069702], [1272, 1.3776899576187134], [6532, 1.386167049407959], [3798, 1.3891355991363525]]",
									"[[4748, 1.3673431873321533], [9276, 1.3703559637069702], [1272, 1.3776899576187134], [6532, 1.386167049407959], [3798, 1.3891355991363525], [5365, 1.3927271366119385], [8961, 1.3957240581512451], [7004, 1.401282787322998], [4930, 1.4041229486465454], [4740, 1.4059205055236816]]",
									"[[4748, 1.3673431873321533], [9276, 1.3703559637069702], [1272, 1.3776899576187134], [6532, 1.386167049407959], [3798, 1.3891355991363525], [5365, 1.3927271366119385], [8961, 1.3957240581512451], [7004, 1.401282787322998], [4930, 1.4041229486465454], [4740, 1.4059205055236816]]"
								],
								[
									"19",
									"6541",
									"a  comparison of two opposing team football athletes",
									"6541",
									"[[1949, 1.436827540397644]]",
									"[[1949, 1.436827540397644], [778, 1.441367506980896], [6541, 1.4483458995819092], [1342, 1.4555213451385498], [7322, 1.4569069147109985]]",
									"[[1949, 1.436827540397644], [778, 1.441367506980896], [6541, 1.4483458995819092], [1342, 1.4555213451385498], [7322, 1.4569069147109985], [3894, 1.4592621326446533], [5530, 1.4610825777053833], [1211, 1.4619415998458862], [3018, 1.462916374206543], [6963, 1.4634461402893066]]",
									"[[1949, 1.436827540397644], [778, 1.441367506980896], [6541, 1.4483458995819092], [1342, 1.4555213451385498], [7322, 1.4569069147109985], [3894, 1.4592621326446533], [5530, 1.4610825777053833], [1211, 1.4619415998458862], [3018, 1.462916374206543], [6963, 1.4634461402893066]]"
								],
								[
									"20",
									"3615",
									"a  and  tasty and delicious dish",
									"3615",
									"[[1213, 1.4532406330108643]]",
									"[[1213, 1.4532406330108643], [9748, 1.4547117948532104], [274, 1.45780348777771], [4042, 1.460337519645691], [1961, 1.462545394897461]]",
									"[[1213, 1.4532406330108643], [9748, 1.4547117948532104], [274, 1.45780348777771], [4042, 1.460337519645691], [1961, 1.462545394897461], [1777, 1.4652044773101807], [3971, 1.4663838148117065], [4946, 1.4671213626861572], [4424, 1.4676748514175415], [7434, 1.4687442779541016]]",
									"[[1213, 1.4532406330108643], [9748, 1.4547117948532104], [274, 1.45780348777771], [4042, 1.460337519645691], [1961, 1.462545394897461], [1777, 1.4652044773101807], [3971, 1.4663838148117065], [4946, 1.4671213626861572], [4424, 1.4676748514175415], [7434, 1.4687442779541016]]"
								],
								[
									"21",
									"1217",
									"a  couple photographs of a model",
									"1217",
									"[[7301, 1.3895790576934814]]",
									"[[7301, 1.3895790576934814], [2187, 1.3992974758148193], [7195, 1.4095261096954346], [1979, 1.411276936531067], [5157, 1.4141559600830078]]",
									"[[7301, 1.3895790576934814], [2187, 1.3992974758148193], [7195, 1.4095261096954346], [1979, 1.411276936531067], [5157, 1.4141559600830078], [5556, 1.4156266450881958], [1650, 1.4157869815826416], [1774, 1.4179141521453857], [3301, 1.4185972213745117], [132, 1.4206401109695435]]",
									"[[7301, 1.3895790576934814], [2187, 1.3992974758148193], [7195, 1.4095261096954346], [1979, 1.411276936531067], [5157, 1.4141559600830078], [5556, 1.4156266450881958], [1650, 1.4157869815826416], [1774, 1.4179141521453857], [3301, 1.4185972213745117], [132, 1.4206401109695435]]"
								],
								[
									"22",
									"4419",
									"a  larger woman shows off her red dress while standing on a pier",
									"4419",
									"[[4419, 1.2807081937789917]]",
									"[[4419, 1.2807081937789917], [3870, 1.439632773399353], [324, 1.4463167190551758], [4834, 1.4505621194839478], [8189, 1.5024590492248535]]",
									"[[4419, 1.2807081937789917], [3870, 1.439632773399353], [324, 1.4463167190551758], [4834, 1.4505621194839478], [8189, 1.5024590492248535], [7195, 1.5180652141571045], [8966, 1.5214877128601074], [6814, 1.525911808013916], [8286, 1.5399104356765747], [7803, 1.5441429615020752]]",
									"[[4419, 1.2807081937789917], [3870, 1.439632773399353], [324, 1.4463167190551758], [4834, 1.4505621194839478], [8189, 1.5024590492248535], [7195, 1.5180652141571045], [8966, 1.5214877128601074], [6814, 1.525911808013916], [8286, 1.5399104356765747], [7803, 1.5441429615020752]]"
								],
								[
									"23",
									"177",
									"a  guy flexing his arms",
									"177",
									"[[7609, 1.4377915859222412]]",
									"[[7609, 1.4377915859222412], [7034, 1.456383228302002], [3233, 1.4608112573623657], [2291, 1.4610743522644043], [8801, 1.4632394313812256]]",
									"[[7609, 1.4377915859222412], [7034, 1.456383228302002], [3233, 1.4608112573623657], [2291, 1.4610743522644043], [8801, 1.4632394313812256], [6220, 1.4745287895202637], [8552, 1.478211760520935], [7770, 1.4922252893447876], [9764, 1.4966943264007568], [2747, 1.4975004196166992]]",
									"[[7609, 1.4377915859222412], [7034, 1.456383228302002], [3233, 1.4608112573623657], [2291, 1.4610743522644043], [8801, 1.4632394313812256], [6220, 1.4745287895202637], [8552, 1.478211760520935], [7770, 1.4922252893447876], [9764, 1.4966943264007568], [2747, 1.4975004196166992]]"
								],
								[
									"24",
									"3932",
									"a  person is folding paper",
									"3932",
									"[[5898, 1.4298769235610962]]",
									"[[5898, 1.4298769235610962], [1514, 1.4343948364257812], [3216, 1.4345972537994385], [8852, 1.4366804361343384], [9401, 1.4381667375564575]]",
									"[[5898, 1.4298769235610962], [1514, 1.4343948364257812], [3216, 1.4345972537994385], [8852, 1.4366804361343384], [9401, 1.4381667375564575], [9952, 1.4402165412902832], [5099, 1.4447979927062988], [731, 1.444989562034607], [8002, 1.445070505142212], [4265, 1.4455591440200806]]",
									"[[5898, 1.4298769235610962], [1514, 1.4343948364257812], [3216, 1.4345972537994385], [8852, 1.4366804361343384], [9401, 1.4381667375564575], [9952, 1.4402165412902832], [5099, 1.4447979927062988], [731, 1.444989562034607], [8002, 1.445070505142212], [4265, 1.4455591440200806]]"
								],
								[
									"25",
									"24",
									"a  man is driving a car",
									"24",
									"[[8971, 1.4255331754684448]]",
									"[[8971, 1.4255331754684448], [6344, 1.4372854232788086], [1682, 1.43748140335083], [2947, 1.4378750324249268], [8455, 1.4431688785552979]]",
									"[[8971, 1.4255331754684448], [6344, 1.4372854232788086], [1682, 1.43748140335083], [2947, 1.4378750324249268], [8455, 1.4431688785552979], [7098, 1.4437733888626099], [5593, 1.4444879293441772], [189, 1.4473042488098145], [5733, 1.4489878416061401], [2393, 1.4499998092651367]]",
									"[[8971, 1.4255331754684448], [6344, 1.4372854232788086], [1682, 1.43748140335083], [2947, 1.4378750324249268], [8455, 1.4431688785552979], [7098, 1.4437733888626099], [5593, 1.4444879293441772], [189, 1.4473042488098145], [5733, 1.4489878416061401], [2393, 1.4499998092651367]]"
								],
								[
									"26",
									"5690",
									"a  man interviewing a woman",
									"5690",
									"[[2645, 1.3979370594024658]]",
									"[[2645, 1.3979370594024658], [5700, 1.4219863414764404], [5865, 1.4345955848693848], [5371, 1.4357502460479736], [6303, 1.4375196695327759]]",
									"[[2645, 1.3979370594024658], [5700, 1.4219863414764404], [5865, 1.4345955848693848], [5371, 1.4357502460479736], [6303, 1.4375196695327759], [5388, 1.4390130043029785], [7497, 1.4596120119094849], [6531, 1.4650226831436157], [5440, 1.4653010368347168], [8136, 1.4667952060699463]]",
									"[[2645, 1.3979370594024658], [5700, 1.4219863414764404], [5865, 1.4345955848693848], [5371, 1.4357502460479736], [6303, 1.4375196695327759], [5388, 1.4390130043029785], [7497, 1.4596120119094849], [6531, 1.4650226831436157], [5440, 1.4653010368347168], [8136, 1.4667952060699463]]"
								],
								[
									"27",
									"6568",
									"a  man and woman get romantic in this bud light ad",
									"6568",
									"[[6568, 1.4182064533233643]]",
									"[[6568, 1.4182064533233643], [6592, 1.4285533428192139], [4107, 1.439034104347229], [995, 1.4394097328186035], [1643, 1.4502443075180054]]",
									"[[6568, 1.4182064533233643], [6592, 1.4285533428192139], [4107, 1.439034104347229], [995, 1.4394097328186035], [1643, 1.4502443075180054], [8632, 1.4594318866729736], [6892, 1.4607481956481934], [1515, 1.46280837059021], [6443, 1.4772378206253052], [2098, 1.4779975414276123]]",
									"[[6568, 1.4182064533233643], [6592, 1.4285533428192139], [4107, 1.439034104347229], [995, 1.4394097328186035], [1643, 1.4502443075180054], [8632, 1.4594318866729736], [6892, 1.4607481956481934], [1515, 1.46280837059021], [6443, 1.4772378206253052], [2098, 1.4779975414276123]]"
								],
								[
									"28",
									"5658",
									"4th of july fireworks",
									"5658",
									"[[5925, 1.3896546363830566]]",
									"[[5925, 1.3896546363830566], [5366, 1.3900036811828613], [909, 1.3905190229415894], [8094, 1.415050983428955], [6012, 1.4170925617218018]]",
									"[[5925, 1.3896546363830566], [5366, 1.3900036811828613], [909, 1.3905190229415894], [8094, 1.415050983428955], [6012, 1.4170925617218018], [5658, 1.4171444177627563], [6910, 1.4217324256896973], [7761, 1.4272162914276123], [8798, 1.4287822246551514], [3518, 1.4334945678710938]]",
									"[[5925, 1.3896546363830566], [5366, 1.3900036811828613], [909, 1.3905190229415894], [8094, 1.415050983428955], [6012, 1.4170925617218018], [5658, 1.4171444177627563], [6910, 1.4217324256896973], [7761, 1.4272162914276123], [8798, 1.4287822246551514], [3518, 1.4334945678710938]]"
								],
								[
									"29",
									"1893",
									"4th of july fireworks",
									"1893",
									"[[5925, 1.3896546363830566]]",
									"[[5925, 1.3896546363830566], [5366, 1.3900036811828613], [909, 1.3905190229415894], [8094, 1.415050983428955], [6012, 1.4170925617218018]]",
									"[[5925, 1.3896546363830566], [5366, 1.3900036811828613], [909, 1.3905190229415894], [8094, 1.415050983428955], [6012, 1.4170925617218018], [5658, 1.4171444177627563], [6910, 1.4217324256896973], [7761, 1.4272162914276123], [8798, 1.4287822246551514], [3518, 1.4334945678710938]]",
									"[[5925, 1.3896546363830566], [5366, 1.3900036811828613], [909, 1.3905190229415894], [8094, 1.415050983428955], [6012, 1.4170925617218018], [5658, 1.4171444177627563], [6910, 1.4217324256896973], [7761, 1.4272162914276123], [8798, 1.4287822246551514], [3518, 1.4334945678710938]]"
								],
								[
									"30",
									"3494",
									"3d animation where boy tries to kiss sleeping girl",
									"3494",
									"[[3494, 1.3518959283828735]]",
									"[[3494, 1.3518959283828735], [9506, 1.4198521375656128], [7222, 1.4419928789138794], [7365, 1.4435954093933105], [7682, 1.4681663513183594]]",
									"[[3494, 1.3518959283828735], [9506, 1.4198521375656128], [7222, 1.4419928789138794], [7365, 1.4435954093933105], [7682, 1.4681663513183594], [8933, 1.4877312183380127], [8376, 1.4937374591827393], [3022, 1.5044753551483154], [3538, 1.515942096710205], [8911, 1.5216645002365112]]",
									"[[3494, 1.3518959283828735], [9506, 1.4198521375656128], [7222, 1.4419928789138794], [7365, 1.4435954093933105], [7682, 1.4681663513183594], [8933, 1.4877312183380127], [8376, 1.4937374591827393], [3022, 1.5044753551483154], [3538, 1.515942096710205], [8911, 1.5216645002365112]]"
								],
								[
									"31",
									"2134",
									"3d animation video clip with toddlers and a robot",
									"2134",
									"[[2134, 1.442845106124878]]",
									"[[2134, 1.442845106124878], [7365, 1.447589635848999], [267, 1.4579660892486572], [9092, 1.472709059715271], [3366, 1.4845904111862183]]",
									"[[2134, 1.442845106124878], [7365, 1.447589635848999], [267, 1.4579660892486572], [9092, 1.472709059715271], [3366, 1.4845904111862183], [8140, 1.4868249893188477], [4332, 1.4885424375534058], [9396, 1.4950909614562988], [7179, 1.4977748394012451], [5654, 1.5002307891845703]]",
									"[[2134, 1.442845106124878], [7365, 1.447589635848999], [267, 1.4579660892486572], [9092, 1.472709059715271], [3366, 1.4845904111862183], [8140, 1.4868249893188477], [4332, 1.4885424375534058], [9396, 1.4950909614562988], [7179, 1.4977748394012451], [5654, 1.5002307891845703]]"
								],
								[
									"32",
									"1361",
									"3d animation singing children s song",
									"1361",
									"[[7185, 1.4150010347366333]]",
									"[[7185, 1.4150010347366333], [711, 1.4167956113815308], [1501, 1.426674723625183], [9856, 1.430006742477417], [8140, 1.4406836032867432]]",
									"[[7185, 1.4150010347366333], [711, 1.4167956113815308], [1501, 1.426674723625183], [9856, 1.430006742477417], [8140, 1.4406836032867432], [8997, 1.4408504962921143], [1606, 1.4413163661956787], [1524, 1.446596384048462], [4332, 1.4477808475494385], [7136, 1.4483513832092285]]",
									"[[7185, 1.4150010347366333], [711, 1.4167956113815308], [1501, 1.426674723625183], [9856, 1.430006742477417], [8140, 1.4406836032867432], [8997, 1.4408504962921143], [1606, 1.4413163661956787], [1524, 1.446596384048462], [4332, 1.4477808475494385], [7136, 1.4483513832092285]]"
								],
								[
									"33",
									"2102",
									"3d animation sequence involving violence and blood",
									"2102",
									"[[1491, 1.3263278007507324]]",
									"[[1491, 1.3263278007507324], [2102, 1.3566583395004272], [232, 1.358022689819336], [6825, 1.363378643989563], [9035, 1.3691048622131348]]",
									"[[1491, 1.3263278007507324], [2102, 1.3566583395004272], [232, 1.358022689819336], [6825, 1.363378643989563], [9035, 1.3691048622131348], [4395, 1.3760733604431152], [4649, 1.3834141492843628], [7809, 1.3851925134658813], [3093, 1.3892500400543213], [9400, 1.3985300064086914]]",
									"[[1491, 1.3263278007507324], [2102, 1.3566583395004272], [232, 1.358022689819336], [6825, 1.363378643989563], [9035, 1.3691048622131348], [4395, 1.3760733604431152], [4649, 1.3834141492843628], [7809, 1.3851925134658813], [3093, 1.3892500400543213], [9400, 1.3985300064086914]]"
								],
								[
									"34",
									"3722",
									"3d animation of mother putting daughter to sleep",
									"3722",
									"[[3494, 1.4194645881652832]]",
									"[[3494, 1.4194645881652832], [7179, 1.4736621379852295], [800, 1.4794354438781738], [9506, 1.4866424798965454], [8933, 1.4931398630142212]]",
									"[[3494, 1.4194645881652832], [7179, 1.4736621379852295], [800, 1.4794354438781738], [9506, 1.4866424798965454], [8933, 1.4931398630142212], [3538, 1.497786045074463], [1068, 1.502171516418457], [8140, 1.5059351921081543], [7365, 1.5062922239303589], [1307, 1.5116935968399048]]",
									"[[3494, 1.4194645881652832], [7179, 1.4736621379852295], [800, 1.4794354438781738], [9506, 1.4866424798965454], [8933, 1.4931398630142212], [3538, 1.497786045074463], [1068, 1.502171516418457], [8140, 1.5059351921081543], [7365, 1.5062922239303589], [1307, 1.5116935968399048]]"
								],
								[
									"35",
									"2163",
									"3d animation of late night hosts david letterman and jay leno as well as a child watching them on 2 tvs",
									"2163",
									"[[4901, 1.371448278427124]]",
									"[[4901, 1.371448278427124], [2163, 1.379945993423462], [7754, 1.4522814750671387], [1665, 1.4636306762695312], [2395, 1.4908337593078613]]",
									"[[4901, 1.371448278427124], [2163, 1.379945993423462], [7754, 1.4522814750671387], [1665, 1.4636306762695312], [2395, 1.4908337593078613], [911, 1.5205819606781006], [6047, 1.5226621627807617], [6735, 1.5296361446380615], [18, 1.5462566614151], [7222, 1.547916293144226]]",
									"[[4901, 1.371448278427124], [2163, 1.379945993423462], [7754, 1.4522814750671387], [1665, 1.4636306762695312], [2395, 1.4908337593078613], [911, 1.5205819606781006], [6047, 1.5226621627807617], [6735, 1.5296361446380615], [18, 1.5462566614151], [7222, 1.547916293144226]]"
								],
								[
									"36",
									"5124",
									"3d animation of disaster",
									"5124",
									"[[5124, 1.4244096279144287]]",
									"[[5124, 1.4244096279144287], [3799, 1.4460375308990479], [5764, 1.4927477836608887], [8248, 1.4930825233459473], [2870, 1.49636709690094]]",
									"[[5124, 1.4244096279144287], [3799, 1.4460375308990479], [5764, 1.4927477836608887], [8248, 1.4930825233459473], [2870, 1.49636709690094], [3232, 1.497327446937561], [5222, 1.499060869216919], [2131, 1.5003454685211182], [6052, 1.5039231777191162], [8621, 1.5102508068084717]]",
									"[[5124, 1.4244096279144287], [3799, 1.4460375308990479], [5764, 1.4927477836608887], [8248, 1.4930825233459473], [2870, 1.49636709690094], [3232, 1.497327446937561], [5222, 1.499060869216919], [2131, 1.5003454685211182], [6052, 1.5039231777191162], [8621, 1.5102508068084717]]"
								],
								[
									"37",
									"6429",
									"3d anime girls dance on stage",
									"6429",
									"[[6429, 1.329646110534668]]",
									"[[6429, 1.329646110534668], [3687, 1.3340719938278198], [2148, 1.3548630475997925], [6200, 1.3747283220291138], [5583, 1.3783581256866455]]",
									"[[6429, 1.329646110534668], [3687, 1.3340719938278198], [2148, 1.3548630475997925], [6200, 1.3747283220291138], [5583, 1.3783581256866455], [1415, 1.394372820854187], [7109, 1.406430721282959], [9669, 1.4162505865097046], [3645, 1.42620849609375], [3069, 1.439513921737671]]",
									"[[6429, 1.329646110534668], [3687, 1.3340719938278198], [2148, 1.3548630475997925], [6200, 1.3747283220291138], [5583, 1.3783581256866455], [1415, 1.394372820854187], [7109, 1.406430721282959], [9669, 1.4162505865097046], [3645, 1.42620849609375], [3069, 1.439513921737671]]"
								],
								[
									"38",
									"294",
									"3d cartoon causing kaos",
									"294",
									"[[8911, 1.4553587436676025]]",
									"[[8911, 1.4553587436676025], [87, 1.4562156200408936], [4332, 1.4569580554962158], [9049, 1.4593183994293213], [3691, 1.463957667350769]]",
									"[[8911, 1.4553587436676025], [87, 1.4562156200408936], [4332, 1.4569580554962158], [9049, 1.4593183994293213], [3691, 1.463957667350769], [7222, 1.4686938524246216], [2957, 1.4696483612060547], [3065, 1.4703447818756104], [2502, 1.4710569381713867], [7232, 1.472609043121338]]",
									"[[8911, 1.4553587436676025], [87, 1.4562156200408936], [4332, 1.4569580554962158], [9049, 1.4593183994293213], [3691, 1.463957667350769], [7222, 1.4686938524246216], [2957, 1.4696483612060547], [3065, 1.4703447818756104], [2502, 1.4710569381713867], [7232, 1.472609043121338]]"
								],
								[
									"39",
									"3687",
									"3d characters dance on stage",
									"3687",
									"[[3687, 1.3440866470336914]]",
									"[[3687, 1.3440866470336914], [3069, 1.35049307346344], [6429, 1.3581256866455078], [2148, 1.3829233646392822], [6200, 1.4023561477661133]]",
									"[[3687, 1.3440866470336914], [3069, 1.35049307346344], [6429, 1.3581256866455078], [2148, 1.3829233646392822], [6200, 1.4023561477661133], [9669, 1.402511715888977], [7813, 1.4264936447143555], [7109, 1.4350037574768066], [3645, 1.4392017126083374], [5668, 1.447031855583191]]",
									"[[3687, 1.3440866470336914], [3069, 1.35049307346344], [6429, 1.3581256866455078], [2148, 1.3829233646392822], [6200, 1.4023561477661133], [9669, 1.402511715888977], [7813, 1.4264936447143555], [7109, 1.4350037574768066], [3645, 1.4392017126083374], [5668, 1.447031855583191]]"
								],
								[
									"40",
									"4601",
									"a  professional baseball game advertisement",
									"4601",
									"[[2732, 1.404471516609192]]",
									"[[2732, 1.404471516609192], [8112, 1.408100962638855], [3566, 1.411167860031128], [2038, 1.4143074750900269], [7556, 1.4155526161193848]]",
									"[[2732, 1.404471516609192], [8112, 1.408100962638855], [3566, 1.411167860031128], [2038, 1.4143074750900269], [7556, 1.4155526161193848], [5693, 1.416025161743164], [3723, 1.419154405593872], [5805, 1.4191826581954956], [8754, 1.4210858345031738], [4500, 1.4233736991882324]]",
									"[[2732, 1.404471516609192], [8112, 1.408100962638855], [3566, 1.411167860031128], [2038, 1.4143074750900269], [7556, 1.4155526161193848], [5693, 1.416025161743164], [3723, 1.419154405593872], [5805, 1.4191826581954956], [8754, 1.4210858345031738], [4500, 1.4233736991882324]]"
								],
								[
									"41",
									"3518",
									"4th of july fireworks",
									"3518",
									"[[5925, 1.3896546363830566]]",
									"[[5925, 1.3896546363830566], [5366, 1.3900036811828613], [909, 1.3905190229415894], [8094, 1.415050983428955], [6012, 1.4170925617218018]]",
									"[[5925, 1.3896546363830566], [5366, 1.3900036811828613], [909, 1.3905190229415894], [8094, 1.415050983428955], [6012, 1.4170925617218018], [5658, 1.4171444177627563], [6910, 1.4217324256896973], [7761, 1.4272162914276123], [8798, 1.4287822246551514], [3518, 1.4334945678710938]]",
									"[[5925, 1.3896546363830566], [5366, 1.3900036811828613], [909, 1.3905190229415894], [8094, 1.415050983428955], [6012, 1.4170925617218018], [5658, 1.4171444177627563], [6910, 1.4217324256896973], [7761, 1.4272162914276123], [8798, 1.4287822246551514], [3518, 1.4334945678710938]]"
								],
								[
									"42",
									"5985",
									"4 of the muppets from the muppet babies are having a conversation",
									"5985",
									"[[1963, 1.3435781002044678]]",
									"[[1963, 1.3435781002044678], [1902, 1.3436644077301025], [5985, 1.353295922279358], [3012, 1.3758375644683838], [2573, 1.3974103927612305]]",
									"[[1963, 1.3435781002044678], [1902, 1.3436644077301025], [5985, 1.353295922279358], [3012, 1.3758375644683838], [2573, 1.3974103927612305], [5637, 1.4004416465759277], [1590, 1.400998830795288], [8379, 1.4063100814819336], [9072, 1.409434199333191], [3379, 1.4245409965515137]]",
									"[[1963, 1.3435781002044678], [1902, 1.3436644077301025], [5985, 1.353295922279358], [3012, 1.3758375644683838], [2573, 1.3974103927612305], [5637, 1.4004416465759277], [1590, 1.400998830795288], [8379, 1.4063100814819336], [9072, 1.409434199333191], [3379, 1.4245409965515137]]"
								],
								[
									"43",
									"1919",
									"4 men with suits on sitting at a table discussing hiliary clinton",
									"1919",
									"[[1919, 1.387312650680542]]",
									"[[1919, 1.387312650680542], [9862, 1.4215575456619263], [1824, 1.4342610836029053], [4732, 1.4361350536346436], [603, 1.4535057544708252]]",
									"[[1919, 1.387312650680542], [9862, 1.4215575456619263], [1824, 1.4342610836029053], [4732, 1.4361350536346436], [603, 1.4535057544708252], [3673, 1.4542099237442017], [2661, 1.4642179012298584], [8315, 1.4663803577423096], [4080, 1.4747308492660522], [8927, 1.4862995147705078]]",
									"[[1919, 1.387312650680542], [9862, 1.4215575456619263], [1824, 1.4342610836029053], [4732, 1.4361350536346436], [603, 1.4535057544708252], [3673, 1.4542099237442017], [2661, 1.4642179012298584], [8315, 1.4663803577423096], [4080, 1.4747308492660522], [8927, 1.4862995147705078]]"
								],
								[
									"44",
									"842",
									"4 animated guys flying in flight",
									"842",
									"[[9133, 1.4052542448043823]]",
									"[[9133, 1.4052542448043823], [9116, 1.4328174591064453], [5362, 1.45354425907135], [9584, 1.4566974639892578], [7998, 1.457458257675171]]",
									"[[9133, 1.4052542448043823], [9116, 1.4328174591064453], [5362, 1.45354425907135], [9584, 1.4566974639892578], [7998, 1.457458257675171], [923, 1.4576125144958496], [9981, 1.45991051197052], [6331, 1.461653232574463], [1044, 1.463481068611145], [2825, 1.4678326845169067]]",
									"[[9133, 1.4052542448043823], [9116, 1.4328174591064453], [5362, 1.45354425907135], [9584, 1.4566974639892578], [7998, 1.457458257675171], [923, 1.4576125144958496], [9981, 1.45991051197052], [6331, 1.461653232574463], [1044, 1.463481068611145], [2825, 1.4678326845169067]]"
								],
								[
									"45",
									"1429",
									"6 different men are having a discussion",
									"1429",
									"[[1429, 1.3548164367675781]]",
									"[[1429, 1.3548164367675781], [906, 1.458310842514038], [8529, 1.4687132835388184], [2661, 1.4693198204040527], [1259, 1.469998836517334]]",
									"[[1429, 1.3548164367675781], [906, 1.458310842514038], [8529, 1.4687132835388184], [2661, 1.4693198204040527], [1259, 1.469998836517334], [4222, 1.4722836017608643], [878, 1.480879306793213], [7666, 1.4893304109573364], [313, 1.4909013509750366], [4947, 1.490989327430725]]",
									"[[1429, 1.3548164367675781], [906, 1.458310842514038], [8529, 1.4687132835388184], [2661, 1.4693198204040527], [1259, 1.469998836517334], [4222, 1.4722836017608643], [878, 1.480879306793213], [7666, 1.4893304109573364], [313, 1.4909013509750366], [4947, 1.490989327430725]]"
								],
								[
									"46",
									"4948",
									"3d video of a house plan",
									"4948",
									"[[3991, 1.452717661857605]]",
									"[[3991, 1.452717661857605], [4622, 1.4921947717666626], [8426, 1.5080807209014893], [1917, 1.5110323429107666], [1481, 1.5110591650009155]]",
									"[[3991, 1.452717661857605], [4622, 1.4921947717666626], [8426, 1.5080807209014893], [1917, 1.5110323429107666], [1481, 1.5110591650009155], [465, 1.517264485359192], [4306, 1.5206444263458252], [3236, 1.533577799797058], [171, 1.537297248840332], [4950, 1.538096308708191]]",
									"[[3991, 1.452717661857605], [4622, 1.4921947717666626], [8426, 1.5080807209014893], [1917, 1.5110323429107666], [1481, 1.5110591650009155], [465, 1.517264485359192], [4306, 1.5206444263458252], [3236, 1.533577799797058], [171, 1.537297248840332], [4950, 1.538096308708191]]"
								],
								[
									"47",
									"4622",
									"3d text is displayed over a background",
									"4622",
									"[[7242, 1.4180822372436523]]",
									"[[7242, 1.4180822372436523], [7046, 1.4193247556686401], [344, 1.4304428100585938], [8716, 1.4345331192016602], [7103, 1.4443063735961914]]",
									"[[7242, 1.4180822372436523], [7046, 1.4193247556686401], [344, 1.4304428100585938], [8716, 1.4345331192016602], [7103, 1.4443063735961914], [8611, 1.4454597234725952], [7336, 1.4457694292068481], [5502, 1.4474016427993774], [80, 1.4504480361938477], [1762, 1.4538081884384155]]",
									"[[7242, 1.4180822372436523], [7046, 1.4193247556686401], [344, 1.4304428100585938], [8716, 1.4345331192016602], [7103, 1.4443063735961914], [8611, 1.4454597234725952], [7336, 1.4457694292068481], [5502, 1.4474016427993774], [80, 1.4504480361938477], [1762, 1.4538081884384155]]"
								],
								[
									"48",
									"3770",
									"3d rendered my little ponies sing an auto-tuned song",
									"3770",
									"[[7024, 1.4402371644973755]]",
									"[[7024, 1.4402371644973755], [7185, 1.4464468955993652], [4597, 1.4565001726150513], [4908, 1.470439076423645], [2473, 1.4716360569000244]]",
									"[[7024, 1.4402371644973755], [7185, 1.4464468955993652], [4597, 1.4565001726150513], [4908, 1.470439076423645], [2473, 1.4716360569000244], [6328, 1.472158670425415], [528, 1.4760618209838867], [9805, 1.4801135063171387], [1655, 1.4801695346832275], [6429, 1.4870266914367676]]",
									"[[7024, 1.4402371644973755], [7185, 1.4464468955993652], [4597, 1.4565001726150513], [4908, 1.470439076423645], [2473, 1.4716360569000244], [6328, 1.472158670425415], [528, 1.4760618209838867], [9805, 1.4801135063171387], [1655, 1.4801695346832275], [6429, 1.4870266914367676]]"
								],
								[
									"49",
									"507",
									"3d golf game walk through with comments",
									"507",
									"[[4037, 1.336733102798462]]",
									"[[4037, 1.336733102798462], [4501, 1.3372724056243896], [1651, 1.3375197649002075], [507, 1.345592975616455], [6731, 1.3583645820617676]]",
									"[[4037, 1.336733102798462], [4501, 1.3372724056243896], [1651, 1.3375197649002075], [507, 1.345592975616455], [6731, 1.3583645820617676], [7001, 1.358372449874878], [7771, 1.364332914352417], [1014, 1.3744457960128784], [2597, 1.407362699508667], [6841, 1.4311606884002686]]",
									"[[4037, 1.336733102798462], [4501, 1.3372724056243896], [1651, 1.3375197649002075], [507, 1.345592975616455], [6731, 1.3583645820617676], [7001, 1.358372449874878], [7771, 1.364332914352417], [1014, 1.3744457960128784], [2597, 1.407362699508667], [6841, 1.4311606884002686]]"
								]
							],
							"shape": {
								"columns": 7,
								"rows": 10000
							}
						},
						"text/html": [
							"<div>\n",
							"<style scoped>\n",
							"    .dataframe tbody tr th:only-of-type {\n",
							"        vertical-align: middle;\n",
							"    }\n",
							"\n",
							"    .dataframe tbody tr th {\n",
							"        vertical-align: top;\n",
							"    }\n",
							"\n",
							"    .dataframe thead th {\n",
							"        text-align: right;\n",
							"    }\n",
							"</style>\n",
							"<table border=\"1\" class=\"dataframe\">\n",
							"  <thead>\n",
							"    <tr style=\"text-align: right;\">\n",
							"      <th></th>\n",
							"      <th>video_id</th>\n",
							"      <th>sentence</th>\n",
							"      <th>ground_truth</th>\n",
							"      <th>top1</th>\n",
							"      <th>top5</th>\n",
							"      <th>top10</th>\n",
							"      <th>top10_raw_res</th>\n",
							"    </tr>\n",
							"  </thead>\n",
							"  <tbody>\n",
							"    <tr>\n",
							"      <th>0</th>\n",
							"      <td>2960</td>\n",
							"      <td>a cartoon animals runs through an ice cave in ...</td>\n",
							"      <td>2960</td>\n",
							"      <td>[[8203, 1.3518543243408203]]</td>\n",
							"      <td>[[8203, 1.3518543243408203], [2960, 1.37430107...</td>\n",
							"      <td>[[8203, 1.3518543243408203], [2960, 1.37430107...</td>\n",
							"      <td>[[8203, 1.3518543243408203], [2960, 1.37430107...</td>\n",
							"    </tr>\n",
							"    <tr>\n",
							"      <th>1</th>\n",
							"      <td>2636</td>\n",
							"      <td>a man gets hit in the face with a chair during...</td>\n",
							"      <td>2636</td>\n",
							"      <td>[[2636, 1.3602731227874756]]</td>\n",
							"      <td>[[2636, 1.3602731227874756], [4774, 1.37916195...</td>\n",
							"      <td>[[2636, 1.3602731227874756], [4774, 1.37916195...</td>\n",
							"      <td>[[2636, 1.3602731227874756], [4774, 1.37916195...</td>\n",
							"    </tr>\n",
							"    <tr>\n",
							"      <th>2</th>\n",
							"      <td>4311</td>\n",
							"      <td>a person is explaining something</td>\n",
							"      <td>4311</td>\n",
							"      <td>[[4242, 1.492103934288025]]</td>\n",
							"      <td>[[4242, 1.492103934288025], [6415, 1.501897335...</td>\n",
							"      <td>[[4242, 1.492103934288025], [6415, 1.501897335...</td>\n",
							"      <td>[[4242, 1.492103934288025], [6415, 1.501897335...</td>\n",
							"    </tr>\n",
							"    <tr>\n",
							"      <th>3</th>\n",
							"      <td>1844</td>\n",
							"      <td>a man conducting a science experiment</td>\n",
							"      <td>1844</td>\n",
							"      <td>[[641, 1.3759840726852417]]</td>\n",
							"      <td>[[641, 1.3759840726852417], [9176, 1.412161827...</td>\n",
							"      <td>[[641, 1.3759840726852417], [9176, 1.412161827...</td>\n",
							"      <td>[[641, 1.3759840726852417], [9176, 1.412161827...</td>\n",
							"    </tr>\n",
							"    <tr>\n",
							"      <th>4</th>\n",
							"      <td>2213</td>\n",
							"      <td>a couple of men wrestling on the ground</td>\n",
							"      <td>2213</td>\n",
							"      <td>[[4778, 1.414879322052002]]</td>\n",
							"      <td>[[4778, 1.414879322052002], [3685, 1.424682378...</td>\n",
							"      <td>[[4778, 1.414879322052002], [3685, 1.424682378...</td>\n",
							"      <td>[[4778, 1.414879322052002], [3685, 1.424682378...</td>\n",
							"    </tr>\n",
							"    <tr>\n",
							"      <th>...</th>\n",
							"      <td>...</td>\n",
							"      <td>...</td>\n",
							"      <td>...</td>\n",
							"      <td>...</td>\n",
							"      <td>...</td>\n",
							"      <td>...</td>\n",
							"      <td>...</td>\n",
							"    </tr>\n",
							"    <tr>\n",
							"      <th>9995</th>\n",
							"      <td>7795</td>\n",
							"      <td>a person in black turning a red color wing on ...</td>\n",
							"      <td>7795</td>\n",
							"      <td>[[4546, 1.4018069505691528]]</td>\n",
							"      <td>[[4546, 1.4018069505691528], [7299, 1.42924499...</td>\n",
							"      <td>[[4546, 1.4018069505691528], [7299, 1.42924499...</td>\n",
							"      <td>[[4546, 1.4018069505691528], [7299, 1.42924499...</td>\n",
							"    </tr>\n",
							"    <tr>\n",
							"      <th>9996</th>\n",
							"      <td>7112</td>\n",
							"      <td>men outside playing basketball one of the men ...</td>\n",
							"      <td>7112</td>\n",
							"      <td>[[2592, 1.3740363121032715]]</td>\n",
							"      <td>[[2592, 1.3740363121032715], [7112, 1.39124894...</td>\n",
							"      <td>[[2592, 1.3740363121032715], [7112, 1.39124894...</td>\n",
							"      <td>[[2592, 1.3740363121032715], [7112, 1.39124894...</td>\n",
							"    </tr>\n",
							"    <tr>\n",
							"      <th>9997</th>\n",
							"      <td>8658</td>\n",
							"      <td>a man displays a very thin circular silicon wafer</td>\n",
							"      <td>8658</td>\n",
							"      <td>[[8658, 1.2997075319290161]]</td>\n",
							"      <td>[[8658, 1.2997075319290161], [3236, 1.36788225...</td>\n",
							"      <td>[[8658, 1.2997075319290161], [3236, 1.36788225...</td>\n",
							"      <td>[[8658, 1.2997075319290161], [3236, 1.36788225...</td>\n",
							"    </tr>\n",
							"    <tr>\n",
							"      <th>9998</th>\n",
							"      <td>8978</td>\n",
							"      <td>a man at a bar with a beard blow cigarette smo...</td>\n",
							"      <td>8978</td>\n",
							"      <td>[[418, 1.4422941207885742]]</td>\n",
							"      <td>[[418, 1.4422941207885742], [9180, 1.448186516...</td>\n",
							"      <td>[[418, 1.4422941207885742], [9180, 1.448186516...</td>\n",
							"      <td>[[418, 1.4422941207885742], [9180, 1.448186516...</td>\n",
							"    </tr>\n",
							"    <tr>\n",
							"      <th>9999</th>\n",
							"      <td>8600</td>\n",
							"      <td>a black reporter talks about trying to manage ...</td>\n",
							"      <td>8600</td>\n",
							"      <td>[[8600, 1.3522753715515137]]</td>\n",
							"      <td>[[8600, 1.3522753715515137], [6531, 1.41172635...</td>\n",
							"      <td>[[8600, 1.3522753715515137], [6531, 1.41172635...</td>\n",
							"      <td>[[8600, 1.3522753715515137], [6531, 1.41172635...</td>\n",
							"    </tr>\n",
							"  </tbody>\n",
							"</table>\n",
							"<p>10000 rows × 7 columns</p>\n",
							"</div>"
						],
						"text/plain": [
							"      video_id                                           sentence  \\\n",
							"0         2960  a cartoon animals runs through an ice cave in ...   \n",
							"1         2636  a man gets hit in the face with a chair during...   \n",
							"2         4311                   a person is explaining something   \n",
							"3         1844              a man conducting a science experiment   \n",
							"4         2213            a couple of men wrestling on the ground   \n",
							"...        ...                                                ...   \n",
							"9995      7795  a person in black turning a red color wing on ...   \n",
							"9996      7112  men outside playing basketball one of the men ...   \n",
							"9997      8658  a man displays a very thin circular silicon wafer   \n",
							"9998      8978  a man at a bar with a beard blow cigarette smo...   \n",
							"9999      8600  a black reporter talks about trying to manage ...   \n",
							"\n",
							"      ground_truth                          top1  \\\n",
							"0             2960  [[8203, 1.3518543243408203]]   \n",
							"1             2636  [[2636, 1.3602731227874756]]   \n",
							"2             4311   [[4242, 1.492103934288025]]   \n",
							"3             1844   [[641, 1.3759840726852417]]   \n",
							"4             2213   [[4778, 1.414879322052002]]   \n",
							"...            ...                           ...   \n",
							"9995          7795  [[4546, 1.4018069505691528]]   \n",
							"9996          7112  [[2592, 1.3740363121032715]]   \n",
							"9997          8658  [[8658, 1.2997075319290161]]   \n",
							"9998          8978   [[418, 1.4422941207885742]]   \n",
							"9999          8600  [[8600, 1.3522753715515137]]   \n",
							"\n",
							"                                                   top5  \\\n",
							"0     [[8203, 1.3518543243408203], [2960, 1.37430107...   \n",
							"1     [[2636, 1.3602731227874756], [4774, 1.37916195...   \n",
							"2     [[4242, 1.492103934288025], [6415, 1.501897335...   \n",
							"3     [[641, 1.3759840726852417], [9176, 1.412161827...   \n",
							"4     [[4778, 1.414879322052002], [3685, 1.424682378...   \n",
							"...                                                 ...   \n",
							"9995  [[4546, 1.4018069505691528], [7299, 1.42924499...   \n",
							"9996  [[2592, 1.3740363121032715], [7112, 1.39124894...   \n",
							"9997  [[8658, 1.2997075319290161], [3236, 1.36788225...   \n",
							"9998  [[418, 1.4422941207885742], [9180, 1.448186516...   \n",
							"9999  [[8600, 1.3522753715515137], [6531, 1.41172635...   \n",
							"\n",
							"                                                  top10  \\\n",
							"0     [[8203, 1.3518543243408203], [2960, 1.37430107...   \n",
							"1     [[2636, 1.3602731227874756], [4774, 1.37916195...   \n",
							"2     [[4242, 1.492103934288025], [6415, 1.501897335...   \n",
							"3     [[641, 1.3759840726852417], [9176, 1.412161827...   \n",
							"4     [[4778, 1.414879322052002], [3685, 1.424682378...   \n",
							"...                                                 ...   \n",
							"9995  [[4546, 1.4018069505691528], [7299, 1.42924499...   \n",
							"9996  [[2592, 1.3740363121032715], [7112, 1.39124894...   \n",
							"9997  [[8658, 1.2997075319290161], [3236, 1.36788225...   \n",
							"9998  [[418, 1.4422941207885742], [9180, 1.448186516...   \n",
							"9999  [[8600, 1.3522753715515137], [6531, 1.41172635...   \n",
							"\n",
							"                                          top10_raw_res  \n",
							"0     [[8203, 1.3518543243408203], [2960, 1.37430107...  \n",
							"1     [[2636, 1.3602731227874756], [4774, 1.37916195...  \n",
							"2     [[4242, 1.492103934288025], [6415, 1.501897335...  \n",
							"3     [[641, 1.3759840726852417], [9176, 1.412161827...  \n",
							"4     [[4778, 1.414879322052002], [3685, 1.424682378...  \n",
							"...                                                 ...  \n",
							"9995  [[4546, 1.4018069505691528], [7299, 1.42924499...  \n",
							"9996  [[2592, 1.3740363121032715], [7112, 1.39124894...  \n",
							"9997  [[8658, 1.2997075319290161], [3236, 1.36788225...  \n",
							"9998  [[418, 1.4422941207885742], [9180, 1.448186516...  \n",
							"9999  [[8600, 1.3522753715515137], [6531, 1.41172635...  \n",
							"\n",
							"[10000 rows x 7 columns]"
						]
					},
					"execution_count": 16,
					"metadata": {},
					"output_type": "execute_result"
				}
			],
			"source": [
				"# output to a csv\n",
				"res_list = res.to_list()\n",
				"res_obj_list = []\n",
				"\n",
				"for r in res_list:\n",
				"    res_obj = vars(r)\n",
				"    res_obj_list.append(res_obj)\n",
				"    \n",
				"res_df = pd.DataFrame(res_obj_list)\n",
				"\n",
				"res_df.to_csv('res_10_000.csv', index=False)\n",
				"res_df\n",
				"\n"
			]
		},
		{
			"cell_type": "code",
			"execution_count": 17,
			"id": "48a3eac3",
			"metadata": {},
			"outputs": [
				{
					"name": "stdout",
					"output_type": "stream",
					"text": [
						"[0.5, 1.0, 0, 0.25, 0, 0.5, 1.0, 0, 0, 0, 1.0, 0, 0.14285714285714285, 0.1111111111111111, 1.0, 1.0, 0.1, 0.5, 0, 0.3333333333333333, 0, 0, 1.0, 0, 0, 0, 0, 1.0, 0.16666666666666666, 0, 1.0, 1.0, 0, 0.5, 0, 0.5, 1.0, 1.0, 0, 1.0, 0, 0.1, 0.3333333333333333, 1.0, 0, 1.0, 0, 0, 0, 0.25, 0, 0.3333333333333333, 1.0, 0, 0, 0, 0, 0.3333333333333333, 0, 0, 1.0, 0.5, 0.25, 0, 1.0, 1.0, 0, 0, 0.5, 0, 0, 0, 0, 0, 0, 1.0, 0, 0, 0.5, 0, 0, 0.1, 0, 0, 0.3333333333333333, 0.3333333333333333, 0, 0, 0.3333333333333333, 0, 1.0, 0, 1.0, 0.125, 1.0, 1.0, 0.3333333333333333, 0, 0.1, 0, 0.14285714285714285, 0, 0.5, 0, 1.0, 0, 0, 0, 0.5, 0.5, 0.14285714285714285, 1.0, 1.0, 1.0, 1.0, 0.1, 0, 1.0, 0.3333333333333333, 0, 1.0, 1.0, 0.5, 0, 0.25, 0, 0.1111111111111111, 0.2, 0.5, 1.0, 0.5, 0.14285714285714285, 0, 0, 0, 1.0, 0, 0.5, 0, 0, 1.0, 0, 0.16666666666666666, 0, 0, 0, 0, 0, 0.125, 0.125, 0.3333333333333333, 0, 0.1, 0.3333333333333333, 1.0, 0, 0.2, 0, 0.5, 0.25, 0.25, 1.0, 0, 0.5, 1.0, 0, 0.3333333333333333, 0, 0.5, 0.25, 1.0, 0.14285714285714285, 0, 1.0, 0, 1.0, 0, 0, 0, 0, 0, 0, 0, 0, 0.25, 0.1111111111111111, 1.0, 1.0, 1.0, 0, 0, 0.1111111111111111, 0, 0.16666666666666666, 0, 0, 0, 0.1, 0, 0, 0.14285714285714285, 0.1, 0.5, 0, 0, 0, 0.3333333333333333, 1.0, 1.0, 1.0, 0, 0, 1.0, 1.0, 0, 1.0, 0.25, 0, 0, 0.5, 0, 0.14285714285714285, 0.2, 0.5, 0, 1.0, 0, 0.5, 0, 0, 0, 0, 0.25, 1.0, 0, 1.0, 0, 0.2, 0, 0, 1.0, 0.5, 1.0, 0, 0, 1.0, 0.25, 1.0, 0, 0.25, 0, 0, 0, 0, 0, 0, 1.0, 0, 0, 0, 0, 1.0, 0, 1.0, 0, 0, 0, 0, 0.5, 0, 0, 0, 1.0, 0, 1.0, 0.25, 0.3333333333333333, 0, 0, 0, 0, 1.0, 0.5, 0, 0.25, 0.5, 0, 1.0, 1.0, 0.5, 0, 1.0, 0.1, 0.5, 0, 0, 0, 0.5, 0, 0, 0, 1.0, 0, 0.3333333333333333, 1.0, 0, 1.0, 0, 0.125, 0, 1.0, 0, 0, 0, 0.5, 0, 0, 1.0, 0, 1.0, 0, 0.2, 0.5, 0, 0, 1.0, 0, 0.25, 1.0, 0, 0.3333333333333333, 1.0, 0, 0, 0, 0, 1.0, 0.5, 0, 0.25, 0, 0, 0, 0.3333333333333333, 1.0, 0.1111111111111111, 0, 1.0, 1.0, 1.0, 0, 0, 0, 0, 0, 0.3333333333333333, 0, 0.5, 1.0, 0, 0.16666666666666666, 0, 0.125, 0, 0, 1.0, 1.0, 0, 0, 0.25, 1.0, 0, 1.0, 0, 0, 0.5, 0.3333333333333333, 1.0, 0.25, 0, 0.5, 0.25, 0, 0, 0.125, 0.25, 0.16666666666666666, 1.0, 0, 1.0, 0.5, 0.3333333333333333, 0.125, 0, 0, 1.0, 0, 0, 0.1111111111111111, 0.25, 0, 0, 1.0, 0, 0, 0, 0, 0.14285714285714285, 0.5, 0.14285714285714285, 0, 0, 0.16666666666666666, 0, 0, 0, 0, 0, 0, 0.125, 0.16666666666666666, 0.5, 0.1, 0.5, 0.2, 1.0, 0, 1.0, 1.0, 0.3333333333333333, 0, 0, 0, 0.5, 0, 0.125, 0, 0, 0.5, 0, 0.3333333333333333, 1.0, 1.0, 0, 0.125, 0, 1.0, 0.1111111111111111, 1.0, 0.2, 0, 1.0, 0, 1.0, 0.1, 0.2, 0, 1.0, 1.0, 0, 1.0, 0, 0.16666666666666666, 1.0, 0, 1.0, 0.2, 0, 0.2, 0, 1.0, 0, 0, 0, 1.0, 1.0, 0.5, 0.1111111111111111, 0, 0.5, 1.0, 0.5, 0.16666666666666666, 0, 0.5, 0.5, 0.5, 1.0, 0, 0, 0, 0.2, 0.5, 0.125, 0.25, 0.16666666666666666, 0, 0, 0, 0, 0, 0, 1.0, 0.5, 0, 0.14285714285714285, 0.1111111111111111, 0, 0, 0.3333333333333333, 0, 0.5, 0.3333333333333333, 0, 1.0, 1.0, 0.14285714285714285, 0, 0.5, 1.0, 0.5, 0, 1.0, 1.0, 0, 1.0, 0.2, 1.0, 0, 0.1, 0.25, 0.2, 0, 0, 0.2, 0.5, 0.3333333333333333, 0, 0, 0, 0, 0, 0.25, 1.0, 0.5, 0.125, 1.0, 0, 0, 1.0, 1.0, 0, 1.0, 1.0, 0, 0, 1.0, 1.0, 0, 0, 0, 0.2, 1.0, 0, 0, 0, 0, 0, 0, 0, 0, 0.25, 0.5, 0, 0.25, 0, 0.5, 0.25, 1.0, 1.0, 0.25, 1.0, 0, 0.5, 0.1111111111111111, 0, 0, 0, 0, 1.0, 0, 1.0, 0, 0, 1.0, 0.1, 0, 1.0, 0, 1.0, 0.16666666666666666, 0, 0.2, 0.1, 0.3333333333333333, 0, 0, 1.0, 1.0, 0, 1.0, 1.0, 0.5, 0, 1.0, 0.2, 0, 0, 0, 0.5, 0, 0, 1.0, 0.1111111111111111, 0, 1.0, 0.5, 0.2, 0.125, 0.25, 1.0, 0.25, 0, 0.1, 0.25, 0, 0, 0, 1.0, 0.25, 0.3333333333333333, 0, 0.16666666666666666, 0.3333333333333333, 0, 0, 0.25, 0, 0, 0, 0, 1.0, 0, 0.16666666666666666, 0.125, 1.0, 0.2, 0.16666666666666666, 0, 0, 0, 1.0, 1.0, 0.5, 0, 1.0, 0.5, 0, 0, 0, 0, 1.0, 0.14285714285714285, 1.0, 0, 1.0, 1.0, 0, 0, 0.2, 0, 0, 0.2, 0.16666666666666666, 0, 0.3333333333333333, 1.0, 0, 0, 0, 1.0, 0, 0, 1.0, 0.2, 0, 1.0, 1.0, 0.3333333333333333, 0.5, 1.0, 0, 0, 0, 0, 0, 0.5, 0, 1.0, 0, 1.0, 0.25, 0, 0.3333333333333333, 0.25, 0.5, 0.3333333333333333, 0, 1.0, 0, 0.2, 0, 0, 0, 0, 0, 0.16666666666666666, 1.0, 0.3333333333333333, 0.5, 0, 0, 0.5, 0.5, 0, 0.3333333333333333, 0.1, 0.16666666666666666, 0.16666666666666666, 0, 0, 1.0, 0, 0, 0, 0, 0.125, 0.14285714285714285, 0, 0.5, 1.0, 0, 0, 0, 0.5, 0, 0, 1.0, 0, 0.1111111111111111, 0.125, 0.5, 0.1111111111111111, 0, 0.3333333333333333, 1.0, 0, 0, 0.25, 1.0, 0, 0, 0, 0.3333333333333333, 0, 0, 0, 0.25, 0, 0.2, 0, 0, 1.0, 0.125, 0.5, 0, 1.0, 0, 1.0, 0.3333333333333333, 0, 1.0, 1.0, 0, 0, 0, 0, 0, 0.5, 0.25, 0, 0, 0.5, 0, 0, 0, 0, 0.25, 0.5, 0, 0.25, 0, 0, 0, 0, 0.5, 0, 0, 0.1, 0, 0, 0, 1.0, 1.0, 0.5, 0, 0, 0.2, 0, 0.2, 1.0, 0, 0, 0, 0, 1.0, 0, 0, 0, 0.5, 0, 1.0, 0.5, 0.16666666666666666, 0, 0.2, 0, 0, 0, 0.5, 0, 0, 1.0, 0, 0, 0.16666666666666666, 0, 0.14285714285714285, 0, 0.5, 0, 0, 0.3333333333333333, 0, 0, 1.0, 1.0, 1.0, 0, 0, 0.5, 1.0, 1.0, 0, 0, 0, 1.0, 0, 1.0, 0, 0, 0, 0, 0, 0, 0.3333333333333333, 1.0, 0.25, 0, 0.2, 1.0, 0, 1.0, 0, 0, 0.5, 0.3333333333333333, 0, 0.3333333333333333, 0, 0, 0, 0, 0, 0, 1.0, 0, 0, 0, 0, 0.16666666666666666, 0.1111111111111111, 0, 0, 0.14285714285714285, 1.0, 0, 1.0, 1.0, 0.1, 0.25, 0, 0, 0.125, 0, 0.14285714285714285, 0.25, 0, 0, 0, 0, 0, 0, 0.16666666666666666, 0, 0, 0, 0.3333333333333333, 0, 1.0, 0, 0.5, 0, 0, 0, 0, 0, 0.2, 0, 0.5, 0, 0, 0.5, 0, 0.5, 0, 0, 0, 0, 0.3333333333333333, 1.0, 0, 0, 0, 0, 0, 0, 0, 0, 0, 0.125, 0, 0, 0, 1.0, 0, 0, 0, 0, 0, 0.2, 0, 0, 0, 0, 0.5, 0, 0, 0, 0, 0, 0, 0, 0, 0, 0, 0, 0, 0, 0, 0, 0, 0, 0, 0, 0, 0, 0, 0, 0.3333333333333333, 0, 0, 0, 0, 0, 0, 0, 0, 0, 0, 0, 0.16666666666666666, 0, 0, 0, 0.3333333333333333, 0.16666666666666666, 0, 0, 0, 0, 0, 0, 0, 0, 0, 0, 0, 0, 0, 0.3333333333333333, 0, 0, 0, 0, 1.0, 0, 0, 0, 0, 0.5, 0, 0, 0, 0, 0.5, 0, 0, 0, 1.0, 0, 0.2, 0, 0, 0, 0, 0, 0.125, 0, 1.0, 0, 0, 0.5, 0, 0, 1.0, 0, 0.125, 0, 0, 0, 0, 0.5, 0, 0.2, 0.2, 0, 0.25, 1.0, 1.0, 0, 0, 0.16666666666666666, 1.0, 0.5, 0, 0.3333333333333333, 1.0, 1.0, 0.2, 0, 0, 1.0, 1.0, 0.5, 0.25, 0, 0, 0.5, 1.0, 1.0, 1.0, 0.2, 1.0, 1.0, 0.14285714285714285, 0.25, 0.16666666666666666, 0, 1.0, 1.0, 0, 0, 1.0, 0.5, 1.0, 0, 0, 0.3333333333333333, 0, 0, 0, 0, 1.0, 0.3333333333333333, 0, 0.16666666666666666, 0.5, 0.5, 0.5, 0.2, 0, 0, 0, 1.0, 1.0, 1.0, 0.3333333333333333, 0.5, 0, 0.16666666666666666, 1.0, 0, 0, 0.25, 0, 0, 0.16666666666666666, 0, 0.5, 1.0, 0.1111111111111111, 0, 0, 0, 1.0, 1.0, 0, 0.2, 1.0, 1.0, 1.0, 0, 1.0, 0.5, 0, 0.3333333333333333, 1.0, 0, 0, 0, 0, 0, 1.0, 0, 0, 1.0, 0, 0, 0, 0, 0.3333333333333333, 0, 0, 0, 0, 0, 0.25, 0.14285714285714285, 0, 0, 0, 1.0, 0.25, 0.2, 0, 0.25, 0, 0.16666666666666666, 0, 0.5, 0, 0.3333333333333333, 1.0, 0, 0, 0.14285714285714285, 1.0, 1.0, 1.0, 0, 0.5, 1.0, 1.0, 0.2, 1.0, 0.5, 0.3333333333333333, 0, 0, 0, 1.0, 1.0, 0.25, 0, 1.0, 0, 0.16666666666666666, 0, 0, 1.0, 0, 0, 0.14285714285714285, 0, 0, 0, 1.0, 0.2, 0, 0, 1.0, 0, 0, 0, 0, 0, 1.0, 0, 1.0, 1.0, 1.0, 0.3333333333333333, 1.0, 0.5, 0, 1.0, 0.2, 0, 1.0, 0.125, 0.5, 0, 0, 0.1111111111111111, 1.0, 0, 1.0, 0, 0, 0.125, 0, 0, 1.0, 1.0, 1.0, 0, 0, 0, 0, 0, 1.0, 0.25, 0, 0.25, 0, 0, 0, 0, 1.0, 0, 1.0, 1.0, 0.3333333333333333, 0.5, 0.25, 0.5, 0, 0, 0.5, 0, 0, 0, 0, 0, 1.0, 0, 1.0, 0, 0, 1.0, 0.14285714285714285, 0, 0, 0.5, 0.1, 1.0, 0.25, 1.0, 0.5, 0.5, 0.5, 0, 0, 0, 0, 0.2, 0, 0.3333333333333333, 0, 0.1111111111111111, 0.125, 0.5, 0.3333333333333333, 0, 0, 0, 0, 0, 0, 0, 0, 0, 0.14285714285714285, 0.16666666666666666, 0, 1.0, 0.5, 0.5, 0, 0, 0, 0.14285714285714285, 0, 0, 0, 0.16666666666666666, 0, 0, 0.5, 0, 0, 1.0, 0.5, 1.0, 1.0, 0, 0, 0, 0, 0.5, 0, 0, 0, 0, 0, 0, 0, 0.3333333333333333, 1.0, 0, 0.3333333333333333, 0, 0, 0, 1.0, 0, 0.3333333333333333, 0.5, 0.16666666666666666, 1.0, 0.25, 1.0, 1.0, 0, 0, 0, 0, 0, 0.5, 0.5, 0, 0, 0.1111111111111111, 1.0, 0, 0.5, 1.0, 1.0, 0.1111111111111111, 1.0, 0, 0, 0.125, 0.25, 0, 0.125, 0.3333333333333333, 0.3333333333333333, 1.0, 1.0, 1.0, 0, 0, 0, 0, 0, 0, 0, 0.25, 0, 0.125, 0, 0, 0, 0, 0.5, 0.1, 0.16666666666666666, 0, 0, 0, 0, 0, 0.125, 0, 0.3333333333333333, 1.0, 0.125, 0, 0, 0, 0, 0, 0, 1.0, 0, 0.1111111111111111, 0, 1.0, 0, 0, 0, 0, 0, 0, 0, 0, 0, 0, 1.0, 0, 1.0, 0, 0.5, 0, 1.0, 0, 1.0, 0, 0, 0, 0.16666666666666666, 0, 1.0, 0, 1.0, 0, 0, 1.0, 0.25, 0.25, 0, 0, 0, 1.0, 0.5, 0, 1.0, 1.0, 0.5, 0, 0, 0, 0, 1.0, 0.14285714285714285, 0, 0.2, 0.25, 0, 0.1, 0, 0, 0.3333333333333333, 0, 0.25, 0.14285714285714285, 1.0, 0, 1.0, 0.2, 0, 1.0, 1.0, 0, 0.1111111111111111, 0.2, 0.5, 1.0, 0.3333333333333333, 0, 0, 0, 0, 0.3333333333333333, 0, 0, 1.0, 0.16666666666666666, 0.2, 1.0, 0, 0, 0.2, 1.0, 0.16666666666666666, 0.125, 0, 0, 0, 0, 1.0, 0, 0.5, 1.0, 1.0, 1.0, 0.2, 1.0, 0.5, 0.5, 0, 0, 0, 1.0, 0, 0, 0, 0, 0, 0.14285714285714285, 0, 0, 0, 1.0, 0, 1.0, 0, 0, 0, 1.0, 0, 0.16666666666666666, 1.0, 0, 1.0, 1.0, 0.1111111111111111, 0, 0.16666666666666666, 1.0, 1.0, 0, 0, 0, 0, 1.0, 0.5, 0, 0, 0, 1.0, 0.2, 0.25, 0, 1.0, 0, 1.0, 0, 1.0, 0.1, 0, 0.16666666666666666, 0.1, 0, 0, 0.14285714285714285, 0, 1.0, 0.5, 0, 0, 0, 0, 0.2, 0, 0, 0, 0.14285714285714285, 0.5, 0.125, 0, 0, 0.25, 0, 0, 1.0, 1.0, 0.5, 0.125, 0, 0, 1.0, 0, 0, 0, 0.3333333333333333, 0.5, 1.0, 1.0, 0.5, 0, 0.1, 0.5, 0, 0, 0.25, 0, 1.0, 0.25, 0, 0, 0.125, 1.0, 0.14285714285714285, 0, 1.0, 0, 1.0, 1.0, 1.0, 0, 0, 0, 0, 1.0, 0, 0.5, 0.5, 0, 1.0, 0, 0, 1.0, 0, 0.125, 1.0, 0, 0, 0.5, 0, 0.25, 0, 1.0, 0, 0.5, 1.0, 0, 0.3333333333333333, 0.14285714285714285, 0, 1.0, 0, 0.5, 0.14285714285714285, 0.5, 0.25, 0.5, 0, 1.0, 0.5, 0, 0, 0, 0, 0, 0, 1.0, 0, 0.5, 0, 0.2, 0, 1.0, 0.16666666666666666, 0.5, 0.2, 0.16666666666666666, 0.25, 1.0, 0, 0.5, 0, 0, 0.125, 1.0, 0.5, 0, 0, 1.0, 0, 0, 0, 0.3333333333333333, 0, 0.5, 1.0, 1.0, 0, 0.25, 0, 0, 0, 0.5, 0.5, 0.3333333333333333, 0.2, 0, 0, 0, 0, 0.125, 0.25, 0, 0, 0, 1.0, 0, 0.16666666666666666, 0, 0, 0, 0.16666666666666666, 0.3333333333333333, 0.5, 0, 1.0, 1.0, 0, 0, 0, 0, 1.0, 0.3333333333333333, 0, 0.3333333333333333, 1.0, 0, 0.25, 1.0, 0.14285714285714285, 0, 0, 0, 0, 1.0, 0, 1.0, 0, 0, 0, 0, 0, 0.5, 0, 1.0, 0.125, 0.14285714285714285, 0.5, 0.1, 0.16666666666666666, 0, 0.25, 0, 0, 0, 0, 0, 0, 0, 0, 0.2, 0, 0, 0, 0, 0, 0, 0, 0, 0, 0, 0, 0, 0, 0, 0, 0, 0, 0.14285714285714285, 0.16666666666666666, 0, 1.0, 0, 1.0, 0.16666666666666666, 0.25, 0.5, 0.125, 0, 0.5, 0, 0.3333333333333333, 1.0, 0.16666666666666666, 0, 1.0, 1.0, 0, 0, 0.3333333333333333, 0.5, 0, 0.14285714285714285, 0, 0, 0.5, 0, 0, 0, 0, 0, 0, 0.16666666666666666, 0.125, 0.3333333333333333, 0, 0.14285714285714285, 1.0, 1.0, 0, 0, 0, 1.0, 0.2, 0.5, 0.125, 0, 0, 0, 0, 1.0, 0.1111111111111111, 1.0, 0.3333333333333333, 1.0, 0.5, 1.0, 1.0, 0.5, 0, 1.0, 0, 0, 0, 0, 0.25, 0, 0, 0.3333333333333333, 0, 0.25, 0, 0, 0, 0.125, 0.125, 0, 0.1111111111111111, 0.3333333333333333, 0, 1.0, 0.5, 0, 0, 0, 0.5, 0, 0.14285714285714285, 0.5, 0, 0, 0, 0, 0, 0, 0, 0, 0.5, 0, 0, 0, 0, 0, 0, 0.3333333333333333, 0, 0.5, 1.0, 0, 1.0, 0.5, 0, 0, 0.5, 0, 0, 0, 0.1111111111111111, 1.0, 0, 0.125, 0.5, 0, 0.25, 0, 0, 1.0, 0, 0, 1.0, 0, 1.0, 1.0, 0.14285714285714285, 0.1111111111111111, 0, 0.25, 0, 0.1111111111111111, 1.0, 1.0, 0, 0, 0, 1.0, 0.3333333333333333, 0.25, 0, 0.5, 0, 0.16666666666666666, 0, 1.0, 0, 0, 0.5, 0, 0, 0, 0, 0.3333333333333333, 0, 0, 0, 0.16666666666666666, 0.5, 0, 0, 0.1, 0, 0, 0, 0.5, 0, 1.0, 0.25, 1.0, 0.3333333333333333, 0, 1.0, 0, 0, 0, 0, 0.2, 0.5, 0.125, 0, 0.16666666666666666, 0, 0.25, 0.14285714285714285, 0.25, 0.5, 0, 1.0, 0.1, 0.25, 0, 0.1111111111111111, 0.14285714285714285, 0, 0, 1.0, 1.0, 1.0, 0, 0.3333333333333333, 0, 0, 0.14285714285714285, 0.3333333333333333, 0, 0.14285714285714285, 0, 0.14285714285714285, 0, 0.25, 0.1111111111111111, 0, 0, 1.0, 0, 0, 0.3333333333333333, 0.16666666666666666, 0.3333333333333333, 0.2, 0, 0, 0, 0, 0, 0.3333333333333333, 0, 1.0, 0, 0, 0, 0.25, 0.1111111111111111, 0, 1.0, 0, 0, 0, 1.0, 0, 0, 0.2, 0, 0, 0.5, 1.0, 0.14285714285714285, 0, 0, 0, 1.0, 0.125, 0, 0.5, 0, 0, 1.0, 1.0, 0, 0, 0, 1.0, 1.0, 0, 1.0, 0.25, 0, 0, 1.0, 0, 0, 0, 0.3333333333333333, 0, 0.1111111111111111, 1.0, 0.125, 0.5, 1.0, 0.3333333333333333, 0, 0.3333333333333333, 0.25, 0, 0, 0.14285714285714285, 0.5, 1.0, 0, 0, 0.1, 0, 1.0, 1.0, 0, 0, 0.3333333333333333, 0.2, 0, 1.0, 1.0, 1.0, 0.5, 0, 0, 0, 1.0, 1.0, 0, 0, 1.0, 0, 0, 1.0, 0.3333333333333333, 0.3333333333333333, 0, 0, 0, 0, 1.0, 0.1, 0, 1.0, 0, 0.14285714285714285, 0, 0, 0, 0, 0, 1.0, 1.0, 0, 0, 0, 0.5, 0.5, 0, 1.0, 0.3333333333333333, 0, 0, 1.0, 0.1111111111111111, 0, 0, 0, 0, 0, 0.14285714285714285, 0, 0, 0, 0, 0, 0, 0, 0.14285714285714285, 0, 0, 1.0, 0, 0, 0, 0.25, 0, 0, 0, 0, 0.25, 1.0, 0, 0, 0, 0, 0, 0, 0.2, 1.0, 0, 1.0, 0.3333333333333333, 0, 0, 0, 0, 0, 0, 0, 1.0, 1.0, 0, 0, 0, 0.125, 0.2, 0.5, 1.0, 0, 0.16666666666666666, 0.1111111111111111, 0, 1.0, 1.0, 1.0, 1.0, 0.125, 0, 0.5, 0, 0, 1.0, 0, 1.0, 0, 0, 0, 0, 0, 0, 0, 1.0, 1.0, 0, 0, 0.16666666666666666, 0.16666666666666666, 0, 0.2, 0, 0, 0, 0, 0, 0, 0, 0, 1.0, 0, 0.125, 0, 0.125, 1.0, 0, 0, 1.0, 1.0, 0, 0, 0, 0, 0, 1.0, 0.14285714285714285, 0, 0.3333333333333333, 0, 0, 0.14285714285714285, 0, 0.5, 1.0, 0, 0, 0, 0, 0, 0, 0, 0.2, 0, 0.16666666666666666, 1.0, 0, 0.125, 0, 0, 0, 0, 1.0, 0, 0, 0, 0.125, 0, 0, 0, 0, 0, 0, 0.25, 0, 0, 1.0, 0.16666666666666666, 0, 0, 0, 1.0, 1.0, 0, 0, 1.0, 0, 0, 0, 1.0, 0, 1.0, 1.0, 1.0, 0, 0.5, 0.2, 0.2, 1.0, 0, 1.0, 0.3333333333333333, 0.5, 0, 0, 1.0, 1.0, 0.3333333333333333, 0, 0, 0, 1.0, 0.3333333333333333, 0, 0.25, 0, 1.0, 0, 0, 0, 0, 0, 1.0, 0, 1.0, 0.5, 1.0, 1.0, 0, 0, 0, 0, 0.5, 0, 0, 0.25, 0.2, 0, 0.25, 0.25, 0, 0, 0, 0, 0, 0, 0, 0, 0, 0, 0, 0, 0, 0, 0, 0.3333333333333333, 0, 0, 0, 0, 1.0, 0, 0, 0, 0, 0.5, 0, 0.5, 0, 0, 0, 0, 0, 1.0, 0.16666666666666666, 0, 0, 0, 1.0, 0, 0, 1.0, 0.2, 0, 1.0, 1.0, 0, 0, 0, 0, 1.0, 0, 0, 0, 0.3333333333333333, 0.14285714285714285, 0, 0, 0.3333333333333333, 0, 0.125, 0.125, 0, 0.5, 0, 0, 0.3333333333333333, 0.14285714285714285, 0.3333333333333333, 0.5, 0, 0, 1.0, 0.14285714285714285, 1.0, 1.0, 0.125, 0, 0, 0, 0, 0.14285714285714285, 0, 0, 0.2, 0, 0, 0, 0, 0, 1.0, 1.0, 0, 0, 0, 0, 0.3333333333333333, 0, 0, 1.0, 0, 0, 1.0, 0.3333333333333333, 1.0, 1.0, 0, 1.0, 0.125, 0.14285714285714285, 0, 0, 0, 0.5, 0, 1.0, 0, 0, 0, 0, 0, 1.0, 0, 0, 0, 0, 0.25, 0, 1.0, 0.5, 0, 0, 0.5, 0, 0, 0, 0, 0, 0, 0, 0, 1.0, 0.16666666666666666, 0, 0, 1.0, 0.3333333333333333, 0, 0.2, 0.2, 0.5, 1.0, 0.125, 0, 1.0, 0.14285714285714285, 0, 0, 0.5, 1.0, 1.0, 0.25, 0, 0, 0, 0, 0.5, 1.0, 0, 1.0, 0.5, 0, 0, 0, 0.25, 0, 1.0, 1.0, 1.0, 0, 1.0, 0, 0, 0.5, 0.5, 0, 0, 0, 0.1111111111111111, 0, 0.5, 0.1111111111111111, 0, 0, 1.0, 0, 0.25, 0.5, 0, 0.5, 1.0, 1.0, 0.5, 0, 1.0, 0.16666666666666666, 0, 0, 0, 0.2, 1.0, 0, 0.1111111111111111, 0.25, 0, 1.0, 0, 1.0, 1.0, 0, 0.25, 0, 0, 0, 0, 0.5, 1.0, 1.0, 0, 0, 0.3333333333333333, 0, 1.0, 0, 0, 1.0, 0.1, 0, 0, 1.0, 1.0, 0.1111111111111111, 0.1111111111111111, 0.25, 0.1111111111111111, 0, 0.2, 0, 1.0, 0, 0.5, 0, 0.5, 0, 1.0, 0, 0.2, 0, 0.5, 0, 0.5, 1.0, 0.3333333333333333, 1.0, 1.0, 1.0, 0, 0.14285714285714285, 0, 0.5, 0.14285714285714285, 1.0, 0, 1.0, 1.0, 1.0, 0.1, 0, 0, 1.0, 1.0, 0.5, 0.3333333333333333, 0.3333333333333333, 0.16666666666666666, 0, 0.1111111111111111, 1.0, 0, 0, 0.1111111111111111, 1.0, 0, 1.0, 1.0, 0.2, 1.0, 0, 1.0, 0.3333333333333333, 0.5, 0.3333333333333333, 1.0, 0, 0.25, 0.25, 1.0, 0, 0, 0, 1.0, 1.0, 0.5, 0, 0.25, 0.2, 0.16666666666666666, 0, 1.0, 0, 0, 1.0, 0.2, 0, 0.5, 0.5, 0, 0, 0.3333333333333333, 0, 0.5, 0.5, 0.14285714285714285, 0.1, 0.5, 0, 0, 0, 1.0, 1.0, 0, 0, 1.0, 0.5, 0.3333333333333333, 0, 1.0, 0, 0, 0, 0.16666666666666666, 0.2, 0, 0, 0, 0.3333333333333333, 0, 1.0, 0, 0, 0, 0.3333333333333333, 0, 1.0, 0, 1.0, 1.0, 0.16666666666666666, 0, 0, 1.0, 0, 0, 0.2, 1.0, 1.0, 0.1, 1.0, 0.1, 0, 1.0, 0, 0, 0, 0, 0, 0.3333333333333333, 1.0, 0, 0.25, 1.0, 0, 0, 0, 0, 0.25, 1.0, 1.0, 1.0, 0.25, 0, 0, 0, 0, 0, 0, 0.5, 1.0, 0, 1.0, 0.2, 0.5, 0.14285714285714285, 0.5, 0, 0, 0, 0, 0, 1.0, 0, 0, 0, 0, 0, 0, 0, 0, 0.14285714285714285, 0, 0.1111111111111111, 1.0, 1.0, 0, 0.5, 0.5, 1.0, 0.16666666666666666, 0.5, 0, 1.0, 1.0, 0.3333333333333333, 1.0, 1.0, 0.5, 0.2, 0.2, 0, 0.5, 0.3333333333333333, 0.125, 0, 1.0, 0, 0.5, 0.3333333333333333, 0, 0.5, 0.1111111111111111, 0, 0, 0, 0.1111111111111111, 0.25, 1.0, 1.0, 0.14285714285714285, 0.3333333333333333, 1.0, 0, 0, 0, 0, 1.0, 0, 0.2, 0.2, 1.0, 1.0, 0, 0, 0.3333333333333333, 1.0, 0, 0.1, 0, 1.0, 0, 0.25, 0.125, 1.0, 0, 0, 1.0, 0.14285714285714285, 0, 0.2, 0, 1.0, 0, 0, 1.0, 0, 0.3333333333333333, 0, 0, 0, 0, 0, 0, 1.0, 0, 0.5, 0, 0, 0, 0, 0.25, 0.16666666666666666, 0, 0, 1.0, 0.5, 0.25, 0.3333333333333333, 1.0, 0, 0, 0, 0, 1.0, 0, 0.25, 1.0, 0, 1.0, 0.125, 0, 0, 1.0, 1.0, 0, 0, 0, 0, 0, 0, 0, 0, 0.1111111111111111, 0.16666666666666666, 0, 1.0, 0.125, 0, 0.3333333333333333, 0, 0.1, 1.0, 0.25, 1.0, 0.3333333333333333, 1.0, 0.16666666666666666, 0, 0, 1.0, 1.0, 0, 1.0, 0.5, 0, 0, 1.0, 0, 0, 0, 0, 0.5, 1.0, 0, 1.0, 0, 0, 0.2, 0, 0, 0.3333333333333333, 0, 0, 0, 0, 0, 0, 0, 0, 0, 0, 0.3333333333333333, 0, 0, 0, 0.3333333333333333, 0, 0.5, 0, 0, 1.0, 0, 0.25, 1.0, 1.0, 0, 0, 0, 0, 0.2, 0.3333333333333333, 0, 0, 0, 1.0, 1.0, 0.125, 1.0, 0, 0, 1.0, 0.14285714285714285, 0.16666666666666666, 1.0, 1.0, 0.3333333333333333, 1.0, 0, 0.25, 0.5, 0.5, 0.2, 0.14285714285714285, 0.25, 0, 0, 0.3333333333333333, 0.3333333333333333, 0.125, 1.0, 0, 0, 0.5, 0, 0, 0, 0.5, 1.0, 0, 0.25, 0.5, 1.0, 0, 0.3333333333333333, 1.0, 0, 0.1, 1.0, 0, 0.125, 0, 0.25, 0.25, 1.0, 0, 0, 0, 0, 1.0, 0, 0, 0, 0, 0, 0.1111111111111111, 0, 1.0, 0.25, 0, 0, 0.25, 0.5, 0.5, 0.5, 0.3333333333333333, 1.0, 0, 0.16666666666666666, 0, 0.1111111111111111, 0.5, 0, 0, 0, 0.5, 1.0, 0.16666666666666666, 0.14285714285714285, 0.3333333333333333, 0.25, 0.25, 1.0, 0, 0, 0.3333333333333333, 0, 0, 1.0, 0.1111111111111111, 0, 0, 0, 0.125, 1.0, 0, 0, 0.5, 0, 0.14285714285714285, 0.5, 1.0, 0.125, 0, 0.25, 1.0, 1.0, 0.25, 0, 0.3333333333333333, 0.2, 0.5, 0.5, 0, 0, 0, 0, 0, 0, 1.0, 0, 0, 0, 1.0, 0.3333333333333333, 0, 1.0, 1.0, 0.16666666666666666, 0.5, 0.25, 0.5, 0.3333333333333333, 1.0, 0, 0, 0.5, 0, 0, 0, 1.0, 0, 0, 0, 0, 0, 0, 0, 0, 0.14285714285714285, 0, 0.1, 0, 0, 0, 0.5, 0.3333333333333333, 0, 1.0, 0, 0, 0, 0, 0, 0, 0, 0.3333333333333333, 0.3333333333333333, 0, 0, 0, 0.1111111111111111, 1.0, 0, 0, 0, 0, 0, 0, 1.0, 0, 0, 0.3333333333333333, 0.5, 0.5, 0, 0, 1.0, 0, 0.5, 1.0, 0, 0, 0, 0, 1.0, 1.0, 0, 0, 0, 0, 0, 0, 0, 1.0, 0.16666666666666666, 0.125, 0.25, 0, 1.0, 0.5, 1.0, 0.1, 0, 0, 0, 0, 1.0, 0, 1.0, 0.5, 0, 0, 0, 0, 1.0, 0, 0, 0, 1.0, 0.125, 1.0, 0, 0.16666666666666666, 0.3333333333333333, 0.14285714285714285, 0.3333333333333333, 0.5, 0, 0, 0.3333333333333333, 1.0, 0.5, 0.3333333333333333, 0, 0, 0, 0, 0.5, 0, 0.2, 0.16666666666666666, 1.0, 1.0, 0, 1.0, 1.0, 0.3333333333333333, 1.0, 0, 0, 0, 0, 1.0, 1.0, 0.14285714285714285, 0, 0.3333333333333333, 0, 0, 0.5, 0.5, 0, 0, 0, 0, 0.16666666666666666, 0.3333333333333333, 0.3333333333333333, 1.0, 0.3333333333333333, 0, 0, 0, 0.3333333333333333, 0.3333333333333333, 0.14285714285714285, 0.14285714285714285, 0, 0, 0, 0, 0, 0, 0, 0, 0, 0, 0, 0, 0, 0, 0, 1.0, 0.3333333333333333, 0.16666666666666666, 0.3333333333333333, 1.0, 0, 0.3333333333333333, 0, 0, 0, 1.0, 0, 0, 1.0, 0, 0.14285714285714285, 0, 0, 0.3333333333333333, 0, 0, 0, 0.3333333333333333, 1.0, 0, 0, 1.0, 0, 1.0, 0, 0.3333333333333333, 1.0, 0, 0, 0, 0, 0, 0, 0, 0, 0, 0, 0, 0.5, 0, 1.0, 0, 0, 0, 0, 0.3333333333333333, 0, 0.3333333333333333, 0, 0.5, 0.25, 0, 0, 0.5, 0, 0, 0, 0, 0, 0.14285714285714285, 1.0, 0, 0.5, 0.5, 0, 0, 1.0, 0.3333333333333333, 0.5, 1.0, 0, 0, 0, 0, 0, 0.5, 1.0, 0, 0, 0.2, 1.0, 0.5, 0, 1.0, 1.0, 1.0, 0, 0, 0.25, 1.0, 0, 1.0, 1.0, 0, 0, 0, 0, 0, 0, 0, 0, 0, 0.16666666666666666, 0.2, 0, 0, 1.0, 0, 0, 0, 0.2, 1.0, 0, 0, 0.5, 1.0, 0, 0, 0.14285714285714285, 0.3333333333333333, 0, 0, 0, 0, 0, 0, 0, 0, 0, 0, 0, 0, 0, 0.3333333333333333, 0.16666666666666666, 0.14285714285714285, 0, 1.0, 1.0, 0, 0.5, 0, 0, 0.5, 0.14285714285714285, 1.0, 1.0, 0.2, 0.25, 0.2, 0, 0, 0.25, 0, 0, 0, 0, 0, 1.0, 0.2, 0.5, 0, 1.0, 0, 0, 0, 0, 1.0, 0, 0, 0, 0, 0, 0.3333333333333333, 0.5, 0, 0.5, 0.3333333333333333, 0, 0, 0.1111111111111111, 0, 0.1, 0, 0.5, 0, 1.0, 0.2, 0, 1.0, 0, 0, 1.0, 0.16666666666666666, 1.0, 0, 0, 0, 0, 0, 0.16666666666666666, 0, 0.25, 1.0, 0.3333333333333333, 0, 0, 0.3333333333333333, 0, 0, 0, 0, 0, 0, 0, 0, 0, 0, 0, 1.0, 0, 0, 0.5, 0, 0.2, 0.125, 0, 0.25, 0, 0, 0, 0, 0.5, 0.25, 0, 0.3333333333333333, 1.0, 0, 0, 0.3333333333333333, 0, 0, 1.0, 0, 0, 0.16666666666666666, 0.5, 0.2, 0.16666666666666666, 0, 0, 0, 0, 1.0, 0.3333333333333333, 0, 1.0, 0, 0, 0.5, 0, 1.0, 0, 0.5, 0.3333333333333333, 0, 0.2, 1.0, 1.0, 0, 0.3333333333333333, 0.1, 1.0, 0, 0.2, 0.5, 0, 0, 0, 0, 1.0, 0.5, 0, 1.0, 1.0, 0, 0, 0, 0, 1.0, 0.5, 0.5, 0.25, 0, 0, 0.3333333333333333, 0.3333333333333333, 1.0, 0, 1.0, 0.5, 1.0, 1.0, 0, 0.14285714285714285, 0, 1.0, 0.2, 0.25, 0, 0, 0, 0, 0, 0, 0, 1.0, 0.5, 1.0, 0.14285714285714285, 1.0, 0, 1.0, 0.25, 0, 0, 0.1111111111111111, 0, 0, 0, 0, 1.0, 0, 1.0, 1.0, 0, 0, 0, 1.0, 0, 0, 1.0, 0.3333333333333333, 0, 1.0, 1.0, 0.1, 0.5, 0, 0.3333333333333333, 1.0, 0, 0.3333333333333333, 0.5, 0.5, 0, 0, 0, 0.2, 0, 0, 0.5, 0, 0.16666666666666666, 1.0, 0, 0.3333333333333333, 0, 0.14285714285714285, 0.5, 0, 0, 0, 0.25, 1.0, 1.0, 0.25, 0, 0.14285714285714285, 0.2, 0, 0, 0, 0, 0, 1.0, 0, 0, 1.0, 0, 0, 0.1111111111111111, 0.3333333333333333, 0, 0.5, 1.0, 1.0, 0, 0, 0.5, 0, 0, 0, 1.0, 1.0, 0, 0.2, 0, 0, 1.0, 0, 0.5, 0, 1.0, 0, 0, 0, 0, 0, 0, 0.25, 0, 0.1, 1.0, 1.0, 0.25, 0, 0.2, 0.3333333333333333, 0, 0, 1.0, 0, 0, 0.5, 1.0, 0, 0, 0, 0, 1.0, 0.3333333333333333, 0.5, 0, 0, 0, 1.0, 0, 0.5, 1.0, 0, 1.0, 0.25, 0, 0, 0, 0, 0.5, 0.5, 0, 0.1111111111111111, 0, 1.0, 0, 0.16666666666666666, 1.0, 0, 1.0, 1.0, 1.0, 0.25, 1.0, 1.0, 1.0, 1.0, 0, 0.5, 0, 0, 0.1111111111111111, 0, 0.3333333333333333, 0.25, 0, 0, 0.25, 1.0, 0.25, 0, 0, 0.1111111111111111, 0.3333333333333333, 0, 0.125, 0.2, 0.5, 0, 0, 1.0, 0.125, 0, 0, 0.5, 1.0, 1.0, 0, 0, 0.1111111111111111, 0, 0, 0, 0, 0, 0, 0, 0, 0, 0, 0, 0, 0, 0.1111111111111111, 0, 0, 0, 0.125, 0.16666666666666666, 1.0, 1.0, 0.16666666666666666, 0, 0, 0.125, 1.0, 0, 0, 0.3333333333333333, 1.0, 0, 0.125, 0.2, 1.0, 0.3333333333333333, 0.125, 1.0, 0, 0, 1.0, 0, 0, 0, 0, 0, 0.3333333333333333, 0, 0.5, 1.0, 0, 0.3333333333333333, 0.125, 0.3333333333333333, 1.0, 0, 0, 1.0, 0.5, 0, 0.5, 0, 0, 0.25, 0.14285714285714285, 1.0, 0, 0.2, 1.0, 1.0, 1.0, 0.3333333333333333, 1.0, 0, 0, 0, 0.25, 1.0, 0, 1.0, 0, 0, 0.2, 0, 0, 0.5, 0, 0, 0, 1.0, 1.0, 0.5, 0, 0.25, 0, 0.3333333333333333, 0.14285714285714285, 0, 0.3333333333333333, 0.2, 1.0, 1.0, 1.0, 1.0, 1.0, 0, 0, 0, 1.0, 0.3333333333333333, 0, 1.0, 1.0, 0, 1.0, 0, 1.0, 0, 0.5, 0, 0, 1.0, 0, 1.0, 0, 0, 0, 0, 0.14285714285714285, 0.5, 0, 0, 1.0, 0, 0.25, 0, 0, 0.3333333333333333, 1.0, 0.5, 0, 1.0, 1.0, 0.5, 0, 0, 0, 0.3333333333333333, 0.5, 0, 1.0, 0.25, 0.3333333333333333, 0.1, 0.5, 0.16666666666666666, 0, 0, 0, 0.25, 0, 0.1, 1.0, 0, 1.0, 0, 0.3333333333333333, 1.0, 0.25, 0, 0.125, 1.0, 1.0, 0.2, 0.25, 0.3333333333333333, 0, 0, 1.0, 1.0, 0.5, 0.3333333333333333, 0.25, 1.0, 1.0, 1.0, 0, 0, 0.3333333333333333, 0.5, 1.0, 0.5, 0, 1.0, 0, 0, 0.5, 0, 0.14285714285714285, 0, 0, 0, 1.0, 0, 0.16666666666666666, 0.5, 0, 0, 1.0, 0, 0, 0, 0, 0.5, 0, 0, 0.25, 0, 0, 0, 0, 0, 0, 0.2, 0.14285714285714285, 0, 0, 0, 0, 0, 0.5, 0, 0.2, 0, 0, 0, 1.0, 0, 0, 0.25, 1.0, 0.3333333333333333, 0.125, 0, 0, 0, 0, 1.0, 0, 0, 0.3333333333333333, 0.3333333333333333, 0.5, 0, 0.16666666666666666, 0, 0, 0, 0, 0, 0.3333333333333333, 0, 0, 0, 0, 0, 0, 1.0, 0.25, 0, 0, 0.14285714285714285, 1.0, 0, 0, 0, 0, 0.3333333333333333, 0, 1.0, 0, 0, 0, 0.3333333333333333, 0, 1.0, 1.0, 0, 0, 1.0, 0, 0, 0, 0, 0.5, 1.0, 1.0, 1.0, 0, 0, 0, 0, 0, 0.5, 0.125, 0, 0.5, 1.0, 0.16666666666666666, 0, 0.5, 0.1111111111111111, 0.1, 0, 0, 0.5, 0, 0, 0, 0, 0.5, 0, 1.0, 0.125, 0, 0, 0, 0, 0, 0, 0.5, 0, 0.5, 1.0, 0, 0.5, 0, 0, 0.5, 1.0, 0.5, 0.25, 0.14285714285714285, 0.5, 0.25, 0, 0, 0, 0, 0, 0, 0, 0, 0.25, 0.3333333333333333, 1.0, 0, 0.5, 0.2, 0.3333333333333333, 0, 0, 1.0, 0, 0.25, 1.0, 1.0, 0, 0.3333333333333333, 1.0, 1.0, 0, 0.1111111111111111, 0, 0.3333333333333333, 0, 0, 0.16666666666666666, 0, 0, 1.0, 0, 0, 1.0, 1.0, 0, 1.0, 1.0, 1.0, 0.5, 0.5, 0, 1.0, 0.3333333333333333, 0, 1.0, 1.0, 0, 0, 0, 1.0, 1.0, 0.5, 0, 1.0, 0.16666666666666666, 0, 0.3333333333333333, 0.3333333333333333, 0, 0, 0, 0, 0, 0.125, 0.125, 0.2, 0, 0, 1.0, 0.5, 0.3333333333333333, 0, 1.0, 0, 0, 0.3333333333333333, 0, 0, 0, 0, 0.5, 0.16666666666666666, 0.14285714285714285, 0, 0, 1.0, 0, 0, 0, 0, 0, 0, 0, 0, 0.25, 0, 0, 0.1, 0, 0, 0, 0, 0, 0.14285714285714285, 1.0, 1.0, 0, 1.0, 0, 0, 0.25, 0, 0, 1.0, 0.1, 0, 1.0, 1.0, 0.5, 0.5, 1.0, 0, 1.0, 0, 0, 0.3333333333333333, 0.5, 0, 0, 0, 1.0, 0.5, 0, 1.0, 0, 0, 0, 0.16666666666666666, 1.0, 0.5, 0, 0, 1.0, 0.3333333333333333, 0, 0.5, 0.2, 0, 0, 1.0, 0, 0, 0, 0, 0, 0.3333333333333333, 0.16666666666666666, 0.1, 0.2, 0.3333333333333333, 0, 0.16666666666666666, 0, 0.5, 0.5, 1.0, 0, 1.0, 0, 0, 0.1111111111111111, 1.0, 1.0, 0, 0, 0, 1.0, 0, 0, 0.25, 0.14285714285714285, 0, 0, 0, 1.0, 0.5, 0, 0.25, 0, 0.5, 0, 0.2, 1.0, 0, 0, 0, 0.1111111111111111, 0, 0.3333333333333333, 0.5, 0, 0, 0, 0, 0.25, 0.25, 0.125, 1.0, 0, 1.0, 0, 0, 1.0, 0, 0.16666666666666666, 1.0, 0, 0.3333333333333333, 1.0, 0, 1.0, 0.1111111111111111, 0, 0.5, 0.5, 1.0, 0, 0, 0.5, 0, 1.0, 0, 0.2, 0.3333333333333333, 1.0, 0, 1.0, 0, 0, 0, 0, 0, 0, 1.0, 1.0, 0, 0.5, 0, 1.0, 1.0, 0, 0, 0.25, 0, 1.0, 0.125, 0.3333333333333333, 1.0, 0, 0, 0.2, 0, 0, 1.0, 0.25, 0, 0, 1.0, 1.0, 0.5, 1.0, 0, 0, 0, 1.0, 0, 0, 1.0, 0.1111111111111111, 1.0, 0, 0, 0.3333333333333333, 1.0, 0, 0.2, 1.0, 0.3333333333333333, 0, 0.5, 0.5, 0, 0, 0, 0, 0, 0, 0, 0, 0, 0, 0, 0, 0.5, 0, 0, 0, 1.0, 0, 0, 0, 0.3333333333333333, 0.16666666666666666, 0, 0, 1.0, 1.0, 0.25, 1.0, 0, 0.5, 0, 1.0, 0.3333333333333333, 0, 0, 0, 0.5, 0.16666666666666666, 0, 0, 1.0, 0, 0, 0, 0, 1.0, 0.3333333333333333, 0.3333333333333333, 0, 0, 1.0, 0, 1.0, 0, 0, 0, 0, 1.0, 1.0, 0.5, 1.0, 0, 0, 0.5, 0, 0.14285714285714285, 0.3333333333333333, 0.1, 0.3333333333333333, 0.1, 0.125, 0, 0.1, 0, 0.5, 0, 0.5, 1.0, 0, 0.3333333333333333, 1.0, 1.0, 0.5, 0, 0, 0, 0, 0, 0.5, 1.0, 1.0, 0, 0.25, 0.25, 1.0, 0.5, 0.14285714285714285, 1.0, 0.16666666666666666, 1.0, 0.3333333333333333, 0, 0.125, 0, 0.5, 0, 0, 0, 0, 0, 0.1, 0, 0.2, 1.0, 0, 0, 1.0, 0, 1.0, 0.14285714285714285, 0, 0, 0, 1.0, 0, 0, 0, 0, 0, 0, 0.14285714285714285, 1.0, 0, 0, 0.3333333333333333, 0, 1.0, 1.0, 0.5, 0, 0, 0, 0, 0, 0, 0.14285714285714285, 0, 0, 0, 0.25, 1.0, 0.3333333333333333, 0.1111111111111111, 0, 0, 0, 0.5, 0, 1.0, 0, 1.0, 0, 0.25, 0.5, 0, 0, 0, 0.125, 1.0, 0.5, 0.2, 0, 0.16666666666666666, 0, 0, 0, 0.5, 0.14285714285714285, 0, 1.0, 0, 0, 0, 0.25, 0, 0, 1.0, 0.5, 0, 0.1111111111111111, 0, 0.3333333333333333, 0.3333333333333333, 1.0, 1.0, 0, 0.3333333333333333, 0.5, 1.0, 0, 0, 0.3333333333333333, 0.5, 0.3333333333333333, 1.0, 1.0, 0, 0, 0, 0, 0.5, 0.16666666666666666, 1.0, 0.3333333333333333, 0, 0, 0, 0.125, 0.2, 0.2, 0, 1.0, 1.0, 0, 0, 0, 0.1, 0, 0, 0.5, 0, 0.25, 0, 0.1, 0.16666666666666666, 1.0, 0.3333333333333333, 0, 1.0, 0, 1.0, 0, 0, 0, 0.5, 1.0, 0.2, 1.0, 0, 1.0, 0, 1.0, 0.14285714285714285, 1.0, 1.0, 0, 0, 1.0, 1.0, 0, 0, 0, 0, 0.1111111111111111, 1.0, 0, 0, 1.0, 1.0, 1.0, 0.2, 0, 0.5, 0, 1.0, 0, 0, 1.0, 1.0, 0, 0, 0, 0, 0.125, 1.0, 0, 0.5, 0.2, 0.1, 1.0, 1.0, 0, 1.0, 1.0, 0, 0, 1.0, 0, 0.125, 0.16666666666666666, 0, 0, 0, 1.0, 1.0, 0.5, 0, 0, 0, 0, 0.25, 1.0, 1.0, 0, 0, 0, 1.0, 0.3333333333333333, 0.1111111111111111, 1.0, 0, 1.0, 0, 1.0, 1.0, 1.0, 0.25, 0.5, 0, 0, 0.16666666666666666, 0, 0, 0.25, 0.3333333333333333, 0, 1.0, 0, 0, 0.3333333333333333, 1.0, 0.25, 0.3333333333333333, 1.0, 1.0, 1.0, 0, 1.0, 0.5, 0.25, 0.5, 0, 1.0, 0.5, 0, 0, 0, 0.16666666666666666, 0.5, 1.0, 0, 0, 0, 0, 0, 0, 0, 0, 1.0, 0.14285714285714285, 1.0, 0, 1.0, 1.0, 0, 0.5, 0.5, 0, 0.14285714285714285, 1.0, 1.0, 0.5, 0.3333333333333333, 1.0, 0.3333333333333333, 0, 1.0, 1.0, 1.0, 1.0, 0, 1.0, 0, 1.0, 0.3333333333333333, 0, 0.5, 0.5, 0, 0.3333333333333333, 1.0, 1.0, 1.0, 0, 0, 0, 1.0, 0.2, 1.0, 1.0, 0, 0.3333333333333333, 0, 0.14285714285714285, 0.5, 1.0, 0.3333333333333333, 1.0, 0.5, 1.0, 0, 1.0, 0.125, 0.1, 0, 0.2, 0.5, 0, 1.0, 0.1111111111111111, 0.125, 0.5, 1.0, 0.25, 1.0, 0.25, 0, 0, 0.5, 0.1, 0, 0.14285714285714285, 0.5, 1.0, 0, 0, 0, 0, 0, 1.0, 0, 0, 0.5, 0.25, 0.2, 0.3333333333333333, 0, 0, 1.0, 0.14285714285714285, 0.16666666666666666, 0.25, 0.16666666666666666, 0.25, 1.0, 1.0, 0, 1.0, 0.5, 0, 0.5, 0, 1.0, 1.0, 1.0, 0.16666666666666666, 0.5, 0, 1.0, 0.25, 0, 0.3333333333333333, 0, 1.0, 0.3333333333333333, 1.0, 0.3333333333333333, 0, 0.125, 1.0, 1.0, 1.0, 0, 0.5, 1.0, 0.5, 0, 0, 1.0, 0, 1.0, 0, 0.3333333333333333, 1.0, 0.2, 0.5, 0.3333333333333333, 0.1111111111111111, 1.0, 0, 0, 1.0, 0, 1.0, 0.25, 1.0, 1.0, 1.0, 0, 1.0, 0.1, 0.5, 1.0, 0, 1.0, 0, 1.0, 0.3333333333333333, 0, 0.5, 0, 0, 0.25, 0, 0, 0, 1.0, 0, 1.0, 0, 0, 0.25, 0.1111111111111111, 0, 0, 1.0, 0.25, 0, 0, 0, 1.0, 1.0, 1.0, 0.5, 0, 0, 1.0, 1.0, 1.0, 0, 0.5, 0, 0.2, 0.25, 0, 0.3333333333333333, 1.0, 0.5, 1.0, 0.3333333333333333, 1.0, 0, 0.5, 0, 1.0, 1.0, 0, 1.0, 1.0, 0.25, 0.5, 0, 1.0, 0, 0, 0, 0, 0.5, 0.16666666666666666, 0.5, 0, 0.5, 0.5, 0, 0, 0.5, 0.2, 1.0, 0.2, 0.5, 0.2, 0.16666666666666666, 0.1, 0.2, 0.5, 0, 1.0, 0, 0, 1.0, 0.25, 0, 1.0, 0, 0, 0, 0, 1.0, 0, 0, 0.125, 1.0, 0.5, 1.0, 0, 0.3333333333333333, 0, 0.2, 1.0, 0.3333333333333333, 0.3333333333333333, 1.0, 0, 0, 1.0, 0.5, 0.1, 0, 0.5, 1.0, 0, 0.5, 1.0, 0.5, 1.0, 0.25, 0.5, 0, 1.0, 0.5, 1.0, 0.5, 0.3333333333333333, 0.25, 0, 1.0, 0.5, 0, 0.14285714285714285, 0, 0.16666666666666666, 1.0, 0, 1.0, 0.3333333333333333, 0.3333333333333333, 1.0, 0.25, 0, 0, 0, 0, 0, 0, 0, 0, 0, 1.0, 0.5, 0, 0.14285714285714285, 0.3333333333333333, 0, 0.5, 0.14285714285714285, 1.0, 0, 0, 1.0, 1.0, 0.3333333333333333, 0, 0, 0.2, 0, 1.0, 0.5, 0, 1.0, 0.2, 0.2, 0.25, 0.3333333333333333, 0.25, 0.25, 1.0, 1.0, 0, 1.0, 0.3333333333333333, 0, 0, 0, 1.0, 0, 0.25, 0.3333333333333333, 0.125, 0, 1.0, 1.0, 0, 0, 1.0, 0, 0, 0, 1.0, 1.0, 0, 1.0, 1.0, 0.1111111111111111, 0.25, 0, 0, 1.0, 1.0, 1.0, 0.1, 1.0, 0, 0.5, 0, 0, 0.5, 0, 0, 0, 0, 0, 1.0, 1.0, 0.5, 1.0, 0, 0.5, 0, 0.2, 0.2, 1.0, 0, 0, 0.1111111111111111, 0.5, 0, 0.3333333333333333, 0, 0, 0, 0, 0, 1.0, 0, 0.3333333333333333, 0, 0.3333333333333333, 0, 1.0, 1.0, 0, 0, 1.0, 0, 0, 0.16666666666666666, 0, 0, 0.5, 1.0, 0.2, 1.0, 1.0, 0, 0, 1.0, 1.0, 0, 0.3333333333333333, 1.0, 0.25, 0.125, 0.1111111111111111, 0, 1.0, 0, 0.2, 0.25, 1.0, 0, 1.0, 0, 0, 0.14285714285714285, 0, 1.0, 1.0, 0.5, 1.0, 0, 0.5, 1.0, 0.5, 1.0, 1.0, 1.0, 0.3333333333333333, 1.0, 1.0, 0, 0.14285714285714285, 0.5, 1.0, 1.0, 0, 0, 0, 0.16666666666666666, 0.3333333333333333, 0.5, 1.0, 0.3333333333333333, 0.3333333333333333, 1.0, 0.5, 1.0, 1.0, 1.0, 1.0, 1.0, 1.0, 1.0, 0, 0.5, 1.0, 0.5, 0, 0.5, 1.0, 0, 0, 1.0, 0, 1.0, 1.0, 1.0, 0, 0, 1.0, 0, 1.0, 0, 0.5, 0.1111111111111111, 0.5, 0, 1.0, 0.3333333333333333, 0.14285714285714285, 0, 0, 0.2, 0.2, 1.0, 0, 0, 0.5, 0, 0, 0.1111111111111111, 0, 0, 0.5, 0.5, 0.1111111111111111, 0, 1.0, 0.5, 0.5, 1.0, 0, 1.0, 0, 0, 0, 0.5, 0, 0, 0, 1.0, 1.0, 0, 0, 0, 0, 0.16666666666666666, 1.0, 0.5, 1.0, 0.2, 0.14285714285714285, 0, 0.5, 1.0, 0.25, 0.25, 0.16666666666666666, 1.0, 0.25, 0.1, 0.14285714285714285, 1.0, 1.0, 1.0, 1.0, 0.5, 1.0, 1.0, 0, 0, 1.0, 0, 1.0, 1.0, 0, 0, 1.0, 1.0, 1.0, 1.0, 1.0, 0, 1.0, 1.0, 0.5, 1.0, 0.2, 1.0, 0.5, 1.0, 1.0, 1.0, 0, 0.2, 0.5, 1.0, 0.25, 0.5, 0, 0.5, 0, 0, 0, 0.5, 1.0, 0.125, 0, 0.5, 0, 0.5, 0, 0.5, 0.16666666666666666, 0.5, 1.0, 0, 0.5, 0, 0, 1.0, 1.0, 0, 0, 0.5, 1.0, 1.0, 0.5, 0.125, 0, 1.0, 1.0, 0.2, 1.0, 0.5, 0.25, 1.0, 0.3333333333333333, 0.5, 1.0, 0, 1.0, 1.0, 0, 1.0, 1.0, 1.0, 1.0, 1.0, 1.0, 0.25, 1.0, 0.5, 1.0, 0.5, 1.0, 0.1, 0, 0.5, 0, 0.1111111111111111, 1.0, 1.0, 0.125, 1.0, 1.0, 0, 1.0, 0, 0, 1.0, 0, 0, 0, 0.5, 0, 0.5, 0, 1.0, 0.5, 0.5, 0.5, 0.5, 0, 1.0, 0, 0, 0, 1.0, 0, 1.0, 0, 1.0, 1.0, 1.0, 1.0, 1.0, 1.0, 1.0, 0.5, 0.5, 0, 1.0, 1.0, 1.0, 1.0, 0.5, 0.5, 0.3333333333333333, 1.0, 0, 0.3333333333333333, 1.0, 0, 0, 1.0, 0.25, 1.0, 1.0, 1.0, 0.5, 1.0, 0, 0, 1.0, 0, 0.25, 1.0, 1.0, 0.25, 0, 1.0, 0, 0, 0.5, 0.3333333333333333, 1.0, 1.0, 0, 0, 0, 1.0, 0, 1.0, 1.0, 0, 1.0, 1.0, 0, 1.0, 0.5, 0, 0, 0.2, 0.16666666666666666, 0.3333333333333333, 0.1111111111111111, 0, 1.0, 1.0, 1.0, 1.0, 1.0, 1.0, 0.2, 1.0, 1.0, 1.0, 0, 0, 0.5, 0, 1.0, 1.0, 0.14285714285714285, 0, 1.0, 1.0, 1.0, 0, 1.0, 0.125, 0, 1.0, 1.0, 0, 0, 0, 0, 1.0, 0.16666666666666666, 1.0, 1.0, 0.25, 1.0, 0, 0.25, 1.0, 1.0, 0.25, 1.0, 0, 0, 1.0, 0.125, 1.0, 1.0, 0, 0.3333333333333333, 0.25, 0, 0.3333333333333333, 0.1111111111111111, 0, 1.0, 1.0, 1.0, 0, 0, 0.5, 0, 0.1111111111111111, 1.0, 1.0, 0, 0.125, 1.0, 1.0, 0.16666666666666666, 1.0, 1.0, 0, 0, 0, 0, 1.0, 0, 0.3333333333333333, 0, 0, 0.16666666666666666, 0, 1.0, 0, 0, 0, 0, 1.0, 1.0, 0, 0, 1.0, 1.0, 0, 0.125, 0, 1.0, 0.25, 1.0, 0.5, 0, 0.3333333333333333, 0, 1.0, 1.0, 1.0, 0, 0.1111111111111111, 1.0, 0, 1.0, 0, 1.0, 0, 0, 0, 0, 0.3333333333333333, 0.3333333333333333, 0.25, 1.0, 1.0, 0.3333333333333333, 1.0, 0.3333333333333333, 0, 1.0, 1.0, 0.5, 0.1, 0, 0.3333333333333333, 0, 0.3333333333333333, 0.5, 0.1, 1.0, 0, 0, 0.1, 0, 0, 0, 1.0, 1.0, 1.0, 0.3333333333333333, 0.5, 0, 0, 0, 0, 0, 0.5, 0.25, 0.3333333333333333, 0, 0, 0, 1.0, 0.5, 0.14285714285714285, 0.3333333333333333, 0.1, 0, 0, 1.0, 1.0, 0, 1.0, 1.0, 0.5, 0, 0, 1.0, 0, 0, 1.0, 0, 1.0, 1.0, 0.5, 1.0, 1.0, 1.0, 1.0, 0, 1.0, 0, 1.0, 0, 0.5, 0, 0, 1.0, 0, 0, 1.0, 0.5, 0, 0, 1.0, 0, 0, 0.3333333333333333, 0.125, 1.0, 1.0, 1.0, 0.5, 0.5, 0.14285714285714285, 0, 0, 0.3333333333333333, 0.5, 1.0, 0.5, 0, 0.3333333333333333, 0, 1.0, 0.5, 1.0, 0.5, 1.0, 1.0, 0, 0, 0, 0.5, 0, 1.0, 0.25, 0, 0, 0.5, 1.0, 1.0, 0.5, 0.16666666666666666, 0, 0, 0.5, 0.25, 0.16666666666666666, 0, 0, 0, 1.0, 0, 1.0, 0, 0, 1.0, 0.5, 0.1111111111111111, 1.0, 0.2, 0, 0, 0.3333333333333333, 0, 1.0, 1.0, 0, 0.25, 0.3333333333333333, 0, 1.0, 1.0, 1.0, 0, 1.0, 0, 1.0, 0, 1.0, 1.0, 0, 1.0, 1.0, 0, 1.0, 0, 0, 0, 0.16666666666666666, 0, 0.5, 1.0, 0, 0, 0, 0, 0.16666666666666666, 0.5, 0, 1.0, 0, 1.0, 1.0, 1.0, 1.0, 0, 0.16666666666666666, 0, 0, 1.0, 1.0, 0, 0, 0, 0, 1.0, 1.0, 0, 1.0, 0.5, 0.3333333333333333, 0, 0.5, 0, 1.0, 0, 1.0, 0.5, 1.0, 1.0, 0, 0, 0.125, 1.0, 0.2, 0.3333333333333333, 0, 0.14285714285714285, 0, 0, 0, 0, 0, 0.5, 1.0, 0, 0.5, 0, 0.2, 0.3333333333333333, 1.0, 0.3333333333333333, 1.0, 0.5, 0, 1.0, 0, 1.0, 1.0, 1.0, 0.3333333333333333, 0, 0, 0, 0, 0, 0.3333333333333333, 0, 1.0, 0.5, 1.0, 0.14285714285714285, 0.125, 0.25, 0, 0.5, 0.1111111111111111, 0, 0, 0, 1.0, 0, 0, 0, 0, 1.0, 0, 0, 0.5, 0, 0.1, 0, 0.3333333333333333, 0, 0, 0, 1.0, 0, 1.0, 0, 0.1, 0, 0.3333333333333333, 0.5, 0, 0, 1.0, 0, 1.0, 0, 0, 0.5, 0, 0.3333333333333333, 0, 0.125, 1.0, 0.14285714285714285, 0.5, 0, 0, 0.5, 1.0, 1.0, 0.5, 0.3333333333333333, 0.25, 0, 1.0, 0.3333333333333333, 0.14285714285714285, 0.1111111111111111, 0, 0.14285714285714285, 1.0, 1.0, 1.0, 0, 0.3333333333333333, 0, 0.25, 0.3333333333333333, 1.0, 1.0, 0.3333333333333333, 1.0, 0, 0, 1.0, 1.0, 1.0, 0, 1.0, 1.0, 0, 0.3333333333333333, 0, 1.0, 0, 1.0, 0.5, 1.0, 0.5, 0, 1.0, 0.5, 0, 0, 0, 0.2, 0.25, 0, 0.5, 1.0, 1.0, 1.0, 0, 0, 0, 0, 1.0, 1.0, 0, 0.5, 0, 1.0, 0.5, 0, 0, 0, 1.0, 0.2, 0, 0, 0.16666666666666666, 0, 0.16666666666666666, 0, 0, 1.0, 0, 0, 0, 1.0, 0, 1.0, 1.0, 0, 0.3333333333333333, 0.5, 0.2, 0.2, 0.5, 1.0, 0.2, 0, 0.5, 0.5, 1.0, 0.5, 0, 1.0, 0.5, 0, 0, 0.2, 1.0, 0, 1.0, 0, 0, 1.0, 1.0, 0.3333333333333333, 0.14285714285714285, 0, 0, 0.125, 0, 0.2, 0.14285714285714285, 0.125, 1.0, 0, 0.5, 0, 0.2, 0.5, 0.3333333333333333, 1.0, 0.3333333333333333, 0, 1.0, 1.0, 0.3333333333333333, 1.0, 0.3333333333333333, 1.0, 0, 1.0, 0, 0, 1.0, 0, 1.0, 1.0, 0.5, 1.0, 1.0, 0, 0, 0, 1.0, 0.5, 1.0, 1.0, 0, 0.5, 1.0, 0.2, 1.0, 0, 0.5, 0, 0, 0.25, 1.0, 0, 0, 0.1, 0, 1.0, 0, 0, 0, 0, 1.0, 1.0, 0, 0, 0, 0.5, 0, 0, 0.5, 0.5, 0.2, 1.0, 0.5, 0, 0.2, 0.16666666666666666, 0.14285714285714285, 1.0, 0.5, 0, 0, 0.5, 0.5, 1.0, 0, 0.3333333333333333, 0, 0, 0.3333333333333333, 0, 1.0, 0.2, 0, 1.0, 1.0, 1.0, 1.0, 1.0, 1.0, 0, 0, 0.5, 1.0, 0, 0, 0, 1.0, 0.25, 1.0, 1.0, 0, 1.0, 0, 1.0, 1.0, 1.0, 0.3333333333333333, 1.0, 0.2, 0.5, 1.0, 0, 1.0, 0, 0.2, 0.1111111111111111, 0, 0.16666666666666666, 0.3333333333333333, 0.3333333333333333, 1.0, 1.0, 0.3333333333333333, 0.2, 0, 0, 1.0, 0, 0.5, 0.16666666666666666, 1.0, 1.0, 0, 0, 0.5, 1.0, 0, 0, 0, 1.0, 0.5, 0.3333333333333333, 0.5, 0.3333333333333333, 0.5, 1.0, 0, 0, 1.0, 0.1111111111111111, 0, 0, 1.0, 0, 0.1, 0, 0.5, 0, 1.0, 0, 1.0, 0, 0, 0.14285714285714285, 0.2, 0, 0, 0, 1.0, 1.0, 1.0, 0, 0.16666666666666666, 0, 0, 0, 0, 1.0, 0, 1.0, 1.0, 1.0, 0, 0, 0.2, 1.0, 1.0, 0.1111111111111111, 0, 0.3333333333333333, 0, 1.0, 0.3333333333333333, 1.0, 0.3333333333333333, 0.2, 1.0, 1.0, 0.25, 1.0, 0, 0, 1.0, 1.0, 0, 0, 1.0, 1.0, 0, 1.0, 0.5, 1.0, 1.0, 0, 0, 0.1, 0.16666666666666666, 1.0, 0, 0, 0, 0, 0, 0.14285714285714285, 0, 1.0, 0.3333333333333333, 1.0, 0, 0, 0, 0, 1.0, 1.0, 0, 0, 0.1111111111111111, 0, 1.0, 1.0, 1.0, 0, 1.0, 1.0, 1.0, 1.0, 0.1111111111111111, 0.25, 0.1, 0.16666666666666666, 0.3333333333333333, 0, 0, 1.0, 1.0, 1.0, 1.0, 1.0, 0, 0, 0.5, 1.0, 1.0, 0, 0, 0.1111111111111111, 1.0, 0.5, 1.0, 1.0, 1.0, 0.25, 1.0, 1.0, 1.0, 1.0, 1.0, 1.0, 0, 1.0, 0.5, 0, 1.0, 0, 1.0, 0, 1.0, 0.14285714285714285, 0, 0, 0, 0.5, 0.5, 0, 0.3333333333333333, 1.0, 0, 1.0, 1.0, 0, 1.0, 0.5, 1.0, 0, 0, 0, 0.5, 0.5, 1.0, 0.5, 0.5, 1.0, 1.0, 0.3333333333333333, 0.5, 0.25, 1.0, 1.0, 0, 1.0, 1.0, 0.3333333333333333, 1.0, 1.0, 0.5, 0.3333333333333333, 0, 1.0, 0, 0, 1.0, 0, 0.5, 0.5, 0, 1.0, 0, 0.5, 1.0, 0, 0.125, 0.5, 0, 0, 0, 0, 1.0, 1.0, 0, 0.16666666666666666, 1.0, 1.0, 0.16666666666666666, 0.5, 0.5, 0, 0, 0, 0, 0, 1.0, 0, 0, 1.0, 0, 0, 0.14285714285714285, 1.0, 0.5, 0.14285714285714285, 1.0, 0, 0.1111111111111111, 1.0, 0, 0.25, 0, 1.0, 0.5, 0.125, 0, 1.0, 0.5, 0.1, 1.0, 1.0, 0.3333333333333333, 0, 0, 0, 0.2, 1.0, 0, 0, 1.0, 1.0, 0.1, 0.3333333333333333, 0, 0.5, 0, 0.16666666666666666, 0, 0, 0, 0, 0, 0, 0, 1.0, 1.0, 0.5, 0.5, 0, 1.0, 0, 0, 0, 1.0, 1.0, 1.0, 0.125, 1.0, 0, 1.0, 0, 0.3333333333333333, 1.0, 1.0, 1.0, 0.3333333333333333, 0, 1.0, 0, 1.0, 0.5, 1.0, 1.0, 1.0, 1.0, 1.0, 0, 0.1, 0.5, 0, 0, 1.0, 1.0, 0.25, 0.5, 0, 0, 0.5, 0, 0, 0.16666666666666666, 1.0, 0.5, 0.3333333333333333, 1.0, 0.16666666666666666, 0.5, 0, 1.0, 1.0, 1.0, 0, 0, 1.0, 1.0, 1.0, 0, 0.16666666666666666, 0.14285714285714285, 0.5, 0, 0, 0, 1.0, 0, 0, 0, 0, 0.2, 1.0, 1.0, 0.16666666666666666, 0.25, 0, 1.0, 0.25, 0, 1.0, 1.0, 0, 1.0, 0, 0.5, 0, 1.0, 0.5, 0.3333333333333333, 0, 0, 1.0, 0, 0, 0, 0.3333333333333333, 1.0, 1.0, 0, 0.3333333333333333, 0, 0.3333333333333333, 0.3333333333333333, 0.16666666666666666, 0.3333333333333333, 0.16666666666666666, 1.0, 0, 1.0, 0.125, 0.125, 1.0, 0.2, 0.3333333333333333, 0, 0, 0, 1.0, 0.5, 0, 1.0, 1.0, 1.0, 0, 1.0, 0.1, 0.3333333333333333, 1.0, 1.0, 0, 1.0, 0.16666666666666666, 0.5, 1.0, 0, 0, 1.0, 0.5, 0, 0, 0.5, 1.0, 1.0, 0.5, 0.3333333333333333, 1.0, 1.0, 0.1111111111111111, 1.0, 0, 0, 0.25, 1.0, 0.25, 1.0, 1.0, 0, 0, 1.0, 0, 0, 0, 0, 0, 1.0, 0, 1.0, 1.0, 1.0, 0, 1.0, 0.5, 0.5, 1.0, 0.5, 0.3333333333333333, 0, 0, 1.0, 0, 0, 1.0, 0, 1.0, 0, 0.25, 0.5, 0.14285714285714285, 1.0, 0, 0, 1.0, 0, 0, 0.25, 0.25, 0, 0.16666666666666666, 0, 1.0, 0.5, 1.0, 0, 0.1, 1.0, 0.5, 0, 1.0, 0, 0.5, 1.0, 1.0, 1.0, 0, 0, 1.0, 0.25, 0, 1.0, 0, 0, 1.0, 1.0, 0.5, 0, 1.0, 1.0, 0.1, 0.3333333333333333, 0, 0, 1.0, 1.0, 0, 0.25, 1.0, 0, 1.0, 0.5, 0.14285714285714285, 0, 1.0, 1.0, 1.0, 0.25, 1.0, 1.0, 0, 0.2, 0.5, 0.3333333333333333, 0, 0.5, 1.0, 0, 1.0, 0, 1.0, 1.0, 0, 0.14285714285714285, 0.16666666666666666, 1.0, 0, 0.5, 1.0, 0.3333333333333333, 1.0, 0.5, 1.0, 1.0, 0, 0, 0, 0, 0.5, 1.0, 0, 1.0, 1.0, 1.0, 1.0, 1.0, 0, 1.0, 1.0, 0.3333333333333333, 0, 1.0, 0, 0, 1.0, 0, 1.0, 0, 0.2, 0, 0, 1.0, 0.25, 1.0, 1.0, 0, 0.5, 0.2, 1.0, 1.0, 0, 1.0, 1.0, 1.0, 0, 0, 1.0, 0, 1.0, 0.3333333333333333, 0, 1.0, 0.5, 1.0, 0.16666666666666666, 0, 0.5, 0, 0.5, 0.5, 1.0, 1.0, 1.0, 0.14285714285714285, 1.0, 1.0, 0.5, 0.1111111111111111, 0, 0.5, 1.0, 0, 1.0, 0.3333333333333333, 0.2, 1.0, 1.0, 1.0, 1.0, 0.25, 1.0, 0.3333333333333333, 0.1, 0.125, 1.0, 1.0, 0.3333333333333333, 0, 0, 0, 1.0, 0, 1.0, 1.0, 0, 0.3333333333333333, 0.5, 0, 0, 0, 1.0, 1.0, 1.0, 0, 0, 1.0, 0.5, 1.0, 0, 0, 1.0, 1.0, 0, 1.0, 1.0, 1.0, 0, 0.5, 0, 1.0, 0, 0.5, 0, 1.0, 0, 0, 0, 0, 1.0, 0, 0, 0.3333333333333333, 0.3333333333333333, 0, 0.25, 0, 0, 1.0, 0, 0.25, 0, 1.0, 0, 1.0, 0, 0, 1.0, 1.0, 0.2, 0.5, 0.14285714285714285, 0, 1.0, 1.0, 0, 0.5, 0.1111111111111111, 0, 0.1, 0, 0, 0, 0.5, 1.0, 0, 0.1111111111111111, 0, 0, 0, 0.5, 0, 0.2, 0, 1.0, 1.0, 1.0, 0, 1.0, 0.5, 0.2, 0, 0.25, 1.0, 0, 0.25, 0.5, 1.0, 0, 0, 0, 1.0, 0, 0.16666666666666666, 0, 1.0, 0, 0, 1.0, 1.0, 0, 0, 0, 0.5, 0, 0.3333333333333333, 0.5, 0.5, 1.0, 0.14285714285714285, 0.16666666666666666, 0.2, 0, 0, 0.5, 0.5, 0, 0, 0.5, 0, 0.14285714285714285, 0.1, 1.0, 0.5, 0, 0, 0, 1.0, 0.16666666666666666, 0, 1.0, 0, 0, 0, 1.0, 0, 1.0, 0, 0, 0, 0, 1.0, 0, 1.0, 1.0, 0, 0, 0.3333333333333333, 0.14285714285714285, 1.0, 0, 0, 1.0, 0.5, 1.0, 0, 0, 0.3333333333333333, 0, 0.16666666666666666, 0, 0, 1.0, 0.5, 0, 0, 0, 0, 0, 0, 0.3333333333333333, 0, 0, 0, 0.1, 0.2, 0, 0, 0, 0, 0, 0, 1.0, 0, 1.0, 0, 0, 0, 1.0, 0.5, 0, 0.125, 0, 0, 0, 0, 0, 0.125, 0, 0, 0, 1.0, 0.2, 1.0, 1.0, 1.0, 0, 0, 0, 0.5, 1.0, 1.0, 1.0, 0.1111111111111111, 0.5, 0, 0.5, 0.5, 0.125, 0.2, 0, 0.5, 1.0, 0.3333333333333333, 0.16666666666666666, 0, 1.0, 1.0, 0.5, 0, 0.1111111111111111, 0.1111111111111111, 1.0, 0, 0, 0, 0, 0, 0, 0.5, 0, 0, 0, 1.0, 1.0, 0.3333333333333333, 1.0, 0.3333333333333333, 1.0, 0.2, 0.5, 1.0, 1.0, 0, 0, 0, 0, 0, 0, 0, 0, 1.0, 0, 0, 0.2, 0, 1.0, 0, 0.3333333333333333, 0.3333333333333333, 0.1111111111111111, 1.0, 0, 0, 0, 1.0, 0, 0, 0, 0, 1.0, 0.5, 0, 0.5, 0, 0, 1.0, 0.5, 0, 0, 0, 1.0, 0, 1.0, 0.14285714285714285, 0, 0.5, 0, 1.0, 0, 1.0, 0.1111111111111111, 1.0, 1.0, 0, 0.16666666666666666, 0.5, 0, 0, 0, 0, 0, 0, 0.25, 0, 0.1111111111111111, 1.0, 0, 0, 0, 0, 0, 0.5, 0, 0, 0, 0.5, 0, 0, 0, 0, 0, 0.25, 0, 0, 1.0, 0.5, 0, 0.1, 0, 0.5, 0, 0.5, 0.3333333333333333, 0, 0, 0, 1.0, 1.0, 1.0, 1.0, 1.0, 0.3333333333333333, 0, 1.0, 0, 0, 1.0, 0, 1.0, 0.2, 0.3333333333333333, 1.0, 1.0, 0.3333333333333333, 1.0, 0.25, 1.0, 0, 0.125, 0, 0, 0.5, 0.16666666666666666, 0.1, 0, 0.25, 0.14285714285714285, 1.0, 0.14285714285714285, 0, 0, 1.0, 0, 1.0, 0, 0, 0, 0, 0.125, 0, 0, 0.1, 0, 0, 0.2, 1.0, 0, 0, 1.0, 0, 0.2, 0, 0, 1.0, 0, 1.0, 0.125, 0, 0, 0, 0, 0, 0.2, 0, 0, 0, 0, 0.5, 0, 0, 0, 0, 0, 0, 0, 0.25, 0, 0.3333333333333333, 0.5, 0, 0.1111111111111111, 0.3333333333333333, 0.14285714285714285, 0, 1.0, 0, 1.0, 0.1, 1.0, 0, 0, 0.125, 0, 1.0, 0.3333333333333333, 0.5, 0, 0, 0, 0, 0, 0, 1.0, 0.3333333333333333, 0, 0.3333333333333333, 0.2, 0.25, 0, 1.0, 0.14285714285714285, 0, 0, 0.125, 0, 0, 0.14285714285714285, 0, 0, 0, 0, 0.14285714285714285, 0, 0, 0, 0, 0, 0.2, 0, 0, 0, 0, 0, 0, 0, 0, 0, 0, 0, 0, 0, 0, 0, 0, 0, 0.25, 0.3333333333333333, 0, 0, 0, 0.2, 0, 0, 0, 0, 0, 0.1, 0.14285714285714285, 0, 0, 0, 1.0, 1.0, 0.5, 1.0, 0.25, 1.0, 0, 1.0, 0, 0, 0, 1.0, 0, 0.3333333333333333, 1.0, 0.5, 0.5, 1.0, 0, 0, 1.0, 1.0, 0, 0.5, 0, 0.3333333333333333, 0, 0.5, 0.5, 0, 0.5, 0, 0, 0, 0, 0.14285714285714285, 0, 0.1, 0.25, 0.5, 0, 0, 0, 1.0, 0, 0, 0.2, 0.25, 0, 1.0, 0, 0, 1.0, 0, 0, 0, 0.5, 0, 0.5, 1.0, 1.0, 0.16666666666666666, 0.5, 0, 0, 0, 0.125, 0.14285714285714285, 1.0, 0.3333333333333333, 0, 1.0, 0, 0, 1.0, 0.5, 0, 0, 0, 0.16666666666666666, 0, 0.5, 0.1111111111111111, 0.14285714285714285, 1.0, 0.5, 0, 0, 0, 0, 0, 0, 0.125, 0, 0, 0, 0, 0.5, 0, 0, 0, 0.5, 1.0, 0, 0, 0, 0, 0, 1.0, 0, 0, 0.1, 0, 0.25, 0, 1.0, 0.5, 0, 0.5, 0, 0.14285714285714285, 0, 0.14285714285714285, 0, 0, 0.16666666666666666, 0.3333333333333333, 0, 0.1111111111111111, 1.0, 0, 0, 0, 0, 1.0, 0.25, 0.5, 0.5, 0.3333333333333333, 1.0, 0, 0, 0.3333333333333333, 0, 1.0, 1.0, 0, 0, 0, 0, 0, 0.16666666666666666, 0, 0, 0, 0.125, 0, 0.14285714285714285, 0, 0, 0, 0, 0.16666666666666666, 1.0, 0, 0, 0, 1.0, 0.3333333333333333, 0, 0, 0.3333333333333333, 0, 0.125, 0.5, 0.2, 1.0, 0.1111111111111111, 1.0, 0.2, 0, 1.0, 0.3333333333333333, 0.3333333333333333, 1.0, 1.0, 0.25, 0.25, 0, 0, 1.0, 0, 0, 0, 1.0, 1.0, 1.0, 0.5, 0.1111111111111111, 1.0, 1.0, 0, 0.5, 0.5, 0.5, 0, 0, 0, 1.0, 0.16666666666666666, 0, 1.0, 0.14285714285714285, 0.5, 0, 0, 0, 0, 0, 0, 0.25, 0.16666666666666666, 0, 0, 0, 0, 0, 0, 1.0, 0.3333333333333333, 0.25, 0, 0.25, 0.16666666666666666, 0, 0.3333333333333333, 0, 0.1, 0.16666666666666666, 0, 1.0, 0.1, 0.2, 0.2, 1.0, 0.5, 0.1111111111111111, 0, 0.3333333333333333, 0, 0.25, 1.0, 0, 0.5, 0.125, 1.0, 0, 0, 0, 0.3333333333333333, 0, 0, 0.16666666666666666, 0, 0, 1.0, 0.5, 1.0, 0, 0, 0.1, 0, 1.0, 0, 0.25, 0, 0.25, 0, 0, 0, 0.5, 0.16666666666666666, 0, 0, 0, 0, 0, 0.3333333333333333, 1.0, 0.2, 0, 0, 0.3333333333333333, 0, 0.2, 0.25, 0, 0, 0, 0, 0, 0, 0, 0, 0, 0, 0, 0, 0, 0, 1.0, 0.5, 0, 0, 0, 0.3333333333333333, 0, 0, 1.0, 0.5, 0.3333333333333333, 0, 0.16666666666666666, 1.0, 0, 0.1111111111111111, 0, 1.0, 0, 0, 0.5, 0, 0, 0.5, 0, 0.5, 0, 0, 0, 0.3333333333333333, 1.0, 0, 0, 0, 0, 0, 0.5, 0, 0.1, 0, 0, 0.5, 1.0, 0.3333333333333333, 0.25, 0, 0.5, 0.2, 0, 0.5, 0, 1.0, 1.0, 1.0, 0.25, 0, 0, 0, 1.0, 0.1111111111111111, 0, 0.2, 0, 0, 1.0, 0.5, 1.0, 0.2, 1.0, 0.5, 1.0, 1.0, 0, 0, 0, 0, 0, 1.0, 0, 0, 1.0, 0, 1.0, 0, 1.0, 0, 0.3333333333333333, 0, 0, 0, 0, 0, 0.25, 0.5, 0, 0.25, 0, 0, 0.3333333333333333, 0.25, 0.25, 0, 0, 1.0, 0, 0.16666666666666666, 1.0, 0, 0.25, 0, 0, 1.0, 0.1111111111111111, 1.0, 0.5, 0.14285714285714285, 1.0, 0, 0, 0.1111111111111111, 1.0, 0, 0.14285714285714285, 0, 0, 0.5, 1.0, 0.3333333333333333, 0, 0, 0, 0, 1.0, 0, 0, 0.3333333333333333, 0, 0, 0.3333333333333333, 0.1111111111111111, 0, 0.1, 0.125, 0, 0, 0, 1.0, 0, 1.0, 0, 1.0, 0.125, 0, 0, 0, 0, 0, 0.3333333333333333, 0, 0, 0.14285714285714285, 0, 0.1, 1.0, 0, 1.0, 0.14285714285714285, 0, 0, 0, 0, 0.3333333333333333, 0, 0.1111111111111111, 0, 0, 0, 0, 0, 0.16666666666666666, 0.1, 0, 0, 0, 0, 0, 0, 0, 0.14285714285714285, 0, 0.5, 0, 1.0, 0.5, 0.125, 1.0, 0.5, 0, 0.5, 0, 0, 0.16666666666666666, 0, 1.0, 0, 0.3333333333333333, 1.0, 0, 0, 0.5, 0, 0, 0, 1.0, 1.0, 1.0, 0.25, 0, 0, 0.2, 0, 0, 0.3333333333333333, 0, 0, 0, 0.14285714285714285, 0, 0.1111111111111111, 0, 0.25, 0, 0.3333333333333333, 0, 1.0, 0, 0, 1.0, 0, 0, 1.0, 1.0, 1.0, 1.0, 0, 0.1111111111111111, 0, 0, 0, 0, 0, 0, 0.2, 0, 0, 0, 0, 0.1, 0, 0, 0, 0, 0, 0, 0, 0, 0, 1.0, 1.0, 0, 1.0, 0.3333333333333333, 0.5, 0, 0, 0, 1.0, 0.3333333333333333, 0, 0, 0, 0, 1.0, 0, 0, 0, 0, 0.3333333333333333, 0, 0.125, 0.14285714285714285, 0, 0, 0, 0, 0.5, 0, 0.25, 0, 0, 0, 0.3333333333333333, 0, 0, 0, 0, 0, 0, 0, 0, 0, 1.0, 0, 0.1111111111111111, 0, 0, 0.14285714285714285, 0, 0.2, 0, 0, 1.0, 0.14285714285714285, 0, 0.16666666666666666, 0.5, 0, 0, 0, 0, 0, 0, 0.3333333333333333, 0, 0, 0, 0, 0, 1.0, 0.1111111111111111, 1.0, 0, 0.25, 1.0, 0, 0.5, 0, 0, 0.1111111111111111, 0, 0, 0, 0.3333333333333333, 0.25, 0.5, 0, 0, 0, 1.0, 1.0, 0.5, 0.5, 0, 0, 0, 0, 0, 1.0, 0.5, 0, 1.0, 0, 0, 0, 1.0, 0, 0.3333333333333333, 0.5, 0.1, 0.25, 1.0, 0.14285714285714285, 0, 0, 0.25, 0.2, 0, 0.3333333333333333, 1.0, 0, 0, 0, 0, 0.5, 0.5, 0.16666666666666666, 0, 0, 0.25, 0, 0, 0.5, 0.5, 0.2, 0, 0, 0, 0.14285714285714285, 1.0, 0.3333333333333333, 0, 0, 0, 0.5, 0.5, 0, 0, 0, 0.5, 0, 0.3333333333333333, 0.25, 0.5, 0.1, 1.0, 0, 1.0, 0, 0, 0.25, 0, 0.25, 0.3333333333333333, 0, 0, 0, 0.3333333333333333, 0, 0, 0.5, 0, 0, 0, 0, 0, 1.0, 0.14285714285714285, 0, 1.0, 0.16666666666666666, 0.14285714285714285, 0.1, 1.0, 1.0, 0, 0, 0, 1.0, 0, 0, 0, 0, 0, 0, 0, 0, 0, 1.0, 0.5, 1.0, 0, 0, 0.3333333333333333, 0, 1.0, 1.0, 1.0, 0, 0, 0, 0.14285714285714285, 1.0, 0, 0, 0, 0, 0.3333333333333333, 0, 0, 1.0, 0.125, 0.125, 0, 1.0, 0, 0.2, 0, 0, 0.5, 0, 0, 0.5, 0, 0, 0, 0, 0, 0, 0.25, 0.25, 1.0, 0.2, 1.0, 0, 0, 1.0, 0, 0, 0, 1.0, 0, 1.0, 1.0, 0, 0, 0.25, 0, 0, 0.14285714285714285, 0, 0, 0, 0.1111111111111111, 0, 0.2, 0, 0, 0, 0.14285714285714285, 0, 0, 0, 1.0, 0, 1.0, 0.5, 0, 0, 1.0, 0.2, 0.16666666666666666, 0, 0.16666666666666666, 0.5, 1.0, 0.1111111111111111, 0.5, 0.25, 1.0, 1.0, 0, 0.3333333333333333, 0, 1.0, 1.0, 0, 0, 1.0, 1.0, 0, 0, 0, 0.25, 0.3333333333333333, 1.0, 1.0, 0, 0, 0, 0, 0, 0, 1.0, 0, 0.1, 0, 0, 0, 0.5, 0, 0.16666666666666666, 0, 0.3333333333333333, 0.25, 0.14285714285714285, 0.125, 1.0, 0, 1.0, 0.25, 0, 0, 1.0, 0, 0, 0.25, 1.0, 0, 0.25, 0.3333333333333333, 0, 0, 0, 0, 0, 1.0, 0, 0, 0.5, 0, 0, 1.0, 1.0, 0, 0, 0, 1.0, 0, 0, 0.5, 1.0, 0.1, 0, 1.0, 0, 0, 0, 0, 0, 0, 0, 0.14285714285714285, 0, 1.0, 0, 0.5, 0, 0, 0.25, 0.1111111111111111, 0.3333333333333333, 0, 1.0, 0.5, 0, 0, 0.25, 0, 0.1, 1.0, 0.5, 0.3333333333333333, 0.16666666666666666, 0, 1.0, 1.0, 0, 0, 0, 0.5, 0, 0, 0, 0.25, 0, 0, 0.25, 0, 1.0, 1.0, 0.5, 0.125, 1.0, 0.5, 1.0, 1.0, 1.0, 0, 0.3333333333333333, 0, 0, 0.1111111111111111, 0, 0, 0, 0, 0, 0.125, 0.5, 0, 0, 1.0, 0, 0, 0, 0, 0.5, 0.1111111111111111, 0, 0.25, 0, 0, 0, 0, 0, 0, 0.5, 0.5, 0.2, 0.125, 0, 0.5, 0, 0, 0, 1.0, 0, 0, 0, 0, 0, 0, 0, 0, 1.0, 0.2, 0.5, 0.3333333333333333, 0, 0, 0, 0.3333333333333333, 1.0, 0.2, 0.16666666666666666, 0, 0.5, 0.3333333333333333, 0, 0.3333333333333333, 0, 0.3333333333333333, 0.2, 0.25, 0, 0, 0, 0, 0, 0.5, 0, 0.14285714285714285, 0.14285714285714285, 0, 0, 0.16666666666666666, 0.25, 0, 0, 0, 0, 0, 0, 0, 0, 0.1, 0, 1.0, 0, 0.3333333333333333, 0.1, 0, 0, 0, 1.0, 0, 0.16666666666666666, 0, 0.3333333333333333, 0, 0.5, 0, 0, 1.0, 0.3333333333333333, 0.2, 0, 1.0, 0.25, 0.5, 0, 0.1, 0.14285714285714285, 0, 0.25, 0, 0, 0, 1.0, 0, 0, 0.3333333333333333, 0.1, 1.0, 0, 0, 0, 0, 0, 0.5, 0, 1.0, 0, 0, 0.5, 1.0, 0.5, 0, 1.0, 0.5, 0.25, 0.2, 0.14285714285714285, 0, 0, 1.0, 0.2, 0, 0, 0, 0, 0.16666666666666666, 0.5, 0, 0.125, 0.5, 0, 0.3333333333333333, 0, 0.3333333333333333, 1.0, 0, 0.5, 0, 0, 0.2, 0.3333333333333333, 0, 0.3333333333333333, 0.2, 1.0, 1.0, 0.1111111111111111, 0, 0.2, 0.5, 0.3333333333333333, 0, 0, 0, 1.0, 0, 0, 0.3333333333333333, 0, 1.0, 1.0, 0, 0, 0, 0, 0.3333333333333333, 1.0, 0, 0, 0, 0, 0.125, 0.125, 0.5, 0, 0.3333333333333333, 0.5, 0, 0, 0, 0, 0.3333333333333333, 0, 0.5, 0, 0, 0, 0, 1.0, 0, 0.16666666666666666, 0, 1.0, 0, 0, 0, 0, 0, 0, 1.0, 1.0, 0, 0.2, 0, 0, 0, 1.0, 0, 0.14285714285714285, 0, 1.0, 1.0, 0, 0, 0, 0, 0, 0, 0, 0.125, 0, 0.25, 0, 0, 0.125, 0.5, 0, 0, 0, 0, 0, 1.0, 0, 0.25, 0, 0, 0, 1.0, 0, 0, 0, 0.5, 0, 0, 0, 0, 0, 0.125, 1.0, 0, 1.0, 1.0, 0, 0.5, 0, 0, 1.0, 0.5, 0, 0.25, 1.0, 0, 0, 0.25, 0, 0, 0, 0.25, 0.5, 0.5, 1.0, 1.0, 0, 0.14285714285714285, 0, 0.1, 1.0, 0.1, 0, 1.0, 0, 0, 0, 0.2, 0.16666666666666666, 0, 0, 0.125, 0.2, 1.0, 0, 0.5, 0.5, 0, 0, 0, 0.5, 1.0, 0, 0, 0, 0.5, 0.3333333333333333, 0, 0.5, 0.16666666666666666, 1.0, 0.5, 0, 0.3333333333333333, 0, 0.3333333333333333, 0.125, 0, 0, 0.16666666666666666, 0.2, 0, 0.5, 0, 0, 0.14285714285714285, 1.0, 0, 0, 0, 0, 0, 1.0, 1.0, 0.125, 0.5, 0, 0.5, 1.0, 1.0, 0, 1.0, 0, 1.0, 0, 0.25, 0, 0, 0, 0, 1.0, 1.0, 0.2, 0, 0.125, 0, 0, 0.5, 0, 0.14285714285714285, 0.14285714285714285, 0.25, 0.1, 1.0, 0, 0.1111111111111111, 0, 1.0, 1.0, 1.0, 1.0, 0, 1.0, 0, 0.3333333333333333, 0, 1.0, 1.0, 1.0, 0, 0, 1.0, 0, 0, 0.125, 0, 1.0, 0, 0.1111111111111111, 0, 1.0, 0, 0.25, 0, 0, 0, 0.3333333333333333, 0, 0, 0, 0.1, 0.125, 0.2, 0, 0.1, 1.0, 0, 0, 0.5, 0.25, 0, 1.0, 0.14285714285714285, 1.0, 0, 0, 0.14285714285714285, 0.5, 0, 0, 0, 0, 0.16666666666666666, 0, 0, 0, 1.0, 0.1111111111111111, 0.1111111111111111, 0, 0, 0, 0.5, 0.3333333333333333, 0.5, 0.125, 0, 1.0, 0.5, 0, 1.0, 1.0, 0.1, 0, 0, 1.0, 0, 0.3333333333333333, 0.3333333333333333, 0, 1.0, 0, 0, 1.0, 0.3333333333333333, 0, 1.0, 1.0, 1.0, 0.2, 0.5, 0, 0, 0.25, 0, 0, 0.5, 0.3333333333333333, 1.0, 0.5, 0, 0, 1.0, 0.2, 0, 0.16666666666666666, 0, 0, 0, 0, 0.3333333333333333, 0, 0, 0, 0, 0.1111111111111111, 0, 1.0, 0, 0.14285714285714285, 0, 0.2, 0, 0, 0, 0.3333333333333333, 0, 0.5, 0, 0.5, 0, 1.0, 0, 0.16666666666666666, 0.2, 0.5, 0, 1.0, 0, 0, 1.0, 0.1, 0, 0, 0.25, 0, 0.5, 1.0, 0.25, 1.0, 0, 1.0, 1.0, 0.3333333333333333, 0, 1.0, 0.2, 0, 0, 0, 0.5, 0, 1.0, 0, 0, 0, 0, 0, 0, 0, 0, 0, 1.0, 0.5, 1.0, 0.5, 0.1, 0, 0, 0, 1.0, 1.0, 0.16666666666666666, 1.0, 0.5, 0.2, 0, 1.0, 0.3333333333333333, 0.5, 0, 0, 0, 1.0, 1.0, 0, 0, 0, 0.3333333333333333, 0, 0, 0.3333333333333333, 0, 0.3333333333333333, 1.0, 0.2, 1.0, 0, 1.0, 1.0, 1.0, 1.0, 0, 0, 1.0, 1.0, 0, 0, 1.0, 1.0, 0.5, 1.0, 0.3333333333333333, 0.5, 1.0, 0.3333333333333333, 1.0, 1.0, 1.0, 0.16666666666666666, 0.1111111111111111, 0.5, 1.0, 1.0, 0, 0, 0, 0.125, 1.0, 0.5, 1.0, 1.0, 0.125, 0, 1.0, 0, 0, 0, 0, 0, 0, 0.25, 0.5, 0.125, 0.5, 1.0, 0, 0, 0.14285714285714285, 1.0, 1.0, 0.5, 0.25, 0, 0.14285714285714285, 0.3333333333333333, 0, 1.0, 0, 0.5, 0, 0, 0, 0.5, 0, 0, 0.14285714285714285, 0.3333333333333333, 1.0, 1.0, 0, 1.0, 0, 0.5, 1.0, 0.16666666666666666, 0, 1.0, 0, 1.0, 1.0, 0, 1.0, 1.0, 1.0, 0, 0.25, 0.5, 1.0, 0.5, 0.16666666666666666, 1.0, 0.1111111111111111, 0.2, 1.0, 0.5, 1.0, 0.25, 0.3333333333333333, 0, 1.0, 0, 1.0, 0, 1.0, 1.0, 0.5, 1.0, 0, 1.0, 0, 0.3333333333333333, 0.3333333333333333, 0, 0, 0.5, 0.14285714285714285, 0, 0.16666666666666666, 0, 0.5, 0, 0, 1.0, 1.0, 1.0, 0.1111111111111111, 1.0, 0.125, 1.0, 0, 0, 0.5, 1.0, 1.0, 1.0, 0, 0, 1.0, 1.0, 0.25, 0.16666666666666666, 0, 0, 0, 0, 0, 0.1111111111111111, 0, 0.5, 0, 0, 0, 0, 0, 0, 0, 0, 0.16666666666666666, 0, 0.25, 0.25, 0, 0, 0, 0.25, 0, 0, 1.0, 1.0, 1.0, 0, 1.0, 1.0, 0.2, 0.5, 0, 1.0, 1.0, 1.0, 0, 0, 0, 1.0, 0, 0, 0, 0.1111111111111111, 0, 1.0, 1.0, 0.5, 1.0, 1.0, 0.3333333333333333, 0, 0, 0, 0.2, 0.5, 0, 0.1, 0, 1.0, 1.0, 1.0, 1.0, 0, 0, 1.0, 0.16666666666666666, 0, 1.0, 0, 0.2, 0.25, 1.0, 0.125, 0, 0.5, 1.0, 1.0, 0, 0, 0, 1.0, 1.0, 0.5, 0.5, 0, 0, 0, 0, 0, 0, 0.5, 0.2, 0.5, 0, 0, 1.0, 1.0, 0.25, 1.0, 0.5, 0, 0, 0, 1.0, 0, 0, 0, 0, 0.5, 0.125, 1.0, 0, 1.0, 1.0, 0, 1.0, 0.5, 0, 0, 0, 0.5, 1.0, 0, 0, 1.0, 0, 0, 0, 0.5, 0, 0.3333333333333333, 0.16666666666666666, 1.0, 0, 0.16666666666666666, 0, 0, 0.5, 0.3333333333333333, 0, 1.0, 0, 1.0, 1.0, 0.3333333333333333, 1.0, 1.0, 0.125, 0, 0.2, 1.0, 0.25, 0.3333333333333333, 0, 1.0, 1.0, 0, 0, 0.3333333333333333, 0, 0.1111111111111111, 1.0, 0, 0, 0, 0, 1.0, 0.3333333333333333, 0.5, 1.0, 0, 1.0, 1.0, 0, 1.0, 1.0, 0, 1.0, 1.0, 0, 0, 1.0, 0, 0, 1.0, 0, 0.1111111111111111, 0.16666666666666666, 1.0, 1.0, 0, 0, 1.0, 0, 0, 0, 1.0, 1.0, 0.3333333333333333, 0, 0, 0.3333333333333333, 1.0, 1.0, 1.0, 0.5, 0.125, 0, 0, 0, 0.125, 1.0, 1.0, 1.0, 1.0, 0.2, 0.16666666666666666, 1.0, 1.0, 0.1, 0.16666666666666666, 0, 0.5, 0.5, 0.1, 0, 0, 0.5, 0.3333333333333333, 0.5, 0, 0, 0.5, 0, 1.0, 0, 0, 0, 0, 0, 0.2, 0, 0, 1.0, 0, 0.25, 0.14285714285714285, 0.14285714285714285, 0, 1.0, 0.3333333333333333, 0, 0.5, 0.3333333333333333, 0.16666666666666666, 0, 1.0, 0, 0, 0.25, 1.0, 0, 0.5, 0, 0, 0.5, 0.25, 0, 0, 0, 1.0, 0.1, 0, 0.5, 0.1111111111111111, 0, 0, 1.0, 1.0, 1.0, 0.5, 0.3333333333333333, 0.3333333333333333, 0, 0, 0, 0, 0.3333333333333333, 0.5, 0, 0, 0, 1.0, 0, 1.0, 1.0, 1.0, 1.0, 1.0, 0, 0.14285714285714285, 0, 0.5, 0.3333333333333333, 0, 1.0, 0, 0.3333333333333333, 1.0, 0, 0, 0, 0.1, 0, 0, 0.5, 0.5, 1.0, 1.0, 1.0, 0, 0, 0, 1.0, 0.25, 0.16666666666666666, 1.0, 0, 1.0, 0.1, 1.0, 0, 0, 0, 0.5, 1.0, 0.5, 0.5, 0, 0.16666666666666666, 0, 1.0, 0.2, 1.0, 0, 0, 1.0, 1.0, 0.2, 0, 0.14285714285714285, 0, 0.5, 1.0, 1.0, 0, 1.0, 0.25, 0.5, 1.0, 1.0, 0, 0.5, 0, 0, 0, 1.0, 1.0, 1.0, 0.5, 0, 0, 1.0, 1.0, 0, 0.2, 0, 0, 1.0, 0.3333333333333333, 0, 1.0, 0.25, 1.0, 0.5, 1.0, 1.0, 0, 0.5, 1.0, 0, 1.0, 0.25, 0, 0.16666666666666666, 0, 1.0, 0.1111111111111111, 0.2, 0, 0, 1.0, 0, 0, 0.16666666666666666, 0, 1.0, 0, 0, 0, 0, 0.3333333333333333, 1.0, 1.0, 0.5, 1.0, 0.125, 1.0, 0.25, 0.5, 0.5, 0, 0, 0, 0.5, 1.0, 1.0, 0, 1.0, 0.3333333333333333, 1.0, 1.0, 0, 0.3333333333333333, 0, 1.0, 0.3333333333333333, 0.1111111111111111, 1.0, 1.0, 1.0, 1.0, 1.0, 0.3333333333333333, 0, 0, 1.0, 0, 0.5, 0.1111111111111111, 1.0, 0, 1.0, 1.0, 0.16666666666666666, 1.0, 0.14285714285714285, 1.0, 1.0, 0.5, 0, 0, 0, 0, 0.5, 0, 0.5, 0, 0, 0, 0, 1.0, 1.0, 0.5, 0.3333333333333333, 0.5, 0, 1.0, 1.0, 0, 0, 0.5, 0, 0.5, 0, 0.25, 0, 0, 0, 0, 0.3333333333333333, 1.0, 0, 1.0, 1.0, 0.5, 1.0, 1.0, 1.0, 1.0, 0, 1.0, 0.3333333333333333, 1.0, 0.5, 1.0, 0, 0.16666666666666666, 0, 0, 0.3333333333333333, 1.0, 0, 1.0, 0.3333333333333333, 1.0, 0.3333333333333333, 0, 0, 0.5, 0.3333333333333333, 0, 0, 1.0, 1.0, 1.0, 0, 0.25, 0, 0.5, 0, 0.5, 1.0, 0, 0, 0.125, 0, 1.0, 0, 0, 1.0, 0, 0.125, 1.0, 0.1111111111111111, 0.5, 1.0, 1.0, 0.3333333333333333, 0, 1.0, 0, 1.0, 0.16666666666666666, 0, 0, 1.0, 1.0, 1.0, 1.0, 0, 0.5, 1.0, 0.1, 0, 1.0, 0.125, 1.0, 1.0, 1.0, 1.0, 0, 0, 0.3333333333333333, 0, 0.5, 1.0, 0.16666666666666666, 1.0, 0, 0, 0.2, 0.2, 0, 0, 0, 1.0, 0, 1.0, 1.0, 0.1111111111111111, 1.0, 0, 0, 0, 0.14285714285714285, 0, 1.0, 0, 1.0, 0, 1.0, 1.0, 1.0, 1.0, 0, 0, 0, 0, 0.1111111111111111, 1.0, 0, 0, 1.0, 1.0, 1.0, 0, 0.5, 1.0, 1.0, 0, 1.0, 0.5, 0.1, 1.0, 1.0, 1.0, 0.5, 0.3333333333333333, 1.0, 0, 0, 1.0, 0.14285714285714285, 0.125, 1.0, 0, 0.1111111111111111, 1.0, 0, 0, 0.5, 1.0, 1.0, 0, 0, 0.5, 0.5, 0, 1.0, 0, 0.2, 0, 0, 1.0, 1.0, 0, 0.5, 1.0, 0, 1.0, 0.5, 1.0, 0.3333333333333333, 0, 0.16666666666666666, 0, 1.0, 0, 1.0, 0.3333333333333333, 0.3333333333333333, 0.5, 0, 0, 0, 0.2, 1.0, 0, 0, 0.5, 0.5, 0.25, 1.0, 1.0, 0.5, 0, 1.0, 0, 0, 0, 1.0, 0.1, 1.0, 0, 0, 0, 0, 0, 0, 0, 1.0, 0, 0.25, 0.25, 0.14285714285714285, 0, 1.0, 1.0, 0.14285714285714285, 0, 0, 1.0, 1.0, 0, 1.0, 0, 0, 1.0, 1.0, 0.5, 0, 0.16666666666666666, 0, 0, 1.0, 0, 0.5, 0, 0.1111111111111111, 0, 0, 0.5, 0.16666666666666666, 0, 0, 0.5, 0.25, 0, 1.0, 1.0, 0.5, 0, 0.25, 0.3333333333333333, 0.2, 1.0, 0, 0, 1.0, 0, 0.5, 0, 0.3333333333333333, 0, 1.0, 0.3333333333333333, 0, 0, 1.0, 1.0, 0.3333333333333333, 0, 0.5, 0, 1.0, 0.16666666666666666, 0, 0, 0, 1.0, 1.0, 0, 1.0, 0.2, 1.0, 0.5, 0.1, 1.0, 1.0, 0, 0.14285714285714285, 0.5, 1.0, 0.3333333333333333, 1.0]\n"
					]
				},
				{
					"data": {
						"text/plain": [
							"0.32125265873016007"
						]
					},
					"execution_count": 17,
					"metadata": {},
					"output_type": "execute_result"
				}
			],
			"source": [
				"def average_precision(ground_truth, predictions):\n",
				"    \"\"\"\n",
				"    Calculate the Average Precision (AP) for a single query.\n",
				"\n",
				"    Args:\n",
				"        ground_truth (int): The ground truth video ID.\n",
				"        predictions (list): List of predicted video IDs.\n",
				"\n",
				"    Returns:\n",
				"        float: The Average Precision (AP) score for the query.\n",
				"    \"\"\"\n",
				"    hits = 0\n",
				"    sum_precision = 0\n",
				"    for i, pred in enumerate(predictions):\n",
				"        if pred == ground_truth:\n",
				"            hits += 1\n",
				"            sum_precision += hits / (i + 1)\n",
				"    return sum_precision / hits if hits > 0 else 0\n",
				"def calculate_mean_average_precision(df):\n",
				"    \"\"\"\n",
				"    Calculate the Mean Average Precision (MAP) for the given dataframe.\n",
				"\n",
				"    Args:\n",
				"        df (pd.DataFrame): DataFrame containing columns 'query', 'ground_truth', 'top1', 'top5', 'top10'.\n",
				"\n",
				"    Returns:\n",
				"        float: The Mean Average Precision (MAP) score.\n",
				"    \"\"\"\n",
				"    # Calculate AP for each query\n",
				"    ap_scores = []\n",
				"    for _, row in df.iterrows():\n",
				"        ground_truth = row['ground_truth']\n",
				"        predictions_with_scores = row['top10']\n",
				"        predictions = [pred[0] for pred in predictions_with_scores]\n",
				"        ap_scores.append(average_precision(ground_truth, predictions))\n",
				"\n",
				"    print(ap_scores)\n",
				"    # Calculate MAP\n",
				"    mean_ap = sum(ap_scores) / len(ap_scores) if ap_scores else 0\n",
				"    return mean_ap\n",
				"\n",
				"calculate_mean_average_precision(res_df)"
			]
		},
		{
			"cell_type": "code",
			"execution_count": 18,
			"id": "6179863f",
			"metadata": {},
			"outputs": [
				{
					"name": "stdout",
					"output_type": "stream",
					"text": [
						"{'recall@1': 0.2334, 'recall@5': 0.4368, 'recall@10': 0.5216}\n"
					]
				}
			],
			"source": [
				"def calculate_recall(df):\n",
				"    \"\"\"\n",
				"    Calculate recall@1, recall@5, and recall@10 for the given dataframe.\n",
				"\n",
				"    Args:\n",
				"        df (pd.DataFrame): DataFrame containing columns 'query', 'ground_truth', 'top1', 'top5', 'top10'.\n",
				"\n",
				"    Returns:\n",
				"        dict: A dictionary containing recall@1, recall@5, and recall@10.\n",
				"    \"\"\"\n",
				"    recall_at_1 = 0\n",
				"    recall_at_5 = 0\n",
				"    recall_at_10 = 0\n",
				"    total_queries = len(df)\n",
				"\n",
				"    for _, row in df.iterrows():\n",
				"        ground_truth = row['ground_truth']\n",
				"        if ground_truth in [pred[0] for pred in row['top1']]:\n",
				"            recall_at_1 += 1\n",
				"        if ground_truth in [pred[0] for pred in row['top5']]:\n",
				"            recall_at_5 += 1\n",
				"        if ground_truth in [pred[0] for pred in row['top10']]:\n",
				"            recall_at_10 += 1\n",
				"\n",
				"    return {\n",
				"        'recall@1': recall_at_1 / total_queries,\n",
				"        'recall@5': recall_at_5 / total_queries,\n",
				"        'recall@10': recall_at_10 / total_queries\n",
				"    }\n",
				"\n",
				"# Example usage:\n",
				"recall_scores = calculate_recall(res_df)\n",
				"print(recall_scores)"
			]
		},
		{
			"cell_type": "markdown",
			"id": "d292f7c3",
			"metadata": {},
			"source": [
				"## Implementation using CLIP"
			]
		},
		{
			"cell_type": "code",
			"execution_count": 24,
			"id": "5d0c3e52",
			"metadata": {},
			"outputs": [
				{
					"data": {
						"text/plain": [
							"<Collection>:\n",
							"-------------\n",
							"<name>: text_video_retrieval_images_1\n",
							"<description>: video retrieval\n",
							"<schema>: {'auto_id': False, 'description': 'video retrieval', 'fields': [{'name': 'vid_id', 'description': 'ids', 'type': <DataType.INT64: 5>, 'is_primary': True, 'auto_id': False}, {'name': 'embedding', 'description': 'embedding vectors', 'type': <DataType.FLOAT_VECTOR: 101>, 'params': {'dim': 512}}]}"
						]
					},
					"execution_count": 24,
					"metadata": {},
					"output_type": "execute_result"
				}
			],
			"source": [
				"create_milvus_collection(MILVUS_IMAGES_COLLECTION_NAME, 512)"
			]
		},
		{
			"cell_type": "code",
			"execution_count": null,
			"id": "d1fc3e00",
			"metadata": {},
			"outputs": [],
			"source": [
				"# Create "
			]
		},
		{
			"cell_type": "code",
			"execution_count": 21,
			"id": "1765d72e",
			"metadata": {},
			"outputs": [
				{
					"name": "stderr",
					"output_type": "stream",
					"text": [
						"2025-04-15 17:44:16,111 - 8454604864 - clip.py-clip:100 - WARNING: Gpu not available, use cpu\n",
						"2025-04-15 17:44:16,113 - 8454604864 - connectionpool.py-connectionpool:289 - DEBUG: Resetting dropped connection: huggingface.co\n",
						"2025-04-15 17:44:16,198 - 8454604864 - connectionpool.py-connectionpool:544 - DEBUG: https://huggingface.co:443 \"HEAD /openai/clip-vit-base-patch16/resolve/main/config.json HTTP/1.1\" 200 0\n",
						"2025-04-15 17:44:16,474 - 8454604864 - connectionpool.py-connectionpool:544 - DEBUG: https://huggingface.co:443 \"HEAD /openai/clip-vit-base-patch16/resolve/main/config.json HTTP/1.1\" 200 0\n",
						"2025-04-15 17:44:16,596 - 8454604864 - connectionpool.py-connectionpool:544 - DEBUG: https://huggingface.co:443 \"HEAD /openai/clip-vit-base-patch16/resolve/main/model.safetensors HTTP/1.1\" 404 0\n",
						"2025-04-15 17:44:16,598 - 16450269184 - connectionpool.py-connectionpool:1049 - DEBUG: Starting new HTTPS connection (1): huggingface.co:443\n",
						"2025-04-15 17:44:16,789 - 16450269184 - connectionpool.py-connectionpool:544 - DEBUG: https://huggingface.co:443 \"GET /api/models/openai/clip-vit-base-patch16 HTTP/1.1\" 200 3499\n",
						"2025-04-15 17:44:16,876 - 8454604864 - connectionpool.py-connectionpool:544 - DEBUG: https://huggingface.co:443 \"HEAD /openai/clip-vit-base-patch16/resolve/main/tokenizer_config.json HTTP/1.1\" 200 0\n",
						"2025-04-15 17:44:17,016 - 16450269184 - connectionpool.py-connectionpool:544 - DEBUG: https://huggingface.co:443 \"GET /api/models/openai/clip-vit-base-patch16/commits/main HTTP/1.1\" 200 3099\n",
						"2025-04-15 17:44:17,033 - 8454604864 - connectionpool.py-connectionpool:544 - DEBUG: https://huggingface.co:443 \"HEAD /openai/clip-vit-base-patch16/resolve/main/preprocessor_config.json HTTP/1.1\" 200 0\n",
						"2025-04-15 17:44:17,065 - 8454604864 - connectionpool.py-connectionpool:544 - DEBUG: https://huggingface.co:443 \"HEAD /openai/clip-vit-base-patch16/resolve/main/tokenizer_config.json HTTP/1.1\" 200 0\n",
						"2025-04-15 17:44:17,201 - 16450269184 - connectionpool.py-connectionpool:544 - DEBUG: https://huggingface.co:443 \"GET /api/models/openai/clip-vit-base-patch16/discussions?p=0 HTTP/1.1\" 200 6380\n",
						"2025-04-15 17:44:17,210 - 8454604864 - connectionpool.py-connectionpool:544 - DEBUG: https://huggingface.co:443 \"HEAD /openai/clip-vit-base-patch16/resolve/main/processor_config.json HTTP/1.1\" 404 0\n",
						"2025-04-15 17:44:17,239 - 8454604864 - connectionpool.py-connectionpool:544 - DEBUG: https://huggingface.co:443 \"HEAD /openai/clip-vit-base-patch16/resolve/main/chat_template.json HTTP/1.1\" 404 0\n",
						"2025-04-15 17:44:17,250 - 16450269184 - connectionpool.py-connectionpool:544 - DEBUG: https://huggingface.co:443 \"GET /api/models/openai/clip-vit-base-patch16/commits/refs%2Fpr%2F10 HTTP/1.1\" 200 4064\n",
						"2025-04-15 17:44:17,268 - 8454604864 - connectionpool.py-connectionpool:544 - DEBUG: https://huggingface.co:443 \"HEAD /openai/clip-vit-base-patch16/resolve/main/chat_template.jinja HTTP/1.1\" 404 0\n",
						"2025-04-15 17:44:17,356 - 16450269184 - connectionpool.py-connectionpool:544 - DEBUG: https://huggingface.co:443 \"HEAD /openai/clip-vit-base-patch16/resolve/refs%2Fpr%2F10/model.safetensors.index.json HTTP/1.1\" 404 0\n",
						"2025-04-15 17:44:17,378 - 14360326144 - node.py-node:167 - INFO: Begin to run Node-_input\n",
						"2025-04-15 17:44:17,378 - 14377152512 - node.py-node:167 - INFO: Begin to run Node-read_csv-0\n",
						"2025-04-15 17:44:17,378 - 14393978880 - node.py-node:167 - INFO: Begin to run Node-image-decode/cv2-1\n",
						"2025-04-15 17:44:17,378 - 14410805248 - node.py-node:167 - INFO: Begin to run Node-image-text-embedding/clip-2\n",
						"2025-04-15 17:44:17,379 - 14360326144 - node.py-node:167 - INFO: Begin to run Node-lambda-3\n",
						"2025-04-15 17:44:17,379 - 14427631616 - node.py-node:167 - INFO: Begin to run Node-ann-insert/milvus-client-4\n",
						"2025-04-15 17:44:17,379 - 14444457984 - node.py-node:167 - INFO: Begin to run Node-_output\n",
						"2025-04-15 17:44:17,400 - 16450269184 - connectionpool.py-connectionpool:544 - DEBUG: https://huggingface.co:443 \"HEAD /openai/clip-vit-base-patch16/resolve/refs%2Fpr%2F10/model.safetensors HTTP/1.1\" 302 0\n"
					]
				}
			],
			"source": [
				"def read_csv(csv_path, encoding='utf-8-sig'):\n",
				"    with open(csv_path, 'r', encoding=encoding) as f:\n",
				"        data = csv.DictReader(f)\n",
				"        for line in data:\n",
				"            raw_id = line['video_id']\n",
				"            cleaned_id = raw_id[len('video'):]\n",
				"            yield int(cleaned_id), line['frame_path']\n",
				"\n",
				"p3 = (\n",
				"    pipe.input('csv_file')\n",
				"    .flat_map('csv_file', ('video_id', 'frame_path'), read_csv)\n",
				"    .map('frame_path', 'img', ops.image_decode.cv2('rgb'))\n",
				"    .map('img', 'vec', ops.image_text_embedding.clip(model_name='clip_vit_base_patch16', modality='image', device='mps'))\n",
				"    .map('vec', 'vec', lambda x: x / np.linalg.norm(x))\n",
				"    .map(('video_id', 'vec'), (), ops.ann_insert.milvus_client(host='127.0.0.1', port='19530', collection_name=MILVUS_IMAGES_COLLECTION_NAME))\n",
				"    .output()\n",
				")\n",
				"\n",
				"ret = p3(CSV_IMAGES_LOADER_FILE)"
			]
		},
		{
			"cell_type": "code",
			"execution_count": 23,
			"id": "54802e18",
			"metadata": {},
			"outputs": [
				{
					"name": "stderr",
					"output_type": "stream",
					"text": [
						"2025-04-15 17:44:38,340 - 8454604864 - clip.py-clip:100 - WARNING: Gpu not available, use cpu\n",
						"2025-04-15 17:44:38,719 - 8454604864 - connectionpool.py-connectionpool:544 - DEBUG: https://huggingface.co:443 \"HEAD /openai/clip-vit-base-patch16/resolve/main/config.json HTTP/1.1\" 200 0\n",
						"2025-04-15 17:44:38,749 - 8454604864 - connectionpool.py-connectionpool:544 - DEBUG: https://huggingface.co:443 \"HEAD /openai/clip-vit-base-patch16/resolve/main/config.json HTTP/1.1\" 200 0\n",
						"2025-04-15 17:44:38,783 - 8454604864 - connectionpool.py-connectionpool:544 - DEBUG: https://huggingface.co:443 \"HEAD /openai/clip-vit-base-patch16/resolve/main/model.safetensors HTTP/1.1\" 404 0\n",
						"2025-04-15 17:44:38,787 - 14472818688 - connectionpool.py-connectionpool:1049 - DEBUG: Starting new HTTPS connection (1): huggingface.co:443\n",
						"2025-04-15 17:44:39,261 - 8454604864 - connectionpool.py-connectionpool:544 - DEBUG: https://huggingface.co:443 \"HEAD /openai/clip-vit-base-patch16/resolve/main/tokenizer_config.json HTTP/1.1\" 200 0\n",
						"2025-04-15 17:44:39,282 - 14472818688 - connectionpool.py-connectionpool:544 - DEBUG: https://huggingface.co:443 \"GET /api/models/openai/clip-vit-base-patch16 HTTP/1.1\" 200 3499\n",
						"2025-04-15 17:44:39,342 - 8454604864 - connectionpool.py-connectionpool:544 - DEBUG: https://huggingface.co:443 \"HEAD /openai/clip-vit-base-patch16/resolve/main/preprocessor_config.json HTTP/1.1\" 200 0\n",
						"2025-04-15 17:44:39,380 - 14472818688 - connectionpool.py-connectionpool:544 - DEBUG: https://huggingface.co:443 \"GET /api/models/openai/clip-vit-base-patch16/commits/main HTTP/1.1\" 200 3099\n",
						"2025-04-15 17:44:39,396 - 8454604864 - connectionpool.py-connectionpool:544 - DEBUG: https://huggingface.co:443 \"HEAD /openai/clip-vit-base-patch16/resolve/main/tokenizer_config.json HTTP/1.1\" 200 0\n",
						"2025-04-15 17:44:39,596 - 14472818688 - connectionpool.py-connectionpool:544 - DEBUG: https://huggingface.co:443 \"GET /api/models/openai/clip-vit-base-patch16/discussions?p=0 HTTP/1.1\" 200 6380\n",
						"2025-04-15 17:44:39,622 - 8454604864 - connectionpool.py-connectionpool:544 - DEBUG: https://huggingface.co:443 \"HEAD /openai/clip-vit-base-patch16/resolve/main/processor_config.json HTTP/1.1\" 404 0\n",
						"2025-04-15 17:44:39,651 - 8454604864 - connectionpool.py-connectionpool:544 - DEBUG: https://huggingface.co:443 \"HEAD /openai/clip-vit-base-patch16/resolve/main/chat_template.json HTTP/1.1\" 404 0\n",
						"2025-04-15 17:44:39,660 - 14472818688 - connectionpool.py-connectionpool:544 - DEBUG: https://huggingface.co:443 \"GET /api/models/openai/clip-vit-base-patch16/commits/refs%2Fpr%2F10 HTTP/1.1\" 200 4064\n",
						"2025-04-15 17:44:39,681 - 8454604864 - connectionpool.py-connectionpool:544 - DEBUG: https://huggingface.co:443 \"HEAD /openai/clip-vit-base-patch16/resolve/main/chat_template.jinja HTTP/1.1\" 404 0\n",
						"2025-04-15 17:44:39,784 - 14472818688 - connectionpool.py-connectionpool:544 - DEBUG: https://huggingface.co:443 \"HEAD /openai/clip-vit-base-patch16/resolve/refs%2Fpr%2F10/model.safetensors.index.json HTTP/1.1\" 404 0\n",
						"2025-04-15 17:44:39,796 - 14590603264 - node.py-node:167 - INFO: Begin to run Node-_input\n",
						"2025-04-15 17:44:39,796 - 14506471424 - node.py-node:167 - INFO: Begin to run Node-image-text-embedding/clip-0\n",
						"2025-04-15 17:44:39,797 - 14489645056 - node.py-node:167 - INFO: Begin to run Node-lambda-1\n",
						"2025-04-15 17:44:39,797 - 14523297792 - node.py-node:167 - INFO: Begin to run Node-ann-search/milvus-client-2\n",
						"2025-04-15 17:44:39,797 - 14540124160 - node.py-node:167 - INFO: Begin to run Node-lambda-3\n",
						"2025-04-15 17:44:39,797 - 14590603264 - node.py-node:167 - INFO: Begin to run Node-_output\n",
						"2025-04-15 17:44:39,812 - 14472818688 - connectionpool.py-connectionpool:544 - DEBUG: https://huggingface.co:443 \"HEAD /openai/clip-vit-base-patch16/resolve/refs%2Fpr%2F10/model.safetensors HTTP/1.1\" 302 0\n"
					]
				},
				{
					"data": {
						"text/html": [
							"<table style=\"border-collapse: collapse;\"><tr><th style=\"text-align: center; font-size: 130%; border: none;\">text</th> <th style=\"text-align: center; font-size: 130%; border: none;\">image_ids</th></tr>\n",
							"<tr><td style=\"text-align: center; vertical-align: top; border-right: solid 1px #D3D3D3; border-left: solid 1px #D3D3D3; \">snowy mountain with a clear blue sky</td><td style=\"text-align: left; vertical-align: top; border-right: solid 1px #D3D3D3; border-left: solid 1px #D3D3D3; \">[2342,6009,6465,3466] len=4</td></tr></table>"
						],
						"text/plain": [
							"<IPython.core.display.HTML object>"
						]
					},
					"metadata": {},
					"output_type": "display_data"
				}
			],
			"source": [
				"def read_image(image_ids):\n",
				"    df = pd.read_csv('reverse_image_search.csv')\n",
				"    id_img = df.set_index('id')['path'].to_dict()\n",
				"    imgs = []\n",
				"    decode = ops.image_decode.cv2('rgb')\n",
				"    for image_id in image_ids:\n",
				"        path = id_img[image_id]\n",
				"        imgs.append(decode(path))\n",
				"    return imgs\n",
				"\n",
				"\n",
				"p4 = (\n",
				"    pipe.input('text')\n",
				"    .map('text', 'vec', ops.image_text_embedding.clip(model_name='clip_vit_base_patch16', modality='text', device='mps'))\n",
				"    .map('vec', 'vec', lambda x: x / np.linalg.norm(x))\n",
				"    .map('vec', 'result', ops.ann_search.milvus_client(host='127.0.0.1', port='19530', collection_name=MILVUS_IMAGES_COLLECTION_NAME, limit=4))\n",
				"    .map('result', 'image_ids', lambda x: [item[0] for item in x])\n",
				"    # .map('image_ids', 'images', read_image)\n",
				"    .output('text', 'image_ids')\n",
				")\n",
				"\n",
				"DataCollection(p4(\"snowy mountain with a clear blue sky\")).show()"
			]
		}
	],
	"metadata": {
		"kernelspec": {
			"display_name": "info-ret-proj",
			"language": "python",
			"name": "python3"
		},
		"language_info": {
			"codemirror_mode": {
				"name": "ipython",
				"version": 3
			},
			"file_extension": ".py",
			"mimetype": "text/x-python",
			"name": "python",
			"nbconvert_exporter": "python",
			"pygments_lexer": "ipython3",
			"version": "3.10.16"
		}
	},
	"nbformat": 4,
	"nbformat_minor": 5
}
