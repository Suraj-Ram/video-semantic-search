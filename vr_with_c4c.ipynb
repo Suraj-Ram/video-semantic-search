{
	"cells": [
		{
			"cell_type": "code",
			"execution_count": 1,
			"id": "38a23a1e",
			"metadata": {},
			"outputs": [],
			"source": [
				"# Full video reterval using CLIP4CLIP and TwoHee"
			]
		},
		{
			"cell_type": "code",
			"execution_count": 2,
			"id": "cf8f57a9",
			"metadata": {},
			"outputs": [],
			"source": [
				"import os\n",
				"from towhee import ops, pipe, register\n",
				"from towhee.operator import PyOperator\n",
				"from towhee import DataCollection\n",
				"from tqdm import tqdm\n",
				"import pandas as pd"
			]
		},
		{
			"cell_type": "code",
			"execution_count": 40,
			"id": "3fd14129",
			"metadata": {},
			"outputs": [],
			"source": [
				"# CONSTANTS\n",
				"VIDEOS_FOLDER = \"data/MSRVTT/videos/all\"\n",
				"CSV_LOADER_FILE = \"MSRVTT_video_paths.csv\"\n",
				"CSV_SEARCH_FILE_1 = \"MSRVTT_search_1.csv\"\n",
				"MILVUS_COLLECTION_NAME = \"text_video_retrieval_5\""
			]
		},
		{
			"cell_type": "code",
			"execution_count": 41,
			"id": "004f67a1",
			"metadata": {},
			"outputs": [],
			"source": [
				"# Load videos into Vector DB"
			]
		},
		{
			"cell_type": "code",
			"execution_count": 42,
			"id": "3422c7a4",
			"metadata": {},
			"outputs": [],
			"source": [
				"from pymilvus import connections, FieldSchema, CollectionSchema, DataType, Collection, utility\n",
				"\n",
				"connections.connect(host='localhost', port='19530')"
			]
		},
		{
			"cell_type": "code",
			"execution_count": 43,
			"id": "2d2a5932",
			"metadata": {},
			"outputs": [],
			"source": [
				"def create_milvus_collection(collection_name, dim):\n",
				"    if utility.has_collection(collection_name):\n",
				"        utility.drop_collection(collection_name)\n",
				"    \n",
				"    fields = [\n",
				"    FieldSchema(name='vid_id', dtype=DataType.INT64, description='ids', is_primary=True, auto_id=False),\n",
				"    FieldSchema(name='embedding', dtype=DataType.FLOAT_VECTOR, description='embedding vectors', dim=dim)\n",
				"    ]\n",
				"    schema = CollectionSchema(fields=fields, description='video retrieval')\n",
				"    collection = Collection(name=collection_name, schema=schema)\n",
				"\n",
				"    # create IVF_FLAT index for collection.\n",
				"    index_params = {\n",
				"        'metric_type':'L2', #IP\n",
				"        'index_type':\"IVF_FLAT\",\n",
				"        'params':{\"nlist\":2048}\n",
				"    }\n",
				"    collection.create_index(field_name=\"embedding\", index_params=index_params)\n",
				"    return collection\n",
				"\n",
				"collection = create_milvus_collection(MILVUS_COLLECTION_NAME, 512)"
			]
		},
		{
			"cell_type": "code",
			"execution_count": 44,
			"id": "f7594b66",
			"metadata": {},
			"outputs": [
				{
					"data": {
						"text/plain": [
							"10000"
						]
					},
					"execution_count": 44,
					"metadata": {},
					"output_type": "execute_result"
				}
			],
			"source": [
				"# get video paths\n",
				"def get_video_paths(folder):\n",
				"    video_paths = []\n",
				"    for root, _, files in os.walk(folder):\n",
				"        for file in files:\n",
				"            if file.endswith(('.mp4', '.avi', '.mov')):\n",
				"                video_paths.append(os.path.join(root, file))\n",
				"    return video_paths\n",
				"def get_video_ids(folder):\n",
				"    video_ids = []\n",
				"    for root, _, files in os.walk(folder):\n",
				"        for file in files:\n",
				"            if file.endswith(('.mp4', '.avi', '.mov')):\n",
				"                video_ids.append(file.split('.')[0])\n",
				"    return video_ids\n",
				"\n",
				"all_vid_ids = get_video_ids(VIDEOS_FOLDER)\n",
				"len(all_vid_ids)"
			]
		},
		{
			"cell_type": "code",
			"execution_count": 45,
			"id": "13a7d8f2",
			"metadata": {},
			"outputs": [
				{
					"name": "stdout",
					"output_type": "stream",
					"text": [
						"data/MSRVTT/videos/all/video12.mp4\n",
						"data/MSRVTT/videos/all/video6110.mp4\n",
						"data/MSRVTT/videos/all/video9223.mp4\n",
						"data/MSRVTT/videos/all/video2376.mp4\n",
						"data/MSRVTT/videos/all/video938.mp4\n",
						"10000\n"
					]
				}
			],
			"source": [
				"all_vid_paths = get_video_paths(VIDEOS_FOLDER)\n",
				"print(*all_vid_paths[:5], sep='\\n')\n",
				"print(len(all_vid_paths))"
			]
		},
		{
			"cell_type": "code",
			"execution_count": 46,
			"id": "b3ab1b10",
			"metadata": {},
			"outputs": [],
			"source": [
				"# Create CSV to feed into TwoHee pipeline\n",
				"# Create dataframe with video_ids and video_paths columns\n",
				"pd.DataFrame({\n",
				"    'video_id': all_vid_ids,\n",
				"    'video_path': all_vid_paths\n",
				"}).head(100).to_csv(CSV_LOADER_FILE, index=False)"
			]
		},
		{
			"cell_type": "code",
			"execution_count": 47,
			"id": "9b0a55b6",
			"metadata": {},
			"outputs": [],
			"source": [
				"def read_csv(csv_file):\n",
				"    import csv\n",
				"    with open(csv_file, 'r', encoding='utf-8-sig') as f:\n",
				"        data = csv.DictReader(f)\n",
				"        for line in data:\n",
				"            yield int(line['video_id'][len('video'):]), line['video_path']\n",
				"\n",
				"twohee_load_videos_pipeline = (\n",
				"    pipe.input('csv_file')\n",
				"    .flat_map('csv_file', ('video_id', 'video_path'), read_csv)\n",
				"    .map('video_path', 'frames', ops.video_decode.ffmpeg(sample_type='uniform_temporal_subsample', args={'num_samples': 12}))\n",
				"    .map('frames', 'vec', ops.video_text_embedding.clip4clip(model_name='clip_vit_b32', modality='video', device='mps'))\n",
				"    .map(('video_id', 'vec'), (), ops.ann_insert.milvus_client(host='127.0.0.1', port='19530', collection_name=MILVUS_COLLECTION_NAME))\n",
				"    .output('video_id')  \n",
				")"
			]
		},
		{
			"cell_type": "code",
			"execution_count": 48,
			"id": "c6bc57c3",
			"metadata": {},
			"outputs": [
				{
					"name": "stderr",
					"output_type": "stream",
					"text": [
						"2025-04-12 17:00:38,522 - 20240478208 - node.py-node:167 - INFO: Begin to run Node-_input\n",
						"2025-04-12 17:00:38,522 - 20257304576 - node.py-node:167 - INFO: Begin to run Node-read_csv-0\n",
						"2025-04-12 17:00:38,523 - 20274130944 - node.py-node:167 - INFO: Begin to run Node-video-decode/ffmpeg-1\n",
						"2025-04-12 17:00:38,523 - 20290957312 - node.py-node:167 - INFO: Begin to run Node-video-text-embedding/clip4clip-2\n",
						"2025-04-12 17:00:38,524 - 20307783680 - node.py-node:167 - INFO: Begin to run Node-ann-insert/milvus-client-3\n",
						"2025-04-12 17:00:38,524 - 20240478208 - node.py-node:167 - INFO: Begin to run Node-_output\n"
					]
				},
				{
					"data": {
						"text/html": [
							"<table style=\"border-collapse: collapse;\"><tr><th style=\"text-align: center; font-size: 130%; border: none;\">video_id</th></tr>\n",
							"<tr><td style=\"text-align: center; vertical-align: top; border-right: solid 1px #D3D3D3; border-left: solid 1px #D3D3D3; \">12</td></tr>\n",
							"<tr><td style=\"text-align: center; vertical-align: top; border-right: solid 1px #D3D3D3; border-left: solid 1px #D3D3D3; \">6110</td></tr>\n",
							"<tr><td style=\"text-align: center; vertical-align: top; border-right: solid 1px #D3D3D3; border-left: solid 1px #D3D3D3; \">9223</td></tr>\n",
							"<tr><td style=\"text-align: center; vertical-align: top; border-right: solid 1px #D3D3D3; border-left: solid 1px #D3D3D3; \">2376</td></tr>\n",
							"<tr><td style=\"text-align: center; vertical-align: top; border-right: solid 1px #D3D3D3; border-left: solid 1px #D3D3D3; \">938</td></tr></table>"
						],
						"text/plain": [
							"<IPython.core.display.HTML object>"
						]
					},
					"metadata": {},
					"output_type": "display_data"
				}
			],
			"source": [
				"DataCollection(twohee_load_videos_pipeline(CSV_LOADER_FILE)).show()"
			]
		},
		{
			"cell_type": "code",
			"execution_count": 12,
			"id": "06bb7c54",
			"metadata": {},
			"outputs": [],
			"source": [
				"# Query the collection"
			]
		},
		{
			"cell_type": "code",
			"execution_count": 49,
			"id": "81c97c60",
			"metadata": {},
			"outputs": [],
			"source": [
				"twohee_search_videos_pipeline = (\n",
				"    pipe.input('csv_file')\n",
				"    .flat_map('csv_file', ('video_id', 'sentence'), read_csv)\n",
				"    .map('sentence', 'vec', ops.video_text_embedding.clip4clip(model_name='clip_vit_b32', modality='text', device='mps'))\n",
				"    .map('vec', 'top10_raw_res', \n",
				"         ops.ann_search.milvus_client(\n",
				"             host='127.0.0.1', port='19530', collection_name=MILVUS_COLLECTION_NAME, limit=10)\n",
				"        )\n",
				"    .map('top10_raw_res', ('top1', 'top5', 'top10'), lambda x: (x[:1], x[:5], x[:10]))\n",
				"    .map('video_id', 'ground_truth', lambda x: x)\n",
				"    .output('video_id', 'sentence', 'ground_truth', 'top1', 'top5', 'top10')\n",
				")"
			]
		},
		{
			"cell_type": "code",
			"execution_count": 50,
			"id": "bcfe2d22",
			"metadata": {},
			"outputs": [],
			"source": [
				"# Create video_id, sentence csv\n",
				"pd.DataFrame({\n",
				"    'video_id': all_vid_ids,\n",
				"    'video_path': all_vid_paths,\n",
				"    'sentence': \"car driving fast\"\n",
				"}).head().to_csv(CSV_SEARCH_FILE_1, index=False)"
			]
		},
		{
			"cell_type": "code",
			"execution_count": 51,
			"id": "3c67772e",
			"metadata": {},
			"outputs": [
				{
					"name": "stderr",
					"output_type": "stream",
					"text": [
						"2025-04-12 17:01:50,887 - 18770833408 - node.py-node:167 - INFO: Begin to run Node-_input\n",
						"2025-04-12 17:01:50,888 - 18787659776 - node.py-node:167 - INFO: Begin to run Node-read_csv-0\n",
						"2025-04-12 17:01:50,889 - 18804486144 - node.py-node:167 - INFO: Begin to run Node-video-text-embedding/clip4clip-1\n",
						"2025-04-12 17:01:50,889 - 18821312512 - node.py-node:167 - INFO: Begin to run Node-ann-search/milvus-client-2\n",
						"2025-04-12 17:01:50,890 - 18838138880 - node.py-node:167 - INFO: Begin to run Node-lambda-3\n",
						"2025-04-12 17:01:50,890 - 18770833408 - node.py-node:167 - INFO: Begin to run Node-lambda-4\n",
						"2025-04-12 17:01:50,891 - 18854965248 - node.py-node:167 - INFO: Begin to run Node-_output\n"
					]
				},
				{
					"data": {
						"text/html": [
							"<table style=\"border-collapse: collapse;\"><tr><th style=\"text-align: center; font-size: 130%; border: none;\">video_id</th> <th style=\"text-align: center; font-size: 130%; border: none;\">sentence</th> <th style=\"text-align: center; font-size: 130%; border: none;\">ground_truth</th> <th style=\"text-align: center; font-size: 130%; border: none;\">top1</th> <th style=\"text-align: center; font-size: 130%; border: none;\">top5</th> <th style=\"text-align: center; font-size: 130%; border: none;\">top10</th></tr>\n",
							"<tr><td style=\"text-align: center; vertical-align: top; border-right: solid 1px #D3D3D3; border-left: solid 1px #D3D3D3; \">12</td><td style=\"text-align: center; vertical-align: top; border-right: solid 1px #D3D3D3; border-left: solid 1px #D3D3D3; \">data/MSRVTT/videos/all/video12.mp4</td><td style=\"text-align: center; vertical-align: top; border-right: solid 1px #D3D3D3; border-left: solid 1px #D3D3D3; \">12</td><td style=\"text-align: left; vertical-align: top; border-right: solid 1px #D3D3D3; border-left: solid 1px #D3D3D3; \">[[2410, 1.5083791017532349]] len=1</td><td style=\"text-align: left; vertical-align: top; border-right: solid 1px #D3D3D3; border-left: solid 1px #D3D3D3; \">[[2410, 1.5083791017532349],[8854, 1.533107042312622],[3068, 1.5452654361724854],[904, 1.5486265420913696],...] len=5</td><td style=\"text-align: left; vertical-align: top; border-right: solid 1px #D3D3D3; border-left: solid 1px #D3D3D3; \">[[2410, 1.5083791017532349],[8854, 1.533107042312622],[3068, 1.5452654361724854],[904, 1.5486265420913696],...] len=10</td></tr>\n",
							"<tr><td style=\"text-align: center; vertical-align: top; border-right: solid 1px #D3D3D3; border-left: solid 1px #D3D3D3; \">6110</td><td style=\"text-align: center; vertical-align: top; border-right: solid 1px #D3D3D3; border-left: solid 1px #D3D3D3; \">data/MSRVTT/videos/all/video6110.mp4</td><td style=\"text-align: center; vertical-align: top; border-right: solid 1px #D3D3D3; border-left: solid 1px #D3D3D3; \">6110</td><td style=\"text-align: left; vertical-align: top; border-right: solid 1px #D3D3D3; border-left: solid 1px #D3D3D3; \">[[2410, 1.5018949508666992]] len=1</td><td style=\"text-align: left; vertical-align: top; border-right: solid 1px #D3D3D3; border-left: solid 1px #D3D3D3; \">[[2410, 1.5018949508666992],[8854, 1.521482229232788],[3068, 1.5339115858078003],[904, 1.5529305934906006],...] len=5</td><td style=\"text-align: left; vertical-align: top; border-right: solid 1px #D3D3D3; border-left: solid 1px #D3D3D3; \">[[2410, 1.5018949508666992],[8854, 1.521482229232788],[3068, 1.5339115858078003],[904, 1.5529305934906006],...] len=10</td></tr>\n",
							"<tr><td style=\"text-align: center; vertical-align: top; border-right: solid 1px #D3D3D3; border-left: solid 1px #D3D3D3; \">9223</td><td style=\"text-align: center; vertical-align: top; border-right: solid 1px #D3D3D3; border-left: solid 1px #D3D3D3; \">data/MSRVTT/videos/all/video9223.mp4</td><td style=\"text-align: center; vertical-align: top; border-right: solid 1px #D3D3D3; border-left: solid 1px #D3D3D3; \">9223</td><td style=\"text-align: left; vertical-align: top; border-right: solid 1px #D3D3D3; border-left: solid 1px #D3D3D3; \">[[2410, 1.5197679996490479]] len=1</td><td style=\"text-align: left; vertical-align: top; border-right: solid 1px #D3D3D3; border-left: solid 1px #D3D3D3; \">[[2410, 1.5197679996490479],[8854, 1.5299631357192993],[3068, 1.5301129817962646],[2376, 1.5480180978775024],...] len=5</td><td style=\"text-align: left; vertical-align: top; border-right: solid 1px #D3D3D3; border-left: solid 1px #D3D3D3; \">[[2410, 1.5197679996490479],[8854, 1.5299631357192993],[3068, 1.5301129817962646],[2376, 1.5480180978775024],...] len=10</td></tr>\n",
							"<tr><td style=\"text-align: center; vertical-align: top; border-right: solid 1px #D3D3D3; border-left: solid 1px #D3D3D3; \">2376</td><td style=\"text-align: center; vertical-align: top; border-right: solid 1px #D3D3D3; border-left: solid 1px #D3D3D3; \">data/MSRVTT/videos/all/video2376.mp4</td><td style=\"text-align: center; vertical-align: top; border-right: solid 1px #D3D3D3; border-left: solid 1px #D3D3D3; \">2376</td><td style=\"text-align: left; vertical-align: top; border-right: solid 1px #D3D3D3; border-left: solid 1px #D3D3D3; \">[[2410, 1.5124073028564453]] len=1</td><td style=\"text-align: left; vertical-align: top; border-right: solid 1px #D3D3D3; border-left: solid 1px #D3D3D3; \">[[2410, 1.5124073028564453],[8854, 1.527886152267456],[3068, 1.5359500646591187],[6104, 1.5534569025039673],...] len=5</td><td style=\"text-align: left; vertical-align: top; border-right: solid 1px #D3D3D3; border-left: solid 1px #D3D3D3; \">[[2410, 1.5124073028564453],[8854, 1.527886152267456],[3068, 1.5359500646591187],[6104, 1.5534569025039673],...] len=10</td></tr>\n",
							"<tr><td style=\"text-align: center; vertical-align: top; border-right: solid 1px #D3D3D3; border-left: solid 1px #D3D3D3; \">938</td><td style=\"text-align: center; vertical-align: top; border-right: solid 1px #D3D3D3; border-left: solid 1px #D3D3D3; \">data/MSRVTT/videos/all/video938.mp4</td><td style=\"text-align: center; vertical-align: top; border-right: solid 1px #D3D3D3; border-left: solid 1px #D3D3D3; \">938</td><td style=\"text-align: left; vertical-align: top; border-right: solid 1px #D3D3D3; border-left: solid 1px #D3D3D3; \">[[2410, 1.5077203512191772]] len=1</td><td style=\"text-align: left; vertical-align: top; border-right: solid 1px #D3D3D3; border-left: solid 1px #D3D3D3; \">[[2410, 1.5077203512191772],[8854, 1.5304750204086304],[3068, 1.5305721759796143],[904, 1.5520923137664795],...] len=5</td><td style=\"text-align: left; vertical-align: top; border-right: solid 1px #D3D3D3; border-left: solid 1px #D3D3D3; \">[[2410, 1.5077203512191772],[8854, 1.5304750204086304],[3068, 1.5305721759796143],[904, 1.5520923137664795],...] len=10</td></tr></table>"
						],
						"text/plain": [
							"<IPython.core.display.HTML object>"
						]
					},
					"metadata": {},
					"output_type": "display_data"
				}
			],
			"source": [
				"DataCollection(twohee_search_videos_pipeline(CSV_SEARCH_FILE_1)).show()"
			]
		}
	],
	"metadata": {
		"kernelspec": {
			"display_name": "info-ret-proj",
			"language": "python",
			"name": "python3"
		},
		"language_info": {
			"codemirror_mode": {
				"name": "ipython",
				"version": 3
			},
			"file_extension": ".py",
			"mimetype": "text/x-python",
			"name": "python",
			"nbconvert_exporter": "python",
			"pygments_lexer": "ipython3",
			"version": "3.10.16"
		}
	},
	"nbformat": 4,
	"nbformat_minor": 5
}
