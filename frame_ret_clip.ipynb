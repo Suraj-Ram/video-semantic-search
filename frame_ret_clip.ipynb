{
 "cells": [
  {
   "cell_type": "markdown",
   "id": "bb513f38",
   "metadata": {},
   "source": [
    "Video retrieval by embedding single frames using CLIP"
   ]
  },
  {
   "cell_type": "code",
   "execution_count": 10,
   "id": "769c33eb",
   "metadata": {},
   "outputs": [],
   "source": [
    "import os\n",
    "import csv\n",
    "from towhee import ops, pipe, register\n",
    "from towhee.operator import PyOperator\n",
    "from towhee import DataCollection\n",
    "from tqdm import tqdm\n",
    "import pandas as pd\n",
    "import json\n",
    "import numpy as np\n",
    "from helpers import milvus_utils\n",
    "from helpers.extract_frames import extract_frame"
   ]
  },
  {
   "cell_type": "code",
   "execution_count": 15,
   "id": "33097668",
   "metadata": {},
   "outputs": [],
   "source": [
    "# CONSTANTS\n",
    "\n",
    "# Files\n",
    "MSRVTT_SAMPLES = \"./MSRVTT_1K.csv\"\n",
    "MSRVTT_SAMPLES_WITH_FRAMES = \"./MSRVTT_1K_frames.csv\"\n",
    "# file created using raw FIRE judgements, see clean_fire_judgements.ipynb\n",
    "FIRE_BENCHMARK_Q_JUDGEMENTS = \"./fire_benchmark_q_judgements.csv\" \n",
    "\n",
    "# Database Collections\n",
    "FRAME_RET_COLLECTION = \"msrvtt_frame_ret_1\""
   ]
  },
  {
   "cell_type": "code",
   "execution_count": 5,
   "id": "62a84e47",
   "metadata": {},
   "outputs": [
    {
     "data": {
      "application/vnd.microsoft.datawrangler.viewer.v0+json": {
       "columns": [
        {
         "name": "index",
         "rawType": "int64",
         "type": "integer"
        },
        {
         "name": "video_id",
         "rawType": "object",
         "type": "string"
        },
        {
         "name": "video_path",
         "rawType": "object",
         "type": "string"
        },
        {
         "name": "sentence",
         "rawType": "object",
         "type": "string"
        }
       ],
       "conversionMethod": "pd.DataFrame",
       "ref": "fe7f631d-a834-4f58-af69-3c52b8481e42",
       "rows": [
        [
         "0",
         "video7579",
         "./test_1k_compress/video7579.mp4",
         "a girl wearing red top and black trouser is putting a sweater on a dog"
        ],
        [
         "1",
         "video7725",
         "./test_1k_compress/video7725.mp4",
         "young people sit around the edges of a room clapping and raising their arms while others dance in the center during a party"
        ],
        [
         "2",
         "video9258",
         "./test_1k_compress/video9258.mp4",
         "a person is using a phone"
        ],
        [
         "3",
         "video7365",
         "./test_1k_compress/video7365.mp4",
         "cartoon people are eating at a restaurant"
        ],
        [
         "4",
         "video8068",
         "./test_1k_compress/video8068.mp4",
         "a woman on a couch talks to a a man"
        ]
       ],
       "shape": {
        "columns": 3,
        "rows": 5
       }
      },
      "text/html": [
       "<div>\n",
       "<style scoped>\n",
       "    .dataframe tbody tr th:only-of-type {\n",
       "        vertical-align: middle;\n",
       "    }\n",
       "\n",
       "    .dataframe tbody tr th {\n",
       "        vertical-align: top;\n",
       "    }\n",
       "\n",
       "    .dataframe thead th {\n",
       "        text-align: right;\n",
       "    }\n",
       "</style>\n",
       "<table border=\"1\" class=\"dataframe\">\n",
       "  <thead>\n",
       "    <tr style=\"text-align: right;\">\n",
       "      <th></th>\n",
       "      <th>video_id</th>\n",
       "      <th>video_path</th>\n",
       "      <th>sentence</th>\n",
       "    </tr>\n",
       "  </thead>\n",
       "  <tbody>\n",
       "    <tr>\n",
       "      <th>0</th>\n",
       "      <td>video7579</td>\n",
       "      <td>./test_1k_compress/video7579.mp4</td>\n",
       "      <td>a girl wearing red top and black trouser is pu...</td>\n",
       "    </tr>\n",
       "    <tr>\n",
       "      <th>1</th>\n",
       "      <td>video7725</td>\n",
       "      <td>./test_1k_compress/video7725.mp4</td>\n",
       "      <td>young people sit around the edges of a room cl...</td>\n",
       "    </tr>\n",
       "    <tr>\n",
       "      <th>2</th>\n",
       "      <td>video9258</td>\n",
       "      <td>./test_1k_compress/video9258.mp4</td>\n",
       "      <td>a person is using a phone</td>\n",
       "    </tr>\n",
       "    <tr>\n",
       "      <th>3</th>\n",
       "      <td>video7365</td>\n",
       "      <td>./test_1k_compress/video7365.mp4</td>\n",
       "      <td>cartoon people are eating at a restaurant</td>\n",
       "    </tr>\n",
       "    <tr>\n",
       "      <th>4</th>\n",
       "      <td>video8068</td>\n",
       "      <td>./test_1k_compress/video8068.mp4</td>\n",
       "      <td>a woman on a couch talks to a a man</td>\n",
       "    </tr>\n",
       "  </tbody>\n",
       "</table>\n",
       "</div>"
      ],
      "text/plain": [
       "    video_id                        video_path  \\\n",
       "0  video7579  ./test_1k_compress/video7579.mp4   \n",
       "1  video7725  ./test_1k_compress/video7725.mp4   \n",
       "2  video9258  ./test_1k_compress/video9258.mp4   \n",
       "3  video7365  ./test_1k_compress/video7365.mp4   \n",
       "4  video8068  ./test_1k_compress/video8068.mp4   \n",
       "\n",
       "                                            sentence  \n",
       "0  a girl wearing red top and black trouser is pu...  \n",
       "1  young people sit around the edges of a room cl...  \n",
       "2                          a person is using a phone  \n",
       "3          cartoon people are eating at a restaurant  \n",
       "4                a woman on a couch talks to a a man  "
      ]
     },
     "execution_count": 5,
     "metadata": {},
     "output_type": "execute_result"
    }
   ],
   "source": [
    "raw_samples_df = pd.read_csv(MSRVTT_SAMPLES)\n",
    "raw_samples_df[['video_id', 'video_path', 'sentence']].head()"
   ]
  },
  {
   "cell_type": "markdown",
   "id": "282b53af",
   "metadata": {},
   "source": [
    "Before we embed video frames, we need to extract and/or construct a single frame from each of the 1000 videos."
   ]
  },
  {
   "cell_type": "code",
   "execution_count": 13,
   "id": "a8657f97",
   "metadata": {},
   "outputs": [
    {
     "name": "stderr",
     "output_type": "stream",
     "text": [
      "100%|██████████| 1000/1000 [00:09<00:00, 110.02it/s]\n"
     ]
    },
    {
     "data": {
      "application/vnd.microsoft.datawrangler.viewer.v0+json": {
       "columns": [
        {
         "name": "index",
         "rawType": "int64",
         "type": "integer"
        },
        {
         "name": "Unnamed: 0",
         "rawType": "int64",
         "type": "integer"
        },
        {
         "name": "key",
         "rawType": "object",
         "type": "string"
        },
        {
         "name": "vid_key",
         "rawType": "object",
         "type": "string"
        },
        {
         "name": "video_id",
         "rawType": "object",
         "type": "string"
        },
        {
         "name": "sentence",
         "rawType": "object",
         "type": "string"
        },
        {
         "name": "video_path",
         "rawType": "object",
         "type": "string"
        },
        {
         "name": "frame_path",
         "rawType": "object",
         "type": "string"
        },
        {
         "name": "frame_id",
         "rawType": "object",
         "type": "string"
        }
       ],
       "conversionMethod": "pd.DataFrame",
       "ref": "abfd1178-0711-4f45-80c0-1674c460c498",
       "rows": [
        [
         "0",
         "521",
         "ret521",
         "msr7579",
         "video7579",
         "a girl wearing red top and black trouser is putting a sweater on a dog",
         "./test_1k_compress/video7579.mp4",
         "./test_1k_images/video7579.jpg",
         "video7579"
        ],
        [
         "1",
         "737",
         "ret737",
         "msr7725",
         "video7725",
         "young people sit around the edges of a room clapping and raising their arms while others dance in the center during a party",
         "./test_1k_compress/video7725.mp4",
         "./test_1k_images/video7725.jpg",
         "video7725"
        ],
        [
         "2",
         "740",
         "ret740",
         "msr9258",
         "video9258",
         "a person is using a phone",
         "./test_1k_compress/video9258.mp4",
         "./test_1k_images/video9258.jpg",
         "video9258"
        ],
        [
         "3",
         "660",
         "ret660",
         "msr7365",
         "video7365",
         "cartoon people are eating at a restaurant",
         "./test_1k_compress/video7365.mp4",
         "./test_1k_images/video7365.jpg",
         "video7365"
        ],
        [
         "4",
         "411",
         "ret411",
         "msr8068",
         "video8068",
         "a woman on a couch talks to a a man",
         "./test_1k_compress/video8068.mp4",
         "./test_1k_images/video8068.jpg",
         "video8068"
        ],
        [
         "5",
         "678",
         "ret678",
         "msr7131",
         "video7131",
         "athletes are getting ready and start running for an event",
         "./test_1k_compress/video7131.mp4",
         "./test_1k_images/video7131.jpg",
         "video7131"
        ],
        [
         "6",
         "626",
         "ret626",
         "msr7213",
         "video7213",
         "a woman is making lasagna",
         "./test_1k_compress/video7213.mp4",
         "./test_1k_images/video7213.jpg",
         "video7213"
        ],
        [
         "7",
         "513",
         "ret513",
         "msr7575",
         "video7575",
         "a man speaking in a microphone",
         "./test_1k_compress/video7575.mp4",
         "./test_1k_images/video7575.jpg",
         "video7575"
        ],
        [
         "8",
         "859",
         "ret859",
         "msr7978",
         "video7978",
         "a team with blue uniforms are playing badmitten with a team in white",
         "./test_1k_compress/video7978.mp4",
         "./test_1k_images/video7978.jpg",
         "video7978"
        ],
        [
         "9",
         "136",
         "ret136",
         "msr8123",
         "video8123",
         "a woman is giving demo for baby trolley",
         "./test_1k_compress/video8123.mp4",
         "./test_1k_images/video8123.jpg",
         "video8123"
        ],
        [
         "10",
         "811",
         "ret811",
         "msr9800",
         "video9800",
         "a car is in a wreck",
         "./test_1k_compress/video9800.mp4",
         "./test_1k_images/video9800.jpg",
         "video9800"
        ],
        [
         "11",
         "76",
         "ret76",
         "msr9205",
         "video9205",
         "a woman interviewing about her part in a protest happening in brazil",
         "./test_1k_compress/video9205.mp4",
         "./test_1k_images/video9205.jpg",
         "video9205"
        ],
        [
         "12",
         "636",
         "ret636",
         "msr7590",
         "video7590",
         "an emotional scene of two persons where they are crying on meeting",
         "./test_1k_compress/video7590.mp4",
         "./test_1k_images/video7590.jpg",
         "video7590"
        ],
        [
         "13",
         "973",
         "ret973",
         "msr9017",
         "video9017",
         "the man is driving his motorbike fast and having problems on the race",
         "./test_1k_compress/video9017.mp4",
         "./test_1k_images/video9017.jpg",
         "video9017"
        ],
        [
         "14",
         "938",
         "ret938",
         "msr9241",
         "video9241",
         "japanese people laughing and dancing",
         "./test_1k_compress/video9241.mp4",
         "./test_1k_images/video9241.jpg",
         "video9241"
        ],
        [
         "15",
         "899",
         "ret899",
         "msr7158",
         "video7158",
         "fox news presidential debate recapping the gop debate with donald trump and ted cruz",
         "./test_1k_compress/video7158.mp4",
         "./test_1k_images/video7158.jpg",
         "video7158"
        ],
        [
         "16",
         "280",
         "ret280",
         "msr9233",
         "video9233",
         "a man is giving a speech",
         "./test_1k_compress/video9233.mp4",
         "./test_1k_images/video9233.jpg",
         "video9233"
        ],
        [
         "17",
         "883",
         "ret883",
         "msr8687",
         "video8687",
         "fast moving time is shown here",
         "./test_1k_compress/video8687.mp4",
         "./test_1k_images/video8687.jpg",
         "video8687"
        ],
        [
         "18",
         "761",
         "ret761",
         "msr9337",
         "video9337",
         "some people are inside of a room",
         "./test_1k_compress/video9337.mp4",
         "./test_1k_images/video9337.jpg",
         "video9337"
        ],
        [
         "19",
         "319",
         "ret319",
         "msr9620",
         "video9620",
         "outer space pictures that have parts of equipments in them with water droplets on it",
         "./test_1k_compress/video9620.mp4",
         "./test_1k_images/video9620.jpg",
         "video9620"
        ],
        [
         "20",
         "549",
         "ret549",
         "msr7411",
         "video7411",
         "jolly good music troop delivering a program and the lady is in good spirit",
         "./test_1k_compress/video7411.mp4",
         "./test_1k_images/video7411.jpg",
         "video7411"
        ],
        [
         "21",
         "174",
         "ret174",
         "msr8514",
         "video8514",
         "a person is putting the vegetable in to the water and boil it",
         "./test_1k_compress/video8514.mp4",
         "./test_1k_images/video8514.jpg",
         "video8514"
        ],
        [
         "22",
         "371",
         "ret371",
         "msr8481",
         "video8481",
         "a woman is reporting on keds commercials",
         "./test_1k_compress/video8481.mp4",
         "./test_1k_images/video8481.jpg",
         "video8481"
        ],
        [
         "23",
         "527",
         "ret527",
         "msr9224",
         "video9224",
         "someone is playing a game",
         "./test_1k_compress/video9224.mp4",
         "./test_1k_images/video9224.jpg",
         "video9224"
        ],
        [
         "24",
         "210",
         "ret210",
         "msr8426",
         "video8426",
         "cabins on a sandy beach have walkways going up to their porches",
         "./test_1k_compress/video8426.mp4",
         "./test_1k_images/video8426.jpg",
         "video8426"
        ],
        [
         "25",
         "235",
         "ret235",
         "msr9699",
         "video9699",
         "a man explains how to do a experiment",
         "./test_1k_compress/video9699.mp4",
         "./test_1k_images/video9699.jpg",
         "video9699"
        ],
        [
         "26",
         "101",
         "ret101",
         "msr9882",
         "video9882",
         "a news reader is reading the news and asking question to some people",
         "./test_1k_compress/video9882.mp4",
         "./test_1k_images/video9882.jpg",
         "video9882"
        ],
        [
         "27",
         "986",
         "ret986",
         "msr8300",
         "video8300",
         "a woman pours water into her pot of meat then tomato sauce and stirs it all around while talking",
         "./test_1k_compress/video8300.mp4",
         "./test_1k_images/video8300.jpg",
         "video8300"
        ],
        [
         "28",
         "902",
         "ret902",
         "msr8863",
         "video8863",
         "an animated girl talks to a baby and plays with it",
         "./test_1k_compress/video8863.mp4",
         "./test_1k_images/video8863.jpg",
         "video8863"
        ],
        [
         "29",
         "947",
         "ret947",
         "msr7147",
         "video7147",
         "a man cooks burgers and bacon on a grill",
         "./test_1k_compress/video7147.mp4",
         "./test_1k_images/video7147.jpg",
         "video7147"
        ],
        [
         "30",
         "346",
         "ret346",
         "msr7744",
         "video7744",
         "a chef stirs up some ingredients inside of a pan",
         "./test_1k_compress/video7744.mp4",
         "./test_1k_images/video7744.jpg",
         "video7744"
        ],
        [
         "31",
         "139",
         "ret139",
         "msr7839",
         "video7839",
         "this is a vine sports compilation",
         "./test_1k_compress/video7839.mp4",
         "./test_1k_images/video7839.jpg",
         "video7839"
        ],
        [
         "32",
         "621",
         "ret621",
         "msr7214",
         "video7214",
         "race cars of different colors lined up on a dark track",
         "./test_1k_compress/video7214.mp4",
         "./test_1k_images/video7214.jpg",
         "video7214"
        ],
        [
         "33",
         "499",
         "ret499",
         "msr7771",
         "video7771",
         "a golf player is trying to hit the ball into the pit",
         "./test_1k_compress/video7771.mp4",
         "./test_1k_images/video7771.jpg",
         "video7771"
        ],
        [
         "34",
         "370",
         "ret370",
         "msr8486",
         "video8486",
         "a cartoon on a young guy cursing",
         "./test_1k_compress/video8486.mp4",
         "./test_1k_images/video8486.jpg",
         "video8486"
        ],
        [
         "35",
         "198",
         "ret198",
         "msr9909",
         "video9909",
         "a crowd of people sitting next to each other as one man plays a video game",
         "./test_1k_compress/video9909.mp4",
         "./test_1k_images/video9909.jpg",
         "video9909"
        ],
        [
         "36",
         "687",
         "ret687",
         "msr8922",
         "video8922",
         "an old man shakes hands with another man and then they hug each other",
         "./test_1k_compress/video8922.mp4",
         "./test_1k_images/video8922.jpg",
         "video8922"
        ],
        [
         "37",
         "584",
         "ret584",
         "msr9814",
         "video9814",
         "a scene from spongebob squarepants where the townspeople are carrying torches and chasing a giant squidward",
         "./test_1k_compress/video9814.mp4",
         "./test_1k_images/video9814.jpg",
         "video9814"
        ],
        [
         "38",
         "901",
         "ret901",
         "msr9368",
         "video9368",
         "someone demonstrates about the small motor uses to the video",
         "./test_1k_compress/video9368.mp4",
         "./test_1k_images/video9368.jpg",
         "video9368"
        ],
        [
         "39",
         "59",
         "ret59",
         "msr8820",
         "video8820",
         "a person comes up in the hill on a orange motor bike and falls down",
         "./test_1k_compress/video8820.mp4",
         "./test_1k_images/video8820.jpg",
         "video8820"
        ],
        [
         "40",
         "328",
         "ret328",
         "msr9452",
         "video9452",
         "an animated grey shark in the middle of a blue water simulation background rotating in a circle on the screen of a monitor",
         "./test_1k_compress/video9452.mp4",
         "./test_1k_images/video9452.jpg",
         "video9452"
        ],
        [
         "41",
         "96",
         "ret96",
         "msr9344",
         "video9344",
         "gameplay footage of someone playing a game",
         "./test_1k_compress/video9344.mp4",
         "./test_1k_images/video9344.jpg",
         "video9344"
        ],
        [
         "42",
         "312",
         "ret312",
         "msr9032",
         "video9032",
         "a hospital mortuary room and a doctor treat the special case",
         "./test_1k_compress/video9032.mp4",
         "./test_1k_images/video9032.jpg",
         "video9032"
        ],
        [
         "43",
         "974",
         "ret974",
         "msr9016",
         "video9016",
         "all persons are wearing bikini dresses and playing in sea",
         "./test_1k_compress/video9016.mp4",
         "./test_1k_images/video9016.jpg",
         "video9016"
        ],
        [
         "44",
         "299",
         "ret299",
         "msr9353",
         "video9353",
         "two women are outside and are discussing something in a foreign language",
         "./test_1k_compress/video9353.mp4",
         "./test_1k_images/video9353.jpg",
         "video9353"
        ],
        [
         "45",
         "277",
         "ret277",
         "msr9405",
         "video9405",
         "red balloons float in the sky and have packages tied to them",
         "./test_1k_compress/video9405.mp4",
         "./test_1k_images/video9405.jpg",
         "video9405"
        ],
        [
         "46",
         "924",
         "ret924",
         "msr7559",
         "video7559",
         "a man is trying some sushi",
         "./test_1k_compress/video7559.mp4",
         "./test_1k_images/video7559.jpg",
         "video7559"
        ],
        [
         "47",
         "601",
         "ret601",
         "msr9063",
         "video9063",
         "people on stage performing",
         "./test_1k_compress/video9063.mp4",
         "./test_1k_images/video9063.jpg",
         "video9063"
        ],
        [
         "48",
         "439",
         "ret439",
         "msr7352",
         "video7352",
         "a movie scene starring morgan freeman and men in armor running",
         "./test_1k_compress/video7352.mp4",
         "./test_1k_images/video7352.jpg",
         "video7352"
        ],
        [
         "49",
         "837",
         "ret837",
         "msr8447",
         "video8447",
         "a woman singing on the voice",
         "./test_1k_compress/video8447.mp4",
         "./test_1k_images/video8447.jpg",
         "video8447"
        ]
       ],
       "shape": {
        "columns": 8,
        "rows": 1000
       }
      },
      "text/html": [
       "<div>\n",
       "<style scoped>\n",
       "    .dataframe tbody tr th:only-of-type {\n",
       "        vertical-align: middle;\n",
       "    }\n",
       "\n",
       "    .dataframe tbody tr th {\n",
       "        vertical-align: top;\n",
       "    }\n",
       "\n",
       "    .dataframe thead th {\n",
       "        text-align: right;\n",
       "    }\n",
       "</style>\n",
       "<table border=\"1\" class=\"dataframe\">\n",
       "  <thead>\n",
       "    <tr style=\"text-align: right;\">\n",
       "      <th></th>\n",
       "      <th>Unnamed: 0</th>\n",
       "      <th>key</th>\n",
       "      <th>vid_key</th>\n",
       "      <th>video_id</th>\n",
       "      <th>sentence</th>\n",
       "      <th>video_path</th>\n",
       "      <th>frame_path</th>\n",
       "      <th>frame_id</th>\n",
       "    </tr>\n",
       "  </thead>\n",
       "  <tbody>\n",
       "    <tr>\n",
       "      <th>0</th>\n",
       "      <td>521</td>\n",
       "      <td>ret521</td>\n",
       "      <td>msr7579</td>\n",
       "      <td>video7579</td>\n",
       "      <td>a girl wearing red top and black trouser is pu...</td>\n",
       "      <td>./test_1k_compress/video7579.mp4</td>\n",
       "      <td>./test_1k_images/video7579.jpg</td>\n",
       "      <td>video7579</td>\n",
       "    </tr>\n",
       "    <tr>\n",
       "      <th>1</th>\n",
       "      <td>737</td>\n",
       "      <td>ret737</td>\n",
       "      <td>msr7725</td>\n",
       "      <td>video7725</td>\n",
       "      <td>young people sit around the edges of a room cl...</td>\n",
       "      <td>./test_1k_compress/video7725.mp4</td>\n",
       "      <td>./test_1k_images/video7725.jpg</td>\n",
       "      <td>video7725</td>\n",
       "    </tr>\n",
       "    <tr>\n",
       "      <th>2</th>\n",
       "      <td>740</td>\n",
       "      <td>ret740</td>\n",
       "      <td>msr9258</td>\n",
       "      <td>video9258</td>\n",
       "      <td>a person is using a phone</td>\n",
       "      <td>./test_1k_compress/video9258.mp4</td>\n",
       "      <td>./test_1k_images/video9258.jpg</td>\n",
       "      <td>video9258</td>\n",
       "    </tr>\n",
       "    <tr>\n",
       "      <th>3</th>\n",
       "      <td>660</td>\n",
       "      <td>ret660</td>\n",
       "      <td>msr7365</td>\n",
       "      <td>video7365</td>\n",
       "      <td>cartoon people are eating at a restaurant</td>\n",
       "      <td>./test_1k_compress/video7365.mp4</td>\n",
       "      <td>./test_1k_images/video7365.jpg</td>\n",
       "      <td>video7365</td>\n",
       "    </tr>\n",
       "    <tr>\n",
       "      <th>4</th>\n",
       "      <td>411</td>\n",
       "      <td>ret411</td>\n",
       "      <td>msr8068</td>\n",
       "      <td>video8068</td>\n",
       "      <td>a woman on a couch talks to a a man</td>\n",
       "      <td>./test_1k_compress/video8068.mp4</td>\n",
       "      <td>./test_1k_images/video8068.jpg</td>\n",
       "      <td>video8068</td>\n",
       "    </tr>\n",
       "    <tr>\n",
       "      <th>...</th>\n",
       "      <td>...</td>\n",
       "      <td>...</td>\n",
       "      <td>...</td>\n",
       "      <td>...</td>\n",
       "      <td>...</td>\n",
       "      <td>...</td>\n",
       "      <td>...</td>\n",
       "      <td>...</td>\n",
       "    </tr>\n",
       "    <tr>\n",
       "      <th>995</th>\n",
       "      <td>106</td>\n",
       "      <td>ret106</td>\n",
       "      <td>msr7034</td>\n",
       "      <td>video7034</td>\n",
       "      <td>man in black shirt is holding a baby upside do...</td>\n",
       "      <td>./test_1k_compress/video7034.mp4</td>\n",
       "      <td>./test_1k_images/video7034.jpg</td>\n",
       "      <td>video7034</td>\n",
       "    </tr>\n",
       "    <tr>\n",
       "      <th>996</th>\n",
       "      <td>270</td>\n",
       "      <td>ret270</td>\n",
       "      <td>msr7568</td>\n",
       "      <td>video7568</td>\n",
       "      <td>the queen of england is seen walking with an e...</td>\n",
       "      <td>./test_1k_compress/video7568.mp4</td>\n",
       "      <td>./test_1k_images/video7568.jpg</td>\n",
       "      <td>video7568</td>\n",
       "    </tr>\n",
       "    <tr>\n",
       "      <th>997</th>\n",
       "      <td>860</td>\n",
       "      <td>ret860</td>\n",
       "      <td>msr7979</td>\n",
       "      <td>video7979</td>\n",
       "      <td>people talking about a fight</td>\n",
       "      <td>./test_1k_compress/video7979.mp4</td>\n",
       "      <td>./test_1k_images/video7979.jpg</td>\n",
       "      <td>video7979</td>\n",
       "    </tr>\n",
       "    <tr>\n",
       "      <th>998</th>\n",
       "      <td>435</td>\n",
       "      <td>ret435</td>\n",
       "      <td>msr7356</td>\n",
       "      <td>video7356</td>\n",
       "      <td>a vehicle with details on what comes with it b...</td>\n",
       "      <td>./test_1k_compress/video7356.mp4</td>\n",
       "      <td>./test_1k_images/video7356.jpg</td>\n",
       "      <td>video7356</td>\n",
       "    </tr>\n",
       "    <tr>\n",
       "      <th>999</th>\n",
       "      <td>102</td>\n",
       "      <td>ret102</td>\n",
       "      <td>msr8578</td>\n",
       "      <td>video8578</td>\n",
       "      <td>a man is commentating while playing minecraft</td>\n",
       "      <td>./test_1k_compress/video8578.mp4</td>\n",
       "      <td>./test_1k_images/video8578.jpg</td>\n",
       "      <td>video8578</td>\n",
       "    </tr>\n",
       "  </tbody>\n",
       "</table>\n",
       "<p>1000 rows × 8 columns</p>\n",
       "</div>"
      ],
      "text/plain": [
       "     Unnamed: 0     key  vid_key   video_id  \\\n",
       "0           521  ret521  msr7579  video7579   \n",
       "1           737  ret737  msr7725  video7725   \n",
       "2           740  ret740  msr9258  video9258   \n",
       "3           660  ret660  msr7365  video7365   \n",
       "4           411  ret411  msr8068  video8068   \n",
       "..          ...     ...      ...        ...   \n",
       "995         106  ret106  msr7034  video7034   \n",
       "996         270  ret270  msr7568  video7568   \n",
       "997         860  ret860  msr7979  video7979   \n",
       "998         435  ret435  msr7356  video7356   \n",
       "999         102  ret102  msr8578  video8578   \n",
       "\n",
       "                                              sentence  \\\n",
       "0    a girl wearing red top and black trouser is pu...   \n",
       "1    young people sit around the edges of a room cl...   \n",
       "2                            a person is using a phone   \n",
       "3            cartoon people are eating at a restaurant   \n",
       "4                  a woman on a couch talks to a a man   \n",
       "..                                                 ...   \n",
       "995  man in black shirt is holding a baby upside do...   \n",
       "996  the queen of england is seen walking with an e...   \n",
       "997                       people talking about a fight   \n",
       "998  a vehicle with details on what comes with it b...   \n",
       "999      a man is commentating while playing minecraft   \n",
       "\n",
       "                           video_path                      frame_path  \\\n",
       "0    ./test_1k_compress/video7579.mp4  ./test_1k_images/video7579.jpg   \n",
       "1    ./test_1k_compress/video7725.mp4  ./test_1k_images/video7725.jpg   \n",
       "2    ./test_1k_compress/video9258.mp4  ./test_1k_images/video9258.jpg   \n",
       "3    ./test_1k_compress/video7365.mp4  ./test_1k_images/video7365.jpg   \n",
       "4    ./test_1k_compress/video8068.mp4  ./test_1k_images/video8068.jpg   \n",
       "..                                ...                             ...   \n",
       "995  ./test_1k_compress/video7034.mp4  ./test_1k_images/video7034.jpg   \n",
       "996  ./test_1k_compress/video7568.mp4  ./test_1k_images/video7568.jpg   \n",
       "997  ./test_1k_compress/video7979.mp4  ./test_1k_images/video7979.jpg   \n",
       "998  ./test_1k_compress/video7356.mp4  ./test_1k_images/video7356.jpg   \n",
       "999  ./test_1k_compress/video8578.mp4  ./test_1k_images/video8578.jpg   \n",
       "\n",
       "      frame_id  \n",
       "0    video7579  \n",
       "1    video7725  \n",
       "2    video9258  \n",
       "3    video7365  \n",
       "4    video8068  \n",
       "..         ...  \n",
       "995  video7034  \n",
       "996  video7568  \n",
       "997  video7979  \n",
       "998  video7356  \n",
       "999  video8578  \n",
       "\n",
       "[1000 rows x 8 columns]"
      ]
     },
     "execution_count": 13,
     "metadata": {},
     "output_type": "execute_result"
    }
   ],
   "source": [
    "for row in tqdm(raw_samples_df.iterrows(), total=len(raw_samples_df)):\n",
    "    video_path = row[1]['video_path']\n",
    "    images_dir = \"./test_1k_images\"\n",
    "    image_name = os.path.basename(video_path).split('.')[0]\n",
    "    image_path = os.path.join(images_dir, image_name) + \".jpg\"\n",
    "    # extract frame \n",
    "    extract_frame(video_path, image_path)\n",
    "    # add column with val to current row\n",
    "    raw_samples_df.at[row[0], 'frame_path'] = image_path\n",
    "    raw_samples_df.at[row[0], 'frame_id'] = image_name\n",
    "    \n",
    "# Now this should contain new columns with the frame_path and frame_id\n",
    "raw_samples_df"
   ]
  },
  {
   "cell_type": "code",
   "execution_count": 16,
   "id": "6820e1c4",
   "metadata": {},
   "outputs": [],
   "source": [
    "# We write the transformed samples data to a CSV file so it can be loaded into the load pipeline\n",
    "raw_samples_df[['video_id', 'frame_path', 'frame_id', 'sentence']].to_csv(MSRVTT_SAMPLES_WITH_FRAMES, index=False)"
   ]
  },
  {
   "cell_type": "code",
   "execution_count": 17,
   "id": "b7381872",
   "metadata": {},
   "outputs": [
    {
     "data": {
      "text/plain": [
       "<Collection>:\n",
       "-------------\n",
       "<name>: msrvtt_frame_ret_1\n",
       "<description>: video retrieval\n",
       "<schema>: {'auto_id': False, 'description': 'video retrieval', 'fields': [{'name': 'id', 'description': '', 'type': <DataType.INT64: 5>, 'is_primary': True, 'auto_id': False}, {'name': 'embedding', 'description': '', 'type': <DataType.FLOAT_VECTOR: 101>, 'params': {'dim': 512}}]}"
      ]
     },
     "execution_count": 17,
     "metadata": {},
     "output_type": "execute_result"
    }
   ],
   "source": [
    "# Create the collection in Milvus to store image embeddings\n",
    "milvus_utils.create_milvus_collection(FRAME_RET_COLLECTION, 512)"
   ]
  },
  {
   "cell_type": "code",
   "execution_count": 20,
   "id": "84a9beba",
   "metadata": {},
   "outputs": [
    {
     "name": "stderr",
     "output_type": "stream",
     "text": [
      "2025-04-16 17:13:56,876 - 8454604864 - clip.py-clip:100 - WARNING: Gpu not available, use cpu\n",
      "2025-04-16 17:13:57,032 - 8454604864 - connectionpool.py-connectionpool:544 - DEBUG: https://huggingface.co:443 \"HEAD /openai/clip-vit-base-patch16/resolve/main/config.json HTTP/1.1\" 200 0\n",
      "2025-04-16 17:13:57,081 - 8454604864 - connectionpool.py-connectionpool:544 - DEBUG: https://huggingface.co:443 \"HEAD /openai/clip-vit-base-patch16/resolve/main/config.json HTTP/1.1\" 200 0\n",
      "2025-04-16 17:13:57,137 - 8454604864 - connectionpool.py-connectionpool:544 - DEBUG: https://huggingface.co:443 \"HEAD /openai/clip-vit-base-patch16/resolve/main/model.safetensors HTTP/1.1\" 404 0\n",
      "2025-04-16 17:13:57,140 - 14545874944 - connectionpool.py-connectionpool:1049 - DEBUG: Starting new HTTPS connection (1): huggingface.co:443\n",
      "2025-04-16 17:13:57,266 - 8454604864 - connectionpool.py-connectionpool:544 - DEBUG: https://huggingface.co:443 \"HEAD /openai/clip-vit-base-patch16/resolve/main/tokenizer_config.json HTTP/1.1\" 200 0\n",
      "2025-04-16 17:13:57,323 - 14545874944 - connectionpool.py-connectionpool:544 - DEBUG: https://huggingface.co:443 \"GET /api/models/openai/clip-vit-base-patch16 HTTP/1.1\" 200 3499\n",
      "2025-04-16 17:13:57,376 - 8454604864 - connectionpool.py-connectionpool:544 - DEBUG: https://huggingface.co:443 \"HEAD /openai/clip-vit-base-patch16/resolve/main/preprocessor_config.json HTTP/1.1\" 200 0\n",
      "2025-04-16 17:13:57,414 - 14545874944 - connectionpool.py-connectionpool:544 - DEBUG: https://huggingface.co:443 \"GET /api/models/openai/clip-vit-base-patch16/commits/main HTTP/1.1\" 200 3099\n",
      "2025-04-16 17:13:57,430 - 8454604864 - connectionpool.py-connectionpool:544 - DEBUG: https://huggingface.co:443 \"HEAD /openai/clip-vit-base-patch16/resolve/main/tokenizer_config.json HTTP/1.1\" 200 0\n",
      "2025-04-16 17:13:57,550 - 14545874944 - connectionpool.py-connectionpool:544 - DEBUG: https://huggingface.co:443 \"GET /api/models/openai/clip-vit-base-patch16/discussions?p=0 HTTP/1.1\" 200 6380\n",
      "2025-04-16 17:13:57,558 - 8454604864 - connectionpool.py-connectionpool:544 - DEBUG: https://huggingface.co:443 \"HEAD /openai/clip-vit-base-patch16/resolve/main/processor_config.json HTTP/1.1\" 404 0\n",
      "2025-04-16 17:13:57,612 - 8454604864 - connectionpool.py-connectionpool:544 - DEBUG: https://huggingface.co:443 \"HEAD /openai/clip-vit-base-patch16/resolve/main/chat_template.json HTTP/1.1\" 404 0\n",
      "2025-04-16 17:13:57,621 - 14545874944 - connectionpool.py-connectionpool:544 - DEBUG: https://huggingface.co:443 \"GET /api/models/openai/clip-vit-base-patch16/commits/refs%2Fpr%2F10 HTTP/1.1\" 200 4064\n",
      "2025-04-16 17:13:57,669 - 14545874944 - connectionpool.py-connectionpool:544 - DEBUG: https://huggingface.co:443 \"HEAD /openai/clip-vit-base-patch16/resolve/refs%2Fpr%2F10/model.safetensors.index.json HTTP/1.1\" 404 0\n",
      "2025-04-16 17:13:57,673 - 8454604864 - connectionpool.py-connectionpool:544 - DEBUG: https://huggingface.co:443 \"HEAD /openai/clip-vit-base-patch16/resolve/main/chat_template.jinja HTTP/1.1\" 404 0\n",
      "2025-04-16 17:13:57,772 - 14545874944 - connectionpool.py-connectionpool:544 - DEBUG: https://huggingface.co:443 \"HEAD /openai/clip-vit-base-patch16/resolve/refs%2Fpr%2F10/model.safetensors HTTP/1.1\" 302 0\n"
     ]
    }
   ],
   "source": [
    "def read_frame_loader_csv(csv_path, encoding='utf-8-sig'):\n",
    "    with open(csv_path, 'r', encoding=encoding) as f:\n",
    "        data = csv.DictReader(f)\n",
    "        for line in data:\n",
    "            raw_id = line['frame_id']\n",
    "            cleaned_id = raw_id[len('video'):]\n",
    "            yield int(cleaned_id), line['frame_path']\n",
    "\n",
    "frame_loader_pipeline = (\n",
    "    pipe.input('csv_file')\n",
    "    .flat_map('csv_file', ('frame_id', 'frame_path'), read_frame_loader_csv)\n",
    "    .map('frame_path', 'img', ops.image_decode.cv2('rgb'))\n",
    "    .map('img', 'vec', ops.image_text_embedding.clip(model_name='clip_vit_base_patch16', modality='image', device='mps'))\n",
    "    .map('vec', 'vec', lambda x: x / np.linalg.norm(x))\n",
    "    .map(('frame_id', 'vec'), (), ops.ann_insert.milvus_client(collection_name=FRAME_RET_COLLECTION))\n",
    "    .output()\n",
    ")"
   ]
  },
  {
   "cell_type": "code",
   "execution_count": null,
   "id": "d352597e",
   "metadata": {},
   "outputs": [
    {
     "name": "stderr",
     "output_type": "stream",
     "text": [
      "2025-04-16 17:14:32,098 - 14545874944 - node.py-node:167 - INFO: Begin to run Node-_input\n",
      "2025-04-16 17:14:32,098 - 14576283648 - node.py-node:167 - INFO: Begin to run Node-read_frame_loader_csv-0\n",
      "2025-04-16 17:14:32,098 - 14593110016 - node.py-node:167 - INFO: Begin to run Node-image-decode/cv2-1\n",
      "2025-04-16 17:14:32,099 - 14609936384 - node.py-node:167 - INFO: Begin to run Node-image-text-embedding/clip-2\n",
      "2025-04-16 17:14:32,099 - 14626762752 - node.py-node:167 - INFO: Begin to run Node-lambda-3\n",
      "2025-04-16 17:14:32,100 - 14545874944 - node.py-node:167 - INFO: Begin to run Node-ann-insert/milvus-client-4\n",
      "2025-04-16 17:14:32,100 - 14643589120 - node.py-node:167 - INFO: Begin to run Node-_output\n"
     ]
    },
    {
     "data": {
      "text/plain": [
       "<towhee.runtime.data_queue.DataQueue at 0x360f3ea10>"
      ]
     },
     "execution_count": 21,
     "metadata": {},
     "output_type": "execute_result"
    },
    {
     "name": "stderr",
     "output_type": "stream",
     "text": [
      "2025-04-16 17:25:48,058 - 14576283648 - node.py-node:167 - INFO: Begin to run Node-_input\n",
      "2025-04-16 17:25:48,058 - 14593110016 - node.py-node:167 - INFO: Begin to run Node-image-decode/cv2-1\n",
      "2025-04-16 17:25:48,058 - 14609936384 - node.py-node:167 - INFO: Begin to run Node-image-text-embedding/clip-2\n",
      "2025-04-16 17:25:48,059 - 14626762752 - node.py-node:167 - INFO: Begin to run Node-lambda-3\n",
      "2025-04-16 17:25:48,059 - 14545874944 - node.py-node:167 - INFO: Begin to run Node-ann-insert/milvus-client-4\n",
      "2025-04-16 17:25:48,059 - 14643589120 - node.py-node:167 - INFO: Begin to run Node-_output\n",
      "2025-04-16 17:27:26,008 - 14576283648 - node.py-node:167 - INFO: Begin to run Node-_input\n",
      "2025-04-16 17:27:26,008 - 14593110016 - node.py-node:167 - INFO: Begin to run Node-image-decode/cv2-1\n",
      "2025-04-16 17:27:26,009 - 14609936384 - node.py-node:167 - INFO: Begin to run Node-image-text-embedding/clip-2\n",
      "2025-04-16 17:27:26,009 - 14626762752 - node.py-node:167 - INFO: Begin to run Node-lambda-3\n",
      "2025-04-16 17:27:26,009 - 14545874944 - node.py-node:167 - INFO: Begin to run Node-ann-insert/milvus-client-4\n",
      "2025-04-16 17:27:26,009 - 14643589120 - node.py-node:167 - INFO: Begin to run Node-_output\n",
      "2025-04-16 17:29:08,543 - 14576283648 - node.py-node:167 - INFO: Begin to run Node-_input\n",
      "2025-04-16 17:29:08,543 - 14593110016 - node.py-node:167 - INFO: Begin to run Node-image-decode/cv2-1\n",
      "2025-04-16 17:29:08,544 - 14609936384 - node.py-node:167 - INFO: Begin to run Node-image-text-embedding/clip-2\n",
      "2025-04-16 17:29:08,544 - 14626762752 - node.py-node:167 - INFO: Begin to run Node-lambda-3\n",
      "2025-04-16 17:29:08,544 - 14545874944 - node.py-node:167 - INFO: Begin to run Node-ann-insert/milvus-client-4\n",
      "2025-04-16 17:29:08,544 - 14643589120 - node.py-node:167 - INFO: Begin to run Node-_output\n",
      "2025-04-16 17:30:47,544 - 15110057984 - node.py-node:167 - INFO: Begin to run Node-_input\n",
      "2025-04-16 17:30:47,546 - 15110057984 - node.py-node:167 - INFO: Begin to run Node-_output\n",
      "2025-04-16 17:42:04,876 - 15110057984 - node.py-node:167 - INFO: Begin to run Node-_output\n",
      "2025-04-16 17:43:32,337 - 15110057984 - node.py-node:167 - INFO: Begin to run Node-_input\n"
     ]
    }
   ],
   "source": [
    "frame_loader_pipeline(MSRVTT_SAMPLES_WITH_FRAMES)"
   ]
  },
  {
   "cell_type": "code",
   "execution_count": null,
   "id": "641f13e0",
   "metadata": {},
   "outputs": [
    {
     "name": "stderr",
     "output_type": "stream",
     "text": [
      "2025-04-16 17:29:05,973 - 8454604864 - clip.py-clip:100 - WARNING: Gpu not available, use cpu\n",
      "2025-04-16 17:29:06,010 - 8454604864 - connectionpool.py-connectionpool:544 - DEBUG: https://huggingface.co:443 \"HEAD /openai/clip-vit-base-patch16/resolve/main/config.json HTTP/1.1\" 200 0\n",
      "2025-04-16 17:29:06,391 - 8454604864 - connectionpool.py-connectionpool:544 - DEBUG: https://huggingface.co:443 \"HEAD /openai/clip-vit-base-patch16/resolve/main/config.json HTTP/1.1\" 200 0\n",
      "2025-04-16 17:29:06,424 - 8454604864 - connectionpool.py-connectionpool:544 - DEBUG: https://huggingface.co:443 \"HEAD /openai/clip-vit-base-patch16/resolve/main/model.safetensors HTTP/1.1\" 404 0\n",
      "2025-04-16 17:29:06,426 - 15110057984 - connectionpool.py-connectionpool:1049 - DEBUG: Starting new HTTPS connection (1): huggingface.co:443\n",
      "2025-04-16 17:29:06,512 - 15110057984 - connectionpool.py-connectionpool:544 - DEBUG: https://huggingface.co:443 \"GET /api/models/openai/clip-vit-base-patch16 HTTP/1.1\" 200 3499\n",
      "2025-04-16 17:29:06,522 - 8454604864 - connectionpool.py-connectionpool:544 - DEBUG: https://huggingface.co:443 \"HEAD /openai/clip-vit-base-patch16/resolve/main/tokenizer_config.json HTTP/1.1\" 200 0\n",
      "2025-04-16 17:29:06,603 - 8454604864 - connectionpool.py-connectionpool:544 - DEBUG: https://huggingface.co:443 \"HEAD /openai/clip-vit-base-patch16/resolve/main/preprocessor_config.json HTTP/1.1\" 200 0\n",
      "2025-04-16 17:29:06,605 - 15110057984 - connectionpool.py-connectionpool:544 - DEBUG: https://huggingface.co:443 \"GET /api/models/openai/clip-vit-base-patch16/commits/main HTTP/1.1\" 200 3099\n",
      "2025-04-16 17:29:06,635 - 8454604864 - connectionpool.py-connectionpool:544 - DEBUG: https://huggingface.co:443 \"HEAD /openai/clip-vit-base-patch16/resolve/main/tokenizer_config.json HTTP/1.1\" 200 0\n",
      "2025-04-16 17:29:06,707 - 15110057984 - connectionpool.py-connectionpool:544 - DEBUG: https://huggingface.co:443 \"GET /api/models/openai/clip-vit-base-patch16/discussions?p=0 HTTP/1.1\" 200 6380\n",
      "2025-04-16 17:29:06,761 - 15110057984 - connectionpool.py-connectionpool:544 - DEBUG: https://huggingface.co:443 \"GET /api/models/openai/clip-vit-base-patch16/commits/refs%2Fpr%2F10 HTTP/1.1\" 200 4064\n",
      "2025-04-16 17:29:06,762 - 8454604864 - connectionpool.py-connectionpool:544 - DEBUG: https://huggingface.co:443 \"HEAD /openai/clip-vit-base-patch16/resolve/main/processor_config.json HTTP/1.1\" 404 0\n",
      "2025-04-16 17:29:06,807 - 8454604864 - connectionpool.py-connectionpool:544 - DEBUG: https://huggingface.co:443 \"HEAD /openai/clip-vit-base-patch16/resolve/main/chat_template.json HTTP/1.1\" 404 0\n",
      "2025-04-16 17:29:06,836 - 8454604864 - connectionpool.py-connectionpool:544 - DEBUG: https://huggingface.co:443 \"HEAD /openai/clip-vit-base-patch16/resolve/main/chat_template.jinja HTTP/1.1\" 404 0\n"
     ]
    },
    {
     "name": "stderr",
     "output_type": "stream",
     "text": [
      "2025-04-16 17:29:07,006 - 15110057984 - connectionpool.py-connectionpool:544 - DEBUG: https://huggingface.co:443 \"HEAD /openai/clip-vit-base-patch16/resolve/refs%2Fpr%2F10/model.safetensors.index.json HTTP/1.1\" 404 0\n",
      "2025-04-16 17:29:07,055 - 15110057984 - connectionpool.py-connectionpool:544 - DEBUG: https://huggingface.co:443 \"HEAD /openai/clip-vit-base-patch16/resolve/refs%2Fpr%2F10/model.safetensors HTTP/1.1\" 302 0\n"
     ]
    }
   ],
   "source": [
    "def read_frame_search_csv(csv_file):\n",
    "    with open(csv_file, 'r', encoding='utf-8-sig') as f:\n",
    "        data = csv.DictReader(f)\n",
    "        for line in data:\n",
    "            yield line['frame_id'], line['sentence']\n",
    "            \n",
    "frame_search_pipeline = (\n",
    "    pipe.input('csv_file')\n",
    "    .flat_map('csv_file', ('rel_frame_id', 'query'), read_frame_search_csv)\n",
    "    .map('query', 'vec', ops.image_text_embedding.clip(model_name='clip_vit_base_patch16', modality='text', device='mps'))\n",
    "    .map('vec', 'vec', lambda x: x / np.linalg.norm(x))\n",
    "    .map('vec', 'top10_raw_res', ops.ann_search.milvus_client(collection_name=FRAME_RET_COLLECTION, limit=10))\n",
    "    # .map('vec', 'top10_raw_res', \n",
    "    #      ops.ann_search.milvus_client(collection_name=VIDEO_RET_COLLECTION, limit=10))\n",
    "    .map('top10_raw_res', ('top1', 'top5', 'top10'), lambda x: (x[:1], x[:5], x[:10]))\n",
    "    .output('rel_frame_id', 'query', 'top1', 'top5', 'top10')\n",
    "    # .output('vec')\n",
    ")"
   ]
  },
  {
   "cell_type": "code",
   "execution_count": 36,
   "id": "df641753",
   "metadata": {},
   "outputs": [
    {
     "name": "stderr",
     "output_type": "stream",
     "text": [
      "2025-04-16 17:30:47,544 - 15126884352 - node.py-node:167 - INFO: Begin to run Node-read_frame_search_csv-0\n",
      "2025-04-16 17:30:47,545 - 15143710720 - node.py-node:167 - INFO: Begin to run Node-image-text-embedding/clip-1\n",
      "2025-04-16 17:30:47,545 - 15160537088 - node.py-node:167 - INFO: Begin to run Node-lambda-2\n",
      "2025-04-16 17:30:47,545 - 15177363456 - node.py-node:167 - INFO: Begin to run Node-ann-search/milvus-client-3\n",
      "2025-04-16 17:30:47,546 - 15194189824 - node.py-node:167 - INFO: Begin to run Node-lambda-4\n"
     ]
    },
    {
     "name": "stderr",
     "output_type": "stream",
     "text": [
      "2025-04-16 17:42:04,875 - 15126884352 - node.py-node:167 - INFO: Begin to run Node-read_frame_search_csv-0\n",
      "2025-04-16 17:42:04,875 - 15143710720 - node.py-node:167 - INFO: Begin to run Node-image-text-embedding/clip-1\n",
      "2025-04-16 17:42:04,876 - 15160537088 - node.py-node:167 - INFO: Begin to run Node-lambda-2\n",
      "2025-04-16 17:42:04,876 - 15177363456 - node.py-node:167 - INFO: Begin to run Node-ann-search/milvus-client-3\n",
      "2025-04-16 17:42:04,876 - 15194189824 - node.py-node:167 - INFO: Begin to run Node-lambda-4\n",
      "2025-04-16 17:42:04,880 - 15126884352 - node.py-node:142 - INFO: read_frame_search_csv-0 ends with status: NodeStatus.FAILED\n",
      "2025-04-16 17:43:27,083 - 15126884352 - node.py-node:167 - INFO: Begin to run Node-read_frame_search_csv-0\n",
      "2025-04-16 17:43:27,084 - 15143710720 - node.py-node:167 - INFO: Begin to run Node-image-text-embedding/clip-1\n",
      "2025-04-16 17:43:27,084 - 15160537088 - node.py-node:167 - INFO: Begin to run Node-lambda-2\n",
      "2025-04-16 17:43:27,084 - 15177363456 - node.py-node:167 - INFO: Begin to run Node-ann-search/milvus-client-3\n",
      "2025-04-16 17:43:27,084 - 15194189824 - node.py-node:167 - INFO: Begin to run Node-lambda-4\n",
      "2025-04-16 17:43:27,087 - 15126884352 - node.py-node:142 - INFO: read_frame_search_csv-0 ends with status: NodeStatus.FAILED\n",
      "2025-04-16 17:43:32,338 - 15126884352 - node.py-node:167 - INFO: Begin to run Node-read_frame_search_csv-0\n",
      "2025-04-16 17:43:32,338 - 15143710720 - node.py-node:167 - INFO: Begin to run Node-image-text-embedding/clip-1\n",
      "2025-04-16 17:43:32,338 - 15160537088 - node.py-node:167 - INFO: Begin to run Node-lambda-2\n",
      "2025-04-16 17:43:32,338 - 15177363456 - node.py-node:167 - INFO: Begin to run Node-ann-search/milvus-client-3\n",
      "2025-04-16 17:43:32,338 - 15194189824 - node.py-node:167 - INFO: Begin to run Node-lambda-4\n",
      "2025-04-16 17:43:32,340 - 15126884352 - node.py-node:142 - INFO: read_frame_search_csv-0 ends with status: NodeStatus.FAILED\n"
     ]
    }
   ],
   "source": [
    "ret_dc = DataCollection(frame_search_pipeline(MSRVTT_SAMPLES_WITH_FRAMES))"
   ]
  },
  {
   "cell_type": "code",
   "execution_count": 37,
   "id": "dab70054",
   "metadata": {},
   "outputs": [
    {
     "data": {
      "text/html": [
       "<table style=\"border-collapse: collapse;\"><tr><th style=\"text-align: center; font-size: 130%; border: none;\">rel_frame_id</th> <th style=\"text-align: center; font-size: 130%; border: none;\">query</th> <th style=\"text-align: center; font-size: 130%; border: none;\">top1</th> <th style=\"text-align: center; font-size: 130%; border: none;\">top5</th> <th style=\"text-align: center; font-size: 130%; border: none;\">top10</th></tr>\n",
       "<tr><td style=\"text-align: center; vertical-align: top; border-right: solid 1px #D3D3D3; border-left: solid 1px #D3D3D3; \">video7579</td><td style=\"text-align: center; vertical-align: top; border-right: solid 1px #D3D3D3; border-left: solid 1px #D3D3D3; \">a girl wearing red top and black trouser is putting a sweater on a dog</td><td style=\"text-align: left; vertical-align: top; border-right: solid 1px #D3D3D3; border-left: solid 1px #D3D3D3; \">[[7579, 1.4025176763534546]] len=1</td><td style=\"text-align: left; vertical-align: top; border-right: solid 1px #D3D3D3; border-left: solid 1px #D3D3D3; \">[[7579, 1.4025176763534546],[7113, 1.4259119033813477],[8044, 1.4578959941864014]] len=3</td><td style=\"text-align: left; vertical-align: top; border-right: solid 1px #D3D3D3; border-left: solid 1px #D3D3D3; \">[[7579, 1.4025176763534546],[7113, 1.4259119033813477],[8044, 1.4578959941864014]] len=3</td></tr>\n",
       "<tr><td style=\"text-align: center; vertical-align: top; border-right: solid 1px #D3D3D3; border-left: solid 1px #D3D3D3; \">video7725</td><td style=\"text-align: center; vertical-align: top; border-right: solid 1px #D3D3D3; border-left: solid 1px #D3D3D3; \">young people sit around the edges of a room clapping and raising their arms while others dance in the center during a party</td><td style=\"text-align: left; vertical-align: top; border-right: solid 1px #D3D3D3; border-left: solid 1px #D3D3D3; \">[[8441, 1.3825130462646484]] len=1</td><td style=\"text-align: left; vertical-align: top; border-right: solid 1px #D3D3D3; border-left: solid 1px #D3D3D3; \">[[8441, 1.3825130462646484],[7725, 1.4156618118286133],[9908, 1.4577584266662598]] len=3</td><td style=\"text-align: left; vertical-align: top; border-right: solid 1px #D3D3D3; border-left: solid 1px #D3D3D3; \">[[8441, 1.3825130462646484],[7725, 1.4156618118286133],[9908, 1.4577584266662598]] len=3</td></tr>\n",
       "<tr><td style=\"text-align: center; vertical-align: top; border-right: solid 1px #D3D3D3; border-left: solid 1px #D3D3D3; \">video9258</td><td style=\"text-align: center; vertical-align: top; border-right: solid 1px #D3D3D3; border-left: solid 1px #D3D3D3; \">a person is using a phone</td><td style=\"text-align: left; vertical-align: top; border-right: solid 1px #D3D3D3; border-left: solid 1px #D3D3D3; \">[[7728, 1.4489479064941406]] len=1</td><td style=\"text-align: left; vertical-align: top; border-right: solid 1px #D3D3D3; border-left: solid 1px #D3D3D3; \">[[7728, 1.4489479064941406],[7029, 1.4623463153839111],[9258, 1.4660117626190186]] len=3</td><td style=\"text-align: left; vertical-align: top; border-right: solid 1px #D3D3D3; border-left: solid 1px #D3D3D3; \">[[7728, 1.4489479064941406],[7029, 1.4623463153839111],[9258, 1.4660117626190186]] len=3</td></tr>\n",
       "<tr><td style=\"text-align: center; vertical-align: top; border-right: solid 1px #D3D3D3; border-left: solid 1px #D3D3D3; \">video7365</td><td style=\"text-align: center; vertical-align: top; border-right: solid 1px #D3D3D3; border-left: solid 1px #D3D3D3; \">cartoon people are eating at a restaurant</td><td style=\"text-align: left; vertical-align: top; border-right: solid 1px #D3D3D3; border-left: solid 1px #D3D3D3; \">[[8911, 1.4093154668807983]] len=1</td><td style=\"text-align: left; vertical-align: top; border-right: solid 1px #D3D3D3; border-left: solid 1px #D3D3D3; \">[[8911, 1.4093154668807983],[9777, 1.4120123386383057],[7365, 1.4395549297332764]] len=3</td><td style=\"text-align: left; vertical-align: top; border-right: solid 1px #D3D3D3; border-left: solid 1px #D3D3D3; \">[[8911, 1.4093154668807983],[9777, 1.4120123386383057],[7365, 1.4395549297332764]] len=3</td></tr>\n",
       "<tr><td style=\"text-align: center; vertical-align: top; border-right: solid 1px #D3D3D3; border-left: solid 1px #D3D3D3; \">video8068</td><td style=\"text-align: center; vertical-align: top; border-right: solid 1px #D3D3D3; border-left: solid 1px #D3D3D3; \">a woman on a couch talks to a a man</td><td style=\"text-align: left; vertical-align: top; border-right: solid 1px #D3D3D3; border-left: solid 1px #D3D3D3; \">[[9793, 1.3899463415145874]] len=1</td><td style=\"text-align: left; vertical-align: top; border-right: solid 1px #D3D3D3; border-left: solid 1px #D3D3D3; \">[[9793, 1.3899463415145874],[7724, 1.4295322895050049],[7549, 1.4335342645645142]] len=3</td><td style=\"text-align: left; vertical-align: top; border-right: solid 1px #D3D3D3; border-left: solid 1px #D3D3D3; \">[[9793, 1.3899463415145874],[7724, 1.4295322895050049],[7549, 1.4335342645645142]] len=3</td></tr></table>"
      ],
      "text/plain": [
       "<IPython.core.display.HTML object>"
      ]
     },
     "metadata": {},
     "output_type": "display_data"
    }
   ],
   "source": [
    "ret_dc.show()"
   ]
  },
  {
   "cell_type": "code",
   "execution_count": 46,
   "id": "9b7c4181",
   "metadata": {},
   "outputs": [],
   "source": [
    "# TODO remove this, import from helpers and rerun the whole notebook\n",
    "\n",
    "def twohee_data_col_to_df(twohee_data_collection):\n",
    "    res_list = twohee_data_collection.to_list()\n",
    "    res_obj_list = []\n",
    "    for r in res_list:\n",
    "        res_obj = vars(r)\n",
    "        res_obj_list.append(res_obj)\n",
    "    res_df = pd.DataFrame(res_obj_list)\n",
    "    \n",
    "    # Add ground truth column\n",
    "    if 'rel_video_id' in res_df.columns:\n",
    "        res_df['ground_truth'] = res_df['rel_video_id'].apply(\n",
    "            lambda x: int(x[len('video'):]))\n",
    "    if 'rel_frame_id' in res_df.columns:\n",
    "        res_df['ground_truth'] = res_df['rel_frame_id'].apply(\n",
    "            lambda x: int(x[len('video'):]))\n",
    "    else:\n",
    "        raise ValueError(\"No rel_video_id or rel_frame_id found in the DataCollection\")\n",
    "    return res_df.copy()\n",
    "\n",
    "\n",
    "def average_precision(ground_truth, predictions):\n",
    "    \"\"\"\n",
    "    Calculate the Average Precision (AP) for a single query.\n",
    "\n",
    "    Args:\n",
    "        ground_truth (int): The ground truth video ID.\n",
    "        predictions (list): List of predicted video IDs.\n",
    "\n",
    "    Returns:\n",
    "        float: The Average Precision (AP) score for the query.\n",
    "    \"\"\"\n",
    "    hits = 0\n",
    "    sum_precision = 0\n",
    "    for i, pred in enumerate(predictions):\n",
    "        if pred == ground_truth:\n",
    "            hits += 1\n",
    "            sum_precision += hits / (i + 1)\n",
    "    return sum_precision / hits if hits > 0 else 0\n",
    "\n",
    "\n",
    "def calculate_mean_average_precision(df):\n",
    "    \"\"\"\n",
    "    Calculate the Mean Average Precision (MAP) for the given dataframe.\n",
    "\n",
    "    Args:\n",
    "        df (pd.DataFrame): DataFrame containing columns 'query', 'ground_truth', 'top1', 'top5', 'top10'.\n",
    "\n",
    "    Returns:\n",
    "        float: The Mean Average Precision (MAP) score.\n",
    "    \"\"\"\n",
    "    # Calculate AP for each query\n",
    "    ap_scores = []\n",
    "    for _, row in df.iterrows():\n",
    "        ground_truth = row['ground_truth']\n",
    "        predictions_with_scores = row['top10']\n",
    "        predictions = [pred[0] for pred in predictions_with_scores]\n",
    "        ap_scores.append(average_precision(ground_truth, predictions))\n",
    "\n",
    "    # Calculate MAP\n",
    "    mean_ap = sum(ap_scores) / len(ap_scores) if ap_scores else 0\n",
    "    return mean_ap\n",
    "\n",
    "\n",
    "def calculate_recall(df):\n",
    "    \"\"\"\n",
    "    Calculate recall@1, recall@5, and recall@10 for the given dataframe.\n",
    "\n",
    "    Args:\n",
    "        df (pd.DataFrame): DataFrame containing columns 'query', 'ground_truth', 'top1', 'top5', 'top10'.\n",
    "\n",
    "    Returns:\n",
    "        dict: A dictionary containing recall@1, recall@5, and recall@10.\n",
    "    \"\"\"\n",
    "    recall_at_1 = 0\n",
    "    recall_at_5 = 0\n",
    "    recall_at_10 = 0\n",
    "    total_queries = len(df)\n",
    "\n",
    "    for _, row in df.iterrows():\n",
    "        ground_truth = row['ground_truth']\n",
    "        if ground_truth in [pred[0] for pred in row['top1']]:\n",
    "            recall_at_1 += 1\n",
    "        if ground_truth in [pred[0] for pred in row['top5']]:\n",
    "            recall_at_5 += 1\n",
    "        if ground_truth in [pred[0] for pred in row['top10']]:\n",
    "            recall_at_10 += 1\n",
    "\n",
    "    return {\n",
    "        'recall@1': recall_at_1 / total_queries,\n",
    "        'recall@5': recall_at_5 / total_queries,\n",
    "        'recall@10': recall_at_10 / total_queries\n",
    "    }\n",
    "\n",
    "\n",
    "def ndcg_score(ground_truth, predictions, k=10):\n",
    "    \"\"\"\n",
    "    Calculate the Normalized Discounted Cumulative Gain (NDCG) for a single query.\n",
    "\n",
    "    Args:\n",
    "        ground_truth (int): The ground truth video ID.\n",
    "        predictions (list): List of predicted video IDs with scores [(id, score), ...].\n",
    "        k (int): The number of top predictions to consider.\n",
    "\n",
    "    Returns:\n",
    "        float: The NDCG score for the query.\n",
    "    \"\"\"\n",
    "    def dcg(relevance_scores):\n",
    "        return sum(rel / np.log2(idx + 2) for idx, rel in enumerate(relevance_scores))\n",
    "\n",
    "    # Relevance scores: 1 if the prediction matches the ground truth, else 0\n",
    "    relevance_scores = [1 if pred[0] ==\n",
    "                        ground_truth else 0 for pred in predictions[:k]]\n",
    "\n",
    "    # Calculate DCG and IDCG\n",
    "    actual_dcg = dcg(relevance_scores)\n",
    "    ideal_dcg = dcg(sorted(relevance_scores, reverse=True))\n",
    "\n",
    "    # Return NDCG\n",
    "    return actual_dcg / ideal_dcg if ideal_dcg > 0 else 0\n",
    "\n",
    "# call this function to get the NDCG score for each query\n",
    "\n",
    "\n",
    "def calculate_ndcg(df, k=10):\n",
    "    \"\"\"\n",
    "    Calculate NDCG for the given dataframe.\n",
    "\n",
    "    Args:\n",
    "        df (pd.DataFrame): DataFrame containing columns 'query', 'ground_truth', 'top1', 'top5', 'top10'.\n",
    "        k (int): The number of top predictions to consider.\n",
    "\n",
    "    Returns:\n",
    "        float: The mean NDCG score.\n",
    "    \"\"\"\n",
    "    ndcg_scores = []\n",
    "    for _, row in df.iterrows():\n",
    "        ground_truth = row['ground_truth']\n",
    "        predictions_with_scores = row['top10']\n",
    "        ndcg_scores.append(ndcg_score(\n",
    "            ground_truth, predictions_with_scores, k))\n",
    "\n",
    "    return sum(ndcg_scores) / len(ndcg_scores) if ndcg_scores else 0\n",
    "\n",
    "\n",
    "def get_all_eval_scores(df):\n",
    "    \"\"\"Return a dataframe with all evaluation scores: Recall@1, Recall@5, Recall@10, MAP, NDCG@1, NDCG@5, NDCG@10\"\"\"\n",
    "    recall_scores = calculate_recall(df)\n",
    "    map_score = calculate_mean_average_precision(df)\n",
    "    ndcg_score_1 = calculate_ndcg(df, k=1)\n",
    "    ndcg_score_5 = calculate_ndcg(df, k=5)\n",
    "    ndcg_score_10 = calculate_ndcg(df, k=10)\n",
    "\n",
    "    eval_scores = {\n",
    "        'recall@1': recall_scores['recall@1'],\n",
    "        'recall@5': recall_scores['recall@5'],\n",
    "        'recall@10': recall_scores['recall@10'],\n",
    "        'map': map_score,\n",
    "        'ndcg@1': ndcg_score_1,\n",
    "        'ndcg@5': ndcg_score_5,\n",
    "        'ndcg@10': ndcg_score_10\n",
    "    }\n",
    "\n",
    "    return eval_scores\n"
   ]
  },
  {
   "cell_type": "code",
   "execution_count": 56,
   "id": "2b8a22f3",
   "metadata": {},
   "outputs": [
    {
     "data": {
      "application/vnd.microsoft.datawrangler.viewer.v0+json": {
       "columns": [
        {
         "name": "index",
         "rawType": "int64",
         "type": "integer"
        },
        {
         "name": "rel_frame_id",
         "rawType": "object",
         "type": "string"
        },
        {
         "name": "query",
         "rawType": "object",
         "type": "string"
        },
        {
         "name": "top1",
         "rawType": "object",
         "type": "unknown"
        },
        {
         "name": "top5",
         "rawType": "object",
         "type": "unknown"
        },
        {
         "name": "top10",
         "rawType": "object",
         "type": "unknown"
        },
        {
         "name": "ground_truth",
         "rawType": "int64",
         "type": "integer"
        }
       ],
       "conversionMethod": "pd.DataFrame",
       "ref": "a6d02174-4b3f-40d5-ae66-f1674e28d7b9",
       "rows": [
        [
         "0",
         "video7579",
         "a girl wearing red top and black trouser is putting a sweater on a dog",
         "[[7579, 1.4025176763534546]]",
         "[[7579, 1.4025176763534546], [7113, 1.4259119033813477], [8044, 1.4578959941864014]]",
         "[[7579, 1.4025176763534546], [7113, 1.4259119033813477], [8044, 1.4578959941864014]]",
         "7579"
        ],
        [
         "1",
         "video7725",
         "young people sit around the edges of a room clapping and raising their arms while others dance in the center during a party",
         "[[8441, 1.3825130462646484]]",
         "[[8441, 1.3825130462646484], [7725, 1.4156618118286133], [9908, 1.4577584266662598]]",
         "[[8441, 1.3825130462646484], [7725, 1.4156618118286133], [9908, 1.4577584266662598]]",
         "7725"
        ],
        [
         "2",
         "video9258",
         "a person is using a phone",
         "[[7728, 1.4489479064941406]]",
         "[[7728, 1.4489479064941406], [7029, 1.4623463153839111], [9258, 1.4660117626190186]]",
         "[[7728, 1.4489479064941406], [7029, 1.4623463153839111], [9258, 1.4660117626190186]]",
         "9258"
        ],
        [
         "3",
         "video7365",
         "cartoon people are eating at a restaurant",
         "[[8911, 1.4093154668807983]]",
         "[[8911, 1.4093154668807983], [9777, 1.4120123386383057], [7365, 1.4395549297332764]]",
         "[[8911, 1.4093154668807983], [9777, 1.4120123386383057], [7365, 1.4395549297332764]]",
         "7365"
        ],
        [
         "4",
         "video8068",
         "a woman on a couch talks to a a man",
         "[[9793, 1.3899463415145874]]",
         "[[9793, 1.3899463415145874], [7724, 1.4295322895050049], [7549, 1.4335342645645142]]",
         "[[9793, 1.3899463415145874], [7724, 1.4295322895050049], [7549, 1.4335342645645142]]",
         "8068"
        ],
        [
         "5",
         "video7131",
         "athletes are getting ready and start running for an event",
         "[[8264, 1.4242560863494873]]",
         "[[8264, 1.4242560863494873], [7131, 1.471134901046753], [8316, 1.4831502437591553]]",
         "[[8264, 1.4242560863494873], [7131, 1.471134901046753], [8316, 1.4831502437591553]]",
         "7131"
        ],
        [
         "6",
         "video7213",
         "a woman is making lasagna",
         "[[7820, 1.406798243522644]]",
         "[[7820, 1.406798243522644], [8910, 1.4130762815475464], [8834, 1.4209957122802734]]",
         "[[7820, 1.406798243522644], [8910, 1.4130762815475464], [8834, 1.4209957122802734]]",
         "7213"
        ],
        [
         "7",
         "video7575",
         "a man speaking in a microphone",
         "[[7828, 1.382369875907898]]",
         "[[7828, 1.382369875907898], [9474, 1.3994078636169434], [8301, 1.414745807647705]]",
         "[[7828, 1.382369875907898], [9474, 1.3994078636169434], [8301, 1.414745807647705]]",
         "7575"
        ],
        [
         "8",
         "video7978",
         "a team with blue uniforms are playing badmitten with a team in white",
         "[[7723, 1.4895586967468262]]",
         "[[7723, 1.4895586967468262], [9647, 1.491666316986084], [8660, 1.4973118305206299]]",
         "[[7723, 1.4895586967468262], [9647, 1.491666316986084], [8660, 1.4973118305206299]]",
         "7978"
        ],
        [
         "9",
         "video8123",
         "a woman is giving demo for baby trolley",
         "[[8258, 1.3358778953552246]]",
         "[[8258, 1.3358778953552246], [7230, 1.3811085224151611], [9755, 1.4074652194976807]]",
         "[[8258, 1.3358778953552246], [7230, 1.3811085224151611], [9755, 1.4074652194976807]]",
         "8123"
        ],
        [
         "10",
         "video9800",
         "a car is in a wreck",
         "[[9622, 1.379326343536377]]",
         "[[9622, 1.379326343536377], [9535, 1.4400382041931152], [9806, 1.4401533603668213]]",
         "[[9622, 1.379326343536377], [9535, 1.4400382041931152], [9806, 1.4401533603668213]]",
         "9800"
        ],
        [
         "11",
         "video9205",
         "a woman interviewing about her part in a protest happening in brazil",
         "[[9028, 1.3891688585281372]]",
         "[[9028, 1.3891688585281372], [7341, 1.4463679790496826], [8311, 1.471369743347168]]",
         "[[9028, 1.3891688585281372], [7341, 1.4463679790496826], [8311, 1.471369743347168]]",
         "9205"
        ],
        [
         "12",
         "video7590",
         "an emotional scene of two persons where they are crying on meeting",
         "[[7163, 1.4136686325073242]]",
         "[[7163, 1.4136686325073242], [7546, 1.429030418395996], [7590, 1.4350473880767822]]",
         "[[7163, 1.4136686325073242], [7546, 1.429030418395996], [7590, 1.4350473880767822]]",
         "7590"
        ],
        [
         "13",
         "video9017",
         "the man is driving his motorbike fast and having problems on the race",
         "[[9806, 1.3791062831878662]]",
         "[[9806, 1.3791062831878662], [8657, 1.3989721536636353], [7464, 1.4107046127319336]]",
         "[[9806, 1.3791062831878662], [8657, 1.3989721536636353], [7464, 1.4107046127319336]]",
         "9017"
        ],
        [
         "14",
         "video9241",
         "japanese people laughing and dancing",
         "[[7725, 1.4418967962265015]]",
         "[[7725, 1.4418967962265015], [8899, 1.4540202617645264], [9639, 1.4546318054199219]]",
         "[[7725, 1.4418967962265015], [8899, 1.4540202617645264], [9639, 1.4546318054199219]]",
         "9241"
        ],
        [
         "15",
         "video7158",
         "fox news presidential debate recapping the gop debate with donald trump and ted cruz",
         "[[7158, 1.289113163948059]]",
         "[[7158, 1.289113163948059], [7731, 1.3799641132354736], [8464, 1.3848013877868652]]",
         "[[7158, 1.289113163948059], [7731, 1.3799641132354736], [8464, 1.3848013877868652]]",
         "7158"
        ],
        [
         "16",
         "video9233",
         "a man is giving a speech",
         "[[9233, 1.418190836906433]]",
         "[[9233, 1.418190836906433], [7828, 1.4192640781402588], [8445, 1.4291245937347412]]",
         "[[9233, 1.418190836906433], [7828, 1.4192640781402588], [8445, 1.4291245937347412]]",
         "9233"
        ],
        [
         "17",
         "video8687",
         "fast moving time is shown here",
         "[[7223, 1.4449453353881836]]",
         "[[7223, 1.4449453353881836], [7363, 1.4463812112808228], [7506, 1.4524726867675781]]",
         "[[7223, 1.4449453353881836], [7363, 1.4463812112808228], [7506, 1.4524726867675781]]",
         "8687"
        ],
        [
         "18",
         "video9337",
         "some people are inside of a room",
         "[[9324, 1.4286646842956543]]",
         "[[9324, 1.4286646842956543], [7114, 1.445873737335205], [9322, 1.4499292373657227]]",
         "[[9324, 1.4286646842956543], [7114, 1.445873737335205], [9322, 1.4499292373657227]]",
         "9337"
        ],
        [
         "19",
         "video9620",
         "outer space pictures that have parts of equipments in them with water droplets on it",
         "[[7732, 1.468106985092163]]",
         "[[7732, 1.468106985092163], [8013, 1.482405662536621], [9620, 1.4833906888961792]]",
         "[[7732, 1.468106985092163], [8013, 1.482405662536621], [9620, 1.4833906888961792]]",
         "9620"
        ],
        [
         "20",
         "video7411",
         "jolly good music troop delivering a program and the lady is in good spirit",
         "[[9357, 1.530024766921997]]",
         "[[9357, 1.530024766921997], [8919, 1.5305945873260498], [7772, 1.532540202140808]]",
         "[[9357, 1.530024766921997], [8919, 1.5305945873260498], [7772, 1.532540202140808]]",
         "7411"
        ],
        [
         "21",
         "video8514",
         "a person is putting the vegetable in to the water and boil it",
         "[[9625, 1.3654134273529053]]",
         "[[9625, 1.3654134273529053], [7911, 1.4151296615600586], [8514, 1.4237992763519287]]",
         "[[9625, 1.3654134273529053], [7911, 1.4151296615600586], [8514, 1.4237992763519287]]",
         "8514"
        ],
        [
         "22",
         "video8481",
         "a woman is reporting on keds commercials",
         "[[8481, 1.443284273147583]]",
         "[[8481, 1.443284273147583], [8488, 1.4586812257766724], [7231, 1.4587175846099854]]",
         "[[8481, 1.443284273147583], [8488, 1.4586812257766724], [7231, 1.4587175846099854]]",
         "8481"
        ],
        [
         "23",
         "video9224",
         "someone is playing a game",
         "[[7438, 1.481433629989624]]",
         "[[7438, 1.481433629989624], [7780, 1.4821219444274902], [9355, 1.4935369491577148]]",
         "[[7438, 1.481433629989624], [7780, 1.4821219444274902], [9355, 1.4935369491577148]]",
         "9224"
        ],
        [
         "24",
         "video8426",
         "cabins on a sandy beach have walkways going up to their porches",
         "[[8426, 1.3216873407363892]]",
         "[[8426, 1.3216873407363892], [9244, 1.4866459369659424], [8916, 1.4898003339767456]]",
         "[[8426, 1.3216873407363892], [9244, 1.4866459369659424], [8916, 1.4898003339767456]]",
         "8426"
        ],
        [
         "25",
         "video9699",
         "a man explains how to do a experiment",
         "[[9731, 1.3954854011535645]]",
         "[[9731, 1.3954854011535645], [9699, 1.4002974033355713], [9256, 1.4033753871917725]]",
         "[[9731, 1.3954854011535645], [9699, 1.4002974033355713], [9256, 1.4033753871917725]]",
         "9699"
        ],
        [
         "26",
         "video9882",
         "a news reader is reading the news and asking question to some people",
         "[[7790, 1.4129760265350342]]",
         "[[7790, 1.4129760265350342], [7469, 1.4194496870040894], [7967, 1.423698902130127]]",
         "[[7790, 1.4129760265350342], [7469, 1.4194496870040894], [7967, 1.423698902130127]]",
         "9882"
        ],
        [
         "27",
         "video8300",
         "a woman pours water into her pot of meat then tomato sauce and stirs it all around while talking",
         "[[8479, 1.3634488582611084]]",
         "[[8479, 1.3634488582611084], [9335, 1.3664096593856812], [7744, 1.374891996383667]]",
         "[[8479, 1.3634488582611084], [9335, 1.3664096593856812], [7744, 1.374891996383667]]",
         "8300"
        ],
        [
         "28",
         "video8863",
         "an animated girl talks to a baby and plays with it",
         "[[8676, 1.3868520259857178]]",
         "[[8676, 1.3868520259857178], [8863, 1.3933295011520386], [7561, 1.4093480110168457]]",
         "[[8676, 1.3868520259857178], [8863, 1.3933295011520386], [7561, 1.4093480110168457]]",
         "8863"
        ],
        [
         "29",
         "video7147",
         "a man cooks burgers and bacon on a grill",
         "[[9333, 1.340659260749817]]",
         "[[9333, 1.340659260749817], [7147, 1.3587028980255127], [8834, 1.3893879652023315]]",
         "[[9333, 1.340659260749817], [7147, 1.3587028980255127], [8834, 1.3893879652023315]]",
         "7147"
        ],
        [
         "30",
         "video7744",
         "a chef stirs up some ingredients inside of a pan",
         "[[9335, 1.3018267154693604]]",
         "[[9335, 1.3018267154693604], [9625, 1.3441994190216064], [9693, 1.3630181550979614]]",
         "[[9335, 1.3018267154693604], [9625, 1.3441994190216064], [9693, 1.3630181550979614]]",
         "7744"
        ],
        [
         "31",
         "video7839",
         "this is a vine sports compilation",
         "[[8253, 1.316026210784912]]",
         "[[8253, 1.316026210784912], [8979, 1.3217328786849976], [9542, 1.3487557172775269]]",
         "[[8253, 1.316026210784912], [8979, 1.3217328786849976], [9542, 1.3487557172775269]]",
         "7839"
        ],
        [
         "32",
         "video7214",
         "race cars of different colors lined up on a dark track",
         "[[8689, 1.4480459690093994]]",
         "[[8689, 1.4480459690093994], [8471, 1.4485344886779785], [9620, 1.4727447032928467]]",
         "[[8689, 1.4480459690093994], [8471, 1.4485344886779785], [9620, 1.4727447032928467]]",
         "7214"
        ],
        [
         "33",
         "video7771",
         "a golf player is trying to hit the ball into the pit",
         "[[7771, 1.3663681745529175]]",
         "[[7771, 1.3663681745529175], [9832, 1.4744255542755127], [8044, 1.4764671325683594]]",
         "[[7771, 1.3663681745529175], [9832, 1.4744255542755127], [8044, 1.4764671325683594]]",
         "7771"
        ],
        [
         "34",
         "video8486",
         "a cartoon on a young guy cursing",
         "[[8486, 1.4345451593399048]]",
         "[[8486, 1.4345451593399048], [8673, 1.4456779956817627], [9777, 1.4479122161865234]]",
         "[[8486, 1.4345451593399048], [8673, 1.4456779956817627], [9777, 1.4479122161865234]]",
         "8486"
        ],
        [
         "35",
         "video9909",
         "a crowd of people sitting next to each other as one man plays a video game",
         "[[9909, 1.392963171005249]]",
         "[[9909, 1.392963171005249], [8472, 1.4319069385528564], [8116, 1.4346805810928345]]",
         "[[9909, 1.392963171005249], [8472, 1.4319069385528564], [8116, 1.4346805810928345]]",
         "9909"
        ],
        [
         "36",
         "video8922",
         "an old man shakes hands with another man and then they hug each other",
         "[[7200, 1.399296522140503]]",
         "[[7200, 1.399296522140503], [9337, 1.44015371799469], [9404, 1.4423143863677979]]",
         "[[7200, 1.399296522140503], [9337, 1.44015371799469], [9404, 1.4423143863677979]]",
         "8922"
        ],
        [
         "37",
         "video9814",
         "a scene from spongebob squarepants where the townspeople are carrying torches and chasing a giant squidward",
         "[[7235, 1.385290265083313]]",
         "[[7235, 1.385290265083313], [9814, 1.415451169013977], [9306, 1.4171558618545532]]",
         "[[7235, 1.385290265083313], [9814, 1.415451169013977], [9306, 1.4171558618545532]]",
         "9814"
        ],
        [
         "38",
         "video9368",
         "someone demonstrates about the small motor uses to the video",
         "[[8121, 1.3845534324645996]]",
         "[[8121, 1.3845534324645996], [7363, 1.3943474292755127], [7688, 1.3945202827453613]]",
         "[[8121, 1.3845534324645996], [7363, 1.3943474292755127], [7688, 1.3945202827453613]]",
         "9368"
        ],
        [
         "39",
         "video8820",
         "a person comes up in the hill on a orange motor bike and falls down",
         "[[9535, 1.4331376552581787]]",
         "[[9535, 1.4331376552581787], [8044, 1.4437748193740845], [7616, 1.4469109773635864]]",
         "[[9535, 1.4331376552581787], [8044, 1.4437748193740845], [7616, 1.4469109773635864]]",
         "8820"
        ],
        [
         "40",
         "video9452",
         "an animated grey shark in the middle of a blue water simulation background rotating in a circle on the screen of a monitor",
         "[[9452, 1.27926504611969]]",
         "[[9452, 1.27926504611969], [8111, 1.4033654928207397], [8909, 1.4160324335098267]]",
         "[[9452, 1.27926504611969], [8111, 1.4033654928207397], [8909, 1.4160324335098267]]",
         "9452"
        ],
        [
         "41",
         "video9344",
         "gameplay footage of someone playing a game",
         "[[8116, 1.3729041814804077]]",
         "[[8116, 1.3729041814804077], [8313, 1.3808915615081787], [8027, 1.3837194442749023]]",
         "[[8116, 1.3729041814804077], [8313, 1.3808915615081787], [8027, 1.3837194442749023]]",
         "9344"
        ],
        [
         "42",
         "video9032",
         "a hospital mortuary room and a doctor treat the special case",
         "[[8664, 1.414376974105835]]",
         "[[8664, 1.414376974105835], [7149, 1.435739278793335], [7963, 1.4495340585708618]]",
         "[[8664, 1.414376974105835], [7149, 1.435739278793335], [7963, 1.4495340585708618]]",
         "9032"
        ],
        [
         "43",
         "video9016",
         "all persons are wearing bikini dresses and playing in sea",
         "[[7025, 1.4151535034179688]]",
         "[[7025, 1.4151535034179688], [9359, 1.4370602369308472], [8556, 1.4592955112457275]]",
         "[[7025, 1.4151535034179688], [9359, 1.4370602369308472], [8556, 1.4592955112457275]]",
         "9016"
        ],
        [
         "44",
         "video9353",
         "two women are outside and are discussing something in a foreign language",
         "[[7698, 1.446850299835205]]",
         "[[7698, 1.446850299835205], [7724, 1.4638184309005737], [8507, 1.4695321321487427]]",
         "[[7698, 1.446850299835205], [7724, 1.4638184309005737], [8507, 1.4695321321487427]]",
         "9353"
        ],
        [
         "45",
         "video9405",
         "red balloons float in the sky and have packages tied to them",
         "[[9405, 1.382293462753296]]",
         "[[9405, 1.382293462753296], [7732, 1.4818811416625977], [9253, 1.4823288917541504]]",
         "[[9405, 1.382293462753296], [7732, 1.4818811416625977], [9253, 1.4823288917541504]]",
         "9405"
        ],
        [
         "46",
         "video7559",
         "a man is trying some sushi",
         "[[7820, 1.4433727264404297]]",
         "[[7820, 1.4433727264404297], [9253, 1.4536454677581787], [9687, 1.4541141986846924]]",
         "[[7820, 1.4433727264404297], [9253, 1.4536454677581787], [9687, 1.4541141986846924]]",
         "7559"
        ],
        [
         "47",
         "video9063",
         "people on stage performing",
         "[[9063, 1.4287298917770386]]",
         "[[9063, 1.4287298917770386], [9834, 1.4305880069732666], [8926, 1.4467397928237915]]",
         "[[9063, 1.4287298917770386], [9834, 1.4305880069732666], [8926, 1.4467397928237915]]",
         "9063"
        ],
        [
         "48",
         "video7352",
         "a movie scene starring morgan freeman and men in armor running",
         "[[7352, 1.3853856325149536]]",
         "[[7352, 1.3853856325149536], [8475, 1.4219026565551758], [9742, 1.4259767532348633]]",
         "[[7352, 1.3853856325149536], [8475, 1.4219026565551758], [9742, 1.4259767532348633]]",
         "7352"
        ],
        [
         "49",
         "video8447",
         "a woman singing on the voice",
         "[[7569, 1.3205636739730835]]",
         "[[7569, 1.3205636739730835], [8810, 1.3651217222213745], [8265, 1.365260362625122]]",
         "[[7569, 1.3205636739730835], [8810, 1.3651217222213745], [8265, 1.365260362625122]]",
         "8447"
        ]
       ],
       "shape": {
        "columns": 6,
        "rows": 1000
       }
      },
      "text/html": [
       "<div>\n",
       "<style scoped>\n",
       "    .dataframe tbody tr th:only-of-type {\n",
       "        vertical-align: middle;\n",
       "    }\n",
       "\n",
       "    .dataframe tbody tr th {\n",
       "        vertical-align: top;\n",
       "    }\n",
       "\n",
       "    .dataframe thead th {\n",
       "        text-align: right;\n",
       "    }\n",
       "</style>\n",
       "<table border=\"1\" class=\"dataframe\">\n",
       "  <thead>\n",
       "    <tr style=\"text-align: right;\">\n",
       "      <th></th>\n",
       "      <th>rel_frame_id</th>\n",
       "      <th>query</th>\n",
       "      <th>top1</th>\n",
       "      <th>top5</th>\n",
       "      <th>top10</th>\n",
       "      <th>ground_truth</th>\n",
       "    </tr>\n",
       "  </thead>\n",
       "  <tbody>\n",
       "    <tr>\n",
       "      <th>0</th>\n",
       "      <td>video7579</td>\n",
       "      <td>a girl wearing red top and black trouser is pu...</td>\n",
       "      <td>[[7579, 1.4025176763534546]]</td>\n",
       "      <td>[[7579, 1.4025176763534546], [7113, 1.42591190...</td>\n",
       "      <td>[[7579, 1.4025176763534546], [7113, 1.42591190...</td>\n",
       "      <td>7579</td>\n",
       "    </tr>\n",
       "    <tr>\n",
       "      <th>1</th>\n",
       "      <td>video7725</td>\n",
       "      <td>young people sit around the edges of a room cl...</td>\n",
       "      <td>[[8441, 1.3825130462646484]]</td>\n",
       "      <td>[[8441, 1.3825130462646484], [7725, 1.41566181...</td>\n",
       "      <td>[[8441, 1.3825130462646484], [7725, 1.41566181...</td>\n",
       "      <td>7725</td>\n",
       "    </tr>\n",
       "    <tr>\n",
       "      <th>2</th>\n",
       "      <td>video9258</td>\n",
       "      <td>a person is using a phone</td>\n",
       "      <td>[[7728, 1.4489479064941406]]</td>\n",
       "      <td>[[7728, 1.4489479064941406], [7029, 1.46234631...</td>\n",
       "      <td>[[7728, 1.4489479064941406], [7029, 1.46234631...</td>\n",
       "      <td>9258</td>\n",
       "    </tr>\n",
       "    <tr>\n",
       "      <th>3</th>\n",
       "      <td>video7365</td>\n",
       "      <td>cartoon people are eating at a restaurant</td>\n",
       "      <td>[[8911, 1.4093154668807983]]</td>\n",
       "      <td>[[8911, 1.4093154668807983], [9777, 1.41201233...</td>\n",
       "      <td>[[8911, 1.4093154668807983], [9777, 1.41201233...</td>\n",
       "      <td>7365</td>\n",
       "    </tr>\n",
       "    <tr>\n",
       "      <th>4</th>\n",
       "      <td>video8068</td>\n",
       "      <td>a woman on a couch talks to a a man</td>\n",
       "      <td>[[9793, 1.3899463415145874]]</td>\n",
       "      <td>[[9793, 1.3899463415145874], [7724, 1.42953228...</td>\n",
       "      <td>[[9793, 1.3899463415145874], [7724, 1.42953228...</td>\n",
       "      <td>8068</td>\n",
       "    </tr>\n",
       "    <tr>\n",
       "      <th>...</th>\n",
       "      <td>...</td>\n",
       "      <td>...</td>\n",
       "      <td>...</td>\n",
       "      <td>...</td>\n",
       "      <td>...</td>\n",
       "      <td>...</td>\n",
       "    </tr>\n",
       "    <tr>\n",
       "      <th>995</th>\n",
       "      <td>video7034</td>\n",
       "      <td>man in black shirt is holding a baby upside do...</td>\n",
       "      <td>[[9037, 1.4728624820709229]]</td>\n",
       "      <td>[[9037, 1.4728624820709229], [9028, 1.47589492...</td>\n",
       "      <td>[[9037, 1.4728624820709229], [9028, 1.47589492...</td>\n",
       "      <td>7034</td>\n",
       "    </tr>\n",
       "    <tr>\n",
       "      <th>996</th>\n",
       "      <td>video7568</td>\n",
       "      <td>the queen of england is seen walking with an e...</td>\n",
       "      <td>[[7568, 1.2998905181884766]]</td>\n",
       "      <td>[[7568, 1.2998905181884766], [8306, 1.51000714...</td>\n",
       "      <td>[[7568, 1.2998905181884766], [8306, 1.51000714...</td>\n",
       "      <td>7568</td>\n",
       "    </tr>\n",
       "    <tr>\n",
       "      <th>997</th>\n",
       "      <td>video7979</td>\n",
       "      <td>people talking about a fight</td>\n",
       "      <td>[[8490, 1.4737529754638672]]</td>\n",
       "      <td>[[8490, 1.4737529754638672], [7352, 1.47550010...</td>\n",
       "      <td>[[8490, 1.4737529754638672], [7352, 1.47550010...</td>\n",
       "      <td>7979</td>\n",
       "    </tr>\n",
       "    <tr>\n",
       "      <th>998</th>\n",
       "      <td>video7356</td>\n",
       "      <td>a vehicle with details on what comes with it b...</td>\n",
       "      <td>[[7597, 1.4469205141067505]]</td>\n",
       "      <td>[[7597, 1.4469205141067505], [7701, 1.46081280...</td>\n",
       "      <td>[[7597, 1.4469205141067505], [7701, 1.46081280...</td>\n",
       "      <td>7356</td>\n",
       "    </tr>\n",
       "    <tr>\n",
       "      <th>999</th>\n",
       "      <td>video8578</td>\n",
       "      <td>a man is commentating while playing minecraft</td>\n",
       "      <td>[[7972, 1.3691062927246094]]</td>\n",
       "      <td>[[7972, 1.3691062927246094], [7792, 1.36991477...</td>\n",
       "      <td>[[7972, 1.3691062927246094], [7792, 1.36991477...</td>\n",
       "      <td>8578</td>\n",
       "    </tr>\n",
       "  </tbody>\n",
       "</table>\n",
       "<p>1000 rows × 6 columns</p>\n",
       "</div>"
      ],
      "text/plain": [
       "    rel_frame_id                                              query  \\\n",
       "0      video7579  a girl wearing red top and black trouser is pu...   \n",
       "1      video7725  young people sit around the edges of a room cl...   \n",
       "2      video9258                          a person is using a phone   \n",
       "3      video7365          cartoon people are eating at a restaurant   \n",
       "4      video8068                a woman on a couch talks to a a man   \n",
       "..           ...                                                ...   \n",
       "995    video7034  man in black shirt is holding a baby upside do...   \n",
       "996    video7568  the queen of england is seen walking with an e...   \n",
       "997    video7979                       people talking about a fight   \n",
       "998    video7356  a vehicle with details on what comes with it b...   \n",
       "999    video8578      a man is commentating while playing minecraft   \n",
       "\n",
       "                             top1  \\\n",
       "0    [[7579, 1.4025176763534546]]   \n",
       "1    [[8441, 1.3825130462646484]]   \n",
       "2    [[7728, 1.4489479064941406]]   \n",
       "3    [[8911, 1.4093154668807983]]   \n",
       "4    [[9793, 1.3899463415145874]]   \n",
       "..                            ...   \n",
       "995  [[9037, 1.4728624820709229]]   \n",
       "996  [[7568, 1.2998905181884766]]   \n",
       "997  [[8490, 1.4737529754638672]]   \n",
       "998  [[7597, 1.4469205141067505]]   \n",
       "999  [[7972, 1.3691062927246094]]   \n",
       "\n",
       "                                                  top5  \\\n",
       "0    [[7579, 1.4025176763534546], [7113, 1.42591190...   \n",
       "1    [[8441, 1.3825130462646484], [7725, 1.41566181...   \n",
       "2    [[7728, 1.4489479064941406], [7029, 1.46234631...   \n",
       "3    [[8911, 1.4093154668807983], [9777, 1.41201233...   \n",
       "4    [[9793, 1.3899463415145874], [7724, 1.42953228...   \n",
       "..                                                 ...   \n",
       "995  [[9037, 1.4728624820709229], [9028, 1.47589492...   \n",
       "996  [[7568, 1.2998905181884766], [8306, 1.51000714...   \n",
       "997  [[8490, 1.4737529754638672], [7352, 1.47550010...   \n",
       "998  [[7597, 1.4469205141067505], [7701, 1.46081280...   \n",
       "999  [[7972, 1.3691062927246094], [7792, 1.36991477...   \n",
       "\n",
       "                                                 top10  ground_truth  \n",
       "0    [[7579, 1.4025176763534546], [7113, 1.42591190...          7579  \n",
       "1    [[8441, 1.3825130462646484], [7725, 1.41566181...          7725  \n",
       "2    [[7728, 1.4489479064941406], [7029, 1.46234631...          9258  \n",
       "3    [[8911, 1.4093154668807983], [9777, 1.41201233...          7365  \n",
       "4    [[9793, 1.3899463415145874], [7724, 1.42953228...          8068  \n",
       "..                                                 ...           ...  \n",
       "995  [[9037, 1.4728624820709229], [9028, 1.47589492...          7034  \n",
       "996  [[7568, 1.2998905181884766], [8306, 1.51000714...          7568  \n",
       "997  [[8490, 1.4737529754638672], [7352, 1.47550010...          7979  \n",
       "998  [[7597, 1.4469205141067505], [7701, 1.46081280...          7356  \n",
       "999  [[7972, 1.3691062927246094], [7792, 1.36991477...          8578  \n",
       "\n",
       "[1000 rows x 6 columns]"
      ]
     },
     "execution_count": 56,
     "metadata": {},
     "output_type": "execute_result"
    }
   ],
   "source": [
    "twohee_data_col_to_df(ret_dc)"
   ]
  },
  {
   "cell_type": "code",
   "execution_count": 49,
   "id": "79ecce3d",
   "metadata": {},
   "outputs": [
    {
     "data": {
      "text/plain": [
       "{'recall@1': 0.255,\n",
       " 'recall@5': 0.398,\n",
       " 'recall@10': 0.398,\n",
       " 'map': 0.3164999999999999,\n",
       " 'ndcg@1': 0.255,\n",
       " 'ndcg@5': 0.33736716954643114,\n",
       " 'ndcg@10': 0.33736716954643114}"
      ]
     },
     "execution_count": 49,
     "metadata": {},
     "output_type": "execute_result"
    }
   ],
   "source": [
    "get_all_eval_scores(twohee_data_col_to_df(ret_dc))"
   ]
  },
  {
   "cell_type": "markdown",
   "id": "e6b69532",
   "metadata": {},
   "source": [
    "# Try evaluation against queries from FIRE benchmark"
   ]
  },
  {
   "cell_type": "markdown",
   "id": "2a9ea2e1",
   "metadata": {},
   "source": [
    "We are working with a sample of MSR-VTT and our evaluation pipeline supports only one relevant query per video, hence we need to filter the full FIRE benchmark to only include videos we have sampled and ones with a single relevant result."
   ]
  },
  {
   "cell_type": "markdown",
   "id": "31086197",
   "metadata": {},
   "source": [
    "FIRE_BENCHMARK_Q_JUDGEMENTS is created in the notebook `./clean_fire_judgements.ipynb`"
   ]
  },
  {
   "cell_type": "code",
   "execution_count": null,
   "id": "ca3c6413",
   "metadata": {},
   "outputs": [
    {
     "name": "stderr",
     "output_type": "stream",
     "text": [
      "2025-04-16 17:45:31,779 - 8454604864 - clip.py-clip:100 - WARNING: Gpu not available, use cpu\n",
      "2025-04-16 17:45:31,823 - 8454604864 - connectionpool.py-connectionpool:544 - DEBUG: https://huggingface.co:443 \"HEAD /openai/clip-vit-base-patch16/resolve/main/config.json HTTP/1.1\" 200 0\n",
      "2025-04-16 17:45:31,928 - 8454604864 - connectionpool.py-connectionpool:544 - DEBUG: https://huggingface.co:443 \"HEAD /openai/clip-vit-base-patch16/resolve/main/config.json HTTP/1.1\" 200 0\n",
      "2025-04-16 17:45:31,979 - 8454604864 - connectionpool.py-connectionpool:544 - DEBUG: https://huggingface.co:443 \"HEAD /openai/clip-vit-base-patch16/resolve/main/model.safetensors HTTP/1.1\" 404 0\n",
      "2025-04-16 17:45:32,042 - 17460719616 - connectionpool.py-connectionpool:544 - DEBUG: https://huggingface.co:443 \"GET /api/models/openai/clip-vit-base-patch16 HTTP/1.1\" 200 3499\n",
      "2025-04-16 17:45:32,094 - 8454604864 - connectionpool.py-connectionpool:544 - DEBUG: https://huggingface.co:443 \"HEAD /openai/clip-vit-base-patch16/resolve/main/tokenizer_config.json HTTP/1.1\" 200 0\n",
      "2025-04-16 17:45:32,188 - 8454604864 - connectionpool.py-connectionpool:544 - DEBUG: https://huggingface.co:443 \"HEAD /openai/clip-vit-base-patch16/resolve/main/preprocessor_config.json HTTP/1.1\" 200 0\n",
      "2025-04-16 17:45:32,236 - 8454604864 - connectionpool.py-connectionpool:544 - DEBUG: https://huggingface.co:443 \"HEAD /openai/clip-vit-base-patch16/resolve/main/tokenizer_config.json HTTP/1.1\" 200 0\n",
      "2025-04-16 17:45:32,315 - 17460719616 - connectionpool.py-connectionpool:544 - DEBUG: https://huggingface.co:443 \"GET /api/models/openai/clip-vit-base-patch16/commits/main HTTP/1.1\" 200 3099\n",
      "2025-04-16 17:45:32,358 - 8454604864 - connectionpool.py-connectionpool:544 - DEBUG: https://huggingface.co:443 \"HEAD /openai/clip-vit-base-patch16/resolve/main/processor_config.json HTTP/1.1\" 404 0\n",
      "2025-04-16 17:45:32,398 - 8454604864 - connectionpool.py-connectionpool:544 - DEBUG: https://huggingface.co:443 \"HEAD /openai/clip-vit-base-patch16/resolve/main/chat_template.json HTTP/1.1\" 404 0\n",
      "2025-04-16 17:45:32,406 - 17460719616 - connectionpool.py-connectionpool:544 - DEBUG: https://huggingface.co:443 \"GET /api/models/openai/clip-vit-base-patch16/discussions?p=0 HTTP/1.1\" 200 6380\n",
      "2025-04-16 17:45:32,439 - 8454604864 - connectionpool.py-connectionpool:544 - DEBUG: https://huggingface.co:443 \"HEAD /openai/clip-vit-base-patch16/resolve/main/chat_template.jinja HTTP/1.1\" 404 0\n",
      "2025-04-16 17:45:32,539 - 17460719616 - connectionpool.py-connectionpool:544 - DEBUG: https://huggingface.co:443 \"GET /api/models/openai/clip-vit-base-patch16/commits/refs%2Fpr%2F10 HTTP/1.1\" 200 4064\n",
      "2025-04-16 17:45:32,586 - 17477545984 - node.py-node:167 - INFO: Begin to run Node-_input\n",
      "2025-04-16 17:45:32,587 - 17494372352 - node.py-node:167 - INFO: Begin to run Node-read_frame_search_fire_csv-0\n",
      "2025-04-16 17:45:32,587 - 17511198720 - node.py-node:167 - INFO: Begin to run Node-image-text-embedding/clip-1\n",
      "2025-04-16 17:45:32,587 - 17528025088 - node.py-node:167 - INFO: Begin to run Node-lambda-2\n",
      "2025-04-16 17:45:32,587 - 17544851456 - node.py-node:167 - INFO: Begin to run Node-ann-search/milvus-client-3\n",
      "2025-04-16 17:45:32,587 - 17477545984 - node.py-node:167 - INFO: Begin to run Node-lambda-4\n",
      "2025-04-16 17:45:32,587 - 17561677824 - node.py-node:167 - INFO: Begin to run Node-_output\n",
      "2025-04-16 17:45:32,603 - 17460719616 - connectionpool.py-connectionpool:544 - DEBUG: https://huggingface.co:443 \"HEAD /openai/clip-vit-base-patch16/resolve/refs%2Fpr%2F10/model.safetensors.index.json HTTP/1.1\" 404 0\n",
      "2025-04-16 17:45:32,645 - 17460719616 - connectionpool.py-connectionpool:544 - DEBUG: https://huggingface.co:443 \"HEAD /openai/clip-vit-base-patch16/resolve/refs%2Fpr%2F10/model.safetensors HTTP/1.1\" 302 0\n"
     ]
    },
    {
     "data": {
      "text/html": [
       "<table style=\"border-collapse: collapse;\"><tr><th style=\"text-align: center; font-size: 130%; border: none;\">rel_frame_id</th> <th style=\"text-align: center; font-size: 130%; border: none;\">query</th> <th style=\"text-align: center; font-size: 130%; border: none;\">top1</th> <th style=\"text-align: center; font-size: 130%; border: none;\">top5</th> <th style=\"text-align: center; font-size: 130%; border: none;\">top10</th></tr>\n",
       "<tr><td style=\"text-align: center; vertical-align: top; border-right: solid 1px #D3D3D3; border-left: solid 1px #D3D3D3; \">video8469</td><td style=\"text-align: center; vertical-align: top; border-right: solid 1px #D3D3D3; border-left: solid 1px #D3D3D3; \">two parrots in a bird cage one white chick and on green adult</td><td style=\"text-align: left; vertical-align: top; border-right: solid 1px #D3D3D3; border-left: solid 1px #D3D3D3; \">[[8469, 1.4449390172958374]] len=1</td><td style=\"text-align: left; vertical-align: top; border-right: solid 1px #D3D3D3; border-left: solid 1px #D3D3D3; \">[[8469, 1.4449390172958374],[7849, 1.4497870206832886],[7822, 1.4854648113250732]] len=3</td><td style=\"text-align: left; vertical-align: top; border-right: solid 1px #D3D3D3; border-left: solid 1px #D3D3D3; \">[[8469, 1.4449390172958374],[7849, 1.4497870206832886],[7822, 1.4854648113250732]] len=3</td></tr>\n",
       "<tr><td style=\"text-align: center; vertical-align: top; border-right: solid 1px #D3D3D3; border-left: solid 1px #D3D3D3; \">video9687</td><td style=\"text-align: center; vertical-align: top; border-right: solid 1px #D3D3D3; border-left: solid 1px #D3D3D3; \">a man chopping lobster and taking off the shell</td><td style=\"text-align: left; vertical-align: top; border-right: solid 1px #D3D3D3; border-left: solid 1px #D3D3D3; \">[[7820, 1.40888512134552]] len=1</td><td style=\"text-align: left; vertical-align: top; border-right: solid 1px #D3D3D3; border-left: solid 1px #D3D3D3; \">[[7820, 1.40888512134552],[9742, 1.4197094440460205],[9687, 1.4254179000854492]] len=3</td><td style=\"text-align: left; vertical-align: top; border-right: solid 1px #D3D3D3; border-left: solid 1px #D3D3D3; \">[[7820, 1.40888512134552],[9742, 1.4197094440460205],[9687, 1.4254179000854492]] len=3</td></tr>\n",
       "<tr><td style=\"text-align: center; vertical-align: top; border-right: solid 1px #D3D3D3; border-left: solid 1px #D3D3D3; \">video7698</td><td style=\"text-align: center; vertical-align: top; border-right: solid 1px #D3D3D3; border-left: solid 1px #D3D3D3; \">two women are walking in a parking lot</td><td style=\"text-align: left; vertical-align: top; border-right: solid 1px #D3D3D3; border-left: solid 1px #D3D3D3; \">[[7558, 1.4385546445846558]] len=1</td><td style=\"text-align: left; vertical-align: top; border-right: solid 1px #D3D3D3; border-left: solid 1px #D3D3D3; \">[[7558, 1.4385546445846558],[9039, 1.4457066059112549],[7698, 1.4519243240356445]] len=3</td><td style=\"text-align: left; vertical-align: top; border-right: solid 1px #D3D3D3; border-left: solid 1px #D3D3D3; \">[[7558, 1.4385546445846558],[9039, 1.4457066059112549],[7698, 1.4519243240356445]] len=3</td></tr>\n",
       "<tr><td style=\"text-align: center; vertical-align: top; border-right: solid 1px #D3D3D3; border-left: solid 1px #D3D3D3; \">video9503</td><td style=\"text-align: center; vertical-align: top; border-right: solid 1px #D3D3D3; border-left: solid 1px #D3D3D3; \">a woman is talking about how jeans with patches or rips is trendy</td><td style=\"text-align: left; vertical-align: top; border-right: solid 1px #D3D3D3; border-left: solid 1px #D3D3D3; \">[[9503, 1.4195761680603027]] len=1</td><td style=\"text-align: left; vertical-align: top; border-right: solid 1px #D3D3D3; border-left: solid 1px #D3D3D3; \">[[9503, 1.4195761680603027],[8825, 1.4488005638122559],[9039, 1.4948625564575195]] len=3</td><td style=\"text-align: left; vertical-align: top; border-right: solid 1px #D3D3D3; border-left: solid 1px #D3D3D3; \">[[9503, 1.4195761680603027],[8825, 1.4488005638122559],[9039, 1.4948625564575195]] len=3</td></tr>\n",
       "<tr><td style=\"text-align: center; vertical-align: top; border-right: solid 1px #D3D3D3; border-left: solid 1px #D3D3D3; \">video8903</td><td style=\"text-align: center; vertical-align: top; border-right: solid 1px #D3D3D3; border-left: solid 1px #D3D3D3; \">a naked child runs through a field</td><td style=\"text-align: left; vertical-align: top; border-right: solid 1px #D3D3D3; border-left: solid 1px #D3D3D3; \">[[9031, 1.3999378681182861]] len=1</td><td style=\"text-align: left; vertical-align: top; border-right: solid 1px #D3D3D3; border-left: solid 1px #D3D3D3; \">[[9031, 1.3999378681182861],[9805, 1.4242286682128906],[8125, 1.4620842933654785]] len=3</td><td style=\"text-align: left; vertical-align: top; border-right: solid 1px #D3D3D3; border-left: solid 1px #D3D3D3; \">[[9031, 1.3999378681182861],[9805, 1.4242286682128906],[8125, 1.4620842933654785]] len=3</td></tr></table>"
      ],
      "text/plain": [
       "<IPython.core.display.HTML object>"
      ]
     },
     "metadata": {},
     "output_type": "display_data"
    }
   ],
   "source": [
    "# Run query pipeline using FIRE\n",
    "\n",
    "\n",
    "# CSV parser function and pipeline recreated since the FIRE csv uses `video_id` instead of `frame_id`\n",
    "def read_frame_search_fire_csv(csv_file):\n",
    "    with open(csv_file, 'r', encoding='utf-8-sig') as f:\n",
    "        data = csv.DictReader(f)\n",
    "        for line in data:\n",
    "            yield line['video_id'], line['sentence']\n",
    "            \n",
    "frame_search_fire_pipeline = (\n",
    "    pipe.input('csv_file')\n",
    "    .flat_map('csv_file', ('rel_frame_id', 'query'), read_frame_search_fire_csv)\n",
    "    .map('query', 'vec', ops.image_text_embedding.clip(model_name='clip_vit_base_patch16', modality='text', device='mps'))\n",
    "    .map('vec', 'vec', lambda x: x / np.linalg.norm(x))\n",
    "    .map('vec', 'top10_raw_res', ops.ann_search.milvus_client(collection_name=FRAME_RET_COLLECTION, limit=10))\n",
    "    .map('top10_raw_res', ('top1', 'top5', 'top10'), lambda x: (x[:1], x[:5], x[:10]))\n",
    "    .output('rel_frame_id', 'query', 'top1', 'top5', 'top10')\n",
    ")\n",
    "            \n",
    "fire_query_results = DataCollection(frame_search_fire_pipeline(FIRE_BENCHMARK_Q_JUDGEMENTS))\n",
    "fire_query_results.show()"
   ]
  },
  {
   "cell_type": "code",
   "execution_count": 55,
   "id": "d379d6e4",
   "metadata": {},
   "outputs": [
    {
     "data": {
      "text/plain": [
       "{'recall@1': 0.3853503184713376,\n",
       " 'recall@5': 0.5222929936305732,\n",
       " 'recall@10': 0.5222929936305732,\n",
       " 'map': 0.4437367303609342,\n",
       " 'ndcg@1': 0.3853503184713376,\n",
       " 'ndcg@5': 0.46382902575068446,\n",
       " 'ndcg@10': 0.46382902575068446}"
      ]
     },
     "execution_count": 55,
     "metadata": {},
     "output_type": "execute_result"
    }
   ],
   "source": [
    "get_all_eval_scores(twohee_data_col_to_df(fire_query_results))"
   ]
  }
 ],
 "metadata": {
  "kernelspec": {
   "display_name": "info-ret-proj",
   "language": "python",
   "name": "python3"
  },
  "language_info": {
   "codemirror_mode": {
    "name": "ipython",
    "version": 3
   },
   "file_extension": ".py",
   "mimetype": "text/x-python",
   "name": "python",
   "nbconvert_exporter": "python",
   "pygments_lexer": "ipython3",
   "version": "3.10.16"
  }
 },
 "nbformat": 4,
 "nbformat_minor": 5
}
