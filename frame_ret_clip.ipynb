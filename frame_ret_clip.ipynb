{
	"cells": [
		{
			"cell_type": "markdown",
			"id": "bb513f38",
			"metadata": {},
			"source": [
				"Video retrieval by embedding single frames using CLIP"
			]
		},
		{
			"cell_type": "code",
			"execution_count": null,
			"id": "769c33eb",
			"metadata": {},
			"outputs": [],
			"source": [
				"import os\n",
				"import csv\n",
				"from towhee import ops, pipe\n",
				"from towhee import DataCollection\n",
				"from tqdm import tqdm\n",
				"import pandas as pd\n",
				"import numpy as np\n",
				"from helpers import milvus_utils\n",
				"from helpers.extract_frames import extract_frame\n",
				"from helpers.eval_utils import twohee_data_col_to_df, get_all_eval_scores"
			]
		},
		{
			"cell_type": "code",
			"execution_count": 2,
			"id": "33097668",
			"metadata": {},
			"outputs": [],
			"source": [
				"# CONSTANTS\n",
				"\n",
				"# Files\n",
				"MSRVTT_SAMPLES = \"./MSRVTT_1K.csv\"\n",
				"MSRVTT_SAMPLES_SINGLE_FRAME = \"./MSRVTT_1K_frames_single.csv\"\n",
				"SINGLE_FRAMES_DIR = \"./1k_frames_single\"\n",
				"# file created using raw FIRE judgements, see clean_fire_judgements.ipynb\n",
				"FIRE_BENCHMARK_Q_JUDGEMENTS = \"./fire_benchmark_q_judgements.csv\" \n",
				"\n",
				"\n",
				"# Database Collections\n",
				"FRAME_RET_COLLECTION = \"single_frame_ret\""
			]
		},
		{
			"cell_type": "code",
			"execution_count": 3,
			"id": "62a84e47",
			"metadata": {},
			"outputs": [
				{
					"data": {
						"application/vnd.microsoft.datawrangler.viewer.v0+json": {
							"columns": [
								{
									"name": "index",
									"rawType": "int64",
									"type": "integer"
								},
								{
									"name": "video_id",
									"rawType": "object",
									"type": "string"
								},
								{
									"name": "video_path",
									"rawType": "object",
									"type": "string"
								},
								{
									"name": "sentence",
									"rawType": "object",
									"type": "string"
								}
							],
							"conversionMethod": "pd.DataFrame",
							"ref": "e1a483e2-7b3f-4f90-a3da-531e393ad5cc",
							"rows": [
								[
									"0",
									"video7579",
									"./test_1k_compress/video7579.mp4",
									"a girl wearing red top and black trouser is putting a sweater on a dog"
								],
								[
									"1",
									"video7725",
									"./test_1k_compress/video7725.mp4",
									"young people sit around the edges of a room clapping and raising their arms while others dance in the center during a party"
								],
								[
									"2",
									"video9258",
									"./test_1k_compress/video9258.mp4",
									"a person is using a phone"
								],
								[
									"3",
									"video7365",
									"./test_1k_compress/video7365.mp4",
									"cartoon people are eating at a restaurant"
								],
								[
									"4",
									"video8068",
									"./test_1k_compress/video8068.mp4",
									"a woman on a couch talks to a a man"
								]
							],
							"shape": {
								"columns": 3,
								"rows": 5
							}
						},
						"text/html": [
							"<div>\n",
							"<style scoped>\n",
							"    .dataframe tbody tr th:only-of-type {\n",
							"        vertical-align: middle;\n",
							"    }\n",
							"\n",
							"    .dataframe tbody tr th {\n",
							"        vertical-align: top;\n",
							"    }\n",
							"\n",
							"    .dataframe thead th {\n",
							"        text-align: right;\n",
							"    }\n",
							"</style>\n",
							"<table border=\"1\" class=\"dataframe\">\n",
							"  <thead>\n",
							"    <tr style=\"text-align: right;\">\n",
							"      <th></th>\n",
							"      <th>video_id</th>\n",
							"      <th>video_path</th>\n",
							"      <th>sentence</th>\n",
							"    </tr>\n",
							"  </thead>\n",
							"  <tbody>\n",
							"    <tr>\n",
							"      <th>0</th>\n",
							"      <td>video7579</td>\n",
							"      <td>./test_1k_compress/video7579.mp4</td>\n",
							"      <td>a girl wearing red top and black trouser is pu...</td>\n",
							"    </tr>\n",
							"    <tr>\n",
							"      <th>1</th>\n",
							"      <td>video7725</td>\n",
							"      <td>./test_1k_compress/video7725.mp4</td>\n",
							"      <td>young people sit around the edges of a room cl...</td>\n",
							"    </tr>\n",
							"    <tr>\n",
							"      <th>2</th>\n",
							"      <td>video9258</td>\n",
							"      <td>./test_1k_compress/video9258.mp4</td>\n",
							"      <td>a person is using a phone</td>\n",
							"    </tr>\n",
							"    <tr>\n",
							"      <th>3</th>\n",
							"      <td>video7365</td>\n",
							"      <td>./test_1k_compress/video7365.mp4</td>\n",
							"      <td>cartoon people are eating at a restaurant</td>\n",
							"    </tr>\n",
							"    <tr>\n",
							"      <th>4</th>\n",
							"      <td>video8068</td>\n",
							"      <td>./test_1k_compress/video8068.mp4</td>\n",
							"      <td>a woman on a couch talks to a a man</td>\n",
							"    </tr>\n",
							"  </tbody>\n",
							"</table>\n",
							"</div>"
						],
						"text/plain": [
							"    video_id                        video_path  \\\n",
							"0  video7579  ./test_1k_compress/video7579.mp4   \n",
							"1  video7725  ./test_1k_compress/video7725.mp4   \n",
							"2  video9258  ./test_1k_compress/video9258.mp4   \n",
							"3  video7365  ./test_1k_compress/video7365.mp4   \n",
							"4  video8068  ./test_1k_compress/video8068.mp4   \n",
							"\n",
							"                                            sentence  \n",
							"0  a girl wearing red top and black trouser is pu...  \n",
							"1  young people sit around the edges of a room cl...  \n",
							"2                          a person is using a phone  \n",
							"3          cartoon people are eating at a restaurant  \n",
							"4                a woman on a couch talks to a a man  "
						]
					},
					"execution_count": 3,
					"metadata": {},
					"output_type": "execute_result"
				}
			],
			"source": [
				"raw_samples_df = pd.read_csv(MSRVTT_SAMPLES)\n",
				"raw_samples_df[['video_id', 'video_path', 'sentence']].head()"
			]
		},
		{
			"cell_type": "markdown",
			"id": "5212921c",
			"metadata": {},
			"source": [
				"## Embedding Single Video Frames"
			]
		},
		{
			"cell_type": "markdown",
			"id": "282b53af",
			"metadata": {},
			"source": [
				"Before we embed video frames, we need to extract and/or construct a single frame from each of the 1000 videos."
			]
		},
		{
			"cell_type": "code",
			"execution_count": 4,
			"id": "601907b3",
			"metadata": {},
			"outputs": [],
			"source": [
				"def create_single_frame_dataset(raw_samples_df):\n",
				"    raw_video_samples = raw_samples_df.copy()\n",
				"    for row in tqdm(raw_video_samples.iterrows(), total=len(raw_video_samples)):\n",
				"        video_path = row[1]['video_path']\n",
				"        image_name = os.path.basename(video_path).split('.')[0]\n",
				"        image_path = os.path.join(SINGLE_FRAMES_DIR, image_name) + \".jpg\"\n",
				"        # extract frame \n",
				"        extract_frame(video_path, image_path)\n",
				"        # add column with val to current row\n",
				"        raw_video_samples.at[row[0], 'frame_path'] = image_path\n",
				"        raw_video_samples.at[row[0], 'frame_id'] = image_name\n",
				"    \n",
				"    return raw_video_samples"
			]
		},
		{
			"cell_type": "code",
			"execution_count": 5,
			"id": "131b5865",
			"metadata": {},
			"outputs": [
				{
					"name": "stderr",
					"output_type": "stream",
					"text": [
						"  0%|          | 0/1000 [00:00<?, ?it/s]"
					]
				},
				{
					"name": "stderr",
					"output_type": "stream",
					"text": [
						"100%|██████████| 1000/1000 [00:10<00:00, 96.95it/s]\n"
					]
				},
				{
					"data": {
						"application/vnd.microsoft.datawrangler.viewer.v0+json": {
							"columns": [
								{
									"name": "index",
									"rawType": "int64",
									"type": "integer"
								},
								{
									"name": "Unnamed: 0",
									"rawType": "int64",
									"type": "integer"
								},
								{
									"name": "key",
									"rawType": "object",
									"type": "string"
								},
								{
									"name": "vid_key",
									"rawType": "object",
									"type": "string"
								},
								{
									"name": "video_id",
									"rawType": "object",
									"type": "string"
								},
								{
									"name": "sentence",
									"rawType": "object",
									"type": "string"
								},
								{
									"name": "video_path",
									"rawType": "object",
									"type": "string"
								},
								{
									"name": "frame_path",
									"rawType": "object",
									"type": "string"
								},
								{
									"name": "frame_id",
									"rawType": "object",
									"type": "string"
								}
							],
							"conversionMethod": "pd.DataFrame",
							"ref": "88363aa5-ce32-4070-bcf8-8229387ff6e4",
							"rows": [
								[
									"0",
									"521",
									"ret521",
									"msr7579",
									"video7579",
									"a girl wearing red top and black trouser is putting a sweater on a dog",
									"./test_1k_compress/video7579.mp4",
									"./1k_frames_single/video7579.jpg",
									"video7579"
								],
								[
									"1",
									"737",
									"ret737",
									"msr7725",
									"video7725",
									"young people sit around the edges of a room clapping and raising their arms while others dance in the center during a party",
									"./test_1k_compress/video7725.mp4",
									"./1k_frames_single/video7725.jpg",
									"video7725"
								],
								[
									"2",
									"740",
									"ret740",
									"msr9258",
									"video9258",
									"a person is using a phone",
									"./test_1k_compress/video9258.mp4",
									"./1k_frames_single/video9258.jpg",
									"video9258"
								],
								[
									"3",
									"660",
									"ret660",
									"msr7365",
									"video7365",
									"cartoon people are eating at a restaurant",
									"./test_1k_compress/video7365.mp4",
									"./1k_frames_single/video7365.jpg",
									"video7365"
								],
								[
									"4",
									"411",
									"ret411",
									"msr8068",
									"video8068",
									"a woman on a couch talks to a a man",
									"./test_1k_compress/video8068.mp4",
									"./1k_frames_single/video8068.jpg",
									"video8068"
								],
								[
									"5",
									"678",
									"ret678",
									"msr7131",
									"video7131",
									"athletes are getting ready and start running for an event",
									"./test_1k_compress/video7131.mp4",
									"./1k_frames_single/video7131.jpg",
									"video7131"
								],
								[
									"6",
									"626",
									"ret626",
									"msr7213",
									"video7213",
									"a woman is making lasagna",
									"./test_1k_compress/video7213.mp4",
									"./1k_frames_single/video7213.jpg",
									"video7213"
								],
								[
									"7",
									"513",
									"ret513",
									"msr7575",
									"video7575",
									"a man speaking in a microphone",
									"./test_1k_compress/video7575.mp4",
									"./1k_frames_single/video7575.jpg",
									"video7575"
								],
								[
									"8",
									"859",
									"ret859",
									"msr7978",
									"video7978",
									"a team with blue uniforms are playing badmitten with a team in white",
									"./test_1k_compress/video7978.mp4",
									"./1k_frames_single/video7978.jpg",
									"video7978"
								],
								[
									"9",
									"136",
									"ret136",
									"msr8123",
									"video8123",
									"a woman is giving demo for baby trolley",
									"./test_1k_compress/video8123.mp4",
									"./1k_frames_single/video8123.jpg",
									"video8123"
								],
								[
									"10",
									"811",
									"ret811",
									"msr9800",
									"video9800",
									"a car is in a wreck",
									"./test_1k_compress/video9800.mp4",
									"./1k_frames_single/video9800.jpg",
									"video9800"
								],
								[
									"11",
									"76",
									"ret76",
									"msr9205",
									"video9205",
									"a woman interviewing about her part in a protest happening in brazil",
									"./test_1k_compress/video9205.mp4",
									"./1k_frames_single/video9205.jpg",
									"video9205"
								],
								[
									"12",
									"636",
									"ret636",
									"msr7590",
									"video7590",
									"an emotional scene of two persons where they are crying on meeting",
									"./test_1k_compress/video7590.mp4",
									"./1k_frames_single/video7590.jpg",
									"video7590"
								],
								[
									"13",
									"973",
									"ret973",
									"msr9017",
									"video9017",
									"the man is driving his motorbike fast and having problems on the race",
									"./test_1k_compress/video9017.mp4",
									"./1k_frames_single/video9017.jpg",
									"video9017"
								],
								[
									"14",
									"938",
									"ret938",
									"msr9241",
									"video9241",
									"japanese people laughing and dancing",
									"./test_1k_compress/video9241.mp4",
									"./1k_frames_single/video9241.jpg",
									"video9241"
								],
								[
									"15",
									"899",
									"ret899",
									"msr7158",
									"video7158",
									"fox news presidential debate recapping the gop debate with donald trump and ted cruz",
									"./test_1k_compress/video7158.mp4",
									"./1k_frames_single/video7158.jpg",
									"video7158"
								],
								[
									"16",
									"280",
									"ret280",
									"msr9233",
									"video9233",
									"a man is giving a speech",
									"./test_1k_compress/video9233.mp4",
									"./1k_frames_single/video9233.jpg",
									"video9233"
								],
								[
									"17",
									"883",
									"ret883",
									"msr8687",
									"video8687",
									"fast moving time is shown here",
									"./test_1k_compress/video8687.mp4",
									"./1k_frames_single/video8687.jpg",
									"video8687"
								],
								[
									"18",
									"761",
									"ret761",
									"msr9337",
									"video9337",
									"some people are inside of a room",
									"./test_1k_compress/video9337.mp4",
									"./1k_frames_single/video9337.jpg",
									"video9337"
								],
								[
									"19",
									"319",
									"ret319",
									"msr9620",
									"video9620",
									"outer space pictures that have parts of equipments in them with water droplets on it",
									"./test_1k_compress/video9620.mp4",
									"./1k_frames_single/video9620.jpg",
									"video9620"
								],
								[
									"20",
									"549",
									"ret549",
									"msr7411",
									"video7411",
									"jolly good music troop delivering a program and the lady is in good spirit",
									"./test_1k_compress/video7411.mp4",
									"./1k_frames_single/video7411.jpg",
									"video7411"
								],
								[
									"21",
									"174",
									"ret174",
									"msr8514",
									"video8514",
									"a person is putting the vegetable in to the water and boil it",
									"./test_1k_compress/video8514.mp4",
									"./1k_frames_single/video8514.jpg",
									"video8514"
								],
								[
									"22",
									"371",
									"ret371",
									"msr8481",
									"video8481",
									"a woman is reporting on keds commercials",
									"./test_1k_compress/video8481.mp4",
									"./1k_frames_single/video8481.jpg",
									"video8481"
								],
								[
									"23",
									"527",
									"ret527",
									"msr9224",
									"video9224",
									"someone is playing a game",
									"./test_1k_compress/video9224.mp4",
									"./1k_frames_single/video9224.jpg",
									"video9224"
								],
								[
									"24",
									"210",
									"ret210",
									"msr8426",
									"video8426",
									"cabins on a sandy beach have walkways going up to their porches",
									"./test_1k_compress/video8426.mp4",
									"./1k_frames_single/video8426.jpg",
									"video8426"
								],
								[
									"25",
									"235",
									"ret235",
									"msr9699",
									"video9699",
									"a man explains how to do a experiment",
									"./test_1k_compress/video9699.mp4",
									"./1k_frames_single/video9699.jpg",
									"video9699"
								],
								[
									"26",
									"101",
									"ret101",
									"msr9882",
									"video9882",
									"a news reader is reading the news and asking question to some people",
									"./test_1k_compress/video9882.mp4",
									"./1k_frames_single/video9882.jpg",
									"video9882"
								],
								[
									"27",
									"986",
									"ret986",
									"msr8300",
									"video8300",
									"a woman pours water into her pot of meat then tomato sauce and stirs it all around while talking",
									"./test_1k_compress/video8300.mp4",
									"./1k_frames_single/video8300.jpg",
									"video8300"
								],
								[
									"28",
									"902",
									"ret902",
									"msr8863",
									"video8863",
									"an animated girl talks to a baby and plays with it",
									"./test_1k_compress/video8863.mp4",
									"./1k_frames_single/video8863.jpg",
									"video8863"
								],
								[
									"29",
									"947",
									"ret947",
									"msr7147",
									"video7147",
									"a man cooks burgers and bacon on a grill",
									"./test_1k_compress/video7147.mp4",
									"./1k_frames_single/video7147.jpg",
									"video7147"
								],
								[
									"30",
									"346",
									"ret346",
									"msr7744",
									"video7744",
									"a chef stirs up some ingredients inside of a pan",
									"./test_1k_compress/video7744.mp4",
									"./1k_frames_single/video7744.jpg",
									"video7744"
								],
								[
									"31",
									"139",
									"ret139",
									"msr7839",
									"video7839",
									"this is a vine sports compilation",
									"./test_1k_compress/video7839.mp4",
									"./1k_frames_single/video7839.jpg",
									"video7839"
								],
								[
									"32",
									"621",
									"ret621",
									"msr7214",
									"video7214",
									"race cars of different colors lined up on a dark track",
									"./test_1k_compress/video7214.mp4",
									"./1k_frames_single/video7214.jpg",
									"video7214"
								],
								[
									"33",
									"499",
									"ret499",
									"msr7771",
									"video7771",
									"a golf player is trying to hit the ball into the pit",
									"./test_1k_compress/video7771.mp4",
									"./1k_frames_single/video7771.jpg",
									"video7771"
								],
								[
									"34",
									"370",
									"ret370",
									"msr8486",
									"video8486",
									"a cartoon on a young guy cursing",
									"./test_1k_compress/video8486.mp4",
									"./1k_frames_single/video8486.jpg",
									"video8486"
								],
								[
									"35",
									"198",
									"ret198",
									"msr9909",
									"video9909",
									"a crowd of people sitting next to each other as one man plays a video game",
									"./test_1k_compress/video9909.mp4",
									"./1k_frames_single/video9909.jpg",
									"video9909"
								],
								[
									"36",
									"687",
									"ret687",
									"msr8922",
									"video8922",
									"an old man shakes hands with another man and then they hug each other",
									"./test_1k_compress/video8922.mp4",
									"./1k_frames_single/video8922.jpg",
									"video8922"
								],
								[
									"37",
									"584",
									"ret584",
									"msr9814",
									"video9814",
									"a scene from spongebob squarepants where the townspeople are carrying torches and chasing a giant squidward",
									"./test_1k_compress/video9814.mp4",
									"./1k_frames_single/video9814.jpg",
									"video9814"
								],
								[
									"38",
									"901",
									"ret901",
									"msr9368",
									"video9368",
									"someone demonstrates about the small motor uses to the video",
									"./test_1k_compress/video9368.mp4",
									"./1k_frames_single/video9368.jpg",
									"video9368"
								],
								[
									"39",
									"59",
									"ret59",
									"msr8820",
									"video8820",
									"a person comes up in the hill on a orange motor bike and falls down",
									"./test_1k_compress/video8820.mp4",
									"./1k_frames_single/video8820.jpg",
									"video8820"
								],
								[
									"40",
									"328",
									"ret328",
									"msr9452",
									"video9452",
									"an animated grey shark in the middle of a blue water simulation background rotating in a circle on the screen of a monitor",
									"./test_1k_compress/video9452.mp4",
									"./1k_frames_single/video9452.jpg",
									"video9452"
								],
								[
									"41",
									"96",
									"ret96",
									"msr9344",
									"video9344",
									"gameplay footage of someone playing a game",
									"./test_1k_compress/video9344.mp4",
									"./1k_frames_single/video9344.jpg",
									"video9344"
								],
								[
									"42",
									"312",
									"ret312",
									"msr9032",
									"video9032",
									"a hospital mortuary room and a doctor treat the special case",
									"./test_1k_compress/video9032.mp4",
									"./1k_frames_single/video9032.jpg",
									"video9032"
								],
								[
									"43",
									"974",
									"ret974",
									"msr9016",
									"video9016",
									"all persons are wearing bikini dresses and playing in sea",
									"./test_1k_compress/video9016.mp4",
									"./1k_frames_single/video9016.jpg",
									"video9016"
								],
								[
									"44",
									"299",
									"ret299",
									"msr9353",
									"video9353",
									"two women are outside and are discussing something in a foreign language",
									"./test_1k_compress/video9353.mp4",
									"./1k_frames_single/video9353.jpg",
									"video9353"
								],
								[
									"45",
									"277",
									"ret277",
									"msr9405",
									"video9405",
									"red balloons float in the sky and have packages tied to them",
									"./test_1k_compress/video9405.mp4",
									"./1k_frames_single/video9405.jpg",
									"video9405"
								],
								[
									"46",
									"924",
									"ret924",
									"msr7559",
									"video7559",
									"a man is trying some sushi",
									"./test_1k_compress/video7559.mp4",
									"./1k_frames_single/video7559.jpg",
									"video7559"
								],
								[
									"47",
									"601",
									"ret601",
									"msr9063",
									"video9063",
									"people on stage performing",
									"./test_1k_compress/video9063.mp4",
									"./1k_frames_single/video9063.jpg",
									"video9063"
								],
								[
									"48",
									"439",
									"ret439",
									"msr7352",
									"video7352",
									"a movie scene starring morgan freeman and men in armor running",
									"./test_1k_compress/video7352.mp4",
									"./1k_frames_single/video7352.jpg",
									"video7352"
								],
								[
									"49",
									"837",
									"ret837",
									"msr8447",
									"video8447",
									"a woman singing on the voice",
									"./test_1k_compress/video8447.mp4",
									"./1k_frames_single/video8447.jpg",
									"video8447"
								]
							],
							"shape": {
								"columns": 8,
								"rows": 1000
							}
						},
						"text/html": [
							"<div>\n",
							"<style scoped>\n",
							"    .dataframe tbody tr th:only-of-type {\n",
							"        vertical-align: middle;\n",
							"    }\n",
							"\n",
							"    .dataframe tbody tr th {\n",
							"        vertical-align: top;\n",
							"    }\n",
							"\n",
							"    .dataframe thead th {\n",
							"        text-align: right;\n",
							"    }\n",
							"</style>\n",
							"<table border=\"1\" class=\"dataframe\">\n",
							"  <thead>\n",
							"    <tr style=\"text-align: right;\">\n",
							"      <th></th>\n",
							"      <th>Unnamed: 0</th>\n",
							"      <th>key</th>\n",
							"      <th>vid_key</th>\n",
							"      <th>video_id</th>\n",
							"      <th>sentence</th>\n",
							"      <th>video_path</th>\n",
							"      <th>frame_path</th>\n",
							"      <th>frame_id</th>\n",
							"    </tr>\n",
							"  </thead>\n",
							"  <tbody>\n",
							"    <tr>\n",
							"      <th>0</th>\n",
							"      <td>521</td>\n",
							"      <td>ret521</td>\n",
							"      <td>msr7579</td>\n",
							"      <td>video7579</td>\n",
							"      <td>a girl wearing red top and black trouser is pu...</td>\n",
							"      <td>./test_1k_compress/video7579.mp4</td>\n",
							"      <td>./1k_frames_single/video7579.jpg</td>\n",
							"      <td>video7579</td>\n",
							"    </tr>\n",
							"    <tr>\n",
							"      <th>1</th>\n",
							"      <td>737</td>\n",
							"      <td>ret737</td>\n",
							"      <td>msr7725</td>\n",
							"      <td>video7725</td>\n",
							"      <td>young people sit around the edges of a room cl...</td>\n",
							"      <td>./test_1k_compress/video7725.mp4</td>\n",
							"      <td>./1k_frames_single/video7725.jpg</td>\n",
							"      <td>video7725</td>\n",
							"    </tr>\n",
							"    <tr>\n",
							"      <th>2</th>\n",
							"      <td>740</td>\n",
							"      <td>ret740</td>\n",
							"      <td>msr9258</td>\n",
							"      <td>video9258</td>\n",
							"      <td>a person is using a phone</td>\n",
							"      <td>./test_1k_compress/video9258.mp4</td>\n",
							"      <td>./1k_frames_single/video9258.jpg</td>\n",
							"      <td>video9258</td>\n",
							"    </tr>\n",
							"    <tr>\n",
							"      <th>3</th>\n",
							"      <td>660</td>\n",
							"      <td>ret660</td>\n",
							"      <td>msr7365</td>\n",
							"      <td>video7365</td>\n",
							"      <td>cartoon people are eating at a restaurant</td>\n",
							"      <td>./test_1k_compress/video7365.mp4</td>\n",
							"      <td>./1k_frames_single/video7365.jpg</td>\n",
							"      <td>video7365</td>\n",
							"    </tr>\n",
							"    <tr>\n",
							"      <th>4</th>\n",
							"      <td>411</td>\n",
							"      <td>ret411</td>\n",
							"      <td>msr8068</td>\n",
							"      <td>video8068</td>\n",
							"      <td>a woman on a couch talks to a a man</td>\n",
							"      <td>./test_1k_compress/video8068.mp4</td>\n",
							"      <td>./1k_frames_single/video8068.jpg</td>\n",
							"      <td>video8068</td>\n",
							"    </tr>\n",
							"    <tr>\n",
							"      <th>...</th>\n",
							"      <td>...</td>\n",
							"      <td>...</td>\n",
							"      <td>...</td>\n",
							"      <td>...</td>\n",
							"      <td>...</td>\n",
							"      <td>...</td>\n",
							"      <td>...</td>\n",
							"      <td>...</td>\n",
							"    </tr>\n",
							"    <tr>\n",
							"      <th>995</th>\n",
							"      <td>106</td>\n",
							"      <td>ret106</td>\n",
							"      <td>msr7034</td>\n",
							"      <td>video7034</td>\n",
							"      <td>man in black shirt is holding a baby upside do...</td>\n",
							"      <td>./test_1k_compress/video7034.mp4</td>\n",
							"      <td>./1k_frames_single/video7034.jpg</td>\n",
							"      <td>video7034</td>\n",
							"    </tr>\n",
							"    <tr>\n",
							"      <th>996</th>\n",
							"      <td>270</td>\n",
							"      <td>ret270</td>\n",
							"      <td>msr7568</td>\n",
							"      <td>video7568</td>\n",
							"      <td>the queen of england is seen walking with an e...</td>\n",
							"      <td>./test_1k_compress/video7568.mp4</td>\n",
							"      <td>./1k_frames_single/video7568.jpg</td>\n",
							"      <td>video7568</td>\n",
							"    </tr>\n",
							"    <tr>\n",
							"      <th>997</th>\n",
							"      <td>860</td>\n",
							"      <td>ret860</td>\n",
							"      <td>msr7979</td>\n",
							"      <td>video7979</td>\n",
							"      <td>people talking about a fight</td>\n",
							"      <td>./test_1k_compress/video7979.mp4</td>\n",
							"      <td>./1k_frames_single/video7979.jpg</td>\n",
							"      <td>video7979</td>\n",
							"    </tr>\n",
							"    <tr>\n",
							"      <th>998</th>\n",
							"      <td>435</td>\n",
							"      <td>ret435</td>\n",
							"      <td>msr7356</td>\n",
							"      <td>video7356</td>\n",
							"      <td>a vehicle with details on what comes with it b...</td>\n",
							"      <td>./test_1k_compress/video7356.mp4</td>\n",
							"      <td>./1k_frames_single/video7356.jpg</td>\n",
							"      <td>video7356</td>\n",
							"    </tr>\n",
							"    <tr>\n",
							"      <th>999</th>\n",
							"      <td>102</td>\n",
							"      <td>ret102</td>\n",
							"      <td>msr8578</td>\n",
							"      <td>video8578</td>\n",
							"      <td>a man is commentating while playing minecraft</td>\n",
							"      <td>./test_1k_compress/video8578.mp4</td>\n",
							"      <td>./1k_frames_single/video8578.jpg</td>\n",
							"      <td>video8578</td>\n",
							"    </tr>\n",
							"  </tbody>\n",
							"</table>\n",
							"<p>1000 rows × 8 columns</p>\n",
							"</div>"
						],
						"text/plain": [
							"     Unnamed: 0     key  vid_key   video_id  \\\n",
							"0           521  ret521  msr7579  video7579   \n",
							"1           737  ret737  msr7725  video7725   \n",
							"2           740  ret740  msr9258  video9258   \n",
							"3           660  ret660  msr7365  video7365   \n",
							"4           411  ret411  msr8068  video8068   \n",
							"..          ...     ...      ...        ...   \n",
							"995         106  ret106  msr7034  video7034   \n",
							"996         270  ret270  msr7568  video7568   \n",
							"997         860  ret860  msr7979  video7979   \n",
							"998         435  ret435  msr7356  video7356   \n",
							"999         102  ret102  msr8578  video8578   \n",
							"\n",
							"                                              sentence  \\\n",
							"0    a girl wearing red top and black trouser is pu...   \n",
							"1    young people sit around the edges of a room cl...   \n",
							"2                            a person is using a phone   \n",
							"3            cartoon people are eating at a restaurant   \n",
							"4                  a woman on a couch talks to a a man   \n",
							"..                                                 ...   \n",
							"995  man in black shirt is holding a baby upside do...   \n",
							"996  the queen of england is seen walking with an e...   \n",
							"997                       people talking about a fight   \n",
							"998  a vehicle with details on what comes with it b...   \n",
							"999      a man is commentating while playing minecraft   \n",
							"\n",
							"                           video_path                        frame_path  \\\n",
							"0    ./test_1k_compress/video7579.mp4  ./1k_frames_single/video7579.jpg   \n",
							"1    ./test_1k_compress/video7725.mp4  ./1k_frames_single/video7725.jpg   \n",
							"2    ./test_1k_compress/video9258.mp4  ./1k_frames_single/video9258.jpg   \n",
							"3    ./test_1k_compress/video7365.mp4  ./1k_frames_single/video7365.jpg   \n",
							"4    ./test_1k_compress/video8068.mp4  ./1k_frames_single/video8068.jpg   \n",
							"..                                ...                               ...   \n",
							"995  ./test_1k_compress/video7034.mp4  ./1k_frames_single/video7034.jpg   \n",
							"996  ./test_1k_compress/video7568.mp4  ./1k_frames_single/video7568.jpg   \n",
							"997  ./test_1k_compress/video7979.mp4  ./1k_frames_single/video7979.jpg   \n",
							"998  ./test_1k_compress/video7356.mp4  ./1k_frames_single/video7356.jpg   \n",
							"999  ./test_1k_compress/video8578.mp4  ./1k_frames_single/video8578.jpg   \n",
							"\n",
							"      frame_id  \n",
							"0    video7579  \n",
							"1    video7725  \n",
							"2    video9258  \n",
							"3    video7365  \n",
							"4    video8068  \n",
							"..         ...  \n",
							"995  video7034  \n",
							"996  video7568  \n",
							"997  video7979  \n",
							"998  video7356  \n",
							"999  video8578  \n",
							"\n",
							"[1000 rows x 8 columns]"
						]
					},
					"execution_count": 5,
					"metadata": {},
					"output_type": "execute_result"
				}
			],
			"source": [
				"single_frame_samples_df = create_single_frame_dataset(raw_samples_df)\n",
				"single_frame_samples_df"
			]
		},
		{
			"cell_type": "markdown",
			"id": "6820e1c4",
			"metadata": {},
			"source": [
				"We write the transformed samples data to a CSV file so it can be loaded into the load pipeline."
			]
		},
		{
			"cell_type": "code",
			"execution_count": 6,
			"id": "f40becdb",
			"metadata": {},
			"outputs": [],
			"source": [
				"single_frame_samples_df[['video_id', 'frame_path', 'frame_id', 'sentence']].to_csv(MSRVTT_SAMPLES_SINGLE_FRAME, index=False)"
			]
		},
		{
			"cell_type": "markdown",
			"id": "a28507fb",
			"metadata": {},
			"source": [
				"We create a collection to add the embedded frames to"
			]
		},
		{
			"cell_type": "code",
			"execution_count": 7,
			"id": "b7381872",
			"metadata": {},
			"outputs": [
				{
					"data": {
						"text/plain": [
							"<Collection>:\n",
							"-------------\n",
							"<name>: single_frame_ret\n",
							"<description>: video retrieval\n",
							"<schema>: {'auto_id': False, 'description': 'video retrieval', 'fields': [{'name': 'id', 'description': '', 'type': <DataType.INT64: 5>, 'is_primary': True, 'auto_id': False}, {'name': 'embedding', 'description': '', 'type': <DataType.FLOAT_VECTOR: 101>, 'params': {'dim': 512}}]}"
						]
					},
					"execution_count": 7,
					"metadata": {},
					"output_type": "execute_result"
				}
			],
			"source": [
				"# Create the collection in Milvus to store image embeddings\n",
				"milvus_utils.create_milvus_collection(FRAME_RET_COLLECTION, 512)"
			]
		},
		{
			"cell_type": "code",
			"execution_count": 8,
			"id": "84a9beba",
			"metadata": {},
			"outputs": [
				{
					"name": "stderr",
					"output_type": "stream",
					"text": [
						"2025-04-17 12:33:54,927 - 8454604864 - clip.py-clip:100 - WARNING: Gpu not available, use cpu\n",
						"2025-04-17 12:33:54,946 - 8454604864 - connectionpool.py-connectionpool:1049 - DEBUG: Starting new HTTPS connection (1): huggingface.co:443\n",
						"2025-04-17 12:33:55,028 - 8454604864 - connectionpool.py-connectionpool:544 - DEBUG: https://huggingface.co:443 \"HEAD /openai/clip-vit-base-patch16/resolve/main/config.json HTTP/1.1\" 200 0\n",
						"2025-04-17 12:33:55,065 - 8454604864 - connectionpool.py-connectionpool:544 - DEBUG: https://huggingface.co:443 \"HEAD /openai/clip-vit-base-patch16/resolve/main/config.json HTTP/1.1\" 200 0\n",
						"2025-04-17 12:33:55,105 - 8454604864 - connectionpool.py-connectionpool:544 - DEBUG: https://huggingface.co:443 \"HEAD /openai/clip-vit-base-patch16/resolve/main/model.safetensors HTTP/1.1\" 404 0\n",
						"2025-04-17 12:33:55,107 - 14456926208 - connectionpool.py-connectionpool:1049 - DEBUG: Starting new HTTPS connection (1): huggingface.co:443\n",
						"2025-04-17 12:33:55,162 - 14456926208 - connectionpool.py-connectionpool:544 - DEBUG: https://huggingface.co:443 \"GET /api/models/openai/clip-vit-base-patch16 HTTP/1.1\" 200 3499\n",
						"2025-04-17 12:33:55,201 - 8454604864 - connectionpool.py-connectionpool:544 - DEBUG: https://huggingface.co:443 \"HEAD /openai/clip-vit-base-patch16/resolve/main/tokenizer_config.json HTTP/1.1\" 200 0\n",
						"2025-04-17 12:33:55,221 - 14456926208 - connectionpool.py-connectionpool:544 - DEBUG: https://huggingface.co:443 \"GET /api/models/openai/clip-vit-base-patch16/commits/main HTTP/1.1\" 200 3099\n",
						"2025-04-17 12:33:55,343 - 14456926208 - connectionpool.py-connectionpool:544 - DEBUG: https://huggingface.co:443 \"GET /api/models/openai/clip-vit-base-patch16/discussions?p=0 HTTP/1.1\" 200 6380\n",
						"2025-04-17 12:33:55,426 - 8454604864 - connectionpool.py-connectionpool:544 - DEBUG: https://huggingface.co:443 \"HEAD /openai/clip-vit-base-patch16/resolve/main/preprocessor_config.json HTTP/1.1\" 200 0\n",
						"2025-04-17 12:33:55,450 - 14456926208 - connectionpool.py-connectionpool:544 - DEBUG: https://huggingface.co:443 \"GET /api/models/openai/clip-vit-base-patch16/commits/refs%2Fpr%2F10 HTTP/1.1\" 200 4064\n",
						"2025-04-17 12:33:55,487 - 14456926208 - connectionpool.py-connectionpool:544 - DEBUG: https://huggingface.co:443 \"HEAD /openai/clip-vit-base-patch16/resolve/refs%2Fpr%2F10/model.safetensors.index.json HTTP/1.1\" 404 0\n",
						"2025-04-17 12:33:55,491 - 8454604864 - connectionpool.py-connectionpool:544 - DEBUG: https://huggingface.co:443 \"HEAD /openai/clip-vit-base-patch16/resolve/main/tokenizer_config.json HTTP/1.1\" 200 0\n",
						"2025-04-17 12:33:55,573 - 14456926208 - connectionpool.py-connectionpool:544 - DEBUG: https://huggingface.co:443 \"HEAD /openai/clip-vit-base-patch16/resolve/refs%2Fpr%2F10/model.safetensors HTTP/1.1\" 302 0\n",
						"2025-04-17 12:33:55,750 - 8454604864 - connectionpool.py-connectionpool:544 - DEBUG: https://huggingface.co:443 \"HEAD /openai/clip-vit-base-patch16/resolve/main/processor_config.json HTTP/1.1\" 404 0\n",
						"2025-04-17 12:33:55,782 - 8454604864 - connectionpool.py-connectionpool:544 - DEBUG: https://huggingface.co:443 \"HEAD /openai/clip-vit-base-patch16/resolve/main/chat_template.json HTTP/1.1\" 404 0\n",
						"2025-04-17 12:33:55,816 - 8454604864 - connectionpool.py-connectionpool:544 - DEBUG: https://huggingface.co:443 \"HEAD /openai/clip-vit-base-patch16/resolve/main/chat_template.jinja HTTP/1.1\" 404 0\n"
					]
				}
			],
			"source": [
				"def read_frame_loader_csv(csv_path, encoding='utf-8-sig'):\n",
				"    with open(csv_path, 'r', encoding=encoding) as f:\n",
				"        data = csv.DictReader(f)\n",
				"        for line in data:\n",
				"            raw_id = line['frame_id']\n",
				"            cleaned_id = raw_id[len('video'):]\n",
				"            yield int(cleaned_id), line['frame_path']\n",
				"\n",
				"single_frame_loader_pipeline = (\n",
				"    pipe.input('csv_file')\n",
				"    .flat_map('csv_file', ('frame_id', 'frame_path'), read_frame_loader_csv)\n",
				"    .map('frame_path', 'img', ops.image_decode.cv2('rgb'))\n",
				"    .map('img', 'vec', ops.image_text_embedding.clip(model_name='clip_vit_base_patch16', modality='image', device='mps'))\n",
				"    .map('vec', 'vec', lambda x: x / np.linalg.norm(x))\n",
				"    .map(('frame_id', 'vec'), (), ops.ann_insert.milvus_client(collection_name=FRAME_RET_COLLECTION))\n",
				"    .output()\n",
				")"
			]
		},
		{
			"cell_type": "code",
			"execution_count": 9,
			"id": "d352597e",
			"metadata": {},
			"outputs": [
				{
					"name": "stderr",
					"output_type": "stream",
					"text": [
						"2025-04-17 12:33:55,938 - 15585062912 - node.py-node:167 - INFO: Begin to run Node-_input\n",
						"2025-04-17 12:33:55,939 - 15601889280 - node.py-node:167 - INFO: Begin to run Node-read_frame_loader_csv-0\n",
						"2025-04-17 12:33:55,939 - 15618715648 - node.py-node:167 - INFO: Begin to run Node-image-decode/cv2-1\n",
						"2025-04-17 12:33:55,939 - 15635542016 - node.py-node:167 - INFO: Begin to run Node-image-text-embedding/clip-2\n",
						"2025-04-17 12:33:55,939 - 15652368384 - node.py-node:167 - INFO: Begin to run Node-lambda-3\n",
						"2025-04-17 12:33:55,940 - 15669194752 - node.py-node:167 - INFO: Begin to run Node-ann-insert/milvus-client-4\n",
						"2025-04-17 12:33:55,940 - 15585062912 - node.py-node:167 - INFO: Begin to run Node-_output\n"
					]
				},
				{
					"data": {
						"text/plain": [
							"<towhee.runtime.data_queue.DataQueue at 0x316715e70>"
						]
					},
					"execution_count": 9,
					"metadata": {},
					"output_type": "execute_result"
				}
			],
			"source": [
				"single_frame_loader_pipeline(MSRVTT_SAMPLES_SINGLE_FRAME)"
			]
		},
		{
			"cell_type": "markdown",
			"id": "78ea6b4c",
			"metadata": {},
			"source": [
				"1000 single frame embeddings are now loaded! Next, we query the collection against the MSRVTT annotations first."
			]
		},
		{
			"cell_type": "code",
			"execution_count": 15,
			"id": "641f13e0",
			"metadata": {},
			"outputs": [
				{
					"name": "stderr",
					"output_type": "stream",
					"text": [
						"2025-04-17 12:38:57,365 - 8454604864 - clip.py-clip:100 - WARNING: Gpu not available, use cpu\n",
						"2025-04-17 12:38:57,399 - 8454604864 - connectionpool.py-connectionpool:544 - DEBUG: https://huggingface.co:443 \"HEAD /openai/clip-vit-base-patch16/resolve/main/config.json HTTP/1.1\" 200 0\n",
						"2025-04-17 12:38:57,430 - 8454604864 - connectionpool.py-connectionpool:544 - DEBUG: https://huggingface.co:443 \"HEAD /openai/clip-vit-base-patch16/resolve/main/config.json HTTP/1.1\" 200 0\n",
						"2025-04-17 12:38:57,488 - 8454604864 - connectionpool.py-connectionpool:544 - DEBUG: https://huggingface.co:443 \"HEAD /openai/clip-vit-base-patch16/resolve/main/model.safetensors HTTP/1.1\" 404 0\n",
						"2025-04-17 12:38:57,500 - 15829102592 - connectionpool.py-connectionpool:1049 - DEBUG: Starting new HTTPS connection (1): huggingface.co:443\n",
						"2025-04-17 12:38:57,590 - 15829102592 - connectionpool.py-connectionpool:544 - DEBUG: https://huggingface.co:443 \"GET /api/models/openai/clip-vit-base-patch16 HTTP/1.1\" 200 3499\n",
						"2025-04-17 12:38:57,602 - 8454604864 - connectionpool.py-connectionpool:544 - DEBUG: https://huggingface.co:443 \"HEAD /openai/clip-vit-base-patch16/resolve/main/tokenizer_config.json HTTP/1.1\" 200 0\n",
						"2025-04-17 12:38:57,645 - 15829102592 - connectionpool.py-connectionpool:544 - DEBUG: https://huggingface.co:443 \"GET /api/models/openai/clip-vit-base-patch16/commits/main HTTP/1.1\" 200 3099\n",
						"2025-04-17 12:38:57,697 - 8454604864 - connectionpool.py-connectionpool:544 - DEBUG: https://huggingface.co:443 \"HEAD /openai/clip-vit-base-patch16/resolve/main/preprocessor_config.json HTTP/1.1\" 200 0\n",
						"2025-04-17 12:38:57,703 - 15829102592 - connectionpool.py-connectionpool:544 - DEBUG: https://huggingface.co:443 \"GET /api/models/openai/clip-vit-base-patch16/discussions?p=0 HTTP/1.1\" 200 6380\n",
						"2025-04-17 12:38:57,726 - 8454604864 - connectionpool.py-connectionpool:544 - DEBUG: https://huggingface.co:443 \"HEAD /openai/clip-vit-base-patch16/resolve/main/tokenizer_config.json HTTP/1.1\" 200 0\n",
						"2025-04-17 12:38:57,801 - 15829102592 - connectionpool.py-connectionpool:544 - DEBUG: https://huggingface.co:443 \"GET /api/models/openai/clip-vit-base-patch16/commits/refs%2Fpr%2F10 HTTP/1.1\" 200 4064\n",
						"2025-04-17 12:38:57,832 - 15829102592 - connectionpool.py-connectionpool:544 - DEBUG: https://huggingface.co:443 \"HEAD /openai/clip-vit-base-patch16/resolve/refs%2Fpr%2F10/model.safetensors.index.json HTTP/1.1\" 404 0\n",
						"2025-04-17 12:38:57,838 - 8454604864 - connectionpool.py-connectionpool:544 - DEBUG: https://huggingface.co:443 \"HEAD /openai/clip-vit-base-patch16/resolve/main/processor_config.json HTTP/1.1\" 404 0\n",
						"2025-04-17 12:38:57,863 - 15829102592 - connectionpool.py-connectionpool:544 - DEBUG: https://huggingface.co:443 \"HEAD /openai/clip-vit-base-patch16/resolve/refs%2Fpr%2F10/model.safetensors HTTP/1.1\" 302 0\n",
						"2025-04-17 12:38:57,873 - 8454604864 - connectionpool.py-connectionpool:544 - DEBUG: https://huggingface.co:443 \"HEAD /openai/clip-vit-base-patch16/resolve/main/chat_template.json HTTP/1.1\" 404 0\n",
						"2025-04-17 12:38:57,908 - 8454604864 - connectionpool.py-connectionpool:544 - DEBUG: https://huggingface.co:443 \"HEAD /openai/clip-vit-base-patch16/resolve/main/chat_template.jinja HTTP/1.1\" 404 0\n",
						"2025-04-17 12:38:58,043 - 15920574464 - node.py-node:167 - INFO: Begin to run Node-_input\n",
						"2025-04-17 12:38:58,043 - 15744970752 - node.py-node:167 - INFO: Begin to run Node-read_frame_search_csv-0\n",
						"2025-04-17 12:38:58,043 - 15761797120 - node.py-node:167 - INFO: Begin to run Node-image-text-embedding/clip-1\n",
						"2025-04-17 12:38:58,044 - 15920574464 - node.py-node:167 - INFO: Begin to run Node-lambda-2\n",
						"2025-04-17 12:38:58,044 - 15778623488 - node.py-node:167 - INFO: Begin to run Node-ann-search/milvus-client-3\n",
						"2025-04-17 12:38:58,044 - 15795449856 - node.py-node:167 - INFO: Begin to run Node-lambda-4\n",
						"2025-04-17 12:38:58,044 - 15812276224 - node.py-node:167 - INFO: Begin to run Node-_output\n"
					]
				}
			],
			"source": [
				"def read_frame_search_csv(csv_file):\n",
				"    with open(csv_file, 'r', encoding='utf-8-sig') as f:\n",
				"        data = csv.DictReader(f)\n",
				"        for line in data:\n",
				"            yield line['frame_id'], line['sentence']\n",
				"            \n",
				"frame_search_pipeline = (\n",
				"    pipe.input('csv_file')\n",
				"    .flat_map('csv_file', ('rel_frame_id', 'query'), read_frame_search_csv)\n",
				"    .map('query', 'vec', ops.image_text_embedding.clip(model_name='clip_vit_base_patch16', modality='text', device='mps'))\n",
				"    .map('vec', 'vec', lambda x: x / np.linalg.norm(x))\n",
				"    .map('vec', 'top15_raw_res', ops.ann_search.milvus_client(collection_name=FRAME_RET_COLLECTION, limit=15))\n",
				"    .map('top15_raw_res', ('top1', 'top5', 'top10', 'top15'), lambda x: (x[:1], x[:5], x[:10], x[:15]))\n",
				"    .output('rel_frame_id', 'query', 'top1', 'top5', 'top10', 'top15')\n",
				")\n",
				"\n",
				"queries_ret_dc = DataCollection(frame_search_pipeline(MSRVTT_SAMPLES_SINGLE_FRAME))"
			]
		},
		{
			"cell_type": "code",
			"execution_count": 16,
			"id": "dab70054",
			"metadata": {},
			"outputs": [
				{
					"data": {
						"text/html": [
							"<table style=\"border-collapse: collapse;\"><tr><th style=\"text-align: center; font-size: 130%; border: none;\">rel_frame_id</th> <th style=\"text-align: center; font-size: 130%; border: none;\">query</th> <th style=\"text-align: center; font-size: 130%; border: none;\">top1</th> <th style=\"text-align: center; font-size: 130%; border: none;\">top5</th> <th style=\"text-align: center; font-size: 130%; border: none;\">top10</th> <th style=\"text-align: center; font-size: 130%; border: none;\">top15</th></tr>\n",
							"<tr><td style=\"text-align: center; vertical-align: top; border-right: solid 1px #D3D3D3; border-left: solid 1px #D3D3D3; \">video7579</td><td style=\"text-align: center; vertical-align: top; border-right: solid 1px #D3D3D3; border-left: solid 1px #D3D3D3; \">a girl wearing red top and black trouser is putting a sweater on a dog</td><td style=\"text-align: left; vertical-align: top; border-right: solid 1px #D3D3D3; border-left: solid 1px #D3D3D3; \">[[7579, 1.4025176763534546]] len=1</td><td style=\"text-align: left; vertical-align: top; border-right: solid 1px #D3D3D3; border-left: solid 1px #D3D3D3; \">[[7579, 1.4025176763534546],[7113, 1.4259119033813477],[8044, 1.4578959941864014],[7361, 1.4616591930389404],...] len=5</td><td style=\"text-align: left; vertical-align: top; border-right: solid 1px #D3D3D3; border-left: solid 1px #D3D3D3; \">[[7579, 1.4025176763534546],[7113, 1.4259119033813477],[8044, 1.4578959941864014],[7361, 1.4616591930389404],...] len=10</td><td style=\"text-align: left; vertical-align: top; border-right: solid 1px #D3D3D3; border-left: solid 1px #D3D3D3; \">[[7579, 1.4025176763534546],[7113, 1.4259119033813477],[8044, 1.4578959941864014],[7361, 1.4616591930389404],...] len=15</td></tr>\n",
							"<tr><td style=\"text-align: center; vertical-align: top; border-right: solid 1px #D3D3D3; border-left: solid 1px #D3D3D3; \">video7725</td><td style=\"text-align: center; vertical-align: top; border-right: solid 1px #D3D3D3; border-left: solid 1px #D3D3D3; \">young people sit around the edges of a room clapping and raising their arms while others dance in the center during a party</td><td style=\"text-align: left; vertical-align: top; border-right: solid 1px #D3D3D3; border-left: solid 1px #D3D3D3; \">[[8441, 1.3825130462646484]] len=1</td><td style=\"text-align: left; vertical-align: top; border-right: solid 1px #D3D3D3; border-left: solid 1px #D3D3D3; \">[[8441, 1.3825130462646484],[7725, 1.4156618118286133],[9908, 1.4577584266662598],[9600, 1.4639201164245605],...] len=5</td><td style=\"text-align: left; vertical-align: top; border-right: solid 1px #D3D3D3; border-left: solid 1px #D3D3D3; \">[[8441, 1.3825130462646484],[7725, 1.4156618118286133],[9908, 1.4577584266662598],[9600, 1.4639201164245605],...] len=10</td><td style=\"text-align: left; vertical-align: top; border-right: solid 1px #D3D3D3; border-left: solid 1px #D3D3D3; \">[[8441, 1.3825130462646484],[7725, 1.4156618118286133],[9908, 1.4577584266662598],[9600, 1.4639201164245605],...] len=15</td></tr>\n",
							"<tr><td style=\"text-align: center; vertical-align: top; border-right: solid 1px #D3D3D3; border-left: solid 1px #D3D3D3; \">video9258</td><td style=\"text-align: center; vertical-align: top; border-right: solid 1px #D3D3D3; border-left: solid 1px #D3D3D3; \">a person is using a phone</td><td style=\"text-align: left; vertical-align: top; border-right: solid 1px #D3D3D3; border-left: solid 1px #D3D3D3; \">[[7728, 1.4489479064941406]] len=1</td><td style=\"text-align: left; vertical-align: top; border-right: solid 1px #D3D3D3; border-left: solid 1px #D3D3D3; \">[[7728, 1.4489479064941406],[7029, 1.4623463153839111],[9258, 1.4660117626190186],[9257, 1.4693928956985474],...] len=5</td><td style=\"text-align: left; vertical-align: top; border-right: solid 1px #D3D3D3; border-left: solid 1px #D3D3D3; \">[[7728, 1.4489479064941406],[7029, 1.4623463153839111],[9258, 1.4660117626190186],[9257, 1.4693928956985474],...] len=10</td><td style=\"text-align: left; vertical-align: top; border-right: solid 1px #D3D3D3; border-left: solid 1px #D3D3D3; \">[[7728, 1.4489479064941406],[7029, 1.4623463153839111],[9258, 1.4660117626190186],[9257, 1.4693928956985474],...] len=15</td></tr>\n",
							"<tr><td style=\"text-align: center; vertical-align: top; border-right: solid 1px #D3D3D3; border-left: solid 1px #D3D3D3; \">video7365</td><td style=\"text-align: center; vertical-align: top; border-right: solid 1px #D3D3D3; border-left: solid 1px #D3D3D3; \">cartoon people are eating at a restaurant</td><td style=\"text-align: left; vertical-align: top; border-right: solid 1px #D3D3D3; border-left: solid 1px #D3D3D3; \">[[8911, 1.4093154668807983]] len=1</td><td style=\"text-align: left; vertical-align: top; border-right: solid 1px #D3D3D3; border-left: solid 1px #D3D3D3; \">[[8911, 1.4093154668807983],[9777, 1.4120123386383057],[7365, 1.4395549297332764],[7747, 1.4573276042938232],...] len=5</td><td style=\"text-align: left; vertical-align: top; border-right: solid 1px #D3D3D3; border-left: solid 1px #D3D3D3; \">[[8911, 1.4093154668807983],[9777, 1.4120123386383057],[7365, 1.4395549297332764],[7747, 1.4573276042938232],...] len=10</td><td style=\"text-align: left; vertical-align: top; border-right: solid 1px #D3D3D3; border-left: solid 1px #D3D3D3; \">[[8911, 1.4093154668807983],[9777, 1.4120123386383057],[7365, 1.4395549297332764],[7747, 1.4573276042938232],...] len=15</td></tr>\n",
							"<tr><td style=\"text-align: center; vertical-align: top; border-right: solid 1px #D3D3D3; border-left: solid 1px #D3D3D3; \">video8068</td><td style=\"text-align: center; vertical-align: top; border-right: solid 1px #D3D3D3; border-left: solid 1px #D3D3D3; \">a woman on a couch talks to a a man</td><td style=\"text-align: left; vertical-align: top; border-right: solid 1px #D3D3D3; border-left: solid 1px #D3D3D3; \">[[9793, 1.3899463415145874]] len=1</td><td style=\"text-align: left; vertical-align: top; border-right: solid 1px #D3D3D3; border-left: solid 1px #D3D3D3; \">[[9793, 1.3899463415145874],[7724, 1.4295322895050049],[7549, 1.4335342645645142],[8074, 1.438852071762085],...] len=5</td><td style=\"text-align: left; vertical-align: top; border-right: solid 1px #D3D3D3; border-left: solid 1px #D3D3D3; \">[[9793, 1.3899463415145874],[7724, 1.4295322895050049],[7549, 1.4335342645645142],[8074, 1.438852071762085],...] len=10</td><td style=\"text-align: left; vertical-align: top; border-right: solid 1px #D3D3D3; border-left: solid 1px #D3D3D3; \">[[9793, 1.3899463415145874],[7724, 1.4295322895050049],[7549, 1.4335342645645142],[8074, 1.438852071762085],...] len=15</td></tr></table>"
						],
						"text/plain": [
							"<IPython.core.display.HTML object>"
						]
					},
					"metadata": {},
					"output_type": "display_data"
				}
			],
			"source": [
				"queries_ret_dc.show()"
			]
		},
		{
			"cell_type": "code",
			"execution_count": 21,
			"id": "2b8a22f3",
			"metadata": {},
			"outputs": [
				{
					"data": {
						"application/vnd.microsoft.datawrangler.viewer.v0+json": {
							"columns": [
								{
									"name": "index",
									"rawType": "int64",
									"type": "integer"
								},
								{
									"name": "rel_frame_id",
									"rawType": "object",
									"type": "string"
								},
								{
									"name": "query",
									"rawType": "object",
									"type": "string"
								},
								{
									"name": "top1",
									"rawType": "object",
									"type": "unknown"
								},
								{
									"name": "top5",
									"rawType": "object",
									"type": "unknown"
								},
								{
									"name": "top10",
									"rawType": "object",
									"type": "unknown"
								},
								{
									"name": "top15",
									"rawType": "object",
									"type": "unknown"
								},
								{
									"name": "ground_truth",
									"rawType": "int64",
									"type": "integer"
								}
							],
							"conversionMethod": "pd.DataFrame",
							"ref": "852f8ea9-dfa0-42e7-b1e3-202ca6357ac4",
							"rows": [
								[
									"0",
									"video7579",
									"a girl wearing red top and black trouser is putting a sweater on a dog",
									"[[7579, 1.4025176763534546]]",
									"[[7579, 1.4025176763534546], [7113, 1.4259119033813477], [8044, 1.4578959941864014], [7361, 1.4616591930389404], [9232, 1.4691909551620483]]",
									"[[7579, 1.4025176763534546], [7113, 1.4259119033813477], [8044, 1.4578959941864014], [7361, 1.4616591930389404], [9232, 1.4691909551620483], [9639, 1.471923589706421], [9034, 1.4795992374420166], [8316, 1.482041597366333], [9405, 1.4854382276535034], [9341, 1.4869102239608765]]",
									"[[7579, 1.4025176763534546], [7113, 1.4259119033813477], [8044, 1.4578959941864014], [7361, 1.4616591930389404], [9232, 1.4691909551620483], [9639, 1.471923589706421], [9034, 1.4795992374420166], [8316, 1.482041597366333], [9405, 1.4854382276535034], [9341, 1.4869102239608765], [7558, 1.4891583919525146], [9810, 1.4901560544967651], [9228, 1.4933075904846191], [7836, 1.4952659606933594], [8899, 1.5026090145111084]]",
									"7579"
								],
								[
									"1",
									"video7725",
									"young people sit around the edges of a room clapping and raising their arms while others dance in the center during a party",
									"[[8441, 1.3825130462646484]]",
									"[[8441, 1.3825130462646484], [7725, 1.4156618118286133], [9908, 1.4577584266662598], [9600, 1.4639201164245605], [8556, 1.4698070287704468]]",
									"[[8441, 1.3825130462646484], [7725, 1.4156618118286133], [9908, 1.4577584266662598], [9600, 1.4639201164245605], [8556, 1.4698070287704468], [7141, 1.4831137657165527], [9834, 1.4834449291229248], [8339, 1.4839773178100586], [7144, 1.4846075773239136], [7747, 1.485468864440918]]",
									"[[8441, 1.3825130462646484], [7725, 1.4156618118286133], [9908, 1.4577584266662598], [9600, 1.4639201164245605], [8556, 1.4698070287704468], [7141, 1.4831137657165527], [9834, 1.4834449291229248], [8339, 1.4839773178100586], [7144, 1.4846075773239136], [7747, 1.485468864440918], [9063, 1.4871262311935425], [8466, 1.4915982484817505], [9326, 1.4964816570281982], [7444, 1.5049891471862793], [9752, 1.5071680545806885]]",
									"7725"
								],
								[
									"2",
									"video9258",
									"a person is using a phone",
									"[[7728, 1.4489479064941406]]",
									"[[7728, 1.4489479064941406], [7029, 1.4623463153839111], [9258, 1.4660117626190186], [9257, 1.4693928956985474], [7345, 1.4708770513534546]]",
									"[[7728, 1.4489479064941406], [7029, 1.4623463153839111], [9258, 1.4660117626190186], [9257, 1.4693928956985474], [7345, 1.4708770513534546], [7566, 1.4801678657531738], [7350, 1.4845553636550903], [8817, 1.491389513015747], [7363, 1.4914157390594482], [8688, 1.4921112060546875]]",
									"[[7728, 1.4489479064941406], [7029, 1.4623463153839111], [9258, 1.4660117626190186], [9257, 1.4693928956985474], [7345, 1.4708770513534546], [7566, 1.4801678657531738], [7350, 1.4845553636550903], [8817, 1.491389513015747], [7363, 1.4914157390594482], [8688, 1.4921112060546875], [8306, 1.492516040802002], [7687, 1.4926059246063232], [9697, 1.4937713146209717], [9324, 1.4950454235076904], [9603, 1.4965839385986328]]",
									"9258"
								],
								[
									"3",
									"video7365",
									"cartoon people are eating at a restaurant",
									"[[8911, 1.4093154668807983]]",
									"[[8911, 1.4093154668807983], [9777, 1.4120123386383057], [7365, 1.4395549297332764], [7747, 1.4573276042938232], [8781, 1.4693158864974976]]",
									"[[8911, 1.4093154668807983], [9777, 1.4120123386383057], [7365, 1.4395549297332764], [7747, 1.4573276042938232], [8781, 1.4693158864974976], [8129, 1.481391191482544], [7835, 1.4823949337005615], [7977, 1.491424322128296], [9537, 1.4925481081008911], [9403, 1.4940742254257202]]",
									"[[8911, 1.4093154668807983], [9777, 1.4120123386383057], [7365, 1.4395549297332764], [7747, 1.4573276042938232], [8781, 1.4693158864974976], [8129, 1.481391191482544], [7835, 1.4823949337005615], [7977, 1.491424322128296], [9537, 1.4925481081008911], [9403, 1.4940742254257202], [9814, 1.4943742752075195], [9022, 1.4975552558898926], [8268, 1.4982686042785645], [9458, 1.4984867572784424], [9350, 1.501800298690796]]",
									"7365"
								],
								[
									"4",
									"video8068",
									"a woman on a couch talks to a a man",
									"[[9793, 1.3899463415145874]]",
									"[[9793, 1.3899463415145874], [7724, 1.4295322895050049], [7549, 1.4335342645645142], [8074, 1.438852071762085], [7341, 1.4511957168579102]]",
									"[[9793, 1.3899463415145874], [7724, 1.4295322895050049], [7549, 1.4335342645645142], [8074, 1.438852071762085], [7341, 1.4511957168579102], [8783, 1.454378604888916], [8813, 1.4555070400238037], [7118, 1.4559985399246216], [7546, 1.4587664604187012], [7685, 1.46127188205719]]",
									"[[9793, 1.3899463415145874], [7724, 1.4295322895050049], [7549, 1.4335342645645142], [8074, 1.438852071762085], [7341, 1.4511957168579102], [8783, 1.454378604888916], [8813, 1.4555070400238037], [7118, 1.4559985399246216], [7546, 1.4587664604187012], [7685, 1.46127188205719], [7162, 1.4642119407653809], [8917, 1.4647417068481445], [8265, 1.4710949659347534], [9517, 1.4733972549438477], [7234, 1.473759412765503]]",
									"8068"
								],
								[
									"5",
									"video7131",
									"athletes are getting ready and start running for an event",
									"[[8264, 1.4242560863494873]]",
									"[[8264, 1.4242560863494873], [7131, 1.471134901046753], [8316, 1.4831502437591553], [8322, 1.5162088871002197], [9832, 1.5196216106414795]]",
									"[[8264, 1.4242560863494873], [7131, 1.471134901046753], [8316, 1.4831502437591553], [8322, 1.5162088871002197], [9832, 1.5196216106414795], [8128, 1.519674301147461], [8125, 1.5229618549346924], [8936, 1.529444694519043], [7168, 1.5304546356201172], [7776, 1.537715196609497]]",
									"[[8264, 1.4242560863494873], [7131, 1.471134901046753], [8316, 1.4831502437591553], [8322, 1.5162088871002197], [9832, 1.5196216106414795], [8128, 1.519674301147461], [8125, 1.5229618549346924], [8936, 1.529444694519043], [7168, 1.5304546356201172], [7776, 1.537715196609497], [7610, 1.538360834121704], [8306, 1.5387394428253174], [7235, 1.538923978805542], [8339, 1.5391771793365479], [9063, 1.5472238063812256]]",
									"7131"
								],
								[
									"6",
									"video7213",
									"a woman is making lasagna",
									"[[7820, 1.406798243522644]]",
									"[[7820, 1.406798243522644], [8910, 1.4130762815475464], [8834, 1.4209957122802734], [7154, 1.4214155673980713], [8479, 1.4338951110839844]]",
									"[[7820, 1.406798243522644], [8910, 1.4130762815475464], [8834, 1.4209957122802734], [7154, 1.4214155673980713], [8479, 1.4338951110839844], [8129, 1.441727638244629], [8899, 1.441939115524292], [7744, 1.4450874328613281], [7360, 1.4459282159805298], [9684, 1.4467735290527344]]",
									"[[7820, 1.406798243522644], [8910, 1.4130762815475464], [8834, 1.4209957122802734], [7154, 1.4214155673980713], [8479, 1.4338951110839844], [8129, 1.441727638244629], [8899, 1.441939115524292], [7744, 1.4450874328613281], [7360, 1.4459282159805298], [9684, 1.4467735290527344], [7565, 1.4484392404556274], [9798, 1.449882984161377], [8654, 1.4519383907318115], [9687, 1.4546806812286377], [9693, 1.4551482200622559]]",
									"7213"
								],
								[
									"7",
									"video7575",
									"a man speaking in a microphone",
									"[[7828, 1.382369875907898]]",
									"[[7828, 1.382369875907898], [9474, 1.3994078636169434], [8301, 1.414745807647705], [7491, 1.415225863456726], [9203, 1.4223377704620361]]",
									"[[7828, 1.382369875907898], [9474, 1.3994078636169434], [8301, 1.414745807647705], [7491, 1.415225863456726], [9203, 1.4223377704620361], [8269, 1.4345557689666748], [9690, 1.4382318258285522], [7469, 1.4408644437789917], [9117, 1.4410723447799683], [8445, 1.444362759590149]]",
									"[[7828, 1.382369875907898], [9474, 1.3994078636169434], [8301, 1.414745807647705], [7491, 1.415225863456726], [9203, 1.4223377704620361], [8269, 1.4345557689666748], [9690, 1.4382318258285522], [7469, 1.4408644437789917], [9117, 1.4410723447799683], [8445, 1.444362759590149], [8830, 1.4450851678848267], [9233, 1.4468462467193604], [9522, 1.447114109992981], [9885, 1.4483344554901123], [8072, 1.4503734111785889]]",
									"7575"
								],
								[
									"8",
									"video7978",
									"a team with blue uniforms are playing badmitten with a team in white",
									"[[7723, 1.4895586967468262]]",
									"[[7723, 1.4895586967468262], [9647, 1.491666316986084], [8660, 1.4973118305206299], [9013, 1.5026037693023682], [7021, 1.502931833267212]]",
									"[[7723, 1.4895586967468262], [9647, 1.491666316986084], [8660, 1.4973118305206299], [9013, 1.5026037693023682], [7021, 1.502931833267212], [7787, 1.5034849643707275], [7357, 1.504820704460144], [7699, 1.5076433420181274], [9063, 1.5158928632736206], [7839, 1.5176630020141602]]",
									"[[7723, 1.4895586967468262], [9647, 1.491666316986084], [8660, 1.4973118305206299], [9013, 1.5026037693023682], [7021, 1.502931833267212], [7787, 1.5034849643707275], [7357, 1.504820704460144], [7699, 1.5076433420181274], [9063, 1.5158928632736206], [7839, 1.5176630020141602], [7374, 1.5230677127838135], [7112, 1.5238306522369385], [9832, 1.5257676839828491], [8817, 1.5258684158325195], [9681, 1.5261175632476807]]",
									"7978"
								],
								[
									"9",
									"video8123",
									"a woman is giving demo for baby trolley",
									"[[8258, 1.3358778953552246]]",
									"[[8258, 1.3358778953552246], [7230, 1.3811085224151611], [9755, 1.4074652194976807], [7827, 1.4168775081634521], [9696, 1.4223576784133911]]",
									"[[8258, 1.3358778953552246], [7230, 1.3811085224151611], [9755, 1.4074652194976807], [7827, 1.4168775081634521], [9696, 1.4223576784133911], [8018, 1.4271104335784912], [9405, 1.4408499002456665], [7113, 1.4484200477600098], [7217, 1.452340841293335], [8899, 1.4667794704437256]]",
									"[[8258, 1.3358778953552246], [7230, 1.3811085224151611], [9755, 1.4074652194976807], [7827, 1.4168775081634521], [9696, 1.4223576784133911], [8018, 1.4271104335784912], [9405, 1.4408499002456665], [7113, 1.4484200477600098], [7217, 1.452340841293335], [8899, 1.4667794704437256], [8123, 1.4682536125183105], [7561, 1.4746010303497314], [7822, 1.4752557277679443], [9404, 1.476741075515747], [8240, 1.4846121072769165]]",
									"8123"
								],
								[
									"10",
									"video9800",
									"a car is in a wreck",
									"[[9622, 1.379326343536377]]",
									"[[9622, 1.379326343536377], [9535, 1.4400382041931152], [9806, 1.4401533603668213], [7965, 1.4436662197113037], [9826, 1.4521249532699585]]",
									"[[9622, 1.379326343536377], [9535, 1.4400382041931152], [9806, 1.4401533603668213], [7965, 1.4436662197113037], [9826, 1.4521249532699585], [9355, 1.460730791091919], [9325, 1.4612081050872803], [7464, 1.4671481847763062], [9014, 1.4687609672546387], [7343, 1.475754976272583]]",
									"[[9622, 1.379326343536377], [9535, 1.4400382041931152], [9806, 1.4401533603668213], [7965, 1.4436662197113037], [9826, 1.4521249532699585], [9355, 1.460730791091919], [9325, 1.4612081050872803], [7464, 1.4671481847763062], [9014, 1.4687609672546387], [7343, 1.475754976272583], [9878, 1.4760639667510986], [9508, 1.476483941078186], [9344, 1.4816200733184814], [8468, 1.4839191436767578], [8497, 1.4841104745864868]]",
									"9800"
								],
								[
									"11",
									"video9205",
									"a woman interviewing about her part in a protest happening in brazil",
									"[[9028, 1.3891688585281372]]",
									"[[9028, 1.3891688585281372], [7341, 1.4463679790496826], [8311, 1.471369743347168], [9205, 1.47391939163208], [7364, 1.4794237613677979]]",
									"[[9028, 1.3891688585281372], [7341, 1.4463679790496826], [8311, 1.471369743347168], [9205, 1.47391939163208], [7364, 1.4794237613677979], [7162, 1.4829365015029907], [8906, 1.489112377166748], [7580, 1.5004714727401733], [9245, 1.5031218528747559], [8650, 1.5034109354019165]]",
									"[[9028, 1.3891688585281372], [7341, 1.4463679790496826], [8311, 1.471369743347168], [9205, 1.47391939163208], [7364, 1.4794237613677979], [7162, 1.4829365015029907], [8906, 1.489112377166748], [7580, 1.5004714727401733], [9245, 1.5031218528747559], [8650, 1.5034109354019165], [9228, 1.5052295923233032], [9451, 1.5130417346954346], [9404, 1.5147948265075684], [9681, 1.515390157699585], [8904, 1.5155869722366333]]",
									"9205"
								],
								[
									"12",
									"video7590",
									"an emotional scene of two persons where they are crying on meeting",
									"[[7163, 1.4136686325073242]]",
									"[[7163, 1.4136686325073242], [7546, 1.429030418395996], [7590, 1.4350473880767822], [7619, 1.4429197311401367], [7351, 1.4472825527191162]]",
									"[[7163, 1.4136686325073242], [7546, 1.429030418395996], [7590, 1.4350473880767822], [7619, 1.4429197311401367], [7351, 1.4472825527191162], [9686, 1.4477938413619995], [8074, 1.4495220184326172], [8879, 1.4563246965408325], [9750, 1.4596574306488037], [9521, 1.4685559272766113]]",
									"[[7163, 1.4136686325073242], [7546, 1.429030418395996], [7590, 1.4350473880767822], [7619, 1.4429197311401367], [7351, 1.4472825527191162], [9686, 1.4477938413619995], [8074, 1.4495220184326172], [8879, 1.4563246965408325], [9750, 1.4596574306488037], [9521, 1.4685559272766113], [7592, 1.4783790111541748], [8912, 1.4794466495513916], [8012, 1.4797149896621704], [7171, 1.4817228317260742], [8305, 1.483449101448059]]",
									"7590"
								],
								[
									"13",
									"video9017",
									"the man is driving his motorbike fast and having problems on the race",
									"[[9806, 1.3791062831878662]]",
									"[[9806, 1.3791062831878662], [8657, 1.3989721536636353], [7464, 1.4107046127319336], [7544, 1.4145445823669434], [9535, 1.4227551221847534]]",
									"[[9806, 1.3791062831878662], [8657, 1.3989721536636353], [7464, 1.4107046127319336], [7544, 1.4145445823669434], [9535, 1.4227551221847534], [9815, 1.4262923002243042], [9017, 1.4322404861450195], [9622, 1.4351155757904053], [7616, 1.442413091659546], [9508, 1.4479773044586182]]",
									"[[9806, 1.3791062831878662], [8657, 1.3989721536636353], [7464, 1.4107046127319336], [7544, 1.4145445823669434], [9535, 1.4227551221847534], [9815, 1.4262923002243042], [9017, 1.4322404861450195], [9622, 1.4351155757904053], [7616, 1.442413091659546], [9508, 1.4479773044586182], [8934, 1.4514999389648438], [7235, 1.4517784118652344], [9813, 1.452620029449463], [8089, 1.4532852172851562], [7219, 1.4570741653442383]]",
									"9017"
								],
								[
									"14",
									"video9241",
									"japanese people laughing and dancing",
									"[[7725, 1.4418967962265015]]",
									"[[7725, 1.4418967962265015], [8899, 1.4540202617645264], [9639, 1.4546318054199219], [7837, 1.4588658809661865], [9404, 1.4613926410675049]]",
									"[[7725, 1.4418967962265015], [8899, 1.4540202617645264], [9639, 1.4546318054199219], [7837, 1.4588658809661865], [9404, 1.4613926410675049], [7747, 1.463124394416809], [7593, 1.4667304754257202], [9682, 1.4676146507263184], [9513, 1.4694310426712036], [9834, 1.4708106517791748]]",
									"[[7725, 1.4418967962265015], [8899, 1.4540202617645264], [9639, 1.4546318054199219], [7837, 1.4588658809661865], [9404, 1.4613926410675049], [7747, 1.463124394416809], [7593, 1.4667304754257202], [9682, 1.4676146507263184], [9513, 1.4694310426712036], [9834, 1.4708106517791748], [8012, 1.4725711345672607], [7363, 1.4726675748825073], [8129, 1.4754679203033447], [9241, 1.4766197204589844], [8339, 1.4779361486434937]]",
									"9241"
								],
								[
									"15",
									"video7158",
									"fox news presidential debate recapping the gop debate with donald trump and ted cruz",
									"[[7158, 1.289113163948059]]",
									"[[7158, 1.289113163948059], [7731, 1.3799641132354736], [8464, 1.3848013877868652], [9223, 1.415520191192627], [8789, 1.4311655759811401]]",
									"[[7158, 1.289113163948059], [7731, 1.3799641132354736], [8464, 1.3848013877868652], [9223, 1.415520191192627], [8789, 1.4311655759811401], [9517, 1.4845377206802368], [7234, 1.4886231422424316], [9512, 1.4910483360290527], [7754, 1.4973978996276855], [8794, 1.5120375156402588]]",
									"[[7158, 1.289113163948059], [7731, 1.3799641132354736], [8464, 1.3848013877868652], [9223, 1.415520191192627], [8789, 1.4311655759811401], [9517, 1.4845377206802368], [7234, 1.4886231422424316], [9512, 1.4910483360290527], [7754, 1.4973978996276855], [8794, 1.5120375156402588], [9777, 1.515292763710022], [7352, 1.5183792114257812], [7613, 1.523313045501709], [8471, 1.523653507232666], [7698, 1.524359107017517]]",
									"7158"
								],
								[
									"16",
									"video9233",
									"a man is giving a speech",
									"[[9233, 1.418190836906433]]",
									"[[9233, 1.418190836906433], [7828, 1.4192640781402588], [8445, 1.4291245937347412], [8301, 1.4413437843322754], [9474, 1.4478733539581299]]",
									"[[9233, 1.418190836906433], [7828, 1.4192640781402588], [8445, 1.4291245937347412], [8301, 1.4413437843322754], [9474, 1.4478733539581299], [7619, 1.449416995048523], [9522, 1.4557371139526367], [7171, 1.4563785791397095], [7410, 1.4585105180740356], [9203, 1.4594273567199707]]",
									"[[9233, 1.418190836906433], [7828, 1.4192640781402588], [8445, 1.4291245937347412], [8301, 1.4413437843322754], [9474, 1.4478733539581299], [7619, 1.449416995048523], [9522, 1.4557371139526367], [7171, 1.4563785791397095], [7410, 1.4585105180740356], [9203, 1.4594273567199707], [7412, 1.4601564407348633], [8804, 1.4664437770843506], [9117, 1.4787495136260986], [8336, 1.4799234867095947], [8861, 1.4799655675888062]]",
									"9233"
								],
								[
									"17",
									"video8687",
									"fast moving time is shown here",
									"[[7223, 1.4449453353881836]]",
									"[[7223, 1.4449453353881836], [7363, 1.4463812112808228], [7506, 1.4524726867675781], [7464, 1.4555546045303345], [8687, 1.465773582458496]]",
									"[[7223, 1.4449453353881836], [7363, 1.4463812112808228], [7506, 1.4524726867675781], [7464, 1.4555546045303345], [8687, 1.465773582458496], [7219, 1.4691789150238037], [9826, 1.4721126556396484], [8076, 1.4758906364440918], [8934, 1.476982593536377], [9806, 1.4774045944213867]]",
									"[[7223, 1.4449453353881836], [7363, 1.4463812112808228], [7506, 1.4524726867675781], [7464, 1.4555546045303345], [8687, 1.465773582458496], [7219, 1.4691789150238037], [9826, 1.4721126556396484], [8076, 1.4758906364440918], [8934, 1.476982593536377], [9806, 1.4774045944213867], [7752, 1.4776520729064941], [9800, 1.4777663946151733], [9832, 1.4778118133544922], [8322, 1.478775978088379], [8469, 1.4803342819213867]]",
									"8687"
								],
								[
									"18",
									"video9337",
									"some people are inside of a room",
									"[[9324, 1.4286646842956543]]",
									"[[9324, 1.4286646842956543], [7114, 1.445873737335205], [9322, 1.4499292373657227], [7593, 1.456148624420166], [9350, 1.4563682079315186]]",
									"[[9324, 1.4286646842956543], [7114, 1.445873737335205], [9322, 1.4499292373657227], [7593, 1.456148624420166], [9350, 1.4563682079315186], [8788, 1.4701762199401855], [8663, 1.4736007452011108], [9307, 1.473950982093811], [9820, 1.4742000102996826], [7222, 1.478456735610962]]",
									"[[9324, 1.4286646842956543], [7114, 1.445873737335205], [9322, 1.4499292373657227], [7593, 1.456148624420166], [9350, 1.4563682079315186], [8788, 1.4701762199401855], [8663, 1.4736007452011108], [9307, 1.473950982093811], [9820, 1.4742000102996826], [7222, 1.478456735610962], [7588, 1.4787884950637817], [9813, 1.4790592193603516], [7757, 1.4810184240341187], [9334, 1.4825992584228516], [9458, 1.4872016906738281]]",
									"9337"
								],
								[
									"19",
									"video9620",
									"outer space pictures that have parts of equipments in them with water droplets on it",
									"[[7732, 1.468106985092163]]",
									"[[7732, 1.468106985092163], [8013, 1.482405662536621], [9620, 1.4833906888961792], [7027, 1.4870390892028809], [8246, 1.4898097515106201]]",
									"[[7732, 1.468106985092163], [8013, 1.482405662536621], [9620, 1.4833906888961792], [7027, 1.4870390892028809], [8246, 1.4898097515106201], [8674, 1.4909493923187256], [9578, 1.4969375133514404], [7237, 1.4999780654907227], [7343, 1.5032737255096436], [8334, 1.50938081741333]]",
									"[[7732, 1.468106985092163], [8013, 1.482405662536621], [9620, 1.4833906888961792], [7027, 1.4870390892028809], [8246, 1.4898097515106201], [8674, 1.4909493923187256], [9578, 1.4969375133514404], [7237, 1.4999780654907227], [7343, 1.5032737255096436], [8334, 1.50938081741333], [7562, 1.514441967010498], [8867, 1.5146230459213257], [9609, 1.515494704246521], [8061, 1.516366720199585], [7350, 1.5243749618530273]]",
									"9620"
								],
								[
									"20",
									"video7411",
									"jolly good music troop delivering a program and the lady is in good spirit",
									"[[9357, 1.530024766921997]]",
									"[[9357, 1.530024766921997], [8919, 1.5305945873260498], [7772, 1.532540202140808], [7142, 1.5493252277374268], [9063, 1.5601954460144043]]",
									"[[9357, 1.530024766921997], [8919, 1.5305945873260498], [7772, 1.532540202140808], [7142, 1.5493252277374268], [9063, 1.5601954460144043], [7141, 1.56156325340271], [8337, 1.5629913806915283], [7843, 1.5652178525924683], [8022, 1.5655779838562012], [7202, 1.5665693283081055]]",
									"[[9357, 1.530024766921997], [8919, 1.5305945873260498], [7772, 1.532540202140808], [7142, 1.5493252277374268], [9063, 1.5601954460144043], [7141, 1.56156325340271], [8337, 1.5629913806915283], [7843, 1.5652178525924683], [8022, 1.5655779838562012], [7202, 1.5665693283081055], [9326, 1.5733997821807861], [8482, 1.5761346817016602], [8650, 1.5776151418685913], [7542, 1.5777146816253662], [9205, 1.577784776687622]]",
									"7411"
								],
								[
									"21",
									"video8514",
									"a person is putting the vegetable in to the water and boil it",
									"[[9625, 1.3654134273529053]]",
									"[[9625, 1.3654134273529053], [7911, 1.4151296615600586], [8514, 1.4237992763519287], [9693, 1.425274133682251], [9206, 1.4252948760986328]]",
									"[[9625, 1.3654134273529053], [7911, 1.4151296615600586], [8514, 1.4237992763519287], [9693, 1.425274133682251], [9206, 1.4252948760986328], [9689, 1.4297335147857666], [7565, 1.4301387071609497], [9335, 1.4301769733428955], [9798, 1.4305222034454346], [9022, 1.4306776523590088]]",
									"[[9625, 1.3654134273529053], [7911, 1.4151296615600586], [8514, 1.4237992763519287], [9693, 1.425274133682251], [9206, 1.4252948760986328], [9689, 1.4297335147857666], [7565, 1.4301387071609497], [9335, 1.4301769733428955], [9798, 1.4305222034454346], [9022, 1.4306776523590088], [8479, 1.4389698505401611], [7360, 1.4395496845245361], [8654, 1.4444087743759155], [7820, 1.4491633176803589], [8834, 1.449187994003296]]",
									"8514"
								],
								[
									"22",
									"video8481",
									"a woman is reporting on keds commercials",
									"[[8481, 1.443284273147583]]",
									"[[8481, 1.443284273147583], [8488, 1.4586812257766724], [7231, 1.4587175846099854], [8494, 1.4638497829437256], [9575, 1.4799833297729492]]",
									"[[8481, 1.443284273147583], [8488, 1.4586812257766724], [7231, 1.4587175846099854], [8494, 1.4638497829437256], [9575, 1.4799833297729492], [7577, 1.4806054830551147], [9347, 1.4849574565887451], [7698, 1.4857096672058105], [9517, 1.4860332012176514], [7580, 1.4866470098495483]]",
									"[[8481, 1.443284273147583], [8488, 1.4586812257766724], [7231, 1.4587175846099854], [8494, 1.4638497829437256], [9575, 1.4799833297729492], [7577, 1.4806054830551147], [9347, 1.4849574565887451], [7698, 1.4857096672058105], [9517, 1.4860332012176514], [7580, 1.4866470098495483], [9600, 1.4877686500549316], [7549, 1.4918057918548584], [9039, 1.4921066761016846], [7558, 1.4925353527069092], [8461, 1.4952250719070435]]",
									"8481"
								],
								[
									"23",
									"video9224",
									"someone is playing a game",
									"[[7438, 1.481433629989624]]",
									"[[7438, 1.481433629989624], [7780, 1.4821219444274902], [9355, 1.4935369491577148], [8663, 1.4956817626953125], [7792, 1.4970524311065674]]",
									"[[7438, 1.481433629989624], [7780, 1.4821219444274902], [9355, 1.4935369491577148], [8663, 1.4956817626953125], [7792, 1.4970524311065674], [9535, 1.4975671768188477], [7977, 1.498779058456421], [7732, 1.499143123626709], [9030, 1.49954354763031], [7593, 1.4998763799667358]]",
									"[[7438, 1.481433629989624], [7780, 1.4821219444274902], [9355, 1.4935369491577148], [8663, 1.4956817626953125], [7792, 1.4970524311065674], [9535, 1.4975671768188477], [7977, 1.498779058456421], [7732, 1.499143123626709], [9030, 1.49954354763031], [7593, 1.4998763799667358], [8899, 1.5010114908218384], [9806, 1.5015500783920288], [7203, 1.501649260520935], [7766, 1.5024840831756592], [9829, 1.50276780128479]]",
									"9224"
								],
								[
									"24",
									"video8426",
									"cabins on a sandy beach have walkways going up to their porches",
									"[[8426, 1.3216873407363892]]",
									"[[8426, 1.3216873407363892], [9244, 1.4866459369659424], [8916, 1.4898003339767456], [9332, 1.4977948665618896], [9359, 1.5011005401611328]]",
									"[[8426, 1.3216873407363892], [9244, 1.4866459369659424], [8916, 1.4898003339767456], [9332, 1.4977948665618896], [9359, 1.5011005401611328], [7113, 1.5124281644821167], [9031, 1.5199133157730103], [9253, 1.521165370941162], [8556, 1.5221149921417236], [8250, 1.5243942737579346]]",
									"[[8426, 1.3216873407363892], [9244, 1.4866459369659424], [8916, 1.4898003339767456], [9332, 1.4977948665618896], [9359, 1.5011005401611328], [7113, 1.5124281644821167], [9031, 1.5199133157730103], [9253, 1.521165370941162], [8556, 1.5221149921417236], [8250, 1.5243942737579346], [8655, 1.5253934860229492], [7025, 1.52982759475708], [9338, 1.5328062772750854], [9790, 1.5407390594482422], [8578, 1.542960286140442]]",
									"8426"
								],
								[
									"25",
									"video9699",
									"a man explains how to do a experiment",
									"[[9731, 1.3954854011535645]]",
									"[[9731, 1.3954854011535645], [9699, 1.4002974033355713], [9256, 1.4033753871917725], [7546, 1.407625436782837], [9335, 1.412216067314148]]",
									"[[9731, 1.3954854011535645], [9699, 1.4002974033355713], [9256, 1.4033753871917725], [7546, 1.407625436782837], [9335, 1.412216067314148], [8712, 1.4141029119491577], [8774, 1.416161298751831], [9349, 1.417145013809204], [8483, 1.421220064163208], [8332, 1.421614408493042]]",
									"[[9731, 1.3954854011535645], [9699, 1.4002974033355713], [9256, 1.4033753871917725], [7546, 1.407625436782837], [9335, 1.412216067314148], [8712, 1.4141029119491577], [8774, 1.416161298751831], [9349, 1.417145013809204], [8483, 1.421220064163208], [8332, 1.421614408493042], [8688, 1.421802282333374], [8067, 1.4225637912750244], [9474, 1.426466941833496], [9798, 1.4295480251312256], [8301, 1.4317148923873901]]",
									"9699"
								],
								[
									"26",
									"video9882",
									"a news reader is reading the news and asking question to some people",
									"[[7790, 1.4129760265350342]]",
									"[[7790, 1.4129760265350342], [7469, 1.4194496870040894], [7967, 1.423698902130127], [8311, 1.4255752563476562], [9028, 1.425910234451294]]",
									"[[7790, 1.4129760265350342], [7469, 1.4194496870040894], [7967, 1.423698902130127], [8311, 1.4255752563476562], [9028, 1.425910234451294], [9205, 1.4265339374542236], [9882, 1.4265809059143066], [9204, 1.4278024435043335], [8905, 1.4323493242263794], [8789, 1.4421725273132324]]",
									"[[7790, 1.4129760265350342], [7469, 1.4194496870040894], [7967, 1.423698902130127], [8311, 1.4255752563476562], [9028, 1.425910234451294], [9205, 1.4265339374542236], [9882, 1.4265809059143066], [9204, 1.4278024435043335], [8905, 1.4323493242263794], [8789, 1.4421725273132324], [9223, 1.4454509019851685], [8333, 1.4469696283340454], [8650, 1.4484872817993164], [7619, 1.4487829208374023], [7580, 1.4497387409210205]]",
									"9882"
								],
								[
									"27",
									"video8300",
									"a woman pours water into her pot of meat then tomato sauce and stirs it all around while talking",
									"[[8479, 1.3634488582611084]]",
									"[[8479, 1.3634488582611084], [9335, 1.3664096593856812], [7744, 1.374891996383667], [9022, 1.3903064727783203], [8910, 1.3926653861999512]]",
									"[[8479, 1.3634488582611084], [9335, 1.3664096593856812], [7744, 1.374891996383667], [9022, 1.3903064727783203], [8910, 1.3926653861999512], [8300, 1.4152028560638428], [9625, 1.4166218042373657], [7565, 1.4172072410583496], [9693, 1.417785406112671], [9689, 1.4179048538208008]]",
									"[[8479, 1.3634488582611084], [9335, 1.3664096593856812], [7744, 1.374891996383667], [9022, 1.3903064727783203], [8910, 1.3926653861999512], [8300, 1.4152028560638428], [9625, 1.4166218042373657], [7565, 1.4172072410583496], [9693, 1.417785406112671], [9689, 1.4179048538208008], [8654, 1.4237239360809326], [9836, 1.425136685371399], [7695, 1.4261037111282349], [7154, 1.4332305192947388], [9731, 1.4376685619354248]]",
									"8300"
								],
								[
									"28",
									"video8863",
									"an animated girl talks to a baby and plays with it",
									"[[8676, 1.3868520259857178]]",
									"[[8676, 1.3868520259857178], [8863, 1.3933295011520386], [7561, 1.4093480110168457], [7020, 1.4103548526763916], [7179, 1.4107515811920166]]",
									"[[8676, 1.3868520259857178], [8863, 1.3933295011520386], [7561, 1.4093480110168457], [7020, 1.4103548526763916], [7179, 1.4107515811920166], [7113, 1.419515609741211], [9682, 1.4198867082595825], [9772, 1.4297866821289062], [7592, 1.4299790859222412], [8774, 1.430121660232544]]",
									"[[8676, 1.3868520259857178], [8863, 1.3933295011520386], [7561, 1.4093480110168457], [7020, 1.4103548526763916], [7179, 1.4107515811920166], [7113, 1.419515609741211], [9682, 1.4198867082595825], [9772, 1.4297866821289062], [7592, 1.4299790859222412], [8774, 1.430121660232544], [7728, 1.4307458400726318], [8110, 1.4313803911209106], [7558, 1.432397723197937], [8018, 1.4328463077545166], [9338, 1.4338114261627197]]",
									"8863"
								],
								[
									"29",
									"video7147",
									"a man cooks burgers and bacon on a grill",
									"[[9333, 1.340659260749817]]",
									"[[9333, 1.340659260749817], [7147, 1.3587028980255127], [8834, 1.3893879652023315], [9694, 1.398809790611267], [7820, 1.4077584743499756]]",
									"[[9333, 1.340659260749817], [7147, 1.3587028980255127], [8834, 1.3893879652023315], [9694, 1.398809790611267], [7820, 1.4077584743499756], [7154, 1.4189664125442505], [9335, 1.4346097707748413], [8479, 1.4519935846328735], [8899, 1.4605967998504639], [9871, 1.4659013748168945]]",
									"[[9333, 1.340659260749817], [7147, 1.3587028980255127], [8834, 1.3893879652023315], [9694, 1.398809790611267], [7820, 1.4077584743499756], [7154, 1.4189664125442505], [9335, 1.4346097707748413], [8479, 1.4519935846328735], [8899, 1.4605967998504639], [9871, 1.4659013748168945], [8900, 1.46625816822052], [9798, 1.4700937271118164], [7966, 1.4729695320129395], [7343, 1.4803249835968018], [8686, 1.4813811779022217]]",
									"7147"
								],
								[
									"30",
									"video7744",
									"a chef stirs up some ingredients inside of a pan",
									"[[9335, 1.3018267154693604]]",
									"[[9335, 1.3018267154693604], [9625, 1.3441994190216064], [9693, 1.3630181550979614], [8479, 1.363429307937622], [7820, 1.3668469190597534]]",
									"[[9335, 1.3018267154693604], [9625, 1.3441994190216064], [9693, 1.3630181550979614], [8479, 1.363429307937622], [7820, 1.3668469190597534], [7966, 1.3686468601226807], [9798, 1.3836443424224854], [8834, 1.3877904415130615], [9687, 1.3882172107696533], [7154, 1.3893377780914307]]",
									"[[9335, 1.3018267154693604], [9625, 1.3441994190216064], [9693, 1.3630181550979614], [8479, 1.363429307937622], [7820, 1.3668469190597534], [7966, 1.3686468601226807], [9798, 1.3836443424224854], [8834, 1.3877904415130615], [9687, 1.3882172107696533], [7154, 1.3893377780914307], [7360, 1.3894374370574951], [8865, 1.3930106163024902], [9689, 1.3934376239776611], [8129, 1.3945382833480835], [7744, 1.3954615592956543]]",
									"7744"
								],
								[
									"31",
									"video7839",
									"this is a vine sports compilation",
									"[[8253, 1.316026210784912]]",
									"[[8253, 1.316026210784912], [8979, 1.3217328786849976], [9542, 1.3487557172775269], [9029, 1.3500568866729736], [7789, 1.3579978942871094]]",
									"[[8253, 1.316026210784912], [8979, 1.3217328786849976], [9542, 1.3487557172775269], [9029, 1.3500568866729736], [7789, 1.3579978942871094], [7763, 1.3601937294006348], [7839, 1.3785195350646973], [9605, 1.3873915672302246], [7112, 1.3942499160766602], [9817, 1.3969390392303467]]",
									"[[8253, 1.316026210784912], [8979, 1.3217328786849976], [9542, 1.3487557172775269], [9029, 1.3500568866729736], [7789, 1.3579978942871094], [7763, 1.3601937294006348], [7839, 1.3785195350646973], [9605, 1.3873915672302246], [7112, 1.3942499160766602], [9817, 1.3969390392303467], [7787, 1.3995575904846191], [7358, 1.4046624898910522], [9018, 1.4106884002685547], [8049, 1.4142155647277832], [7979, 1.4204258918762207]]",
									"7839"
								],
								[
									"32",
									"video7214",
									"race cars of different colors lined up on a dark track",
									"[[8689, 1.4480459690093994]]",
									"[[8689, 1.4480459690093994], [8471, 1.4485344886779785], [9620, 1.4727447032928467], [9691, 1.4757294654846191], [8264, 1.4804054498672485]]",
									"[[8689, 1.4480459690093994], [8471, 1.4485344886779785], [9620, 1.4727447032928467], [9691, 1.4757294654846191], [8264, 1.4804054498672485], [9832, 1.4817478656768799], [8817, 1.4818925857543945], [7506, 1.4876947402954102], [7464, 1.490504503250122], [7752, 1.4955494403839111]]",
									"[[8689, 1.4480459690093994], [8471, 1.4485344886779785], [9620, 1.4727447032928467], [9691, 1.4757294654846191], [8264, 1.4804054498672485], [9832, 1.4817478656768799], [8817, 1.4818925857543945], [7506, 1.4876947402954102], [7464, 1.490504503250122], [7752, 1.4955494403839111], [7219, 1.5017609596252441], [9259, 1.5027185678482056], [8808, 1.5069034099578857], [9344, 1.5071170330047607], [9535, 1.510354995727539]]",
									"7214"
								],
								[
									"33",
									"video7771",
									"a golf player is trying to hit the ball into the pit",
									"[[7771, 1.3663681745529175]]",
									"[[7771, 1.3663681745529175], [9832, 1.4744255542755127], [8044, 1.4764671325683594], [9451, 1.4786391258239746], [7780, 1.4818663597106934]]",
									"[[7771, 1.3663681745529175], [9832, 1.4744255542755127], [8044, 1.4764671325683594], [9451, 1.4786391258239746], [7780, 1.4818663597106934], [7021, 1.4843698740005493], [7168, 1.4848138093948364], [7610, 1.4854507446289062], [7357, 1.4857585430145264], [8816, 1.4883960485458374]]",
									"[[7771, 1.3663681745529175], [9832, 1.4744255542755127], [8044, 1.4764671325683594], [9451, 1.4786391258239746], [7780, 1.4818663597106934], [7021, 1.4843698740005493], [7168, 1.4848138093948364], [7610, 1.4854507446289062], [7357, 1.4857585430145264], [8816, 1.4883960485458374], [7839, 1.4891307353973389], [7763, 1.4979140758514404], [7699, 1.5001542568206787], [7351, 1.5007644891738892], [9878, 1.5017337799072266]]",
									"7771"
								],
								[
									"34",
									"video8486",
									"a cartoon on a young guy cursing",
									"[[8486, 1.4345451593399048]]",
									"[[8486, 1.4345451593399048], [8673, 1.4456779956817627], [9777, 1.4479122161865234], [7741, 1.4507979154586792], [8268, 1.4524004459381104]]",
									"[[8486, 1.4345451593399048], [8673, 1.4456779956817627], [9777, 1.4479122161865234], [7741, 1.4507979154586792], [8268, 1.4524004459381104], [7412, 1.4526246786117554], [7160, 1.454838752746582], [8301, 1.456227421760559], [9403, 1.4580241441726685], [8794, 1.4581869840621948]]",
									"[[8486, 1.4345451593399048], [8673, 1.4456779956817627], [9777, 1.4479122161865234], [7741, 1.4507979154586792], [8268, 1.4524004459381104], [7412, 1.4526246786117554], [7160, 1.454838752746582], [8301, 1.456227421760559], [9403, 1.4580241441726685], [8794, 1.4581869840621948], [7912, 1.4660834074020386], [7172, 1.472986102104187], [8456, 1.4782955646514893], [9474, 1.4783647060394287], [9734, 1.479129433631897]]",
									"8486"
								],
								[
									"35",
									"video9909",
									"a crowd of people sitting next to each other as one man plays a video game",
									"[[9909, 1.392963171005249]]",
									"[[9909, 1.392963171005249], [8472, 1.4319069385528564], [8116, 1.4346805810928345], [8689, 1.437207579612732], [8313, 1.4414465427398682]]",
									"[[9909, 1.392963171005249], [8472, 1.4319069385528564], [8116, 1.4346805810928345], [8689, 1.437207579612732], [8313, 1.4414465427398682], [7723, 1.4612462520599365], [7141, 1.4615942239761353], [8626, 1.4627134799957275], [8797, 1.4714056253433228], [9350, 1.4740163087844849]]",
									"[[9909, 1.392963171005249], [8472, 1.4319069385528564], [8116, 1.4346805810928345], [8689, 1.437207579612732], [8313, 1.4414465427398682], [7723, 1.4612462520599365], [7141, 1.4615942239761353], [8626, 1.4627134799957275], [8797, 1.4714056253433228], [9350, 1.4740163087844849], [8256, 1.4754849672317505], [8459, 1.475832462310791], [7035, 1.4772298336029053], [7552, 1.4803181886672974], [9326, 1.4815778732299805]]",
									"9909"
								],
								[
									"36",
									"video8922",
									"an old man shakes hands with another man and then they hug each other",
									"[[7200, 1.399296522140503]]",
									"[[7200, 1.399296522140503], [9337, 1.44015371799469], [9404, 1.4423143863677979], [9535, 1.461164951324463], [7158, 1.461712121963501]]",
									"[[7200, 1.399296522140503], [9337, 1.44015371799469], [9404, 1.4423143863677979], [9535, 1.461164951324463], [7158, 1.461712121963501], [9254, 1.4677586555480957], [9359, 1.477076530456543], [8476, 1.4781359434127808], [8831, 1.4812275171279907], [7352, 1.481669306755066]]",
									"[[7200, 1.399296522140503], [9337, 1.44015371799469], [9404, 1.4423143863677979], [9535, 1.461164951324463], [7158, 1.461712121963501], [9254, 1.4677586555480957], [9359, 1.477076530456543], [8476, 1.4781359434127808], [8831, 1.4812275171279907], [7352, 1.481669306755066], [8922, 1.4819018840789795], [7977, 1.487610101699829], [7732, 1.4904346466064453], [8306, 1.4943324327468872], [7227, 1.4952956438064575]]",
									"8922"
								],
								[
									"37",
									"video9814",
									"a scene from spongebob squarepants where the townspeople are carrying torches and chasing a giant squidward",
									"[[7235, 1.385290265083313]]",
									"[[7235, 1.385290265083313], [9814, 1.415451169013977], [9306, 1.4171558618545532], [8916, 1.4240000247955322], [8673, 1.4396932125091553]]",
									"[[7235, 1.385290265083313], [9814, 1.415451169013977], [9306, 1.4171558618545532], [8916, 1.4240000247955322], [8673, 1.4396932125091553], [8128, 1.441805362701416], [9790, 1.4420348405838013], [7218, 1.4436500072479248], [7029, 1.4443840980529785], [9014, 1.447049856185913]]",
									"[[7235, 1.385290265083313], [9814, 1.415451169013977], [9306, 1.4171558618545532], [8916, 1.4240000247955322], [8673, 1.4396932125091553], [8128, 1.441805362701416], [9790, 1.4420348405838013], [7218, 1.4436500072479248], [7029, 1.4443840980529785], [9014, 1.447049856185913], [8781, 1.4476404190063477], [9300, 1.448298692703247], [7111, 1.4516546726226807], [8816, 1.4521455764770508], [7232, 1.4540116786956787]]",
									"9814"
								],
								[
									"38",
									"video9368",
									"someone demonstrates about the small motor uses to the video",
									"[[8121, 1.3845534324645996]]",
									"[[8121, 1.3845534324645996], [7363, 1.3943474292755127], [7688, 1.3945202827453613], [7237, 1.3946764469146729], [7369, 1.4004297256469727]]",
									"[[8121, 1.3845534324645996], [7363, 1.3943474292755127], [7688, 1.3945202827453613], [7237, 1.3946764469146729], [7369, 1.4004297256469727], [8622, 1.4017444849014282], [9696, 1.414825439453125], [8712, 1.42425537109375], [9368, 1.4266971349716187], [9755, 1.434172511100769]]",
									"[[8121, 1.3845534324645996], [7363, 1.3943474292755127], [7688, 1.3945202827453613], [7237, 1.3946764469146729], [7369, 1.4004297256469727], [8622, 1.4017444849014282], [9696, 1.414825439453125], [8712, 1.42425537109375], [9368, 1.4266971349716187], [9755, 1.434172511100769], [8820, 1.4351963996887207], [8258, 1.4416308403015137], [8626, 1.4437675476074219], [8473, 1.449328899383545], [7909, 1.4499999284744263]]",
									"9368"
								],
								[
									"39",
									"video8820",
									"a person comes up in the hill on a orange motor bike and falls down",
									"[[9535, 1.4331376552581787]]",
									"[[9535, 1.4331376552581787], [8044, 1.4437748193740845], [7616, 1.4469109773635864], [9622, 1.4511287212371826], [7649, 1.4572769403457642]]",
									"[[9535, 1.4331376552581787], [8044, 1.4437748193740845], [7616, 1.4469109773635864], [9622, 1.4511287212371826], [7649, 1.4572769403457642], [9323, 1.459275722503662], [9014, 1.4614503383636475], [9832, 1.4696903228759766], [7796, 1.4699156284332275], [7544, 1.4726604223251343]]",
									"[[9535, 1.4331376552581787], [8044, 1.4437748193740845], [7616, 1.4469109773635864], [9622, 1.4511287212371826], [7649, 1.4572769403457642], [9323, 1.459275722503662], [9014, 1.4614503383636475], [9832, 1.4696903228759766], [7796, 1.4699156284332275], [7544, 1.4726604223251343], [9806, 1.4762248992919922], [9511, 1.4771227836608887], [8657, 1.4774398803710938], [7614, 1.4779841899871826], [8322, 1.4794414043426514]]",
									"8820"
								],
								[
									"40",
									"video9452",
									"an animated grey shark in the middle of a blue water simulation background rotating in a circle on the screen of a monitor",
									"[[9452, 1.27926504611969]]",
									"[[9452, 1.27926504611969], [8111, 1.4033654928207397], [8909, 1.4160324335098267], [9578, 1.4290138483047485], [8328, 1.4406912326812744]]",
									"[[9452, 1.27926504611969], [8111, 1.4033654928207397], [8909, 1.4160324335098267], [9578, 1.4290138483047485], [8328, 1.4406912326812744], [7444, 1.4444081783294678], [7061, 1.4453954696655273], [8817, 1.445952296257019], [8010, 1.449092984199524], [7027, 1.4577789306640625]]",
									"[[9452, 1.27926504611969], [8111, 1.4033654928207397], [8909, 1.4160324335098267], [9578, 1.4290138483047485], [8328, 1.4406912326812744], [7444, 1.4444081783294678], [7061, 1.4453954696655273], [8817, 1.445952296257019], [8010, 1.449092984199524], [7027, 1.4577789306640625], [8911, 1.4585777521133423], [7035, 1.4630517959594727], [9030, 1.465139389038086], [9221, 1.466537594795227], [9458, 1.4694745540618896]]",
									"9452"
								],
								[
									"41",
									"video9344",
									"gameplay footage of someone playing a game",
									"[[8116, 1.3729041814804077]]",
									"[[8116, 1.3729041814804077], [8313, 1.3808915615081787], [8027, 1.3837194442749023], [7723, 1.385317087173462], [7464, 1.3896760940551758]]",
									"[[8116, 1.3729041814804077], [8313, 1.3808915615081787], [8027, 1.3837194442749023], [7723, 1.385317087173462], [7464, 1.3896760940551758], [7919, 1.3918683528900146], [9336, 1.3936312198638916], [7035, 1.4011727571487427], [7757, 1.4034502506256104], [9795, 1.4039801359176636]]",
									"[[8116, 1.3729041814804077], [8313, 1.3808915615081787], [8027, 1.3837194442749023], [7723, 1.385317087173462], [7464, 1.3896760940551758], [7919, 1.3918683528900146], [9336, 1.3936312198638916], [7035, 1.4011727571487427], [7757, 1.4034502506256104], [9795, 1.4039801359176636], [9909, 1.4043025970458984], [9010, 1.4053406715393066], [9208, 1.4061630964279175], [8010, 1.406907558441162], [8256, 1.4080005884170532]]",
									"9344"
								],
								[
									"42",
									"video9032",
									"a hospital mortuary room and a doctor treat the special case",
									"[[8664, 1.414376974105835]]",
									"[[8664, 1.414376974105835], [7149, 1.435739278793335], [7963, 1.4495340585708618], [9032, 1.4643733501434326], [8800, 1.4663853645324707]]",
									"[[8664, 1.414376974105835], [7149, 1.435739278793335], [7963, 1.4495340585708618], [9032, 1.4643733501434326], [8800, 1.4663853645324707], [9324, 1.4685367345809937], [9579, 1.4693207740783691], [8129, 1.4717869758605957], [8620, 1.4733703136444092], [9833, 1.4744327068328857]]",
									"[[8664, 1.414376974105835], [7149, 1.435739278793335], [7963, 1.4495340585708618], [9032, 1.4643733501434326], [8800, 1.4663853645324707], [9324, 1.4685367345809937], [9579, 1.4693207740783691], [8129, 1.4717869758605957], [8620, 1.4733703136444092], [9833, 1.4744327068328857], [7829, 1.483139157295227], [8836, 1.4837086200714111], [8325, 1.4843649864196777], [8606, 1.4855691194534302], [7169, 1.4865257740020752]]",
									"9032"
								],
								[
									"43",
									"video9016",
									"all persons are wearing bikini dresses and playing in sea",
									"[[7025, 1.4151535034179688]]",
									"[[7025, 1.4151535034179688], [9359, 1.4370602369308472], [8556, 1.4592955112457275], [7117, 1.4610705375671387], [9338, 1.4630855321884155]]",
									"[[7025, 1.4151535034179688], [9359, 1.4370602369308472], [8556, 1.4592955112457275], [7117, 1.4610705375671387], [9338, 1.4630855321884155], [8949, 1.4754211902618408], [8999, 1.4766943454742432], [8928, 1.4826843738555908], [7681, 1.4864728450775146], [7747, 1.4894931316375732]]",
									"[[7025, 1.4151535034179688], [9359, 1.4370602369308472], [8556, 1.4592955112457275], [7117, 1.4610705375671387], [9338, 1.4630855321884155], [8949, 1.4754211902618408], [8999, 1.4766943454742432], [8928, 1.4826843738555908], [7681, 1.4864728450775146], [7747, 1.4894931316375732], [9234, 1.4924659729003906], [9513, 1.492866039276123], [9016, 1.496229648590088], [8441, 1.5012646913528442], [9574, 1.5029593706130981]]",
									"9016"
								],
								[
									"44",
									"video9353",
									"two women are outside and are discussing something in a foreign language",
									"[[7698, 1.446850299835205]]",
									"[[7698, 1.446850299835205], [7724, 1.4638184309005737], [8507, 1.4695321321487427], [9341, 1.4727630615234375], [9033, 1.4762279987335205]]",
									"[[7698, 1.446850299835205], [7724, 1.4638184309005737], [8507, 1.4695321321487427], [9341, 1.4727630615234375], [9033, 1.4762279987335205], [9404, 1.4766228199005127], [9200, 1.480370283126831], [9871, 1.4832881689071655], [8347, 1.4839050769805908], [8306, 1.4857590198516846]]",
									"[[7698, 1.446850299835205], [7724, 1.4638184309005737], [8507, 1.4695321321487427], [9341, 1.4727630615234375], [9033, 1.4762279987335205], [9404, 1.4766228199005127], [9200, 1.480370283126831], [9871, 1.4832881689071655], [8347, 1.4839050769805908], [8306, 1.4857590198516846], [9031, 1.485988974571228], [8895, 1.486546516418457], [7613, 1.4870778322219849], [7158, 1.4897170066833496], [7468, 1.4926148653030396]]",
									"9353"
								],
								[
									"45",
									"video9405",
									"red balloons float in the sky and have packages tied to them",
									"[[9405, 1.382293462753296]]",
									"[[9405, 1.382293462753296], [7732, 1.4818811416625977], [9253, 1.4823288917541504], [8300, 1.4960219860076904], [7061, 1.4975166320800781]]",
									"[[9405, 1.382293462753296], [7732, 1.4818811416625977], [9253, 1.4823288917541504], [8300, 1.4960219860076904], [7061, 1.4975166320800781], [8674, 1.503359317779541], [9807, 1.5082627534866333], [8260, 1.5085501670837402], [8686, 1.5085722208023071], [9014, 1.50980544090271]]",
									"[[9405, 1.382293462753296], [7732, 1.4818811416625977], [9253, 1.4823288917541504], [8300, 1.4960219860076904], [7061, 1.4975166320800781], [8674, 1.503359317779541], [9807, 1.5082627534866333], [8260, 1.5085501670837402], [8686, 1.5085722208023071], [9014, 1.50980544090271], [9680, 1.5099022388458252], [9345, 1.5117509365081787], [7566, 1.5132148265838623], [8468, 1.5160813331604004], [9682, 1.5194236040115356]]",
									"9405"
								],
								[
									"46",
									"video7559",
									"a man is trying some sushi",
									"[[7820, 1.4433727264404297]]",
									"[[7820, 1.4433727264404297], [9253, 1.4536454677581787], [9687, 1.4541141986846924], [8899, 1.4585580825805664], [7363, 1.4638679027557373]]",
									"[[7820, 1.4433727264404297], [9253, 1.4536454677581787], [9687, 1.4541141986846924], [8899, 1.4585580825805664], [7363, 1.4638679027557373], [8302, 1.4648773670196533], [9537, 1.4656734466552734], [9693, 1.4684303998947144], [8834, 1.478331208229065], [7351, 1.483100414276123]]",
									"[[7820, 1.4433727264404297], [9253, 1.4536454677581787], [9687, 1.4541141986846924], [8899, 1.4585580825805664], [7363, 1.4638679027557373], [8302, 1.4648773670196533], [9537, 1.4656734466552734], [9693, 1.4684303998947144], [8834, 1.478331208229065], [7351, 1.483100414276123], [8129, 1.4840072393417358], [9535, 1.4911577701568604], [9337, 1.4923133850097656], [7436, 1.4956538677215576], [8686, 1.4971799850463867]]",
									"7559"
								],
								[
									"47",
									"video9063",
									"people on stage performing",
									"[[9063, 1.4287298917770386]]",
									"[[9063, 1.4287298917770386], [9834, 1.4305880069732666], [8926, 1.4467397928237915], [8324, 1.448823094367981], [8441, 1.4534536600112915]]",
									"[[9063, 1.4287298917770386], [9834, 1.4305880069732666], [8926, 1.4467397928237915], [8324, 1.448823094367981], [8441, 1.4534536600112915], [7596, 1.461124300956726], [8336, 1.4619393348693848], [9350, 1.466991662979126], [8466, 1.4699881076812744], [8445, 1.4734293222427368]]",
									"[[9063, 1.4287298917770386], [9834, 1.4305880069732666], [8926, 1.4467397928237915], [8324, 1.448823094367981], [8441, 1.4534536600112915], [7596, 1.461124300956726], [8336, 1.4619393348693848], [9350, 1.466991662979126], [8466, 1.4699881076812744], [8445, 1.4734293222427368], [9600, 1.482832431793213], [8818, 1.4869204759597778], [9827, 1.4875482320785522], [7772, 1.4893594980239868], [7558, 1.4902807474136353]]",
									"9063"
								],
								[
									"48",
									"video7352",
									"a movie scene starring morgan freeman and men in armor running",
									"[[7352, 1.3853856325149536]]",
									"[[7352, 1.3853856325149536], [8475, 1.4219026565551758], [9742, 1.4259767532348633], [8948, 1.4303228855133057], [9230, 1.4378721714019775]]",
									"[[7352, 1.3853856325149536], [8475, 1.4219026565551758], [9742, 1.4259767532348633], [8948, 1.4303228855133057], [9230, 1.4378721714019775], [9245, 1.4385311603546143], [8122, 1.4390242099761963], [9252, 1.4456106424331665], [8664, 1.447244644165039], [7155, 1.4493544101715088]]",
									"[[7352, 1.3853856325149536], [8475, 1.4219026565551758], [9742, 1.4259767532348633], [8948, 1.4303228855133057], [9230, 1.4378721714019775], [9245, 1.4385311603546143], [8122, 1.4390242099761963], [9252, 1.4456106424331665], [8664, 1.447244644165039], [7155, 1.4493544101715088], [7373, 1.4579392671585083], [9833, 1.4632773399353027], [8249, 1.4686123132705688], [8305, 1.470169186592102], [8313, 1.4731478691101074]]",
									"7352"
								],
								[
									"49",
									"video8447",
									"a woman singing on the voice",
									"[[7569, 1.3205636739730835]]",
									"[[7569, 1.3205636739730835], [8810, 1.3651217222213745], [8265, 1.365260362625122], [9351, 1.4028966426849365], [9518, 1.4052656888961792]]",
									"[[7569, 1.3205636739730835], [8810, 1.3651217222213745], [8265, 1.365260362625122], [9351, 1.4028966426849365], [9518, 1.4052656888961792], [7220, 1.410841703414917], [7162, 1.413535714149475], [7364, 1.4142884016036987], [9202, 1.4192698001861572], [9205, 1.4255907535552979]]",
									"[[7569, 1.3205636739730835], [8810, 1.3651217222213745], [8265, 1.365260362625122], [9351, 1.4028966426849365], [9518, 1.4052656888961792], [7220, 1.410841703414917], [7162, 1.413535714149475], [7364, 1.4142884016036987], [9202, 1.4192698001861572], [9205, 1.4255907535552979], [7756, 1.4276894330978394], [8783, 1.4307467937469482], [7577, 1.4390366077423096], [7791, 1.4403142929077148], [8447, 1.4404733180999756]]",
									"8447"
								]
							],
							"shape": {
								"columns": 7,
								"rows": 1000
							}
						},
						"text/html": [
							"<div>\n",
							"<style scoped>\n",
							"    .dataframe tbody tr th:only-of-type {\n",
							"        vertical-align: middle;\n",
							"    }\n",
							"\n",
							"    .dataframe tbody tr th {\n",
							"        vertical-align: top;\n",
							"    }\n",
							"\n",
							"    .dataframe thead th {\n",
							"        text-align: right;\n",
							"    }\n",
							"</style>\n",
							"<table border=\"1\" class=\"dataframe\">\n",
							"  <thead>\n",
							"    <tr style=\"text-align: right;\">\n",
							"      <th></th>\n",
							"      <th>rel_frame_id</th>\n",
							"      <th>query</th>\n",
							"      <th>top1</th>\n",
							"      <th>top5</th>\n",
							"      <th>top10</th>\n",
							"      <th>top15</th>\n",
							"      <th>ground_truth</th>\n",
							"    </tr>\n",
							"  </thead>\n",
							"  <tbody>\n",
							"    <tr>\n",
							"      <th>0</th>\n",
							"      <td>video7579</td>\n",
							"      <td>a girl wearing red top and black trouser is pu...</td>\n",
							"      <td>[[7579, 1.4025176763534546]]</td>\n",
							"      <td>[[7579, 1.4025176763534546], [7113, 1.42591190...</td>\n",
							"      <td>[[7579, 1.4025176763534546], [7113, 1.42591190...</td>\n",
							"      <td>[[7579, 1.4025176763534546], [7113, 1.42591190...</td>\n",
							"      <td>7579</td>\n",
							"    </tr>\n",
							"    <tr>\n",
							"      <th>1</th>\n",
							"      <td>video7725</td>\n",
							"      <td>young people sit around the edges of a room cl...</td>\n",
							"      <td>[[8441, 1.3825130462646484]]</td>\n",
							"      <td>[[8441, 1.3825130462646484], [7725, 1.41566181...</td>\n",
							"      <td>[[8441, 1.3825130462646484], [7725, 1.41566181...</td>\n",
							"      <td>[[8441, 1.3825130462646484], [7725, 1.41566181...</td>\n",
							"      <td>7725</td>\n",
							"    </tr>\n",
							"    <tr>\n",
							"      <th>2</th>\n",
							"      <td>video9258</td>\n",
							"      <td>a person is using a phone</td>\n",
							"      <td>[[7728, 1.4489479064941406]]</td>\n",
							"      <td>[[7728, 1.4489479064941406], [7029, 1.46234631...</td>\n",
							"      <td>[[7728, 1.4489479064941406], [7029, 1.46234631...</td>\n",
							"      <td>[[7728, 1.4489479064941406], [7029, 1.46234631...</td>\n",
							"      <td>9258</td>\n",
							"    </tr>\n",
							"    <tr>\n",
							"      <th>3</th>\n",
							"      <td>video7365</td>\n",
							"      <td>cartoon people are eating at a restaurant</td>\n",
							"      <td>[[8911, 1.4093154668807983]]</td>\n",
							"      <td>[[8911, 1.4093154668807983], [9777, 1.41201233...</td>\n",
							"      <td>[[8911, 1.4093154668807983], [9777, 1.41201233...</td>\n",
							"      <td>[[8911, 1.4093154668807983], [9777, 1.41201233...</td>\n",
							"      <td>7365</td>\n",
							"    </tr>\n",
							"    <tr>\n",
							"      <th>4</th>\n",
							"      <td>video8068</td>\n",
							"      <td>a woman on a couch talks to a a man</td>\n",
							"      <td>[[9793, 1.3899463415145874]]</td>\n",
							"      <td>[[9793, 1.3899463415145874], [7724, 1.42953228...</td>\n",
							"      <td>[[9793, 1.3899463415145874], [7724, 1.42953228...</td>\n",
							"      <td>[[9793, 1.3899463415145874], [7724, 1.42953228...</td>\n",
							"      <td>8068</td>\n",
							"    </tr>\n",
							"    <tr>\n",
							"      <th>...</th>\n",
							"      <td>...</td>\n",
							"      <td>...</td>\n",
							"      <td>...</td>\n",
							"      <td>...</td>\n",
							"      <td>...</td>\n",
							"      <td>...</td>\n",
							"      <td>...</td>\n",
							"    </tr>\n",
							"    <tr>\n",
							"      <th>995</th>\n",
							"      <td>video7034</td>\n",
							"      <td>man in black shirt is holding a baby upside do...</td>\n",
							"      <td>[[9037, 1.4728624820709229]]</td>\n",
							"      <td>[[9037, 1.4728624820709229], [9028, 1.47589492...</td>\n",
							"      <td>[[9037, 1.4728624820709229], [9028, 1.47589492...</td>\n",
							"      <td>[[9037, 1.4728624820709229], [9028, 1.47589492...</td>\n",
							"      <td>7034</td>\n",
							"    </tr>\n",
							"    <tr>\n",
							"      <th>996</th>\n",
							"      <td>video7568</td>\n",
							"      <td>the queen of england is seen walking with an e...</td>\n",
							"      <td>[[7568, 1.2998905181884766]]</td>\n",
							"      <td>[[7568, 1.2998905181884766], [8306, 1.51000714...</td>\n",
							"      <td>[[7568, 1.2998905181884766], [8306, 1.51000714...</td>\n",
							"      <td>[[7568, 1.2998905181884766], [8306, 1.51000714...</td>\n",
							"      <td>7568</td>\n",
							"    </tr>\n",
							"    <tr>\n",
							"      <th>997</th>\n",
							"      <td>video7979</td>\n",
							"      <td>people talking about a fight</td>\n",
							"      <td>[[8490, 1.4737529754638672]]</td>\n",
							"      <td>[[8490, 1.4737529754638672], [7352, 1.47550010...</td>\n",
							"      <td>[[8490, 1.4737529754638672], [7352, 1.47550010...</td>\n",
							"      <td>[[8490, 1.4737529754638672], [7352, 1.47550010...</td>\n",
							"      <td>7979</td>\n",
							"    </tr>\n",
							"    <tr>\n",
							"      <th>998</th>\n",
							"      <td>video7356</td>\n",
							"      <td>a vehicle with details on what comes with it b...</td>\n",
							"      <td>[[7597, 1.4469205141067505]]</td>\n",
							"      <td>[[7597, 1.4469205141067505], [7701, 1.46081280...</td>\n",
							"      <td>[[7597, 1.4469205141067505], [7701, 1.46081280...</td>\n",
							"      <td>[[7597, 1.4469205141067505], [7701, 1.46081280...</td>\n",
							"      <td>7356</td>\n",
							"    </tr>\n",
							"    <tr>\n",
							"      <th>999</th>\n",
							"      <td>video8578</td>\n",
							"      <td>a man is commentating while playing minecraft</td>\n",
							"      <td>[[7972, 1.3691062927246094]]</td>\n",
							"      <td>[[7972, 1.3691062927246094], [7792, 1.36991477...</td>\n",
							"      <td>[[7972, 1.3691062927246094], [7792, 1.36991477...</td>\n",
							"      <td>[[7972, 1.3691062927246094], [7792, 1.36991477...</td>\n",
							"      <td>8578</td>\n",
							"    </tr>\n",
							"  </tbody>\n",
							"</table>\n",
							"<p>1000 rows × 7 columns</p>\n",
							"</div>"
						],
						"text/plain": [
							"    rel_frame_id                                              query  \\\n",
							"0      video7579  a girl wearing red top and black trouser is pu...   \n",
							"1      video7725  young people sit around the edges of a room cl...   \n",
							"2      video9258                          a person is using a phone   \n",
							"3      video7365          cartoon people are eating at a restaurant   \n",
							"4      video8068                a woman on a couch talks to a a man   \n",
							"..           ...                                                ...   \n",
							"995    video7034  man in black shirt is holding a baby upside do...   \n",
							"996    video7568  the queen of england is seen walking with an e...   \n",
							"997    video7979                       people talking about a fight   \n",
							"998    video7356  a vehicle with details on what comes with it b...   \n",
							"999    video8578      a man is commentating while playing minecraft   \n",
							"\n",
							"                             top1  \\\n",
							"0    [[7579, 1.4025176763534546]]   \n",
							"1    [[8441, 1.3825130462646484]]   \n",
							"2    [[7728, 1.4489479064941406]]   \n",
							"3    [[8911, 1.4093154668807983]]   \n",
							"4    [[9793, 1.3899463415145874]]   \n",
							"..                            ...   \n",
							"995  [[9037, 1.4728624820709229]]   \n",
							"996  [[7568, 1.2998905181884766]]   \n",
							"997  [[8490, 1.4737529754638672]]   \n",
							"998  [[7597, 1.4469205141067505]]   \n",
							"999  [[7972, 1.3691062927246094]]   \n",
							"\n",
							"                                                  top5  \\\n",
							"0    [[7579, 1.4025176763534546], [7113, 1.42591190...   \n",
							"1    [[8441, 1.3825130462646484], [7725, 1.41566181...   \n",
							"2    [[7728, 1.4489479064941406], [7029, 1.46234631...   \n",
							"3    [[8911, 1.4093154668807983], [9777, 1.41201233...   \n",
							"4    [[9793, 1.3899463415145874], [7724, 1.42953228...   \n",
							"..                                                 ...   \n",
							"995  [[9037, 1.4728624820709229], [9028, 1.47589492...   \n",
							"996  [[7568, 1.2998905181884766], [8306, 1.51000714...   \n",
							"997  [[8490, 1.4737529754638672], [7352, 1.47550010...   \n",
							"998  [[7597, 1.4469205141067505], [7701, 1.46081280...   \n",
							"999  [[7972, 1.3691062927246094], [7792, 1.36991477...   \n",
							"\n",
							"                                                 top10  \\\n",
							"0    [[7579, 1.4025176763534546], [7113, 1.42591190...   \n",
							"1    [[8441, 1.3825130462646484], [7725, 1.41566181...   \n",
							"2    [[7728, 1.4489479064941406], [7029, 1.46234631...   \n",
							"3    [[8911, 1.4093154668807983], [9777, 1.41201233...   \n",
							"4    [[9793, 1.3899463415145874], [7724, 1.42953228...   \n",
							"..                                                 ...   \n",
							"995  [[9037, 1.4728624820709229], [9028, 1.47589492...   \n",
							"996  [[7568, 1.2998905181884766], [8306, 1.51000714...   \n",
							"997  [[8490, 1.4737529754638672], [7352, 1.47550010...   \n",
							"998  [[7597, 1.4469205141067505], [7701, 1.46081280...   \n",
							"999  [[7972, 1.3691062927246094], [7792, 1.36991477...   \n",
							"\n",
							"                                                 top15  ground_truth  \n",
							"0    [[7579, 1.4025176763534546], [7113, 1.42591190...          7579  \n",
							"1    [[8441, 1.3825130462646484], [7725, 1.41566181...          7725  \n",
							"2    [[7728, 1.4489479064941406], [7029, 1.46234631...          9258  \n",
							"3    [[8911, 1.4093154668807983], [9777, 1.41201233...          7365  \n",
							"4    [[9793, 1.3899463415145874], [7724, 1.42953228...          8068  \n",
							"..                                                 ...           ...  \n",
							"995  [[9037, 1.4728624820709229], [9028, 1.47589492...          7034  \n",
							"996  [[7568, 1.2998905181884766], [8306, 1.51000714...          7568  \n",
							"997  [[8490, 1.4737529754638672], [7352, 1.47550010...          7979  \n",
							"998  [[7597, 1.4469205141067505], [7701, 1.46081280...          7356  \n",
							"999  [[7972, 1.3691062927246094], [7792, 1.36991477...          8578  \n",
							"\n",
							"[1000 rows x 7 columns]"
						]
					},
					"execution_count": 21,
					"metadata": {},
					"output_type": "execute_result"
				}
			],
			"source": [
				"single_frame_queries_msrvtt = twohee_data_col_to_df(queries_ret_dc)\n",
				"single_frame_queries_msrvtt"
			]
		},
		{
			"cell_type": "code",
			"execution_count": 23,
			"id": "ba5da656",
			"metadata": {},
			"outputs": [],
			"source": [
				"# Save query results for further evaluation\n",
				"single_frame_queries_msrvtt.to_csv('query_results/single_frame_queries_msrvtt.csv', index=False)"
			]
		},
		{
			"cell_type": "code",
			"execution_count": 25,
			"id": "79ecce3d",
			"metadata": {},
			"outputs": [
				{
					"data": {
						"text/plain": [
							"{'recall@1': 0.255,\n",
							" 'recall@5': 0.466,\n",
							" 'recall@10': 0.565,\n",
							" 'map': 0.3457964285714284,\n",
							" 'ndcg@1': 0.255,\n",
							" 'ndcg@5': 0.36551375797361213,\n",
							" 'ndcg@10': 0.39791424686211235}"
						]
					},
					"execution_count": 25,
					"metadata": {},
					"output_type": "execute_result"
				}
			],
			"source": [
				"get_all_eval_scores(single_frame_queries_msrvtt)"
			]
		},
		{
			"cell_type": "markdown",
			"id": "e6b69532",
			"metadata": {},
			"source": [
				"### Try evaluation against queries from FIRE benchmark"
			]
		},
		{
			"cell_type": "markdown",
			"id": "2a9ea2e1",
			"metadata": {},
			"source": [
				"We are working with a sample of MSR-VTT and our evaluation pipeline supports only one relevant query per video, hence we need to filter the full FIRE benchmark to only include videos we have sampled and ones with a single relevant result."
			]
		},
		{
			"cell_type": "markdown",
			"id": "31086197",
			"metadata": {},
			"source": [
				"FIRE_BENCHMARK_Q_JUDGEMENTS is created in the notebook `./clean_fire_judgements.ipynb`"
			]
		},
		{
			"cell_type": "code",
			"execution_count": 32,
			"id": "ca3c6413",
			"metadata": {},
			"outputs": [
				{
					"name": "stderr",
					"output_type": "stream",
					"text": [
						"2025-04-17 12:47:36,299 - 8454604864 - clip.py-clip:100 - WARNING: Gpu not available, use cpu\n",
						"2025-04-17 12:47:36,332 - 8454604864 - connectionpool.py-connectionpool:544 - DEBUG: https://huggingface.co:443 \"HEAD /openai/clip-vit-base-patch16/resolve/main/config.json HTTP/1.1\" 200 0\n",
						"2025-04-17 12:47:36,363 - 8454604864 - connectionpool.py-connectionpool:544 - DEBUG: https://huggingface.co:443 \"HEAD /openai/clip-vit-base-patch16/resolve/main/config.json HTTP/1.1\" 200 0\n",
						"2025-04-17 12:47:36,410 - 8454604864 - connectionpool.py-connectionpool:544 - DEBUG: https://huggingface.co:443 \"HEAD /openai/clip-vit-base-patch16/resolve/main/model.safetensors HTTP/1.1\" 404 0\n",
						"2025-04-17 12:47:36,416 - 16080465920 - connectionpool.py-connectionpool:1049 - DEBUG: Starting new HTTPS connection (1): huggingface.co:443\n",
						"2025-04-17 12:47:36,511 - 16080465920 - connectionpool.py-connectionpool:544 - DEBUG: https://huggingface.co:443 \"GET /api/models/openai/clip-vit-base-patch16 HTTP/1.1\" 200 3499\n",
						"2025-04-17 12:47:36,518 - 8454604864 - connectionpool.py-connectionpool:544 - DEBUG: https://huggingface.co:443 \"HEAD /openai/clip-vit-base-patch16/resolve/main/tokenizer_config.json HTTP/1.1\" 200 0\n",
						"2025-04-17 12:47:36,610 - 8454604864 - connectionpool.py-connectionpool:544 - DEBUG: https://huggingface.co:443 \"HEAD /openai/clip-vit-base-patch16/resolve/main/preprocessor_config.json HTTP/1.1\" 200 0\n",
						"2025-04-17 12:47:36,641 - 8454604864 - connectionpool.py-connectionpool:544 - DEBUG: https://huggingface.co:443 \"HEAD /openai/clip-vit-base-patch16/resolve/main/tokenizer_config.json HTTP/1.1\" 200 0\n",
						"2025-04-17 12:47:36,794 - 16080465920 - connectionpool.py-connectionpool:544 - DEBUG: https://huggingface.co:443 \"GET /api/models/openai/clip-vit-base-patch16/commits/main HTTP/1.1\" 200 3099\n",
						"2025-04-17 12:47:36,843 - 16080465920 - connectionpool.py-connectionpool:544 - DEBUG: https://huggingface.co:443 \"GET /api/models/openai/clip-vit-base-patch16/discussions?p=0 HTTP/1.1\" 200 6380\n",
						"2025-04-17 12:47:36,889 - 16080465920 - connectionpool.py-connectionpool:544 - DEBUG: https://huggingface.co:443 \"GET /api/models/openai/clip-vit-base-patch16/commits/refs%2Fpr%2F10 HTTP/1.1\" 200 4064\n",
						"2025-04-17 12:47:36,923 - 16080465920 - connectionpool.py-connectionpool:544 - DEBUG: https://huggingface.co:443 \"HEAD /openai/clip-vit-base-patch16/resolve/refs%2Fpr%2F10/model.safetensors.index.json HTTP/1.1\" 404 0\n",
						"2025-04-17 12:47:36,972 - 16080465920 - connectionpool.py-connectionpool:544 - DEBUG: https://huggingface.co:443 \"HEAD /openai/clip-vit-base-patch16/resolve/refs%2Fpr%2F10/model.safetensors HTTP/1.1\" 302 0\n",
						"2025-04-17 12:47:36,996 - 8454604864 - connectionpool.py-connectionpool:544 - DEBUG: https://huggingface.co:443 \"HEAD /openai/clip-vit-base-patch16/resolve/main/processor_config.json HTTP/1.1\" 404 0\n",
						"2025-04-17 12:47:37,031 - 8454604864 - connectionpool.py-connectionpool:544 - DEBUG: https://huggingface.co:443 \"HEAD /openai/clip-vit-base-patch16/resolve/main/chat_template.json HTTP/1.1\" 404 0\n",
						"2025-04-17 12:47:37,064 - 8454604864 - connectionpool.py-connectionpool:544 - DEBUG: https://huggingface.co:443 \"HEAD /openai/clip-vit-base-patch16/resolve/main/chat_template.jinja HTTP/1.1\" 404 0\n",
						"2025-04-17 12:47:37,235 - 16114118656 - node.py-node:167 - INFO: Begin to run Node-_input\n",
						"2025-04-17 12:47:37,235 - 15937400832 - node.py-node:167 - INFO: Begin to run Node-read_frame_search_fire_csv-0\n",
						"2025-04-17 12:47:37,236 - 15954227200 - node.py-node:167 - INFO: Begin to run Node-image-text-embedding/clip-1\n",
						"2025-04-17 12:47:37,236 - 15971053568 - node.py-node:167 - INFO: Begin to run Node-lambda-2\n",
						"2025-04-17 12:47:37,236 - 16114118656 - node.py-node:167 - INFO: Begin to run Node-ann-search/milvus-client-3\n",
						"2025-04-17 12:47:37,236 - 15987879936 - node.py-node:167 - INFO: Begin to run Node-lambda-4\n",
						"2025-04-17 12:47:37,236 - 16004706304 - node.py-node:167 - INFO: Begin to run Node-_output\n"
					]
				}
			],
			"source": [
				"# Run query pipeline using FIRE\n",
				"\n",
				"\n",
				"# CSV parser function and pipeline recreated since the FIRE csv uses `video_id` instead of `frame_id`\n",
				"def read_frame_search_fire_csv(csv_file):\n",
				"    with open(csv_file, 'r', encoding='utf-8-sig') as f:\n",
				"        data = csv.DictReader(f)\n",
				"        for line in data:\n",
				"            yield line['video_id'], line['sentence']\n",
				"            \n",
				"frame_search_fire_pipeline = (\n",
				"    pipe.input('csv_file')\n",
				"    .flat_map('csv_file', ('rel_frame_id', 'query'), read_frame_search_fire_csv)\n",
				"    .map('query', 'vec', ops.image_text_embedding.clip(model_name='clip_vit_base_patch16', modality='text', device='mps'))\n",
				"    .map('vec', 'vec', lambda x: x / np.linalg.norm(x))\n",
				"    .map('vec', 'top10_raw_res', ops.ann_search.milvus_client(collection_name=FRAME_RET_COLLECTION, limit=15))\n",
				"    .map('top10_raw_res', ('top1', 'top5', 'top10', 'top15'), lambda x: (x[:1], x[:5], x[:10], x[:15]))\n",
				"    .output('rel_frame_id', 'query', 'top1', 'top5', 'top10', 'top15')\n",
				")\n",
				"\n",
				"fire_query_results_single_frame_dc = DataCollection(frame_search_fire_pipeline(FIRE_BENCHMARK_Q_JUDGEMENTS))"
			]
		},
		{
			"cell_type": "code",
			"execution_count": 33,
			"id": "9095cbaa",
			"metadata": {},
			"outputs": [
				{
					"data": {
						"text/html": [
							"<table style=\"border-collapse: collapse;\"><tr><th style=\"text-align: center; font-size: 130%; border: none;\">rel_frame_id</th> <th style=\"text-align: center; font-size: 130%; border: none;\">query</th> <th style=\"text-align: center; font-size: 130%; border: none;\">top1</th> <th style=\"text-align: center; font-size: 130%; border: none;\">top5</th> <th style=\"text-align: center; font-size: 130%; border: none;\">top10</th> <th style=\"text-align: center; font-size: 130%; border: none;\">top15</th></tr>\n",
							"<tr><td style=\"text-align: center; vertical-align: top; border-right: solid 1px #D3D3D3; border-left: solid 1px #D3D3D3; \">video8469</td><td style=\"text-align: center; vertical-align: top; border-right: solid 1px #D3D3D3; border-left: solid 1px #D3D3D3; \">two parrots in a bird cage one white chick and on green adult</td><td style=\"text-align: left; vertical-align: top; border-right: solid 1px #D3D3D3; border-left: solid 1px #D3D3D3; \">[[8469, 1.4449390172958374]] len=1</td><td style=\"text-align: left; vertical-align: top; border-right: solid 1px #D3D3D3; border-left: solid 1px #D3D3D3; \">[[8469, 1.4449390172958374],[7849, 1.4497870206832886],[7822, 1.4854648113250732],[9014, 1.4984512329101562],...] len=5</td><td style=\"text-align: left; vertical-align: top; border-right: solid 1px #D3D3D3; border-left: solid 1px #D3D3D3; \">[[8469, 1.4449390172958374],[7849, 1.4497870206832886],[7822, 1.4854648113250732],[9014, 1.4984512329101562],...] len=10</td><td style=\"text-align: left; vertical-align: top; border-right: solid 1px #D3D3D3; border-left: solid 1px #D3D3D3; \">[[8469, 1.4449390172958374],[7849, 1.4497870206832886],[7822, 1.4854648113250732],[9014, 1.4984512329101562],...] len=15</td></tr>\n",
							"<tr><td style=\"text-align: center; vertical-align: top; border-right: solid 1px #D3D3D3; border-left: solid 1px #D3D3D3; \">video9687</td><td style=\"text-align: center; vertical-align: top; border-right: solid 1px #D3D3D3; border-left: solid 1px #D3D3D3; \">a man chopping lobster and taking off the shell</td><td style=\"text-align: left; vertical-align: top; border-right: solid 1px #D3D3D3; border-left: solid 1px #D3D3D3; \">[[7820, 1.40888512134552]] len=1</td><td style=\"text-align: left; vertical-align: top; border-right: solid 1px #D3D3D3; border-left: solid 1px #D3D3D3; \">[[7820, 1.40888512134552],[9742, 1.4197094440460205],[9687, 1.4254179000854492],[8834, 1.4288145303726196],...] len=5</td><td style=\"text-align: left; vertical-align: top; border-right: solid 1px #D3D3D3; border-left: solid 1px #D3D3D3; \">[[7820, 1.40888512134552],[9742, 1.4197094440460205],[9687, 1.4254179000854492],[8834, 1.4288145303726196],...] len=10</td><td style=\"text-align: left; vertical-align: top; border-right: solid 1px #D3D3D3; border-left: solid 1px #D3D3D3; \">[[7820, 1.40888512134552],[9742, 1.4197094440460205],[9687, 1.4254179000854492],[8834, 1.4288145303726196],...] len=15</td></tr>\n",
							"<tr><td style=\"text-align: center; vertical-align: top; border-right: solid 1px #D3D3D3; border-left: solid 1px #D3D3D3; \">video7698</td><td style=\"text-align: center; vertical-align: top; border-right: solid 1px #D3D3D3; border-left: solid 1px #D3D3D3; \">two women are walking in a parking lot</td><td style=\"text-align: left; vertical-align: top; border-right: solid 1px #D3D3D3; border-left: solid 1px #D3D3D3; \">[[7558, 1.4385546445846558]] len=1</td><td style=\"text-align: left; vertical-align: top; border-right: solid 1px #D3D3D3; border-left: solid 1px #D3D3D3; \">[[7558, 1.4385546445846558],[9039, 1.4457066059112549],[7698, 1.4519243240356445],[8044, 1.4523491859436035],...] len=5</td><td style=\"text-align: left; vertical-align: top; border-right: solid 1px #D3D3D3; border-left: solid 1px #D3D3D3; \">[[7558, 1.4385546445846558],[9039, 1.4457066059112549],[7698, 1.4519243240356445],[8044, 1.4523491859436035],...] len=10</td><td style=\"text-align: left; vertical-align: top; border-right: solid 1px #D3D3D3; border-left: solid 1px #D3D3D3; \">[[7558, 1.4385546445846558],[9039, 1.4457066059112549],[7698, 1.4519243240356445],[8044, 1.4523491859436035],...] len=15</td></tr>\n",
							"<tr><td style=\"text-align: center; vertical-align: top; border-right: solid 1px #D3D3D3; border-left: solid 1px #D3D3D3; \">video9503</td><td style=\"text-align: center; vertical-align: top; border-right: solid 1px #D3D3D3; border-left: solid 1px #D3D3D3; \">a woman is talking about how jeans with patches or rips is trendy</td><td style=\"text-align: left; vertical-align: top; border-right: solid 1px #D3D3D3; border-left: solid 1px #D3D3D3; \">[[9503, 1.4195761680603027]] len=1</td><td style=\"text-align: left; vertical-align: top; border-right: solid 1px #D3D3D3; border-left: solid 1px #D3D3D3; \">[[9503, 1.4195761680603027],[8825, 1.4488005638122559],[9039, 1.4948625564575195],[9698, 1.4951632022857666],...] len=5</td><td style=\"text-align: left; vertical-align: top; border-right: solid 1px #D3D3D3; border-left: solid 1px #D3D3D3; \">[[9503, 1.4195761680603027],[8825, 1.4488005638122559],[9039, 1.4948625564575195],[9698, 1.4951632022857666],...] len=10</td><td style=\"text-align: left; vertical-align: top; border-right: solid 1px #D3D3D3; border-left: solid 1px #D3D3D3; \">[[9503, 1.4195761680603027],[8825, 1.4488005638122559],[9039, 1.4948625564575195],[9698, 1.4951632022857666],...] len=15</td></tr>\n",
							"<tr><td style=\"text-align: center; vertical-align: top; border-right: solid 1px #D3D3D3; border-left: solid 1px #D3D3D3; \">video8903</td><td style=\"text-align: center; vertical-align: top; border-right: solid 1px #D3D3D3; border-left: solid 1px #D3D3D3; \">a naked child runs through a field</td><td style=\"text-align: left; vertical-align: top; border-right: solid 1px #D3D3D3; border-left: solid 1px #D3D3D3; \">[[9031, 1.3999378681182861]] len=1</td><td style=\"text-align: left; vertical-align: top; border-right: solid 1px #D3D3D3; border-left: solid 1px #D3D3D3; \">[[9031, 1.3999378681182861],[9805, 1.4242286682128906],[8125, 1.4620842933654785],[8903, 1.4644503593444824],...] len=5</td><td style=\"text-align: left; vertical-align: top; border-right: solid 1px #D3D3D3; border-left: solid 1px #D3D3D3; \">[[9031, 1.3999378681182861],[9805, 1.4242286682128906],[8125, 1.4620842933654785],[8903, 1.4644503593444824],...] len=10</td><td style=\"text-align: left; vertical-align: top; border-right: solid 1px #D3D3D3; border-left: solid 1px #D3D3D3; \">[[9031, 1.3999378681182861],[9805, 1.4242286682128906],[8125, 1.4620842933654785],[8903, 1.4644503593444824],...] len=15</td></tr></table>"
						],
						"text/plain": [
							"<IPython.core.display.HTML object>"
						]
					},
					"metadata": {},
					"output_type": "display_data"
				}
			],
			"source": [
				"fire_query_results_single_frame_dc.show()"
			]
		},
		{
			"cell_type": "code",
			"execution_count": 34,
			"id": "6854a707",
			"metadata": {},
			"outputs": [
				{
					"data": {
						"application/vnd.microsoft.datawrangler.viewer.v0+json": {
							"columns": [
								{
									"name": "index",
									"rawType": "int64",
									"type": "integer"
								},
								{
									"name": "rel_frame_id",
									"rawType": "object",
									"type": "string"
								},
								{
									"name": "query",
									"rawType": "object",
									"type": "string"
								},
								{
									"name": "top1",
									"rawType": "object",
									"type": "unknown"
								},
								{
									"name": "top5",
									"rawType": "object",
									"type": "unknown"
								},
								{
									"name": "top10",
									"rawType": "object",
									"type": "unknown"
								},
								{
									"name": "top15",
									"rawType": "object",
									"type": "unknown"
								},
								{
									"name": "ground_truth",
									"rawType": "int64",
									"type": "integer"
								}
							],
							"conversionMethod": "pd.DataFrame",
							"ref": "a50bd8d3-5633-4dab-874d-445a7e7c771e",
							"rows": [
								[
									"0",
									"video8469",
									"two parrots in a bird cage one white chick and on green adult",
									"[[8469, 1.4449390172958374]]",
									"[[8469, 1.4449390172958374], [7849, 1.4497870206832886], [7822, 1.4854648113250732], [9014, 1.4984512329101562], [9253, 1.509603500366211]]",
									"[[8469, 1.4449390172958374], [7849, 1.4497870206832886], [7822, 1.4854648113250732], [9014, 1.4984512329101562], [9253, 1.509603500366211], [8268, 1.5156983137130737], [8259, 1.5162255764007568], [7343, 1.5177183151245117], [8302, 1.5200653076171875], [8786, 1.520758032798767]]",
									"[[8469, 1.4449390172958374], [7849, 1.4497870206832886], [7822, 1.4854648113250732], [9014, 1.4984512329101562], [9253, 1.509603500366211], [8268, 1.5156983137130737], [8259, 1.5162255764007568], [7343, 1.5177183151245117], [8302, 1.5200653076171875], [8786, 1.520758032798767], [9805, 1.5215561389923096], [8927, 1.526470422744751], [8014, 1.5274231433868408], [8783, 1.5280914306640625], [9341, 1.529177188873291]]",
									"8469"
								],
								[
									"1",
									"video9687",
									"a man chopping lobster and taking off the shell",
									"[[7820, 1.40888512134552]]",
									"[[7820, 1.40888512134552], [9742, 1.4197094440460205], [9687, 1.4254179000854492], [8834, 1.4288145303726196], [9309, 1.4338301420211792]]",
									"[[7820, 1.40888512134552], [9742, 1.4197094440460205], [9687, 1.4254179000854492], [8834, 1.4288145303726196], [9309, 1.4338301420211792], [8129, 1.4356516599655151], [8025, 1.4363141059875488], [9253, 1.4523711204528809], [7966, 1.4531044960021973], [9022, 1.4546780586242676]]",
									"[[7820, 1.40888512134552], [9742, 1.4197094440460205], [9687, 1.4254179000854492], [8834, 1.4288145303726196], [9309, 1.4338301420211792], [8129, 1.4356516599655151], [8025, 1.4363141059875488], [9253, 1.4523711204528809], [7966, 1.4531044960021973], [9022, 1.4546780586242676], [8479, 1.4585561752319336], [9537, 1.4593368768692017], [9798, 1.4599058628082275], [8325, 1.4694420099258423], [9693, 1.469682216644287]]",
									"9687"
								],
								[
									"2",
									"video7698",
									"two women are walking in a parking lot",
									"[[7558, 1.4385546445846558]]",
									"[[7558, 1.4385546445846558], [9039, 1.4457066059112549], [7698, 1.4519243240356445], [8044, 1.4523491859436035], [9832, 1.4546778202056885]]",
									"[[7558, 1.4385546445846558], [9039, 1.4457066059112549], [7698, 1.4519243240356445], [8044, 1.4523491859436035], [9832, 1.4546778202056885], [9404, 1.456540584564209], [7138, 1.4651788473129272], [9535, 1.4654009342193604], [8016, 1.4783687591552734], [9451, 1.4794328212738037]]",
									"[[7558, 1.4385546445846558], [9039, 1.4457066059112549], [7698, 1.4519243240356445], [8044, 1.4523491859436035], [9832, 1.4546778202056885], [9404, 1.456540584564209], [7138, 1.4651788473129272], [9535, 1.4654009342193604], [8016, 1.4783687591552734], [9451, 1.4794328212738037], [8316, 1.482999563217163], [8935, 1.4834636449813843], [9878, 1.485196590423584], [9341, 1.4857478141784668], [8899, 1.493368148803711]]",
									"7698"
								],
								[
									"3",
									"video9503",
									"a woman is talking about how jeans with patches or rips is trendy",
									"[[9503, 1.4195761680603027]]",
									"[[9503, 1.4195761680603027], [8825, 1.4488005638122559], [9039, 1.4948625564575195], [9698, 1.4951632022857666], [7724, 1.4958734512329102]]",
									"[[9503, 1.4195761680603027], [8825, 1.4488005638122559], [9039, 1.4948625564575195], [9698, 1.4951632022857666], [7724, 1.4958734512329102], [7577, 1.5019307136535645], [7580, 1.5101487636566162], [8824, 1.512810468673706], [9639, 1.5140807628631592], [9575, 1.5165200233459473]]",
									"[[9503, 1.4195761680603027], [8825, 1.4488005638122559], [9039, 1.4948625564575195], [9698, 1.4951632022857666], [7724, 1.4958734512329102], [7577, 1.5019307136535645], [7580, 1.5101487636566162], [8824, 1.512810468673706], [9639, 1.5140807628631592], [9575, 1.5165200233459473], [8446, 1.5169166326522827], [9512, 1.5174202919006348], [8813, 1.517545223236084], [8068, 1.5182182788848877], [9250, 1.520146369934082]]",
									"9503"
								],
								[
									"4",
									"video8903",
									"a naked child runs through a field",
									"[[9031, 1.3999378681182861]]",
									"[[9031, 1.3999378681182861], [9805, 1.4242286682128906], [8125, 1.4620842933654785], [8903, 1.4644503593444824], [8061, 1.4674540758132935]]",
									"[[9031, 1.3999378681182861], [9805, 1.4242286682128906], [8125, 1.4620842933654785], [8903, 1.4644503593444824], [8061, 1.4674540758132935], [8931, 1.4741811752319336], [9451, 1.4748121500015259], [7155, 1.4828898906707764], [8486, 1.484369158744812], [8044, 1.4859769344329834]]",
									"[[9031, 1.3999378681182861], [9805, 1.4242286682128906], [8125, 1.4620842933654785], [8903, 1.4644503593444824], [8061, 1.4674540758132935], [8931, 1.4741811752319336], [9451, 1.4748121500015259], [7155, 1.4828898906707764], [8486, 1.484369158744812], [8044, 1.4859769344329834], [9240, 1.4884675741195679], [7366, 1.4903593063354492], [8089, 1.4920670986175537], [7021, 1.494737982749939], [9535, 1.5000869035720825]]",
									"8903"
								],
								[
									"5",
									"video7415",
									"a salad in a bowl is being filmed on a table",
									"[[7845, 1.4290262460708618]]",
									"[[7845, 1.4290262460708618], [7360, 1.4371023178100586], [9752, 1.4396798610687256], [8686, 1.4487383365631104], [9798, 1.4496912956237793]]",
									"[[7845, 1.4290262460708618], [7360, 1.4371023178100586], [9752, 1.4396798610687256], [8686, 1.4487383365631104], [9798, 1.4496912956237793], [9356, 1.458784580230713], [8325, 1.4600110054016113], [8514, 1.460571050643921], [9256, 1.4651615619659424], [9689, 1.4704787731170654]]",
									"[[7845, 1.4290262460708618], [7360, 1.4371023178100586], [9752, 1.4396798610687256], [8686, 1.4487383365631104], [9798, 1.4496912956237793], [9356, 1.458784580230713], [8325, 1.4600110054016113], [8514, 1.460571050643921], [9256, 1.4651615619659424], [9689, 1.4704787731170654], [8306, 1.4712724685668945], [9687, 1.4742064476013184], [9693, 1.4760122299194336], [7744, 1.4764010906219482], [7826, 1.4770855903625488]]",
									"7415"
								],
								[
									"6",
									"video8807",
									"a couple dancing doing salsa",
									"[[9834, 1.444381594657898]]",
									"[[9834, 1.444381594657898], [8652, 1.457564353942871], [7593, 1.4578036069869995], [7979, 1.462463140487671], [8339, 1.467857003211975]]",
									"[[9834, 1.444381594657898], [8652, 1.457564353942871], [7593, 1.4578036069869995], [7979, 1.462463140487671], [8339, 1.467857003211975], [8899, 1.4766515493392944], [9535, 1.4863160848617554], [7837, 1.4868512153625488], [9404, 1.4887970685958862], [7438, 1.4908928871154785]]",
									"[[9834, 1.444381594657898], [8652, 1.457564353942871], [7593, 1.4578036069869995], [7979, 1.462463140487671], [8339, 1.467857003211975], [8899, 1.4766515493392944], [9535, 1.4863160848617554], [7837, 1.4868512153625488], [9404, 1.4887970685958862], [7438, 1.4908928871154785], [9513, 1.4934825897216797], [7200, 1.4955453872680664], [9254, 1.4962375164031982], [9400, 1.4965529441833496], [9451, 1.4967583417892456]]",
									"8807"
								],
								[
									"7",
									"video7348",
									"a girl is talking about relationships",
									"[[9698, 1.4627439975738525]]",
									"[[9698, 1.4627439975738525], [8904, 1.4994642734527588], [9419, 1.5004651546478271], [7724, 1.5028102397918701], [8048, 1.5036046504974365]]",
									"[[9698, 1.4627439975738525], [8904, 1.4994642734527588], [9419, 1.5004651546478271], [7724, 1.5028102397918701], [8048, 1.5036046504974365], [9205, 1.505636215209961], [8895, 1.5065213441848755], [9969, 1.507655143737793], [8456, 1.5099964141845703], [9350, 1.511538028717041]]",
									"[[9698, 1.4627439975738525], [8904, 1.4994642734527588], [9419, 1.5004651546478271], [7724, 1.5028102397918701], [8048, 1.5036046504974365], [9205, 1.505636215209961], [8895, 1.5065213441848755], [9969, 1.507655143737793], [8456, 1.5099964141845703], [9350, 1.511538028717041], [7118, 1.5133099555969238], [7029, 1.51370108127594], [9824, 1.516489863395691], [7216, 1.5181896686553955], [7580, 1.5188400745391846]]",
									"7348"
								],
								[
									"8",
									"video7119",
									"a man in a suit and a woman wearing brown giving the news",
									"[[9690, 1.3290841579437256]]",
									"[[9690, 1.3290841579437256], [7613, 1.337342381477356], [8650, 1.3431084156036377], [8333, 1.3526396751403809], [7119, 1.4006890058517456]]",
									"[[9690, 1.3290841579437256], [7613, 1.337342381477356], [8650, 1.3431084156036377], [8333, 1.3526396751403809], [7119, 1.4006890058517456], [9882, 1.4167687892913818], [9223, 1.419166922569275], [8175, 1.420285701751709], [9028, 1.4268336296081543], [7754, 1.4307969808578491]]",
									"[[9690, 1.3290841579437256], [7613, 1.337342381477356], [8650, 1.3431084156036377], [8333, 1.3526396751403809], [7119, 1.4006890058517456], [9882, 1.4167687892913818], [9223, 1.419166922569275], [8175, 1.420285701751709], [9028, 1.4268336296081543], [7754, 1.4307969808578491], [9204, 1.4325251579284668], [9835, 1.4414995908737183], [8930, 1.4438074827194214], [7469, 1.444297194480896], [8464, 1.4481902122497559]]",
									"7119"
								],
								[
									"9",
									"video8902",
									"a man is looking out a window to look at another man who jumped from the window to his death",
									"[[9323, 1.4329454898834229]]",
									"[[9323, 1.4329454898834229], [9871, 1.4421336650848389], [8497, 1.4460246562957764], [9331, 1.4486370086669922], [8044, 1.456347942352295]]",
									"[[9323, 1.4329454898834229], [9871, 1.4421336650848389], [8497, 1.4460246562957764], [9331, 1.4486370086669922], [8044, 1.456347942352295], [8073, 1.4616360664367676], [9806, 1.4627608060836792], [7766, 1.4663810729980469], [7780, 1.4678497314453125], [7114, 1.4689619541168213]]",
									"[[9323, 1.4329454898834229], [9871, 1.4421336650848389], [8497, 1.4460246562957764], [9331, 1.4486370086669922], [8044, 1.456347942352295], [8073, 1.4616360664367676], [9806, 1.4627608060836792], [7766, 1.4663810729980469], [7780, 1.4678497314453125], [7114, 1.4689619541168213], [7445, 1.472499132156372], [9253, 1.4725024700164795], [8945, 1.4762306213378906], [9334, 1.4785051345825195], [9514, 1.4791339635849]]",
									"8902"
								],
								[
									"10",
									"video8477",
									"city limits photograph taken from high point in day time",
									"[[8477, 1.556840181350708]]",
									"[[8477, 1.556840181350708], [8061, 1.5802375078201294], [7890, 1.5970101356506348], [8307, 1.6062805652618408], [8864, 1.614290475845337]]",
									"[[8477, 1.556840181350708], [8061, 1.5802375078201294], [7890, 1.5970101356506348], [8307, 1.6062805652618408], [8864, 1.614290475845337], [9773, 1.6172038316726685], [7368, 1.6176254749298096], [9246, 1.6184663772583008], [8312, 1.6235986948013306], [8796, 1.624731183052063]]",
									"[[8477, 1.556840181350708], [8061, 1.5802375078201294], [7890, 1.5970101356506348], [8307, 1.6062805652618408], [8864, 1.614290475845337], [9773, 1.6172038316726685], [7368, 1.6176254749298096], [9246, 1.6184663772583008], [8312, 1.6235986948013306], [8796, 1.624731183052063], [9807, 1.6275560855865479], [8655, 1.6286518573760986], [8817, 1.6330060958862305], [8945, 1.6380250453948975], [9788, 1.6414053440093994]]",
									"8477"
								],
								[
									"11",
									"video9824",
									"two ladies sitting down and talking in an office room",
									"[[9793, 1.4331352710723877]]",
									"[[9793, 1.4331352710723877], [7724, 1.488525390625], [7549, 1.4889416694641113], [8074, 1.4906730651855469], [7685, 1.4912998676300049]]",
									"[[9793, 1.4331352710723877], [7724, 1.488525390625], [7549, 1.4889416694641113], [8074, 1.4906730651855469], [7685, 1.4912998676300049], [9322, 1.4923605918884277], [9350, 1.4973628520965576], [9326, 1.4988422393798828], [8813, 1.4992997646331787], [7751, 1.5000771284103394]]",
									"[[9793, 1.4331352710723877], [7724, 1.488525390625], [7549, 1.4889416694641113], [8074, 1.4906730651855469], [7685, 1.4912998676300049], [9322, 1.4923605918884277], [9350, 1.4973628520965576], [9326, 1.4988422393798828], [8813, 1.4992997646331787], [7751, 1.5000771284103394], [9324, 1.5031442642211914], [7365, 1.506688117980957], [7593, 1.5067956447601318], [8068, 1.506817102432251], [7341, 1.5110368728637695]]",
									"9824"
								],
								[
									"12",
									"video7960",
									"a man is running around and playing a guitar",
									"[[9878, 1.4344326257705688]]",
									"[[9878, 1.4344326257705688], [8044, 1.4389374256134033], [9535, 1.4443238973617554], [7227, 1.450868844985962], [7837, 1.4514511823654175]]",
									"[[9878, 1.4344326257705688], [8044, 1.4389374256134033], [9535, 1.4443238973617554], [7227, 1.450868844985962], [7837, 1.4514511823654175], [7593, 1.4523534774780273], [9515, 1.4523855447769165], [9872, 1.453748106956482], [7228, 1.4561173915863037], [9813, 1.4588639736175537]]",
									"[[9878, 1.4344326257705688], [8044, 1.4389374256134033], [9535, 1.4443238973617554], [7227, 1.450868844985962], [7837, 1.4514511823654175], [7593, 1.4523534774780273], [9515, 1.4523855447769165], [9872, 1.453748106956482], [7228, 1.4561173915863037], [9813, 1.4588639736175537], [7419, 1.4640538692474365], [7732, 1.4679832458496094], [7961, 1.4718818664550781], [8306, 1.4734679460525513], [7976, 1.4736180305480957]]",
									"7960"
								],
								[
									"13",
									"video8079",
									"several groups of people are kayaking on a waterway",
									"[[9831, 1.3987998962402344]]",
									"[[9831, 1.3987998962402344], [8079, 1.4000080823898315], [8312, 1.4410934448242188], [8457, 1.4785290956497192], [9451, 1.4791033267974854]]",
									"[[9831, 1.3987998962402344], [8079, 1.4000080823898315], [8312, 1.4410934448242188], [8457, 1.4785290956497192], [9451, 1.4791033267974854], [7025, 1.5045230388641357], [8061, 1.512333631515503], [8307, 1.5163915157318115], [7795, 1.5185489654541016], [7152, 1.525376558303833]]",
									"[[9831, 1.3987998962402344], [8079, 1.4000080823898315], [8312, 1.4410934448242188], [8457, 1.4785290956497192], [9451, 1.4791033267974854], [7025, 1.5045230388641357], [8061, 1.512333631515503], [8307, 1.5163915157318115], [7795, 1.5185489654541016], [7152, 1.525376558303833], [9581, 1.527928352355957], [8477, 1.5291178226470947], [8125, 1.5415475368499756], [9511, 1.5429762601852417], [9246, 1.5441491603851318]]",
									"8079"
								],
								[
									"14",
									"video7542",
									"a boy gets out of a play police car and talks to a girl",
									"[[7542, 1.3643404245376587]]",
									"[[7542, 1.3643404245376587], [9806, 1.4047589302062988], [8653, 1.4391499757766724], [9832, 1.4396495819091797], [9622, 1.4502670764923096]]",
									"[[7542, 1.3643404245376587], [9806, 1.4047589302062988], [8653, 1.4391499757766724], [9832, 1.4396495819091797], [9622, 1.4502670764923096], [9323, 1.4560904502868652], [9404, 1.468123435974121], [8497, 1.4684398174285889], [9355, 1.4725687503814697], [9535, 1.4731459617614746]]",
									"[[7542, 1.3643404245376587], [9806, 1.4047589302062988], [8653, 1.4391499757766724], [9832, 1.4396495819091797], [9622, 1.4502670764923096], [9323, 1.4560904502868652], [9404, 1.468123435974121], [8497, 1.4684398174285889], [9355, 1.4725687503814697], [9535, 1.4731459617614746], [9695, 1.4772710800170898], [8831, 1.478500485420227], [8089, 1.4790242910385132], [8864, 1.4815189838409424], [9513, 1.482467770576477]]",
									"7542"
								],
								[
									"15",
									"video9209",
									"a girl practising her boy and arrow tricks",
									"[[9209, 1.3403475284576416]]",
									"[[9209, 1.3403475284576416], [9771, 1.3665757179260254], [8339, 1.4183707237243652], [8936, 1.424147605895996], [9338, 1.4289124011993408]]",
									"[[9209, 1.3403475284576416], [9771, 1.3665757179260254], [8339, 1.4183707237243652], [8936, 1.424147605895996], [9338, 1.4289124011993408], [9416, 1.432179570198059], [7558, 1.4383821487426758], [8815, 1.4405206441879272], [7113, 1.4501465559005737], [8469, 1.4541544914245605]]",
									"[[9209, 1.3403475284576416], [9771, 1.3665757179260254], [8339, 1.4183707237243652], [8936, 1.424147605895996], [9338, 1.4289124011993408], [9416, 1.432179570198059], [7558, 1.4383821487426758], [8815, 1.4405206441879272], [7113, 1.4501465559005737], [8469, 1.4541544914245605], [7593, 1.454635739326477], [8507, 1.457568883895874], [9535, 1.4638140201568604], [8125, 1.4639220237731934], [7359, 1.4660319089889526]]",
									"9209"
								],
								[
									"16",
									"video9839",
									"an animated horse is in a barn and the maker asks for comments",
									"[[8327, 1.3635778427124023]]",
									"[[8327, 1.3635778427124023], [9839, 1.3681941032409668], [9339, 1.3838274478912354], [9416, 1.3966577053070068], [9623, 1.4252991676330566]]",
									"[[8327, 1.3635778427124023], [9839, 1.3681941032409668], [9339, 1.3838274478912354], [9416, 1.3966577053070068], [9623, 1.4252991676330566], [9577, 1.4364161491394043], [9332, 1.4372403621673584], [7179, 1.4557647705078125], [7113, 1.4596304893493652], [8242, 1.463681936264038]]",
									"[[8327, 1.3635778427124023], [9839, 1.3681941032409668], [9339, 1.3838274478912354], [9416, 1.3966577053070068], [9623, 1.4252991676330566], [9577, 1.4364161491394043], [9332, 1.4372403621673584], [7179, 1.4557647705078125], [7113, 1.4596304893493652], [8242, 1.463681936264038], [8268, 1.4649208784103394], [8820, 1.4707647562026978], [9777, 1.472149133682251], [9772, 1.47224760055542], [7552, 1.4763329029083252]]",
									"9839"
								],
								[
									"17",
									"video7832",
									"a man and woman looking at each other on the subway",
									"[[7028, 1.4558945894241333]]",
									"[[7028, 1.4558945894241333], [7832, 1.4615402221679688], [8318, 1.4691603183746338], [9322, 1.4722133874893188], [7977, 1.477832317352295]]",
									"[[7028, 1.4558945894241333], [7832, 1.4615402221679688], [8318, 1.4691603183746338], [9322, 1.4722133874893188], [7977, 1.477832317352295], [7546, 1.483176827430725], [9639, 1.4832350015640259], [7365, 1.4895581007003784], [9238, 1.50108003616333], [9039, 1.5081937313079834]]",
									"[[7028, 1.4558945894241333], [7832, 1.4615402221679688], [8318, 1.4691603183746338], [9322, 1.4722133874893188], [7977, 1.477832317352295], [7546, 1.483176827430725], [9639, 1.4832350015640259], [7365, 1.4895581007003784], [9238, 1.50108003616333], [9039, 1.5081937313079834], [8442, 1.510890007019043], [7732, 1.5135738849639893], [8817, 1.514149785041809], [8839, 1.5170783996582031], [9686, 1.5175029039382935]]",
									"7832"
								],
								[
									"18",
									"video7156",
									"tom jones performing live on a television show",
									"[[7156, 1.4598504304885864]]",
									"[[7156, 1.4598504304885864], [9834, 1.4607313871383667], [8810, 1.4611562490463257], [8925, 1.4627853631973267], [7961, 1.464616060256958]]",
									"[[7156, 1.4598504304885864], [9834, 1.4607313871383667], [8810, 1.4611562490463257], [8925, 1.4627853631973267], [7961, 1.464616060256958], [8445, 1.4845777750015259], [8917, 1.4896037578582764], [8265, 1.4926793575286865], [8926, 1.4927512407302856], [9351, 1.4931926727294922]]",
									"[[7156, 1.4598504304885864], [9834, 1.4607313871383667], [8810, 1.4611562490463257], [8925, 1.4627853631973267], [7961, 1.464616060256958], [8445, 1.4845777750015259], [8917, 1.4896037578582764], [8265, 1.4926793575286865], [8926, 1.4927512407302856], [9351, 1.4931926727294922], [8069, 1.49873948097229], [7569, 1.4996955394744873], [8324, 1.500446081161499], [7461, 1.5009452104568481], [8337, 1.5055336952209473]]",
									"7156"
								],
								[
									"19",
									"video8678",
									"a lady is walking in the beach",
									"[[9359, 1.4375908374786377]]",
									"[[9359, 1.4375908374786377], [8678, 1.4413230419158936], [9031, 1.4445561170578003], [9338, 1.4772908687591553], [9039, 1.4897977113723755]]",
									"[[9359, 1.4375908374786377], [8678, 1.4413230419158936], [9031, 1.4445561170578003], [9338, 1.4772908687591553], [9039, 1.4897977113723755], [7558, 1.4964083433151245], [7974, 1.4995543956756592], [9574, 1.4998118877410889], [9451, 1.5002429485321045], [8061, 1.5024683475494385]]",
									"[[9359, 1.4375908374786377], [8678, 1.4413230419158936], [9031, 1.4445561170578003], [9338, 1.4772908687591553], [9039, 1.4897977113723755], [7558, 1.4964083433151245], [7974, 1.4995543956756592], [9574, 1.4998118877410889], [9451, 1.5002429485321045], [8061, 1.5024683475494385], [9577, 1.5050880908966064], [8928, 1.505479097366333], [9404, 1.5100476741790771], [9016, 1.5119361877441406], [8486, 1.5157768726348877]]",
									"8678"
								],
								[
									"20",
									"video9416",
									"person is recording the brown horse which is having fun",
									"[[9416, 1.3465094566345215]]",
									"[[9416, 1.3465094566345215], [9830, 1.389240026473999], [9451, 1.4244722127914429], [8306, 1.4318612813949585], [7593, 1.4368574619293213]]",
									"[[9416, 1.3465094566345215], [9830, 1.389240026473999], [9451, 1.4244722127914429], [8306, 1.4318612813949585], [7593, 1.4368574619293213], [9535, 1.4377737045288086], [9623, 1.4392104148864746], [7977, 1.4448847770690918], [7732, 1.4472286701202393], [9332, 1.4546096324920654]]",
									"[[9416, 1.3465094566345215], [9830, 1.389240026473999], [9451, 1.4244722127914429], [8306, 1.4318612813949585], [7593, 1.4368574619293213], [9535, 1.4377737045288086], [9623, 1.4392104148864746], [7977, 1.4448847770690918], [7732, 1.4472286701202393], [9332, 1.4546096324920654], [9031, 1.4615697860717773], [7615, 1.4641685485839844], [7113, 1.4645845890045166], [7552, 1.4670772552490234], [9253, 1.4693317413330078]]",
									"9416"
								],
								[
									"21",
									"video9780",
									"an older woman who is blind is talking to a girl named lilly",
									"[[8895, 1.3799176216125488]]",
									"[[8895, 1.3799176216125488], [7680, 1.3970558643341064], [9688, 1.4067652225494385], [9357, 1.4247653484344482], [7698, 1.4385706186294556]]",
									"[[8895, 1.3799176216125488], [7680, 1.3970558643341064], [9688, 1.4067652225494385], [9357, 1.4247653484344482], [7698, 1.4385706186294556], [9404, 1.4543452262878418], [9969, 1.4575059413909912], [8345, 1.4587560892105103], [9337, 1.4626028537750244], [8048, 1.4636818170547485]]",
									"[[8895, 1.3799176216125488], [7680, 1.3970558643341064], [9688, 1.4067652225494385], [9357, 1.4247653484344482], [7698, 1.4385706186294556], [9404, 1.4543452262878418], [9969, 1.4575059413909912], [8345, 1.4587560892105103], [9337, 1.4626028537750244], [8048, 1.4636818170547485], [9750, 1.4661489725112915], [9780, 1.468514323234558], [7542, 1.46967351436615], [7724, 1.4697792530059814], [7169, 1.469834804534912]]",
									"9780"
								],
								[
									"22",
									"video9812",
									"a woman giving a photoshop tutorial",
									"[[9346, 1.3747917413711548]]",
									"[[9346, 1.3747917413711548], [9688, 1.4036747217178345], [7916, 1.4175649881362915], [7724, 1.4398738145828247], [9812, 1.4402658939361572]]",
									"[[9346, 1.3747917413711548], [9688, 1.4036747217178345], [7916, 1.4175649881362915], [7724, 1.4398738145828247], [9812, 1.4402658939361572], [7977, 1.4485061168670654], [7462, 1.4505575895309448], [9207, 1.4523892402648926], [7348, 1.4547114372253418], [9818, 1.4550299644470215]]",
									"[[9346, 1.3747917413711548], [9688, 1.4036747217178345], [7916, 1.4175649881362915], [7724, 1.4398738145828247], [9812, 1.4402658939361572], [7977, 1.4485061168670654], [7462, 1.4505575895309448], [9207, 1.4523892402648926], [7348, 1.4547114372253418], [9818, 1.4550299644470215], [8825, 1.464400053024292], [8904, 1.469529390335083], [9575, 1.4699277877807617], [8712, 1.4722486734390259], [7571, 1.47332763671875]]",
									"9812"
								],
								[
									"23",
									"video8851",
									"a group of indian guys meeting on a bridge while it s raining",
									"[[9451, 1.4217755794525146]]",
									"[[9451, 1.4217755794525146], [8851, 1.4446536302566528], [9511, 1.4613699913024902], [7837, 1.463068962097168], [7171, 1.4750783443450928]]",
									"[[9451, 1.4217755794525146], [8851, 1.4446536302566528], [9511, 1.4613699913024902], [7837, 1.463068962097168], [7171, 1.4750783443450928], [9535, 1.4903260469436646], [8061, 1.5088157653808594], [8441, 1.516897201538086], [7732, 1.5179836750030518], [7832, 1.5181622505187988]]",
									"[[9451, 1.4217755794525146], [8851, 1.4446536302566528], [9511, 1.4613699913024902], [7837, 1.463068962097168], [7171, 1.4750783443450928], [9535, 1.4903260469436646], [8061, 1.5088157653808594], [8441, 1.516897201538086], [7732, 1.5179836750030518], [7832, 1.5181622505187988], [9359, 1.5204373598098755], [9513, 1.5214444398880005], [8808, 1.522322416305542], [7351, 1.5237321853637695], [8079, 1.5245274305343628]]",
									"8851"
								],
								[
									"24",
									"video7200",
									"a female soccer player accepts a reward while being cheered on by the crowd",
									"[[8476, 1.4216948747634888]]",
									"[[8476, 1.4216948747634888], [9681, 1.4773513078689575], [8979, 1.4787236452102661], [7839, 1.4977766275405884], [7200, 1.5077793598175049]]",
									"[[8476, 1.4216948747634888], [9681, 1.4773513078689575], [8979, 1.4787236452102661], [7839, 1.4977766275405884], [7200, 1.5077793598175049], [8341, 1.5301010608673096], [9404, 1.5303642749786377], [8333, 1.53215754032135], [9305, 1.536110281944275], [9832, 1.5379294157028198]]",
									"[[8476, 1.4216948747634888], [9681, 1.4773513078689575], [8979, 1.4787236452102661], [7839, 1.4977766275405884], [7200, 1.5077793598175049], [8341, 1.5301010608673096], [9404, 1.5303642749786377], [8333, 1.53215754032135], [9305, 1.536110281944275], [9832, 1.5379294157028198], [9834, 1.5385642051696777], [9600, 1.5401495695114136], [8817, 1.5451035499572754], [8314, 1.5488131046295166], [7610, 1.548950433731079]]",
									"7200"
								],
								[
									"25",
									"video8478",
									"a cat is licking a baby",
									"[[7902, 1.3222482204437256]]",
									"[[7902, 1.3222482204437256], [8672, 1.3449243307113647], [8478, 1.3568153381347656], [9200, 1.385632038116455], [8323, 1.4588903188705444]]",
									"[[7902, 1.3222482204437256], [8672, 1.3449243307113647], [8478, 1.3568153381347656], [9200, 1.385632038116455], [8323, 1.4588903188705444], [7593, 1.4615261554718018], [9535, 1.463870644569397], [7977, 1.4651823043823242], [7113, 1.4654889106750488], [9034, 1.465939998626709]]",
									"[[7902, 1.3222482204437256], [8672, 1.3449243307113647], [8478, 1.3568153381347656], [9200, 1.385632038116455], [8323, 1.4588903188705444], [7593, 1.4615261554718018], [9535, 1.463870644569397], [7977, 1.4651823043823242], [7113, 1.4654889106750488], [9034, 1.465939998626709], [9639, 1.468989372253418], [8016, 1.4693849086761475], [8837, 1.4713801145553589], [7592, 1.4762784242630005], [9772, 1.4769179821014404]]",
									"8478"
								],
								[
									"26",
									"video8315",
									"man in black suit is having meeting with group of people",
									"[[9254, 1.4572652578353882]]",
									"[[9254, 1.4572652578353882], [8074, 1.4666887521743774], [8315, 1.4806029796600342], [9028, 1.4809648990631104], [7171, 1.4869542121887207]]",
									"[[9254, 1.4572652578353882], [8074, 1.4666887521743774], [8315, 1.4806029796600342], [9028, 1.4809648990631104], [7171, 1.4869542121887207], [8441, 1.4960803985595703], [8831, 1.4970142841339111], [7200, 1.4985718727111816], [7222, 1.5018832683563232], [9350, 1.5036946535110474]]",
									"[[9254, 1.4572652578353882], [8074, 1.4666887521743774], [8315, 1.4806029796600342], [9028, 1.4809648990631104], [7171, 1.4869542121887207], [8441, 1.4960803985595703], [8831, 1.4970142841339111], [7200, 1.4985718727111816], [7222, 1.5018832683563232], [9350, 1.5036946535110474], [9692, 1.504842758178711], [8808, 1.5104492902755737], [8864, 1.5122379064559937], [8825, 1.5132710933685303], [7619, 1.5153131484985352]]",
									"8315"
								],
								[
									"27",
									"video7466",
									"a group of men carry a body covered in a sheet",
									"[[9832, 1.4615750312805176]]",
									"[[9832, 1.4615750312805176], [7747, 1.4740314483642578], [8680, 1.4780285358428955], [9681, 1.4799045324325562], [8125, 1.4883391857147217]]",
									"[[9832, 1.4615750312805176], [7747, 1.4740314483642578], [8680, 1.4780285358428955], [9681, 1.4799045324325562], [8125, 1.4883391857147217], [8079, 1.4921016693115234], [7137, 1.4969854354858398], [9755, 1.4975208044052124], [9957, 1.4986292123794556], [7592, 1.5039256811141968]]",
									"[[9832, 1.4615750312805176], [7747, 1.4740314483642578], [8680, 1.4780285358428955], [9681, 1.4799045324325562], [8125, 1.4883391857147217], [8079, 1.4921016693115234], [7137, 1.4969854354858398], [9755, 1.4975208044052124], [9957, 1.4986292123794556], [7592, 1.5039256811141968], [8903, 1.5060447454452515], [9576, 1.5085936784744263], [8652, 1.5095715522766113], [9524, 1.5185725688934326], [7227, 1.5195138454437256]]",
									"7466"
								],
								[
									"28",
									"video9010",
									"a group of zombis walking towards a very tall building with a globe in front of it",
									"[[9131, 1.4073214530944824]]",
									"[[9131, 1.4073214530944824], [7632, 1.4264265298843384], [8306, 1.437605619430542], [8808, 1.453930377960205], [9245, 1.4592523574829102]]",
									"[[9131, 1.4073214530944824], [7632, 1.4264265298843384], [8306, 1.437605619430542], [8808, 1.453930377960205], [9245, 1.4592523574829102], [8781, 1.46336030960083], [7747, 1.46498703956604], [8680, 1.4736250638961792], [7207, 1.474516749382019], [9010, 1.4807701110839844]]",
									"[[9131, 1.4073214530944824], [7632, 1.4264265298843384], [8306, 1.437605619430542], [8808, 1.453930377960205], [9245, 1.4592523574829102], [8781, 1.46336030960083], [7747, 1.46498703956604], [8680, 1.4736250638961792], [7207, 1.474516749382019], [9010, 1.4807701110839844], [8657, 1.4809679985046387], [8674, 1.481387972831726], [9524, 1.4823355674743652], [8945, 1.4870920181274414], [8027, 1.4881055355072021]]",
									"9010"
								],
								[
									"29",
									"video8336",
									"video of a church chior",
									"[[8336, 1.3742821216583252]]",
									"[[8336, 1.3742821216583252], [7772, 1.4117298126220703], [8474, 1.4146150350570679], [7352, 1.4458431005477905], [8978, 1.4518990516662598]]",
									"[[8336, 1.3742821216583252], [7772, 1.4117298126220703], [8474, 1.4146150350570679], [7352, 1.4458431005477905], [8978, 1.4518990516662598], [8416, 1.4549992084503174], [7558, 1.4566738605499268], [8441, 1.4582220315933228], [7227, 1.4662127494812012], [8445, 1.4663015604019165]]",
									"[[8336, 1.3742821216583252], [7772, 1.4117298126220703], [8474, 1.4146150350570679], [7352, 1.4458431005477905], [8978, 1.4518990516662598], [8416, 1.4549992084503174], [7558, 1.4566738605499268], [8441, 1.4582220315933228], [7227, 1.4662127494812012], [8445, 1.4663015604019165], [7828, 1.4677475690841675], [9326, 1.469141960144043], [7969, 1.4693043231964111], [8796, 1.4711167812347412], [8257, 1.4716719388961792]]",
									"8336"
								],
								[
									"30",
									"video8808",
									"a man talks back to a cop and handcuffs him to the table",
									"[[7363, 1.4393529891967773]]",
									"[[7363, 1.4393529891967773], [8899, 1.4598952531814575], [8831, 1.4715218544006348], [7200, 1.4740996360778809], [9404, 1.4749879837036133]]",
									"[[7363, 1.4393529891967773], [8899, 1.4598952531814575], [8831, 1.4715218544006348], [7200, 1.4740996360778809], [9404, 1.4749879837036133], [9254, 1.480302095413208], [9022, 1.4844136238098145], [9833, 1.4855852127075195], [8772, 1.4868443012237549], [9230, 1.487982988357544]]",
									"[[7363, 1.4393529891967773], [8899, 1.4598952531814575], [8831, 1.4715218544006348], [7200, 1.4740996360778809], [9404, 1.4749879837036133], [9254, 1.480302095413208], [9022, 1.4844136238098145], [9833, 1.4855852127075195], [8772, 1.4868443012237549], [9230, 1.487982988357544], [8664, 1.4900517463684082], [8861, 1.4904266595840454], [7352, 1.490762710571289], [7593, 1.491095781326294], [8302, 1.491377830505371]]",
									"8808"
								],
								[
									"31",
									"video7159",
									"a group discusses a man s outfit",
									"[[8831, 1.4657963514328003]]",
									"[[8831, 1.4657963514328003], [8825, 1.4667129516601562], [7418, 1.4697191715240479], [9235, 1.4765329360961914], [9513, 1.4770556688308716]]",
									"[[8831, 1.4657963514328003], [8825, 1.4667129516601562], [7418, 1.4697191715240479], [9235, 1.4765329360961914], [9513, 1.4770556688308716], [7844, 1.481633186340332], [8306, 1.4872229099273682], [9245, 1.4891409873962402], [8680, 1.4913365840911865], [9639, 1.4913499355316162]]",
									"[[8831, 1.4657963514328003], [8825, 1.4667129516601562], [7418, 1.4697191715240479], [9235, 1.4765329360961914], [9513, 1.4770556688308716], [7844, 1.481633186340332], [8306, 1.4872229099273682], [9245, 1.4891409873962402], [8680, 1.4913365840911865], [9639, 1.4913499355316162], [8573, 1.4920954704284668], [8259, 1.4950015544891357], [9690, 1.496415376663208], [8930, 1.4996106624603271], [7412, 1.4999507665634155]]",
									"7159"
								],
								[
									"32",
									"video9418",
									"a man in black suit is talking about deforestation and about climate change",
									"[[9418, 1.4523777961730957]]",
									"[[9418, 1.4523777961730957], [9028, 1.4649757146835327], [8905, 1.4678308963775635], [8301, 1.4706392288208008], [7589, 1.471238613128662]]",
									"[[9418, 1.4523777961730957], [9028, 1.4649757146835327], [8905, 1.4678308963775635], [8301, 1.4706392288208008], [7589, 1.471238613128662], [7215, 1.4719771146774292], [9406, 1.4729959964752197], [8120, 1.4737918376922607], [9203, 1.4756622314453125], [7947, 1.4788814783096313]]",
									"[[9418, 1.4523777961730957], [9028, 1.4649757146835327], [8905, 1.4678308963775635], [8301, 1.4706392288208008], [7589, 1.471238613128662], [7215, 1.4719771146774292], [9406, 1.4729959964752197], [8120, 1.4737918376922607], [9203, 1.4756622314453125], [7947, 1.4788814783096313], [9831, 1.4821786880493164], [8824, 1.482940435409546], [8464, 1.4852831363677979], [8830, 1.486182451248169], [9329, 1.4895604848861694]]",
									"9418"
								],
								[
									"33",
									"video7724",
									"a lady describes about workout and exercises for women",
									"[[8488, 1.4385143518447876]]",
									"[[8488, 1.4385143518447876], [7231, 1.4548325538635254], [7580, 1.4550297260284424], [7724, 1.4618991613388062], [8322, 1.4702082872390747]]",
									"[[8488, 1.4385143518447876], [7231, 1.4548325538635254], [7580, 1.4550297260284424], [7724, 1.4618991613388062], [8322, 1.4702082872390747], [9575, 1.4768671989440918], [7610, 1.4778025150299072], [8339, 1.494661569595337], [7546, 1.5012173652648926], [8323, 1.501976490020752]]",
									"[[8488, 1.4385143518447876], [7231, 1.4548325538635254], [7580, 1.4550297260284424], [7724, 1.4618991613388062], [8322, 1.4702082872390747], [9575, 1.4768671989440918], [7610, 1.4778025150299072], [8339, 1.494661569595337], [7546, 1.5012173652648926], [8323, 1.501976490020752], [8825, 1.5048325061798096], [7363, 1.5059082508087158], [9513, 1.5065749883651733], [8899, 1.5078821182250977], [8258, 1.5085214376449585]]",
									"7724"
								],
								[
									"34",
									"video7799",
									"somebody slices white onion with sharp knife on the table",
									"[[9798, 1.333503246307373]]",
									"[[9798, 1.333503246307373], [8836, 1.3727853298187256], [9684, 1.3843994140625], [9687, 1.3921104669570923], [7554, 1.4018223285675049]]",
									"[[9798, 1.333503246307373], [8836, 1.3727853298187256], [9684, 1.3843994140625], [9687, 1.3921104669570923], [7554, 1.4018223285675049], [7966, 1.421085000038147], [8834, 1.4228577613830566], [7939, 1.4356193542480469], [9256, 1.440349817276001], [9537, 1.4429430961608887]]",
									"[[9798, 1.333503246307373], [8836, 1.3727853298187256], [9684, 1.3843994140625], [9687, 1.3921104669570923], [7554, 1.4018223285675049], [7966, 1.421085000038147], [8834, 1.4228577613830566], [7939, 1.4356193542480469], [9256, 1.440349817276001], [9537, 1.4429430961608887], [8078, 1.4460896253585815], [9625, 1.449097990989685], [9731, 1.4498214721679688], [8899, 1.4505717754364014], [9349, 1.454399824142456]]",
									"7799"
								],
								[
									"35",
									"video7613",
									"a female journalist wearing a purple shirt and white blazer is talking on a news show next to the image of a male in a dark suit",
									"[[9882, 1.3707587718963623]]",
									"[[9882, 1.3707587718963623], [8333, 1.3740060329437256], [7469, 1.3784143924713135], [9690, 1.3833906650543213], [7613, 1.3873255252838135]]",
									"[[9882, 1.3707587718963623], [8333, 1.3740060329437256], [7469, 1.3784143924713135], [9690, 1.3833906650543213], [7613, 1.3873255252838135], [7549, 1.3950716257095337], [7580, 1.3962931632995605], [8783, 1.3974121809005737], [9223, 1.3981499671936035], [8461, 1.4054572582244873]]",
									"[[9882, 1.3707587718963623], [8333, 1.3740060329437256], [7469, 1.3784143924713135], [9690, 1.3833906650543213], [7613, 1.3873255252838135], [7549, 1.3950716257095337], [7580, 1.3962931632995605], [8783, 1.3974121809005737], [9223, 1.3981499671936035], [8461, 1.4054572582244873], [8789, 1.4056031703948975], [7231, 1.4088218212127686], [7577, 1.408923625946045], [8930, 1.4099878072738647], [9205, 1.4132287502288818]]",
									"7613"
								],
								[
									"36",
									"video9698",
									"a women is talking about the books she likes and the second favourite one is the amc the walking dead",
									"[[8868, 1.438725471496582]]",
									"[[8868, 1.438725471496582], [8684, 1.4516618251800537], [7577, 1.4623749256134033], [9575, 1.4650259017944336], [7580, 1.4793140888214111]]",
									"[[8868, 1.438725471496582], [8684, 1.4516618251800537], [7577, 1.4623749256134033], [9575, 1.4650259017944336], [7580, 1.4793140888214111], [7215, 1.4797430038452148], [8832, 1.480420708656311], [9205, 1.4829955101013184], [8068, 1.487823724746704], [7341, 1.4895527362823486]]",
									"[[8868, 1.438725471496582], [8684, 1.4516618251800537], [7577, 1.4623749256134033], [9575, 1.4650259017944336], [7580, 1.4793140888214111], [7215, 1.4797430038452148], [8832, 1.480420708656311], [9205, 1.4829955101013184], [8068, 1.487823724746704], [7341, 1.4895527362823486], [9517, 1.4898734092712402], [9824, 1.4899048805236816], [7231, 1.4904086589813232], [8814, 1.4920942783355713], [8783, 1.4935156106948853]]",
									"9698"
								],
								[
									"37",
									"video7799",
									"a guy chops up garlic and pours it over chicken frying in a pan",
									"[[9335, 1.2512983083724976]]",
									"[[9335, 1.2512983083724976], [7911, 1.3261648416519165], [8479, 1.3263781070709229], [8834, 1.3483747243881226], [7820, 1.3681232929229736]]",
									"[[9335, 1.2512983083724976], [7911, 1.3261648416519165], [8479, 1.3263781070709229], [8834, 1.3483747243881226], [7820, 1.3681232929229736], [9798, 1.3686957359313965], [8654, 1.3745275735855103], [9625, 1.3837461471557617], [9022, 1.387202501296997], [7154, 1.3930668830871582]]",
									"[[9335, 1.2512983083724976], [7911, 1.3261648416519165], [8479, 1.3263781070709229], [8834, 1.3483747243881226], [7820, 1.3681232929229736], [9798, 1.3686957359313965], [8654, 1.3745275735855103], [9625, 1.3837461471557617], [9022, 1.387202501296997], [7154, 1.3930668830871582], [7165, 1.394570231437683], [9689, 1.3964418172836304], [7376, 1.4012293815612793], [9693, 1.404099702835083], [9687, 1.4044132232666016]]",
									"7799"
								],
								[
									"38",
									"video9975",
									"a yellow sports car with a guy speaking about the car",
									"[[7110, 1.3591195344924927]]",
									"[[7110, 1.3591195344924927], [8901, 1.4252135753631592], [7151, 1.4337966442108154], [9806, 1.441227912902832], [7506, 1.4436029195785522]]",
									"[[7110, 1.3591195344924927], [8901, 1.4252135753631592], [7151, 1.4337966442108154], [9806, 1.441227912902832], [7506, 1.4436029195785522], [7844, 1.4445255994796753], [9690, 1.4512603282928467], [7616, 1.4524822235107422], [7828, 1.4548240900039673], [9677, 1.4578092098236084]]",
									"[[7110, 1.3591195344924927], [8901, 1.4252135753631592], [7151, 1.4337966442108154], [9806, 1.441227912902832], [7506, 1.4436029195785522], [7844, 1.4445255994796753], [9690, 1.4512603282928467], [7616, 1.4524822235107422], [7828, 1.4548240900039673], [9677, 1.4578092098236084], [9331, 1.4583587646484375], [9622, 1.4591045379638672], [8306, 1.4629205465316772], [8259, 1.4652518033981323], [8089, 1.4653420448303223]]",
									"9975"
								],
								[
									"39",
									"video7731",
									"fox newscasters discuss chris christie and his poll numbers",
									"[[7731, 1.3452565670013428]]",
									"[[7731, 1.3452565670013428], [9223, 1.3735607862472534], [7234, 1.432912826538086], [8789, 1.4404845237731934], [9512, 1.4446641206741333]]",
									"[[7731, 1.3452565670013428], [9223, 1.3735607862472534], [7234, 1.432912826538086], [8789, 1.4404845237731934], [9512, 1.4446641206741333], [7158, 1.4559617042541504], [8175, 1.4912745952606201], [8927, 1.526820182800293], [7754, 1.5283565521240234], [7834, 1.531996250152588]]",
									"[[7731, 1.3452565670013428], [9223, 1.3735607862472534], [7234, 1.432912826538086], [8789, 1.4404845237731934], [9512, 1.4446641206741333], [7158, 1.4559617042541504], [8175, 1.4912745952606201], [8927, 1.526820182800293], [7754, 1.5283565521240234], [7834, 1.531996250152588], [8864, 1.5336250066757202], [7613, 1.5337204933166504], [8930, 1.5380370616912842], [9359, 1.5435330867767334], [9692, 1.5442708730697632]]",
									"7731"
								],
								[
									"40",
									"video9685",
									"people practising marshal arts",
									"[[9813, 1.4189702272415161]]",
									"[[9813, 1.4189702272415161], [7766, 1.4327161312103271], [9832, 1.4395580291748047], [9800, 1.4432520866394043], [9806, 1.446514368057251]]",
									"[[9813, 1.4189702272415161], [7766, 1.4327161312103271], [9832, 1.4395580291748047], [9800, 1.4432520866394043], [9806, 1.446514368057251], [9826, 1.4479268789291382], [7780, 1.4480464458465576], [8125, 1.450514316558838], [7544, 1.4541633129119873], [7464, 1.4574494361877441]]",
									"[[9813, 1.4189702272415161], [7766, 1.4327161312103271], [9832, 1.4395580291748047], [9800, 1.4432520866394043], [9806, 1.446514368057251], [9826, 1.4479268789291382], [7780, 1.4480464458465576], [8125, 1.450514316558838], [7544, 1.4541633129119873], [7464, 1.4574494361877441], [7614, 1.4596000909805298], [9355, 1.4608396291732788], [9451, 1.4610521793365479], [7214, 1.4616087675094604], [7445, 1.462752103805542]]",
									"9685"
								],
								[
									"41",
									"video7829",
									"someone is putting a skeleton slide on a projector",
									"[[7829, 1.4420092105865479]]",
									"[[7829, 1.4420092105865479], [8626, 1.4422248601913452], [7343, 1.4482648372650146], [8121, 1.4522415399551392], [8078, 1.459293246269226]]",
									"[[7829, 1.4420092105865479], [8626, 1.4422248601913452], [7343, 1.4482648372650146], [8121, 1.4522415399551392], [8078, 1.459293246269226], [8622, 1.4610739946365356], [9350, 1.4681079387664795], [9508, 1.4751981496810913], [7977, 1.479426622390747], [7593, 1.4858454465866089]]",
									"[[7829, 1.4420092105865479], [8626, 1.4422248601913452], [7343, 1.4482648372650146], [8121, 1.4522415399551392], [8078, 1.459293246269226], [8622, 1.4610739946365356], [9350, 1.4681079387664795], [9508, 1.4751981496810913], [7977, 1.479426622390747], [7593, 1.4858454465866089], [7350, 1.4876072406768799], [7113, 1.489957571029663], [7576, 1.4928028583526611], [9578, 1.5038926601409912], [9530, 1.5078659057617188]]",
									"7829"
								],
								[
									"42",
									"video7969",
									"views of two persons working on the super computer with the head phones on",
									"[[8472, 1.4066457748413086]]",
									"[[8472, 1.4066457748413086], [7365, 1.4607689380645752], [8804, 1.4674713611602783], [8626, 1.4752614498138428], [7369, 1.4811087846755981]]",
									"[[8472, 1.4066457748413086], [7365, 1.4607689380645752], [8804, 1.4674713611602783], [8626, 1.4752614498138428], [7369, 1.4811087846755981], [7028, 1.4875798225402832], [8246, 1.4894218444824219], [9530, 1.493778109550476], [7685, 1.4968810081481934], [9221, 1.4981451034545898]]",
									"[[8472, 1.4066457748413086], [7365, 1.4607689380645752], [8804, 1.4674713611602783], [8626, 1.4752614498138428], [7369, 1.4811087846755981], [7028, 1.4875798225402832], [8246, 1.4894218444824219], [9530, 1.493778109550476], [7685, 1.4968810081481934], [9221, 1.4981451034545898], [8473, 1.4982070922851562], [9322, 1.5007210969924927], [7343, 1.5007226467132568], [7546, 1.5051538944244385], [9744, 1.5099647045135498]]",
									"7969"
								],
								[
									"43",
									"video9775",
									"a man speaks to children in a classroom",
									"[[7843, 1.3725121021270752]]",
									"[[7843, 1.3725121021270752], [9775, 1.3740216493606567], [9908, 1.3915159702301025], [9777, 1.4250774383544922], [7134, 1.438002109527588]]",
									"[[7843, 1.3725121021270752], [9775, 1.3740216493606567], [9908, 1.3915159702301025], [9777, 1.4250774383544922], [7134, 1.438002109527588], [9474, 1.438060998916626], [9326, 1.4428036212921143], [8301, 1.4471194744110107], [8331, 1.4505269527435303], [9117, 1.4627331495285034]]",
									"[[7843, 1.3725121021270752], [9775, 1.3740216493606567], [9908, 1.3915159702301025], [9777, 1.4250774383544922], [7134, 1.438002109527588], [9474, 1.438060998916626], [9326, 1.4428036212921143], [8301, 1.4471194744110107], [8331, 1.4505269527435303], [9117, 1.4627331495285034], [8804, 1.4689595699310303], [7491, 1.478279709815979], [8812, 1.479936122894287], [7412, 1.4844536781311035], [7828, 1.4943681955337524]]",
									"9775"
								],
								[
									"44",
									"video7410",
									"vladmir putin talks on the news about the fight against terrorism",
									"[[7410, 1.3230657577514648]]",
									"[[7410, 1.3230657577514648], [8905, 1.4766381978988647], [7967, 1.4797158241271973], [7469, 1.4798693656921387], [8464, 1.4972721338272095]]",
									"[[7410, 1.3230657577514648], [8905, 1.4766381978988647], [7967, 1.4797158241271973], [7469, 1.4798693656921387], [8464, 1.4972721338272095], [8906, 1.5024869441986084], [9450, 1.5036656856536865], [7568, 1.5040051937103271], [8311, 1.507507085800171], [7825, 1.5122816562652588]]",
									"[[7410, 1.3230657577514648], [8905, 1.4766381978988647], [7967, 1.4797158241271973], [7469, 1.4798693656921387], [8464, 1.4972721338272095], [8906, 1.5024869441986084], [9450, 1.5036656856536865], [7568, 1.5040051937103271], [8311, 1.507507085800171], [7825, 1.5122816562652588], [9404, 1.5160261392593384], [9777, 1.5170693397521973], [8267, 1.5177712440490723], [8493, 1.5184533596038818], [8626, 1.5200141668319702]]",
									"7410"
								],
								[
									"45",
									"video8116",
									"a dad plays video games with his son",
									"[[9320, 1.4639261960983276]]",
									"[[9320, 1.4639261960983276], [8472, 1.4644068479537964], [7593, 1.4670305252075195], [7363, 1.4772059917449951], [8459, 1.483345866203308]]",
									"[[9320, 1.4639261960983276], [8472, 1.4644068479537964], [7593, 1.4670305252075195], [7363, 1.4772059917449951], [8459, 1.483345866203308], [7780, 1.4883135557174683], [8681, 1.4921915531158447], [8788, 1.4935359954833984], [7203, 1.4950308799743652], [9770, 1.4963788986206055]]",
									"[[9320, 1.4639261960983276], [8472, 1.4644068479537964], [7593, 1.4670305252075195], [7363, 1.4772059917449951], [8459, 1.483345866203308], [7780, 1.4883135557174683], [8681, 1.4921915531158447], [8788, 1.4935359954833984], [7203, 1.4950308799743652], [9770, 1.4963788986206055], [7445, 1.5014376640319824], [9324, 1.502729892730713], [7969, 1.5052108764648438], [9909, 1.5055248737335205], [8256, 1.5069072246551514]]",
									"8116"
								],
								[
									"46",
									"video8348",
									"a woman looks after abandoned children for free in her home",
									"[[8348, 1.350912094116211]]",
									"[[8348, 1.350912094116211], [7466, 1.4279426336288452], [8899, 1.4417781829833984], [7113, 1.4468069076538086], [9404, 1.4544920921325684]]",
									"[[8348, 1.350912094116211], [7466, 1.4279426336288452], [8899, 1.4417781829833984], [7113, 1.4468069076538086], [9404, 1.4544920921325684], [7364, 1.4610600471496582], [7822, 1.4700782299041748], [9357, 1.4767628908157349], [7728, 1.4824244976043701], [9307, 1.4842798709869385]]",
									"[[8348, 1.350912094116211], [7466, 1.4279426336288452], [8899, 1.4417781829833984], [7113, 1.4468069076538086], [9404, 1.4544920921325684], [7364, 1.4610600471496582], [7822, 1.4700782299041748], [9357, 1.4767628908157349], [7728, 1.4824244976043701], [9307, 1.4842798709869385], [9343, 1.4843440055847168], [9320, 1.4858142137527466], [7201, 1.4893712997436523], [8300, 1.4937925338745117], [9576, 1.4939990043640137]]",
									"8348"
								],
								[
									"47",
									"video9251",
									"a group of people are stamp dancing on stage in front of a crowd",
									"[[8926, 1.3995180130004883]]",
									"[[8926, 1.3995180130004883], [9063, 1.4013893604278564], [8324, 1.4015016555786133], [8466, 1.4281315803527832], [9834, 1.4312201738357544]]",
									"[[8926, 1.3995180130004883], [9063, 1.4013893604278564], [8324, 1.4015016555786133], [8466, 1.4281315803527832], [9834, 1.4312201738357544], [8441, 1.4450920820236206], [7596, 1.4512507915496826], [7141, 1.4600229263305664], [7135, 1.4602890014648438], [9513, 1.4758720397949219]]",
									"[[8926, 1.3995180130004883], [9063, 1.4013893604278564], [8324, 1.4015016555786133], [8466, 1.4281315803527832], [9834, 1.4312201738357544], [8441, 1.4450920820236206], [7596, 1.4512507915496826], [7141, 1.4600229263305664], [7135, 1.4602890014648438], [9513, 1.4758720397949219], [8445, 1.4773454666137695], [9600, 1.4837689399719238], [7461, 1.485020399093628], [7558, 1.486769199371338], [7747, 1.4889051914215088]]",
									"9251"
								],
								[
									"48",
									"video9324",
									"animated video showing a bottle rolling across an empty hallway",
									"[[9324, 1.3358217477798462]]",
									"[[9324, 1.3358217477798462], [9256, 1.3791022300720215], [7588, 1.3810726404190063], [8123, 1.3842294216156006], [8076, 1.3853591680526733]]",
									"[[9324, 1.3358217477798462], [9256, 1.3791022300720215], [7588, 1.3810726404190063], [8123, 1.3842294216156006], [8076, 1.3853591680526733], [8486, 1.3862690925598145], [8606, 1.404599905014038], [8473, 1.4083532094955444], [8774, 1.4086854457855225], [9221, 1.4129140377044678]]",
									"[[9324, 1.3358217477798462], [9256, 1.3791022300720215], [7588, 1.3810726404190063], [8123, 1.3842294216156006], [8076, 1.3853591680526733], [8486, 1.3862690925598145], [8606, 1.404599905014038], [8473, 1.4083532094955444], [8774, 1.4086854457855225], [9221, 1.4129140377044678], [9620, 1.42229425907135], [7146, 1.4234994649887085], [7114, 1.4269500970840454], [8772, 1.4280962944030762], [7113, 1.429382562637329]]",
									"9324"
								],
								[
									"49",
									"video8690",
									"a blonde woman is speaking and then a radio button to subscribe to her webcasts appears",
									"[[8927, 1.407536506652832]]",
									"[[8927, 1.407536506652832], [7341, 1.4299156665802002], [9688, 1.4347965717315674], [8690, 1.439448356628418], [7754, 1.4431806802749634]]",
									"[[8927, 1.407536506652832], [7341, 1.4299156665802002], [9688, 1.4347965717315674], [8690, 1.439448356628418], [7754, 1.4431806802749634], [9517, 1.4436980485916138], [7580, 1.444053053855896], [7577, 1.4464555978775024], [7946, 1.4536551237106323], [7549, 1.4588205814361572]]",
									"[[8927, 1.407536506652832], [7341, 1.4299156665802002], [9688, 1.4347965717315674], [8690, 1.439448356628418], [7754, 1.4431806802749634], [9517, 1.4436980485916138], [7580, 1.444053053855896], [7577, 1.4464555978775024], [7946, 1.4536551237106323], [7549, 1.4588205814361572], [8323, 1.4601857662200928], [9512, 1.4603502750396729], [7829, 1.4619808197021484], [9575, 1.46653413772583], [7685, 1.467259407043457]]",
									"8690"
								]
							],
							"shape": {
								"columns": 7,
								"rows": 314
							}
						},
						"text/html": [
							"<div>\n",
							"<style scoped>\n",
							"    .dataframe tbody tr th:only-of-type {\n",
							"        vertical-align: middle;\n",
							"    }\n",
							"\n",
							"    .dataframe tbody tr th {\n",
							"        vertical-align: top;\n",
							"    }\n",
							"\n",
							"    .dataframe thead th {\n",
							"        text-align: right;\n",
							"    }\n",
							"</style>\n",
							"<table border=\"1\" class=\"dataframe\">\n",
							"  <thead>\n",
							"    <tr style=\"text-align: right;\">\n",
							"      <th></th>\n",
							"      <th>rel_frame_id</th>\n",
							"      <th>query</th>\n",
							"      <th>top1</th>\n",
							"      <th>top5</th>\n",
							"      <th>top10</th>\n",
							"      <th>top15</th>\n",
							"      <th>ground_truth</th>\n",
							"    </tr>\n",
							"  </thead>\n",
							"  <tbody>\n",
							"    <tr>\n",
							"      <th>0</th>\n",
							"      <td>video8469</td>\n",
							"      <td>two parrots in a bird cage one white chick and...</td>\n",
							"      <td>[[8469, 1.4449390172958374]]</td>\n",
							"      <td>[[8469, 1.4449390172958374], [7849, 1.44978702...</td>\n",
							"      <td>[[8469, 1.4449390172958374], [7849, 1.44978702...</td>\n",
							"      <td>[[8469, 1.4449390172958374], [7849, 1.44978702...</td>\n",
							"      <td>8469</td>\n",
							"    </tr>\n",
							"    <tr>\n",
							"      <th>1</th>\n",
							"      <td>video9687</td>\n",
							"      <td>a man chopping lobster and taking off the shell</td>\n",
							"      <td>[[7820, 1.40888512134552]]</td>\n",
							"      <td>[[7820, 1.40888512134552], [9742, 1.4197094440...</td>\n",
							"      <td>[[7820, 1.40888512134552], [9742, 1.4197094440...</td>\n",
							"      <td>[[7820, 1.40888512134552], [9742, 1.4197094440...</td>\n",
							"      <td>9687</td>\n",
							"    </tr>\n",
							"    <tr>\n",
							"      <th>2</th>\n",
							"      <td>video7698</td>\n",
							"      <td>two women are walking in a parking lot</td>\n",
							"      <td>[[7558, 1.4385546445846558]]</td>\n",
							"      <td>[[7558, 1.4385546445846558], [9039, 1.44570660...</td>\n",
							"      <td>[[7558, 1.4385546445846558], [9039, 1.44570660...</td>\n",
							"      <td>[[7558, 1.4385546445846558], [9039, 1.44570660...</td>\n",
							"      <td>7698</td>\n",
							"    </tr>\n",
							"    <tr>\n",
							"      <th>3</th>\n",
							"      <td>video9503</td>\n",
							"      <td>a woman is talking about how jeans with patche...</td>\n",
							"      <td>[[9503, 1.4195761680603027]]</td>\n",
							"      <td>[[9503, 1.4195761680603027], [8825, 1.44880056...</td>\n",
							"      <td>[[9503, 1.4195761680603027], [8825, 1.44880056...</td>\n",
							"      <td>[[9503, 1.4195761680603027], [8825, 1.44880056...</td>\n",
							"      <td>9503</td>\n",
							"    </tr>\n",
							"    <tr>\n",
							"      <th>4</th>\n",
							"      <td>video8903</td>\n",
							"      <td>a naked child runs through a field</td>\n",
							"      <td>[[9031, 1.3999378681182861]]</td>\n",
							"      <td>[[9031, 1.3999378681182861], [9805, 1.42422866...</td>\n",
							"      <td>[[9031, 1.3999378681182861], [9805, 1.42422866...</td>\n",
							"      <td>[[9031, 1.3999378681182861], [9805, 1.42422866...</td>\n",
							"      <td>8903</td>\n",
							"    </tr>\n",
							"    <tr>\n",
							"      <th>...</th>\n",
							"      <td>...</td>\n",
							"      <td>...</td>\n",
							"      <td>...</td>\n",
							"      <td>...</td>\n",
							"      <td>...</td>\n",
							"      <td>...</td>\n",
							"      <td>...</td>\n",
							"    </tr>\n",
							"    <tr>\n",
							"      <th>309</th>\n",
							"      <td>video9801</td>\n",
							"      <td>selena gomez clips of her videos and her danci...</td>\n",
							"      <td>[[9801, 1.3812708854675293]]</td>\n",
							"      <td>[[9801, 1.3812708854675293], [8073, 1.41013109...</td>\n",
							"      <td>[[9801, 1.3812708854675293], [8073, 1.41013109...</td>\n",
							"      <td>[[9801, 1.3812708854675293], [8073, 1.41013109...</td>\n",
							"      <td>9801</td>\n",
							"    </tr>\n",
							"    <tr>\n",
							"      <th>310</th>\n",
							"      <td>video8267</td>\n",
							"      <td>video of gymasts practicing to roll</td>\n",
							"      <td>[[8339, 1.3414828777313232]]</td>\n",
							"      <td>[[8339, 1.3414828777313232], [9771, 1.35292196...</td>\n",
							"      <td>[[8339, 1.3414828777313232], [9771, 1.35292196...</td>\n",
							"      <td>[[8339, 1.3414828777313232], [9771, 1.35292196...</td>\n",
							"      <td>8267</td>\n",
							"    </tr>\n",
							"    <tr>\n",
							"      <th>311</th>\n",
							"      <td>video8928</td>\n",
							"      <td>a woman walking along side a river in a bikini</td>\n",
							"      <td>[[8928, 1.4537211656570435]]</td>\n",
							"      <td>[[8928, 1.4537211656570435], [7025, 1.45391392...</td>\n",
							"      <td>[[8928, 1.4537211656570435], [7025, 1.45391392...</td>\n",
							"      <td>[[8928, 1.4537211656570435], [7025, 1.45391392...</td>\n",
							"      <td>8928</td>\n",
							"    </tr>\n",
							"    <tr>\n",
							"      <th>312</th>\n",
							"      <td>video7782</td>\n",
							"      <td>a little girl talking to her and is scared</td>\n",
							"      <td>[[7542, 1.4020490646362305]]</td>\n",
							"      <td>[[7542, 1.4020490646362305], [9404, 1.40517711...</td>\n",
							"      <td>[[7542, 1.4020490646362305], [9404, 1.40517711...</td>\n",
							"      <td>[[7542, 1.4020490646362305], [9404, 1.40517711...</td>\n",
							"      <td>7782</td>\n",
							"    </tr>\n",
							"    <tr>\n",
							"      <th>313</th>\n",
							"      <td>video9230</td>\n",
							"      <td>a man talks to a little boy about not letting ...</td>\n",
							"      <td>[[8681, 1.4369720220565796]]</td>\n",
							"      <td>[[8681, 1.4369720220565796], [8917, 1.43766617...</td>\n",
							"      <td>[[8681, 1.4369720220565796], [8917, 1.43766617...</td>\n",
							"      <td>[[8681, 1.4369720220565796], [8917, 1.43766617...</td>\n",
							"      <td>9230</td>\n",
							"    </tr>\n",
							"  </tbody>\n",
							"</table>\n",
							"<p>314 rows × 7 columns</p>\n",
							"</div>"
						],
						"text/plain": [
							"    rel_frame_id                                              query  \\\n",
							"0      video8469  two parrots in a bird cage one white chick and...   \n",
							"1      video9687    a man chopping lobster and taking off the shell   \n",
							"2      video7698             two women are walking in a parking lot   \n",
							"3      video9503  a woman is talking about how jeans with patche...   \n",
							"4      video8903                 a naked child runs through a field   \n",
							"..           ...                                                ...   \n",
							"309    video9801  selena gomez clips of her videos and her danci...   \n",
							"310    video8267                video of gymasts practicing to roll   \n",
							"311    video8928     a woman walking along side a river in a bikini   \n",
							"312    video7782         a little girl talking to her and is scared   \n",
							"313    video9230  a man talks to a little boy about not letting ...   \n",
							"\n",
							"                             top1  \\\n",
							"0    [[8469, 1.4449390172958374]]   \n",
							"1      [[7820, 1.40888512134552]]   \n",
							"2    [[7558, 1.4385546445846558]]   \n",
							"3    [[9503, 1.4195761680603027]]   \n",
							"4    [[9031, 1.3999378681182861]]   \n",
							"..                            ...   \n",
							"309  [[9801, 1.3812708854675293]]   \n",
							"310  [[8339, 1.3414828777313232]]   \n",
							"311  [[8928, 1.4537211656570435]]   \n",
							"312  [[7542, 1.4020490646362305]]   \n",
							"313  [[8681, 1.4369720220565796]]   \n",
							"\n",
							"                                                  top5  \\\n",
							"0    [[8469, 1.4449390172958374], [7849, 1.44978702...   \n",
							"1    [[7820, 1.40888512134552], [9742, 1.4197094440...   \n",
							"2    [[7558, 1.4385546445846558], [9039, 1.44570660...   \n",
							"3    [[9503, 1.4195761680603027], [8825, 1.44880056...   \n",
							"4    [[9031, 1.3999378681182861], [9805, 1.42422866...   \n",
							"..                                                 ...   \n",
							"309  [[9801, 1.3812708854675293], [8073, 1.41013109...   \n",
							"310  [[8339, 1.3414828777313232], [9771, 1.35292196...   \n",
							"311  [[8928, 1.4537211656570435], [7025, 1.45391392...   \n",
							"312  [[7542, 1.4020490646362305], [9404, 1.40517711...   \n",
							"313  [[8681, 1.4369720220565796], [8917, 1.43766617...   \n",
							"\n",
							"                                                 top10  \\\n",
							"0    [[8469, 1.4449390172958374], [7849, 1.44978702...   \n",
							"1    [[7820, 1.40888512134552], [9742, 1.4197094440...   \n",
							"2    [[7558, 1.4385546445846558], [9039, 1.44570660...   \n",
							"3    [[9503, 1.4195761680603027], [8825, 1.44880056...   \n",
							"4    [[9031, 1.3999378681182861], [9805, 1.42422866...   \n",
							"..                                                 ...   \n",
							"309  [[9801, 1.3812708854675293], [8073, 1.41013109...   \n",
							"310  [[8339, 1.3414828777313232], [9771, 1.35292196...   \n",
							"311  [[8928, 1.4537211656570435], [7025, 1.45391392...   \n",
							"312  [[7542, 1.4020490646362305], [9404, 1.40517711...   \n",
							"313  [[8681, 1.4369720220565796], [8917, 1.43766617...   \n",
							"\n",
							"                                                 top15  ground_truth  \n",
							"0    [[8469, 1.4449390172958374], [7849, 1.44978702...          8469  \n",
							"1    [[7820, 1.40888512134552], [9742, 1.4197094440...          9687  \n",
							"2    [[7558, 1.4385546445846558], [9039, 1.44570660...          7698  \n",
							"3    [[9503, 1.4195761680603027], [8825, 1.44880056...          9503  \n",
							"4    [[9031, 1.3999378681182861], [9805, 1.42422866...          8903  \n",
							"..                                                 ...           ...  \n",
							"309  [[9801, 1.3812708854675293], [8073, 1.41013109...          9801  \n",
							"310  [[8339, 1.3414828777313232], [9771, 1.35292196...          8267  \n",
							"311  [[8928, 1.4537211656570435], [7025, 1.45391392...          8928  \n",
							"312  [[7542, 1.4020490646362305], [9404, 1.40517711...          7782  \n",
							"313  [[8681, 1.4369720220565796], [8917, 1.43766617...          9230  \n",
							"\n",
							"[314 rows x 7 columns]"
						]
					},
					"execution_count": 34,
					"metadata": {},
					"output_type": "execute_result"
				}
			],
			"source": [
				"single_frame_queries_fire = twohee_data_col_to_df(fire_query_results_single_frame_dc)\n",
				"single_frame_queries_fire"
			]
		},
		{
			"cell_type": "code",
			"execution_count": 35,
			"id": "293e0a79",
			"metadata": {},
			"outputs": [],
			"source": [
				"single_frame_queries_fire.to_csv('query_results/single_frame_queries_fire.csv', index=False)"
			]
		},
		{
			"cell_type": "code",
			"execution_count": null,
			"id": "d379d6e4",
			"metadata": {},
			"outputs": [
				{
					"data": {
						"text/plain": [
							"{'recall@1': 0.3853503184713376,\n",
							" 'recall@5': 0.5828025477707006,\n",
							" 'recall@10': 0.6528662420382165,\n",
							" 'map': 0.4671317359215448,\n",
							" 'ndcg@1': 0.3853503184713376,\n",
							" 'ndcg@5': 0.4886329774890437,\n",
							" 'ndcg@10': 0.5116411440087274}"
						]
					},
					"execution_count": 47,
					"metadata": {},
					"output_type": "execute_result"
				}
			],
			"source": [
				"get_all_eval_scores(single_frame_queries_fire)"
			]
		},
		{
			"cell_type": "markdown",
			"id": "2bc7bcd6",
			"metadata": {},
			"source": [
				"## Final Scores for Single Frame Retrieval"
			]
		},
		{
			"cell_type": "code",
			"execution_count": 49,
			"id": "e6e8685a",
			"metadata": {},
			"outputs": [
				{
					"data": {
						"text/html": [
							"<style type=\"text/css\">\n",
							"</style>\n",
							"<table id=\"T_b6af7\">\n",
							"  <caption>Model Metrics Comparison</caption>\n",
							"  <thead>\n",
							"    <tr>\n",
							"      <th class=\"blank level0\" >&nbsp;</th>\n",
							"      <th id=\"T_b6af7_level0_col0\" class=\"col_heading level0 col0\" >recall@1</th>\n",
							"      <th id=\"T_b6af7_level0_col1\" class=\"col_heading level0 col1\" >recall@5</th>\n",
							"      <th id=\"T_b6af7_level0_col2\" class=\"col_heading level0 col2\" >recall@10</th>\n",
							"      <th id=\"T_b6af7_level0_col3\" class=\"col_heading level0 col3\" >map</th>\n",
							"      <th id=\"T_b6af7_level0_col4\" class=\"col_heading level0 col4\" >ndcg@1</th>\n",
							"      <th id=\"T_b6af7_level0_col5\" class=\"col_heading level0 col5\" >ndcg@5</th>\n",
							"      <th id=\"T_b6af7_level0_col6\" class=\"col_heading level0 col6\" >ndcg@10</th>\n",
							"    </tr>\n",
							"  </thead>\n",
							"  <tbody>\n",
							"    <tr>\n",
							"      <th id=\"T_b6af7_level0_row0\" class=\"row_heading level0 row0\" >MSRVTT</th>\n",
							"      <td id=\"T_b6af7_row0_col0\" class=\"data row0 col0\" >0.255</td>\n",
							"      <td id=\"T_b6af7_row0_col1\" class=\"data row0 col1\" >0.466</td>\n",
							"      <td id=\"T_b6af7_row0_col2\" class=\"data row0 col2\" >0.565</td>\n",
							"      <td id=\"T_b6af7_row0_col3\" class=\"data row0 col3\" >0.346</td>\n",
							"      <td id=\"T_b6af7_row0_col4\" class=\"data row0 col4\" >0.255</td>\n",
							"      <td id=\"T_b6af7_row0_col5\" class=\"data row0 col5\" >0.366</td>\n",
							"      <td id=\"T_b6af7_row0_col6\" class=\"data row0 col6\" >0.398</td>\n",
							"    </tr>\n",
							"    <tr>\n",
							"      <th id=\"T_b6af7_level0_row1\" class=\"row_heading level0 row1\" >FIRE</th>\n",
							"      <td id=\"T_b6af7_row1_col0\" class=\"data row1 col0\" >0.385</td>\n",
							"      <td id=\"T_b6af7_row1_col1\" class=\"data row1 col1\" >0.583</td>\n",
							"      <td id=\"T_b6af7_row1_col2\" class=\"data row1 col2\" >0.653</td>\n",
							"      <td id=\"T_b6af7_row1_col3\" class=\"data row1 col3\" >0.467</td>\n",
							"      <td id=\"T_b6af7_row1_col4\" class=\"data row1 col4\" >0.385</td>\n",
							"      <td id=\"T_b6af7_row1_col5\" class=\"data row1 col5\" >0.489</td>\n",
							"      <td id=\"T_b6af7_row1_col6\" class=\"data row1 col6\" >0.512</td>\n",
							"    </tr>\n",
							"  </tbody>\n",
							"</table>\n"
						],
						"text/plain": [
							"<pandas.io.formats.style.Styler at 0x35d763a30>"
						]
					},
					"execution_count": 49,
					"metadata": {},
					"output_type": "execute_result"
				}
			],
			"source": [
				"msrvtt_ans_scores = get_all_eval_scores(single_frame_queries_msrvtt)\n",
				"fire_ans_scores = get_all_eval_scores(single_frame_queries_fire)\n",
				"# Combine the scores into a single DataFrame for better presentation\n",
				"scores_df = pd.DataFrame([msrvtt_ans_scores, fire_ans_scores], index=['MSRVTT', 'FIRE'])\n",
				"\n",
				"# Style the DataFrame for better visualization\n",
				"styled_scores = scores_df.style.set_caption(\"Model Metrics Comparison\").format(\"{:.3f}\")\n",
				"\n",
				"styled_scores"
			]
		}
	],
	"metadata": {
		"kernelspec": {
			"display_name": "info-ret-proj",
			"language": "python",
			"name": "python3"
		},
		"language_info": {
			"codemirror_mode": {
				"name": "ipython",
				"version": 3
			},
			"file_extension": ".py",
			"mimetype": "text/x-python",
			"name": "python",
			"nbconvert_exporter": "python",
			"pygments_lexer": "ipython3",
			"version": "3.10.16"
		}
	},
	"nbformat": 4,
	"nbformat_minor": 5
}
