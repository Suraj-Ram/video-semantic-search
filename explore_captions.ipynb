{
 "cells": [
  {
   "cell_type": "code",
   "execution_count": 2,
   "metadata": {},
   "outputs": [],
   "source": [
    "import pickle\n",
    "pickle_file = \"data/MSRVTT/structured-symlinks/raw-captions.pkl\""
   ]
  },
  {
   "cell_type": "code",
   "execution_count": 4,
   "metadata": {},
   "outputs": [],
   "source": [
    "objects = []\n",
    "with (open(pickle_file, \"rb\")) as openfile:\n",
    "    while True:\n",
    "        try:\n",
    "            objects.append(pickle.load(openfile))\n",
    "        except EOFError:\n",
    "            break"
   ]
  },
  {
   "cell_type": "code",
   "execution_count": 10,
   "metadata": {},
   "outputs": [
    {
     "data": {
      "text/plain": [
       "[['a', 'band', 'is', 'singing', 'for', 'a', 'music', 'video'],\n",
       " ['a',\n",
       "  'band',\n",
       "  'performs',\n",
       "  'on',\n",
       "  'an',\n",
       "  'oriental',\n",
       "  'rug',\n",
       "  'in',\n",
       "  'an',\n",
       "  'empty',\n",
       "  'room'],\n",
       " ['a', 'band', 'performs'],\n",
       " ['a', 'band', 'plays', 'a', 'song', 'in', 'a', 'room'],\n",
       " ['a', 'band', 'singing', 'and', 'playing', 'music'],\n",
       " ['a', 'man', 'is', 'singing'],\n",
       " ['a', 'music', 'group', 'performing', 'a', 'song'],\n",
       " ['a', 'music', 'video'],\n",
       " ['a', 'person', 'is', 'playing', 'a', 'video', 'game'],\n",
       " ['a', 'woman', 'is', 'singing'],\n",
       " ['a', 'woman', 'singing', 'a', 'song'],\n",
       " ['band', 'performing', 'a', 'song'],\n",
       " ['music',\n",
       "  'video',\n",
       "  'of',\n",
       "  'woman',\n",
       "  'singing',\n",
       "  'with',\n",
       "  'band',\n",
       "  'members',\n",
       "  'singing',\n",
       "  'backup',\n",
       "  'vocals'],\n",
       " ['this', 'is', 'a', 'clip', 'from', 'a', 'music', 'video'],\n",
       " ['this',\n",
       "  'is',\n",
       "  'a',\n",
       "  'music',\n",
       "  'video',\n",
       "  'for',\n",
       "  'the',\n",
       "  'song',\n",
       "  'beauty',\n",
       "  'and',\n",
       "  'the',\n",
       "  'beat'],\n",
       " ['woman', 'and', 'man', 'singing'],\n",
       " ['woman', 'covering', 'justin', 'bieber', 's', 'song'],\n",
       " ['a', 'band', 'is', 'singing', 'for', 'a', 'music', 'video'],\n",
       " ['woman', 'and', 'man', 'singing'],\n",
       " ['a', 'band', 'is', 'singing', 'for', 'a', 'music', 'video']]"
      ]
     },
     "execution_count": 10,
     "metadata": {},
     "output_type": "execute_result"
    }
   ],
   "source": [
    "objects[0][\"video1974\"]"
   ]
  },
  {
   "cell_type": "code",
   "execution_count": null,
   "metadata": {},
   "outputs": [],
   "source": []
  },
  {
   "cell_type": "code",
   "execution_count": null,
   "metadata": {},
   "outputs": [],
   "source": []
  }
 ],
 "metadata": {
  "kernelspec": {
   "display_name": "info-ret",
   "language": "python",
   "name": "python3"
  },
  "language_info": {
   "codemirror_mode": {
    "name": "ipython",
    "version": 3
   },
   "file_extension": ".py",
   "mimetype": "text/x-python",
   "name": "python",
   "nbconvert_exporter": "python",
   "pygments_lexer": "ipython3",
   "version": "3.10.13"
  }
 },
 "nbformat": 4,
 "nbformat_minor": 2
}
