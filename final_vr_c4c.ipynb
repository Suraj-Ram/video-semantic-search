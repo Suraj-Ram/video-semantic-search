{
 "cells": [
  {
   "cell_type": "code",
   "execution_count": 1,
   "id": "70fea2ab",
   "metadata": {},
   "outputs": [
    {
     "name": "stdout",
     "output_type": "stream",
     "text": [
      "Connected to Milvus server at port 19530\n"
     ]
    }
   ],
   "source": [
    "import os\n",
    "import csv\n",
    "from towhee import ops, pipe, register\n",
    "from towhee.operator import PyOperator\n",
    "from towhee import DataCollection\n",
    "from tqdm import tqdm\n",
    "import pandas as pd\n",
    "import json\n",
    "import numpy as np\n",
    "from helpers import milvus_utils"
   ]
  },
  {
   "cell_type": "code",
   "execution_count": 7,
   "id": "4590190c",
   "metadata": {},
   "outputs": [],
   "source": [
    "# CONSTANTS\n",
    "\n",
    "# Files\n",
    "MSRVTT_SAMPLES = \"./MSRVTT_1K.csv\"\n",
    "\n",
    "# Database Collections\n",
    "VIDEO_RET_COLLECTION = \"msrvtt_vid_ret_1\"\n",
    "FRAME_RET_COLLECTION = \"msrvtt_frame_ret_1\"\n"
   ]
  },
  {
   "cell_type": "code",
   "execution_count": 4,
   "id": "3d8cf2c5",
   "metadata": {},
   "outputs": [
    {
     "data": {
      "application/vnd.microsoft.datawrangler.viewer.v0+json": {
       "columns": [
        {
         "name": "index",
         "rawType": "int64",
         "type": "integer"
        },
        {
         "name": "video_id",
         "rawType": "object",
         "type": "string"
        },
        {
         "name": "video_path",
         "rawType": "object",
         "type": "string"
        },
        {
         "name": "sentence",
         "rawType": "object",
         "type": "string"
        }
       ],
       "conversionMethod": "pd.DataFrame",
       "ref": "8cb16268-a4ad-4ed1-a4d1-1560a1c0ae21",
       "rows": [
        [
         "0",
         "video7579",
         "./test_1k_compress/video7579.mp4",
         "a girl wearing red top and black trouser is putting a sweater on a dog"
        ],
        [
         "1",
         "video7725",
         "./test_1k_compress/video7725.mp4",
         "young people sit around the edges of a room clapping and raising their arms while others dance in the center during a party"
        ],
        [
         "2",
         "video9258",
         "./test_1k_compress/video9258.mp4",
         "a person is using a phone"
        ],
        [
         "3",
         "video7365",
         "./test_1k_compress/video7365.mp4",
         "cartoon people are eating at a restaurant"
        ],
        [
         "4",
         "video8068",
         "./test_1k_compress/video8068.mp4",
         "a woman on a couch talks to a a man"
        ]
       ],
       "shape": {
        "columns": 3,
        "rows": 5
       }
      },
      "text/html": [
       "<div>\n",
       "<style scoped>\n",
       "    .dataframe tbody tr th:only-of-type {\n",
       "        vertical-align: middle;\n",
       "    }\n",
       "\n",
       "    .dataframe tbody tr th {\n",
       "        vertical-align: top;\n",
       "    }\n",
       "\n",
       "    .dataframe thead th {\n",
       "        text-align: right;\n",
       "    }\n",
       "</style>\n",
       "<table border=\"1\" class=\"dataframe\">\n",
       "  <thead>\n",
       "    <tr style=\"text-align: right;\">\n",
       "      <th></th>\n",
       "      <th>video_id</th>\n",
       "      <th>video_path</th>\n",
       "      <th>sentence</th>\n",
       "    </tr>\n",
       "  </thead>\n",
       "  <tbody>\n",
       "    <tr>\n",
       "      <th>0</th>\n",
       "      <td>video7579</td>\n",
       "      <td>./test_1k_compress/video7579.mp4</td>\n",
       "      <td>a girl wearing red top and black trouser is pu...</td>\n",
       "    </tr>\n",
       "    <tr>\n",
       "      <th>1</th>\n",
       "      <td>video7725</td>\n",
       "      <td>./test_1k_compress/video7725.mp4</td>\n",
       "      <td>young people sit around the edges of a room cl...</td>\n",
       "    </tr>\n",
       "    <tr>\n",
       "      <th>2</th>\n",
       "      <td>video9258</td>\n",
       "      <td>./test_1k_compress/video9258.mp4</td>\n",
       "      <td>a person is using a phone</td>\n",
       "    </tr>\n",
       "    <tr>\n",
       "      <th>3</th>\n",
       "      <td>video7365</td>\n",
       "      <td>./test_1k_compress/video7365.mp4</td>\n",
       "      <td>cartoon people are eating at a restaurant</td>\n",
       "    </tr>\n",
       "    <tr>\n",
       "      <th>4</th>\n",
       "      <td>video8068</td>\n",
       "      <td>./test_1k_compress/video8068.mp4</td>\n",
       "      <td>a woman on a couch talks to a a man</td>\n",
       "    </tr>\n",
       "  </tbody>\n",
       "</table>\n",
       "</div>"
      ],
      "text/plain": [
       "    video_id                        video_path  \\\n",
       "0  video7579  ./test_1k_compress/video7579.mp4   \n",
       "1  video7725  ./test_1k_compress/video7725.mp4   \n",
       "2  video9258  ./test_1k_compress/video9258.mp4   \n",
       "3  video7365  ./test_1k_compress/video7365.mp4   \n",
       "4  video8068  ./test_1k_compress/video8068.mp4   \n",
       "\n",
       "                                            sentence  \n",
       "0  a girl wearing red top and black trouser is pu...  \n",
       "1  young people sit around the edges of a room cl...  \n",
       "2                          a person is using a phone  \n",
       "3          cartoon people are eating at a restaurant  \n",
       "4                a woman on a couch talks to a a man  "
      ]
     },
     "execution_count": 4,
     "metadata": {},
     "output_type": "execute_result"
    }
   ],
   "source": [
    "\n",
    "raw_samples_df = pd.read_csv(MSRVTT_SAMPLES)\n",
    "raw_samples_df[['video_id', 'video_path', 'sentence']].head()"
   ]
  },
  {
   "cell_type": "code",
   "execution_count": 8,
   "id": "a3a7eec7",
   "metadata": {},
   "outputs": [
    {
     "data": {
      "text/plain": [
       "<Collection>:\n",
       "-------------\n",
       "<name>: msrvtt_vid_ret_1\n",
       "<description>: video retrieval\n",
       "<schema>: {'auto_id': False, 'description': 'video retrieval', 'fields': [{'name': 'id', 'description': '', 'type': <DataType.INT64: 5>, 'is_primary': True, 'auto_id': False}, {'name': 'embedding', 'description': '', 'type': <DataType.FLOAT_VECTOR: 101>, 'params': {'dim': 512}}]}"
      ]
     },
     "execution_count": 8,
     "metadata": {},
     "output_type": "execute_result"
    }
   ],
   "source": [
    "milvus_utils.create_milvus_collection(VIDEO_RET_COLLECTION, 512)"
   ]
  },
  {
   "cell_type": "markdown",
   "id": "f6776d9b",
   "metadata": {},
   "source": [
    "We create a pipeline that loads the video embeddings into the Milvus Vector DB using a distributed Twohee pipeline"
   ]
  },
  {
   "cell_type": "code",
   "execution_count": null,
   "id": "35f108b1",
   "metadata": {},
   "outputs": [],
   "source": [
    "def read_loader_csv(csv_file):\n",
    "    with open(csv_file, 'r', encoding='utf-8-sig') as f:\n",
    "        data = csv.DictReader(f)\n",
    "        for line in data:\n",
    "            yield int(line['video_id'][len('video'):]), line['video_path']\n",
    "\n",
    "video_loader_pipeline = (\n",
    "    pipe.input('csv_file')\n",
    "    .flat_map('csv_file', ('video_id', 'video_path'), read_loader_csv)\n",
    "    # Create 12 evenly distributed frames per video\n",
    "    .map('video_path', 'frames', ops.video_decode.ffmpeg(sample_type='uniform_temporal_subsample', args={'num_samples': 12}))\n",
    "    # I have a M2 Max, so device is set to mps for better performance\n",
    "    .map('frames', 'vec', ops.video_text_embedding.clip4clip(model_name='clip_vit_b32', modality='video', device='mps'))\n",
    "    .map(('video_id', 'vec'), (), ops.ann_insert.milvus_client(collection_name=VIDEO_RET_COLLECTION))\n",
    "    .output('video_id')\n",
    ")"
   ]
  },
  {
   "cell_type": "code",
   "execution_count": 11,
   "id": "98936d82",
   "metadata": {},
   "outputs": [
    {
     "name": "stderr",
     "output_type": "stream",
     "text": [
      "2025-04-16 15:04:15,510 - 17173606400 - node.py-node:167 - INFO: Begin to run Node-_input\n",
      "2025-04-16 15:04:15,510 - 17190432768 - node.py-node:167 - INFO: Begin to run Node-read_loader_csv-0\n",
      "2025-04-16 15:04:15,511 - 17207259136 - node.py-node:167 - INFO: Begin to run Node-video-decode/ffmpeg-1\n",
      "2025-04-16 15:04:15,511 - 17224085504 - node.py-node:167 - INFO: Begin to run Node-video-text-embedding/clip4clip-2\n",
      "2025-04-16 15:04:15,512 - 17240911872 - node.py-node:167 - INFO: Begin to run Node-ann-insert/milvus-client-3\n",
      "2025-04-16 15:04:15,512 - 17173606400 - node.py-node:167 - INFO: Begin to run Node-_output\n"
     ]
    }
   ],
   "source": [
    "# We call the pipeline with a CSV file containing the video paths\n",
    "video_loader_ret = video_loader_pipeline(MSRVTT_SAMPLES)"
   ]
  },
  {
   "cell_type": "markdown",
   "id": "4df87faf",
   "metadata": {},
   "source": [
    "The 1000 videos are now loaded into the Milvus `VIDEO_RET_COLLECTION` collection.\n",
    "\n",
    "Now, we query these videos using the annotated sentences as queries and the video ids as the ground truth results."
   ]
  },
  {
   "cell_type": "code",
   "execution_count": 25,
   "id": "036050f5",
   "metadata": {},
   "outputs": [],
   "source": [
    "def read_video_search_csv(csv_file):\n",
    "    import csv\n",
    "    with open(csv_file, 'r', encoding='utf-8-sig') as f:\n",
    "        data = csv.DictReader(f)\n",
    "        for line in data:\n",
    "            yield line['video_id'], line['sentence']\n",
    "\n",
    "video_search_pipeline = (\n",
    "    pipe.input('csv_file')\n",
    "    .flat_map('csv_file', ('rel_video_id', 'query'), read_video_search_csv)\n",
    "    .map('query', 'vec', ops.video_text_embedding.clip4clip(model_name='clip_vit_b32', modality='text', device='mps'))\n",
    "    .map('vec', 'top10_raw_res', \n",
    "         ops.ann_search.milvus_client(collection_name=VIDEO_RET_COLLECTION, limit=10))\n",
    "    .map('top10_raw_res', ('top1', 'top5', 'top10'), lambda x: (x[:1], x[:5], x[:10]))\n",
    "    .output('rel_video_id', 'query', 'top1', 'top5', 'top10')\n",
    ")"
   ]
  },
  {
   "cell_type": "code",
   "execution_count": null,
   "id": "b53dc47b",
   "metadata": {},
   "outputs": [
    {
     "name": "stderr",
     "output_type": "stream",
     "text": [
      "2025-04-16 15:12:12,149 - 17800654848 - node.py-node:167 - INFO: Begin to run Node-_input\n",
      "2025-04-16 15:12:12,150 - 17842597888 - node.py-node:167 - INFO: Begin to run Node-read_video_search_csv-0\n",
      "2025-04-16 15:12:12,150 - 17976815616 - node.py-node:167 - INFO: Begin to run Node-video-text-embedding/clip4clip-1\n",
      "2025-04-16 15:12:12,150 - 19253981184 - node.py-node:167 - INFO: Begin to run Node-ann-search/milvus-client-2\n",
      "2025-04-16 15:12:12,150 - 19273904128 - node.py-node:167 - INFO: Begin to run Node-lambda-3\n",
      "2025-04-16 15:12:12,151 - 21981327360 - node.py-node:167 - INFO: Begin to run Node-_output\n"
     ]
    }
   ],
   "source": [
    "all_query_results = DataCollection(video_search_pipeline(MSRVTT_SAMPLES))"
   ]
  },
  {
   "cell_type": "code",
   "execution_count": 31,
   "id": "2c718cfd",
   "metadata": {},
   "outputs": [
    {
     "data": {
      "text/html": [
       "<table style=\"border-collapse: collapse;\"><tr><th style=\"text-align: center; font-size: 130%; border: none;\">rel_video_id</th> <th style=\"text-align: center; font-size: 130%; border: none;\">query</th> <th style=\"text-align: center; font-size: 130%; border: none;\">top1</th> <th style=\"text-align: center; font-size: 130%; border: none;\">top5</th> <th style=\"text-align: center; font-size: 130%; border: none;\">top10</th></tr>\n",
       "<tr><td style=\"text-align: center; vertical-align: top; border-right: solid 1px #D3D3D3; border-left: solid 1px #D3D3D3; \">video7579</td><td style=\"text-align: center; vertical-align: top; border-right: solid 1px #D3D3D3; border-left: solid 1px #D3D3D3; \">a girl wearing red top and black trouser is putting a sweater on a dog</td><td style=\"text-align: left; vertical-align: top; border-right: solid 1px #D3D3D3; border-left: solid 1px #D3D3D3; \">[[7579, 1.415151834487915]] len=1</td><td style=\"text-align: left; vertical-align: top; border-right: solid 1px #D3D3D3; border-left: solid 1px #D3D3D3; \">[[7579, 1.415151834487915],[9969, 1.4799106121063232],[8837, 1.4897732734680176],[9347, 1.4948583841323853],...] len=5</td><td style=\"text-align: left; vertical-align: top; border-right: solid 1px #D3D3D3; border-left: solid 1px #D3D3D3; \">[[7579, 1.415151834487915],[9969, 1.4799106121063232],[8837, 1.4897732734680176],[9347, 1.4948583841323853],...] len=10</td></tr>\n",
       "<tr><td style=\"text-align: center; vertical-align: top; border-right: solid 1px #D3D3D3; border-left: solid 1px #D3D3D3; \">video7725</td><td style=\"text-align: center; vertical-align: top; border-right: solid 1px #D3D3D3; border-left: solid 1px #D3D3D3; \">young people sit around the edges of a room clapping and raising their arms while others dance in the center during a party</td><td style=\"text-align: left; vertical-align: top; border-right: solid 1px #D3D3D3; border-left: solid 1px #D3D3D3; \">[[7725, 1.3622068166732788]] len=1</td><td style=\"text-align: left; vertical-align: top; border-right: solid 1px #D3D3D3; border-left: solid 1px #D3D3D3; \">[[7725, 1.3622068166732788],[8014, 1.4865269660949707],[8339, 1.4922078847885132],[8442, 1.5024112462997437],...] len=5</td><td style=\"text-align: left; vertical-align: top; border-right: solid 1px #D3D3D3; border-left: solid 1px #D3D3D3; \">[[7725, 1.3622068166732788],[8014, 1.4865269660949707],[8339, 1.4922078847885132],[8442, 1.5024112462997437],...] len=10</td></tr>\n",
       "<tr><td style=\"text-align: center; vertical-align: top; border-right: solid 1px #D3D3D3; border-left: solid 1px #D3D3D3; \">video9258</td><td style=\"text-align: center; vertical-align: top; border-right: solid 1px #D3D3D3; border-left: solid 1px #D3D3D3; \">a person is using a phone</td><td style=\"text-align: left; vertical-align: top; border-right: solid 1px #D3D3D3; border-left: solid 1px #D3D3D3; \">[[9258, 1.4011969566345215]] len=1</td><td style=\"text-align: left; vertical-align: top; border-right: solid 1px #D3D3D3; border-left: solid 1px #D3D3D3; \">[[9258, 1.4011969566345215],[9257, 1.422863483428955],[9697, 1.4413853883743286],[7910, 1.4945621490478516],...] len=5</td><td style=\"text-align: left; vertical-align: top; border-right: solid 1px #D3D3D3; border-left: solid 1px #D3D3D3; \">[[9258, 1.4011969566345215],[9257, 1.422863483428955],[9697, 1.4413853883743286],[7910, 1.4945621490478516],...] len=10</td></tr>\n",
       "<tr><td style=\"text-align: center; vertical-align: top; border-right: solid 1px #D3D3D3; border-left: solid 1px #D3D3D3; \">video7365</td><td style=\"text-align: center; vertical-align: top; border-right: solid 1px #D3D3D3; border-left: solid 1px #D3D3D3; \">cartoon people are eating at a restaurant</td><td style=\"text-align: left; vertical-align: top; border-right: solid 1px #D3D3D3; border-left: solid 1px #D3D3D3; \">[[7365, 1.4027695655822754]] len=1</td><td style=\"text-align: left; vertical-align: top; border-right: solid 1px #D3D3D3; border-left: solid 1px #D3D3D3; \">[[7365, 1.4027695655822754],[8781, 1.4623048305511475],[9537, 1.4739768505096436],[7831, 1.505112648010254],...] len=5</td><td style=\"text-align: left; vertical-align: top; border-right: solid 1px #D3D3D3; border-left: solid 1px #D3D3D3; \">[[7365, 1.4027695655822754],[8781, 1.4623048305511475],[9537, 1.4739768505096436],[7831, 1.505112648010254],...] len=10</td></tr>\n",
       "<tr><td style=\"text-align: center; vertical-align: top; border-right: solid 1px #D3D3D3; border-left: solid 1px #D3D3D3; \">video8068</td><td style=\"text-align: center; vertical-align: top; border-right: solid 1px #D3D3D3; border-left: solid 1px #D3D3D3; \">a woman on a couch talks to a a man</td><td style=\"text-align: left; vertical-align: top; border-right: solid 1px #D3D3D3; border-left: solid 1px #D3D3D3; \">[[7162, 1.4716743230819702]] len=1</td><td style=\"text-align: left; vertical-align: top; border-right: solid 1px #D3D3D3; border-left: solid 1px #D3D3D3; \">[[7162, 1.4716743230819702],[8304, 1.4787472486495972],[8068, 1.4926888942718506],[7724, 1.4982554912567139],...] len=5</td><td style=\"text-align: left; vertical-align: top; border-right: solid 1px #D3D3D3; border-left: solid 1px #D3D3D3; \">[[7162, 1.4716743230819702],[8304, 1.4787472486495972],[8068, 1.4926888942718506],[7724, 1.4982554912567139],...] len=10</td></tr></table>"
      ],
      "text/plain": [
       "<IPython.core.display.HTML object>"
      ]
     },
     "metadata": {},
     "output_type": "display_data"
    }
   ],
   "source": [
    "all_query_results.show()"
   ]
  },
  {
   "cell_type": "code",
   "execution_count": null,
   "id": "3ce65802",
   "metadata": {},
   "outputs": [],
   "source": [
    "# Convert the Twohee data collection to a pandas dataframe so we can apply evaluation methods"
   ]
  },
  {
   "cell_type": "code",
   "execution_count": null,
   "id": "238195e9",
   "metadata": {},
   "outputs": [],
   "source": [
    "# TODO add this entire thing into its own module\n",
    "\n",
    "def twohee_data_col_to_df(twohee_data_collection):\n",
    "    res_list = twohee_data_collection.to_list()\n",
    "    res_obj_list = []\n",
    "    for r in res_list:\n",
    "        res_obj = vars(r)\n",
    "        res_obj_list.append(res_obj)\n",
    "    res_df = pd.DataFrame(res_obj_list)\n",
    "    return res_df.copy()\n",
    "\n",
    "\n",
    "def average_precision(ground_truth, predictions):\n",
    "    \"\"\"\n",
    "    Calculate the Average Precision (AP) for a single query.\n",
    "\n",
    "    Args:\n",
    "        ground_truth (int): The ground truth video ID.\n",
    "        predictions (list): List of predicted video IDs.\n",
    "\n",
    "    Returns:\n",
    "        float: The Average Precision (AP) score for the query.\n",
    "    \"\"\"\n",
    "    hits = 0\n",
    "    sum_precision = 0\n",
    "    for i, pred in enumerate(predictions):\n",
    "        if pred == ground_truth:\n",
    "            hits += 1\n",
    "            sum_precision += hits / (i + 1)\n",
    "    return sum_precision / hits if hits > 0 else 0\n",
    "\n",
    "\n",
    "def calculate_mean_average_precision(df):\n",
    "    \"\"\"\n",
    "    Calculate the Mean Average Precision (MAP) for the given dataframe.\n",
    "\n",
    "    Args:\n",
    "        df (pd.DataFrame): DataFrame containing columns 'query', 'ground_truth', 'top1', 'top5', 'top10'.\n",
    "\n",
    "    Returns:\n",
    "        float: The Mean Average Precision (MAP) score.\n",
    "    \"\"\"\n",
    "    # Calculate AP for each query\n",
    "    ap_scores = []\n",
    "    for _, row in df.iterrows():\n",
    "        ground_truth = row['ground_truth']\n",
    "        predictions_with_scores = row['top10']\n",
    "        predictions = [pred[0] for pred in predictions_with_scores]\n",
    "        ap_scores.append(average_precision(ground_truth, predictions))\n",
    "\n",
    "    # Calculate MAP\n",
    "    mean_ap = sum(ap_scores) / len(ap_scores) if ap_scores else 0\n",
    "    return mean_ap\n",
    "\n",
    "\n",
    "def calculate_recall(df):\n",
    "    \"\"\"\n",
    "    Calculate recall@1, recall@5, and recall@10 for the given dataframe.\n",
    "\n",
    "    Args:\n",
    "        df (pd.DataFrame): DataFrame containing columns 'query', 'ground_truth', 'top1', 'top5', 'top10'.\n",
    "\n",
    "    Returns:\n",
    "        dict: A dictionary containing recall@1, recall@5, and recall@10.\n",
    "    \"\"\"\n",
    "    recall_at_1 = 0\n",
    "    recall_at_5 = 0\n",
    "    recall_at_10 = 0\n",
    "    total_queries = len(df)\n",
    "\n",
    "    for _, row in df.iterrows():\n",
    "        ground_truth = row['ground_truth']\n",
    "        if ground_truth in [pred[0] for pred in row['top1']]:\n",
    "            recall_at_1 += 1\n",
    "        if ground_truth in [pred[0] for pred in row['top5']]:\n",
    "            recall_at_5 += 1\n",
    "        if ground_truth in [pred[0] for pred in row['top10']]:\n",
    "            recall_at_10 += 1\n",
    "\n",
    "    return {\n",
    "        'recall@1': recall_at_1 / total_queries,\n",
    "        'recall@5': recall_at_5 / total_queries,\n",
    "        'recall@10': recall_at_10 / total_queries\n",
    "    }\n",
    "    \n",
    "def ndcg_score(ground_truth, predictions, k=10):\n",
    "    \"\"\"\n",
    "    Calculate the Normalized Discounted Cumulative Gain (NDCG) for a single query.\n",
    "\n",
    "    Args:\n",
    "        ground_truth (int): The ground truth video ID.\n",
    "        predictions (list): List of predicted video IDs with scores [(id, score), ...].\n",
    "        k (int): The number of top predictions to consider.\n",
    "\n",
    "    Returns:\n",
    "        float: The NDCG score for the query.\n",
    "    \"\"\"\n",
    "    def dcg(relevance_scores):\n",
    "        return sum(rel / np.log2(idx + 2) for idx, rel in enumerate(relevance_scores))\n",
    "\n",
    "    # Relevance scores: 1 if the prediction matches the ground truth, else 0\n",
    "    relevance_scores = [1 if pred[0] == ground_truth else 0 for pred in predictions[:k]]\n",
    "\n",
    "    # Calculate DCG and IDCG\n",
    "    actual_dcg = dcg(relevance_scores)\n",
    "    ideal_dcg = dcg(sorted(relevance_scores, reverse=True))\n",
    "\n",
    "    # Return NDCG\n",
    "    return actual_dcg / ideal_dcg if ideal_dcg > 0 else 0\n",
    "\n",
    "# call this function to get the NDCG score for each query\n",
    "def calculate_ndcg(df, k=10):\n",
    "    \"\"\"\n",
    "    Calculate NDCG for the given dataframe.\n",
    "\n",
    "    Args:\n",
    "        df (pd.DataFrame): DataFrame containing columns 'query', 'ground_truth', 'top1', 'top5', 'top10'.\n",
    "        k (int): The number of top predictions to consider.\n",
    "\n",
    "    Returns:\n",
    "        float: The mean NDCG score.\n",
    "    \"\"\"\n",
    "    ndcg_scores = []\n",
    "    for _, row in df.iterrows():\n",
    "        ground_truth = row['ground_truth']\n",
    "        predictions_with_scores = row['top10']\n",
    "        ndcg_scores.append(ndcg_score(ground_truth, predictions_with_scores, k))\n",
    "\n",
    "    return sum(ndcg_scores) / len(ndcg_scores) if ndcg_scores else 0\n",
    "\n",
    "def get_all_eval_scores(df):\n",
    "    \"\"\"Return a dataframe with all evaluation scores: Recall@1, Recall@5, Recall@10, MAP, NDCG@1, NDCG@5, NDCG@10\"\"\"\n",
    "    recall_scores = calculate_recall(df)\n",
    "    map_score = calculate_mean_average_precision(df)\n",
    "    ndcg_score_1 = calculate_ndcg(df, k=1)\n",
    "    ndcg_score_5 = calculate_ndcg(df, k=5)\n",
    "    ndcg_score_10 = calculate_ndcg(df, k=10)\n",
    "\n",
    "    eval_scores = {\n",
    "        'recall@1': recall_scores['recall@1'],\n",
    "        'recall@5': recall_scores['recall@5'],\n",
    "        'recall@10': recall_scores['recall@10'],\n",
    "        'map': map_score,\n",
    "        'ndcg@1': ndcg_score_1,\n",
    "        'ndcg@5': ndcg_score_5,\n",
    "        'ndcg@10': ndcg_score_10\n",
    "    }\n",
    "    \n",
    "    return eval_scores"
   ]
  },
  {
   "cell_type": "code",
   "execution_count": 63,
   "id": "7a3fb45f",
   "metadata": {},
   "outputs": [
    {
     "data": {
      "application/vnd.microsoft.datawrangler.viewer.v0+json": {
       "columns": [
        {
         "name": "index",
         "rawType": "int64",
         "type": "integer"
        },
        {
         "name": "rel_video_id",
         "rawType": "object",
         "type": "string"
        },
        {
         "name": "query",
         "rawType": "object",
         "type": "string"
        },
        {
         "name": "top1",
         "rawType": "object",
         "type": "unknown"
        },
        {
         "name": "top5",
         "rawType": "object",
         "type": "unknown"
        },
        {
         "name": "top10",
         "rawType": "object",
         "type": "unknown"
        },
        {
         "name": "ground_truth",
         "rawType": "int64",
         "type": "integer"
        }
       ],
       "conversionMethod": "pd.DataFrame",
       "ref": "59907cb9-90e0-4b2a-a64c-791d056af4e4",
       "rows": [
        [
         "0",
         "video7579",
         "a girl wearing red top and black trouser is putting a sweater on a dog",
         "[[7579, 1.415151834487915]]",
         "[[7579, 1.415151834487915], [9969, 1.4799106121063232], [8837, 1.4897732734680176], [9347, 1.4948583841323853], [8866, 1.5094395875930786]]",
         "[[7579, 1.415151834487915], [9969, 1.4799106121063232], [8837, 1.4897732734680176], [9347, 1.4948583841323853], [8866, 1.5094395875930786], [8825, 1.5139577388763428], [9603, 1.5188720226287842], [7201, 1.5256853103637695], [9034, 1.5296111106872559], [9580, 1.5418593883514404]]",
         "7579"
        ],
        [
         "1",
         "video7725",
         "young people sit around the edges of a room clapping and raising their arms while others dance in the center during a party",
         "[[7725, 1.3622068166732788]]",
         "[[7725, 1.3622068166732788], [8014, 1.4865269660949707], [8339, 1.4922078847885132], [8442, 1.5024112462997437], [8556, 1.511048674583435]]",
         "[[7725, 1.3622068166732788], [8014, 1.4865269660949707], [8339, 1.4922078847885132], [8442, 1.5024112462997437], [8556, 1.511048674583435], [7411, 1.5155417919158936], [8303, 1.5275015830993652], [9957, 1.5276553630828857], [9254, 1.5293798446655273], [7117, 1.5300288200378418]]",
         "7725"
        ],
        [
         "2",
         "video9258",
         "a person is using a phone",
         "[[9258, 1.4011969566345215]]",
         "[[9258, 1.4011969566345215], [9257, 1.422863483428955], [9697, 1.4413853883743286], [7910, 1.4945621490478516], [9603, 1.4998571872711182]]",
         "[[9258, 1.4011969566345215], [9257, 1.422863483428955], [9697, 1.4413853883743286], [7910, 1.4945621490478516], [9603, 1.4998571872711182], [8924, 1.501394510269165], [7687, 1.5045617818832397], [7347, 1.521554946899414], [7369, 1.530113697052002], [8012, 1.5389740467071533]]",
         "9258"
        ],
        [
         "3",
         "video7365",
         "cartoon people are eating at a restaurant",
         "[[7365, 1.4027695655822754]]",
         "[[7365, 1.4027695655822754], [8781, 1.4623048305511475], [9537, 1.4739768505096436], [7831, 1.505112648010254], [7222, 1.514506459236145]]",
         "[[7365, 1.4027695655822754], [8781, 1.4623048305511475], [9537, 1.4739768505096436], [7831, 1.505112648010254], [7222, 1.514506459236145], [9777, 1.5283745527267456], [8911, 1.5462589263916016], [9814, 1.5544300079345703], [7741, 1.5603089332580566], [9539, 1.5623550415039062]]",
         "7365"
        ],
        [
         "4",
         "video8068",
         "a woman on a couch talks to a a man",
         "[[7162, 1.4716743230819702]]",
         "[[7162, 1.4716743230819702], [8304, 1.4787472486495972], [8068, 1.4926888942718506], [7724, 1.4982554912567139], [9023, 1.51153564453125]]",
         "[[7162, 1.4716743230819702], [8304, 1.4787472486495972], [8068, 1.4926888942718506], [7724, 1.4982554912567139], [9023, 1.51153564453125], [8813, 1.5152695178985596], [8392, 1.5179630517959595], [7149, 1.5196641683578491], [8826, 1.5211718082427979], [9919, 1.5224076509475708]]",
         "8068"
        ],
        [
         "5",
         "video7131",
         "athletes are getting ready and start running for an event",
         "[[8264, 1.4104280471801758]]",
         "[[8264, 1.4104280471801758], [7131, 1.4545626640319824], [8451, 1.4589564800262451], [8322, 1.5217771530151367], [9803, 1.5225485563278198]]",
         "[[8264, 1.4104280471801758], [7131, 1.4545626640319824], [8451, 1.4589564800262451], [8322, 1.5217771530151367], [9803, 1.5225485563278198], [8262, 1.5311415195465088], [7788, 1.5413167476654053], [8013, 1.5424026250839233], [7155, 1.544426679611206], [9302, 1.5450849533081055]]",
         "7131"
        ],
        [
         "6",
         "video7213",
         "a woman is making lasagna",
         "[[8345, 1.4753135442733765]]",
         "[[8345, 1.4753135442733765], [8910, 1.4815260171890259], [7213, 1.489058017730713], [8915, 1.489261507987976], [7165, 1.4951164722442627]]",
         "[[8345, 1.4753135442733765], [8910, 1.4815260171890259], [7213, 1.489058017730713], [8915, 1.489261507987976], [7165, 1.4951164722442627], [7695, 1.4977586269378662], [7591, 1.5022869110107422], [8662, 1.511078953742981], [8444, 1.513946771621704], [8056, 1.5170117616653442]]",
         "7213"
        ],
        [
         "7",
         "video7575",
         "a man speaking in a microphone",
         "[[7828, 1.457465648651123]]",
         "[[7828, 1.457465648651123], [7575, 1.4667668342590332], [9885, 1.4804556369781494], [8416, 1.4890186786651611], [8259, 1.492573618888855]]",
         "[[7828, 1.457465648651123], [7575, 1.4667668342590332], [9885, 1.4804556369781494], [8416, 1.4890186786651611], [8259, 1.492573618888855], [8830, 1.4934368133544922], [9690, 1.5023078918457031], [9233, 1.5033072233200073], [8072, 1.5072154998779297], [8917, 1.5101640224456787]]",
         "7575"
        ],
        [
         "8",
         "video7978",
         "a team with blue uniforms are playing badmitten with a team in white",
         "[[9823, 1.4620780944824219]]",
         "[[9823, 1.4620780944824219], [8660, 1.4660369157791138], [9013, 1.4679255485534668], [7978, 1.4891501665115356], [7500, 1.4893999099731445]]",
         "[[9823, 1.4620780944824219], [8660, 1.4660369157791138], [9013, 1.4679255485534668], [7978, 1.4891501665115356], [7500, 1.4893999099731445], [9647, 1.4907033443450928], [8675, 1.4908782243728638], [7358, 1.4939930438995361], [7699, 1.4942727088928223], [8308, 1.495530605316162]]",
         "7978"
        ],
        [
         "9",
         "video8123",
         "a woman is giving demo for baby trolley",
         "[[7230, 1.3377585411071777]]",
         "[[7230, 1.3377585411071777], [7217, 1.3812671899795532], [9755, 1.399320125579834], [8258, 1.403618574142456], [8123, 1.4587804079055786]]",
         "[[7230, 1.3377585411071777], [7217, 1.3812671899795532], [9755, 1.399320125579834], [8258, 1.403618574142456], [8123, 1.4587804079055786], [8899, 1.485304355621338], [8863, 1.5301493406295776], [9322, 1.5553176403045654], [7169, 1.56795334815979], [7688, 1.577250361442566]]",
         "8123"
        ],
        [
         "10",
         "video9800",
         "a car is in a wreck",
         "[[7649, 1.4754021167755127]]",
         "[[7649, 1.4754021167755127], [7614, 1.4875984191894531], [9800, 1.4931799173355103], [8243, 1.5218164920806885], [8246, 1.5343948602676392]]",
         "[[7649, 1.4754021167755127], [7614, 1.4875984191894531], [9800, 1.4931799173355103], [8243, 1.5218164920806885], [8246, 1.5343948602676392], [8075, 1.536211371421814], [9975, 1.5393091440200806], [9622, 1.5397636890411377], [8497, 1.543839693069458], [9878, 1.545851707458496]]",
         "9800"
        ],
        [
         "11",
         "video9205",
         "a woman interviewing about her part in a protest happening in brazil",
         "[[8311, 1.4957177639007568]]",
         "[[8311, 1.4957177639007568], [7364, 1.5090553760528564], [9028, 1.5109243392944336], [8022, 1.5162419080734253], [8650, 1.5288596153259277]]",
         "[[8311, 1.4957177639007568], [7364, 1.5090553760528564], [9028, 1.5109243392944336], [8022, 1.5162419080734253], [8650, 1.5288596153259277], [9205, 1.5309381484985352], [8333, 1.5492795705795288], [7822, 1.5556573867797852], [7341, 1.5596296787261963], [9131, 1.5657391548156738]]",
         "9205"
        ],
        [
         "12",
         "video7590",
         "an emotional scene of two persons where they are crying on meeting",
         "[[7590, 1.3980191946029663]]",
         "[[7590, 1.3980191946029663], [9023, 1.4840985536575317], [8330, 1.4905016422271729], [8974, 1.4940887689590454], [7114, 1.5019986629486084]]",
         "[[7590, 1.3980191946029663], [9023, 1.4840985536575317], [8330, 1.4905016422271729], [8974, 1.4940887689590454], [7114, 1.5019986629486084], [8653, 1.5114307403564453], [9801, 1.515921950340271], [7964, 1.5221542119979858], [9237, 1.5228044986724854], [8922, 1.5233535766601562]]",
         "7590"
        ],
        [
         "13",
         "video9017",
         "the man is driving his motorbike fast and having problems on the race",
         "[[8657, 1.4212357997894287]]",
         "[[8657, 1.4212357997894287], [9017, 1.4290962219238281], [8820, 1.4648183584213257], [7544, 1.4867889881134033], [9609, 1.5193157196044922]]",
         "[[8657, 1.4212357997894287], [9017, 1.4290962219238281], [8820, 1.4648183584213257], [7544, 1.4867889881134033], [9609, 1.5193157196044922], [8089, 1.519730567932129], [7219, 1.5210094451904297], [9813, 1.552298665046692], [8934, 1.5527698993682861], [7151, 1.5604395866394043]]",
         "9017"
        ],
        [
         "14",
         "video9241",
         "japanese people laughing and dancing",
         "[[9241, 1.3825719356536865]]",
         "[[9241, 1.3825719356536865], [9682, 1.4698140621185303], [7028, 1.4799280166625977], [7725, 1.48055899143219], [9131, 1.4951146841049194]]",
         "[[9241, 1.3825719356536865], [9682, 1.4698140621185303], [7028, 1.4799280166625977], [7725, 1.48055899143219], [9131, 1.4951146841049194], [8349, 1.500530481338501], [8241, 1.512657880783081], [8303, 1.5218974351882935], [7212, 1.5241155624389648], [8074, 1.531984806060791]]",
         "9241"
        ],
        [
         "15",
         "video7158",
         "fox news presidential debate recapping the gop debate with donald trump and ted cruz",
         "[[7158, 1.3375513553619385]]",
         "[[7158, 1.3375513553619385], [8464, 1.4277490377426147], [7731, 1.4992101192474365], [9223, 1.5167436599731445], [7754, 1.5494873523712158]]",
         "[[7158, 1.3375513553619385], [8464, 1.4277490377426147], [7731, 1.4992101192474365], [9223, 1.5167436599731445], [7754, 1.5494873523712158], [7613, 1.565139651298523], [8864, 1.5825761556625366], [9204, 1.5872697830200195], [8175, 1.6043351888656616], [7753, 1.6065963506698608]]",
         "7158"
        ],
        [
         "16",
         "video9233",
         "a man is giving a speech",
         "[[8830, 1.4154415130615234]]",
         "[[8830, 1.4154415130615234], [8072, 1.4534854888916016], [9203, 1.455504298210144], [9233, 1.4814122915267944], [7410, 1.4837162494659424]]",
         "[[8830, 1.4154415130615234], [8072, 1.4534854888916016], [9203, 1.455504298210144], [9233, 1.4814122915267944], [7410, 1.4837162494659424], [7828, 1.4860669374465942], [9522, 1.48783278465271], [8445, 1.4965542554855347], [8416, 1.5032880306243896], [8917, 1.5057017803192139]]",
         "9233"
        ],
        [
         "17",
         "video8687",
         "fast moving time is shown here",
         "[[8013, 1.4823124408721924]]",
         "[[8013, 1.4823124408721924], [8089, 1.4829456806182861], [7219, 1.484663486480713], [7544, 1.4902303218841553], [9535, 1.4952857494354248]]",
         "[[8013, 1.4823124408721924], [8089, 1.4829456806182861], [7219, 1.484663486480713], [7544, 1.4902303218841553], [9535, 1.4952857494354248], [7506, 1.4959810972213745], [9328, 1.5011236667633057], [7214, 1.502816915512085], [9800, 1.5030288696289062], [8451, 1.5039609670639038]]",
         "8687"
        ],
        [
         "18",
         "video9337",
         "some people are inside of a room",
         "[[9322, 1.4742207527160645]]",
         "[[9322, 1.4742207527160645], [7843, 1.4755256175994873], [9237, 1.4838111400604248], [7149, 1.485732078552246], [7114, 1.486661434173584]]",
         "[[9322, 1.4742207527160645], [7843, 1.4755256175994873], [9237, 1.4838111400604248], [7149, 1.485732078552246], [7114, 1.486661434173584], [7825, 1.4922856092453003], [9908, 1.4949111938476562], [8339, 1.5062201023101807], [8129, 1.5065499544143677], [8807, 1.509324550628662]]",
         "9337"
        ],
        [
         "19",
         "video9620",
         "outer space pictures that have parts of equipments in them with water droplets on it",
         "[[9620, 1.4686026573181152]]",
         "[[9620, 1.4686026573181152], [7562, 1.479142665863037], [8069, 1.4987272024154663], [9578, 1.5151705741882324], [8071, 1.5182254314422607]]",
         "[[9620, 1.4686026573181152], [7562, 1.479142665863037], [8069, 1.4987272024154663], [9578, 1.5151705741882324], [8071, 1.5182254314422607], [7027, 1.5266430377960205], [8727, 1.5289963483810425], [9680, 1.535262107849121], [9609, 1.5453187227249146], [7732, 1.5530822277069092]]",
         "9620"
        ],
        [
         "20",
         "video7411",
         "jolly good music troop delivering a program and the lady is in good spirit",
         "[[9793, 1.4619781970977783]]",
         "[[9793, 1.4619781970977783], [7411, 1.467118740081787], [8314, 1.493613600730896], [8022, 1.494459867477417], [9037, 1.50307035446167]]",
         "[[9793, 1.4619781970977783], [7411, 1.467118740081787], [8314, 1.493613600730896], [8022, 1.494459867477417], [9037, 1.50307035446167], [7772, 1.5043435096740723], [8781, 1.505984902381897], [8304, 1.506110429763794], [7145, 1.5078699588775635], [8605, 1.5080139636993408]]",
         "7411"
        ],
        [
         "21",
         "video8514",
         "a person is putting the vegetable in to the water and boil it",
         "[[8514, 1.407292366027832]]",
         "[[8514, 1.407292366027832], [8656, 1.441918134689331], [9625, 1.4593684673309326], [7911, 1.4595928192138672], [9639, 1.465969204902649]]",
         "[[8514, 1.407292366027832], [8656, 1.441918134689331], [9625, 1.4593684673309326], [7911, 1.4595928192138672], [9639, 1.465969204902649], [7565, 1.4728761911392212], [9689, 1.4734814167022705], [7148, 1.478238821029663], [8654, 1.489234209060669], [7376, 1.493669867515564]]",
         "8514"
        ],
        [
         "22",
         "video8481",
         "a woman is reporting on keds commercials",
         "[[8481, 1.3413772583007812]]",
         "[[8481, 1.3413772583007812], [8806, 1.461102843284607], [9503, 1.464255690574646], [8022, 1.4864710569381714], [8494, 1.5057823657989502]]",
         "[[8481, 1.3413772583007812], [8806, 1.461102843284607], [9503, 1.464255690574646], [8022, 1.4864710569381714], [8494, 1.5057823657989502], [7119, 1.514310598373413], [9039, 1.5316879749298096], [8333, 1.5318011045455933], [9223, 1.5344197750091553], [8826, 1.5377249717712402]]",
         "8481"
        ],
        [
         "23",
         "video9224",
         "someone is playing a game",
         "[[9031, 1.4750773906707764]]",
         "[[9031, 1.4750773906707764], [9200, 1.4771168231964111], [8578, 1.4791040420532227], [8313, 1.4797497987747192], [7374, 1.479852557182312]]",
         "[[9031, 1.4750773906707764], [9200, 1.4771168231964111], [8578, 1.4791040420532227], [8313, 1.4797497987747192], [7374, 1.479852557182312], [7919, 1.4814656972885132], [7792, 1.4822735786437988], [8459, 1.4833545684814453], [8010, 1.4838051795959473], [7552, 1.484123945236206]]",
         "9224"
        ],
        [
         "24",
         "video8426",
         "cabins on a sandy beach have walkways going up to their porches",
         "[[8426, 1.2607148885726929]]",
         "[[8426, 1.2607148885726929], [8248, 1.5201301574707031], [8741, 1.5233469009399414], [8312, 1.5248669385910034], [8307, 1.5307857990264893]]",
         "[[8426, 1.2607148885726929], [8248, 1.5201301574707031], [8741, 1.5233469009399414], [8312, 1.5248669385910034], [8307, 1.5307857990264893], [8243, 1.5432825088500977], [9359, 1.5436264276504517], [9244, 1.5482901334762573], [9253, 1.5491418838500977], [7589, 1.5495318174362183]]",
         "8426"
        ],
        [
         "25",
         "video9699",
         "a man explains how to do a experiment",
         "[[9699, 1.4076097011566162]]",
         "[[9699, 1.4076097011566162], [8067, 1.4702256917953491], [8804, 1.5033910274505615], [8257, 1.50730562210083], [8774, 1.5101776123046875]]",
         "[[9699, 1.4076097011566162], [8067, 1.4702256917953491], [8804, 1.5033910274505615], [8257, 1.50730562210083], [8774, 1.5101776123046875], [8772, 1.5199366807937622], [9901, 1.5306059122085571], [9549, 1.5316704511642456], [7575, 1.531997799873352], [9249, 1.5353962182998657]]",
         "9699"
        ],
        [
         "26",
         "video9882",
         "a news reader is reading the news and asking question to some people",
         "[[7613, 1.4418683052062988]]",
         "[[7613, 1.4418683052062988], [9204, 1.4551516771316528], [8864, 1.4641779661178589], [8333, 1.4658647775650024], [8822, 1.4753644466400146]]",
         "[[7613, 1.4418683052062988], [9204, 1.4551516771316528], [8864, 1.4641779661178589], [8333, 1.4658647775650024], [8822, 1.4753644466400146], [7731, 1.4759740829467773], [7947, 1.4775056838989258], [7790, 1.4789669513702393], [9223, 1.4802539348602295], [9882, 1.4821994304656982]]",
         "9882"
        ],
        [
         "27",
         "video8300",
         "a woman pours water into her pot of meat then tomato sauce and stirs it all around while talking",
         "[[8300, 1.3877397775650024]]",
         "[[8300, 1.3877397775650024], [9689, 1.4676225185394287], [8835, 1.4683990478515625], [8654, 1.47564697265625], [7565, 1.5249558687210083]]",
         "[[8300, 1.3877397775650024], [9689, 1.4676225185394287], [8835, 1.4683990478515625], [8654, 1.47564697265625], [7565, 1.5249558687210083], [7744, 1.5266097784042358], [8656, 1.5329886674880981], [9693, 1.5436257123947144], [8910, 1.5480233430862427], [9625, 1.5513246059417725]]",
         "8300"
        ],
        [
         "28",
         "video8863",
         "an animated girl talks to a baby and plays with it",
         "[[7179, 1.4618417024612427]]",
         "[[7179, 1.4618417024612427], [7365, 1.4641785621643066], [8863, 1.4913438558578491], [8827, 1.5174264907836914], [7222, 1.5231465101242065]]",
         "[[7179, 1.4618417024612427], [7365, 1.4641785621643066], [8863, 1.4913438558578491], [8827, 1.5174264907836914], [7222, 1.5231465101242065], [7157, 1.5254777669906616], [8341, 1.527155876159668], [8110, 1.5278449058532715], [8268, 1.5388951301574707], [7831, 1.5539071559906006]]",
         "8863"
        ],
        [
         "29",
         "video7147",
         "a man cooks burgers and bacon on a grill",
         "[[9333, 1.310051679611206]]",
         "[[9333, 1.310051679611206], [7147, 1.3197345733642578], [9694, 1.4151010513305664], [9015, 1.4830385446548462], [9038, 1.5498394966125488]]",
         "[[9333, 1.310051679611206], [7147, 1.3197345733642578], [9694, 1.4151010513305664], [9015, 1.4830385446548462], [9038, 1.5498394966125488], [9335, 1.5505523681640625], [7362, 1.5587210655212402], [7820, 1.5614771842956543], [9327, 1.5702311992645264], [7154, 1.5762770175933838]]",
         "7147"
        ],
        [
         "30",
         "video7744",
         "a chef stirs up some ingredients inside of a pan",
         "[[7148, 1.4594180583953857]]",
         "[[7148, 1.4594180583953857], [9335, 1.4599003791809082], [9689, 1.4643840789794922], [9639, 1.4658143520355225], [8654, 1.4742600917816162]]",
         "[[7148, 1.4594180583953857], [9335, 1.4599003791809082], [9689, 1.4643840789794922], [9639, 1.4658143520355225], [8654, 1.4742600917816162], [8300, 1.4765130281448364], [9625, 1.4782922267913818], [8656, 1.480491042137146], [9356, 1.4893698692321777], [7744, 1.4909508228302002]]",
         "7744"
        ],
        [
         "31",
         "video7839",
         "this is a vine sports compilation",
         "[[9605, 1.3954460620880127]]",
         "[[9605, 1.3954460620880127], [9542, 1.4042247533798218], [8913, 1.4044328927993774], [9029, 1.4125065803527832], [8979, 1.4137710332870483]]",
         "[[9605, 1.3954460620880127], [9542, 1.4042247533798218], [8913, 1.4044328927993774], [9029, 1.4125065803527832], [8979, 1.4137710332870483], [7358, 1.4143657684326172], [8253, 1.4148998260498047], [9018, 1.415818452835083], [9817, 1.4172850847244263], [7789, 1.4194145202636719]]",
         "7839"
        ],
        [
         "32",
         "video7214",
         "race cars of different colors lined up on a dark track",
         "[[7214, 1.4529976844787598]]",
         "[[7214, 1.4529976844787598], [7219, 1.4947057962417603], [7616, 1.5330721139907837], [7506, 1.5349444150924683], [8264, 1.5351449251174927]]",
         "[[7214, 1.4529976844787598], [7219, 1.4947057962417603], [7616, 1.5330721139907837], [7506, 1.5349444150924683], [8264, 1.5351449251174927], [9535, 1.5451951026916504], [9328, 1.552782416343689], [8451, 1.5585030317306519], [9252, 1.5585616827011108], [9691, 1.5608882904052734]]",
         "7214"
        ],
        [
         "33",
         "video7771",
         "a golf player is trying to hit the ball into the pit",
         "[[7771, 1.3824443817138672]]",
         "[[7771, 1.3824443817138672], [7021, 1.5062991380691528], [7368, 1.5169516801834106], [7556, 1.5248804092407227], [8049, 1.5259966850280762]]",
         "[[7771, 1.3824443817138672], [7021, 1.5062991380691528], [7368, 1.5169516801834106], [7556, 1.5248804092407227], [8049, 1.5259966850280762], [8913, 1.5556397438049316], [9018, 1.5610020160675049], [7358, 1.5662288665771484], [9029, 1.5662729740142822], [7150, 1.5705070495605469]]",
         "7771"
        ],
        [
         "34",
         "video8486",
         "a cartoon on a young guy cursing",
         "[[7160, 1.3861666917800903]]",
         "[[7160, 1.3861666917800903], [7741, 1.431535243988037], [7222, 1.4360408782958984], [8486, 1.4493900537490845], [7029, 1.45454740524292]]",
         "[[7160, 1.3861666917800903], [7741, 1.431535243988037], [7222, 1.4360408782958984], [8486, 1.4493900537490845], [7029, 1.45454740524292], [9790, 1.4634714126586914], [7172, 1.4667150974273682], [7831, 1.4741456508636475], [8076, 1.4834052324295044], [8911, 1.4859466552734375]]",
         "8486"
        ],
        [
         "35",
         "video9909",
         "a crowd of people sitting next to each other as one man plays a video game",
         "[[9909, 1.3800612688064575]]",
         "[[9909, 1.3800612688064575], [7444, 1.4771897792816162], [8860, 1.4888434410095215], [8472, 1.4921529293060303], [8622, 1.4955353736877441]]",
         "[[9909, 1.3800612688064575], [7444, 1.4771897792816162], [8860, 1.4888434410095215], [8472, 1.4921529293060303], [8622, 1.4955353736877441], [8689, 1.5028917789459229], [7035, 1.5082834959030151], [7972, 1.5121546983718872], [9745, 1.5128926038742065], [7723, 1.5144081115722656]]",
         "9909"
        ],
        [
         "36",
         "video8922",
         "an old man shakes hands with another man and then they hug each other",
         "[[8922, 1.3971441984176636]]",
         "[[8922, 1.3971441984176636], [7704, 1.4672598838806152], [8829, 1.4747174978256226], [7590, 1.5171927213668823], [7349, 1.5205988883972168]]",
         "[[8922, 1.3971441984176636], [7704, 1.4672598838806152], [8829, 1.4747174978256226], [7590, 1.5171927213668823], [7349, 1.5205988883972168], [9545, 1.522073745727539], [9520, 1.5307629108428955], [9023, 1.5322681665420532], [7159, 1.5343414545059204], [9690, 1.543278694152832]]",
         "8922"
        ],
        [
         "37",
         "video9814",
         "a scene from spongebob squarepants where the townspeople are carrying torches and chasing a giant squidward",
         "[[9790, 1.5263124704360962]]",
         "[[9790, 1.5263124704360962], [7111, 1.5315674543380737], [9814, 1.5316778421401978], [7029, 1.537171721458435], [9300, 1.5396580696105957]]",
         "[[9790, 1.5263124704360962], [7111, 1.5315674543380737], [9814, 1.5316778421401978], [7029, 1.537171721458435], [9300, 1.5396580696105957], [8916, 1.5439056158065796], [7747, 1.5549190044403076], [7218, 1.5619148015975952], [8839, 1.5642073154449463], [9306, 1.5662813186645508]]",
         "9814"
        ],
        [
         "38",
         "video9368",
         "someone demonstrates about the small motor uses to the video",
         "[[9368, 1.4225341081619263]]",
         "[[9368, 1.4225341081619263], [8121, 1.4475288391113281], [9530, 1.4526095390319824], [8332, 1.4829761981964111], [7765, 1.4940850734710693]]",
         "[[9368, 1.4225341081619263], [8121, 1.4475288391113281], [9530, 1.4526095390319824], [8332, 1.4829761981964111], [7765, 1.4940850734710693], [8626, 1.495496392250061], [7363, 1.4984151124954224], [7820, 1.5078929662704468], [7237, 1.5146859884262085], [8246, 1.5147054195404053]]",
         "9368"
        ],
        [
         "39",
         "video8820",
         "a person comes up in the hill on a orange motor bike and falls down",
         "[[8820, 1.4442609548568726]]",
         "[[8820, 1.4442609548568726], [8657, 1.5116935968399048], [9017, 1.5174027681350708], [8245, 1.5254249572753906], [8322, 1.5294498205184937]]",
         "[[8820, 1.4442609548568726], [8657, 1.5116935968399048], [9017, 1.5174027681350708], [8245, 1.5254249572753906], [8322, 1.5294498205184937], [9208, 1.5299320220947266], [7796, 1.5317177772521973], [9521, 1.5362138748168945], [7649, 1.5408059358596802], [9813, 1.5466744899749756]]",
         "8820"
        ],
        [
         "40",
         "video9452",
         "an animated grey shark in the middle of a blue water simulation background rotating in a circle on the screen of a monitor",
         "[[9452, 1.3651185035705566]]",
         "[[9452, 1.3651185035705566], [8909, 1.4817821979522705], [8328, 1.4976792335510254], [9359, 1.542299509048462], [7027, 1.5462653636932373]]",
         "[[9452, 1.3651185035705566], [8909, 1.4817821979522705], [8328, 1.4976792335510254], [9359, 1.542299509048462], [7027, 1.5462653636932373], [9821, 1.5500330924987793], [7223, 1.5521481037139893], [7900, 1.5524446964263916], [7061, 1.5596129894256592], [8111, 1.561185359954834]]",
         "9452"
        ],
        [
         "41",
         "video9344",
         "gameplay footage of someone playing a game",
         "[[8459, 1.4782747030258179]]",
         "[[8459, 1.4782747030258179], [9200, 1.4825191497802734], [7374, 1.4835505485534668], [9031, 1.4844727516174316], [8116, 1.484497308731079]]",
         "[[8459, 1.4782747030258179], [9200, 1.4825191497802734], [7374, 1.4835505485534668], [9031, 1.4844727516174316], [8116, 1.484497308731079], [8070, 1.4865409135818481], [8010, 1.4868404865264893], [8313, 1.4879547357559204], [7723, 1.4884374141693115], [7919, 1.4889767169952393]]",
         "9344"
        ],
        [
         "42",
         "video9032",
         "a hospital mortuary room and a doctor treat the special case",
         "[[9032, 1.426870346069336]]",
         "[[9032, 1.426870346069336], [8664, 1.4428882598876953], [9322, 1.4891026020050049], [7829, 1.492537021636963], [7169, 1.511112093925476]]",
         "[[9032, 1.426870346069336], [8664, 1.4428882598876953], [9322, 1.4891026020050049], [7829, 1.492537021636963], [7169, 1.511112093925476], [8240, 1.534045696258545], [9520, 1.5368852615356445], [8666, 1.5385372638702393], [8808, 1.5574285984039307], [9686, 1.5624408721923828]]",
         "9032"
        ],
        [
         "43",
         "video9016",
         "all persons are wearing bikini dresses and playing in sea",
         "[[9201, 1.4677196741104126]]",
         "[[9201, 1.4677196741104126], [7681, 1.474799394607544], [9342, 1.4749702215194702], [8949, 1.4803657531738281], [8928, 1.4974106550216675]]",
         "[[9201, 1.4677196741104126], [7681, 1.474799394607544], [9342, 1.4749702215194702], [8949, 1.4803657531738281], [8928, 1.4974106550216675], [8118, 1.4990403652191162], [7795, 1.5069212913513184], [8999, 1.5075056552886963], [7025, 1.5202339887619019], [9574, 1.5209019184112549]]",
         "9016"
        ],
        [
         "44",
         "video9353",
         "two women are outside and are discussing something in a foreign language",
         "[[9353, 1.3706330060958862]]",
         "[[9353, 1.3706330060958862], [7583, 1.4415204524993896], [9340, 1.44978666305542], [7364, 1.476280927658081], [7589, 1.4856882095336914]]",
         "[[9353, 1.3706330060958862], [7583, 1.4415204524993896], [9340, 1.44978666305542], [7364, 1.476280927658081], [7589, 1.4856882095336914], [8022, 1.4930706024169922], [7974, 1.5079180002212524], [9039, 1.5085830688476562], [8330, 1.5114421844482422], [7116, 1.5204488039016724]]",
         "9353"
        ],
        [
         "45",
         "video9405",
         "red balloons float in the sky and have packages tied to them",
         "[[9405, 1.3326112031936646]]",
         "[[9405, 1.3326112031936646], [8069, 1.531198501586914], [9680, 1.5316418409347534], [8306, 1.531980037689209], [9679, 1.534993290901184]]",
         "[[9405, 1.3326112031936646], [8069, 1.531198501586914], [9680, 1.5316418409347534], [8306, 1.531980037689209], [9679, 1.534993290901184], [7061, 1.5389103889465332], [7698, 1.5491349697113037], [7223, 1.5567899942398071], [8260, 1.55746591091156], [8464, 1.5582013130187988]]",
         "9405"
        ],
        [
         "46",
         "video7559",
         "a man is trying some sushi",
         "[[9309, 1.4551743268966675]]",
         "[[9309, 1.4551743268966675], [7559, 1.4615134000778198], [9327, 1.4842848777770996], [9229, 1.5067389011383057], [9687, 1.5185647010803223]]",
         "[[9309, 1.4551743268966675], [7559, 1.4615134000778198], [9327, 1.4842848777770996], [9229, 1.5067389011383057], [9687, 1.5185647010803223], [9537, 1.5229182243347168], [8301, 1.531823754310608], [9539, 1.5435047149658203], [8772, 1.5447218418121338], [8325, 1.557989239692688]]",
         "7559"
        ],
        [
         "47",
         "video9063",
         "people on stage performing",
         "[[9683, 1.4469232559204102]]",
         "[[9683, 1.4469232559204102], [8482, 1.4708125591278076], [7558, 1.475784182548523], [9352, 1.4783990383148193], [9243, 1.483543872833252]]",
         "[[9683, 1.4469232559204102], [8482, 1.4708125591278076], [7558, 1.475784182548523], [9352, 1.4783990383148193], [9243, 1.483543872833252], [7596, 1.4842643737792969], [8914, 1.4884471893310547], [7351, 1.4908850193023682], [9063, 1.491991639137268], [8445, 1.4963740110397339]]",
         "9063"
        ],
        [
         "48",
         "video7352",
         "a movie scene starring morgan freeman and men in armor running",
         "[[7352, 1.4284899234771729]]",
         "[[7352, 1.4284899234771729], [8948, 1.4622437953948975], [7373, 1.510711669921875], [8122, 1.514944076538086], [9230, 1.5220203399658203]]",
         "[[7352, 1.4284899234771729], [8948, 1.4622437953948975], [7373, 1.510711669921875], [8122, 1.514944076538086], [9230, 1.5220203399658203], [7444, 1.527296543121338], [8266, 1.5308794975280762], [8808, 1.533003330230713], [8851, 1.5373198986053467], [8249, 1.5413763523101807]]",
         "7352"
        ],
        [
         "49",
         "video8447",
         "a woman singing on the voice",
         "[[8818, 1.4436079263687134]]",
         "[[8818, 1.4436079263687134], [7756, 1.4490423202514648], [8810, 1.461197853088379], [8447, 1.4694470167160034], [8265, 1.474387288093567]]",
         "[[8818, 1.4436079263687134], [7756, 1.4490423202514648], [8810, 1.461197853088379], [8447, 1.4694470167160034], [8265, 1.474387288093567], [7569, 1.4855432510375977], [9879, 1.4903745651245117], [9518, 1.495021104812622], [9351, 1.4961371421813965], [9222, 1.5035289525985718]]",
         "8447"
        ]
       ],
       "shape": {
        "columns": 6,
        "rows": 1000
       }
      },
      "text/html": [
       "<div>\n",
       "<style scoped>\n",
       "    .dataframe tbody tr th:only-of-type {\n",
       "        vertical-align: middle;\n",
       "    }\n",
       "\n",
       "    .dataframe tbody tr th {\n",
       "        vertical-align: top;\n",
       "    }\n",
       "\n",
       "    .dataframe thead th {\n",
       "        text-align: right;\n",
       "    }\n",
       "</style>\n",
       "<table border=\"1\" class=\"dataframe\">\n",
       "  <thead>\n",
       "    <tr style=\"text-align: right;\">\n",
       "      <th></th>\n",
       "      <th>rel_video_id</th>\n",
       "      <th>query</th>\n",
       "      <th>top1</th>\n",
       "      <th>top5</th>\n",
       "      <th>top10</th>\n",
       "      <th>ground_truth</th>\n",
       "    </tr>\n",
       "  </thead>\n",
       "  <tbody>\n",
       "    <tr>\n",
       "      <th>0</th>\n",
       "      <td>video7579</td>\n",
       "      <td>a girl wearing red top and black trouser is pu...</td>\n",
       "      <td>[[7579, 1.415151834487915]]</td>\n",
       "      <td>[[7579, 1.415151834487915], [9969, 1.479910612...</td>\n",
       "      <td>[[7579, 1.415151834487915], [9969, 1.479910612...</td>\n",
       "      <td>7579</td>\n",
       "    </tr>\n",
       "    <tr>\n",
       "      <th>1</th>\n",
       "      <td>video7725</td>\n",
       "      <td>young people sit around the edges of a room cl...</td>\n",
       "      <td>[[7725, 1.3622068166732788]]</td>\n",
       "      <td>[[7725, 1.3622068166732788], [8014, 1.48652696...</td>\n",
       "      <td>[[7725, 1.3622068166732788], [8014, 1.48652696...</td>\n",
       "      <td>7725</td>\n",
       "    </tr>\n",
       "    <tr>\n",
       "      <th>2</th>\n",
       "      <td>video9258</td>\n",
       "      <td>a person is using a phone</td>\n",
       "      <td>[[9258, 1.4011969566345215]]</td>\n",
       "      <td>[[9258, 1.4011969566345215], [9257, 1.42286348...</td>\n",
       "      <td>[[9258, 1.4011969566345215], [9257, 1.42286348...</td>\n",
       "      <td>9258</td>\n",
       "    </tr>\n",
       "    <tr>\n",
       "      <th>3</th>\n",
       "      <td>video7365</td>\n",
       "      <td>cartoon people are eating at a restaurant</td>\n",
       "      <td>[[7365, 1.4027695655822754]]</td>\n",
       "      <td>[[7365, 1.4027695655822754], [8781, 1.46230483...</td>\n",
       "      <td>[[7365, 1.4027695655822754], [8781, 1.46230483...</td>\n",
       "      <td>7365</td>\n",
       "    </tr>\n",
       "    <tr>\n",
       "      <th>4</th>\n",
       "      <td>video8068</td>\n",
       "      <td>a woman on a couch talks to a a man</td>\n",
       "      <td>[[7162, 1.4716743230819702]]</td>\n",
       "      <td>[[7162, 1.4716743230819702], [8304, 1.47874724...</td>\n",
       "      <td>[[7162, 1.4716743230819702], [8304, 1.47874724...</td>\n",
       "      <td>8068</td>\n",
       "    </tr>\n",
       "    <tr>\n",
       "      <th>...</th>\n",
       "      <td>...</td>\n",
       "      <td>...</td>\n",
       "      <td>...</td>\n",
       "      <td>...</td>\n",
       "      <td>...</td>\n",
       "      <td>...</td>\n",
       "    </tr>\n",
       "    <tr>\n",
       "      <th>995</th>\n",
       "      <td>video7034</td>\n",
       "      <td>man in black shirt is holding a baby upside do...</td>\n",
       "      <td>[[9320, 1.5113091468811035]]</td>\n",
       "      <td>[[9320, 1.5113091468811035], [9404, 1.51643335...</td>\n",
       "      <td>[[9320, 1.5113091468811035], [9404, 1.51643335...</td>\n",
       "      <td>7034</td>\n",
       "    </tr>\n",
       "    <tr>\n",
       "      <th>996</th>\n",
       "      <td>video7568</td>\n",
       "      <td>the queen of england is seen walking with an e...</td>\n",
       "      <td>[[7568, 1.2981326580047607]]</td>\n",
       "      <td>[[7568, 1.2981326580047607], [7116, 1.41021490...</td>\n",
       "      <td>[[7568, 1.2981326580047607], [7116, 1.41021490...</td>\n",
       "      <td>7568</td>\n",
       "    </tr>\n",
       "    <tr>\n",
       "      <th>997</th>\n",
       "      <td>video7979</td>\n",
       "      <td>people talking about a fight</td>\n",
       "      <td>[[7211, 1.4528591632843018]]</td>\n",
       "      <td>[[7211, 1.4528591632843018], [7979, 1.46294164...</td>\n",
       "      <td>[[7211, 1.4528591632843018], [7979, 1.46294164...</td>\n",
       "      <td>7979</td>\n",
       "    </tr>\n",
       "    <tr>\n",
       "      <th>998</th>\n",
       "      <td>video7356</td>\n",
       "      <td>a vehicle with details on what comes with it b...</td>\n",
       "      <td>[[7356, 1.4014551639556885]]</td>\n",
       "      <td>[[7356, 1.4014551639556885], [7765, 1.47221362...</td>\n",
       "      <td>[[7356, 1.4014551639556885], [7765, 1.47221362...</td>\n",
       "      <td>7356</td>\n",
       "    </tr>\n",
       "    <tr>\n",
       "      <th>999</th>\n",
       "      <td>video8578</td>\n",
       "      <td>a man is commentating while playing minecraft</td>\n",
       "      <td>[[8578, 1.4566261768341064]]</td>\n",
       "      <td>[[8578, 1.4566261768341064], [8663, 1.45827186...</td>\n",
       "      <td>[[8578, 1.4566261768341064], [8663, 1.45827186...</td>\n",
       "      <td>8578</td>\n",
       "    </tr>\n",
       "  </tbody>\n",
       "</table>\n",
       "<p>1000 rows × 6 columns</p>\n",
       "</div>"
      ],
      "text/plain": [
       "    rel_video_id                                              query  \\\n",
       "0      video7579  a girl wearing red top and black trouser is pu...   \n",
       "1      video7725  young people sit around the edges of a room cl...   \n",
       "2      video9258                          a person is using a phone   \n",
       "3      video7365          cartoon people are eating at a restaurant   \n",
       "4      video8068                a woman on a couch talks to a a man   \n",
       "..           ...                                                ...   \n",
       "995    video7034  man in black shirt is holding a baby upside do...   \n",
       "996    video7568  the queen of england is seen walking with an e...   \n",
       "997    video7979                       people talking about a fight   \n",
       "998    video7356  a vehicle with details on what comes with it b...   \n",
       "999    video8578      a man is commentating while playing minecraft   \n",
       "\n",
       "                             top1  \\\n",
       "0     [[7579, 1.415151834487915]]   \n",
       "1    [[7725, 1.3622068166732788]]   \n",
       "2    [[9258, 1.4011969566345215]]   \n",
       "3    [[7365, 1.4027695655822754]]   \n",
       "4    [[7162, 1.4716743230819702]]   \n",
       "..                            ...   \n",
       "995  [[9320, 1.5113091468811035]]   \n",
       "996  [[7568, 1.2981326580047607]]   \n",
       "997  [[7211, 1.4528591632843018]]   \n",
       "998  [[7356, 1.4014551639556885]]   \n",
       "999  [[8578, 1.4566261768341064]]   \n",
       "\n",
       "                                                  top5  \\\n",
       "0    [[7579, 1.415151834487915], [9969, 1.479910612...   \n",
       "1    [[7725, 1.3622068166732788], [8014, 1.48652696...   \n",
       "2    [[9258, 1.4011969566345215], [9257, 1.42286348...   \n",
       "3    [[7365, 1.4027695655822754], [8781, 1.46230483...   \n",
       "4    [[7162, 1.4716743230819702], [8304, 1.47874724...   \n",
       "..                                                 ...   \n",
       "995  [[9320, 1.5113091468811035], [9404, 1.51643335...   \n",
       "996  [[7568, 1.2981326580047607], [7116, 1.41021490...   \n",
       "997  [[7211, 1.4528591632843018], [7979, 1.46294164...   \n",
       "998  [[7356, 1.4014551639556885], [7765, 1.47221362...   \n",
       "999  [[8578, 1.4566261768341064], [8663, 1.45827186...   \n",
       "\n",
       "                                                 top10  ground_truth  \n",
       "0    [[7579, 1.415151834487915], [9969, 1.479910612...          7579  \n",
       "1    [[7725, 1.3622068166732788], [8014, 1.48652696...          7725  \n",
       "2    [[9258, 1.4011969566345215], [9257, 1.42286348...          9258  \n",
       "3    [[7365, 1.4027695655822754], [8781, 1.46230483...          7365  \n",
       "4    [[7162, 1.4716743230819702], [8304, 1.47874724...          8068  \n",
       "..                                                 ...           ...  \n",
       "995  [[9320, 1.5113091468811035], [9404, 1.51643335...          7034  \n",
       "996  [[7568, 1.2981326580047607], [7116, 1.41021490...          7568  \n",
       "997  [[7211, 1.4528591632843018], [7979, 1.46294164...          7979  \n",
       "998  [[7356, 1.4014551639556885], [7765, 1.47221362...          7356  \n",
       "999  [[8578, 1.4566261768341064], [8663, 1.45827186...          8578  \n",
       "\n",
       "[1000 rows x 6 columns]"
      ]
     },
     "execution_count": 63,
     "metadata": {},
     "output_type": "execute_result"
    }
   ],
   "source": [
    "all_query_results_df = twohee_data_col_to_df(all_query_results)\n",
    "# Create ground truth column as video id casted into an int, this is used for the eval functions\n",
    "all_query_results_df['ground_truth'] = all_query_results_df['rel_video_id'].apply(lambda x: int(x[len('video'):]))\n",
    "all_query_results_df"
   ]
  },
  {
   "cell_type": "code",
   "execution_count": 68,
   "id": "71f35bff",
   "metadata": {},
   "outputs": [
    {
     "name": "stdout",
     "output_type": "stream",
     "text": [
      "Recall metrics at top-1, 5, 10:\n",
      "{'recall@1': 0.426, 'recall@5': 0.716, 'recall@10': 0.814}\n",
      "Mean Average Precision (MAP):\n",
      "0.5456543650793645\n"
     ]
    }
   ],
   "source": [
    "recall_metrics = calculate_recall(all_query_results_df)\n",
    "map_value = calculate_mean_average_precision(all_query_results_df)\n",
    "\n",
    "print(\"Recall metrics at top-1, 5, 10:\")\n",
    "print(recall_metrics)\n",
    "print(\"Mean Average Precision (MAP):\")\n",
    "print(map_value)"
   ]
  },
  {
   "cell_type": "code",
   "execution_count": 81,
   "id": "0e467cd7",
   "metadata": {},
   "outputs": [
    {
     "name": "stdout",
     "output_type": "stream",
     "text": [
      "NDCG@1: 0.426\n",
      "NDCG@5: 0.5780321865313451\n",
      "NDCG@10: 0.6100154270801753\n"
     ]
    }
   ],
   "source": [
    "# Calculate NDCG with k=1, 5, 10\n",
    "for k in [1, 5, 10]:\n",
    "    ndcg_value = calculate_ndcg(all_query_results_df, k=k)\n",
    "    print(f\"NDCG@{k}: {ndcg_value}\")\n"
   ]
  },
  {
   "cell_type": "code",
   "execution_count": 83,
   "id": "ce772ffe",
   "metadata": {},
   "outputs": [
    {
     "data": {
      "text/plain": [
       "{'recall@1': 0.426,\n",
       " 'recall@5': 0.716,\n",
       " 'recall@10': 0.814,\n",
       " 'map': 0.5456543650793645,\n",
       " 'ndcg@1': 0.426,\n",
       " 'ndcg@5': 0.5780321865313451,\n",
       " 'ndcg@10': 0.6100154270801753}"
      ]
     },
     "execution_count": 83,
     "metadata": {},
     "output_type": "execute_result"
    }
   ],
   "source": [
    "get_all_eval_scores(all_query_results_df)"
   ]
  }
 ],
 "metadata": {
  "kernelspec": {
   "display_name": "info-ret-proj",
   "language": "python",
   "name": "python3"
  },
  "language_info": {
   "codemirror_mode": {
    "name": "ipython",
    "version": 3
   },
   "file_extension": ".py",
   "mimetype": "text/x-python",
   "name": "python",
   "nbconvert_exporter": "python",
   "pygments_lexer": "ipython3",
   "version": "3.10.16"
  }
 },
 "nbformat": 4,
 "nbformat_minor": 5
}
