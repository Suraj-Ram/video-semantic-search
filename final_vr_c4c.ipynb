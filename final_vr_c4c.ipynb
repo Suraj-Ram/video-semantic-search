{
 "cells": [
  {
   "cell_type": "code",
   "execution_count": 1,
   "id": "70fea2ab",
   "metadata": {},
   "outputs": [
    {
     "name": "stdout",
     "output_type": "stream",
     "text": [
      "Connected to Milvus server at port 19530\n"
     ]
    }
   ],
   "source": [
    "import os\n",
    "import csv\n",
    "from towhee import ops, pipe, register\n",
    "from towhee.operator import PyOperator\n",
    "from towhee import DataCollection\n",
    "from tqdm import tqdm\n",
    "import pandas as pd\n",
    "import json\n",
    "import numpy as np\n",
    "from helpers import milvus_utils"
   ]
  },
  {
   "cell_type": "code",
   "execution_count": 121,
   "id": "4590190c",
   "metadata": {},
   "outputs": [],
   "source": [
    "# CONSTANTS\n",
    "\n",
    "# Files\n",
    "MSRVTT_SAMPLES = \"./MSRVTT_1K.csv\"\n",
    "FIRE_BENCHMARK_Q_JUDGEMENTS = \"./fire_benchmark_q_judgements.csv\" # file created using raw FIRE judgements\n",
    "\n",
    "# Database Collections\n",
    "VIDEO_RET_COLLECTION = \"msrvtt_vid_ret_1\"\n",
    "FRAME_RET_COLLECTION = \"msrvtt_frame_ret_1\"\n"
   ]
  },
  {
   "cell_type": "code",
   "execution_count": 4,
   "id": "3d8cf2c5",
   "metadata": {},
   "outputs": [
    {
     "data": {
      "application/vnd.microsoft.datawrangler.viewer.v0+json": {
       "columns": [
        {
         "name": "index",
         "rawType": "int64",
         "type": "integer"
        },
        {
         "name": "video_id",
         "rawType": "object",
         "type": "string"
        },
        {
         "name": "video_path",
         "rawType": "object",
         "type": "string"
        },
        {
         "name": "sentence",
         "rawType": "object",
         "type": "string"
        }
       ],
       "conversionMethod": "pd.DataFrame",
       "ref": "8cb16268-a4ad-4ed1-a4d1-1560a1c0ae21",
       "rows": [
        [
         "0",
         "video7579",
         "./test_1k_compress/video7579.mp4",
         "a girl wearing red top and black trouser is putting a sweater on a dog"
        ],
        [
         "1",
         "video7725",
         "./test_1k_compress/video7725.mp4",
         "young people sit around the edges of a room clapping and raising their arms while others dance in the center during a party"
        ],
        [
         "2",
         "video9258",
         "./test_1k_compress/video9258.mp4",
         "a person is using a phone"
        ],
        [
         "3",
         "video7365",
         "./test_1k_compress/video7365.mp4",
         "cartoon people are eating at a restaurant"
        ],
        [
         "4",
         "video8068",
         "./test_1k_compress/video8068.mp4",
         "a woman on a couch talks to a a man"
        ]
       ],
       "shape": {
        "columns": 3,
        "rows": 5
       }
      },
      "text/html": [
       "<div>\n",
       "<style scoped>\n",
       "    .dataframe tbody tr th:only-of-type {\n",
       "        vertical-align: middle;\n",
       "    }\n",
       "\n",
       "    .dataframe tbody tr th {\n",
       "        vertical-align: top;\n",
       "    }\n",
       "\n",
       "    .dataframe thead th {\n",
       "        text-align: right;\n",
       "    }\n",
       "</style>\n",
       "<table border=\"1\" class=\"dataframe\">\n",
       "  <thead>\n",
       "    <tr style=\"text-align: right;\">\n",
       "      <th></th>\n",
       "      <th>video_id</th>\n",
       "      <th>video_path</th>\n",
       "      <th>sentence</th>\n",
       "    </tr>\n",
       "  </thead>\n",
       "  <tbody>\n",
       "    <tr>\n",
       "      <th>0</th>\n",
       "      <td>video7579</td>\n",
       "      <td>./test_1k_compress/video7579.mp4</td>\n",
       "      <td>a girl wearing red top and black trouser is pu...</td>\n",
       "    </tr>\n",
       "    <tr>\n",
       "      <th>1</th>\n",
       "      <td>video7725</td>\n",
       "      <td>./test_1k_compress/video7725.mp4</td>\n",
       "      <td>young people sit around the edges of a room cl...</td>\n",
       "    </tr>\n",
       "    <tr>\n",
       "      <th>2</th>\n",
       "      <td>video9258</td>\n",
       "      <td>./test_1k_compress/video9258.mp4</td>\n",
       "      <td>a person is using a phone</td>\n",
       "    </tr>\n",
       "    <tr>\n",
       "      <th>3</th>\n",
       "      <td>video7365</td>\n",
       "      <td>./test_1k_compress/video7365.mp4</td>\n",
       "      <td>cartoon people are eating at a restaurant</td>\n",
       "    </tr>\n",
       "    <tr>\n",
       "      <th>4</th>\n",
       "      <td>video8068</td>\n",
       "      <td>./test_1k_compress/video8068.mp4</td>\n",
       "      <td>a woman on a couch talks to a a man</td>\n",
       "    </tr>\n",
       "  </tbody>\n",
       "</table>\n",
       "</div>"
      ],
      "text/plain": [
       "    video_id                        video_path  \\\n",
       "0  video7579  ./test_1k_compress/video7579.mp4   \n",
       "1  video7725  ./test_1k_compress/video7725.mp4   \n",
       "2  video9258  ./test_1k_compress/video9258.mp4   \n",
       "3  video7365  ./test_1k_compress/video7365.mp4   \n",
       "4  video8068  ./test_1k_compress/video8068.mp4   \n",
       "\n",
       "                                            sentence  \n",
       "0  a girl wearing red top and black trouser is pu...  \n",
       "1  young people sit around the edges of a room cl...  \n",
       "2                          a person is using a phone  \n",
       "3          cartoon people are eating at a restaurant  \n",
       "4                a woman on a couch talks to a a man  "
      ]
     },
     "execution_count": 4,
     "metadata": {},
     "output_type": "execute_result"
    }
   ],
   "source": [
    "\n",
    "raw_samples_df = pd.read_csv(MSRVTT_SAMPLES)\n",
    "raw_samples_df[['video_id', 'video_path', 'sentence']].head()"
   ]
  },
  {
   "cell_type": "code",
   "execution_count": 8,
   "id": "a3a7eec7",
   "metadata": {},
   "outputs": [
    {
     "data": {
      "text/plain": [
       "<Collection>:\n",
       "-------------\n",
       "<name>: msrvtt_vid_ret_1\n",
       "<description>: video retrieval\n",
       "<schema>: {'auto_id': False, 'description': 'video retrieval', 'fields': [{'name': 'id', 'description': '', 'type': <DataType.INT64: 5>, 'is_primary': True, 'auto_id': False}, {'name': 'embedding', 'description': '', 'type': <DataType.FLOAT_VECTOR: 101>, 'params': {'dim': 512}}]}"
      ]
     },
     "execution_count": 8,
     "metadata": {},
     "output_type": "execute_result"
    }
   ],
   "source": [
    "milvus_utils.create_milvus_collection(VIDEO_RET_COLLECTION, 512)"
   ]
  },
  {
   "cell_type": "markdown",
   "id": "f6776d9b",
   "metadata": {},
   "source": [
    "We create a pipeline that loads the video embeddings into the Milvus Vector DB using a distributed Twohee pipeline"
   ]
  },
  {
   "cell_type": "code",
   "execution_count": null,
   "id": "35f108b1",
   "metadata": {},
   "outputs": [],
   "source": [
    "def read_loader_csv(csv_file):\n",
    "    with open(csv_file, 'r', encoding='utf-8-sig') as f:\n",
    "        data = csv.DictReader(f)\n",
    "        for line in data:\n",
    "            yield int(line['video_id'][len('video'):]), line['video_path']\n",
    "\n",
    "video_loader_pipeline = (\n",
    "    pipe.input('csv_file')\n",
    "    .flat_map('csv_file', ('video_id', 'video_path'), read_loader_csv)\n",
    "    # Create 12 evenly distributed frames per video\n",
    "    .map('video_path', 'frames', ops.video_decode.ffmpeg(sample_type='uniform_temporal_subsample', args={'num_samples': 12}))\n",
    "    # I have a M2 Max, so device is set to mps for better performance\n",
    "    .map('frames', 'vec', ops.video_text_embedding.clip4clip(model_name='clip_vit_b32', modality='video', device='mps'))\n",
    "    .map(('video_id', 'vec'), (), ops.ann_insert.milvus_client(collection_name=VIDEO_RET_COLLECTION))\n",
    "    .output('video_id')\n",
    ")"
   ]
  },
  {
   "cell_type": "code",
   "execution_count": 11,
   "id": "98936d82",
   "metadata": {},
   "outputs": [
    {
     "name": "stderr",
     "output_type": "stream",
     "text": [
      "2025-04-16 15:04:15,510 - 17173606400 - node.py-node:167 - INFO: Begin to run Node-_input\n",
      "2025-04-16 15:04:15,510 - 17190432768 - node.py-node:167 - INFO: Begin to run Node-read_loader_csv-0\n",
      "2025-04-16 15:04:15,511 - 17207259136 - node.py-node:167 - INFO: Begin to run Node-video-decode/ffmpeg-1\n",
      "2025-04-16 15:04:15,511 - 17224085504 - node.py-node:167 - INFO: Begin to run Node-video-text-embedding/clip4clip-2\n",
      "2025-04-16 15:04:15,512 - 17240911872 - node.py-node:167 - INFO: Begin to run Node-ann-insert/milvus-client-3\n",
      "2025-04-16 15:04:15,512 - 17173606400 - node.py-node:167 - INFO: Begin to run Node-_output\n"
     ]
    }
   ],
   "source": [
    "# We call the pipeline with a CSV file containing the video paths\n",
    "video_loader_ret = video_loader_pipeline(MSRVTT_SAMPLES)"
   ]
  },
  {
   "cell_type": "markdown",
   "id": "4df87faf",
   "metadata": {},
   "source": [
    "The 1000 videos are now loaded into the Milvus `VIDEO_RET_COLLECTION` collection.\n",
    "\n",
    "Now, we query these videos using the annotated sentences as queries and the video ids as the ground truth results."
   ]
  },
  {
   "cell_type": "code",
   "execution_count": 25,
   "id": "036050f5",
   "metadata": {},
   "outputs": [],
   "source": [
    "def read_video_search_csv(csv_file):\n",
    "    import csv\n",
    "    with open(csv_file, 'r', encoding='utf-8-sig') as f:\n",
    "        data = csv.DictReader(f)\n",
    "        for line in data:\n",
    "            yield line['video_id'], line['sentence']\n",
    "\n",
    "video_search_pipeline = (\n",
    "    pipe.input('csv_file')\n",
    "    .flat_map('csv_file', ('rel_video_id', 'query'), read_video_search_csv)\n",
    "    .map('query', 'vec', ops.video_text_embedding.clip4clip(model_name='clip_vit_b32', modality='text', device='mps'))\n",
    "    .map('vec', 'top10_raw_res', \n",
    "         ops.ann_search.milvus_client(collection_name=VIDEO_RET_COLLECTION, limit=10))\n",
    "    .map('top10_raw_res', ('top1', 'top5', 'top10'), lambda x: (x[:1], x[:5], x[:10]))\n",
    "    .output('rel_video_id', 'query', 'top1', 'top5', 'top10')\n",
    ")"
   ]
  },
  {
   "cell_type": "code",
   "execution_count": null,
   "id": "b53dc47b",
   "metadata": {},
   "outputs": [
    {
     "name": "stderr",
     "output_type": "stream",
     "text": [
      "2025-04-16 15:12:12,149 - 17800654848 - node.py-node:167 - INFO: Begin to run Node-_input\n",
      "2025-04-16 15:12:12,150 - 17842597888 - node.py-node:167 - INFO: Begin to run Node-read_video_search_csv-0\n",
      "2025-04-16 15:12:12,150 - 17976815616 - node.py-node:167 - INFO: Begin to run Node-video-text-embedding/clip4clip-1\n",
      "2025-04-16 15:12:12,150 - 19253981184 - node.py-node:167 - INFO: Begin to run Node-ann-search/milvus-client-2\n",
      "2025-04-16 15:12:12,150 - 19273904128 - node.py-node:167 - INFO: Begin to run Node-lambda-3\n",
      "2025-04-16 15:12:12,151 - 21981327360 - node.py-node:167 - INFO: Begin to run Node-_output\n"
     ]
    },
    {
     "name": "stderr",
     "output_type": "stream",
     "text": [
      "2025-04-16 16:26:41,865 - 17800654848 - node.py-node:167 - INFO: Begin to run Node-_input\n",
      "2025-04-16 16:26:41,865 - 17842597888 - node.py-node:167 - INFO: Begin to run Node-read_video_search_csv-0\n",
      "2025-04-16 16:26:41,865 - 17976815616 - node.py-node:167 - INFO: Begin to run Node-video-text-embedding/clip4clip-1\n",
      "2025-04-16 16:26:41,865 - 19253981184 - node.py-node:167 - INFO: Begin to run Node-ann-search/milvus-client-2\n",
      "2025-04-16 16:26:41,865 - 19273904128 - node.py-node:167 - INFO: Begin to run Node-lambda-3\n",
      "2025-04-16 16:26:41,865 - 21981327360 - node.py-node:167 - INFO: Begin to run Node-_output\n",
      "2025-04-16 16:26:41,869 - 17842597888 - node.py-node:142 - INFO: read_video_search_csv-0 ends with status: NodeStatus.FAILED\n",
      "2025-04-16 16:27:03,120 - 17800654848 - node.py-node:167 - INFO: Begin to run Node-_input\n",
      "2025-04-16 16:27:03,120 - 17842597888 - node.py-node:167 - INFO: Begin to run Node-read_video_search_csv-0\n",
      "2025-04-16 16:27:03,120 - 17976815616 - node.py-node:167 - INFO: Begin to run Node-video-text-embedding/clip4clip-1\n",
      "2025-04-16 16:27:03,121 - 19253981184 - node.py-node:167 - INFO: Begin to run Node-ann-search/milvus-client-2\n",
      "2025-04-16 16:27:03,121 - 19273904128 - node.py-node:167 - INFO: Begin to run Node-lambda-3\n",
      "2025-04-16 16:27:03,122 - 21981327360 - node.py-node:167 - INFO: Begin to run Node-_output\n",
      "2025-04-16 16:27:03,127 - 17842597888 - node.py-node:142 - INFO: read_video_search_csv-0 ends with status: NodeStatus.FAILED\n",
      "2025-04-16 16:27:25,676 - 17800654848 - node.py-node:167 - INFO: Begin to run Node-_input\n",
      "2025-04-16 16:27:25,676 - 17842597888 - node.py-node:167 - INFO: Begin to run Node-read_video_search_csv-0\n",
      "2025-04-16 16:27:25,676 - 17976815616 - node.py-node:167 - INFO: Begin to run Node-video-text-embedding/clip4clip-1\n",
      "2025-04-16 16:27:25,676 - 19253981184 - node.py-node:167 - INFO: Begin to run Node-ann-search/milvus-client-2\n",
      "2025-04-16 16:27:25,677 - 19273904128 - node.py-node:167 - INFO: Begin to run Node-lambda-3\n",
      "2025-04-16 16:27:25,677 - 21981327360 - node.py-node:167 - INFO: Begin to run Node-_output\n"
     ]
    }
   ],
   "source": [
    "all_query_results = DataCollection(video_search_pipeline(MSRVTT_SAMPLES))"
   ]
  },
  {
   "cell_type": "code",
   "execution_count": 31,
   "id": "2c718cfd",
   "metadata": {},
   "outputs": [
    {
     "data": {
      "text/html": [
       "<table style=\"border-collapse: collapse;\"><tr><th style=\"text-align: center; font-size: 130%; border: none;\">rel_video_id</th> <th style=\"text-align: center; font-size: 130%; border: none;\">query</th> <th style=\"text-align: center; font-size: 130%; border: none;\">top1</th> <th style=\"text-align: center; font-size: 130%; border: none;\">top5</th> <th style=\"text-align: center; font-size: 130%; border: none;\">top10</th></tr>\n",
       "<tr><td style=\"text-align: center; vertical-align: top; border-right: solid 1px #D3D3D3; border-left: solid 1px #D3D3D3; \">video7579</td><td style=\"text-align: center; vertical-align: top; border-right: solid 1px #D3D3D3; border-left: solid 1px #D3D3D3; \">a girl wearing red top and black trouser is putting a sweater on a dog</td><td style=\"text-align: left; vertical-align: top; border-right: solid 1px #D3D3D3; border-left: solid 1px #D3D3D3; \">[[7579, 1.415151834487915]] len=1</td><td style=\"text-align: left; vertical-align: top; border-right: solid 1px #D3D3D3; border-left: solid 1px #D3D3D3; \">[[7579, 1.415151834487915],[9969, 1.4799106121063232],[8837, 1.4897732734680176],[9347, 1.4948583841323853],...] len=5</td><td style=\"text-align: left; vertical-align: top; border-right: solid 1px #D3D3D3; border-left: solid 1px #D3D3D3; \">[[7579, 1.415151834487915],[9969, 1.4799106121063232],[8837, 1.4897732734680176],[9347, 1.4948583841323853],...] len=10</td></tr>\n",
       "<tr><td style=\"text-align: center; vertical-align: top; border-right: solid 1px #D3D3D3; border-left: solid 1px #D3D3D3; \">video7725</td><td style=\"text-align: center; vertical-align: top; border-right: solid 1px #D3D3D3; border-left: solid 1px #D3D3D3; \">young people sit around the edges of a room clapping and raising their arms while others dance in the center during a party</td><td style=\"text-align: left; vertical-align: top; border-right: solid 1px #D3D3D3; border-left: solid 1px #D3D3D3; \">[[7725, 1.3622068166732788]] len=1</td><td style=\"text-align: left; vertical-align: top; border-right: solid 1px #D3D3D3; border-left: solid 1px #D3D3D3; \">[[7725, 1.3622068166732788],[8014, 1.4865269660949707],[8339, 1.4922078847885132],[8442, 1.5024112462997437],...] len=5</td><td style=\"text-align: left; vertical-align: top; border-right: solid 1px #D3D3D3; border-left: solid 1px #D3D3D3; \">[[7725, 1.3622068166732788],[8014, 1.4865269660949707],[8339, 1.4922078847885132],[8442, 1.5024112462997437],...] len=10</td></tr>\n",
       "<tr><td style=\"text-align: center; vertical-align: top; border-right: solid 1px #D3D3D3; border-left: solid 1px #D3D3D3; \">video9258</td><td style=\"text-align: center; vertical-align: top; border-right: solid 1px #D3D3D3; border-left: solid 1px #D3D3D3; \">a person is using a phone</td><td style=\"text-align: left; vertical-align: top; border-right: solid 1px #D3D3D3; border-left: solid 1px #D3D3D3; \">[[9258, 1.4011969566345215]] len=1</td><td style=\"text-align: left; vertical-align: top; border-right: solid 1px #D3D3D3; border-left: solid 1px #D3D3D3; \">[[9258, 1.4011969566345215],[9257, 1.422863483428955],[9697, 1.4413853883743286],[7910, 1.4945621490478516],...] len=5</td><td style=\"text-align: left; vertical-align: top; border-right: solid 1px #D3D3D3; border-left: solid 1px #D3D3D3; \">[[9258, 1.4011969566345215],[9257, 1.422863483428955],[9697, 1.4413853883743286],[7910, 1.4945621490478516],...] len=10</td></tr>\n",
       "<tr><td style=\"text-align: center; vertical-align: top; border-right: solid 1px #D3D3D3; border-left: solid 1px #D3D3D3; \">video7365</td><td style=\"text-align: center; vertical-align: top; border-right: solid 1px #D3D3D3; border-left: solid 1px #D3D3D3; \">cartoon people are eating at a restaurant</td><td style=\"text-align: left; vertical-align: top; border-right: solid 1px #D3D3D3; border-left: solid 1px #D3D3D3; \">[[7365, 1.4027695655822754]] len=1</td><td style=\"text-align: left; vertical-align: top; border-right: solid 1px #D3D3D3; border-left: solid 1px #D3D3D3; \">[[7365, 1.4027695655822754],[8781, 1.4623048305511475],[9537, 1.4739768505096436],[7831, 1.505112648010254],...] len=5</td><td style=\"text-align: left; vertical-align: top; border-right: solid 1px #D3D3D3; border-left: solid 1px #D3D3D3; \">[[7365, 1.4027695655822754],[8781, 1.4623048305511475],[9537, 1.4739768505096436],[7831, 1.505112648010254],...] len=10</td></tr>\n",
       "<tr><td style=\"text-align: center; vertical-align: top; border-right: solid 1px #D3D3D3; border-left: solid 1px #D3D3D3; \">video8068</td><td style=\"text-align: center; vertical-align: top; border-right: solid 1px #D3D3D3; border-left: solid 1px #D3D3D3; \">a woman on a couch talks to a a man</td><td style=\"text-align: left; vertical-align: top; border-right: solid 1px #D3D3D3; border-left: solid 1px #D3D3D3; \">[[7162, 1.4716743230819702]] len=1</td><td style=\"text-align: left; vertical-align: top; border-right: solid 1px #D3D3D3; border-left: solid 1px #D3D3D3; \">[[7162, 1.4716743230819702],[8304, 1.4787472486495972],[8068, 1.4926888942718506],[7724, 1.4982554912567139],...] len=5</td><td style=\"text-align: left; vertical-align: top; border-right: solid 1px #D3D3D3; border-left: solid 1px #D3D3D3; \">[[7162, 1.4716743230819702],[8304, 1.4787472486495972],[8068, 1.4926888942718506],[7724, 1.4982554912567139],...] len=10</td></tr></table>"
      ],
      "text/plain": [
       "<IPython.core.display.HTML object>"
      ]
     },
     "metadata": {},
     "output_type": "display_data"
    }
   ],
   "source": [
    "all_query_results.show()"
   ]
  },
  {
   "cell_type": "code",
   "execution_count": null,
   "id": "3ce65802",
   "metadata": {},
   "outputs": [],
   "source": [
    "# Convert the Twohee data collection to a pandas dataframe so we can apply evaluation methods"
   ]
  },
  {
   "cell_type": "code",
   "execution_count": 131,
   "id": "238195e9",
   "metadata": {},
   "outputs": [],
   "source": [
    "# TODO add this entire thing into its own module\n",
    "\n",
    "def twohee_data_col_to_df(twohee_data_collection):\n",
    "    res_list = twohee_data_collection.to_list()\n",
    "    res_obj_list = []\n",
    "    for r in res_list:\n",
    "        res_obj = vars(r)\n",
    "        res_obj_list.append(res_obj)\n",
    "    res_df = pd.DataFrame(res_obj_list)\n",
    "    # Add ground truth column\n",
    "    res_df['ground_truth'] = res_df['rel_video_id'].apply(lambda x: int(x[len('video'):]))\n",
    "    return res_df.copy()\n",
    "\n",
    "\n",
    "def average_precision(ground_truth, predictions):\n",
    "    \"\"\"\n",
    "    Calculate the Average Precision (AP) for a single query.\n",
    "\n",
    "    Args:\n",
    "        ground_truth (int): The ground truth video ID.\n",
    "        predictions (list): List of predicted video IDs.\n",
    "\n",
    "    Returns:\n",
    "        float: The Average Precision (AP) score for the query.\n",
    "    \"\"\"\n",
    "    hits = 0\n",
    "    sum_precision = 0\n",
    "    for i, pred in enumerate(predictions):\n",
    "        if pred == ground_truth:\n",
    "            hits += 1\n",
    "            sum_precision += hits / (i + 1)\n",
    "    return sum_precision / hits if hits > 0 else 0\n",
    "\n",
    "\n",
    "def calculate_mean_average_precision(df):\n",
    "    \"\"\"\n",
    "    Calculate the Mean Average Precision (MAP) for the given dataframe.\n",
    "\n",
    "    Args:\n",
    "        df (pd.DataFrame): DataFrame containing columns 'query', 'ground_truth', 'top1', 'top5', 'top10'.\n",
    "\n",
    "    Returns:\n",
    "        float: The Mean Average Precision (MAP) score.\n",
    "    \"\"\"\n",
    "    # Calculate AP for each query\n",
    "    ap_scores = []\n",
    "    for _, row in df.iterrows():\n",
    "        ground_truth = row['ground_truth']\n",
    "        predictions_with_scores = row['top10']\n",
    "        predictions = [pred[0] for pred in predictions_with_scores]\n",
    "        ap_scores.append(average_precision(ground_truth, predictions))\n",
    "\n",
    "    # Calculate MAP\n",
    "    mean_ap = sum(ap_scores) / len(ap_scores) if ap_scores else 0\n",
    "    return mean_ap\n",
    "\n",
    "\n",
    "def calculate_recall(df):\n",
    "    \"\"\"\n",
    "    Calculate recall@1, recall@5, and recall@10 for the given dataframe.\n",
    "\n",
    "    Args:\n",
    "        df (pd.DataFrame): DataFrame containing columns 'query', 'ground_truth', 'top1', 'top5', 'top10'.\n",
    "\n",
    "    Returns:\n",
    "        dict: A dictionary containing recall@1, recall@5, and recall@10.\n",
    "    \"\"\"\n",
    "    recall_at_1 = 0\n",
    "    recall_at_5 = 0\n",
    "    recall_at_10 = 0\n",
    "    total_queries = len(df)\n",
    "\n",
    "    for _, row in df.iterrows():\n",
    "        ground_truth = row['ground_truth']\n",
    "        if ground_truth in [pred[0] for pred in row['top1']]:\n",
    "            recall_at_1 += 1\n",
    "        if ground_truth in [pred[0] for pred in row['top5']]:\n",
    "            recall_at_5 += 1\n",
    "        if ground_truth in [pred[0] for pred in row['top10']]:\n",
    "            recall_at_10 += 1\n",
    "\n",
    "    return {\n",
    "        'recall@1': recall_at_1 / total_queries,\n",
    "        'recall@5': recall_at_5 / total_queries,\n",
    "        'recall@10': recall_at_10 / total_queries\n",
    "    }\n",
    "    \n",
    "def ndcg_score(ground_truth, predictions, k=10):\n",
    "    \"\"\"\n",
    "    Calculate the Normalized Discounted Cumulative Gain (NDCG) for a single query.\n",
    "\n",
    "    Args:\n",
    "        ground_truth (int): The ground truth video ID.\n",
    "        predictions (list): List of predicted video IDs with scores [(id, score), ...].\n",
    "        k (int): The number of top predictions to consider.\n",
    "\n",
    "    Returns:\n",
    "        float: The NDCG score for the query.\n",
    "    \"\"\"\n",
    "    def dcg(relevance_scores):\n",
    "        return sum(rel / np.log2(idx + 2) for idx, rel in enumerate(relevance_scores))\n",
    "\n",
    "    # Relevance scores: 1 if the prediction matches the ground truth, else 0\n",
    "    relevance_scores = [1 if pred[0] == ground_truth else 0 for pred in predictions[:k]]\n",
    "\n",
    "    # Calculate DCG and IDCG\n",
    "    actual_dcg = dcg(relevance_scores)\n",
    "    ideal_dcg = dcg(sorted(relevance_scores, reverse=True))\n",
    "\n",
    "    # Return NDCG\n",
    "    return actual_dcg / ideal_dcg if ideal_dcg > 0 else 0\n",
    "\n",
    "# call this function to get the NDCG score for each query\n",
    "def calculate_ndcg(df, k=10):\n",
    "    \"\"\"\n",
    "    Calculate NDCG for the given dataframe.\n",
    "\n",
    "    Args:\n",
    "        df (pd.DataFrame): DataFrame containing columns 'query', 'ground_truth', 'top1', 'top5', 'top10'.\n",
    "        k (int): The number of top predictions to consider.\n",
    "\n",
    "    Returns:\n",
    "        float: The mean NDCG score.\n",
    "    \"\"\"\n",
    "    ndcg_scores = []\n",
    "    for _, row in df.iterrows():\n",
    "        ground_truth = row['ground_truth']\n",
    "        predictions_with_scores = row['top10']\n",
    "        ndcg_scores.append(ndcg_score(ground_truth, predictions_with_scores, k))\n",
    "\n",
    "    return sum(ndcg_scores) / len(ndcg_scores) if ndcg_scores else 0\n",
    "\n",
    "def get_all_eval_scores(df):\n",
    "    \"\"\"Return a dataframe with all evaluation scores: Recall@1, Recall@5, Recall@10, MAP, NDCG@1, NDCG@5, NDCG@10\"\"\"\n",
    "    recall_scores = calculate_recall(df)\n",
    "    map_score = calculate_mean_average_precision(df)\n",
    "    ndcg_score_1 = calculate_ndcg(df, k=1)\n",
    "    ndcg_score_5 = calculate_ndcg(df, k=5)\n",
    "    ndcg_score_10 = calculate_ndcg(df, k=10)\n",
    "\n",
    "    eval_scores = {\n",
    "        'recall@1': recall_scores['recall@1'],\n",
    "        'recall@5': recall_scores['recall@5'],\n",
    "        'recall@10': recall_scores['recall@10'],\n",
    "        'map': map_score,\n",
    "        'ndcg@1': ndcg_score_1,\n",
    "        'ndcg@5': ndcg_score_5,\n",
    "        'ndcg@10': ndcg_score_10\n",
    "    }\n",
    "    \n",
    "    return eval_scores"
   ]
  },
  {
   "cell_type": "code",
   "execution_count": 63,
   "id": "7a3fb45f",
   "metadata": {},
   "outputs": [
    {
     "data": {
      "application/vnd.microsoft.datawrangler.viewer.v0+json": {
       "columns": [
        {
         "name": "index",
         "rawType": "int64",
         "type": "integer"
        },
        {
         "name": "rel_video_id",
         "rawType": "object",
         "type": "string"
        },
        {
         "name": "query",
         "rawType": "object",
         "type": "string"
        },
        {
         "name": "top1",
         "rawType": "object",
         "type": "unknown"
        },
        {
         "name": "top5",
         "rawType": "object",
         "type": "unknown"
        },
        {
         "name": "top10",
         "rawType": "object",
         "type": "unknown"
        },
        {
         "name": "ground_truth",
         "rawType": "int64",
         "type": "integer"
        }
       ],
       "conversionMethod": "pd.DataFrame",
       "ref": "59907cb9-90e0-4b2a-a64c-791d056af4e4",
       "rows": [
        [
         "0",
         "video7579",
         "a girl wearing red top and black trouser is putting a sweater on a dog",
         "[[7579, 1.415151834487915]]",
         "[[7579, 1.415151834487915], [9969, 1.4799106121063232], [8837, 1.4897732734680176], [9347, 1.4948583841323853], [8866, 1.5094395875930786]]",
         "[[7579, 1.415151834487915], [9969, 1.4799106121063232], [8837, 1.4897732734680176], [9347, 1.4948583841323853], [8866, 1.5094395875930786], [8825, 1.5139577388763428], [9603, 1.5188720226287842], [7201, 1.5256853103637695], [9034, 1.5296111106872559], [9580, 1.5418593883514404]]",
         "7579"
        ],
        [
         "1",
         "video7725",
         "young people sit around the edges of a room clapping and raising their arms while others dance in the center during a party",
         "[[7725, 1.3622068166732788]]",
         "[[7725, 1.3622068166732788], [8014, 1.4865269660949707], [8339, 1.4922078847885132], [8442, 1.5024112462997437], [8556, 1.511048674583435]]",
         "[[7725, 1.3622068166732788], [8014, 1.4865269660949707], [8339, 1.4922078847885132], [8442, 1.5024112462997437], [8556, 1.511048674583435], [7411, 1.5155417919158936], [8303, 1.5275015830993652], [9957, 1.5276553630828857], [9254, 1.5293798446655273], [7117, 1.5300288200378418]]",
         "7725"
        ],
        [
         "2",
         "video9258",
         "a person is using a phone",
         "[[9258, 1.4011969566345215]]",
         "[[9258, 1.4011969566345215], [9257, 1.422863483428955], [9697, 1.4413853883743286], [7910, 1.4945621490478516], [9603, 1.4998571872711182]]",
         "[[9258, 1.4011969566345215], [9257, 1.422863483428955], [9697, 1.4413853883743286], [7910, 1.4945621490478516], [9603, 1.4998571872711182], [8924, 1.501394510269165], [7687, 1.5045617818832397], [7347, 1.521554946899414], [7369, 1.530113697052002], [8012, 1.5389740467071533]]",
         "9258"
        ],
        [
         "3",
         "video7365",
         "cartoon people are eating at a restaurant",
         "[[7365, 1.4027695655822754]]",
         "[[7365, 1.4027695655822754], [8781, 1.4623048305511475], [9537, 1.4739768505096436], [7831, 1.505112648010254], [7222, 1.514506459236145]]",
         "[[7365, 1.4027695655822754], [8781, 1.4623048305511475], [9537, 1.4739768505096436], [7831, 1.505112648010254], [7222, 1.514506459236145], [9777, 1.5283745527267456], [8911, 1.5462589263916016], [9814, 1.5544300079345703], [7741, 1.5603089332580566], [9539, 1.5623550415039062]]",
         "7365"
        ],
        [
         "4",
         "video8068",
         "a woman on a couch talks to a a man",
         "[[7162, 1.4716743230819702]]",
         "[[7162, 1.4716743230819702], [8304, 1.4787472486495972], [8068, 1.4926888942718506], [7724, 1.4982554912567139], [9023, 1.51153564453125]]",
         "[[7162, 1.4716743230819702], [8304, 1.4787472486495972], [8068, 1.4926888942718506], [7724, 1.4982554912567139], [9023, 1.51153564453125], [8813, 1.5152695178985596], [8392, 1.5179630517959595], [7149, 1.5196641683578491], [8826, 1.5211718082427979], [9919, 1.5224076509475708]]",
         "8068"
        ],
        [
         "5",
         "video7131",
         "athletes are getting ready and start running for an event",
         "[[8264, 1.4104280471801758]]",
         "[[8264, 1.4104280471801758], [7131, 1.4545626640319824], [8451, 1.4589564800262451], [8322, 1.5217771530151367], [9803, 1.5225485563278198]]",
         "[[8264, 1.4104280471801758], [7131, 1.4545626640319824], [8451, 1.4589564800262451], [8322, 1.5217771530151367], [9803, 1.5225485563278198], [8262, 1.5311415195465088], [7788, 1.5413167476654053], [8013, 1.5424026250839233], [7155, 1.544426679611206], [9302, 1.5450849533081055]]",
         "7131"
        ],
        [
         "6",
         "video7213",
         "a woman is making lasagna",
         "[[8345, 1.4753135442733765]]",
         "[[8345, 1.4753135442733765], [8910, 1.4815260171890259], [7213, 1.489058017730713], [8915, 1.489261507987976], [7165, 1.4951164722442627]]",
         "[[8345, 1.4753135442733765], [8910, 1.4815260171890259], [7213, 1.489058017730713], [8915, 1.489261507987976], [7165, 1.4951164722442627], [7695, 1.4977586269378662], [7591, 1.5022869110107422], [8662, 1.511078953742981], [8444, 1.513946771621704], [8056, 1.5170117616653442]]",
         "7213"
        ],
        [
         "7",
         "video7575",
         "a man speaking in a microphone",
         "[[7828, 1.457465648651123]]",
         "[[7828, 1.457465648651123], [7575, 1.4667668342590332], [9885, 1.4804556369781494], [8416, 1.4890186786651611], [8259, 1.492573618888855]]",
         "[[7828, 1.457465648651123], [7575, 1.4667668342590332], [9885, 1.4804556369781494], [8416, 1.4890186786651611], [8259, 1.492573618888855], [8830, 1.4934368133544922], [9690, 1.5023078918457031], [9233, 1.5033072233200073], [8072, 1.5072154998779297], [8917, 1.5101640224456787]]",
         "7575"
        ],
        [
         "8",
         "video7978",
         "a team with blue uniforms are playing badmitten with a team in white",
         "[[9823, 1.4620780944824219]]",
         "[[9823, 1.4620780944824219], [8660, 1.4660369157791138], [9013, 1.4679255485534668], [7978, 1.4891501665115356], [7500, 1.4893999099731445]]",
         "[[9823, 1.4620780944824219], [8660, 1.4660369157791138], [9013, 1.4679255485534668], [7978, 1.4891501665115356], [7500, 1.4893999099731445], [9647, 1.4907033443450928], [8675, 1.4908782243728638], [7358, 1.4939930438995361], [7699, 1.4942727088928223], [8308, 1.495530605316162]]",
         "7978"
        ],
        [
         "9",
         "video8123",
         "a woman is giving demo for baby trolley",
         "[[7230, 1.3377585411071777]]",
         "[[7230, 1.3377585411071777], [7217, 1.3812671899795532], [9755, 1.399320125579834], [8258, 1.403618574142456], [8123, 1.4587804079055786]]",
         "[[7230, 1.3377585411071777], [7217, 1.3812671899795532], [9755, 1.399320125579834], [8258, 1.403618574142456], [8123, 1.4587804079055786], [8899, 1.485304355621338], [8863, 1.5301493406295776], [9322, 1.5553176403045654], [7169, 1.56795334815979], [7688, 1.577250361442566]]",
         "8123"
        ],
        [
         "10",
         "video9800",
         "a car is in a wreck",
         "[[7649, 1.4754021167755127]]",
         "[[7649, 1.4754021167755127], [7614, 1.4875984191894531], [9800, 1.4931799173355103], [8243, 1.5218164920806885], [8246, 1.5343948602676392]]",
         "[[7649, 1.4754021167755127], [7614, 1.4875984191894531], [9800, 1.4931799173355103], [8243, 1.5218164920806885], [8246, 1.5343948602676392], [8075, 1.536211371421814], [9975, 1.5393091440200806], [9622, 1.5397636890411377], [8497, 1.543839693069458], [9878, 1.545851707458496]]",
         "9800"
        ],
        [
         "11",
         "video9205",
         "a woman interviewing about her part in a protest happening in brazil",
         "[[8311, 1.4957177639007568]]",
         "[[8311, 1.4957177639007568], [7364, 1.5090553760528564], [9028, 1.5109243392944336], [8022, 1.5162419080734253], [8650, 1.5288596153259277]]",
         "[[8311, 1.4957177639007568], [7364, 1.5090553760528564], [9028, 1.5109243392944336], [8022, 1.5162419080734253], [8650, 1.5288596153259277], [9205, 1.5309381484985352], [8333, 1.5492795705795288], [7822, 1.5556573867797852], [7341, 1.5596296787261963], [9131, 1.5657391548156738]]",
         "9205"
        ],
        [
         "12",
         "video7590",
         "an emotional scene of two persons where they are crying on meeting",
         "[[7590, 1.3980191946029663]]",
         "[[7590, 1.3980191946029663], [9023, 1.4840985536575317], [8330, 1.4905016422271729], [8974, 1.4940887689590454], [7114, 1.5019986629486084]]",
         "[[7590, 1.3980191946029663], [9023, 1.4840985536575317], [8330, 1.4905016422271729], [8974, 1.4940887689590454], [7114, 1.5019986629486084], [8653, 1.5114307403564453], [9801, 1.515921950340271], [7964, 1.5221542119979858], [9237, 1.5228044986724854], [8922, 1.5233535766601562]]",
         "7590"
        ],
        [
         "13",
         "video9017",
         "the man is driving his motorbike fast and having problems on the race",
         "[[8657, 1.4212357997894287]]",
         "[[8657, 1.4212357997894287], [9017, 1.4290962219238281], [8820, 1.4648183584213257], [7544, 1.4867889881134033], [9609, 1.5193157196044922]]",
         "[[8657, 1.4212357997894287], [9017, 1.4290962219238281], [8820, 1.4648183584213257], [7544, 1.4867889881134033], [9609, 1.5193157196044922], [8089, 1.519730567932129], [7219, 1.5210094451904297], [9813, 1.552298665046692], [8934, 1.5527698993682861], [7151, 1.5604395866394043]]",
         "9017"
        ],
        [
         "14",
         "video9241",
         "japanese people laughing and dancing",
         "[[9241, 1.3825719356536865]]",
         "[[9241, 1.3825719356536865], [9682, 1.4698140621185303], [7028, 1.4799280166625977], [7725, 1.48055899143219], [9131, 1.4951146841049194]]",
         "[[9241, 1.3825719356536865], [9682, 1.4698140621185303], [7028, 1.4799280166625977], [7725, 1.48055899143219], [9131, 1.4951146841049194], [8349, 1.500530481338501], [8241, 1.512657880783081], [8303, 1.5218974351882935], [7212, 1.5241155624389648], [8074, 1.531984806060791]]",
         "9241"
        ],
        [
         "15",
         "video7158",
         "fox news presidential debate recapping the gop debate with donald trump and ted cruz",
         "[[7158, 1.3375513553619385]]",
         "[[7158, 1.3375513553619385], [8464, 1.4277490377426147], [7731, 1.4992101192474365], [9223, 1.5167436599731445], [7754, 1.5494873523712158]]",
         "[[7158, 1.3375513553619385], [8464, 1.4277490377426147], [7731, 1.4992101192474365], [9223, 1.5167436599731445], [7754, 1.5494873523712158], [7613, 1.565139651298523], [8864, 1.5825761556625366], [9204, 1.5872697830200195], [8175, 1.6043351888656616], [7753, 1.6065963506698608]]",
         "7158"
        ],
        [
         "16",
         "video9233",
         "a man is giving a speech",
         "[[8830, 1.4154415130615234]]",
         "[[8830, 1.4154415130615234], [8072, 1.4534854888916016], [9203, 1.455504298210144], [9233, 1.4814122915267944], [7410, 1.4837162494659424]]",
         "[[8830, 1.4154415130615234], [8072, 1.4534854888916016], [9203, 1.455504298210144], [9233, 1.4814122915267944], [7410, 1.4837162494659424], [7828, 1.4860669374465942], [9522, 1.48783278465271], [8445, 1.4965542554855347], [8416, 1.5032880306243896], [8917, 1.5057017803192139]]",
         "9233"
        ],
        [
         "17",
         "video8687",
         "fast moving time is shown here",
         "[[8013, 1.4823124408721924]]",
         "[[8013, 1.4823124408721924], [8089, 1.4829456806182861], [7219, 1.484663486480713], [7544, 1.4902303218841553], [9535, 1.4952857494354248]]",
         "[[8013, 1.4823124408721924], [8089, 1.4829456806182861], [7219, 1.484663486480713], [7544, 1.4902303218841553], [9535, 1.4952857494354248], [7506, 1.4959810972213745], [9328, 1.5011236667633057], [7214, 1.502816915512085], [9800, 1.5030288696289062], [8451, 1.5039609670639038]]",
         "8687"
        ],
        [
         "18",
         "video9337",
         "some people are inside of a room",
         "[[9322, 1.4742207527160645]]",
         "[[9322, 1.4742207527160645], [7843, 1.4755256175994873], [9237, 1.4838111400604248], [7149, 1.485732078552246], [7114, 1.486661434173584]]",
         "[[9322, 1.4742207527160645], [7843, 1.4755256175994873], [9237, 1.4838111400604248], [7149, 1.485732078552246], [7114, 1.486661434173584], [7825, 1.4922856092453003], [9908, 1.4949111938476562], [8339, 1.5062201023101807], [8129, 1.5065499544143677], [8807, 1.509324550628662]]",
         "9337"
        ],
        [
         "19",
         "video9620",
         "outer space pictures that have parts of equipments in them with water droplets on it",
         "[[9620, 1.4686026573181152]]",
         "[[9620, 1.4686026573181152], [7562, 1.479142665863037], [8069, 1.4987272024154663], [9578, 1.5151705741882324], [8071, 1.5182254314422607]]",
         "[[9620, 1.4686026573181152], [7562, 1.479142665863037], [8069, 1.4987272024154663], [9578, 1.5151705741882324], [8071, 1.5182254314422607], [7027, 1.5266430377960205], [8727, 1.5289963483810425], [9680, 1.535262107849121], [9609, 1.5453187227249146], [7732, 1.5530822277069092]]",
         "9620"
        ],
        [
         "20",
         "video7411",
         "jolly good music troop delivering a program and the lady is in good spirit",
         "[[9793, 1.4619781970977783]]",
         "[[9793, 1.4619781970977783], [7411, 1.467118740081787], [8314, 1.493613600730896], [8022, 1.494459867477417], [9037, 1.50307035446167]]",
         "[[9793, 1.4619781970977783], [7411, 1.467118740081787], [8314, 1.493613600730896], [8022, 1.494459867477417], [9037, 1.50307035446167], [7772, 1.5043435096740723], [8781, 1.505984902381897], [8304, 1.506110429763794], [7145, 1.5078699588775635], [8605, 1.5080139636993408]]",
         "7411"
        ],
        [
         "21",
         "video8514",
         "a person is putting the vegetable in to the water and boil it",
         "[[8514, 1.407292366027832]]",
         "[[8514, 1.407292366027832], [8656, 1.441918134689331], [9625, 1.4593684673309326], [7911, 1.4595928192138672], [9639, 1.465969204902649]]",
         "[[8514, 1.407292366027832], [8656, 1.441918134689331], [9625, 1.4593684673309326], [7911, 1.4595928192138672], [9639, 1.465969204902649], [7565, 1.4728761911392212], [9689, 1.4734814167022705], [7148, 1.478238821029663], [8654, 1.489234209060669], [7376, 1.493669867515564]]",
         "8514"
        ],
        [
         "22",
         "video8481",
         "a woman is reporting on keds commercials",
         "[[8481, 1.3413772583007812]]",
         "[[8481, 1.3413772583007812], [8806, 1.461102843284607], [9503, 1.464255690574646], [8022, 1.4864710569381714], [8494, 1.5057823657989502]]",
         "[[8481, 1.3413772583007812], [8806, 1.461102843284607], [9503, 1.464255690574646], [8022, 1.4864710569381714], [8494, 1.5057823657989502], [7119, 1.514310598373413], [9039, 1.5316879749298096], [8333, 1.5318011045455933], [9223, 1.5344197750091553], [8826, 1.5377249717712402]]",
         "8481"
        ],
        [
         "23",
         "video9224",
         "someone is playing a game",
         "[[9031, 1.4750773906707764]]",
         "[[9031, 1.4750773906707764], [9200, 1.4771168231964111], [8578, 1.4791040420532227], [8313, 1.4797497987747192], [7374, 1.479852557182312]]",
         "[[9031, 1.4750773906707764], [9200, 1.4771168231964111], [8578, 1.4791040420532227], [8313, 1.4797497987747192], [7374, 1.479852557182312], [7919, 1.4814656972885132], [7792, 1.4822735786437988], [8459, 1.4833545684814453], [8010, 1.4838051795959473], [7552, 1.484123945236206]]",
         "9224"
        ],
        [
         "24",
         "video8426",
         "cabins on a sandy beach have walkways going up to their porches",
         "[[8426, 1.2607148885726929]]",
         "[[8426, 1.2607148885726929], [8248, 1.5201301574707031], [8741, 1.5233469009399414], [8312, 1.5248669385910034], [8307, 1.5307857990264893]]",
         "[[8426, 1.2607148885726929], [8248, 1.5201301574707031], [8741, 1.5233469009399414], [8312, 1.5248669385910034], [8307, 1.5307857990264893], [8243, 1.5432825088500977], [9359, 1.5436264276504517], [9244, 1.5482901334762573], [9253, 1.5491418838500977], [7589, 1.5495318174362183]]",
         "8426"
        ],
        [
         "25",
         "video9699",
         "a man explains how to do a experiment",
         "[[9699, 1.4076097011566162]]",
         "[[9699, 1.4076097011566162], [8067, 1.4702256917953491], [8804, 1.5033910274505615], [8257, 1.50730562210083], [8774, 1.5101776123046875]]",
         "[[9699, 1.4076097011566162], [8067, 1.4702256917953491], [8804, 1.5033910274505615], [8257, 1.50730562210083], [8774, 1.5101776123046875], [8772, 1.5199366807937622], [9901, 1.5306059122085571], [9549, 1.5316704511642456], [7575, 1.531997799873352], [9249, 1.5353962182998657]]",
         "9699"
        ],
        [
         "26",
         "video9882",
         "a news reader is reading the news and asking question to some people",
         "[[7613, 1.4418683052062988]]",
         "[[7613, 1.4418683052062988], [9204, 1.4551516771316528], [8864, 1.4641779661178589], [8333, 1.4658647775650024], [8822, 1.4753644466400146]]",
         "[[7613, 1.4418683052062988], [9204, 1.4551516771316528], [8864, 1.4641779661178589], [8333, 1.4658647775650024], [8822, 1.4753644466400146], [7731, 1.4759740829467773], [7947, 1.4775056838989258], [7790, 1.4789669513702393], [9223, 1.4802539348602295], [9882, 1.4821994304656982]]",
         "9882"
        ],
        [
         "27",
         "video8300",
         "a woman pours water into her pot of meat then tomato sauce and stirs it all around while talking",
         "[[8300, 1.3877397775650024]]",
         "[[8300, 1.3877397775650024], [9689, 1.4676225185394287], [8835, 1.4683990478515625], [8654, 1.47564697265625], [7565, 1.5249558687210083]]",
         "[[8300, 1.3877397775650024], [9689, 1.4676225185394287], [8835, 1.4683990478515625], [8654, 1.47564697265625], [7565, 1.5249558687210083], [7744, 1.5266097784042358], [8656, 1.5329886674880981], [9693, 1.5436257123947144], [8910, 1.5480233430862427], [9625, 1.5513246059417725]]",
         "8300"
        ],
        [
         "28",
         "video8863",
         "an animated girl talks to a baby and plays with it",
         "[[7179, 1.4618417024612427]]",
         "[[7179, 1.4618417024612427], [7365, 1.4641785621643066], [8863, 1.4913438558578491], [8827, 1.5174264907836914], [7222, 1.5231465101242065]]",
         "[[7179, 1.4618417024612427], [7365, 1.4641785621643066], [8863, 1.4913438558578491], [8827, 1.5174264907836914], [7222, 1.5231465101242065], [7157, 1.5254777669906616], [8341, 1.527155876159668], [8110, 1.5278449058532715], [8268, 1.5388951301574707], [7831, 1.5539071559906006]]",
         "8863"
        ],
        [
         "29",
         "video7147",
         "a man cooks burgers and bacon on a grill",
         "[[9333, 1.310051679611206]]",
         "[[9333, 1.310051679611206], [7147, 1.3197345733642578], [9694, 1.4151010513305664], [9015, 1.4830385446548462], [9038, 1.5498394966125488]]",
         "[[9333, 1.310051679611206], [7147, 1.3197345733642578], [9694, 1.4151010513305664], [9015, 1.4830385446548462], [9038, 1.5498394966125488], [9335, 1.5505523681640625], [7362, 1.5587210655212402], [7820, 1.5614771842956543], [9327, 1.5702311992645264], [7154, 1.5762770175933838]]",
         "7147"
        ],
        [
         "30",
         "video7744",
         "a chef stirs up some ingredients inside of a pan",
         "[[7148, 1.4594180583953857]]",
         "[[7148, 1.4594180583953857], [9335, 1.4599003791809082], [9689, 1.4643840789794922], [9639, 1.4658143520355225], [8654, 1.4742600917816162]]",
         "[[7148, 1.4594180583953857], [9335, 1.4599003791809082], [9689, 1.4643840789794922], [9639, 1.4658143520355225], [8654, 1.4742600917816162], [8300, 1.4765130281448364], [9625, 1.4782922267913818], [8656, 1.480491042137146], [9356, 1.4893698692321777], [7744, 1.4909508228302002]]",
         "7744"
        ],
        [
         "31",
         "video7839",
         "this is a vine sports compilation",
         "[[9605, 1.3954460620880127]]",
         "[[9605, 1.3954460620880127], [9542, 1.4042247533798218], [8913, 1.4044328927993774], [9029, 1.4125065803527832], [8979, 1.4137710332870483]]",
         "[[9605, 1.3954460620880127], [9542, 1.4042247533798218], [8913, 1.4044328927993774], [9029, 1.4125065803527832], [8979, 1.4137710332870483], [7358, 1.4143657684326172], [8253, 1.4148998260498047], [9018, 1.415818452835083], [9817, 1.4172850847244263], [7789, 1.4194145202636719]]",
         "7839"
        ],
        [
         "32",
         "video7214",
         "race cars of different colors lined up on a dark track",
         "[[7214, 1.4529976844787598]]",
         "[[7214, 1.4529976844787598], [7219, 1.4947057962417603], [7616, 1.5330721139907837], [7506, 1.5349444150924683], [8264, 1.5351449251174927]]",
         "[[7214, 1.4529976844787598], [7219, 1.4947057962417603], [7616, 1.5330721139907837], [7506, 1.5349444150924683], [8264, 1.5351449251174927], [9535, 1.5451951026916504], [9328, 1.552782416343689], [8451, 1.5585030317306519], [9252, 1.5585616827011108], [9691, 1.5608882904052734]]",
         "7214"
        ],
        [
         "33",
         "video7771",
         "a golf player is trying to hit the ball into the pit",
         "[[7771, 1.3824443817138672]]",
         "[[7771, 1.3824443817138672], [7021, 1.5062991380691528], [7368, 1.5169516801834106], [7556, 1.5248804092407227], [8049, 1.5259966850280762]]",
         "[[7771, 1.3824443817138672], [7021, 1.5062991380691528], [7368, 1.5169516801834106], [7556, 1.5248804092407227], [8049, 1.5259966850280762], [8913, 1.5556397438049316], [9018, 1.5610020160675049], [7358, 1.5662288665771484], [9029, 1.5662729740142822], [7150, 1.5705070495605469]]",
         "7771"
        ],
        [
         "34",
         "video8486",
         "a cartoon on a young guy cursing",
         "[[7160, 1.3861666917800903]]",
         "[[7160, 1.3861666917800903], [7741, 1.431535243988037], [7222, 1.4360408782958984], [8486, 1.4493900537490845], [7029, 1.45454740524292]]",
         "[[7160, 1.3861666917800903], [7741, 1.431535243988037], [7222, 1.4360408782958984], [8486, 1.4493900537490845], [7029, 1.45454740524292], [9790, 1.4634714126586914], [7172, 1.4667150974273682], [7831, 1.4741456508636475], [8076, 1.4834052324295044], [8911, 1.4859466552734375]]",
         "8486"
        ],
        [
         "35",
         "video9909",
         "a crowd of people sitting next to each other as one man plays a video game",
         "[[9909, 1.3800612688064575]]",
         "[[9909, 1.3800612688064575], [7444, 1.4771897792816162], [8860, 1.4888434410095215], [8472, 1.4921529293060303], [8622, 1.4955353736877441]]",
         "[[9909, 1.3800612688064575], [7444, 1.4771897792816162], [8860, 1.4888434410095215], [8472, 1.4921529293060303], [8622, 1.4955353736877441], [8689, 1.5028917789459229], [7035, 1.5082834959030151], [7972, 1.5121546983718872], [9745, 1.5128926038742065], [7723, 1.5144081115722656]]",
         "9909"
        ],
        [
         "36",
         "video8922",
         "an old man shakes hands with another man and then they hug each other",
         "[[8922, 1.3971441984176636]]",
         "[[8922, 1.3971441984176636], [7704, 1.4672598838806152], [8829, 1.4747174978256226], [7590, 1.5171927213668823], [7349, 1.5205988883972168]]",
         "[[8922, 1.3971441984176636], [7704, 1.4672598838806152], [8829, 1.4747174978256226], [7590, 1.5171927213668823], [7349, 1.5205988883972168], [9545, 1.522073745727539], [9520, 1.5307629108428955], [9023, 1.5322681665420532], [7159, 1.5343414545059204], [9690, 1.543278694152832]]",
         "8922"
        ],
        [
         "37",
         "video9814",
         "a scene from spongebob squarepants where the townspeople are carrying torches and chasing a giant squidward",
         "[[9790, 1.5263124704360962]]",
         "[[9790, 1.5263124704360962], [7111, 1.5315674543380737], [9814, 1.5316778421401978], [7029, 1.537171721458435], [9300, 1.5396580696105957]]",
         "[[9790, 1.5263124704360962], [7111, 1.5315674543380737], [9814, 1.5316778421401978], [7029, 1.537171721458435], [9300, 1.5396580696105957], [8916, 1.5439056158065796], [7747, 1.5549190044403076], [7218, 1.5619148015975952], [8839, 1.5642073154449463], [9306, 1.5662813186645508]]",
         "9814"
        ],
        [
         "38",
         "video9368",
         "someone demonstrates about the small motor uses to the video",
         "[[9368, 1.4225341081619263]]",
         "[[9368, 1.4225341081619263], [8121, 1.4475288391113281], [9530, 1.4526095390319824], [8332, 1.4829761981964111], [7765, 1.4940850734710693]]",
         "[[9368, 1.4225341081619263], [8121, 1.4475288391113281], [9530, 1.4526095390319824], [8332, 1.4829761981964111], [7765, 1.4940850734710693], [8626, 1.495496392250061], [7363, 1.4984151124954224], [7820, 1.5078929662704468], [7237, 1.5146859884262085], [8246, 1.5147054195404053]]",
         "9368"
        ],
        [
         "39",
         "video8820",
         "a person comes up in the hill on a orange motor bike and falls down",
         "[[8820, 1.4442609548568726]]",
         "[[8820, 1.4442609548568726], [8657, 1.5116935968399048], [9017, 1.5174027681350708], [8245, 1.5254249572753906], [8322, 1.5294498205184937]]",
         "[[8820, 1.4442609548568726], [8657, 1.5116935968399048], [9017, 1.5174027681350708], [8245, 1.5254249572753906], [8322, 1.5294498205184937], [9208, 1.5299320220947266], [7796, 1.5317177772521973], [9521, 1.5362138748168945], [7649, 1.5408059358596802], [9813, 1.5466744899749756]]",
         "8820"
        ],
        [
         "40",
         "video9452",
         "an animated grey shark in the middle of a blue water simulation background rotating in a circle on the screen of a monitor",
         "[[9452, 1.3651185035705566]]",
         "[[9452, 1.3651185035705566], [8909, 1.4817821979522705], [8328, 1.4976792335510254], [9359, 1.542299509048462], [7027, 1.5462653636932373]]",
         "[[9452, 1.3651185035705566], [8909, 1.4817821979522705], [8328, 1.4976792335510254], [9359, 1.542299509048462], [7027, 1.5462653636932373], [9821, 1.5500330924987793], [7223, 1.5521481037139893], [7900, 1.5524446964263916], [7061, 1.5596129894256592], [8111, 1.561185359954834]]",
         "9452"
        ],
        [
         "41",
         "video9344",
         "gameplay footage of someone playing a game",
         "[[8459, 1.4782747030258179]]",
         "[[8459, 1.4782747030258179], [9200, 1.4825191497802734], [7374, 1.4835505485534668], [9031, 1.4844727516174316], [8116, 1.484497308731079]]",
         "[[8459, 1.4782747030258179], [9200, 1.4825191497802734], [7374, 1.4835505485534668], [9031, 1.4844727516174316], [8116, 1.484497308731079], [8070, 1.4865409135818481], [8010, 1.4868404865264893], [8313, 1.4879547357559204], [7723, 1.4884374141693115], [7919, 1.4889767169952393]]",
         "9344"
        ],
        [
         "42",
         "video9032",
         "a hospital mortuary room and a doctor treat the special case",
         "[[9032, 1.426870346069336]]",
         "[[9032, 1.426870346069336], [8664, 1.4428882598876953], [9322, 1.4891026020050049], [7829, 1.492537021636963], [7169, 1.511112093925476]]",
         "[[9032, 1.426870346069336], [8664, 1.4428882598876953], [9322, 1.4891026020050049], [7829, 1.492537021636963], [7169, 1.511112093925476], [8240, 1.534045696258545], [9520, 1.5368852615356445], [8666, 1.5385372638702393], [8808, 1.5574285984039307], [9686, 1.5624408721923828]]",
         "9032"
        ],
        [
         "43",
         "video9016",
         "all persons are wearing bikini dresses and playing in sea",
         "[[9201, 1.4677196741104126]]",
         "[[9201, 1.4677196741104126], [7681, 1.474799394607544], [9342, 1.4749702215194702], [8949, 1.4803657531738281], [8928, 1.4974106550216675]]",
         "[[9201, 1.4677196741104126], [7681, 1.474799394607544], [9342, 1.4749702215194702], [8949, 1.4803657531738281], [8928, 1.4974106550216675], [8118, 1.4990403652191162], [7795, 1.5069212913513184], [8999, 1.5075056552886963], [7025, 1.5202339887619019], [9574, 1.5209019184112549]]",
         "9016"
        ],
        [
         "44",
         "video9353",
         "two women are outside and are discussing something in a foreign language",
         "[[9353, 1.3706330060958862]]",
         "[[9353, 1.3706330060958862], [7583, 1.4415204524993896], [9340, 1.44978666305542], [7364, 1.476280927658081], [7589, 1.4856882095336914]]",
         "[[9353, 1.3706330060958862], [7583, 1.4415204524993896], [9340, 1.44978666305542], [7364, 1.476280927658081], [7589, 1.4856882095336914], [8022, 1.4930706024169922], [7974, 1.5079180002212524], [9039, 1.5085830688476562], [8330, 1.5114421844482422], [7116, 1.5204488039016724]]",
         "9353"
        ],
        [
         "45",
         "video9405",
         "red balloons float in the sky and have packages tied to them",
         "[[9405, 1.3326112031936646]]",
         "[[9405, 1.3326112031936646], [8069, 1.531198501586914], [9680, 1.5316418409347534], [8306, 1.531980037689209], [9679, 1.534993290901184]]",
         "[[9405, 1.3326112031936646], [8069, 1.531198501586914], [9680, 1.5316418409347534], [8306, 1.531980037689209], [9679, 1.534993290901184], [7061, 1.5389103889465332], [7698, 1.5491349697113037], [7223, 1.5567899942398071], [8260, 1.55746591091156], [8464, 1.5582013130187988]]",
         "9405"
        ],
        [
         "46",
         "video7559",
         "a man is trying some sushi",
         "[[9309, 1.4551743268966675]]",
         "[[9309, 1.4551743268966675], [7559, 1.4615134000778198], [9327, 1.4842848777770996], [9229, 1.5067389011383057], [9687, 1.5185647010803223]]",
         "[[9309, 1.4551743268966675], [7559, 1.4615134000778198], [9327, 1.4842848777770996], [9229, 1.5067389011383057], [9687, 1.5185647010803223], [9537, 1.5229182243347168], [8301, 1.531823754310608], [9539, 1.5435047149658203], [8772, 1.5447218418121338], [8325, 1.557989239692688]]",
         "7559"
        ],
        [
         "47",
         "video9063",
         "people on stage performing",
         "[[9683, 1.4469232559204102]]",
         "[[9683, 1.4469232559204102], [8482, 1.4708125591278076], [7558, 1.475784182548523], [9352, 1.4783990383148193], [9243, 1.483543872833252]]",
         "[[9683, 1.4469232559204102], [8482, 1.4708125591278076], [7558, 1.475784182548523], [9352, 1.4783990383148193], [9243, 1.483543872833252], [7596, 1.4842643737792969], [8914, 1.4884471893310547], [7351, 1.4908850193023682], [9063, 1.491991639137268], [8445, 1.4963740110397339]]",
         "9063"
        ],
        [
         "48",
         "video7352",
         "a movie scene starring morgan freeman and men in armor running",
         "[[7352, 1.4284899234771729]]",
         "[[7352, 1.4284899234771729], [8948, 1.4622437953948975], [7373, 1.510711669921875], [8122, 1.514944076538086], [9230, 1.5220203399658203]]",
         "[[7352, 1.4284899234771729], [8948, 1.4622437953948975], [7373, 1.510711669921875], [8122, 1.514944076538086], [9230, 1.5220203399658203], [7444, 1.527296543121338], [8266, 1.5308794975280762], [8808, 1.533003330230713], [8851, 1.5373198986053467], [8249, 1.5413763523101807]]",
         "7352"
        ],
        [
         "49",
         "video8447",
         "a woman singing on the voice",
         "[[8818, 1.4436079263687134]]",
         "[[8818, 1.4436079263687134], [7756, 1.4490423202514648], [8810, 1.461197853088379], [8447, 1.4694470167160034], [8265, 1.474387288093567]]",
         "[[8818, 1.4436079263687134], [7756, 1.4490423202514648], [8810, 1.461197853088379], [8447, 1.4694470167160034], [8265, 1.474387288093567], [7569, 1.4855432510375977], [9879, 1.4903745651245117], [9518, 1.495021104812622], [9351, 1.4961371421813965], [9222, 1.5035289525985718]]",
         "8447"
        ]
       ],
       "shape": {
        "columns": 6,
        "rows": 1000
       }
      },
      "text/html": [
       "<div>\n",
       "<style scoped>\n",
       "    .dataframe tbody tr th:only-of-type {\n",
       "        vertical-align: middle;\n",
       "    }\n",
       "\n",
       "    .dataframe tbody tr th {\n",
       "        vertical-align: top;\n",
       "    }\n",
       "\n",
       "    .dataframe thead th {\n",
       "        text-align: right;\n",
       "    }\n",
       "</style>\n",
       "<table border=\"1\" class=\"dataframe\">\n",
       "  <thead>\n",
       "    <tr style=\"text-align: right;\">\n",
       "      <th></th>\n",
       "      <th>rel_video_id</th>\n",
       "      <th>query</th>\n",
       "      <th>top1</th>\n",
       "      <th>top5</th>\n",
       "      <th>top10</th>\n",
       "      <th>ground_truth</th>\n",
       "    </tr>\n",
       "  </thead>\n",
       "  <tbody>\n",
       "    <tr>\n",
       "      <th>0</th>\n",
       "      <td>video7579</td>\n",
       "      <td>a girl wearing red top and black trouser is pu...</td>\n",
       "      <td>[[7579, 1.415151834487915]]</td>\n",
       "      <td>[[7579, 1.415151834487915], [9969, 1.479910612...</td>\n",
       "      <td>[[7579, 1.415151834487915], [9969, 1.479910612...</td>\n",
       "      <td>7579</td>\n",
       "    </tr>\n",
       "    <tr>\n",
       "      <th>1</th>\n",
       "      <td>video7725</td>\n",
       "      <td>young people sit around the edges of a room cl...</td>\n",
       "      <td>[[7725, 1.3622068166732788]]</td>\n",
       "      <td>[[7725, 1.3622068166732788], [8014, 1.48652696...</td>\n",
       "      <td>[[7725, 1.3622068166732788], [8014, 1.48652696...</td>\n",
       "      <td>7725</td>\n",
       "    </tr>\n",
       "    <tr>\n",
       "      <th>2</th>\n",
       "      <td>video9258</td>\n",
       "      <td>a person is using a phone</td>\n",
       "      <td>[[9258, 1.4011969566345215]]</td>\n",
       "      <td>[[9258, 1.4011969566345215], [9257, 1.42286348...</td>\n",
       "      <td>[[9258, 1.4011969566345215], [9257, 1.42286348...</td>\n",
       "      <td>9258</td>\n",
       "    </tr>\n",
       "    <tr>\n",
       "      <th>3</th>\n",
       "      <td>video7365</td>\n",
       "      <td>cartoon people are eating at a restaurant</td>\n",
       "      <td>[[7365, 1.4027695655822754]]</td>\n",
       "      <td>[[7365, 1.4027695655822754], [8781, 1.46230483...</td>\n",
       "      <td>[[7365, 1.4027695655822754], [8781, 1.46230483...</td>\n",
       "      <td>7365</td>\n",
       "    </tr>\n",
       "    <tr>\n",
       "      <th>4</th>\n",
       "      <td>video8068</td>\n",
       "      <td>a woman on a couch talks to a a man</td>\n",
       "      <td>[[7162, 1.4716743230819702]]</td>\n",
       "      <td>[[7162, 1.4716743230819702], [8304, 1.47874724...</td>\n",
       "      <td>[[7162, 1.4716743230819702], [8304, 1.47874724...</td>\n",
       "      <td>8068</td>\n",
       "    </tr>\n",
       "    <tr>\n",
       "      <th>...</th>\n",
       "      <td>...</td>\n",
       "      <td>...</td>\n",
       "      <td>...</td>\n",
       "      <td>...</td>\n",
       "      <td>...</td>\n",
       "      <td>...</td>\n",
       "    </tr>\n",
       "    <tr>\n",
       "      <th>995</th>\n",
       "      <td>video7034</td>\n",
       "      <td>man in black shirt is holding a baby upside do...</td>\n",
       "      <td>[[9320, 1.5113091468811035]]</td>\n",
       "      <td>[[9320, 1.5113091468811035], [9404, 1.51643335...</td>\n",
       "      <td>[[9320, 1.5113091468811035], [9404, 1.51643335...</td>\n",
       "      <td>7034</td>\n",
       "    </tr>\n",
       "    <tr>\n",
       "      <th>996</th>\n",
       "      <td>video7568</td>\n",
       "      <td>the queen of england is seen walking with an e...</td>\n",
       "      <td>[[7568, 1.2981326580047607]]</td>\n",
       "      <td>[[7568, 1.2981326580047607], [7116, 1.41021490...</td>\n",
       "      <td>[[7568, 1.2981326580047607], [7116, 1.41021490...</td>\n",
       "      <td>7568</td>\n",
       "    </tr>\n",
       "    <tr>\n",
       "      <th>997</th>\n",
       "      <td>video7979</td>\n",
       "      <td>people talking about a fight</td>\n",
       "      <td>[[7211, 1.4528591632843018]]</td>\n",
       "      <td>[[7211, 1.4528591632843018], [7979, 1.46294164...</td>\n",
       "      <td>[[7211, 1.4528591632843018], [7979, 1.46294164...</td>\n",
       "      <td>7979</td>\n",
       "    </tr>\n",
       "    <tr>\n",
       "      <th>998</th>\n",
       "      <td>video7356</td>\n",
       "      <td>a vehicle with details on what comes with it b...</td>\n",
       "      <td>[[7356, 1.4014551639556885]]</td>\n",
       "      <td>[[7356, 1.4014551639556885], [7765, 1.47221362...</td>\n",
       "      <td>[[7356, 1.4014551639556885], [7765, 1.47221362...</td>\n",
       "      <td>7356</td>\n",
       "    </tr>\n",
       "    <tr>\n",
       "      <th>999</th>\n",
       "      <td>video8578</td>\n",
       "      <td>a man is commentating while playing minecraft</td>\n",
       "      <td>[[8578, 1.4566261768341064]]</td>\n",
       "      <td>[[8578, 1.4566261768341064], [8663, 1.45827186...</td>\n",
       "      <td>[[8578, 1.4566261768341064], [8663, 1.45827186...</td>\n",
       "      <td>8578</td>\n",
       "    </tr>\n",
       "  </tbody>\n",
       "</table>\n",
       "<p>1000 rows × 6 columns</p>\n",
       "</div>"
      ],
      "text/plain": [
       "    rel_video_id                                              query  \\\n",
       "0      video7579  a girl wearing red top and black trouser is pu...   \n",
       "1      video7725  young people sit around the edges of a room cl...   \n",
       "2      video9258                          a person is using a phone   \n",
       "3      video7365          cartoon people are eating at a restaurant   \n",
       "4      video8068                a woman on a couch talks to a a man   \n",
       "..           ...                                                ...   \n",
       "995    video7034  man in black shirt is holding a baby upside do...   \n",
       "996    video7568  the queen of england is seen walking with an e...   \n",
       "997    video7979                       people talking about a fight   \n",
       "998    video7356  a vehicle with details on what comes with it b...   \n",
       "999    video8578      a man is commentating while playing minecraft   \n",
       "\n",
       "                             top1  \\\n",
       "0     [[7579, 1.415151834487915]]   \n",
       "1    [[7725, 1.3622068166732788]]   \n",
       "2    [[9258, 1.4011969566345215]]   \n",
       "3    [[7365, 1.4027695655822754]]   \n",
       "4    [[7162, 1.4716743230819702]]   \n",
       "..                            ...   \n",
       "995  [[9320, 1.5113091468811035]]   \n",
       "996  [[7568, 1.2981326580047607]]   \n",
       "997  [[7211, 1.4528591632843018]]   \n",
       "998  [[7356, 1.4014551639556885]]   \n",
       "999  [[8578, 1.4566261768341064]]   \n",
       "\n",
       "                                                  top5  \\\n",
       "0    [[7579, 1.415151834487915], [9969, 1.479910612...   \n",
       "1    [[7725, 1.3622068166732788], [8014, 1.48652696...   \n",
       "2    [[9258, 1.4011969566345215], [9257, 1.42286348...   \n",
       "3    [[7365, 1.4027695655822754], [8781, 1.46230483...   \n",
       "4    [[7162, 1.4716743230819702], [8304, 1.47874724...   \n",
       "..                                                 ...   \n",
       "995  [[9320, 1.5113091468811035], [9404, 1.51643335...   \n",
       "996  [[7568, 1.2981326580047607], [7116, 1.41021490...   \n",
       "997  [[7211, 1.4528591632843018], [7979, 1.46294164...   \n",
       "998  [[7356, 1.4014551639556885], [7765, 1.47221362...   \n",
       "999  [[8578, 1.4566261768341064], [8663, 1.45827186...   \n",
       "\n",
       "                                                 top10  ground_truth  \n",
       "0    [[7579, 1.415151834487915], [9969, 1.479910612...          7579  \n",
       "1    [[7725, 1.3622068166732788], [8014, 1.48652696...          7725  \n",
       "2    [[9258, 1.4011969566345215], [9257, 1.42286348...          9258  \n",
       "3    [[7365, 1.4027695655822754], [8781, 1.46230483...          7365  \n",
       "4    [[7162, 1.4716743230819702], [8304, 1.47874724...          8068  \n",
       "..                                                 ...           ...  \n",
       "995  [[9320, 1.5113091468811035], [9404, 1.51643335...          7034  \n",
       "996  [[7568, 1.2981326580047607], [7116, 1.41021490...          7568  \n",
       "997  [[7211, 1.4528591632843018], [7979, 1.46294164...          7979  \n",
       "998  [[7356, 1.4014551639556885], [7765, 1.47221362...          7356  \n",
       "999  [[8578, 1.4566261768341064], [8663, 1.45827186...          8578  \n",
       "\n",
       "[1000 rows x 6 columns]"
      ]
     },
     "execution_count": 63,
     "metadata": {},
     "output_type": "execute_result"
    }
   ],
   "source": [
    "all_query_results_df = twohee_data_col_to_df(all_query_results)\n",
    "# Create ground truth column as video id casted into an int, this is used for the eval functions\n",
    "all_query_results_df['ground_truth'] = all_query_results_df['rel_video_id'].apply(lambda x: int(x[len('video'):]))\n",
    "all_query_results_df"
   ]
  },
  {
   "cell_type": "code",
   "execution_count": 68,
   "id": "71f35bff",
   "metadata": {},
   "outputs": [
    {
     "name": "stdout",
     "output_type": "stream",
     "text": [
      "Recall metrics at top-1, 5, 10:\n",
      "{'recall@1': 0.426, 'recall@5': 0.716, 'recall@10': 0.814}\n",
      "Mean Average Precision (MAP):\n",
      "0.5456543650793645\n"
     ]
    }
   ],
   "source": [
    "recall_metrics = calculate_recall(all_query_results_df)\n",
    "map_value = calculate_mean_average_precision(all_query_results_df)\n",
    "\n",
    "print(\"Recall metrics at top-1, 5, 10:\")\n",
    "print(recall_metrics)\n",
    "print(\"Mean Average Precision (MAP):\")\n",
    "print(map_value)"
   ]
  },
  {
   "cell_type": "code",
   "execution_count": 81,
   "id": "0e467cd7",
   "metadata": {},
   "outputs": [
    {
     "name": "stdout",
     "output_type": "stream",
     "text": [
      "NDCG@1: 0.426\n",
      "NDCG@5: 0.5780321865313451\n",
      "NDCG@10: 0.6100154270801753\n"
     ]
    }
   ],
   "source": [
    "# Calculate NDCG with k=1, 5, 10\n",
    "for k in [1, 5, 10]:\n",
    "    ndcg_value = calculate_ndcg(all_query_results_df, k=k)\n",
    "    print(f\"NDCG@{k}: {ndcg_value}\")\n"
   ]
  },
  {
   "cell_type": "code",
   "execution_count": 83,
   "id": "ce772ffe",
   "metadata": {},
   "outputs": [
    {
     "data": {
      "text/plain": [
       "{'recall@1': 0.426,\n",
       " 'recall@5': 0.716,\n",
       " 'recall@10': 0.814,\n",
       " 'map': 0.5456543650793645,\n",
       " 'ndcg@1': 0.426,\n",
       " 'ndcg@5': 0.5780321865313451,\n",
       " 'ndcg@10': 0.6100154270801753}"
      ]
     },
     "execution_count": 83,
     "metadata": {},
     "output_type": "execute_result"
    }
   ],
   "source": [
    "get_all_eval_scores(all_query_results_df)"
   ]
  },
  {
   "cell_type": "markdown",
   "id": "ac418fe3",
   "metadata": {},
   "source": [
    "## Try evaluation against queries from FIRE benchmark"
   ]
  },
  {
   "cell_type": "markdown",
   "id": "bbf7b881",
   "metadata": {},
   "source": [
    "We are working with a sample of MSR-VTT and our evaluation pipeline supports only one relevant query per video, hence we need to filter the full FIRE benchmark to only include videos we have sampled and ones with a single relevant result."
   ]
  },
  {
   "cell_type": "code",
   "execution_count": 86,
   "id": "3a1e6262",
   "metadata": {},
   "outputs": [],
   "source": [
    "# Load FIRE benchmark queries and judgements\n",
    "FIRE_MSRVTT_RAW = \"data/FIRE/fire-data/fire_msrvtt_dataset.json\"\n",
    "\n"
   ]
  },
  {
   "cell_type": "code",
   "execution_count": 87,
   "id": "b1aca0d7",
   "metadata": {},
   "outputs": [
    {
     "data": {
      "application/vnd.microsoft.datawrangler.viewer.v0+json": {
       "columns": [
        {
         "name": "index",
         "rawType": "int64",
         "type": "integer"
        },
        {
         "name": "annotator_ids",
         "rawType": "object",
         "type": "unknown"
        },
        {
         "name": "label",
         "rawType": "object",
         "type": "string"
        },
        {
         "name": "video_id",
         "rawType": "object",
         "type": "string"
        },
        {
         "name": "query",
         "rawType": "object",
         "type": "string"
        },
        {
         "name": "annotator_labels",
         "rawType": "object",
         "type": "unknown"
        },
        {
         "name": "response_ids",
         "rawType": "object",
         "type": "unknown"
        },
        {
         "name": "queue_ids",
         "rawType": "object",
         "type": "unknown"
        },
        {
         "name": "models",
         "rawType": "object",
         "type": "unknown"
        },
        {
         "name": "dataset",
         "rawType": "object",
         "type": "string"
        }
       ],
       "conversionMethod": "pd.DataFrame",
       "ref": "fc3e7643-6db0-4b2f-8e32-a35d053b14aa",
       "rows": [
        [
         "0",
         "[84]",
         "irrelevant",
         "video7026",
         "a 3d animation of a cabinet with plates",
         "['irrelevant']",
         "[514705627045591]",
         "[4985131491553502]",
         "['CE']",
         "MSRVTT"
        ],
        [
         "1",
         "[62]",
         "irrelevant",
         "video7418",
         "a 3d animation of a cabinet with plates",
         "['irrelevant']",
         "[1009913593254130]",
         "[4985131491553502]",
         "['CE']",
         "MSRVTT"
        ],
        [
         "2",
         "[50]",
         "irrelevant",
         "video7763",
         "a 3d animation of a cabinet with plates",
         "['irrelevant']",
         "[3280646372150702]",
         "[4995314980504271]",
         "['SSB']",
         "MSRVTT"
        ],
        [
         "3",
         "[67]",
         "relevant",
         "video7768",
         "a 3d animation of a cabinet with plates",
         "['relevant']",
         "[1014281349443178]",
         "[5083898558315210]",
         "['CLIP4CLIP']",
         "MSRVTT"
        ],
        [
         "4",
         "[55]",
         "irrelevant",
         "video7822",
         "a 3d animation of a cabinet with plates",
         "['irrelevant']",
         "[2619512781525857]",
         "[4995314980504271]",
         "['SSB']",
         "MSRVTT"
        ],
        [
         "5",
         "[69]",
         "irrelevant",
         "video7826",
         "a 3d animation of a cabinet with plates",
         "['irrelevant']",
         "[469542828205931]",
         "[4995314980504271]",
         "['SSB']",
         "MSRVTT"
        ],
        [
         "6",
         "[5]",
         "irrelevant",
         "video7900",
         "a 3d animation of a cabinet with plates",
         "['irrelevant']",
         "[500567868400592]",
         "[5083898558315210]",
         "['CLIP4CLIP']",
         "MSRVTT"
        ],
        [
         "7",
         "[95]",
         "irrelevant",
         "video7972",
         "a 3d animation of a cabinet with plates",
         "['irrelevant']",
         "[758326825054551]",
         "[4995314980504271]",
         "['SSB']",
         "MSRVTT"
        ],
        [
         "8",
         "[43]",
         "irrelevant",
         "video8262",
         "a 3d animation of a cabinet with plates",
         "['irrelevant']",
         "[935801370468176]",
         "[4995314980504271]",
         "['SSB']",
         "MSRVTT"
        ],
        [
         "9",
         "[38]",
         "irrelevant",
         "video8328",
         "a 3d animation of a cabinet with plates",
         "['irrelevant']",
         "[1624670604550339]",
         "[5083898558315210]",
         "['CLIP4CLIP']",
         "MSRVTT"
        ],
        [
         "10",
         "[67]",
         "irrelevant",
         "video8342",
         "a 3d animation of a cabinet with plates",
         "['irrelevant']",
         "[1161925504347266]",
         "[4995314980504271]",
         "['SSB']",
         "MSRVTT"
        ],
        [
         "11",
         "[122]",
         "irrelevant",
         "video8344",
         "a 3d animation of a cabinet with plates",
         "['irrelevant']",
         "[1094863684425789]",
         "[4995314980504271]",
         "['SSB']",
         "MSRVTT"
        ],
        [
         "12",
         "[48]",
         "irrelevant",
         "video8473",
         "a 3d animation of a cabinet with plates",
         "['irrelevant']",
         "[793827344910643]",
         "[5083898558315210]",
         "['CLIP4CLIP']",
         "MSRVTT"
        ],
        [
         "13",
         "[119]",
         "irrelevant",
         "video8787",
         "a 3d animation of a cabinet with plates",
         "['irrelevant']",
         "[730280781292007]",
         "[5083898558315210]",
         "['CLIP4CLIP']",
         "MSRVTT"
        ],
        [
         "14",
         "[95]",
         "irrelevant",
         "video8862",
         "a 3d animation of a cabinet with plates",
         "['irrelevant']",
         "[452206656701244]",
         "[5083898558315210]",
         "['CLIP4CLIP']",
         "MSRVTT"
        ],
        [
         "15",
         "[64]",
         "irrelevant",
         "video8867",
         "a 3d animation of a cabinet with plates",
         "['irrelevant']",
         "[3218006165122078]",
         "[4995314980504271]",
         "['SSB']",
         "MSRVTT"
        ],
        [
         "16",
         "[65]",
         "irrelevant",
         "video8911",
         "a 3d animation of a cabinet with plates",
         "['irrelevant']",
         "[302335468695193]",
         "[5083898558315210]",
         "['CLIP4CLIP']",
         "MSRVTT"
        ],
        [
         "17",
         "[49]",
         "irrelevant",
         "video8919",
         "a 3d animation of a cabinet with plates",
         "['irrelevant']",
         "[5145390355482839]",
         "[4985131491553502]",
         "['CE']",
         "MSRVTT"
        ],
        [
         "18",
         "[50]",
         "irrelevant",
         "video9458",
         "a 3d animation of a cabinet with plates",
         "['irrelevant']",
         "[572806930384579]",
         "[5083898558315210]",
         "['CLIP4CLIP']",
         "MSRVTT"
        ],
        [
         "19",
         "[12]",
         "relevant",
         "video9679",
         "a 3d animation of a cabinet with plates",
         "['relevant']",
         "[930926670935139]",
         "[5083898558315210]",
         "['CLIP4CLIP']",
         "MSRVTT"
        ],
        [
         "20",
         "[118, 69]",
         "irrelevant",
         "video9777",
         "a 3d animation of a cabinet with plates",
         "['irrelevant', 'irrelevant']",
         "[275301831423344, 394983285798507]",
         "[4995314980504271, 4995314980504271]",
         "['SSB', 'SSB']",
         "MSRVTT"
        ],
        [
         "21",
         "[66]",
         "irrelevant",
         "video9820",
         "a 3d animation of a cabinet with plates",
         "['irrelevant']",
         "[661350844921109]",
         "[5083898558315210]",
         "['CLIP4CLIP']",
         "MSRVTT"
        ],
        [
         "22",
         "[84]",
         "irrelevant",
         "video7134",
         "a animated car going on the roads with blue mark on either sides",
         "['irrelevant']",
         "[992073428366325]",
         "[4995314980504271]",
         "['SSB']",
         "MSRVTT"
        ],
        [
         "23",
         "[44]",
         "irrelevant",
         "video7145",
         "a animated car going on the roads with blue mark on either sides",
         "['irrelevant']",
         "[1085379898708727]",
         "[4995314980504271]",
         "['SSB']",
         "MSRVTT"
        ],
        [
         "24",
         "[50]",
         "irrelevant",
         "video7209",
         "a animated car going on the roads with blue mark on either sides",
         "['irrelevant']",
         "[383911906645536]",
         "[5083898558315210]",
         "['CLIP4CLIP']",
         "MSRVTT"
        ],
        [
         "25",
         "[56]",
         "irrelevant",
         "video7218",
         "a animated car going on the roads with blue mark on either sides",
         "['irrelevant']",
         "[508104907670226]",
         "[4995314980504271]",
         "['SSB']",
         "MSRVTT"
        ],
        [
         "26",
         "[118]",
         "relevant",
         "video7464",
         "a animated car going on the roads with blue mark on either sides",
         "['relevant']",
         "[3144618499090956]",
         "[5083898558315210]",
         "['CLIP4CLIP']",
         "MSRVTT"
        ],
        [
         "27",
         "[41]",
         "irrelevant",
         "video7854",
         "a animated car going on the roads with blue mark on either sides",
         "['irrelevant']",
         "[1049509502580620]",
         "[4995314980504271]",
         "['SSB']",
         "MSRVTT"
        ],
        [
         "28",
         "[44]",
         "irrelevant",
         "video7965",
         "a animated car going on the roads with blue mark on either sides",
         "['irrelevant']",
         "[974747353160023]",
         "[5083898558315210]",
         "['CLIP4CLIP']",
         "MSRVTT"
        ],
        [
         "29",
         "[42]",
         "irrelevant",
         "video8089",
         "a animated car going on the roads with blue mark on either sides",
         "['irrelevant']",
         "[739252983730403]",
         "[5083898558315210]",
         "['CLIP4CLIP']",
         "MSRVTT"
        ],
        [
         "30",
         "[64]",
         "irrelevant",
         "video8248",
         "a animated car going on the roads with blue mark on either sides",
         "['irrelevant']",
         "[1384164008734121]",
         "[4995314980504271]",
         "['SSB']",
         "MSRVTT"
        ],
        [
         "31",
         "[26]",
         "irrelevant",
         "video8250",
         "a animated car going on the roads with blue mark on either sides",
         "['irrelevant']",
         "[395176879091059]",
         "[4995314980504271]",
         "['SSB']",
         "MSRVTT"
        ],
        [
         "32",
         "[87]",
         "irrelevant",
         "video8468",
         "a animated car going on the roads with blue mark on either sides",
         "['irrelevant']",
         "[999268364317971]",
         "[5083898558315210]",
         "['CLIP4CLIP']",
         "MSRVTT"
        ],
        [
         "33",
         "[67]",
         "relevant",
         "video8473",
         "a animated car going on the roads with blue mark on either sides",
         "['relevant']",
         "[3246375448982561]",
         "[4995314980504271]",
         "['SSB']",
         "MSRVTT"
        ],
        [
         "34",
         "[68]",
         "irrelevant",
         "video8819",
         "a animated car going on the roads with blue mark on either sides",
         "['irrelevant']",
         "[380481320349426]",
         "[5083898558315210]",
         "['CLIP4CLIP']",
         "MSRVTT"
        ],
        [
         "35",
         "[114]",
         "irrelevant",
         "video8895",
         "a animated car going on the roads with blue mark on either sides",
         "['irrelevant']",
         "[5223370774382526]",
         "[4995314980504271]",
         "['SSB']",
         "MSRVTT"
        ],
        [
         "36",
         "[38]",
         "irrelevant",
         "video8973",
         "a animated car going on the roads with blue mark on either sides",
         "['irrelevant']",
         "[1266800307056841]",
         "[5083898558315210]",
         "['CLIP4CLIP']",
         "MSRVTT"
        ],
        [
         "37",
         "[33]",
         "irrelevant",
         "video9258",
         "a animated car going on the roads with blue mark on either sides",
         "['irrelevant']",
         "[715547579467064]",
         "[4985131491553502]",
         "['CE']",
         "MSRVTT"
        ],
        [
         "38",
         "[43]",
         "irrelevant",
         "video9325",
         "a animated car going on the roads with blue mark on either sides",
         "['irrelevant']",
         "[345496164293504]",
         "[5083898558315210]",
         "['CLIP4CLIP']",
         "MSRVTT"
        ],
        [
         "39",
         "[59]",
         "irrelevant",
         "video9342",
         "a animated car going on the roads with blue mark on either sides",
         "['irrelevant']",
         "[451442969999911]",
         "[4985131491553502]",
         "['CE']",
         "MSRVTT"
        ],
        [
         "40",
         "[86, 69]",
         "irrelevant",
         "video9405",
         "a animated car going on the roads with blue mark on either sides",
         "['irrelevant', 'irrelevant']",
         "[450566936868393, 237415825212347]",
         "[4995314980504271, 4995314980504271]",
         "['SSB', 'SSB']",
         "MSRVTT"
        ],
        [
         "41",
         "[84]",
         "irrelevant",
         "video9580",
         "a animated car going on the roads with blue mark on either sides",
         "['irrelevant']",
         "[1141108430035524]",
         "[4995314980504271]",
         "['SSB']",
         "MSRVTT"
        ],
        [
         "42",
         "[12]",
         "irrelevant",
         "video9691",
         "a animated car going on the roads with blue mark on either sides",
         "['irrelevant']",
         "[549647526354164]",
         "[5083898558315210]",
         "['CLIP4CLIP']",
         "MSRVTT"
        ],
        [
         "43",
         "[86]",
         "irrelevant",
         "video9826",
         "a animated car going on the roads with blue mark on either sides",
         "['irrelevant']",
         "[500340451717015]",
         "[5083898558315210]",
         "['CLIP4CLIP']",
         "MSRVTT"
        ],
        [
         "44",
         "[65]",
         "irrelevant",
         "video7146",
         "a baby playing with a cats tail",
         "['irrelevant']",
         "[645661633390516]",
         "[5083898558315210]",
         "['CLIP4CLIP']",
         "MSRVTT"
        ],
        [
         "45",
         "[64]",
         "irrelevant",
         "video7173",
         "a baby playing with a cats tail",
         "['irrelevant']",
         "[283806587111362]",
         "[4995314980504271]",
         "['SSB']",
         "MSRVTT"
        ],
        [
         "46",
         "[22]",
         "irrelevant",
         "video7342",
         "a baby playing with a cats tail",
         "['irrelevant']",
         "[391389325780908]",
         "[5083898558315210]",
         "['CLIP4CLIP']",
         "MSRVTT"
        ],
        [
         "47",
         "[95]",
         "irrelevant",
         "video7552",
         "a baby playing with a cats tail",
         "['irrelevant']",
         "[666532134579097]",
         "[4985131491553502]",
         "['CE']",
         "MSRVTT"
        ],
        [
         "48",
         "[21]",
         "irrelevant",
         "video7570",
         "a baby playing with a cats tail",
         "['irrelevant']",
         "[370190025025196]",
         "[5083898558315210]",
         "['CLIP4CLIP']",
         "MSRVTT"
        ],
        [
         "49",
         "[40]",
         "irrelevant",
         "video7732",
         "a baby playing with a cats tail",
         "['irrelevant']",
         "[1851536561716619]",
         "[4985131491553502]",
         "['CE']",
         "MSRVTT"
        ]
       ],
       "shape": {
        "columns": 9,
        "rows": 24167
       }
      },
      "text/html": [
       "<div>\n",
       "<style scoped>\n",
       "    .dataframe tbody tr th:only-of-type {\n",
       "        vertical-align: middle;\n",
       "    }\n",
       "\n",
       "    .dataframe tbody tr th {\n",
       "        vertical-align: top;\n",
       "    }\n",
       "\n",
       "    .dataframe thead th {\n",
       "        text-align: right;\n",
       "    }\n",
       "</style>\n",
       "<table border=\"1\" class=\"dataframe\">\n",
       "  <thead>\n",
       "    <tr style=\"text-align: right;\">\n",
       "      <th></th>\n",
       "      <th>annotator_ids</th>\n",
       "      <th>label</th>\n",
       "      <th>video_id</th>\n",
       "      <th>query</th>\n",
       "      <th>annotator_labels</th>\n",
       "      <th>response_ids</th>\n",
       "      <th>queue_ids</th>\n",
       "      <th>models</th>\n",
       "      <th>dataset</th>\n",
       "    </tr>\n",
       "  </thead>\n",
       "  <tbody>\n",
       "    <tr>\n",
       "      <th>0</th>\n",
       "      <td>[84]</td>\n",
       "      <td>irrelevant</td>\n",
       "      <td>video7026</td>\n",
       "      <td>a 3d animation of a cabinet with plates</td>\n",
       "      <td>[irrelevant]</td>\n",
       "      <td>[514705627045591]</td>\n",
       "      <td>[4985131491553502]</td>\n",
       "      <td>[CE]</td>\n",
       "      <td>MSRVTT</td>\n",
       "    </tr>\n",
       "    <tr>\n",
       "      <th>1</th>\n",
       "      <td>[62]</td>\n",
       "      <td>irrelevant</td>\n",
       "      <td>video7418</td>\n",
       "      <td>a 3d animation of a cabinet with plates</td>\n",
       "      <td>[irrelevant]</td>\n",
       "      <td>[1009913593254130]</td>\n",
       "      <td>[4985131491553502]</td>\n",
       "      <td>[CE]</td>\n",
       "      <td>MSRVTT</td>\n",
       "    </tr>\n",
       "    <tr>\n",
       "      <th>2</th>\n",
       "      <td>[50]</td>\n",
       "      <td>irrelevant</td>\n",
       "      <td>video7763</td>\n",
       "      <td>a 3d animation of a cabinet with plates</td>\n",
       "      <td>[irrelevant]</td>\n",
       "      <td>[3280646372150702]</td>\n",
       "      <td>[4995314980504271]</td>\n",
       "      <td>[SSB]</td>\n",
       "      <td>MSRVTT</td>\n",
       "    </tr>\n",
       "    <tr>\n",
       "      <th>3</th>\n",
       "      <td>[67]</td>\n",
       "      <td>relevant</td>\n",
       "      <td>video7768</td>\n",
       "      <td>a 3d animation of a cabinet with plates</td>\n",
       "      <td>[relevant]</td>\n",
       "      <td>[1014281349443178]</td>\n",
       "      <td>[5083898558315210]</td>\n",
       "      <td>[CLIP4CLIP]</td>\n",
       "      <td>MSRVTT</td>\n",
       "    </tr>\n",
       "    <tr>\n",
       "      <th>4</th>\n",
       "      <td>[55]</td>\n",
       "      <td>irrelevant</td>\n",
       "      <td>video7822</td>\n",
       "      <td>a 3d animation of a cabinet with plates</td>\n",
       "      <td>[irrelevant]</td>\n",
       "      <td>[2619512781525857]</td>\n",
       "      <td>[4995314980504271]</td>\n",
       "      <td>[SSB]</td>\n",
       "      <td>MSRVTT</td>\n",
       "    </tr>\n",
       "    <tr>\n",
       "      <th>...</th>\n",
       "      <td>...</td>\n",
       "      <td>...</td>\n",
       "      <td>...</td>\n",
       "      <td>...</td>\n",
       "      <td>...</td>\n",
       "      <td>...</td>\n",
       "      <td>...</td>\n",
       "      <td>...</td>\n",
       "      <td>...</td>\n",
       "    </tr>\n",
       "    <tr>\n",
       "      <th>24162</th>\n",
       "      <td>[69]</td>\n",
       "      <td>irrelevant</td>\n",
       "      <td>video9770</td>\n",
       "      <td>young people sit around the edges of a room cl...</td>\n",
       "      <td>[irrelevant]</td>\n",
       "      <td>[310721911172645]</td>\n",
       "      <td>[4995314980504271]</td>\n",
       "      <td>[SSB]</td>\n",
       "      <td>MSRVTT</td>\n",
       "    </tr>\n",
       "    <tr>\n",
       "      <th>24163</th>\n",
       "      <td>[40]</td>\n",
       "      <td>irrelevant</td>\n",
       "      <td>video9788</td>\n",
       "      <td>young people sit around the edges of a room cl...</td>\n",
       "      <td>[irrelevant]</td>\n",
       "      <td>[5180951918610413]</td>\n",
       "      <td>[4985131491553502]</td>\n",
       "      <td>[CE]</td>\n",
       "      <td>MSRVTT</td>\n",
       "    </tr>\n",
       "    <tr>\n",
       "      <th>24164</th>\n",
       "      <td>[36]</td>\n",
       "      <td>irrelevant</td>\n",
       "      <td>video9814</td>\n",
       "      <td>young people sit around the edges of a room cl...</td>\n",
       "      <td>[irrelevant]</td>\n",
       "      <td>[498969301872125]</td>\n",
       "      <td>[4985131491553502]</td>\n",
       "      <td>[CE]</td>\n",
       "      <td>MSRVTT</td>\n",
       "    </tr>\n",
       "    <tr>\n",
       "      <th>24165</th>\n",
       "      <td>[57]</td>\n",
       "      <td>irrelevant</td>\n",
       "      <td>video9815</td>\n",
       "      <td>young people sit around the edges of a room cl...</td>\n",
       "      <td>[irrelevant]</td>\n",
       "      <td>[1154835725293034]</td>\n",
       "      <td>[5083898558315210]</td>\n",
       "      <td>[CLIP4CLIP]</td>\n",
       "      <td>MSRVTT</td>\n",
       "    </tr>\n",
       "    <tr>\n",
       "      <th>24166</th>\n",
       "      <td>[22]</td>\n",
       "      <td>irrelevant</td>\n",
       "      <td>video9957</td>\n",
       "      <td>young people sit around the edges of a room cl...</td>\n",
       "      <td>[irrelevant]</td>\n",
       "      <td>[4896432147140747]</td>\n",
       "      <td>[5083898558315210]</td>\n",
       "      <td>[CLIP4CLIP]</td>\n",
       "      <td>MSRVTT</td>\n",
       "    </tr>\n",
       "  </tbody>\n",
       "</table>\n",
       "<p>24167 rows × 9 columns</p>\n",
       "</div>"
      ],
      "text/plain": [
       "      annotator_ids       label   video_id  \\\n",
       "0              [84]  irrelevant  video7026   \n",
       "1              [62]  irrelevant  video7418   \n",
       "2              [50]  irrelevant  video7763   \n",
       "3              [67]    relevant  video7768   \n",
       "4              [55]  irrelevant  video7822   \n",
       "...             ...         ...        ...   \n",
       "24162          [69]  irrelevant  video9770   \n",
       "24163          [40]  irrelevant  video9788   \n",
       "24164          [36]  irrelevant  video9814   \n",
       "24165          [57]  irrelevant  video9815   \n",
       "24166          [22]  irrelevant  video9957   \n",
       "\n",
       "                                                   query annotator_labels  \\\n",
       "0                a 3d animation of a cabinet with plates     [irrelevant]   \n",
       "1                a 3d animation of a cabinet with plates     [irrelevant]   \n",
       "2                a 3d animation of a cabinet with plates     [irrelevant]   \n",
       "3                a 3d animation of a cabinet with plates       [relevant]   \n",
       "4                a 3d animation of a cabinet with plates     [irrelevant]   \n",
       "...                                                  ...              ...   \n",
       "24162  young people sit around the edges of a room cl...     [irrelevant]   \n",
       "24163  young people sit around the edges of a room cl...     [irrelevant]   \n",
       "24164  young people sit around the edges of a room cl...     [irrelevant]   \n",
       "24165  young people sit around the edges of a room cl...     [irrelevant]   \n",
       "24166  young people sit around the edges of a room cl...     [irrelevant]   \n",
       "\n",
       "             response_ids           queue_ids       models dataset  \n",
       "0       [514705627045591]  [4985131491553502]         [CE]  MSRVTT  \n",
       "1      [1009913593254130]  [4985131491553502]         [CE]  MSRVTT  \n",
       "2      [3280646372150702]  [4995314980504271]        [SSB]  MSRVTT  \n",
       "3      [1014281349443178]  [5083898558315210]  [CLIP4CLIP]  MSRVTT  \n",
       "4      [2619512781525857]  [4995314980504271]        [SSB]  MSRVTT  \n",
       "...                   ...                 ...          ...     ...  \n",
       "24162   [310721911172645]  [4995314980504271]        [SSB]  MSRVTT  \n",
       "24163  [5180951918610413]  [4985131491553502]         [CE]  MSRVTT  \n",
       "24164   [498969301872125]  [4985131491553502]         [CE]  MSRVTT  \n",
       "24165  [1154835725293034]  [5083898558315210]  [CLIP4CLIP]  MSRVTT  \n",
       "24166  [4896432147140747]  [5083898558315210]  [CLIP4CLIP]  MSRVTT  \n",
       "\n",
       "[24167 rows x 9 columns]"
      ]
     },
     "execution_count": 87,
     "metadata": {},
     "output_type": "execute_result"
    }
   ],
   "source": [
    "def open_json(path):\n",
    "    with open(path) as f:\n",
    "        data = json.load(f)\n",
    "    return data\n",
    "\n",
    "fire_data = open_json(FIRE_MSRVTT_RAW)\n",
    "fire_judgements_raw_df = pd.DataFrame(fire_data[\"annotations\"])\n",
    "fire_judgements_raw_df"
   ]
  },
  {
   "cell_type": "code",
   "execution_count": null,
   "id": "28ea5194",
   "metadata": {},
   "outputs": [],
   "source": [
    "def get_cleaned_fire_judgements(raw_fire_annotations):\n",
    "    all_queries = [a[\"query\"] for a in raw_fire_annotations]\n",
    "    print(\"Total queries\", len(all_queries))\n",
    "    unique_queries = list(set(all_queries))\n",
    "    print(\"Unique queries\", len(unique_queries))\n",
    "    \n",
    "    # Initialize lists to store relevant and non-relevant IDs\n",
    "    relevant_ids = []\n",
    "    non_relevant_ids = []\n",
    "    \n",
    "    # Iterate through the first queries and categorize the IDs\n",
    "    for query in unique_queries:\n",
    "        relevant = []\n",
    "        non_relevant = []\n",
    "        for annotation in raw_fire_annotations:\n",
    "            if annotation[\"query\"] == query:\n",
    "                if annotation[\"label\"] == \"relevant\":\n",
    "                    relevant.append(annotation[\"video_id\"])\n",
    "                else:\n",
    "                    non_relevant.append(annotation[\"video_id\"])\n",
    "        relevant_ids.append(relevant)\n",
    "        non_relevant_ids.append(non_relevant)\n",
    "        \n",
    "\n",
    "    return pd.DataFrame({\n",
    "    \"query\": unique_queries,\n",
    "    \"relevant_ids\": relevant_ids,\n",
    "    \"non_relevant_ids\": non_relevant_ids\n",
    "    }).copy()\n",
    "    "
   ]
  },
  {
   "cell_type": "code",
   "execution_count": 106,
   "id": "a83ab80b",
   "metadata": {},
   "outputs": [
    {
     "name": "stdout",
     "output_type": "stream",
     "text": [
      "Total queries 24167\n",
      "Unique queries 995\n",
      "<class 'pandas.core.frame.DataFrame'>\n",
      "RangeIndex: 995 entries, 0 to 994\n",
      "Data columns (total 3 columns):\n",
      " #   Column            Non-Null Count  Dtype \n",
      "---  ------            --------------  ----- \n",
      " 0   query             995 non-null    object\n",
      " 1   relevant_ids      995 non-null    object\n",
      " 2   non_relevant_ids  995 non-null    object\n",
      "dtypes: object(3)\n",
      "memory usage: 23.4+ KB\n"
     ]
    }
   ],
   "source": [
    "fire_judgements_df = get_cleaned_fire_judgements(fire_data[\"annotations\"])\n",
    "fire_judgements_df.info()"
   ]
  },
  {
   "cell_type": "code",
   "execution_count": 113,
   "id": "6793ef9f",
   "metadata": {},
   "outputs": [
    {
     "data": {
      "application/vnd.microsoft.datawrangler.viewer.v0+json": {
       "columns": [
        {
         "name": "index",
         "rawType": "int64",
         "type": "integer"
        },
        {
         "name": "query",
         "rawType": "object",
         "type": "string"
        },
        {
         "name": "relevant_ids",
         "rawType": "object",
         "type": "unknown"
        },
        {
         "name": "non_relevant_ids",
         "rawType": "object",
         "type": "unknown"
        }
       ],
       "conversionMethod": "pd.DataFrame",
       "ref": "f9d57cfb-501a-4f55-9d45-8ab30e65deb9",
       "rows": [
        [
         "0",
         "two parrots in a bird cage one white chick and on green adult",
         "['video8469']",
         "['video7113', 'video7151', 'video7160', 'video7342', 'video7345', 'video7349', 'video7351', 'video7412', 'video7413', 'video7546', 'video7741', 'video7822', 'video7849', 'video8014', 'video8057', 'video8078', 'video8317', 'video8323', 'video8494', 'video8605', 'video8686', 'video9030', 'video9232', 'video9253', 'video9788', 'video9805', 'video9839']"
        ],
        [
         "4",
         "a man chopping lobster and taking off the shell",
         "['video9687']",
         "['video7147', 'video7462', 'video7559', 'video7699', 'video7799', 'video8025', 'video8175', 'video8325', 'video8667', 'video8834', 'video8916', 'video9239', 'video9309', 'video9333', 'video9351', 'video9575', 'video9657', 'video9793']"
        ],
        [
         "5",
         "two women are walking in a parking lot",
         "['video7698']",
         "['video7138', 'video7177', 'video7212', 'video7223', 'video7373', 'video7378', 'video7751', 'video7820', 'video8022', 'video8265', 'video8306', 'video8330', 'video8482', 'video8899', 'video9029', 'video9039', 'video9231', 'video9341', 'video9353', 'video9803', 'video9825']"
        ],
        [
         "8",
         "a woman is talking about how jeans with patches or rips is trendy",
         "['video9503']",
         "['video7233', 'video7544', 'video7549', 'video7572', 'video7577', 'video7580', 'video7836', 'video8254', 'video8626', 'video8796', 'video8823', 'video8825', 'video8912', 'video9017', 'video9227', 'video9250', 'video9251', 'video9254', 'video9337', 'video9347', 'video9355', 'video9807']"
        ],
        [
         "9",
         "a naked child runs through a field",
         "['video8903']",
         "['video7021', 'video7155', 'video7217', 'video7363', 'video7438', 'video7767', 'video8123', 'video8125', 'video8245', 'video8655', 'video8818', 'video8821', 'video8949', 'video8973', 'video9023', 'video9031', 'video9038', 'video9203', 'video9240', 'video9354', 'video9620', 'video9774', 'video9791', 'video9836']"
        ],
        [
         "13",
         "a salad in a bowl is being filmed on a table",
         "['video7415']",
         "['video7140', 'video7202', 'video7559', 'video7566', 'video7571', 'video7598', 'video7787', 'video7793', 'video7823', 'video7833', 'video7845', 'video7898', 'video7968', 'video7973', 'video8314', 'video8811', 'video8934', 'video8948', 'video9063', 'video9409', 'video9625', 'video9824', 'video9838', 'video9873']"
        ],
        [
         "20",
         "a couple dancing doing salsa",
         "['video8807']",
         "['video7117', 'video7143', 'video7145', 'video7202', 'video7357', 'video7410', 'video7547', 'video7682', 'video7835', 'video7960', 'video8010', 'video8056', 'video8305', 'video8451', 'video8679', 'video8683', 'video8786', 'video8792', 'video8929', 'video9224', 'video9331', 'video9513', 'video9534', 'video9579', 'video9776', 'video9778', 'video9780', 'video9815']"
        ],
        [
         "22",
         "a girl is talking about relationships",
         "['video7348']",
         "['video7219', 'video7233', 'video7547', 'video7554', 'video7610', 'video7836', 'video8076', 'video8254', 'video8461', 'video8481', 'video8783', 'video8791', 'video8794', 'video8807', 'video8927', 'video9034', 'video9205', 'video9209', 'video9242', 'video9248', 'video9418', 'video9419', 'video9509', 'video9607', 'video9698', 'video9812']"
        ],
        [
         "25",
         "a man in a suit and a woman wearing brown giving the news",
         "['video7119']",
         "['video7145', 'video7613', 'video7725', 'video7794', 'video7837', 'video7947', 'video8264', 'video8321', 'video8324', 'video8333', 'video8457', 'video8494', 'video8601', 'video8650', 'video8666', 'video8789', 'video8823', 'video8864', 'video9037', 'video9222', 'video9510', 'video9589', 'video9770', 'video9788', 'video9814']"
        ],
        [
         "32",
         "a man is looking out a window to look at another man who jumped from the window to his death",
         "['video8902']",
         "['video7114', 'video7156', 'video7164', 'video7235', 'video7236', 'video7468', 'video7752', 'video7753', 'video7766', 'video7837', 'video7839', 'video7845', 'video7849', 'video7900', 'video7919', 'video8319', 'video8345', 'video8497', 'video8660', 'video8772', 'video8808', 'video8829', 'video9033', 'video9335']"
        ],
        [
         "33",
         "city limits photograph taken from high point in day time",
         "['video8477']",
         "['video7138', 'video7173', 'video7204', 'video7350', 'video7559', 'video7914', 'video8248', 'video8306', 'video8463', 'video8654', 'video8666', 'video8909', 'video8945', 'video9246', 'video9302', 'video9306', 'video9326', 'video9581', 'video9774', 'video9834']"
        ],
        [
         "34",
         "two ladies sitting down and talking in an office room",
         "['video9824']",
         "['video7341', 'video7362', 'video7374', 'video7549', 'video7615', 'video7724', 'video7751', 'video7825', 'video7947', 'video7968', 'video8068', 'video8074', 'video8120', 'video8240', 'video8305', 'video8392', 'video8727', 'video8866', 'video8903', 'video8910', 'video9018', 'video9357', 'video9451', 'video9835', 'video9908']"
        ],
        [
         "37",
         "a man is running around and playing a guitar",
         "['video7960']",
         "['video7028', 'video7117', 'video7205', 'video7227', 'video7228', 'video7444', 'video7545', 'video7730', 'video7789', 'video7961', 'video7976', 'video8078', 'video8251', 'video8333', 'video8620', 'video8789', 'video9226', 'video9530', 'video9742', 'video9872']"
        ],
        [
         "38",
         "several groups of people are kayaking on a waterway",
         "['video8079']",
         "['video7212', 'video7219', 'video7444', 'video7616', 'video7681', 'video7693', 'video7795', 'video8118', 'video8307', 'video8312', 'video8457', 'video8628', 'video8657', 'video8911', 'video8927', 'video8935', 'video9202', 'video9330', 'video9342', 'video9512', 'video9578', 'video9696', 'video9742']"
        ],
        [
         "41",
         "a boy gets out of a play police car and talks to a girl",
         "['video7542']",
         "['video7114', 'video7204', 'video7228', 'video7236', 'video7491', 'video7552', 'video7688', 'video7765', 'video7845', 'video8327', 'video8330', 'video8440', 'video8442', 'video8490', 'video8653', 'video8879', 'video9323', 'video9603', 'video9677', 'video9680', 'video9816']"
        ],
        [
         "42",
         "a girl practising her boy and arrow tricks",
         "['video9209']",
         "['video7168', 'video7170', 'video7177', 'video7352', 'video7506', 'video7701', 'video7844', 'video7890', 'video8069', 'video8129', 'video8255', 'video8317', 'video8426', 'video8475', 'video8507', 'video8674', 'video8677', 'video8689', 'video8816', 'video8836', 'video8851', 'video8921', 'video9336', 'video9534', 'video9685', 'video9771', 'video9878']"
        ],
        [
         "44",
         "an animated horse is in a barn and the maker asks for comments",
         "['video9839']",
         "['video7232', 'video7353', 'video7560', 'video7583', 'video7687', 'video7794', 'video7962', 'video8012', 'video8327', 'video8573', 'video8666', 'video8918', 'video9031', 'video9200', 'video9256', 'video9334', 'video9419', 'video9577', 'video9580', 'video9776', 'video9810', 'video9828']"
        ],
        [
         "46",
         "a man and woman looking at each other on the subway",
         "['video7832']",
         "['video7114', 'video7118', 'video7131', 'video7149', 'video7597', 'video7946', 'video7965', 'video8332', 'video8442', 'video8459', 'video8653', 'video8837', 'video8879', 'video8974', 'video9011', 'video9221', 'video9688', 'video9692', 'video9816', 'video9835']"
        ],
        [
         "47",
         "tom jones performing live on a television show",
         "['video7156']",
         "['video7207', 'video7228', 'video7362', 'video7552', 'video7591', 'video7747', 'video7754', 'video7839', 'video7900', 'video8265', 'video8269', 'video8320', 'video8326', 'video8482', 'video8673', 'video8727', 'video8741', 'video9011', 'video9015', 'video9023', 'video9254', 'video9304', 'video9351', 'video9603', 'video9834']"
        ],
        [
         "50",
         "a lady is walking in the beach",
         "['video8678']",
         "['video7118', 'video7597', 'video7681', 'video7912', 'video7917', 'video7946', 'video7965', 'video8014', 'video8241', 'video8332', 'video8339', 'video8459', 'video8485', 'video8493', 'video8819', 'video8895', 'video8928', 'video8999', 'video9201', 'video9359', 'video9511', 'video9620', 'video9639', 'video9688']"
        ],
        [
         "57",
         "person is recording the brown horse which is having fun",
         "['video9416']",
         "['video7361', 'video7615', 'video8075', 'video8128', 'video8242', 'video8244', 'video8323', 'video8327', 'video8345', 'video8686', 'video8834', 'video8926', 'video9225', 'video9248', 'video9308', 'video9451', 'video9577', 'video9680', 'video9775', 'video9839']"
        ],
        [
         "59",
         "an older woman who is blind is talking to a girl named lilly",
         "['video9780']",
         "['video7223', 'video7365', 'video7583', 'video7649', 'video7680', 'video7698', 'video7979', 'video8071', 'video8330', 'video8345', 'video8489', 'video8668', 'video8829', 'video8899', 'video8920', 'video8925', 'video9029', 'video9257', 'video9322', 'video9353', 'video9357', 'video9458', 'video9605', 'video9773', 'video9802', 'video9816', 'video9831']"
        ],
        [
         "60",
         "a woman giving a photoshop tutorial",
         "['video9812']",
         "['video7060', 'video7061', 'video7119', 'video7141', 'video7147', 'video7169', 'video7235', 'video7368', 'video7682', 'video7828', 'video7900', 'video7916', 'video8011', 'video8111', 'video8118', 'video8121', 'video8257', 'video8326', 'video8443', 'video8488', 'video8507', 'video8651', 'video8660', 'video8669', 'video8689', 'video8756', 'video8796', 'video8805', 'video8813', 'video8822', 'video8925', 'video9011', 'video9015', 'video9036', 'video9249', 'video9406', 'video9623', 'video9688', 'video9697', 'video9831']"
        ],
        [
         "66",
         "a group of indian guys meeting on a bridge while it s raining",
         "['video8851']",
         "['video7028', 'video7236', 'video7352', 'video7506', 'video7731', 'video7822', 'video7837', 'video8121', 'video8248', 'video8485', 'video8651', 'video8674', 'video8677', 'video8915', 'video8921', 'video8974', 'video9336', 'video9450', 'video9517', 'video9521', 'video9682']"
        ],
        [
         "75",
         "a female soccer player accepts a reward while being cheered on by the crowd",
         "['video7200']",
         "['video7029', 'video7378', 'video7500', 'video7554', 'video7591', 'video7845', 'video8014', 'video8025', 'video8265', 'video8316', 'video8320', 'video8326', 'video8476', 'video8653', 'video8806', 'video8816', 'video8922', 'video8979', 'video9011', 'video9231', 'video9305', 'video9516', 'video9623', 'video9681', 'video9803']"
        ],
        [
         "76",
         "a cat is licking a baby",
         "['video8478']",
         "['video7163', 'video7202', 'video7218', 'video7235', 'video7342', 'video7368', 'video7375', 'video7570', 'video7902', 'video7968', 'video8120', 'video8123', 'video8248', 'video8323', 'video8604', 'video8672', 'video8867', 'video8899', 'video8907', 'video9063', 'video9300', 'video9320', 'video9338', 'video9580', 'video9735', 'video9969']"
        ],
        [
         "79",
         "man in black suit is having meeting with group of people",
         "['video8315']",
         "['video7140', 'video7173', 'video7215', 'video7228', 'video7542', 'video7549', 'video7552', 'video7753', 'video7756', 'video7791', 'video7825', 'video7849', 'video8120', 'video8246', 'video8808', 'video8905', 'video8909', 'video8973', 'video9131', 'video9245', 'video9406', 'video9418', 'video9510', 'video9677', 'video9771']"
        ],
        [
         "80",
         "a group of men carry a body covered in a sheet",
         "['video7466']",
         "['video7137', 'video7352', 'video7355', 'video7369', 'video7698', 'video7791', 'video7898', 'video8068', 'video8254', 'video8330', 'video8346', 'video8801', 'video8818', 'video8828', 'video8851', 'video9029', 'video9032', 'video9034', 'video9234', 'video9235', 'video9521', 'video9576', 'video9681', 'video9803', 'video9825']"
        ],
        [
         "83",
         "a group of zombis walking towards a very tall building with a globe in front of it",
         "['video9010']",
         "['video7214', 'video7223', 'video7545', 'video7580', 'video7632', 'video7747', 'video7914', 'video8061', 'video8071', 'video8259', 'video8266', 'video8306', 'video8741', 'video8803', 'video8839', 'video8903', 'video9245', 'video9355', 'video9549', 'video9575', 'video9686', 'video9689', 'video9691', 'video9784', 'video9909']"
        ],
        [
         "93",
         "video of a church chior",
         "['video8336']",
         "['video7372', 'video7501', 'video7632', 'video8243', 'video8346', 'video8416', 'video8441', 'video8556', 'video8601', 'video8653', 'video8660', 'video8741', 'video8812', 'video8862', 'video8937', 'video9244', 'video9246', 'video9303', 'video9335', 'video9510', 'video9657', 'video9788']"
        ],
        [
         "94",
         "a man talks back to a cop and handcuffs him to the table",
         "['video8808']",
         "['video7114', 'video7559', 'video7596', 'video7598', 'video7599', 'video7833', 'video8315', 'video8327', 'video8663', 'video8683', 'video8824', 'video8829', 'video8908', 'video8931', 'video9305', 'video9323', 'video9339', 'video9352', 'video9452', 'video9472', 'video9518', 'video9680', 'video9811', 'video9824']"
        ],
        [
         "95",
         "a group discusses a man s outfit",
         "['video7159']",
         "['video7029', 'video7153', 'video7200', 'video7418', 'video7554', 'video7755', 'video7797', 'video7833', 'video7845', 'video8318', 'video8573', 'video8653', 'video8796', 'video8806', 'video8917', 'video9245', 'video9320', 'video9474', 'video9511', 'video9684', 'video9731', 'video9734', 'video9774', 'video9790', 'video9885']"
        ],
        [
         "96",
         "a man in black suit is talking about deforestation and about climate change",
         "['video9418']",
         "['video7135', 'video7356', 'video7412', 'video7501', 'video7546', 'video7588', 'video7610', 'video7753', 'video7790', 'video7799', 'video7834', 'video7890', 'video8120', 'video8794', 'video8862', 'video8936', 'video9010', 'video9017', 'video9019', 'video9037', 'video9240', 'video9406', 'video9474', 'video9821']"
        ],
        [
         "98",
         "a lady describes about workout and exercises for women",
         "['video7724']",
         "['video7134', 'video7145', 'video7170', 'video7368', 'video7580', 'video7757', 'video7782', 'video7836', 'video7947', 'video8119', 'video8123', 'video8322', 'video8479', 'video8669', 'video8679', 'video8816', 'video8907', 'video9200', 'video9579', 'video9580', 'video9657', 'video9824', 'video9830']"
        ],
        [
         "100",
         "somebody slices white onion with sharp knife on the table",
         "['video7799']",
         "['video7029', 'video7153', 'video7500', 'video7554', 'video7730', 'video7939', 'video7966', 'video8056', 'video8318', 'video8573', 'video8686', 'video8915', 'video9320', 'video9349', 'video9359', 'video9403', 'video9684', 'video9731', 'video9734', 'video9798', 'video9882']"
        ],
        [
         "104",
         "a female journalist wearing a purple shirt and white blazer is talking on a news show next to the image of a male in a dark suit",
         "['video7613']",
         "['video7119', 'video7145', 'video7726', 'video7823', 'video7947', 'video8048', 'video8247', 'video8254', 'video8264', 'video8317', 'video8333', 'video8446', 'video8469', 'video8494', 'video8578', 'video8650', 'video8789', 'video8822', 'video8832', 'video9204', 'video9230', 'video9474', 'video9821']"
        ],
        [
         "110",
         "a women is talking about the books she likes and the second favourite one is the amc the walking dead",
         "['video9698']",
         "['video7202', 'video7369', 'video7547', 'video7549', 'video7581', 'video7589', 'video7782', 'video7792', 'video7795', 'video7836', 'video8056', 'video8057', 'video8068', 'video8249', 'video8254', 'video8349', 'video8441', 'video8684', 'video8797', 'video8868', 'video9034', 'video9237', 'video9419', 'video9791', 'video9969']"
        ],
        [
         "112",
         "a guy chops up garlic and pours it over chicken frying in a pan",
         "['video7799']",
         "['video7034', 'video7147', 'video7151', 'video7214', 'video7370', 'video7914', 'video7970', 'video8079', 'video8266', 'video8323', 'video8329', 'video8447', 'video8479', 'video8657', 'video8662', 'video8834', 'video9244', 'video9333', 'video9335', 'video9575', 'video9687', 'video9691', 'video9694', 'video9798', 'video9815', 'video9885', 'video9909']"
        ],
        [
         "118",
         "a yellow sports car with a guy speaking about the car",
         "['video9975']",
         "['video7024', 'video7026', 'video7110', 'video7151', 'video7506', 'video7616', 'video7681', 'video7752', 'video7829', 'video7843', 'video7844', 'video7979', 'video8070', 'video8268', 'video8489', 'video8664', 'video8668', 'video8920', 'video9131', 'video9257', 'video9322', 'video9344', 'video9508', 'video9820']"
        ],
        [
         "126",
         "fox newscasters discuss chris christie and his poll numbers",
         "['video7731']",
         "['video7158', 'video7234', 'video7347', 'video7348', 'video7502', 'video7613', 'video7834', 'video8175', 'video8301', 'video8464', 'video8468', 'video8496', 'video8605', 'video8655', 'video8689', 'video8789', 'video8813', 'video8823', 'video8864', 'video9223', 'video9337', 'video9352', 'video9788']"
        ],
        [
         "128",
         "people practising marshal arts",
         "['video9685']",
         "['video7110', 'video7131', 'video7178', 'video7346', 'video7593', 'video7919', 'video8049', 'video8472', 'video8499', 'video8772', 'video8816', 'video8930', 'video9063', 'video9235', 'video9244', 'video9309', 'video9404', 'video9679']"
        ],
        [
         "129",
         "someone is putting a skeleton slide on a projector",
         "['video7829']",
         "['video7027', 'video7112', 'video7376', 'video7681', 'video7786', 'video7831', 'video7963', 'video8018', 'video8067', 'video8111', 'video8121', 'video8241', 'video8310', 'video8328', 'video8626', 'video8664', 'video8804', 'video8839', 'video9239', 'video9330', 'video9403', 'video9575', 'video9686', 'video9697', 'video9805']"
        ],
        [
         "130",
         "views of two persons working on the super computer with the head phones on",
         "['video7969']",
         "['video7166', 'video7209', 'video7233', 'video7467', 'video7544', 'video7554', 'video7681', 'video7685', 'video7900', 'video8068', 'video8075', 'video8472', 'video8481', 'video8499', 'video8626', 'video8668', 'video8801', 'video8921', 'video9308', 'video9416', 'video9521', 'video9780', 'video9812']"
        ],
        [
         "132",
         "a man speaks to children in a classroom",
         "['video9775']",
         "['video7131', 'video7134', 'video7141', 'video7162', 'video7345', 'video7500', 'video7528', 'video7563', 'video7581', 'video7756', 'video7833', 'video7843', 'video8075', 'video8257', 'video8307', 'video8345', 'video8346', 'video8489', 'video9117', 'video9326', 'video9416', 'video9680', 'video9777', 'video9830', 'video9908']"
        ],
        [
         "136",
         "vladmir putin talks on the news about the fight against terrorism",
         "['video7410']",
         "['video7060', 'video7061', 'video7216', 'video7235', 'video7374', 'video7466', 'video7586', 'video7757', 'video7835', 'video7839', 'video7967', 'video8122', 'video8311', 'video8325', 'video8441', 'video8497', 'video8650', 'video8741', 'video8864', 'video8906', 'video9015', 'video9205', 'video9235', 'video9690', 'video9778', 'video9908']"
        ],
        [
         "143",
         "a dad plays video games with his son",
         "['video8116']",
         "['video7359', 'video7445', 'video7570', 'video7575', 'video7593', 'video7790', 'video7825', 'video7970', 'video8125', 'video8306', 'video8331', 'video8442', 'video8681', 'video8815', 'video8861', 'video8863', 'video9119', 'video9200', 'video9206', 'video9320', 'video9358', 'video9403', 'video9539', 'video9832']"
        ],
        [
         "144",
         "a woman looks after abandoned children for free in her home",
         "['video8348']",
         "['video7203', 'video7222', 'video7359', 'video7364', 'video7466', 'video7574', 'video7732', 'video7780', 'video7825', 'video7843', 'video8072', 'video8303', 'video8326', 'video8445', 'video8463', 'video8751', 'video8774', 'video8780', 'video8899', 'video8905', 'video8913', 'video8948', 'video8979', 'video9237', 'video9576', 'video9816', 'video9823']"
        ],
        [
         "153",
         "a group of people are stamp dancing on stage in front of a crowd",
         "['video9251']",
         "['video7141', 'video7202', 'video7351', 'video7468', 'video7501', 'video7725', 'video8324', 'video8336', 'video8457', 'video8556', 'video8812', 'video8820', 'video8914', 'video9010', 'video9063', 'video9519', 'video9589', 'video9657', 'video9770', 'video9814', 'video9957']"
        ],
        [
         "155",
         "animated video showing a bottle rolling across an empty hallway",
         "['video9324']",
         "['video7157', 'video7223', 'video7236', 'video7564', 'video7632', 'video7772', 'video8027', 'video8076', 'video8123', 'video8416', 'video8473', 'video8486', 'video8799', 'video8909', 'video8911', 'video9013', 'video9039', 'video9307']"
        ],
        [
         "159",
         "a blonde woman is speaking and then a radio button to subscribe to her webcasts appears",
         "['video8690']",
         "['video7138', 'video7145', 'video7166', 'video7229', 'video7549', 'video7754', 'video8313', 'video8316', 'video8486', 'video8654', 'video8867', 'video8906', 'video8919', 'video9204', 'video9207', 'video9347', 'video9489', 'video9512', 'video9575', 'video9577', 'video9795', 'video9871']"
        ]
       ],
       "shape": {
        "columns": 3,
        "rows": 314
       }
      },
      "text/html": [
       "<div>\n",
       "<style scoped>\n",
       "    .dataframe tbody tr th:only-of-type {\n",
       "        vertical-align: middle;\n",
       "    }\n",
       "\n",
       "    .dataframe tbody tr th {\n",
       "        vertical-align: top;\n",
       "    }\n",
       "\n",
       "    .dataframe thead th {\n",
       "        text-align: right;\n",
       "    }\n",
       "</style>\n",
       "<table border=\"1\" class=\"dataframe\">\n",
       "  <thead>\n",
       "    <tr style=\"text-align: right;\">\n",
       "      <th></th>\n",
       "      <th>query</th>\n",
       "      <th>relevant_ids</th>\n",
       "      <th>non_relevant_ids</th>\n",
       "    </tr>\n",
       "  </thead>\n",
       "  <tbody>\n",
       "    <tr>\n",
       "      <th>0</th>\n",
       "      <td>two parrots in a bird cage one white chick and...</td>\n",
       "      <td>[video8469]</td>\n",
       "      <td>[video7113, video7151, video7160, video7342, v...</td>\n",
       "    </tr>\n",
       "    <tr>\n",
       "      <th>4</th>\n",
       "      <td>a man chopping lobster and taking off the shell</td>\n",
       "      <td>[video9687]</td>\n",
       "      <td>[video7147, video7462, video7559, video7699, v...</td>\n",
       "    </tr>\n",
       "    <tr>\n",
       "      <th>5</th>\n",
       "      <td>two women are walking in a parking lot</td>\n",
       "      <td>[video7698]</td>\n",
       "      <td>[video7138, video7177, video7212, video7223, v...</td>\n",
       "    </tr>\n",
       "    <tr>\n",
       "      <th>8</th>\n",
       "      <td>a woman is talking about how jeans with patche...</td>\n",
       "      <td>[video9503]</td>\n",
       "      <td>[video7233, video7544, video7549, video7572, v...</td>\n",
       "    </tr>\n",
       "    <tr>\n",
       "      <th>9</th>\n",
       "      <td>a naked child runs through a field</td>\n",
       "      <td>[video8903]</td>\n",
       "      <td>[video7021, video7155, video7217, video7363, v...</td>\n",
       "    </tr>\n",
       "    <tr>\n",
       "      <th>...</th>\n",
       "      <td>...</td>\n",
       "      <td>...</td>\n",
       "      <td>...</td>\n",
       "    </tr>\n",
       "    <tr>\n",
       "      <th>987</th>\n",
       "      <td>selena gomez clips of her videos and her danci...</td>\n",
       "      <td>[video9801]</td>\n",
       "      <td>[video7111, video7162, video7370, video7411, v...</td>\n",
       "    </tr>\n",
       "    <tr>\n",
       "      <th>990</th>\n",
       "      <td>video of gymasts practicing to roll</td>\n",
       "      <td>[video8267]</td>\n",
       "      <td>[video7111, video7118, video7131, video7153, v...</td>\n",
       "    </tr>\n",
       "    <tr>\n",
       "      <th>991</th>\n",
       "      <td>a woman walking along side a river in a bikini</td>\n",
       "      <td>[video8928]</td>\n",
       "      <td>[video7142, video7152, video7204, video7598, v...</td>\n",
       "    </tr>\n",
       "    <tr>\n",
       "      <th>993</th>\n",
       "      <td>a little girl talking to her and is scared</td>\n",
       "      <td>[video7782]</td>\n",
       "      <td>[video7118, video7587, video7946, video8018, v...</td>\n",
       "    </tr>\n",
       "    <tr>\n",
       "      <th>994</th>\n",
       "      <td>a man talks to a little boy about not letting ...</td>\n",
       "      <td>[video9230]</td>\n",
       "      <td>[video7346, video7413, video7542, video7579, v...</td>\n",
       "    </tr>\n",
       "  </tbody>\n",
       "</table>\n",
       "<p>314 rows × 3 columns</p>\n",
       "</div>"
      ],
      "text/plain": [
       "                                                 query relevant_ids  \\\n",
       "0    two parrots in a bird cage one white chick and...  [video8469]   \n",
       "4      a man chopping lobster and taking off the shell  [video9687]   \n",
       "5               two women are walking in a parking lot  [video7698]   \n",
       "8    a woman is talking about how jeans with patche...  [video9503]   \n",
       "9                   a naked child runs through a field  [video8903]   \n",
       "..                                                 ...          ...   \n",
       "987  selena gomez clips of her videos and her danci...  [video9801]   \n",
       "990                video of gymasts practicing to roll  [video8267]   \n",
       "991     a woman walking along side a river in a bikini  [video8928]   \n",
       "993         a little girl talking to her and is scared  [video7782]   \n",
       "994  a man talks to a little boy about not letting ...  [video9230]   \n",
       "\n",
       "                                      non_relevant_ids  \n",
       "0    [video7113, video7151, video7160, video7342, v...  \n",
       "4    [video7147, video7462, video7559, video7699, v...  \n",
       "5    [video7138, video7177, video7212, video7223, v...  \n",
       "8    [video7233, video7544, video7549, video7572, v...  \n",
       "9    [video7021, video7155, video7217, video7363, v...  \n",
       "..                                                 ...  \n",
       "987  [video7111, video7162, video7370, video7411, v...  \n",
       "990  [video7111, video7118, video7131, video7153, v...  \n",
       "991  [video7142, video7152, video7204, video7598, v...  \n",
       "993  [video7118, video7587, video7946, video8018, v...  \n",
       "994  [video7346, video7413, video7542, video7579, v...  \n",
       "\n",
       "[314 rows x 3 columns]"
      ]
     },
     "execution_count": 113,
     "metadata": {},
     "output_type": "execute_result"
    }
   ],
   "source": [
    "# Filter only queries with a single relevant result\n",
    "fire_judgements_single_result = fire_judgements_df[fire_judgements_df[\"relevant_ids\"].apply(lambda x: len(x) == 1)]\n",
    "fire_judgements_single_result"
   ]
  },
  {
   "cell_type": "markdown",
   "id": "2b69bf87",
   "metadata": {},
   "source": [
    "This is our final benchmark queries:"
   ]
  },
  {
   "cell_type": "code",
   "execution_count": 127,
   "id": "7fa5d6a2",
   "metadata": {},
   "outputs": [
    {
     "data": {
      "application/vnd.microsoft.datawrangler.viewer.v0+json": {
       "columns": [
        {
         "name": "index",
         "rawType": "int64",
         "type": "integer"
        },
        {
         "name": "query",
         "rawType": "object",
         "type": "string"
        },
        {
         "name": "relevant_ids",
         "rawType": "object",
         "type": "unknown"
        },
        {
         "name": "non_relevant_ids",
         "rawType": "object",
         "type": "unknown"
        },
        {
         "name": "video_id",
         "rawType": "object",
         "type": "string"
        },
        {
         "name": "sentence",
         "rawType": "object",
         "type": "string"
        }
       ],
       "conversionMethod": "pd.DataFrame",
       "ref": "f053a08a-024d-4ae1-a73b-0a6f04ecb876",
       "rows": [
        [
         "0",
         "two parrots in a bird cage one white chick and on green adult",
         "['video8469']",
         "['video7113', 'video7151', 'video7160', 'video7342', 'video7345', 'video7349', 'video7351', 'video7412', 'video7413', 'video7546', 'video7741', 'video7822', 'video7849', 'video8014', 'video8057', 'video8078', 'video8317', 'video8323', 'video8494', 'video8605', 'video8686', 'video9030', 'video9232', 'video9253', 'video9788', 'video9805', 'video9839']",
         "video8469",
         "two parrots in a bird cage one white chick and on green adult"
        ],
        [
         "4",
         "a man chopping lobster and taking off the shell",
         "['video9687']",
         "['video7147', 'video7462', 'video7559', 'video7699', 'video7799', 'video8025', 'video8175', 'video8325', 'video8667', 'video8834', 'video8916', 'video9239', 'video9309', 'video9333', 'video9351', 'video9575', 'video9657', 'video9793']",
         "video9687",
         "a man chopping lobster and taking off the shell"
        ],
        [
         "5",
         "two women are walking in a parking lot",
         "['video7698']",
         "['video7138', 'video7177', 'video7212', 'video7223', 'video7373', 'video7378', 'video7751', 'video7820', 'video8022', 'video8265', 'video8306', 'video8330', 'video8482', 'video8899', 'video9029', 'video9039', 'video9231', 'video9341', 'video9353', 'video9803', 'video9825']",
         "video7698",
         "two women are walking in a parking lot"
        ],
        [
         "8",
         "a woman is talking about how jeans with patches or rips is trendy",
         "['video9503']",
         "['video7233', 'video7544', 'video7549', 'video7572', 'video7577', 'video7580', 'video7836', 'video8254', 'video8626', 'video8796', 'video8823', 'video8825', 'video8912', 'video9017', 'video9227', 'video9250', 'video9251', 'video9254', 'video9337', 'video9347', 'video9355', 'video9807']",
         "video9503",
         "a woman is talking about how jeans with patches or rips is trendy"
        ],
        [
         "9",
         "a naked child runs through a field",
         "['video8903']",
         "['video7021', 'video7155', 'video7217', 'video7363', 'video7438', 'video7767', 'video8123', 'video8125', 'video8245', 'video8655', 'video8818', 'video8821', 'video8949', 'video8973', 'video9023', 'video9031', 'video9038', 'video9203', 'video9240', 'video9354', 'video9620', 'video9774', 'video9791', 'video9836']",
         "video8903",
         "a naked child runs through a field"
        ],
        [
         "13",
         "a salad in a bowl is being filmed on a table",
         "['video7415']",
         "['video7140', 'video7202', 'video7559', 'video7566', 'video7571', 'video7598', 'video7787', 'video7793', 'video7823', 'video7833', 'video7845', 'video7898', 'video7968', 'video7973', 'video8314', 'video8811', 'video8934', 'video8948', 'video9063', 'video9409', 'video9625', 'video9824', 'video9838', 'video9873']",
         "video7415",
         "a salad in a bowl is being filmed on a table"
        ],
        [
         "20",
         "a couple dancing doing salsa",
         "['video8807']",
         "['video7117', 'video7143', 'video7145', 'video7202', 'video7357', 'video7410', 'video7547', 'video7682', 'video7835', 'video7960', 'video8010', 'video8056', 'video8305', 'video8451', 'video8679', 'video8683', 'video8786', 'video8792', 'video8929', 'video9224', 'video9331', 'video9513', 'video9534', 'video9579', 'video9776', 'video9778', 'video9780', 'video9815']",
         "video8807",
         "a couple dancing doing salsa"
        ],
        [
         "22",
         "a girl is talking about relationships",
         "['video7348']",
         "['video7219', 'video7233', 'video7547', 'video7554', 'video7610', 'video7836', 'video8076', 'video8254', 'video8461', 'video8481', 'video8783', 'video8791', 'video8794', 'video8807', 'video8927', 'video9034', 'video9205', 'video9209', 'video9242', 'video9248', 'video9418', 'video9419', 'video9509', 'video9607', 'video9698', 'video9812']",
         "video7348",
         "a girl is talking about relationships"
        ],
        [
         "25",
         "a man in a suit and a woman wearing brown giving the news",
         "['video7119']",
         "['video7145', 'video7613', 'video7725', 'video7794', 'video7837', 'video7947', 'video8264', 'video8321', 'video8324', 'video8333', 'video8457', 'video8494', 'video8601', 'video8650', 'video8666', 'video8789', 'video8823', 'video8864', 'video9037', 'video9222', 'video9510', 'video9589', 'video9770', 'video9788', 'video9814']",
         "video7119",
         "a man in a suit and a woman wearing brown giving the news"
        ],
        [
         "32",
         "a man is looking out a window to look at another man who jumped from the window to his death",
         "['video8902']",
         "['video7114', 'video7156', 'video7164', 'video7235', 'video7236', 'video7468', 'video7752', 'video7753', 'video7766', 'video7837', 'video7839', 'video7845', 'video7849', 'video7900', 'video7919', 'video8319', 'video8345', 'video8497', 'video8660', 'video8772', 'video8808', 'video8829', 'video9033', 'video9335']",
         "video8902",
         "a man is looking out a window to look at another man who jumped from the window to his death"
        ],
        [
         "33",
         "city limits photograph taken from high point in day time",
         "['video8477']",
         "['video7138', 'video7173', 'video7204', 'video7350', 'video7559', 'video7914', 'video8248', 'video8306', 'video8463', 'video8654', 'video8666', 'video8909', 'video8945', 'video9246', 'video9302', 'video9306', 'video9326', 'video9581', 'video9774', 'video9834']",
         "video8477",
         "city limits photograph taken from high point in day time"
        ],
        [
         "34",
         "two ladies sitting down and talking in an office room",
         "['video9824']",
         "['video7341', 'video7362', 'video7374', 'video7549', 'video7615', 'video7724', 'video7751', 'video7825', 'video7947', 'video7968', 'video8068', 'video8074', 'video8120', 'video8240', 'video8305', 'video8392', 'video8727', 'video8866', 'video8903', 'video8910', 'video9018', 'video9357', 'video9451', 'video9835', 'video9908']",
         "video9824",
         "two ladies sitting down and talking in an office room"
        ],
        [
         "37",
         "a man is running around and playing a guitar",
         "['video7960']",
         "['video7028', 'video7117', 'video7205', 'video7227', 'video7228', 'video7444', 'video7545', 'video7730', 'video7789', 'video7961', 'video7976', 'video8078', 'video8251', 'video8333', 'video8620', 'video8789', 'video9226', 'video9530', 'video9742', 'video9872']",
         "video7960",
         "a man is running around and playing a guitar"
        ],
        [
         "38",
         "several groups of people are kayaking on a waterway",
         "['video8079']",
         "['video7212', 'video7219', 'video7444', 'video7616', 'video7681', 'video7693', 'video7795', 'video8118', 'video8307', 'video8312', 'video8457', 'video8628', 'video8657', 'video8911', 'video8927', 'video8935', 'video9202', 'video9330', 'video9342', 'video9512', 'video9578', 'video9696', 'video9742']",
         "video8079",
         "several groups of people are kayaking on a waterway"
        ],
        [
         "41",
         "a boy gets out of a play police car and talks to a girl",
         "['video7542']",
         "['video7114', 'video7204', 'video7228', 'video7236', 'video7491', 'video7552', 'video7688', 'video7765', 'video7845', 'video8327', 'video8330', 'video8440', 'video8442', 'video8490', 'video8653', 'video8879', 'video9323', 'video9603', 'video9677', 'video9680', 'video9816']",
         "video7542",
         "a boy gets out of a play police car and talks to a girl"
        ],
        [
         "42",
         "a girl practising her boy and arrow tricks",
         "['video9209']",
         "['video7168', 'video7170', 'video7177', 'video7352', 'video7506', 'video7701', 'video7844', 'video7890', 'video8069', 'video8129', 'video8255', 'video8317', 'video8426', 'video8475', 'video8507', 'video8674', 'video8677', 'video8689', 'video8816', 'video8836', 'video8851', 'video8921', 'video9336', 'video9534', 'video9685', 'video9771', 'video9878']",
         "video9209",
         "a girl practising her boy and arrow tricks"
        ],
        [
         "44",
         "an animated horse is in a barn and the maker asks for comments",
         "['video9839']",
         "['video7232', 'video7353', 'video7560', 'video7583', 'video7687', 'video7794', 'video7962', 'video8012', 'video8327', 'video8573', 'video8666', 'video8918', 'video9031', 'video9200', 'video9256', 'video9334', 'video9419', 'video9577', 'video9580', 'video9776', 'video9810', 'video9828']",
         "video9839",
         "an animated horse is in a barn and the maker asks for comments"
        ],
        [
         "46",
         "a man and woman looking at each other on the subway",
         "['video7832']",
         "['video7114', 'video7118', 'video7131', 'video7149', 'video7597', 'video7946', 'video7965', 'video8332', 'video8442', 'video8459', 'video8653', 'video8837', 'video8879', 'video8974', 'video9011', 'video9221', 'video9688', 'video9692', 'video9816', 'video9835']",
         "video7832",
         "a man and woman looking at each other on the subway"
        ],
        [
         "47",
         "tom jones performing live on a television show",
         "['video7156']",
         "['video7207', 'video7228', 'video7362', 'video7552', 'video7591', 'video7747', 'video7754', 'video7839', 'video7900', 'video8265', 'video8269', 'video8320', 'video8326', 'video8482', 'video8673', 'video8727', 'video8741', 'video9011', 'video9015', 'video9023', 'video9254', 'video9304', 'video9351', 'video9603', 'video9834']",
         "video7156",
         "tom jones performing live on a television show"
        ],
        [
         "50",
         "a lady is walking in the beach",
         "['video8678']",
         "['video7118', 'video7597', 'video7681', 'video7912', 'video7917', 'video7946', 'video7965', 'video8014', 'video8241', 'video8332', 'video8339', 'video8459', 'video8485', 'video8493', 'video8819', 'video8895', 'video8928', 'video8999', 'video9201', 'video9359', 'video9511', 'video9620', 'video9639', 'video9688']",
         "video8678",
         "a lady is walking in the beach"
        ],
        [
         "57",
         "person is recording the brown horse which is having fun",
         "['video9416']",
         "['video7361', 'video7615', 'video8075', 'video8128', 'video8242', 'video8244', 'video8323', 'video8327', 'video8345', 'video8686', 'video8834', 'video8926', 'video9225', 'video9248', 'video9308', 'video9451', 'video9577', 'video9680', 'video9775', 'video9839']",
         "video9416",
         "person is recording the brown horse which is having fun"
        ],
        [
         "59",
         "an older woman who is blind is talking to a girl named lilly",
         "['video9780']",
         "['video7223', 'video7365', 'video7583', 'video7649', 'video7680', 'video7698', 'video7979', 'video8071', 'video8330', 'video8345', 'video8489', 'video8668', 'video8829', 'video8899', 'video8920', 'video8925', 'video9029', 'video9257', 'video9322', 'video9353', 'video9357', 'video9458', 'video9605', 'video9773', 'video9802', 'video9816', 'video9831']",
         "video9780",
         "an older woman who is blind is talking to a girl named lilly"
        ],
        [
         "60",
         "a woman giving a photoshop tutorial",
         "['video9812']",
         "['video7060', 'video7061', 'video7119', 'video7141', 'video7147', 'video7169', 'video7235', 'video7368', 'video7682', 'video7828', 'video7900', 'video7916', 'video8011', 'video8111', 'video8118', 'video8121', 'video8257', 'video8326', 'video8443', 'video8488', 'video8507', 'video8651', 'video8660', 'video8669', 'video8689', 'video8756', 'video8796', 'video8805', 'video8813', 'video8822', 'video8925', 'video9011', 'video9015', 'video9036', 'video9249', 'video9406', 'video9623', 'video9688', 'video9697', 'video9831']",
         "video9812",
         "a woman giving a photoshop tutorial"
        ],
        [
         "66",
         "a group of indian guys meeting on a bridge while it s raining",
         "['video8851']",
         "['video7028', 'video7236', 'video7352', 'video7506', 'video7731', 'video7822', 'video7837', 'video8121', 'video8248', 'video8485', 'video8651', 'video8674', 'video8677', 'video8915', 'video8921', 'video8974', 'video9336', 'video9450', 'video9517', 'video9521', 'video9682']",
         "video8851",
         "a group of indian guys meeting on a bridge while it s raining"
        ],
        [
         "75",
         "a female soccer player accepts a reward while being cheered on by the crowd",
         "['video7200']",
         "['video7029', 'video7378', 'video7500', 'video7554', 'video7591', 'video7845', 'video8014', 'video8025', 'video8265', 'video8316', 'video8320', 'video8326', 'video8476', 'video8653', 'video8806', 'video8816', 'video8922', 'video8979', 'video9011', 'video9231', 'video9305', 'video9516', 'video9623', 'video9681', 'video9803']",
         "video7200",
         "a female soccer player accepts a reward while being cheered on by the crowd"
        ],
        [
         "76",
         "a cat is licking a baby",
         "['video8478']",
         "['video7163', 'video7202', 'video7218', 'video7235', 'video7342', 'video7368', 'video7375', 'video7570', 'video7902', 'video7968', 'video8120', 'video8123', 'video8248', 'video8323', 'video8604', 'video8672', 'video8867', 'video8899', 'video8907', 'video9063', 'video9300', 'video9320', 'video9338', 'video9580', 'video9735', 'video9969']",
         "video8478",
         "a cat is licking a baby"
        ],
        [
         "79",
         "man in black suit is having meeting with group of people",
         "['video8315']",
         "['video7140', 'video7173', 'video7215', 'video7228', 'video7542', 'video7549', 'video7552', 'video7753', 'video7756', 'video7791', 'video7825', 'video7849', 'video8120', 'video8246', 'video8808', 'video8905', 'video8909', 'video8973', 'video9131', 'video9245', 'video9406', 'video9418', 'video9510', 'video9677', 'video9771']",
         "video8315",
         "man in black suit is having meeting with group of people"
        ],
        [
         "80",
         "a group of men carry a body covered in a sheet",
         "['video7466']",
         "['video7137', 'video7352', 'video7355', 'video7369', 'video7698', 'video7791', 'video7898', 'video8068', 'video8254', 'video8330', 'video8346', 'video8801', 'video8818', 'video8828', 'video8851', 'video9029', 'video9032', 'video9034', 'video9234', 'video9235', 'video9521', 'video9576', 'video9681', 'video9803', 'video9825']",
         "video7466",
         "a group of men carry a body covered in a sheet"
        ],
        [
         "83",
         "a group of zombis walking towards a very tall building with a globe in front of it",
         "['video9010']",
         "['video7214', 'video7223', 'video7545', 'video7580', 'video7632', 'video7747', 'video7914', 'video8061', 'video8071', 'video8259', 'video8266', 'video8306', 'video8741', 'video8803', 'video8839', 'video8903', 'video9245', 'video9355', 'video9549', 'video9575', 'video9686', 'video9689', 'video9691', 'video9784', 'video9909']",
         "video9010",
         "a group of zombis walking towards a very tall building with a globe in front of it"
        ],
        [
         "93",
         "video of a church chior",
         "['video8336']",
         "['video7372', 'video7501', 'video7632', 'video8243', 'video8346', 'video8416', 'video8441', 'video8556', 'video8601', 'video8653', 'video8660', 'video8741', 'video8812', 'video8862', 'video8937', 'video9244', 'video9246', 'video9303', 'video9335', 'video9510', 'video9657', 'video9788']",
         "video8336",
         "video of a church chior"
        ],
        [
         "94",
         "a man talks back to a cop and handcuffs him to the table",
         "['video8808']",
         "['video7114', 'video7559', 'video7596', 'video7598', 'video7599', 'video7833', 'video8315', 'video8327', 'video8663', 'video8683', 'video8824', 'video8829', 'video8908', 'video8931', 'video9305', 'video9323', 'video9339', 'video9352', 'video9452', 'video9472', 'video9518', 'video9680', 'video9811', 'video9824']",
         "video8808",
         "a man talks back to a cop and handcuffs him to the table"
        ],
        [
         "95",
         "a group discusses a man s outfit",
         "['video7159']",
         "['video7029', 'video7153', 'video7200', 'video7418', 'video7554', 'video7755', 'video7797', 'video7833', 'video7845', 'video8318', 'video8573', 'video8653', 'video8796', 'video8806', 'video8917', 'video9245', 'video9320', 'video9474', 'video9511', 'video9684', 'video9731', 'video9734', 'video9774', 'video9790', 'video9885']",
         "video7159",
         "a group discusses a man s outfit"
        ],
        [
         "96",
         "a man in black suit is talking about deforestation and about climate change",
         "['video9418']",
         "['video7135', 'video7356', 'video7412', 'video7501', 'video7546', 'video7588', 'video7610', 'video7753', 'video7790', 'video7799', 'video7834', 'video7890', 'video8120', 'video8794', 'video8862', 'video8936', 'video9010', 'video9017', 'video9019', 'video9037', 'video9240', 'video9406', 'video9474', 'video9821']",
         "video9418",
         "a man in black suit is talking about deforestation and about climate change"
        ],
        [
         "98",
         "a lady describes about workout and exercises for women",
         "['video7724']",
         "['video7134', 'video7145', 'video7170', 'video7368', 'video7580', 'video7757', 'video7782', 'video7836', 'video7947', 'video8119', 'video8123', 'video8322', 'video8479', 'video8669', 'video8679', 'video8816', 'video8907', 'video9200', 'video9579', 'video9580', 'video9657', 'video9824', 'video9830']",
         "video7724",
         "a lady describes about workout and exercises for women"
        ],
        [
         "100",
         "somebody slices white onion with sharp knife on the table",
         "['video7799']",
         "['video7029', 'video7153', 'video7500', 'video7554', 'video7730', 'video7939', 'video7966', 'video8056', 'video8318', 'video8573', 'video8686', 'video8915', 'video9320', 'video9349', 'video9359', 'video9403', 'video9684', 'video9731', 'video9734', 'video9798', 'video9882']",
         "video7799",
         "somebody slices white onion with sharp knife on the table"
        ],
        [
         "104",
         "a female journalist wearing a purple shirt and white blazer is talking on a news show next to the image of a male in a dark suit",
         "['video7613']",
         "['video7119', 'video7145', 'video7726', 'video7823', 'video7947', 'video8048', 'video8247', 'video8254', 'video8264', 'video8317', 'video8333', 'video8446', 'video8469', 'video8494', 'video8578', 'video8650', 'video8789', 'video8822', 'video8832', 'video9204', 'video9230', 'video9474', 'video9821']",
         "video7613",
         "a female journalist wearing a purple shirt and white blazer is talking on a news show next to the image of a male in a dark suit"
        ],
        [
         "110",
         "a women is talking about the books she likes and the second favourite one is the amc the walking dead",
         "['video9698']",
         "['video7202', 'video7369', 'video7547', 'video7549', 'video7581', 'video7589', 'video7782', 'video7792', 'video7795', 'video7836', 'video8056', 'video8057', 'video8068', 'video8249', 'video8254', 'video8349', 'video8441', 'video8684', 'video8797', 'video8868', 'video9034', 'video9237', 'video9419', 'video9791', 'video9969']",
         "video9698",
         "a women is talking about the books she likes and the second favourite one is the amc the walking dead"
        ],
        [
         "112",
         "a guy chops up garlic and pours it over chicken frying in a pan",
         "['video7799']",
         "['video7034', 'video7147', 'video7151', 'video7214', 'video7370', 'video7914', 'video7970', 'video8079', 'video8266', 'video8323', 'video8329', 'video8447', 'video8479', 'video8657', 'video8662', 'video8834', 'video9244', 'video9333', 'video9335', 'video9575', 'video9687', 'video9691', 'video9694', 'video9798', 'video9815', 'video9885', 'video9909']",
         "video7799",
         "a guy chops up garlic and pours it over chicken frying in a pan"
        ],
        [
         "118",
         "a yellow sports car with a guy speaking about the car",
         "['video9975']",
         "['video7024', 'video7026', 'video7110', 'video7151', 'video7506', 'video7616', 'video7681', 'video7752', 'video7829', 'video7843', 'video7844', 'video7979', 'video8070', 'video8268', 'video8489', 'video8664', 'video8668', 'video8920', 'video9131', 'video9257', 'video9322', 'video9344', 'video9508', 'video9820']",
         "video9975",
         "a yellow sports car with a guy speaking about the car"
        ],
        [
         "126",
         "fox newscasters discuss chris christie and his poll numbers",
         "['video7731']",
         "['video7158', 'video7234', 'video7347', 'video7348', 'video7502', 'video7613', 'video7834', 'video8175', 'video8301', 'video8464', 'video8468', 'video8496', 'video8605', 'video8655', 'video8689', 'video8789', 'video8813', 'video8823', 'video8864', 'video9223', 'video9337', 'video9352', 'video9788']",
         "video7731",
         "fox newscasters discuss chris christie and his poll numbers"
        ],
        [
         "128",
         "people practising marshal arts",
         "['video9685']",
         "['video7110', 'video7131', 'video7178', 'video7346', 'video7593', 'video7919', 'video8049', 'video8472', 'video8499', 'video8772', 'video8816', 'video8930', 'video9063', 'video9235', 'video9244', 'video9309', 'video9404', 'video9679']",
         "video9685",
         "people practising marshal arts"
        ],
        [
         "129",
         "someone is putting a skeleton slide on a projector",
         "['video7829']",
         "['video7027', 'video7112', 'video7376', 'video7681', 'video7786', 'video7831', 'video7963', 'video8018', 'video8067', 'video8111', 'video8121', 'video8241', 'video8310', 'video8328', 'video8626', 'video8664', 'video8804', 'video8839', 'video9239', 'video9330', 'video9403', 'video9575', 'video9686', 'video9697', 'video9805']",
         "video7829",
         "someone is putting a skeleton slide on a projector"
        ],
        [
         "130",
         "views of two persons working on the super computer with the head phones on",
         "['video7969']",
         "['video7166', 'video7209', 'video7233', 'video7467', 'video7544', 'video7554', 'video7681', 'video7685', 'video7900', 'video8068', 'video8075', 'video8472', 'video8481', 'video8499', 'video8626', 'video8668', 'video8801', 'video8921', 'video9308', 'video9416', 'video9521', 'video9780', 'video9812']",
         "video7969",
         "views of two persons working on the super computer with the head phones on"
        ],
        [
         "132",
         "a man speaks to children in a classroom",
         "['video9775']",
         "['video7131', 'video7134', 'video7141', 'video7162', 'video7345', 'video7500', 'video7528', 'video7563', 'video7581', 'video7756', 'video7833', 'video7843', 'video8075', 'video8257', 'video8307', 'video8345', 'video8346', 'video8489', 'video9117', 'video9326', 'video9416', 'video9680', 'video9777', 'video9830', 'video9908']",
         "video9775",
         "a man speaks to children in a classroom"
        ],
        [
         "136",
         "vladmir putin talks on the news about the fight against terrorism",
         "['video7410']",
         "['video7060', 'video7061', 'video7216', 'video7235', 'video7374', 'video7466', 'video7586', 'video7757', 'video7835', 'video7839', 'video7967', 'video8122', 'video8311', 'video8325', 'video8441', 'video8497', 'video8650', 'video8741', 'video8864', 'video8906', 'video9015', 'video9205', 'video9235', 'video9690', 'video9778', 'video9908']",
         "video7410",
         "vladmir putin talks on the news about the fight against terrorism"
        ],
        [
         "143",
         "a dad plays video games with his son",
         "['video8116']",
         "['video7359', 'video7445', 'video7570', 'video7575', 'video7593', 'video7790', 'video7825', 'video7970', 'video8125', 'video8306', 'video8331', 'video8442', 'video8681', 'video8815', 'video8861', 'video8863', 'video9119', 'video9200', 'video9206', 'video9320', 'video9358', 'video9403', 'video9539', 'video9832']",
         "video8116",
         "a dad plays video games with his son"
        ],
        [
         "144",
         "a woman looks after abandoned children for free in her home",
         "['video8348']",
         "['video7203', 'video7222', 'video7359', 'video7364', 'video7466', 'video7574', 'video7732', 'video7780', 'video7825', 'video7843', 'video8072', 'video8303', 'video8326', 'video8445', 'video8463', 'video8751', 'video8774', 'video8780', 'video8899', 'video8905', 'video8913', 'video8948', 'video8979', 'video9237', 'video9576', 'video9816', 'video9823']",
         "video8348",
         "a woman looks after abandoned children for free in her home"
        ],
        [
         "153",
         "a group of people are stamp dancing on stage in front of a crowd",
         "['video9251']",
         "['video7141', 'video7202', 'video7351', 'video7468', 'video7501', 'video7725', 'video8324', 'video8336', 'video8457', 'video8556', 'video8812', 'video8820', 'video8914', 'video9010', 'video9063', 'video9519', 'video9589', 'video9657', 'video9770', 'video9814', 'video9957']",
         "video9251",
         "a group of people are stamp dancing on stage in front of a crowd"
        ],
        [
         "155",
         "animated video showing a bottle rolling across an empty hallway",
         "['video9324']",
         "['video7157', 'video7223', 'video7236', 'video7564', 'video7632', 'video7772', 'video8027', 'video8076', 'video8123', 'video8416', 'video8473', 'video8486', 'video8799', 'video8909', 'video8911', 'video9013', 'video9039', 'video9307']",
         "video9324",
         "animated video showing a bottle rolling across an empty hallway"
        ],
        [
         "159",
         "a blonde woman is speaking and then a radio button to subscribe to her webcasts appears",
         "['video8690']",
         "['video7138', 'video7145', 'video7166', 'video7229', 'video7549', 'video7754', 'video8313', 'video8316', 'video8486', 'video8654', 'video8867', 'video8906', 'video8919', 'video9204', 'video9207', 'video9347', 'video9489', 'video9512', 'video9575', 'video9577', 'video9795', 'video9871']",
         "video8690",
         "a blonde woman is speaking and then a radio button to subscribe to her webcasts appears"
        ]
       ],
       "shape": {
        "columns": 5,
        "rows": 314
       }
      },
      "text/html": [
       "<div>\n",
       "<style scoped>\n",
       "    .dataframe tbody tr th:only-of-type {\n",
       "        vertical-align: middle;\n",
       "    }\n",
       "\n",
       "    .dataframe tbody tr th {\n",
       "        vertical-align: top;\n",
       "    }\n",
       "\n",
       "    .dataframe thead th {\n",
       "        text-align: right;\n",
       "    }\n",
       "</style>\n",
       "<table border=\"1\" class=\"dataframe\">\n",
       "  <thead>\n",
       "    <tr style=\"text-align: right;\">\n",
       "      <th></th>\n",
       "      <th>query</th>\n",
       "      <th>relevant_ids</th>\n",
       "      <th>non_relevant_ids</th>\n",
       "      <th>video_id</th>\n",
       "      <th>sentence</th>\n",
       "    </tr>\n",
       "  </thead>\n",
       "  <tbody>\n",
       "    <tr>\n",
       "      <th>0</th>\n",
       "      <td>two parrots in a bird cage one white chick and...</td>\n",
       "      <td>[video8469]</td>\n",
       "      <td>[video7113, video7151, video7160, video7342, v...</td>\n",
       "      <td>video8469</td>\n",
       "      <td>two parrots in a bird cage one white chick and...</td>\n",
       "    </tr>\n",
       "    <tr>\n",
       "      <th>4</th>\n",
       "      <td>a man chopping lobster and taking off the shell</td>\n",
       "      <td>[video9687]</td>\n",
       "      <td>[video7147, video7462, video7559, video7699, v...</td>\n",
       "      <td>video9687</td>\n",
       "      <td>a man chopping lobster and taking off the shell</td>\n",
       "    </tr>\n",
       "    <tr>\n",
       "      <th>5</th>\n",
       "      <td>two women are walking in a parking lot</td>\n",
       "      <td>[video7698]</td>\n",
       "      <td>[video7138, video7177, video7212, video7223, v...</td>\n",
       "      <td>video7698</td>\n",
       "      <td>two women are walking in a parking lot</td>\n",
       "    </tr>\n",
       "    <tr>\n",
       "      <th>8</th>\n",
       "      <td>a woman is talking about how jeans with patche...</td>\n",
       "      <td>[video9503]</td>\n",
       "      <td>[video7233, video7544, video7549, video7572, v...</td>\n",
       "      <td>video9503</td>\n",
       "      <td>a woman is talking about how jeans with patche...</td>\n",
       "    </tr>\n",
       "    <tr>\n",
       "      <th>9</th>\n",
       "      <td>a naked child runs through a field</td>\n",
       "      <td>[video8903]</td>\n",
       "      <td>[video7021, video7155, video7217, video7363, v...</td>\n",
       "      <td>video8903</td>\n",
       "      <td>a naked child runs through a field</td>\n",
       "    </tr>\n",
       "    <tr>\n",
       "      <th>...</th>\n",
       "      <td>...</td>\n",
       "      <td>...</td>\n",
       "      <td>...</td>\n",
       "      <td>...</td>\n",
       "      <td>...</td>\n",
       "    </tr>\n",
       "    <tr>\n",
       "      <th>987</th>\n",
       "      <td>selena gomez clips of her videos and her danci...</td>\n",
       "      <td>[video9801]</td>\n",
       "      <td>[video7111, video7162, video7370, video7411, v...</td>\n",
       "      <td>video9801</td>\n",
       "      <td>selena gomez clips of her videos and her danci...</td>\n",
       "    </tr>\n",
       "    <tr>\n",
       "      <th>990</th>\n",
       "      <td>video of gymasts practicing to roll</td>\n",
       "      <td>[video8267]</td>\n",
       "      <td>[video7111, video7118, video7131, video7153, v...</td>\n",
       "      <td>video8267</td>\n",
       "      <td>video of gymasts practicing to roll</td>\n",
       "    </tr>\n",
       "    <tr>\n",
       "      <th>991</th>\n",
       "      <td>a woman walking along side a river in a bikini</td>\n",
       "      <td>[video8928]</td>\n",
       "      <td>[video7142, video7152, video7204, video7598, v...</td>\n",
       "      <td>video8928</td>\n",
       "      <td>a woman walking along side a river in a bikini</td>\n",
       "    </tr>\n",
       "    <tr>\n",
       "      <th>993</th>\n",
       "      <td>a little girl talking to her and is scared</td>\n",
       "      <td>[video7782]</td>\n",
       "      <td>[video7118, video7587, video7946, video8018, v...</td>\n",
       "      <td>video7782</td>\n",
       "      <td>a little girl talking to her and is scared</td>\n",
       "    </tr>\n",
       "    <tr>\n",
       "      <th>994</th>\n",
       "      <td>a man talks to a little boy about not letting ...</td>\n",
       "      <td>[video9230]</td>\n",
       "      <td>[video7346, video7413, video7542, video7579, v...</td>\n",
       "      <td>video9230</td>\n",
       "      <td>a man talks to a little boy about not letting ...</td>\n",
       "    </tr>\n",
       "  </tbody>\n",
       "</table>\n",
       "<p>314 rows × 5 columns</p>\n",
       "</div>"
      ],
      "text/plain": [
       "                                                 query relevant_ids  \\\n",
       "0    two parrots in a bird cage one white chick and...  [video8469]   \n",
       "4      a man chopping lobster and taking off the shell  [video9687]   \n",
       "5               two women are walking in a parking lot  [video7698]   \n",
       "8    a woman is talking about how jeans with patche...  [video9503]   \n",
       "9                   a naked child runs through a field  [video8903]   \n",
       "..                                                 ...          ...   \n",
       "987  selena gomez clips of her videos and her danci...  [video9801]   \n",
       "990                video of gymasts practicing to roll  [video8267]   \n",
       "991     a woman walking along side a river in a bikini  [video8928]   \n",
       "993         a little girl talking to her and is scared  [video7782]   \n",
       "994  a man talks to a little boy about not letting ...  [video9230]   \n",
       "\n",
       "                                      non_relevant_ids   video_id  \\\n",
       "0    [video7113, video7151, video7160, video7342, v...  video8469   \n",
       "4    [video7147, video7462, video7559, video7699, v...  video9687   \n",
       "5    [video7138, video7177, video7212, video7223, v...  video7698   \n",
       "8    [video7233, video7544, video7549, video7572, v...  video9503   \n",
       "9    [video7021, video7155, video7217, video7363, v...  video8903   \n",
       "..                                                 ...        ...   \n",
       "987  [video7111, video7162, video7370, video7411, v...  video9801   \n",
       "990  [video7111, video7118, video7131, video7153, v...  video8267   \n",
       "991  [video7142, video7152, video7204, video7598, v...  video8928   \n",
       "993  [video7118, video7587, video7946, video8018, v...  video7782   \n",
       "994  [video7346, video7413, video7542, video7579, v...  video9230   \n",
       "\n",
       "                                              sentence  \n",
       "0    two parrots in a bird cage one white chick and...  \n",
       "4      a man chopping lobster and taking off the shell  \n",
       "5               two women are walking in a parking lot  \n",
       "8    a woman is talking about how jeans with patche...  \n",
       "9                   a naked child runs through a field  \n",
       "..                                                 ...  \n",
       "987  selena gomez clips of her videos and her danci...  \n",
       "990                video of gymasts practicing to roll  \n",
       "991     a woman walking along side a river in a bikini  \n",
       "993         a little girl talking to her and is scared  \n",
       "994  a man talks to a little boy about not letting ...  \n",
       "\n",
       "[314 rows x 5 columns]"
      ]
     },
     "execution_count": 127,
     "metadata": {},
     "output_type": "execute_result"
    }
   ],
   "source": [
    "video_ids_in_sample = set(raw_samples_df[\"video_id\"].apply(lambda x: int(x[len(\"video\"):])))\n",
    "final_fire_jud = fire_judgements_single_result[fire_judgements_single_result[\"relevant_ids\"].apply(lambda x: int(x[0][len(\"video\"):]) in video_ids_in_sample)]\n",
    "final_fire_jud['video_id'] = final_fire_jud['relevant_ids'].apply(lambda x: x[0])\n",
    "final_fire_jud['sentence'] = final_fire_jud['query']\n",
    "final_fire_jud"
   ]
  },
  {
   "cell_type": "code",
   "execution_count": 128,
   "id": "9c926cab",
   "metadata": {},
   "outputs": [],
   "source": [
    "# Create csv to be used in query pipeline\n",
    "final_fire_jud.to_csv(FIRE_BENCHMARK_Q_JUDGEMENTS)"
   ]
  },
  {
   "cell_type": "code",
   "execution_count": 129,
   "id": "4409ffc5",
   "metadata": {},
   "outputs": [],
   "source": [
    "# Run query pipeline using FIRE\n",
    "fire_query_results = DataCollection(video_search_pipeline(FIRE_BENCHMARK_Q_JUDGEMENTS))"
   ]
  },
  {
   "cell_type": "code",
   "execution_count": 133,
   "id": "1f552035",
   "metadata": {},
   "outputs": [
    {
     "data": {
      "text/plain": [
       "{'recall@1': 0.5732484076433121,\n",
       " 'recall@5': 0.821656050955414,\n",
       " 'recall@10': 0.9076433121019108,\n",
       " 'map': 0.6800513092710544,\n",
       " 'ndcg@1': 0.5732484076433121,\n",
       " 'ndcg@5': 0.7064313418462581,\n",
       " 'ndcg@10': 0.7348170561659407}"
      ]
     },
     "execution_count": 133,
     "metadata": {},
     "output_type": "execute_result"
    }
   ],
   "source": [
    "get_all_eval_scores(twohee_data_col_to_df(fire_query_results))"
   ]
  }
 ],
 "metadata": {
  "kernelspec": {
   "display_name": "info-ret-proj",
   "language": "python",
   "name": "python3"
  },
  "language_info": {
   "codemirror_mode": {
    "name": "ipython",
    "version": 3
   },
   "file_extension": ".py",
   "mimetype": "text/x-python",
   "name": "python",
   "nbconvert_exporter": "python",
   "pygments_lexer": "ipython3",
   "version": "3.10.16"
  }
 },
 "nbformat": 4,
 "nbformat_minor": 5
}
