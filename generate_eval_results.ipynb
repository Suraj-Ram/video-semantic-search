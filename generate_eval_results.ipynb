{
 "cells": [
  {
   "cell_type": "code",
   "execution_count": 1,
   "id": "60462a7f",
   "metadata": {},
   "outputs": [],
   "source": [
    "import pandas as pd\n",
    "from helpers.eval_utils import get_all_eval_scores"
   ]
  },
  {
   "cell_type": "code",
   "execution_count": 2,
   "id": "8f892917",
   "metadata": {},
   "outputs": [],
   "source": [
    "# Hyperparameter tuning results"
   ]
  },
  {
   "cell_type": "code",
   "execution_count": 3,
   "id": "01dd37bc",
   "metadata": {},
   "outputs": [],
   "source": [
    "# Name -> file\n",
    "EXPERIMENT_FILE_MAPPING = {\n",
    "    \"CLIP4CLIP uts=4\": \"query_results/c4c_hyp_tuning_uv_4.csv\",\n",
    "    \"CLIP4CLIP uts=6\": \"query_results/c4c_hyp_tuning_uv_6.csv\",\n",
    "    \"CLIP4CLIP uts=8\": \"query_results/c4c_hyp_tuning_uv_8.csv\",\n",
    "    \"CLIP4CLIP uts=10\": \"query_results/c4c_hyp_tuning_uv_10.csv\",\n",
    "    \"CLIP4CLIP uts=12\": \"query_results/c4c_hyp_tuning_uv_12.csv\",\n",
    "}"
   ]
  },
  {
   "cell_type": "code",
   "execution_count": 4,
   "id": "33e32c64",
   "metadata": {},
   "outputs": [],
   "source": [
    "# Deserialize the 'top1', 'top5', and 'top10' columns into structured DataFrames\n",
    "def deserialize_df(df):\n",
    "    deserialized_df = df.copy()\n",
    "    for col in ['top1', 'top5', 'top10']:\n",
    "        deserialized_df[col] = deserialized_df[col].apply(eval)  # Convert string representation to Python list\n",
    "    \n",
    "    return deserialized_df"
   ]
  },
  {
   "cell_type": "code",
   "execution_count": 7,
   "id": "f38896e0",
   "metadata": {},
   "outputs": [],
   "source": [
    "\n",
    "e_results = []\n",
    "e_names = []\n",
    "e_dfs = []\n",
    "for e_name, q_results in EXPERIMENT_FILE_MAPPING.items():\n",
    "    df = pd.read_csv(q_results)\n",
    "    deserialized_df = deserialize_df(df)\n",
    "    e_dfs.append(deserialized_df)\n",
    "    scores = get_all_eval_scores(deserialized_df, as_pct=True)\n",
    "    e_names.append(e_name)\n",
    "    e_results.append(scores)\n",
    "    \n",
    "results_df = pd.DataFrame(e_results, index=e_names)\n",
    "    \n",
    "styled_scores = results_df.style.set_caption(\"CLIP4CLIP Hyper-parameter Tuning\").format(\"{:.1f}\")"
   ]
  },
  {
   "cell_type": "code",
   "execution_count": 8,
   "id": "a6cd159d",
   "metadata": {},
   "outputs": [
    {
     "data": {
      "text/html": [
       "<style type=\"text/css\">\n",
       "</style>\n",
       "<table id=\"T_0ede9\">\n",
       "  <caption>CLIP4CLIP Hyper-parameter Tuning</caption>\n",
       "  <thead>\n",
       "    <tr>\n",
       "      <th class=\"blank level0\" >&nbsp;</th>\n",
       "      <th id=\"T_0ede9_level0_col0\" class=\"col_heading level0 col0\" >recall@1</th>\n",
       "      <th id=\"T_0ede9_level0_col1\" class=\"col_heading level0 col1\" >recall@5</th>\n",
       "      <th id=\"T_0ede9_level0_col2\" class=\"col_heading level0 col2\" >recall@10</th>\n",
       "      <th id=\"T_0ede9_level0_col3\" class=\"col_heading level0 col3\" >map</th>\n",
       "      <th id=\"T_0ede9_level0_col4\" class=\"col_heading level0 col4\" >ndcg@1</th>\n",
       "      <th id=\"T_0ede9_level0_col5\" class=\"col_heading level0 col5\" >ndcg@5</th>\n",
       "      <th id=\"T_0ede9_level0_col6\" class=\"col_heading level0 col6\" >ndcg@10</th>\n",
       "    </tr>\n",
       "  </thead>\n",
       "  <tbody>\n",
       "    <tr>\n",
       "      <th id=\"T_0ede9_level0_row0\" class=\"row_heading level0 row0\" >CLIP4CLIP uts=4</th>\n",
       "      <td id=\"T_0ede9_row0_col0\" class=\"data row0 col0\" >38.7</td>\n",
       "      <td id=\"T_0ede9_row0_col1\" class=\"data row0 col1\" >67.4</td>\n",
       "      <td id=\"T_0ede9_row0_col2\" class=\"data row0 col2\" >78.8</td>\n",
       "      <td id=\"T_0ede9_row0_col3\" class=\"data row0 col3\" >50.9</td>\n",
       "      <td id=\"T_0ede9_row0_col4\" class=\"data row0 col4\" >38.7</td>\n",
       "      <td id=\"T_0ede9_row0_col5\" class=\"data row0 col5\" >53.9</td>\n",
       "      <td id=\"T_0ede9_row0_col6\" class=\"data row0 col6\" >57.6</td>\n",
       "    </tr>\n",
       "    <tr>\n",
       "      <th id=\"T_0ede9_level0_row1\" class=\"row_heading level0 row1\" >CLIP4CLIP uts=6</th>\n",
       "      <td id=\"T_0ede9_row1_col0\" class=\"data row1 col0\" >41.1</td>\n",
       "      <td id=\"T_0ede9_row1_col1\" class=\"data row1 col1\" >70.8</td>\n",
       "      <td id=\"T_0ede9_row1_col2\" class=\"data row1 col2\" >79.5</td>\n",
       "      <td id=\"T_0ede9_row1_col3\" class=\"data row1 col3\" >53.3</td>\n",
       "      <td id=\"T_0ede9_row1_col4\" class=\"data row1 col4\" >41.1</td>\n",
       "      <td id=\"T_0ede9_row1_col5\" class=\"data row1 col5\" >56.8</td>\n",
       "      <td id=\"T_0ede9_row1_col6\" class=\"data row1 col6\" >59.6</td>\n",
       "    </tr>\n",
       "    <tr>\n",
       "      <th id=\"T_0ede9_level0_row2\" class=\"row_heading level0 row2\" >CLIP4CLIP uts=8</th>\n",
       "      <td id=\"T_0ede9_row2_col0\" class=\"data row2 col0\" >43.2</td>\n",
       "      <td id=\"T_0ede9_row2_col1\" class=\"data row2 col1\" >70.5</td>\n",
       "      <td id=\"T_0ede9_row2_col2\" class=\"data row2 col2\" >79.9</td>\n",
       "      <td id=\"T_0ede9_row2_col3\" class=\"data row2 col3\" >54.4</td>\n",
       "      <td id=\"T_0ede9_row2_col4\" class=\"data row2 col4\" >43.2</td>\n",
       "      <td id=\"T_0ede9_row2_col5\" class=\"data row2 col5\" >57.5</td>\n",
       "      <td id=\"T_0ede9_row2_col6\" class=\"data row2 col6\" >60.5</td>\n",
       "    </tr>\n",
       "    <tr>\n",
       "      <th id=\"T_0ede9_level0_row3\" class=\"row_heading level0 row3\" >CLIP4CLIP uts=10</th>\n",
       "      <td id=\"T_0ede9_row3_col0\" class=\"data row3 col0\" >43.0</td>\n",
       "      <td id=\"T_0ede9_row3_col1\" class=\"data row3 col1\" >70.6</td>\n",
       "      <td id=\"T_0ede9_row3_col2\" class=\"data row3 col2\" >80.9</td>\n",
       "      <td id=\"T_0ede9_row3_col3\" class=\"data row3 col3\" >54.7</td>\n",
       "      <td id=\"T_0ede9_row3_col4\" class=\"data row3 col4\" >43.0</td>\n",
       "      <td id=\"T_0ede9_row3_col5\" class=\"data row3 col5\" >57.6</td>\n",
       "      <td id=\"T_0ede9_row3_col6\" class=\"data row3 col6\" >61.0</td>\n",
       "    </tr>\n",
       "    <tr>\n",
       "      <th id=\"T_0ede9_level0_row4\" class=\"row_heading level0 row4\" >CLIP4CLIP uts=12</th>\n",
       "      <td id=\"T_0ede9_row4_col0\" class=\"data row4 col0\" >42.6</td>\n",
       "      <td id=\"T_0ede9_row4_col1\" class=\"data row4 col1\" >71.6</td>\n",
       "      <td id=\"T_0ede9_row4_col2\" class=\"data row4 col2\" >81.4</td>\n",
       "      <td id=\"T_0ede9_row4_col3\" class=\"data row4 col3\" >54.6</td>\n",
       "      <td id=\"T_0ede9_row4_col4\" class=\"data row4 col4\" >42.6</td>\n",
       "      <td id=\"T_0ede9_row4_col5\" class=\"data row4 col5\" >57.8</td>\n",
       "      <td id=\"T_0ede9_row4_col6\" class=\"data row4 col6\" >61.0</td>\n",
       "    </tr>\n",
       "  </tbody>\n",
       "</table>\n"
      ],
      "text/plain": [
       "<pandas.io.formats.style.Styler at 0x137ed11e0>"
      ]
     },
     "execution_count": 8,
     "metadata": {},
     "output_type": "execute_result"
    }
   ],
   "source": [
    "styled_scores"
   ]
  }
 ],
 "metadata": {
  "kernelspec": {
   "display_name": "info-ret-proj",
   "language": "python",
   "name": "python3"
  },
  "language_info": {
   "codemirror_mode": {
    "name": "ipython",
    "version": 3
   },
   "file_extension": ".py",
   "mimetype": "text/x-python",
   "name": "python",
   "nbconvert_exporter": "python",
   "pygments_lexer": "ipython3",
   "version": "3.10.16"
  }
 },
 "nbformat": 4,
 "nbformat_minor": 5
}
