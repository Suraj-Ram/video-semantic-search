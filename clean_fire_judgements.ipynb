{
 "cells": [
  {
   "cell_type": "markdown",
   "id": "75248dac",
   "metadata": {},
   "source": [
    "We are working with a sample of MSR-VTT and our evaluation pipeline supports only one relevant query per video, hence we need to filter the full FIRE benchmark to only include videos we have sampled and ones with a single relevant result."
   ]
  },
  {
   "cell_type": "code",
   "execution_count": 1,
   "id": "2b109c1f",
   "metadata": {},
   "outputs": [],
   "source": [
    "FIRE_MSRVTT_RAW = \"data/FIRE/fire-data/fire_msrvtt_dataset.json\"\n",
    "FIRE_BENCHMARK_Q_JUDGEMENTS = \"./fire_benchmark_q_judgements.csv\""
   ]
  },
  {
   "cell_type": "code",
   "execution_count": 3,
   "id": "6644f75e",
   "metadata": {},
   "outputs": [
    {
     "data": {
      "application/vnd.microsoft.datawrangler.viewer.v0+json": {
       "columns": [
        {
         "name": "index",
         "rawType": "int64",
         "type": "integer"
        },
        {
         "name": "annotator_ids",
         "rawType": "object",
         "type": "unknown"
        },
        {
         "name": "label",
         "rawType": "object",
         "type": "string"
        },
        {
         "name": "video_id",
         "rawType": "object",
         "type": "string"
        },
        {
         "name": "query",
         "rawType": "object",
         "type": "string"
        },
        {
         "name": "annotator_labels",
         "rawType": "object",
         "type": "unknown"
        },
        {
         "name": "response_ids",
         "rawType": "object",
         "type": "unknown"
        },
        {
         "name": "queue_ids",
         "rawType": "object",
         "type": "unknown"
        },
        {
         "name": "models",
         "rawType": "object",
         "type": "unknown"
        },
        {
         "name": "dataset",
         "rawType": "object",
         "type": "string"
        }
       ],
       "conversionMethod": "pd.DataFrame",
       "ref": "e964447f-11e9-40e9-bed3-6a7fdcd3f9e4",
       "rows": [
        [
         "0",
         "[84]",
         "irrelevant",
         "video7026",
         "a 3d animation of a cabinet with plates",
         "['irrelevant']",
         "[514705627045591]",
         "[4985131491553502]",
         "['CE']",
         "MSRVTT"
        ],
        [
         "1",
         "[62]",
         "irrelevant",
         "video7418",
         "a 3d animation of a cabinet with plates",
         "['irrelevant']",
         "[1009913593254130]",
         "[4985131491553502]",
         "['CE']",
         "MSRVTT"
        ],
        [
         "2",
         "[50]",
         "irrelevant",
         "video7763",
         "a 3d animation of a cabinet with plates",
         "['irrelevant']",
         "[3280646372150702]",
         "[4995314980504271]",
         "['SSB']",
         "MSRVTT"
        ],
        [
         "3",
         "[67]",
         "relevant",
         "video7768",
         "a 3d animation of a cabinet with plates",
         "['relevant']",
         "[1014281349443178]",
         "[5083898558315210]",
         "['CLIP4CLIP']",
         "MSRVTT"
        ],
        [
         "4",
         "[55]",
         "irrelevant",
         "video7822",
         "a 3d animation of a cabinet with plates",
         "['irrelevant']",
         "[2619512781525857]",
         "[4995314980504271]",
         "['SSB']",
         "MSRVTT"
        ],
        [
         "5",
         "[69]",
         "irrelevant",
         "video7826",
         "a 3d animation of a cabinet with plates",
         "['irrelevant']",
         "[469542828205931]",
         "[4995314980504271]",
         "['SSB']",
         "MSRVTT"
        ],
        [
         "6",
         "[5]",
         "irrelevant",
         "video7900",
         "a 3d animation of a cabinet with plates",
         "['irrelevant']",
         "[500567868400592]",
         "[5083898558315210]",
         "['CLIP4CLIP']",
         "MSRVTT"
        ],
        [
         "7",
         "[95]",
         "irrelevant",
         "video7972",
         "a 3d animation of a cabinet with plates",
         "['irrelevant']",
         "[758326825054551]",
         "[4995314980504271]",
         "['SSB']",
         "MSRVTT"
        ],
        [
         "8",
         "[43]",
         "irrelevant",
         "video8262",
         "a 3d animation of a cabinet with plates",
         "['irrelevant']",
         "[935801370468176]",
         "[4995314980504271]",
         "['SSB']",
         "MSRVTT"
        ],
        [
         "9",
         "[38]",
         "irrelevant",
         "video8328",
         "a 3d animation of a cabinet with plates",
         "['irrelevant']",
         "[1624670604550339]",
         "[5083898558315210]",
         "['CLIP4CLIP']",
         "MSRVTT"
        ],
        [
         "10",
         "[67]",
         "irrelevant",
         "video8342",
         "a 3d animation of a cabinet with plates",
         "['irrelevant']",
         "[1161925504347266]",
         "[4995314980504271]",
         "['SSB']",
         "MSRVTT"
        ],
        [
         "11",
         "[122]",
         "irrelevant",
         "video8344",
         "a 3d animation of a cabinet with plates",
         "['irrelevant']",
         "[1094863684425789]",
         "[4995314980504271]",
         "['SSB']",
         "MSRVTT"
        ],
        [
         "12",
         "[48]",
         "irrelevant",
         "video8473",
         "a 3d animation of a cabinet with plates",
         "['irrelevant']",
         "[793827344910643]",
         "[5083898558315210]",
         "['CLIP4CLIP']",
         "MSRVTT"
        ],
        [
         "13",
         "[119]",
         "irrelevant",
         "video8787",
         "a 3d animation of a cabinet with plates",
         "['irrelevant']",
         "[730280781292007]",
         "[5083898558315210]",
         "['CLIP4CLIP']",
         "MSRVTT"
        ],
        [
         "14",
         "[95]",
         "irrelevant",
         "video8862",
         "a 3d animation of a cabinet with plates",
         "['irrelevant']",
         "[452206656701244]",
         "[5083898558315210]",
         "['CLIP4CLIP']",
         "MSRVTT"
        ],
        [
         "15",
         "[64]",
         "irrelevant",
         "video8867",
         "a 3d animation of a cabinet with plates",
         "['irrelevant']",
         "[3218006165122078]",
         "[4995314980504271]",
         "['SSB']",
         "MSRVTT"
        ],
        [
         "16",
         "[65]",
         "irrelevant",
         "video8911",
         "a 3d animation of a cabinet with plates",
         "['irrelevant']",
         "[302335468695193]",
         "[5083898558315210]",
         "['CLIP4CLIP']",
         "MSRVTT"
        ],
        [
         "17",
         "[49]",
         "irrelevant",
         "video8919",
         "a 3d animation of a cabinet with plates",
         "['irrelevant']",
         "[5145390355482839]",
         "[4985131491553502]",
         "['CE']",
         "MSRVTT"
        ],
        [
         "18",
         "[50]",
         "irrelevant",
         "video9458",
         "a 3d animation of a cabinet with plates",
         "['irrelevant']",
         "[572806930384579]",
         "[5083898558315210]",
         "['CLIP4CLIP']",
         "MSRVTT"
        ],
        [
         "19",
         "[12]",
         "relevant",
         "video9679",
         "a 3d animation of a cabinet with plates",
         "['relevant']",
         "[930926670935139]",
         "[5083898558315210]",
         "['CLIP4CLIP']",
         "MSRVTT"
        ],
        [
         "20",
         "[118, 69]",
         "irrelevant",
         "video9777",
         "a 3d animation of a cabinet with plates",
         "['irrelevant', 'irrelevant']",
         "[275301831423344, 394983285798507]",
         "[4995314980504271, 4995314980504271]",
         "['SSB', 'SSB']",
         "MSRVTT"
        ],
        [
         "21",
         "[66]",
         "irrelevant",
         "video9820",
         "a 3d animation of a cabinet with plates",
         "['irrelevant']",
         "[661350844921109]",
         "[5083898558315210]",
         "['CLIP4CLIP']",
         "MSRVTT"
        ],
        [
         "22",
         "[84]",
         "irrelevant",
         "video7134",
         "a animated car going on the roads with blue mark on either sides",
         "['irrelevant']",
         "[992073428366325]",
         "[4995314980504271]",
         "['SSB']",
         "MSRVTT"
        ],
        [
         "23",
         "[44]",
         "irrelevant",
         "video7145",
         "a animated car going on the roads with blue mark on either sides",
         "['irrelevant']",
         "[1085379898708727]",
         "[4995314980504271]",
         "['SSB']",
         "MSRVTT"
        ],
        [
         "24",
         "[50]",
         "irrelevant",
         "video7209",
         "a animated car going on the roads with blue mark on either sides",
         "['irrelevant']",
         "[383911906645536]",
         "[5083898558315210]",
         "['CLIP4CLIP']",
         "MSRVTT"
        ],
        [
         "25",
         "[56]",
         "irrelevant",
         "video7218",
         "a animated car going on the roads with blue mark on either sides",
         "['irrelevant']",
         "[508104907670226]",
         "[4995314980504271]",
         "['SSB']",
         "MSRVTT"
        ],
        [
         "26",
         "[118]",
         "relevant",
         "video7464",
         "a animated car going on the roads with blue mark on either sides",
         "['relevant']",
         "[3144618499090956]",
         "[5083898558315210]",
         "['CLIP4CLIP']",
         "MSRVTT"
        ],
        [
         "27",
         "[41]",
         "irrelevant",
         "video7854",
         "a animated car going on the roads with blue mark on either sides",
         "['irrelevant']",
         "[1049509502580620]",
         "[4995314980504271]",
         "['SSB']",
         "MSRVTT"
        ],
        [
         "28",
         "[44]",
         "irrelevant",
         "video7965",
         "a animated car going on the roads with blue mark on either sides",
         "['irrelevant']",
         "[974747353160023]",
         "[5083898558315210]",
         "['CLIP4CLIP']",
         "MSRVTT"
        ],
        [
         "29",
         "[42]",
         "irrelevant",
         "video8089",
         "a animated car going on the roads with blue mark on either sides",
         "['irrelevant']",
         "[739252983730403]",
         "[5083898558315210]",
         "['CLIP4CLIP']",
         "MSRVTT"
        ],
        [
         "30",
         "[64]",
         "irrelevant",
         "video8248",
         "a animated car going on the roads with blue mark on either sides",
         "['irrelevant']",
         "[1384164008734121]",
         "[4995314980504271]",
         "['SSB']",
         "MSRVTT"
        ],
        [
         "31",
         "[26]",
         "irrelevant",
         "video8250",
         "a animated car going on the roads with blue mark on either sides",
         "['irrelevant']",
         "[395176879091059]",
         "[4995314980504271]",
         "['SSB']",
         "MSRVTT"
        ],
        [
         "32",
         "[87]",
         "irrelevant",
         "video8468",
         "a animated car going on the roads with blue mark on either sides",
         "['irrelevant']",
         "[999268364317971]",
         "[5083898558315210]",
         "['CLIP4CLIP']",
         "MSRVTT"
        ],
        [
         "33",
         "[67]",
         "relevant",
         "video8473",
         "a animated car going on the roads with blue mark on either sides",
         "['relevant']",
         "[3246375448982561]",
         "[4995314980504271]",
         "['SSB']",
         "MSRVTT"
        ],
        [
         "34",
         "[68]",
         "irrelevant",
         "video8819",
         "a animated car going on the roads with blue mark on either sides",
         "['irrelevant']",
         "[380481320349426]",
         "[5083898558315210]",
         "['CLIP4CLIP']",
         "MSRVTT"
        ],
        [
         "35",
         "[114]",
         "irrelevant",
         "video8895",
         "a animated car going on the roads with blue mark on either sides",
         "['irrelevant']",
         "[5223370774382526]",
         "[4995314980504271]",
         "['SSB']",
         "MSRVTT"
        ],
        [
         "36",
         "[38]",
         "irrelevant",
         "video8973",
         "a animated car going on the roads with blue mark on either sides",
         "['irrelevant']",
         "[1266800307056841]",
         "[5083898558315210]",
         "['CLIP4CLIP']",
         "MSRVTT"
        ],
        [
         "37",
         "[33]",
         "irrelevant",
         "video9258",
         "a animated car going on the roads with blue mark on either sides",
         "['irrelevant']",
         "[715547579467064]",
         "[4985131491553502]",
         "['CE']",
         "MSRVTT"
        ],
        [
         "38",
         "[43]",
         "irrelevant",
         "video9325",
         "a animated car going on the roads with blue mark on either sides",
         "['irrelevant']",
         "[345496164293504]",
         "[5083898558315210]",
         "['CLIP4CLIP']",
         "MSRVTT"
        ],
        [
         "39",
         "[59]",
         "irrelevant",
         "video9342",
         "a animated car going on the roads with blue mark on either sides",
         "['irrelevant']",
         "[451442969999911]",
         "[4985131491553502]",
         "['CE']",
         "MSRVTT"
        ],
        [
         "40",
         "[86, 69]",
         "irrelevant",
         "video9405",
         "a animated car going on the roads with blue mark on either sides",
         "['irrelevant', 'irrelevant']",
         "[450566936868393, 237415825212347]",
         "[4995314980504271, 4995314980504271]",
         "['SSB', 'SSB']",
         "MSRVTT"
        ],
        [
         "41",
         "[84]",
         "irrelevant",
         "video9580",
         "a animated car going on the roads with blue mark on either sides",
         "['irrelevant']",
         "[1141108430035524]",
         "[4995314980504271]",
         "['SSB']",
         "MSRVTT"
        ],
        [
         "42",
         "[12]",
         "irrelevant",
         "video9691",
         "a animated car going on the roads with blue mark on either sides",
         "['irrelevant']",
         "[549647526354164]",
         "[5083898558315210]",
         "['CLIP4CLIP']",
         "MSRVTT"
        ],
        [
         "43",
         "[86]",
         "irrelevant",
         "video9826",
         "a animated car going on the roads with blue mark on either sides",
         "['irrelevant']",
         "[500340451717015]",
         "[5083898558315210]",
         "['CLIP4CLIP']",
         "MSRVTT"
        ],
        [
         "44",
         "[65]",
         "irrelevant",
         "video7146",
         "a baby playing with a cats tail",
         "['irrelevant']",
         "[645661633390516]",
         "[5083898558315210]",
         "['CLIP4CLIP']",
         "MSRVTT"
        ],
        [
         "45",
         "[64]",
         "irrelevant",
         "video7173",
         "a baby playing with a cats tail",
         "['irrelevant']",
         "[283806587111362]",
         "[4995314980504271]",
         "['SSB']",
         "MSRVTT"
        ],
        [
         "46",
         "[22]",
         "irrelevant",
         "video7342",
         "a baby playing with a cats tail",
         "['irrelevant']",
         "[391389325780908]",
         "[5083898558315210]",
         "['CLIP4CLIP']",
         "MSRVTT"
        ],
        [
         "47",
         "[95]",
         "irrelevant",
         "video7552",
         "a baby playing with a cats tail",
         "['irrelevant']",
         "[666532134579097]",
         "[4985131491553502]",
         "['CE']",
         "MSRVTT"
        ],
        [
         "48",
         "[21]",
         "irrelevant",
         "video7570",
         "a baby playing with a cats tail",
         "['irrelevant']",
         "[370190025025196]",
         "[5083898558315210]",
         "['CLIP4CLIP']",
         "MSRVTT"
        ],
        [
         "49",
         "[40]",
         "irrelevant",
         "video7732",
         "a baby playing with a cats tail",
         "['irrelevant']",
         "[1851536561716619]",
         "[4985131491553502]",
         "['CE']",
         "MSRVTT"
        ]
       ],
       "shape": {
        "columns": 9,
        "rows": 24167
       }
      },
      "text/html": [
       "<div>\n",
       "<style scoped>\n",
       "    .dataframe tbody tr th:only-of-type {\n",
       "        vertical-align: middle;\n",
       "    }\n",
       "\n",
       "    .dataframe tbody tr th {\n",
       "        vertical-align: top;\n",
       "    }\n",
       "\n",
       "    .dataframe thead th {\n",
       "        text-align: right;\n",
       "    }\n",
       "</style>\n",
       "<table border=\"1\" class=\"dataframe\">\n",
       "  <thead>\n",
       "    <tr style=\"text-align: right;\">\n",
       "      <th></th>\n",
       "      <th>annotator_ids</th>\n",
       "      <th>label</th>\n",
       "      <th>video_id</th>\n",
       "      <th>query</th>\n",
       "      <th>annotator_labels</th>\n",
       "      <th>response_ids</th>\n",
       "      <th>queue_ids</th>\n",
       "      <th>models</th>\n",
       "      <th>dataset</th>\n",
       "    </tr>\n",
       "  </thead>\n",
       "  <tbody>\n",
       "    <tr>\n",
       "      <th>0</th>\n",
       "      <td>[84]</td>\n",
       "      <td>irrelevant</td>\n",
       "      <td>video7026</td>\n",
       "      <td>a 3d animation of a cabinet with plates</td>\n",
       "      <td>[irrelevant]</td>\n",
       "      <td>[514705627045591]</td>\n",
       "      <td>[4985131491553502]</td>\n",
       "      <td>[CE]</td>\n",
       "      <td>MSRVTT</td>\n",
       "    </tr>\n",
       "    <tr>\n",
       "      <th>1</th>\n",
       "      <td>[62]</td>\n",
       "      <td>irrelevant</td>\n",
       "      <td>video7418</td>\n",
       "      <td>a 3d animation of a cabinet with plates</td>\n",
       "      <td>[irrelevant]</td>\n",
       "      <td>[1009913593254130]</td>\n",
       "      <td>[4985131491553502]</td>\n",
       "      <td>[CE]</td>\n",
       "      <td>MSRVTT</td>\n",
       "    </tr>\n",
       "    <tr>\n",
       "      <th>2</th>\n",
       "      <td>[50]</td>\n",
       "      <td>irrelevant</td>\n",
       "      <td>video7763</td>\n",
       "      <td>a 3d animation of a cabinet with plates</td>\n",
       "      <td>[irrelevant]</td>\n",
       "      <td>[3280646372150702]</td>\n",
       "      <td>[4995314980504271]</td>\n",
       "      <td>[SSB]</td>\n",
       "      <td>MSRVTT</td>\n",
       "    </tr>\n",
       "    <tr>\n",
       "      <th>3</th>\n",
       "      <td>[67]</td>\n",
       "      <td>relevant</td>\n",
       "      <td>video7768</td>\n",
       "      <td>a 3d animation of a cabinet with plates</td>\n",
       "      <td>[relevant]</td>\n",
       "      <td>[1014281349443178]</td>\n",
       "      <td>[5083898558315210]</td>\n",
       "      <td>[CLIP4CLIP]</td>\n",
       "      <td>MSRVTT</td>\n",
       "    </tr>\n",
       "    <tr>\n",
       "      <th>4</th>\n",
       "      <td>[55]</td>\n",
       "      <td>irrelevant</td>\n",
       "      <td>video7822</td>\n",
       "      <td>a 3d animation of a cabinet with plates</td>\n",
       "      <td>[irrelevant]</td>\n",
       "      <td>[2619512781525857]</td>\n",
       "      <td>[4995314980504271]</td>\n",
       "      <td>[SSB]</td>\n",
       "      <td>MSRVTT</td>\n",
       "    </tr>\n",
       "    <tr>\n",
       "      <th>...</th>\n",
       "      <td>...</td>\n",
       "      <td>...</td>\n",
       "      <td>...</td>\n",
       "      <td>...</td>\n",
       "      <td>...</td>\n",
       "      <td>...</td>\n",
       "      <td>...</td>\n",
       "      <td>...</td>\n",
       "      <td>...</td>\n",
       "    </tr>\n",
       "    <tr>\n",
       "      <th>24162</th>\n",
       "      <td>[69]</td>\n",
       "      <td>irrelevant</td>\n",
       "      <td>video9770</td>\n",
       "      <td>young people sit around the edges of a room cl...</td>\n",
       "      <td>[irrelevant]</td>\n",
       "      <td>[310721911172645]</td>\n",
       "      <td>[4995314980504271]</td>\n",
       "      <td>[SSB]</td>\n",
       "      <td>MSRVTT</td>\n",
       "    </tr>\n",
       "    <tr>\n",
       "      <th>24163</th>\n",
       "      <td>[40]</td>\n",
       "      <td>irrelevant</td>\n",
       "      <td>video9788</td>\n",
       "      <td>young people sit around the edges of a room cl...</td>\n",
       "      <td>[irrelevant]</td>\n",
       "      <td>[5180951918610413]</td>\n",
       "      <td>[4985131491553502]</td>\n",
       "      <td>[CE]</td>\n",
       "      <td>MSRVTT</td>\n",
       "    </tr>\n",
       "    <tr>\n",
       "      <th>24164</th>\n",
       "      <td>[36]</td>\n",
       "      <td>irrelevant</td>\n",
       "      <td>video9814</td>\n",
       "      <td>young people sit around the edges of a room cl...</td>\n",
       "      <td>[irrelevant]</td>\n",
       "      <td>[498969301872125]</td>\n",
       "      <td>[4985131491553502]</td>\n",
       "      <td>[CE]</td>\n",
       "      <td>MSRVTT</td>\n",
       "    </tr>\n",
       "    <tr>\n",
       "      <th>24165</th>\n",
       "      <td>[57]</td>\n",
       "      <td>irrelevant</td>\n",
       "      <td>video9815</td>\n",
       "      <td>young people sit around the edges of a room cl...</td>\n",
       "      <td>[irrelevant]</td>\n",
       "      <td>[1154835725293034]</td>\n",
       "      <td>[5083898558315210]</td>\n",
       "      <td>[CLIP4CLIP]</td>\n",
       "      <td>MSRVTT</td>\n",
       "    </tr>\n",
       "    <tr>\n",
       "      <th>24166</th>\n",
       "      <td>[22]</td>\n",
       "      <td>irrelevant</td>\n",
       "      <td>video9957</td>\n",
       "      <td>young people sit around the edges of a room cl...</td>\n",
       "      <td>[irrelevant]</td>\n",
       "      <td>[4896432147140747]</td>\n",
       "      <td>[5083898558315210]</td>\n",
       "      <td>[CLIP4CLIP]</td>\n",
       "      <td>MSRVTT</td>\n",
       "    </tr>\n",
       "  </tbody>\n",
       "</table>\n",
       "<p>24167 rows × 9 columns</p>\n",
       "</div>"
      ],
      "text/plain": [
       "      annotator_ids       label   video_id  \\\n",
       "0              [84]  irrelevant  video7026   \n",
       "1              [62]  irrelevant  video7418   \n",
       "2              [50]  irrelevant  video7763   \n",
       "3              [67]    relevant  video7768   \n",
       "4              [55]  irrelevant  video7822   \n",
       "...             ...         ...        ...   \n",
       "24162          [69]  irrelevant  video9770   \n",
       "24163          [40]  irrelevant  video9788   \n",
       "24164          [36]  irrelevant  video9814   \n",
       "24165          [57]  irrelevant  video9815   \n",
       "24166          [22]  irrelevant  video9957   \n",
       "\n",
       "                                                   query annotator_labels  \\\n",
       "0                a 3d animation of a cabinet with plates     [irrelevant]   \n",
       "1                a 3d animation of a cabinet with plates     [irrelevant]   \n",
       "2                a 3d animation of a cabinet with plates     [irrelevant]   \n",
       "3                a 3d animation of a cabinet with plates       [relevant]   \n",
       "4                a 3d animation of a cabinet with plates     [irrelevant]   \n",
       "...                                                  ...              ...   \n",
       "24162  young people sit around the edges of a room cl...     [irrelevant]   \n",
       "24163  young people sit around the edges of a room cl...     [irrelevant]   \n",
       "24164  young people sit around the edges of a room cl...     [irrelevant]   \n",
       "24165  young people sit around the edges of a room cl...     [irrelevant]   \n",
       "24166  young people sit around the edges of a room cl...     [irrelevant]   \n",
       "\n",
       "             response_ids           queue_ids       models dataset  \n",
       "0       [514705627045591]  [4985131491553502]         [CE]  MSRVTT  \n",
       "1      [1009913593254130]  [4985131491553502]         [CE]  MSRVTT  \n",
       "2      [3280646372150702]  [4995314980504271]        [SSB]  MSRVTT  \n",
       "3      [1014281349443178]  [5083898558315210]  [CLIP4CLIP]  MSRVTT  \n",
       "4      [2619512781525857]  [4995314980504271]        [SSB]  MSRVTT  \n",
       "...                   ...                 ...          ...     ...  \n",
       "24162   [310721911172645]  [4995314980504271]        [SSB]  MSRVTT  \n",
       "24163  [5180951918610413]  [4985131491553502]         [CE]  MSRVTT  \n",
       "24164   [498969301872125]  [4985131491553502]         [CE]  MSRVTT  \n",
       "24165  [1154835725293034]  [5083898558315210]  [CLIP4CLIP]  MSRVTT  \n",
       "24166  [4896432147140747]  [5083898558315210]  [CLIP4CLIP]  MSRVTT  \n",
       "\n",
       "[24167 rows x 9 columns]"
      ]
     },
     "execution_count": 3,
     "metadata": {},
     "output_type": "execute_result"
    }
   ],
   "source": [
    "import json\n",
    "import pandas as pd\n",
    "\n",
    "def open_json(path):\n",
    "    with open(path) as f:\n",
    "        data = json.load(f)\n",
    "    return data\n",
    "\n",
    "fire_data = open_json(FIRE_MSRVTT_RAW)\n",
    "fire_judgements_raw_df = pd.DataFrame(fire_data[\"annotations\"])\n",
    "fire_judgements_raw_df"
   ]
  },
  {
   "cell_type": "code",
   "execution_count": 4,
   "id": "5012e2e7",
   "metadata": {},
   "outputs": [],
   "source": [
    "def get_cleaned_fire_judgements(raw_fire_annotations):\n",
    "    all_queries = [a[\"query\"] for a in raw_fire_annotations]\n",
    "    print(\"Total queries\", len(all_queries))\n",
    "    unique_queries = list(set(all_queries))\n",
    "    print(\"Unique queries\", len(unique_queries))\n",
    "    \n",
    "    # Initialize lists to store relevant and non-relevant IDs\n",
    "    relevant_ids = []\n",
    "    non_relevant_ids = []\n",
    "    \n",
    "    # Iterate through the first queries and categorize the IDs\n",
    "    for query in unique_queries:\n",
    "        relevant = []\n",
    "        non_relevant = []\n",
    "        for annotation in raw_fire_annotations:\n",
    "            if annotation[\"query\"] == query:\n",
    "                if annotation[\"label\"] == \"relevant\":\n",
    "                    relevant.append(annotation[\"video_id\"])\n",
    "                else:\n",
    "                    non_relevant.append(annotation[\"video_id\"])\n",
    "        relevant_ids.append(relevant)\n",
    "        non_relevant_ids.append(non_relevant)\n",
    "        \n",
    "\n",
    "    return pd.DataFrame({\n",
    "    \"query\": unique_queries,\n",
    "    \"relevant_ids\": relevant_ids,\n",
    "    \"non_relevant_ids\": non_relevant_ids\n",
    "    }).copy()\n",
    "    "
   ]
  },
  {
   "cell_type": "code",
   "execution_count": 6,
   "id": "c70592f9",
   "metadata": {},
   "outputs": [
    {
     "name": "stdout",
     "output_type": "stream",
     "text": [
      "Total queries 24167\n",
      "Unique queries 995\n",
      "Total queries 995\n"
     ]
    },
    {
     "data": {
      "application/vnd.microsoft.datawrangler.viewer.v0+json": {
       "columns": [
        {
         "name": "index",
         "rawType": "int64",
         "type": "integer"
        },
        {
         "name": "query",
         "rawType": "object",
         "type": "string"
        },
        {
         "name": "relevant_ids",
         "rawType": "object",
         "type": "unknown"
        },
        {
         "name": "non_relevant_ids",
         "rawType": "object",
         "type": "unknown"
        }
       ],
       "conversionMethod": "pd.DataFrame",
       "ref": "7bd722a5-b55d-4cb0-97ba-665e60776c9f",
       "rows": [
        [
         "0",
         "a person is singing in a studio",
         "['video7205', 'video7598', 'video8818']",
         "['video7156', 'video7213', 'video7367', 'video7575', 'video7596', 'video7688', 'video7780', 'video8265', 'video8327', 'video8663', 'video8808', 'video8811', 'video8931', 'video8948', 'video8978', 'video9304', 'video9352', 'video9515', 'video9518', 'video9776', 'video9806', 'video9837']"
        ],
        [
         "1",
         "a news reporter talks about a shooting",
         "['video8822', 'video8864', 'video9204']",
         "['video7178', 'video7346', 'video7593', 'video7919', 'video8311', 'video8334', 'video8472', 'video8650', 'video8772', 'video8789', 'video8930', 'video9309', 'video9323', 'video9404', 'video9685', 'video9750', 'video9829']"
        ],
        [
         "2",
         "sports vine clips of football",
         "['video7358', 'video7787', 'video7839', 'video8913', 'video8979', 'video9542', 'video9605', 'video9647']",
         "['video7029', 'video7373', 'video7548', 'video7698', 'video7789', 'video8265', 'video8663', 'video8806', 'video8922', 'video9029', 'video9231', 'video9233', 'video9803', 'video9825']"
        ],
        [
         "3",
         "sygornie weaver pointing a gun and then running",
         "['video9784']",
         "['video7207', 'video7362', 'video7368', 'video7545', 'video7615', 'video7757', 'video7780', 'video7947', 'video8305', 'video8675', 'video8780', 'video8788', 'video8811', 'video8903', 'video9235', 'video9244', 'video9252', 'video9451', 'video9750', 'video9818', 'video9824', 'video9837', 'video9885', 'video9909']"
        ],
        [
         "4",
         "a girl walking down a path",
         "['video7467', 'video9451', 'video9521']",
         "['video7372', 'video7556', 'video7747', 'video7837', 'video8014', 'video8461', 'video8673', 'video8676', 'video8678', 'video8806', 'video8978', 'video9220', 'video9307', 'video9347', 'video9348', 'video9409', 'video9581', 'video9687', 'video9832', 'video9878']"
        ]
       ],
       "shape": {
        "columns": 3,
        "rows": 5
       }
      },
      "text/html": [
       "<div>\n",
       "<style scoped>\n",
       "    .dataframe tbody tr th:only-of-type {\n",
       "        vertical-align: middle;\n",
       "    }\n",
       "\n",
       "    .dataframe tbody tr th {\n",
       "        vertical-align: top;\n",
       "    }\n",
       "\n",
       "    .dataframe thead th {\n",
       "        text-align: right;\n",
       "    }\n",
       "</style>\n",
       "<table border=\"1\" class=\"dataframe\">\n",
       "  <thead>\n",
       "    <tr style=\"text-align: right;\">\n",
       "      <th></th>\n",
       "      <th>query</th>\n",
       "      <th>relevant_ids</th>\n",
       "      <th>non_relevant_ids</th>\n",
       "    </tr>\n",
       "  </thead>\n",
       "  <tbody>\n",
       "    <tr>\n",
       "      <th>0</th>\n",
       "      <td>a person is singing in a studio</td>\n",
       "      <td>[video7205, video7598, video8818]</td>\n",
       "      <td>[video7156, video7213, video7367, video7575, v...</td>\n",
       "    </tr>\n",
       "    <tr>\n",
       "      <th>1</th>\n",
       "      <td>a news reporter talks about a shooting</td>\n",
       "      <td>[video8822, video8864, video9204]</td>\n",
       "      <td>[video7178, video7346, video7593, video7919, v...</td>\n",
       "    </tr>\n",
       "    <tr>\n",
       "      <th>2</th>\n",
       "      <td>sports vine clips of football</td>\n",
       "      <td>[video7358, video7787, video7839, video8913, v...</td>\n",
       "      <td>[video7029, video7373, video7548, video7698, v...</td>\n",
       "    </tr>\n",
       "    <tr>\n",
       "      <th>3</th>\n",
       "      <td>sygornie weaver pointing a gun and then running</td>\n",
       "      <td>[video9784]</td>\n",
       "      <td>[video7207, video7362, video7368, video7545, v...</td>\n",
       "    </tr>\n",
       "    <tr>\n",
       "      <th>4</th>\n",
       "      <td>a girl walking down a path</td>\n",
       "      <td>[video7467, video9451, video9521]</td>\n",
       "      <td>[video7372, video7556, video7747, video7837, v...</td>\n",
       "    </tr>\n",
       "  </tbody>\n",
       "</table>\n",
       "</div>"
      ],
      "text/plain": [
       "                                             query  \\\n",
       "0                  a person is singing in a studio   \n",
       "1           a news reporter talks about a shooting   \n",
       "2                    sports vine clips of football   \n",
       "3  sygornie weaver pointing a gun and then running   \n",
       "4                       a girl walking down a path   \n",
       "\n",
       "                                        relevant_ids  \\\n",
       "0                  [video7205, video7598, video8818]   \n",
       "1                  [video8822, video8864, video9204]   \n",
       "2  [video7358, video7787, video7839, video8913, v...   \n",
       "3                                        [video9784]   \n",
       "4                  [video7467, video9451, video9521]   \n",
       "\n",
       "                                    non_relevant_ids  \n",
       "0  [video7156, video7213, video7367, video7575, v...  \n",
       "1  [video7178, video7346, video7593, video7919, v...  \n",
       "2  [video7029, video7373, video7548, video7698, v...  \n",
       "3  [video7207, video7362, video7368, video7545, v...  \n",
       "4  [video7372, video7556, video7747, video7837, v...  "
      ]
     },
     "execution_count": 6,
     "metadata": {},
     "output_type": "execute_result"
    }
   ],
   "source": [
    "fire_judgements_df = get_cleaned_fire_judgements(fire_data[\"annotations\"])\n",
    "print(\"Total queries\", len(fire_judgements_df))\n",
    "fire_judgements_df.head()"
   ]
  },
  {
   "cell_type": "code",
   "execution_count": 7,
   "id": "d61120a1",
   "metadata": {},
   "outputs": [
    {
     "data": {
      "application/vnd.microsoft.datawrangler.viewer.v0+json": {
       "columns": [
        {
         "name": "index",
         "rawType": "int64",
         "type": "integer"
        },
        {
         "name": "query",
         "rawType": "object",
         "type": "string"
        },
        {
         "name": "relevant_ids",
         "rawType": "object",
         "type": "unknown"
        },
        {
         "name": "non_relevant_ids",
         "rawType": "object",
         "type": "unknown"
        }
       ],
       "conversionMethod": "pd.DataFrame",
       "ref": "78d5f85f-6816-4e5e-9587-ea6677469baa",
       "rows": [
        [
         "3",
         "sygornie weaver pointing a gun and then running",
         "['video9784']",
         "['video7207', 'video7362', 'video7368', 'video7545', 'video7615', 'video7757', 'video7780', 'video7947', 'video8305', 'video8675', 'video8780', 'video8788', 'video8811', 'video8903', 'video9235', 'video9244', 'video9252', 'video9451', 'video9750', 'video9818', 'video9824', 'video9837', 'video9885', 'video9909']"
        ],
        [
         "6",
         "a man a woman cooking on a cooking show",
         "['video8662']",
         "['video7141', 'video7415', 'video7542', 'video7572', 'video7688', 'video7695', 'video7724', 'video7799', 'video7916', 'video7939', 'video7968', 'video8011', 'video8257', 'video8327', 'video8444', 'video8450', 'video8807', 'video8913', 'video8934', 'video9337', 'video9680', 'video9693']"
        ],
        [
         "12",
         "a guy is talking over loud music at the end of a youtube video",
         "['video7028']",
         "['video7142', 'video7375', 'video7412', 'video7575', 'video7733', 'video7755', 'video7767', 'video7831', 'video7838', 'video8321', 'video8325', 'video8456', 'video8478', 'video8492', 'video8682', 'video8685', 'video8829', 'video9224', 'video9300', 'video9322', 'video9735', 'video9755']"
        ],
        [
         "17",
         "a lady describes about workout and exercises for women",
         "['video7724']",
         "['video7134', 'video7145', 'video7170', 'video7368', 'video7580', 'video7757', 'video7782', 'video7836', 'video7947', 'video8119', 'video8123', 'video8322', 'video8479', 'video8669', 'video8679', 'video8816', 'video8907', 'video9200', 'video9579', 'video9580', 'video9657', 'video9824', 'video9830']"
        ],
        [
         "20",
         "a video of a young man in a white shirt inviting his colleagues to join him",
         "['video7469']",
         "['video7118', 'video7131', 'video7169', 'video7345', 'video7491', 'video7597', 'video7912', 'video8129', 'video8423', 'video8456', 'video8459', 'video8472', 'video8606', 'video8664', 'video8678', 'video8819', 'video8837', 'video9232', 'video9253', 'video9620', 'video9781', 'video9809', 'video9835']"
        ],
        [
         "27",
         "a soldier is laying down",
         "['video8938']",
         "['video7025', 'video7035', 'video7142', 'video7178', 'video7357', 'video7371', 'video7373', 'video7574', 'video7589', 'video7733', 'video7827', 'video7835', 'video7838', 'video8252', 'video8266', 'video8333', 'video8499', 'video9015', 'video9208', 'video9235', 'video9255', 'video9333', 'video9503', 'video9793']"
        ],
        [
         "28",
         "the view of a boat and the water is blocked by clouds and fog",
         "['video8248']",
         "['video7134', 'video7145', 'video8025', 'video8071', 'video8250', 'video8307', 'video8312', 'video8473', 'video8477', 'video8860', 'video8895', 'video8910', 'video9253', 'video9359', 'video9405', 'video9451', 'video9578', 'video9580', 'video9581']"
        ],
        [
         "31",
         "red balloons float in the sky and have packages tied to them",
         "['video9405']",
         "['video7061', 'video7134', 'video7145', 'video7155', 'video7175', 'video7218', 'video7223', 'video7545', 'video7786', 'video8069', 'video8241', 'video8248', 'video8250', 'video8260', 'video8306', 'video8473', 'video8895', 'video9400', 'video9578', 'video9580', 'video9679', 'video9680', 'video9807']"
        ],
        [
         "33",
         "three soccer balls are laying in a field and then three men in black athletic cloths attempt to shoot a goal",
         "['video7776']",
         "['video7021', 'video7112', 'video7131', 'video7371', 'video7376', 'video7378', 'video7680', 'video7681', 'video7827', 'video8018', 'video8027', 'video8067', 'video8310', 'video8333', 'video8661', 'video8675', 'video8811', 'video8817', 'video9226', 'video9302', 'video9351', 'video9745', 'video9793', 'video9817']"
        ],
        [
         "34",
         "a cartoon woman cries at a bench while a woman in blue appears",
         "['video8110']",
         "['video7028', 'video7160', 'video7173', 'video7222', 'video7365', 'video7373', 'video7375', 'video7596', 'video7791', 'video7831', 'video7902', 'video8300', 'video8341', 'video8446', 'video8489', 'video8663', 'video8678', 'video8824', 'video8909', 'video8911', 'video9025', 'video9518', 'video9790']"
        ],
        [
         "36",
         "a commercial for the website called eharmony",
         "['video9607']",
         "['video7354', 'video7682', 'video7687', 'video7726', 'video7827', 'video7836', 'video8075', 'video8123', 'video8128', 'video8256', 'video8340', 'video8345', 'video8441', 'video8681', 'video8686', 'video8727', 'video8751', 'video8801', 'video8811', 'video8826', 'video9416', 'video9458', 'video9509', 'video9578', 'video9657', 'video9687', 'video9688', 'video9697']"
        ],
        [
         "39",
         "a group of zombis walking towards a very tall building with a globe in front of it",
         "['video9010']",
         "['video7214', 'video7223', 'video7545', 'video7580', 'video7632', 'video7747', 'video7914', 'video8061', 'video8071', 'video8259', 'video8266', 'video8306', 'video8741', 'video8803', 'video8839', 'video8903', 'video9245', 'video9355', 'video9549', 'video9575', 'video9686', 'video9689', 'video9691', 'video9784', 'video9909']"
        ],
        [
         "44",
         "different letters are coming out and sounding out the way they sound",
         "['video8799']",
         "['video7355', 'video7372', 'video7596', 'video7832', 'video7900', 'video8316', 'video8328', 'video8486', 'video8671', 'video8824', 'video8909', 'video9224', 'video9305', 'video9339', 'video9452', 'video9472', 'video9489', 'video9607', 'video9620', 'video9795', 'video9801']"
        ],
        [
         "47",
         "a man talking about a womans genital problems",
         "['video9782']",
         "['video7134', 'video7145', 'video7176', 'video7368', 'video7491', 'video7724', 'video7755', 'video7757', 'video7782', 'video7946', 'video8089', 'video8119', 'video8444', 'video8479', 'video8495', 'video8907', 'video8917', 'video9011', 'video9200', 'video9249', 'video9474', 'video9579', 'video9755', 'video9825', 'video9885']"
        ],
        [
         "48",
         "two people wear and touch their masks made to resemble a camera cube with centered black lens one of which is covered in colorful flowers",
         "['video9131']",
         "['video7137', 'video7140', 'video7173', 'video7223', 'video7228', 'video7374', 'video7552', 'video7571', 'video7756', 'video7978', 'video8061', 'video8068', 'video8125', 'video8306', 'video8320', 'video8626', 'video8909', 'video8937', 'video9231', 'video9235', 'video9305', 'video9677', 'video9744', 'video9803']"
        ],
        [
         "50",
         "a woman is reporting on keds commercials",
         "['video8481']",
         "['video7751', 'video7767', 'video8242', 'video8333', 'video8783', 'video8800', 'video8806', 'video8821', 'video8826', 'video8949', 'video9039', 'video9209', 'video9226', 'video9243', 'video9503', 'video9521', 'video9607', 'video9790', 'video9791', 'video9812', 'video9836']"
        ],
        [
         "53",
         "a person giving his opinion on how crowded the world is",
         "['video9406']",
         "['video7148', 'video7412', 'video7548', 'video7599', 'video7649', 'video7698', 'video7833', 'video7890', 'video8071', 'video8265', 'video8330', 'video8346', 'video8477', 'video8663', 'video8822', 'video9036', 'video9131', 'video9352', 'video9404', 'video9474', 'video9542', 'video9821', 'video9825']"
        ],
        [
         "54",
         "a man talks to a little boy about not letting people convince him that anything he wants to do in life isn t possible",
         "['video9230']",
         "['video7346', 'video7413', 'video7542', 'video7579', 'video7787', 'video8048', 'video8423', 'video8494', 'video8606', 'video8652', 'video8681', 'video8808', 'video8815', 'video8829', 'video8904', 'video8909', 'video8937', 'video8948', 'video9234', 'video9474', 'video9512', 'video9807']"
        ],
        [
         "58",
         "there are crocodiles about to eat the group of people walking across the water",
         "['video8903']",
         "['video7218', 'video7355', 'video7545', 'video7681', 'video7747', 'video7786', 'video7947', 'video8071', 'video8079', 'video8118', 'video8240', 'video8305', 'video8307', 'video8312', 'video8661', 'video8866', 'video8910', 'video9357', 'video9451', 'video9818']"
        ],
        [
         "61",
         "two people welcome people to an episode of their show",
         "['video8683']",
         "['video7117', 'video7418', 'video7469', 'video7685', 'video7730', 'video7744', 'video7789', 'video7960', 'video8078', 'video8678', 'video8786', 'video8789', 'video8807', 'video8819', 'video8919', 'video8928', 'video8930', 'video8932', 'video8979', 'video9023', 'video9232', 'video9332', 'video9607', 'video9804']"
        ],
        [
         "62",
         "three men talking about their youtube channel and thanking their viewers",
         "['video8685']",
         "['video7141', 'video7148', 'video7149', 'video7212', 'video7375', 'video7501', 'video7569', 'video7685', 'video7755', 'video7838', 'video7966', 'video7979', 'video8321', 'video8451', 'video8466', 'video8492', 'video8689', 'video8796', 'video8805', 'video8828', 'video8851', 'video8911', 'video8999', 'video9017', 'video9344', 'video9623']"
        ],
        [
         "66",
         "a crowd of people sitting next to each other as one man plays a video game",
         "['video9909']",
         "['video7035', 'video7175', 'video7205', 'video7214', 'video7444', 'video7545', 'video7685', 'video7914', 'video7970', 'video8116', 'video8259', 'video8329', 'video8472', 'video8622', 'video8689', 'video9244', 'video9252', 'video9341', 'video9537', 'video9691', 'video9745', 'video9815', 'video9818', 'video9885']"
        ],
        [
         "67",
         "i see a prince trying to get a girl and i see peter pan play around",
         "['video9403']",
         "['video7029', 'video7164', 'video7361', 'video7467', 'video7548', 'video7560', 'video7579', 'video7583', 'video7726', 'video7747', 'video7794', 'video7964', 'video8110', 'video8663', 'video8781', 'video8794', 'video8806', 'video8903', 'video9032', 'video9233', 'video9358', 'video9542', 'video9603', 'video9828']"
        ],
        [
         "68",
         "a dog and a cat are in a standoff",
         "['video8016']",
         "['video7020', 'video7146', 'video7560', 'video7687', 'video7725', 'video7798', 'video8247', 'video8573', 'video8666', 'video8866', 'video8867', 'video8879', 'video9034', 'video9035', 'video9222', 'video9232', 'video9307', 'video9508', 'video9580', 'video9734', 'video9810']"
        ],
        [
         "69",
         "two ladies sitting down and talking in an office room",
         "['video9824']",
         "['video7341', 'video7362', 'video7374', 'video7549', 'video7615', 'video7724', 'video7751', 'video7825', 'video7947', 'video7968', 'video8068', 'video8074', 'video8120', 'video8240', 'video8305', 'video8392', 'video8727', 'video8866', 'video8903', 'video8910', 'video9018', 'video9357', 'video9451', 'video9835', 'video9908']"
        ],
        [
         "71",
         "a women is explaining about the information of responders and the non responders for precision medicine",
         "['video9781']",
         "['video7231', 'video7580', 'video7590', 'video7724', 'video7730', 'video7797', 'video7829', 'video7900', 'video8333', 'video8483', 'video8494', 'video8789', 'video8819', 'video9119', 'video9203', 'video9232', 'video9253', 'video9345', 'video9511', 'video9521', 'video9575', 'video9620', 'video9688']"
        ],
        [
         "73",
         "cabins on a sandy beach have walkways going up to their porches",
         "['video8426']",
         "['video7172', 'video7701', 'video7890', 'video8069', 'video8121', 'video8129', 'video8243', 'video8251', 'video8255', 'video8306', 'video8307', 'video8312', 'video8475', 'video8741', 'video8836', 'video9024', 'video9208', 'video9244', 'video9253', 'video9277', 'video9332', 'video9359']"
        ],
        [
         "79",
         "a man grabs at snakes and throws them around the room",
         "['video8572']",
         "['video7176', 'video7229', 'video7350', 'video7593', 'video7594', 'video7757', 'video7838', 'video8056', 'video8249', 'video8314', 'video8451', 'video8456', 'video8492', 'video8792', 'video8800', 'video8807', 'video8934', 'video9307', 'video9331', 'video9519', 'video9524', 'video9579', 'video9657', 'video9778', 'video9780', 'video9833']"
        ],
        [
         "80",
         "a cartoon shows two dogs talking to a bird",
         "['video9734']",
         "['video7029', 'video7223', 'video7378', 'video7548', 'video7698', 'video7798', 'video7820', 'video8265', 'video8268', 'video8318', 'video8330', 'video8655', 'video8781', 'video9029', 'video9231', 'video9232', 'video9510', 'video9580', 'video9772', 'video9790', 'video9803', 'video9825']"
        ],
        [
         "81",
         "a female inside a white themed bathroom while someone else makes her makeup",
         "['video7144']",
         "['video7372', 'video7571', 'video7573', 'video8261', 'video8423', 'video8488', 'video8650', 'video8690', 'video8904', 'video8906', 'video9207', 'video9302', 'video9683', 'video9698', 'video9788', 'video9795', 'video9801', 'video9809', 'video9822', 'video9834']"
        ],
        [
         "84",
         "serene music plays over scenery of mountains while a woman speaks",
         "['video9581']",
         "['video7152', 'video7201', 'video7372', 'video7462', 'video7478', 'video7556', 'video7564', 'video7747', 'video7836', 'video7914', 'video8118', 'video8307', 'video8312', 'video8335', 'video8604', 'video8673', 'video8826', 'video8928', 'video9246', 'video9303', 'video9515']"
        ],
        [
         "92",
         "a man is talking about the making of the movie avatar",
         "['video8071']",
         "['video7176', 'video7215', 'video7418', 'video7546', 'video7649', 'video7698', 'video7731', 'video8111', 'video8265', 'video8828', 'video8912', 'video9036', 'video9236', 'video9350', 'video9406', 'video9517', 'video9537', 'video9780', 'video9825', 'video9831', 'video9885']"
        ],
        [
         "93",
         "a cartoon girl and animal jumping on body of male guy girl image still shown displaying on screen",
         "['video8794']",
         "['video7164', 'video7366', 'video7368', 'video7554', 'video7767', 'video7831', 'video7967', 'video7974', 'video8022', 'video8245', 'video8341', 'video8462', 'video8481', 'video8499', 'video8783', 'video8821', 'video8903', 'video8949', 'video9023', 'video9203', 'video9243', 'video9403', 'video9521', 'video9609', 'video9772', 'video9774', 'video9782', 'video9791']"
        ],
        [
         "101",
         "two astronauts experiencing a tense situation before relaxing afterwards",
         "['video9609']",
         "['video7027', 'video7028', 'video7176', 'video7233', 'video7501', 'video7768', 'video7787', 'video8261', 'video8828', 'video8904', 'video8937', 'video9207', 'video9234', 'video9236', 'video9474', 'video9677', 'video9744', 'video9801', 'video9871']"
        ],
        [
         "105",
         "tom jones performing live on a television show",
         "['video7156']",
         "['video7207', 'video7228', 'video7362', 'video7552', 'video7591', 'video7747', 'video7754', 'video7839', 'video7900', 'video8265', 'video8269', 'video8320', 'video8326', 'video8482', 'video8673', 'video8727', 'video8741', 'video9011', 'video9015', 'video9023', 'video9254', 'video9304', 'video9351', 'video9603', 'video9834']"
        ],
        [
         "109",
         "a man speaks to children in a classroom",
         "['video9775']",
         "['video7131', 'video7134', 'video7141', 'video7162', 'video7345', 'video7500', 'video7528', 'video7563', 'video7581', 'video7756', 'video7833', 'video7843', 'video8075', 'video8257', 'video8307', 'video8345', 'video8346', 'video8489', 'video9117', 'video9326', 'video9416', 'video9680', 'video9777', 'video9830', 'video9908']"
        ],
        [
         "112",
         "a woman dances in the background while a guy doesn t move",
         "['video9802']",
         "['video7175', 'video7374', 'video7411', 'video7419', 'video7545', 'video7615', 'video7725', 'video7854', 'video7911', 'video8073', 'video8305', 'video8312', 'video8473', 'video8807', 'video8822', 'video8903', 'video8910', 'video9252', 'video9258', 'video9451', 'video9513', 'video9685', 'video9815', 'video9827', 'video9957']"
        ],
        [
         "114",
         "a woman pours water into her pot of meat then tomato sauce and stirs it all around while talking",
         "['video8300']",
         "['video7061', 'video7207', 'video7415', 'video7586', 'video7744', 'video7839', 'video7913', 'video8325', 'video8479', 'video8497', 'video8654', 'video8741', 'video8835', 'video8836', 'video8910', 'video8945', 'video9015', 'video9200', 'video9689', 'video9693', 'video9772', 'video9778', 'video9782']"
        ],
        [
         "126",
         "a female journalist wearing a purple shirt and white blazer is talking on a news show next to the image of a male in a dark suit",
         "['video7613']",
         "['video7119', 'video7145', 'video7726', 'video7823', 'video7947', 'video8048', 'video8247', 'video8254', 'video8264', 'video8317', 'video8333', 'video8446', 'video8469', 'video8494', 'video8578', 'video8650', 'video8789', 'video8822', 'video8832', 'video9204', 'video9230', 'video9474', 'video9821']"
        ],
        [
         "128",
         "a football match between usa and japan",
         "['video7500']",
         "['video7200', 'video7378', 'video7577', 'video7787', 'video7832', 'video8313', 'video8316', 'video8476', 'video8486', 'video8654', 'video8661', 'video8675', 'video8799', 'video8817', 'video8906', 'video8919', 'video9305', 'video9452', 'video9472', 'video9489', 'video9542', 'video9577']"
        ],
        [
         "133",
         "a pop singer singing while she standing on a step the video is shown double",
         "['video8073']",
         "['video7158', 'video7342', 'video7367', 'video7411', 'video7560', 'video7766', 'video7796', 'video8014', 'video8016', 'video8305', 'video8471', 'video8481', 'video8678', 'video8820', 'video9026', 'video9206', 'video9226', 'video9472', 'video9770', 'video9814', 'video9822', 'video9827']"
        ],
        [
         "134",
         "a guy wearing a red shirt drives a car while talking",
         "['video9677']",
         "['video7026', 'video7140', 'video7228', 'video7340', 'video7542', 'video7552', 'video7571', 'video7756', 'video8263', 'video8320', 'video8805', 'video8818', 'video8973', 'video9021', 'video9025', 'video9131', 'video9304', 'video9344', 'video9511', 'video9535', 'video9603', 'video9691']"
        ],
        [
         "137",
         "a man discusses spongebob",
         "['video8673']",
         "['video7111', 'video7201', 'video7372', 'video7462', 'video7478', 'video7747', 'video7835', 'video7836', 'video8446', 'video8480', 'video8826', 'video8839', 'video8916', 'video9300', 'video9303', 'video9515', 'video9581', 'video9790', 'video9808', 'video9814', 'video9832']"
        ],
        [
         "138",
         "dogs are walking across the road in a video",
         "['video9622']",
         "['video7026', 'video7150', 'video7212', 'video7614', 'video7684', 'video7768', 'video7798', 'video7822', 'video7826', 'video7832', 'video7843', 'video8016', 'video8044', 'video8125', 'video8306', 'video8316', 'video8344', 'video8799', 'video8919', 'video8929', 'video8935', 'video9239', 'video9452', 'video9580']"
        ],
        [
         "142",
         "the girl shows the boys her medal in this cartoon",
         "['video7172']",
         "['video7157', 'video7179', 'video7222', 'video7543', 'video7741', 'video7831', 'video7890', 'video7976', 'video8069', 'video8251', 'video8255', 'video8268', 'video8304', 'video8341', 'video8475', 'video8498', 'video8671', 'video8676', 'video8831', 'video8836', 'video9259', 'video9277', 'video9777']"
        ],
        [
         "145",
         "a tour through chinese architecture",
         "['video8741']",
         "['video7028', 'video7207', 'video7227', 'video7231', 'video7368', 'video7693', 'video7798', 'video7823', 'video7913', 'video8012', 'video8089', 'video8118', 'video8241', 'video8312', 'video8426', 'video8495', 'video8790', 'video8945', 'video9015', 'video9020', 'video9027', 'video9220', 'video9244', 'video9357', 'video9581', 'video9772', 'video9832']"
        ],
        [
         "146",
         "a man talking something about the new smart phones",
         "['video9697']",
         "['video7229', 'video7358', 'video7575', 'video7798', 'video7898', 'video7978', 'video8068', 'video8246', 'video8269', 'video8314', 'video8315', 'video8451', 'video8682', 'video8688', 'video8721', 'video8830', 'video9033', 'video9131', 'video9257', 'video9258', 'video9406', 'video9692']"
        ],
        [
         "152",
         "commercial for a service called eva which will help people find a vehicle",
         "['video8973']",
         "['video7026', 'video7138', 'video7209', 'video7354', 'video7356', 'video7765', 'video8022', 'video8320', 'video8322', 'video8423', 'video8622', 'video8650', 'video8651', 'video8712', 'video8904', 'video9014', 'video9230', 'video9320', 'video9339', 'video9354', 'video9358', 'video9677', 'video9699', 'video9809']"
        ],
        [
         "158",
         "flight is shaken and the pilots trying to land the flight while they opened the air",
         "['video7793']",
         "['video7028', 'video7206', 'video7233', 'video7375', 'video7558', 'video7757', 'video7792', 'video8056', 'video8071', 'video8125', 'video8441', 'video8492', 'video8679', 'video8687', 'video8792', 'video9063', 'video9247', 'video9353', 'video9514', 'video9580', 'video9609', 'video9680', 'video9698', 'video9772', 'video9774', 'video9778']"
        ],
        [
         "161",
         "someone is putting a skeleton slide on a projector",
         "['video7829']",
         "['video7027', 'video7112', 'video7376', 'video7681', 'video7786', 'video7831', 'video7963', 'video8018', 'video8067', 'video8111', 'video8121', 'video8241', 'video8310', 'video8328', 'video8626', 'video8664', 'video8804', 'video8839', 'video9239', 'video9330', 'video9403', 'video9575', 'video9686', 'video9697', 'video9805']"
        ]
       ],
       "shape": {
        "columns": 3,
        "rows": 314
       }
      },
      "text/html": [
       "<div>\n",
       "<style scoped>\n",
       "    .dataframe tbody tr th:only-of-type {\n",
       "        vertical-align: middle;\n",
       "    }\n",
       "\n",
       "    .dataframe tbody tr th {\n",
       "        vertical-align: top;\n",
       "    }\n",
       "\n",
       "    .dataframe thead th {\n",
       "        text-align: right;\n",
       "    }\n",
       "</style>\n",
       "<table border=\"1\" class=\"dataframe\">\n",
       "  <thead>\n",
       "    <tr style=\"text-align: right;\">\n",
       "      <th></th>\n",
       "      <th>query</th>\n",
       "      <th>relevant_ids</th>\n",
       "      <th>non_relevant_ids</th>\n",
       "    </tr>\n",
       "  </thead>\n",
       "  <tbody>\n",
       "    <tr>\n",
       "      <th>3</th>\n",
       "      <td>sygornie weaver pointing a gun and then running</td>\n",
       "      <td>[video9784]</td>\n",
       "      <td>[video7207, video7362, video7368, video7545, v...</td>\n",
       "    </tr>\n",
       "    <tr>\n",
       "      <th>6</th>\n",
       "      <td>a man a woman cooking on a cooking show</td>\n",
       "      <td>[video8662]</td>\n",
       "      <td>[video7141, video7415, video7542, video7572, v...</td>\n",
       "    </tr>\n",
       "    <tr>\n",
       "      <th>12</th>\n",
       "      <td>a guy is talking over loud music at the end of...</td>\n",
       "      <td>[video7028]</td>\n",
       "      <td>[video7142, video7375, video7412, video7575, v...</td>\n",
       "    </tr>\n",
       "    <tr>\n",
       "      <th>17</th>\n",
       "      <td>a lady describes about workout and exercises f...</td>\n",
       "      <td>[video7724]</td>\n",
       "      <td>[video7134, video7145, video7170, video7368, v...</td>\n",
       "    </tr>\n",
       "    <tr>\n",
       "      <th>20</th>\n",
       "      <td>a video of a young man in a white shirt inviti...</td>\n",
       "      <td>[video7469]</td>\n",
       "      <td>[video7118, video7131, video7169, video7345, v...</td>\n",
       "    </tr>\n",
       "    <tr>\n",
       "      <th>...</th>\n",
       "      <td>...</td>\n",
       "      <td>...</td>\n",
       "      <td>...</td>\n",
       "    </tr>\n",
       "    <tr>\n",
       "      <th>978</th>\n",
       "      <td>a woman feeds another</td>\n",
       "      <td>[video8345]</td>\n",
       "      <td>[video7141, video7349, video7372, video7500, v...</td>\n",
       "    </tr>\n",
       "    <tr>\n",
       "      <th>981</th>\n",
       "      <td>a man gets shot in the face</td>\n",
       "      <td>[video8249]</td>\n",
       "      <td>[video7118, video7131, video7352, video7597, v...</td>\n",
       "    </tr>\n",
       "    <tr>\n",
       "      <th>984</th>\n",
       "      <td>a girl explains about some studies showing som...</td>\n",
       "      <td>[video7577]</td>\n",
       "      <td>[video7144, video7216, video7231, video7580, v...</td>\n",
       "    </tr>\n",
       "    <tr>\n",
       "      <th>987</th>\n",
       "      <td>a person folds a paper airplane</td>\n",
       "      <td>[video8688]</td>\n",
       "      <td>[video7363, video7415, video7418, video7829, v...</td>\n",
       "    </tr>\n",
       "    <tr>\n",
       "      <th>989</th>\n",
       "      <td>advertisement of seat basket</td>\n",
       "      <td>[video9755]</td>\n",
       "      <td>[video7174, video7216, video7218, video7230, v...</td>\n",
       "    </tr>\n",
       "  </tbody>\n",
       "</table>\n",
       "<p>314 rows × 3 columns</p>\n",
       "</div>"
      ],
      "text/plain": [
       "                                                 query relevant_ids  \\\n",
       "3      sygornie weaver pointing a gun and then running  [video9784]   \n",
       "6              a man a woman cooking on a cooking show  [video8662]   \n",
       "12   a guy is talking over loud music at the end of...  [video7028]   \n",
       "17   a lady describes about workout and exercises f...  [video7724]   \n",
       "20   a video of a young man in a white shirt inviti...  [video7469]   \n",
       "..                                                 ...          ...   \n",
       "978                              a woman feeds another  [video8345]   \n",
       "981                        a man gets shot in the face  [video8249]   \n",
       "984  a girl explains about some studies showing som...  [video7577]   \n",
       "987                    a person folds a paper airplane  [video8688]   \n",
       "989                       advertisement of seat basket  [video9755]   \n",
       "\n",
       "                                      non_relevant_ids  \n",
       "3    [video7207, video7362, video7368, video7545, v...  \n",
       "6    [video7141, video7415, video7542, video7572, v...  \n",
       "12   [video7142, video7375, video7412, video7575, v...  \n",
       "17   [video7134, video7145, video7170, video7368, v...  \n",
       "20   [video7118, video7131, video7169, video7345, v...  \n",
       "..                                                 ...  \n",
       "978  [video7141, video7349, video7372, video7500, v...  \n",
       "981  [video7118, video7131, video7352, video7597, v...  \n",
       "984  [video7144, video7216, video7231, video7580, v...  \n",
       "987  [video7363, video7415, video7418, video7829, v...  \n",
       "989  [video7174, video7216, video7218, video7230, v...  \n",
       "\n",
       "[314 rows x 3 columns]"
      ]
     },
     "execution_count": 7,
     "metadata": {},
     "output_type": "execute_result"
    }
   ],
   "source": [
    "# Filter only queries with a single relevant result\n",
    "fire_judgements_single_result = fire_judgements_df[fire_judgements_df[\"relevant_ids\"].apply(lambda x: len(x) == 1)]\n",
    "fire_judgements_single_result"
   ]
  },
  {
   "cell_type": "code",
   "execution_count": 9,
   "id": "2bf3c9ea",
   "metadata": {},
   "outputs": [
    {
     "data": {
      "application/vnd.microsoft.datawrangler.viewer.v0+json": {
       "columns": [
        {
         "name": "index",
         "rawType": "int64",
         "type": "integer"
        },
        {
         "name": "query",
         "rawType": "object",
         "type": "string"
        },
        {
         "name": "relevant_ids",
         "rawType": "object",
         "type": "unknown"
        },
        {
         "name": "non_relevant_ids",
         "rawType": "object",
         "type": "unknown"
        },
        {
         "name": "video_id",
         "rawType": "object",
         "type": "string"
        },
        {
         "name": "sentence",
         "rawType": "object",
         "type": "string"
        }
       ],
       "conversionMethod": "pd.DataFrame",
       "ref": "8d519266-57f5-4786-92fb-7365939687f5",
       "rows": [
        [
         "3",
         "sygornie weaver pointing a gun and then running",
         "['video9784']",
         "['video7207', 'video7362', 'video7368', 'video7545', 'video7615', 'video7757', 'video7780', 'video7947', 'video8305', 'video8675', 'video8780', 'video8788', 'video8811', 'video8903', 'video9235', 'video9244', 'video9252', 'video9451', 'video9750', 'video9818', 'video9824', 'video9837', 'video9885', 'video9909']",
         "video9784",
         "sygornie weaver pointing a gun and then running"
        ],
        [
         "6",
         "a man a woman cooking on a cooking show",
         "['video8662']",
         "['video7141', 'video7415', 'video7542', 'video7572', 'video7688', 'video7695', 'video7724', 'video7799', 'video7916', 'video7939', 'video7968', 'video8011', 'video8257', 'video8327', 'video8444', 'video8450', 'video8807', 'video8913', 'video8934', 'video9337', 'video9680', 'video9693']",
         "video8662",
         "a man a woman cooking on a cooking show"
        ],
        [
         "12",
         "a guy is talking over loud music at the end of a youtube video",
         "['video7028']",
         "['video7142', 'video7375', 'video7412', 'video7575', 'video7733', 'video7755', 'video7767', 'video7831', 'video7838', 'video8321', 'video8325', 'video8456', 'video8478', 'video8492', 'video8682', 'video8685', 'video8829', 'video9224', 'video9300', 'video9322', 'video9735', 'video9755']",
         "video7028",
         "a guy is talking over loud music at the end of a youtube video"
        ],
        [
         "17",
         "a lady describes about workout and exercises for women",
         "['video7724']",
         "['video7134', 'video7145', 'video7170', 'video7368', 'video7580', 'video7757', 'video7782', 'video7836', 'video7947', 'video8119', 'video8123', 'video8322', 'video8479', 'video8669', 'video8679', 'video8816', 'video8907', 'video9200', 'video9579', 'video9580', 'video9657', 'video9824', 'video9830']",
         "video7724",
         "a lady describes about workout and exercises for women"
        ],
        [
         "20",
         "a video of a young man in a white shirt inviting his colleagues to join him",
         "['video7469']",
         "['video7118', 'video7131', 'video7169', 'video7345', 'video7491', 'video7597', 'video7912', 'video8129', 'video8423', 'video8456', 'video8459', 'video8472', 'video8606', 'video8664', 'video8678', 'video8819', 'video8837', 'video9232', 'video9253', 'video9620', 'video9781', 'video9809', 'video9835']",
         "video7469",
         "a video of a young man in a white shirt inviting his colleagues to join him"
        ],
        [
         "27",
         "a soldier is laying down",
         "['video8938']",
         "['video7025', 'video7035', 'video7142', 'video7178', 'video7357', 'video7371', 'video7373', 'video7574', 'video7589', 'video7733', 'video7827', 'video7835', 'video7838', 'video8252', 'video8266', 'video8333', 'video8499', 'video9015', 'video9208', 'video9235', 'video9255', 'video9333', 'video9503', 'video9793']",
         "video8938",
         "a soldier is laying down"
        ],
        [
         "28",
         "the view of a boat and the water is blocked by clouds and fog",
         "['video8248']",
         "['video7134', 'video7145', 'video8025', 'video8071', 'video8250', 'video8307', 'video8312', 'video8473', 'video8477', 'video8860', 'video8895', 'video8910', 'video9253', 'video9359', 'video9405', 'video9451', 'video9578', 'video9580', 'video9581']",
         "video8248",
         "the view of a boat and the water is blocked by clouds and fog"
        ],
        [
         "31",
         "red balloons float in the sky and have packages tied to them",
         "['video9405']",
         "['video7061', 'video7134', 'video7145', 'video7155', 'video7175', 'video7218', 'video7223', 'video7545', 'video7786', 'video8069', 'video8241', 'video8248', 'video8250', 'video8260', 'video8306', 'video8473', 'video8895', 'video9400', 'video9578', 'video9580', 'video9679', 'video9680', 'video9807']",
         "video9405",
         "red balloons float in the sky and have packages tied to them"
        ],
        [
         "33",
         "three soccer balls are laying in a field and then three men in black athletic cloths attempt to shoot a goal",
         "['video7776']",
         "['video7021', 'video7112', 'video7131', 'video7371', 'video7376', 'video7378', 'video7680', 'video7681', 'video7827', 'video8018', 'video8027', 'video8067', 'video8310', 'video8333', 'video8661', 'video8675', 'video8811', 'video8817', 'video9226', 'video9302', 'video9351', 'video9745', 'video9793', 'video9817']",
         "video7776",
         "three soccer balls are laying in a field and then three men in black athletic cloths attempt to shoot a goal"
        ],
        [
         "34",
         "a cartoon woman cries at a bench while a woman in blue appears",
         "['video8110']",
         "['video7028', 'video7160', 'video7173', 'video7222', 'video7365', 'video7373', 'video7375', 'video7596', 'video7791', 'video7831', 'video7902', 'video8300', 'video8341', 'video8446', 'video8489', 'video8663', 'video8678', 'video8824', 'video8909', 'video8911', 'video9025', 'video9518', 'video9790']",
         "video8110",
         "a cartoon woman cries at a bench while a woman in blue appears"
        ],
        [
         "36",
         "a commercial for the website called eharmony",
         "['video9607']",
         "['video7354', 'video7682', 'video7687', 'video7726', 'video7827', 'video7836', 'video8075', 'video8123', 'video8128', 'video8256', 'video8340', 'video8345', 'video8441', 'video8681', 'video8686', 'video8727', 'video8751', 'video8801', 'video8811', 'video8826', 'video9416', 'video9458', 'video9509', 'video9578', 'video9657', 'video9687', 'video9688', 'video9697']",
         "video9607",
         "a commercial for the website called eharmony"
        ],
        [
         "39",
         "a group of zombis walking towards a very tall building with a globe in front of it",
         "['video9010']",
         "['video7214', 'video7223', 'video7545', 'video7580', 'video7632', 'video7747', 'video7914', 'video8061', 'video8071', 'video8259', 'video8266', 'video8306', 'video8741', 'video8803', 'video8839', 'video8903', 'video9245', 'video9355', 'video9549', 'video9575', 'video9686', 'video9689', 'video9691', 'video9784', 'video9909']",
         "video9010",
         "a group of zombis walking towards a very tall building with a globe in front of it"
        ],
        [
         "44",
         "different letters are coming out and sounding out the way they sound",
         "['video8799']",
         "['video7355', 'video7372', 'video7596', 'video7832', 'video7900', 'video8316', 'video8328', 'video8486', 'video8671', 'video8824', 'video8909', 'video9224', 'video9305', 'video9339', 'video9452', 'video9472', 'video9489', 'video9607', 'video9620', 'video9795', 'video9801']",
         "video8799",
         "different letters are coming out and sounding out the way they sound"
        ],
        [
         "47",
         "a man talking about a womans genital problems",
         "['video9782']",
         "['video7134', 'video7145', 'video7176', 'video7368', 'video7491', 'video7724', 'video7755', 'video7757', 'video7782', 'video7946', 'video8089', 'video8119', 'video8444', 'video8479', 'video8495', 'video8907', 'video8917', 'video9011', 'video9200', 'video9249', 'video9474', 'video9579', 'video9755', 'video9825', 'video9885']",
         "video9782",
         "a man talking about a womans genital problems"
        ],
        [
         "48",
         "two people wear and touch their masks made to resemble a camera cube with centered black lens one of which is covered in colorful flowers",
         "['video9131']",
         "['video7137', 'video7140', 'video7173', 'video7223', 'video7228', 'video7374', 'video7552', 'video7571', 'video7756', 'video7978', 'video8061', 'video8068', 'video8125', 'video8306', 'video8320', 'video8626', 'video8909', 'video8937', 'video9231', 'video9235', 'video9305', 'video9677', 'video9744', 'video9803']",
         "video9131",
         "two people wear and touch their masks made to resemble a camera cube with centered black lens one of which is covered in colorful flowers"
        ],
        [
         "50",
         "a woman is reporting on keds commercials",
         "['video8481']",
         "['video7751', 'video7767', 'video8242', 'video8333', 'video8783', 'video8800', 'video8806', 'video8821', 'video8826', 'video8949', 'video9039', 'video9209', 'video9226', 'video9243', 'video9503', 'video9521', 'video9607', 'video9790', 'video9791', 'video9812', 'video9836']",
         "video8481",
         "a woman is reporting on keds commercials"
        ],
        [
         "53",
         "a person giving his opinion on how crowded the world is",
         "['video9406']",
         "['video7148', 'video7412', 'video7548', 'video7599', 'video7649', 'video7698', 'video7833', 'video7890', 'video8071', 'video8265', 'video8330', 'video8346', 'video8477', 'video8663', 'video8822', 'video9036', 'video9131', 'video9352', 'video9404', 'video9474', 'video9542', 'video9821', 'video9825']",
         "video9406",
         "a person giving his opinion on how crowded the world is"
        ],
        [
         "54",
         "a man talks to a little boy about not letting people convince him that anything he wants to do in life isn t possible",
         "['video9230']",
         "['video7346', 'video7413', 'video7542', 'video7579', 'video7787', 'video8048', 'video8423', 'video8494', 'video8606', 'video8652', 'video8681', 'video8808', 'video8815', 'video8829', 'video8904', 'video8909', 'video8937', 'video8948', 'video9234', 'video9474', 'video9512', 'video9807']",
         "video9230",
         "a man talks to a little boy about not letting people convince him that anything he wants to do in life isn t possible"
        ],
        [
         "58",
         "there are crocodiles about to eat the group of people walking across the water",
         "['video8903']",
         "['video7218', 'video7355', 'video7545', 'video7681', 'video7747', 'video7786', 'video7947', 'video8071', 'video8079', 'video8118', 'video8240', 'video8305', 'video8307', 'video8312', 'video8661', 'video8866', 'video8910', 'video9357', 'video9451', 'video9818']",
         "video8903",
         "there are crocodiles about to eat the group of people walking across the water"
        ],
        [
         "61",
         "two people welcome people to an episode of their show",
         "['video8683']",
         "['video7117', 'video7418', 'video7469', 'video7685', 'video7730', 'video7744', 'video7789', 'video7960', 'video8078', 'video8678', 'video8786', 'video8789', 'video8807', 'video8819', 'video8919', 'video8928', 'video8930', 'video8932', 'video8979', 'video9023', 'video9232', 'video9332', 'video9607', 'video9804']",
         "video8683",
         "two people welcome people to an episode of their show"
        ],
        [
         "62",
         "three men talking about their youtube channel and thanking their viewers",
         "['video8685']",
         "['video7141', 'video7148', 'video7149', 'video7212', 'video7375', 'video7501', 'video7569', 'video7685', 'video7755', 'video7838', 'video7966', 'video7979', 'video8321', 'video8451', 'video8466', 'video8492', 'video8689', 'video8796', 'video8805', 'video8828', 'video8851', 'video8911', 'video8999', 'video9017', 'video9344', 'video9623']",
         "video8685",
         "three men talking about their youtube channel and thanking their viewers"
        ],
        [
         "66",
         "a crowd of people sitting next to each other as one man plays a video game",
         "['video9909']",
         "['video7035', 'video7175', 'video7205', 'video7214', 'video7444', 'video7545', 'video7685', 'video7914', 'video7970', 'video8116', 'video8259', 'video8329', 'video8472', 'video8622', 'video8689', 'video9244', 'video9252', 'video9341', 'video9537', 'video9691', 'video9745', 'video9815', 'video9818', 'video9885']",
         "video9909",
         "a crowd of people sitting next to each other as one man plays a video game"
        ],
        [
         "67",
         "i see a prince trying to get a girl and i see peter pan play around",
         "['video9403']",
         "['video7029', 'video7164', 'video7361', 'video7467', 'video7548', 'video7560', 'video7579', 'video7583', 'video7726', 'video7747', 'video7794', 'video7964', 'video8110', 'video8663', 'video8781', 'video8794', 'video8806', 'video8903', 'video9032', 'video9233', 'video9358', 'video9542', 'video9603', 'video9828']",
         "video9403",
         "i see a prince trying to get a girl and i see peter pan play around"
        ],
        [
         "68",
         "a dog and a cat are in a standoff",
         "['video8016']",
         "['video7020', 'video7146', 'video7560', 'video7687', 'video7725', 'video7798', 'video8247', 'video8573', 'video8666', 'video8866', 'video8867', 'video8879', 'video9034', 'video9035', 'video9222', 'video9232', 'video9307', 'video9508', 'video9580', 'video9734', 'video9810']",
         "video8016",
         "a dog and a cat are in a standoff"
        ],
        [
         "69",
         "two ladies sitting down and talking in an office room",
         "['video9824']",
         "['video7341', 'video7362', 'video7374', 'video7549', 'video7615', 'video7724', 'video7751', 'video7825', 'video7947', 'video7968', 'video8068', 'video8074', 'video8120', 'video8240', 'video8305', 'video8392', 'video8727', 'video8866', 'video8903', 'video8910', 'video9018', 'video9357', 'video9451', 'video9835', 'video9908']",
         "video9824",
         "two ladies sitting down and talking in an office room"
        ],
        [
         "71",
         "a women is explaining about the information of responders and the non responders for precision medicine",
         "['video9781']",
         "['video7231', 'video7580', 'video7590', 'video7724', 'video7730', 'video7797', 'video7829', 'video7900', 'video8333', 'video8483', 'video8494', 'video8789', 'video8819', 'video9119', 'video9203', 'video9232', 'video9253', 'video9345', 'video9511', 'video9521', 'video9575', 'video9620', 'video9688']",
         "video9781",
         "a women is explaining about the information of responders and the non responders for precision medicine"
        ],
        [
         "73",
         "cabins on a sandy beach have walkways going up to their porches",
         "['video8426']",
         "['video7172', 'video7701', 'video7890', 'video8069', 'video8121', 'video8129', 'video8243', 'video8251', 'video8255', 'video8306', 'video8307', 'video8312', 'video8475', 'video8741', 'video8836', 'video9024', 'video9208', 'video9244', 'video9253', 'video9277', 'video9332', 'video9359']",
         "video8426",
         "cabins on a sandy beach have walkways going up to their porches"
        ],
        [
         "79",
         "a man grabs at snakes and throws them around the room",
         "['video8572']",
         "['video7176', 'video7229', 'video7350', 'video7593', 'video7594', 'video7757', 'video7838', 'video8056', 'video8249', 'video8314', 'video8451', 'video8456', 'video8492', 'video8792', 'video8800', 'video8807', 'video8934', 'video9307', 'video9331', 'video9519', 'video9524', 'video9579', 'video9657', 'video9778', 'video9780', 'video9833']",
         "video8572",
         "a man grabs at snakes and throws them around the room"
        ],
        [
         "80",
         "a cartoon shows two dogs talking to a bird",
         "['video9734']",
         "['video7029', 'video7223', 'video7378', 'video7548', 'video7698', 'video7798', 'video7820', 'video8265', 'video8268', 'video8318', 'video8330', 'video8655', 'video8781', 'video9029', 'video9231', 'video9232', 'video9510', 'video9580', 'video9772', 'video9790', 'video9803', 'video9825']",
         "video9734",
         "a cartoon shows two dogs talking to a bird"
        ],
        [
         "81",
         "a female inside a white themed bathroom while someone else makes her makeup",
         "['video7144']",
         "['video7372', 'video7571', 'video7573', 'video8261', 'video8423', 'video8488', 'video8650', 'video8690', 'video8904', 'video8906', 'video9207', 'video9302', 'video9683', 'video9698', 'video9788', 'video9795', 'video9801', 'video9809', 'video9822', 'video9834']",
         "video7144",
         "a female inside a white themed bathroom while someone else makes her makeup"
        ],
        [
         "84",
         "serene music plays over scenery of mountains while a woman speaks",
         "['video9581']",
         "['video7152', 'video7201', 'video7372', 'video7462', 'video7478', 'video7556', 'video7564', 'video7747', 'video7836', 'video7914', 'video8118', 'video8307', 'video8312', 'video8335', 'video8604', 'video8673', 'video8826', 'video8928', 'video9246', 'video9303', 'video9515']",
         "video9581",
         "serene music plays over scenery of mountains while a woman speaks"
        ],
        [
         "92",
         "a man is talking about the making of the movie avatar",
         "['video8071']",
         "['video7176', 'video7215', 'video7418', 'video7546', 'video7649', 'video7698', 'video7731', 'video8111', 'video8265', 'video8828', 'video8912', 'video9036', 'video9236', 'video9350', 'video9406', 'video9517', 'video9537', 'video9780', 'video9825', 'video9831', 'video9885']",
         "video8071",
         "a man is talking about the making of the movie avatar"
        ],
        [
         "93",
         "a cartoon girl and animal jumping on body of male guy girl image still shown displaying on screen",
         "['video8794']",
         "['video7164', 'video7366', 'video7368', 'video7554', 'video7767', 'video7831', 'video7967', 'video7974', 'video8022', 'video8245', 'video8341', 'video8462', 'video8481', 'video8499', 'video8783', 'video8821', 'video8903', 'video8949', 'video9023', 'video9203', 'video9243', 'video9403', 'video9521', 'video9609', 'video9772', 'video9774', 'video9782', 'video9791']",
         "video8794",
         "a cartoon girl and animal jumping on body of male guy girl image still shown displaying on screen"
        ],
        [
         "101",
         "two astronauts experiencing a tense situation before relaxing afterwards",
         "['video9609']",
         "['video7027', 'video7028', 'video7176', 'video7233', 'video7501', 'video7768', 'video7787', 'video8261', 'video8828', 'video8904', 'video8937', 'video9207', 'video9234', 'video9236', 'video9474', 'video9677', 'video9744', 'video9801', 'video9871']",
         "video9609",
         "two astronauts experiencing a tense situation before relaxing afterwards"
        ],
        [
         "105",
         "tom jones performing live on a television show",
         "['video7156']",
         "['video7207', 'video7228', 'video7362', 'video7552', 'video7591', 'video7747', 'video7754', 'video7839', 'video7900', 'video8265', 'video8269', 'video8320', 'video8326', 'video8482', 'video8673', 'video8727', 'video8741', 'video9011', 'video9015', 'video9023', 'video9254', 'video9304', 'video9351', 'video9603', 'video9834']",
         "video7156",
         "tom jones performing live on a television show"
        ],
        [
         "109",
         "a man speaks to children in a classroom",
         "['video9775']",
         "['video7131', 'video7134', 'video7141', 'video7162', 'video7345', 'video7500', 'video7528', 'video7563', 'video7581', 'video7756', 'video7833', 'video7843', 'video8075', 'video8257', 'video8307', 'video8345', 'video8346', 'video8489', 'video9117', 'video9326', 'video9416', 'video9680', 'video9777', 'video9830', 'video9908']",
         "video9775",
         "a man speaks to children in a classroom"
        ],
        [
         "112",
         "a woman dances in the background while a guy doesn t move",
         "['video9802']",
         "['video7175', 'video7374', 'video7411', 'video7419', 'video7545', 'video7615', 'video7725', 'video7854', 'video7911', 'video8073', 'video8305', 'video8312', 'video8473', 'video8807', 'video8822', 'video8903', 'video8910', 'video9252', 'video9258', 'video9451', 'video9513', 'video9685', 'video9815', 'video9827', 'video9957']",
         "video9802",
         "a woman dances in the background while a guy doesn t move"
        ],
        [
         "114",
         "a woman pours water into her pot of meat then tomato sauce and stirs it all around while talking",
         "['video8300']",
         "['video7061', 'video7207', 'video7415', 'video7586', 'video7744', 'video7839', 'video7913', 'video8325', 'video8479', 'video8497', 'video8654', 'video8741', 'video8835', 'video8836', 'video8910', 'video8945', 'video9015', 'video9200', 'video9689', 'video9693', 'video9772', 'video9778', 'video9782']",
         "video8300",
         "a woman pours water into her pot of meat then tomato sauce and stirs it all around while talking"
        ],
        [
         "126",
         "a female journalist wearing a purple shirt and white blazer is talking on a news show next to the image of a male in a dark suit",
         "['video7613']",
         "['video7119', 'video7145', 'video7726', 'video7823', 'video7947', 'video8048', 'video8247', 'video8254', 'video8264', 'video8317', 'video8333', 'video8446', 'video8469', 'video8494', 'video8578', 'video8650', 'video8789', 'video8822', 'video8832', 'video9204', 'video9230', 'video9474', 'video9821']",
         "video7613",
         "a female journalist wearing a purple shirt and white blazer is talking on a news show next to the image of a male in a dark suit"
        ],
        [
         "128",
         "a football match between usa and japan",
         "['video7500']",
         "['video7200', 'video7378', 'video7577', 'video7787', 'video7832', 'video8313', 'video8316', 'video8476', 'video8486', 'video8654', 'video8661', 'video8675', 'video8799', 'video8817', 'video8906', 'video8919', 'video9305', 'video9452', 'video9472', 'video9489', 'video9542', 'video9577']",
         "video7500",
         "a football match between usa and japan"
        ],
        [
         "133",
         "a pop singer singing while she standing on a step the video is shown double",
         "['video8073']",
         "['video7158', 'video7342', 'video7367', 'video7411', 'video7560', 'video7766', 'video7796', 'video8014', 'video8016', 'video8305', 'video8471', 'video8481', 'video8678', 'video8820', 'video9026', 'video9206', 'video9226', 'video9472', 'video9770', 'video9814', 'video9822', 'video9827']",
         "video8073",
         "a pop singer singing while she standing on a step the video is shown double"
        ],
        [
         "134",
         "a guy wearing a red shirt drives a car while talking",
         "['video9677']",
         "['video7026', 'video7140', 'video7228', 'video7340', 'video7542', 'video7552', 'video7571', 'video7756', 'video8263', 'video8320', 'video8805', 'video8818', 'video8973', 'video9021', 'video9025', 'video9131', 'video9304', 'video9344', 'video9511', 'video9535', 'video9603', 'video9691']",
         "video9677",
         "a guy wearing a red shirt drives a car while talking"
        ],
        [
         "137",
         "a man discusses spongebob",
         "['video8673']",
         "['video7111', 'video7201', 'video7372', 'video7462', 'video7478', 'video7747', 'video7835', 'video7836', 'video8446', 'video8480', 'video8826', 'video8839', 'video8916', 'video9300', 'video9303', 'video9515', 'video9581', 'video9790', 'video9808', 'video9814', 'video9832']",
         "video8673",
         "a man discusses spongebob"
        ],
        [
         "138",
         "dogs are walking across the road in a video",
         "['video9622']",
         "['video7026', 'video7150', 'video7212', 'video7614', 'video7684', 'video7768', 'video7798', 'video7822', 'video7826', 'video7832', 'video7843', 'video8016', 'video8044', 'video8125', 'video8306', 'video8316', 'video8344', 'video8799', 'video8919', 'video8929', 'video8935', 'video9239', 'video9452', 'video9580']",
         "video9622",
         "dogs are walking across the road in a video"
        ],
        [
         "142",
         "the girl shows the boys her medal in this cartoon",
         "['video7172']",
         "['video7157', 'video7179', 'video7222', 'video7543', 'video7741', 'video7831', 'video7890', 'video7976', 'video8069', 'video8251', 'video8255', 'video8268', 'video8304', 'video8341', 'video8475', 'video8498', 'video8671', 'video8676', 'video8831', 'video8836', 'video9259', 'video9277', 'video9777']",
         "video7172",
         "the girl shows the boys her medal in this cartoon"
        ],
        [
         "145",
         "a tour through chinese architecture",
         "['video8741']",
         "['video7028', 'video7207', 'video7227', 'video7231', 'video7368', 'video7693', 'video7798', 'video7823', 'video7913', 'video8012', 'video8089', 'video8118', 'video8241', 'video8312', 'video8426', 'video8495', 'video8790', 'video8945', 'video9015', 'video9020', 'video9027', 'video9220', 'video9244', 'video9357', 'video9581', 'video9772', 'video9832']",
         "video8741",
         "a tour through chinese architecture"
        ],
        [
         "146",
         "a man talking something about the new smart phones",
         "['video9697']",
         "['video7229', 'video7358', 'video7575', 'video7798', 'video7898', 'video7978', 'video8068', 'video8246', 'video8269', 'video8314', 'video8315', 'video8451', 'video8682', 'video8688', 'video8721', 'video8830', 'video9033', 'video9131', 'video9257', 'video9258', 'video9406', 'video9692']",
         "video9697",
         "a man talking something about the new smart phones"
        ],
        [
         "152",
         "commercial for a service called eva which will help people find a vehicle",
         "['video8973']",
         "['video7026', 'video7138', 'video7209', 'video7354', 'video7356', 'video7765', 'video8022', 'video8320', 'video8322', 'video8423', 'video8622', 'video8650', 'video8651', 'video8712', 'video8904', 'video9014', 'video9230', 'video9320', 'video9339', 'video9354', 'video9358', 'video9677', 'video9699', 'video9809']",
         "video8973",
         "commercial for a service called eva which will help people find a vehicle"
        ],
        [
         "158",
         "flight is shaken and the pilots trying to land the flight while they opened the air",
         "['video7793']",
         "['video7028', 'video7206', 'video7233', 'video7375', 'video7558', 'video7757', 'video7792', 'video8056', 'video8071', 'video8125', 'video8441', 'video8492', 'video8679', 'video8687', 'video8792', 'video9063', 'video9247', 'video9353', 'video9514', 'video9580', 'video9609', 'video9680', 'video9698', 'video9772', 'video9774', 'video9778']",
         "video7793",
         "flight is shaken and the pilots trying to land the flight while they opened the air"
        ],
        [
         "161",
         "someone is putting a skeleton slide on a projector",
         "['video7829']",
         "['video7027', 'video7112', 'video7376', 'video7681', 'video7786', 'video7831', 'video7963', 'video8018', 'video8067', 'video8111', 'video8121', 'video8241', 'video8310', 'video8328', 'video8626', 'video8664', 'video8804', 'video8839', 'video9239', 'video9330', 'video9403', 'video9575', 'video9686', 'video9697', 'video9805']",
         "video7829",
         "someone is putting a skeleton slide on a projector"
        ]
       ],
       "shape": {
        "columns": 5,
        "rows": 314
       }
      },
      "text/html": [
       "<div>\n",
       "<style scoped>\n",
       "    .dataframe tbody tr th:only-of-type {\n",
       "        vertical-align: middle;\n",
       "    }\n",
       "\n",
       "    .dataframe tbody tr th {\n",
       "        vertical-align: top;\n",
       "    }\n",
       "\n",
       "    .dataframe thead th {\n",
       "        text-align: right;\n",
       "    }\n",
       "</style>\n",
       "<table border=\"1\" class=\"dataframe\">\n",
       "  <thead>\n",
       "    <tr style=\"text-align: right;\">\n",
       "      <th></th>\n",
       "      <th>query</th>\n",
       "      <th>relevant_ids</th>\n",
       "      <th>non_relevant_ids</th>\n",
       "      <th>video_id</th>\n",
       "      <th>sentence</th>\n",
       "    </tr>\n",
       "  </thead>\n",
       "  <tbody>\n",
       "    <tr>\n",
       "      <th>3</th>\n",
       "      <td>sygornie weaver pointing a gun and then running</td>\n",
       "      <td>[video9784]</td>\n",
       "      <td>[video7207, video7362, video7368, video7545, v...</td>\n",
       "      <td>video9784</td>\n",
       "      <td>sygornie weaver pointing a gun and then running</td>\n",
       "    </tr>\n",
       "    <tr>\n",
       "      <th>6</th>\n",
       "      <td>a man a woman cooking on a cooking show</td>\n",
       "      <td>[video8662]</td>\n",
       "      <td>[video7141, video7415, video7542, video7572, v...</td>\n",
       "      <td>video8662</td>\n",
       "      <td>a man a woman cooking on a cooking show</td>\n",
       "    </tr>\n",
       "    <tr>\n",
       "      <th>12</th>\n",
       "      <td>a guy is talking over loud music at the end of...</td>\n",
       "      <td>[video7028]</td>\n",
       "      <td>[video7142, video7375, video7412, video7575, v...</td>\n",
       "      <td>video7028</td>\n",
       "      <td>a guy is talking over loud music at the end of...</td>\n",
       "    </tr>\n",
       "    <tr>\n",
       "      <th>17</th>\n",
       "      <td>a lady describes about workout and exercises f...</td>\n",
       "      <td>[video7724]</td>\n",
       "      <td>[video7134, video7145, video7170, video7368, v...</td>\n",
       "      <td>video7724</td>\n",
       "      <td>a lady describes about workout and exercises f...</td>\n",
       "    </tr>\n",
       "    <tr>\n",
       "      <th>20</th>\n",
       "      <td>a video of a young man in a white shirt inviti...</td>\n",
       "      <td>[video7469]</td>\n",
       "      <td>[video7118, video7131, video7169, video7345, v...</td>\n",
       "      <td>video7469</td>\n",
       "      <td>a video of a young man in a white shirt inviti...</td>\n",
       "    </tr>\n",
       "    <tr>\n",
       "      <th>...</th>\n",
       "      <td>...</td>\n",
       "      <td>...</td>\n",
       "      <td>...</td>\n",
       "      <td>...</td>\n",
       "      <td>...</td>\n",
       "    </tr>\n",
       "    <tr>\n",
       "      <th>978</th>\n",
       "      <td>a woman feeds another</td>\n",
       "      <td>[video8345]</td>\n",
       "      <td>[video7141, video7349, video7372, video7500, v...</td>\n",
       "      <td>video8345</td>\n",
       "      <td>a woman feeds another</td>\n",
       "    </tr>\n",
       "    <tr>\n",
       "      <th>981</th>\n",
       "      <td>a man gets shot in the face</td>\n",
       "      <td>[video8249]</td>\n",
       "      <td>[video7118, video7131, video7352, video7597, v...</td>\n",
       "      <td>video8249</td>\n",
       "      <td>a man gets shot in the face</td>\n",
       "    </tr>\n",
       "    <tr>\n",
       "      <th>984</th>\n",
       "      <td>a girl explains about some studies showing som...</td>\n",
       "      <td>[video7577]</td>\n",
       "      <td>[video7144, video7216, video7231, video7580, v...</td>\n",
       "      <td>video7577</td>\n",
       "      <td>a girl explains about some studies showing som...</td>\n",
       "    </tr>\n",
       "    <tr>\n",
       "      <th>987</th>\n",
       "      <td>a person folds a paper airplane</td>\n",
       "      <td>[video8688]</td>\n",
       "      <td>[video7363, video7415, video7418, video7829, v...</td>\n",
       "      <td>video8688</td>\n",
       "      <td>a person folds a paper airplane</td>\n",
       "    </tr>\n",
       "    <tr>\n",
       "      <th>989</th>\n",
       "      <td>advertisement of seat basket</td>\n",
       "      <td>[video9755]</td>\n",
       "      <td>[video7174, video7216, video7218, video7230, v...</td>\n",
       "      <td>video9755</td>\n",
       "      <td>advertisement of seat basket</td>\n",
       "    </tr>\n",
       "  </tbody>\n",
       "</table>\n",
       "<p>314 rows × 5 columns</p>\n",
       "</div>"
      ],
      "text/plain": [
       "                                                 query relevant_ids  \\\n",
       "3      sygornie weaver pointing a gun and then running  [video9784]   \n",
       "6              a man a woman cooking on a cooking show  [video8662]   \n",
       "12   a guy is talking over loud music at the end of...  [video7028]   \n",
       "17   a lady describes about workout and exercises f...  [video7724]   \n",
       "20   a video of a young man in a white shirt inviti...  [video7469]   \n",
       "..                                                 ...          ...   \n",
       "978                              a woman feeds another  [video8345]   \n",
       "981                        a man gets shot in the face  [video8249]   \n",
       "984  a girl explains about some studies showing som...  [video7577]   \n",
       "987                    a person folds a paper airplane  [video8688]   \n",
       "989                       advertisement of seat basket  [video9755]   \n",
       "\n",
       "                                      non_relevant_ids   video_id  \\\n",
       "3    [video7207, video7362, video7368, video7545, v...  video9784   \n",
       "6    [video7141, video7415, video7542, video7572, v...  video8662   \n",
       "12   [video7142, video7375, video7412, video7575, v...  video7028   \n",
       "17   [video7134, video7145, video7170, video7368, v...  video7724   \n",
       "20   [video7118, video7131, video7169, video7345, v...  video7469   \n",
       "..                                                 ...        ...   \n",
       "978  [video7141, video7349, video7372, video7500, v...  video8345   \n",
       "981  [video7118, video7131, video7352, video7597, v...  video8249   \n",
       "984  [video7144, video7216, video7231, video7580, v...  video7577   \n",
       "987  [video7363, video7415, video7418, video7829, v...  video8688   \n",
       "989  [video7174, video7216, video7218, video7230, v...  video9755   \n",
       "\n",
       "                                              sentence  \n",
       "3      sygornie weaver pointing a gun and then running  \n",
       "6              a man a woman cooking on a cooking show  \n",
       "12   a guy is talking over loud music at the end of...  \n",
       "17   a lady describes about workout and exercises f...  \n",
       "20   a video of a young man in a white shirt inviti...  \n",
       "..                                                 ...  \n",
       "978                              a woman feeds another  \n",
       "981                        a man gets shot in the face  \n",
       "984  a girl explains about some studies showing som...  \n",
       "987                    a person folds a paper airplane  \n",
       "989                       advertisement of seat basket  \n",
       "\n",
       "[314 rows x 5 columns]"
      ]
     },
     "execution_count": 9,
     "metadata": {},
     "output_type": "execute_result"
    }
   ],
   "source": [
    "# Filter to include queries whose result is in our 1k video sample\n",
    "MSRVTT_SAMPLES = \"./MSRVTT_1K.csv\"\n",
    "raw_samples_df = pd.read_csv(MSRVTT_SAMPLES)\n",
    "video_ids_in_sample = set(raw_samples_df[\"video_id\"].apply(lambda x: int(x[len(\"video\"):])))\n",
    "final_fire_jud = fire_judgements_single_result[fire_judgements_single_result[\"relevant_ids\"].apply(lambda x: int(x[0][len(\"video\"):]) in video_ids_in_sample)]\n",
    "final_fire_jud['video_id'] = final_fire_jud['relevant_ids'].apply(lambda x: x[0])\n",
    "final_fire_jud['sentence'] = final_fire_jud['query']\n",
    "final_fire_jud"
   ]
  },
  {
   "cell_type": "code",
   "execution_count": 10,
   "id": "39f9e51f",
   "metadata": {},
   "outputs": [
    {
     "name": "stdout",
     "output_type": "stream",
     "text": [
      "Final FIRE benchmark judgements saved to ./fire_benchmark_q_judgements.csv\n"
     ]
    }
   ],
   "source": [
    "# Save the final DataFrame to a CSV file\n",
    "final_fire_jud.to_csv(FIRE_BENCHMARK_Q_JUDGEMENTS, index=False) \n",
    "print(\"Final FIRE benchmark judgements saved to\", FIRE_BENCHMARK_Q_JUDGEMENTS)"
   ]
  }
 ],
 "metadata": {
  "kernelspec": {
   "display_name": "info-ret-proj",
   "language": "python",
   "name": "python3"
  },
  "language_info": {
   "codemirror_mode": {
    "name": "ipython",
    "version": 3
   },
   "file_extension": ".py",
   "mimetype": "text/x-python",
   "name": "python",
   "nbconvert_exporter": "python",
   "pygments_lexer": "ipython3",
   "version": "3.10.16"
  }
 },
 "nbformat": 4,
 "nbformat_minor": 5
}
