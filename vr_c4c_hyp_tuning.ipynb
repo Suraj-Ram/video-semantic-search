{
 "cells": [
  {
   "cell_type": "code",
   "execution_count": 38,
   "id": "70fea2ab",
   "metadata": {},
   "outputs": [],
   "source": [
    "import os\n",
    "import csv\n",
    "from towhee import ops, pipe, register\n",
    "from towhee.operator import PyOperator\n",
    "from towhee import DataCollection\n",
    "from tqdm import tqdm\n",
    "import pandas as pd\n",
    "import json\n",
    "import numpy as np\n",
    "from helpers import milvus_utils\n",
    "from helpers import eval_utils as my_eval_utils"
   ]
  },
  {
   "cell_type": "code",
   "execution_count": 40,
   "id": "4590190c",
   "metadata": {},
   "outputs": [],
   "source": [
    "# CONSTANTS\n",
    "MSRVTT_SAMPLES = \"./MSRVTT_1K.csv\"\n",
    "VIDEO_RET_TUNING_COLLECTION_PREFIX = \"msrvtt_vid_hyp_tun_\""
   ]
  },
  {
   "cell_type": "code",
   "execution_count": 41,
   "id": "3d8cf2c5",
   "metadata": {},
   "outputs": [
    {
     "data": {
      "application/vnd.microsoft.datawrangler.viewer.v0+json": {
       "columns": [
        {
         "name": "index",
         "rawType": "int64",
         "type": "integer"
        },
        {
         "name": "video_id",
         "rawType": "object",
         "type": "string"
        },
        {
         "name": "video_path",
         "rawType": "object",
         "type": "string"
        },
        {
         "name": "sentence",
         "rawType": "object",
         "type": "string"
        }
       ],
       "conversionMethod": "pd.DataFrame",
       "ref": "37c89508-0c3f-4a49-84dd-90e6e3392a83",
       "rows": [
        [
         "0",
         "video7579",
         "./test_1k_compress/video7579.mp4",
         "a girl wearing red top and black trouser is putting a sweater on a dog"
        ],
        [
         "1",
         "video7725",
         "./test_1k_compress/video7725.mp4",
         "young people sit around the edges of a room clapping and raising their arms while others dance in the center during a party"
        ],
        [
         "2",
         "video9258",
         "./test_1k_compress/video9258.mp4",
         "a person is using a phone"
        ],
        [
         "3",
         "video7365",
         "./test_1k_compress/video7365.mp4",
         "cartoon people are eating at a restaurant"
        ],
        [
         "4",
         "video8068",
         "./test_1k_compress/video8068.mp4",
         "a woman on a couch talks to a a man"
        ]
       ],
       "shape": {
        "columns": 3,
        "rows": 5
       }
      },
      "text/html": [
       "<div>\n",
       "<style scoped>\n",
       "    .dataframe tbody tr th:only-of-type {\n",
       "        vertical-align: middle;\n",
       "    }\n",
       "\n",
       "    .dataframe tbody tr th {\n",
       "        vertical-align: top;\n",
       "    }\n",
       "\n",
       "    .dataframe thead th {\n",
       "        text-align: right;\n",
       "    }\n",
       "</style>\n",
       "<table border=\"1\" class=\"dataframe\">\n",
       "  <thead>\n",
       "    <tr style=\"text-align: right;\">\n",
       "      <th></th>\n",
       "      <th>video_id</th>\n",
       "      <th>video_path</th>\n",
       "      <th>sentence</th>\n",
       "    </tr>\n",
       "  </thead>\n",
       "  <tbody>\n",
       "    <tr>\n",
       "      <th>0</th>\n",
       "      <td>video7579</td>\n",
       "      <td>./test_1k_compress/video7579.mp4</td>\n",
       "      <td>a girl wearing red top and black trouser is pu...</td>\n",
       "    </tr>\n",
       "    <tr>\n",
       "      <th>1</th>\n",
       "      <td>video7725</td>\n",
       "      <td>./test_1k_compress/video7725.mp4</td>\n",
       "      <td>young people sit around the edges of a room cl...</td>\n",
       "    </tr>\n",
       "    <tr>\n",
       "      <th>2</th>\n",
       "      <td>video9258</td>\n",
       "      <td>./test_1k_compress/video9258.mp4</td>\n",
       "      <td>a person is using a phone</td>\n",
       "    </tr>\n",
       "    <tr>\n",
       "      <th>3</th>\n",
       "      <td>video7365</td>\n",
       "      <td>./test_1k_compress/video7365.mp4</td>\n",
       "      <td>cartoon people are eating at a restaurant</td>\n",
       "    </tr>\n",
       "    <tr>\n",
       "      <th>4</th>\n",
       "      <td>video8068</td>\n",
       "      <td>./test_1k_compress/video8068.mp4</td>\n",
       "      <td>a woman on a couch talks to a a man</td>\n",
       "    </tr>\n",
       "  </tbody>\n",
       "</table>\n",
       "</div>"
      ],
      "text/plain": [
       "    video_id                        video_path  \\\n",
       "0  video7579  ./test_1k_compress/video7579.mp4   \n",
       "1  video7725  ./test_1k_compress/video7725.mp4   \n",
       "2  video9258  ./test_1k_compress/video9258.mp4   \n",
       "3  video7365  ./test_1k_compress/video7365.mp4   \n",
       "4  video8068  ./test_1k_compress/video8068.mp4   \n",
       "\n",
       "                                            sentence  \n",
       "0  a girl wearing red top and black trouser is pu...  \n",
       "1  young people sit around the edges of a room cl...  \n",
       "2                          a person is using a phone  \n",
       "3          cartoon people are eating at a restaurant  \n",
       "4                a woman on a couch talks to a a man  "
      ]
     },
     "execution_count": 41,
     "metadata": {},
     "output_type": "execute_result"
    }
   ],
   "source": [
    "raw_samples_df = pd.read_csv(MSRVTT_SAMPLES)\n",
    "raw_samples_df[['video_id', 'video_path', 'sentence']].head()"
   ]
  },
  {
   "cell_type": "code",
   "execution_count": 43,
   "id": "1b971683",
   "metadata": {},
   "outputs": [],
   "source": [
    "def create_loader_pipeline(uts_value, milvus_col_name):\n",
    "    print(f\"Creating loader pipeline for {uts_value} with collection {milvus_col_name}\")\n",
    "    def read_loader_csv(csv_file):\n",
    "        with open(csv_file, 'r', encoding='utf-8-sig') as f:\n",
    "            data = csv.DictReader(f)\n",
    "            for line in data:\n",
    "                yield int(line['video_id'][len('video'):]), line['video_path']\n",
    "\n",
    "    video_loader_pipeline = (\n",
    "        pipe.input('csv_file')\n",
    "        .flat_map('csv_file', ('video_id', 'video_path'), read_loader_csv)\n",
    "        # Create 12 evenly distributed frames per video\n",
    "        .map('video_path', 'frames', ops.video_decode.ffmpeg(sample_type='uniform_temporal_subsample', \n",
    "                                                             args={'num_samples': uts_value}))\n",
    "        # I have a M2 Max, so device is set to mps for better performance\n",
    "        .map('frames', 'vec', ops.video_text_embedding.clip4clip(model_name='clip_vit_b32', \n",
    "                                                                 modality='video', device='mps'))\n",
    "        .map(('video_id', 'vec'), (), ops.ann_insert.milvus_client(collection_name=milvus_col_name))\n",
    "        .output('video_id')\n",
    "    )\n",
    "    return video_loader_pipeline\n",
    "\n",
    "def create_searcher_pipeline(milvus_col_name):\n",
    "    print(f\"Creating searcher pipeline with collection {milvus_col_name}\")\n",
    "    def read_video_search_csv(csv_file):\n",
    "        with open(csv_file, 'r', encoding='utf-8-sig') as f:\n",
    "            data = csv.DictReader(f)\n",
    "            for line in data:\n",
    "                yield line['video_id'], line['sentence']\n",
    "\n",
    "    video_search_pipeline = (\n",
    "        pipe.input('csv_file')\n",
    "        .flat_map('csv_file', ('rel_video_id', 'query'), read_video_search_csv)\n",
    "        .map('query', 'vec', ops.video_text_embedding.clip4clip(model_name='clip_vit_b32', modality='text', device='mps'))\n",
    "        .map('vec', 'top10_raw_res', \n",
    "            ops.ann_search.milvus_client(collection_name=milvus_col_name, limit=10))\n",
    "        .map('top10_raw_res', ('top1', 'top5', 'top10'), lambda x: (x[:1], x[:5], x[:10]))\n",
    "        .output('rel_video_id', 'query', 'top1', 'top5', 'top10')\n",
    "    )\n",
    "    return video_search_pipeline\n",
    "        \n",
    "\n",
    "def load_and_query_c4c(uts_values):\n",
    "    # (1) Create a new collection for each experiment\n",
    "    milvus_cols = {uts_val: VIDEO_RET_TUNING_COLLECTION_PREFIX +\n",
    "                   str(uts_val) for uts_val in uts_values}\n",
    "    print(f\"Creating collections: {list(milvus_cols.values())}\")\n",
    "    for uv, m_col_name in milvus_cols.items():\n",
    "        milvus_utils.create_milvus_collection(m_col_name, 512)\n",
    "\n",
    "    # (2) Create different loader pipelines for each experiment\n",
    "    loader_pipelines = {}\n",
    "    searcher_pipelines = {}\n",
    "    search_dcs = {}\n",
    "    search_results_dfs = {}\n",
    "    for uv, m_col_name in milvus_cols.items():\n",
    "        print(f\"Creating loader pipeline for {uv}\")\n",
    "        loader_pipelines[uv] = create_loader_pipeline(uv, m_col_name)\n",
    "        searcher_pipelines[uv] = create_searcher_pipeline(m_col_name)\n",
    "    \n",
    "    # (3) Call each loader pipeline\n",
    "    for uv, m_col_name in milvus_cols.items():\n",
    "        print(f\"Loading data into {m_col_name}\")\n",
    "        pipe = loader_pipelines[uv]\n",
    "        pipe(MSRVTT_SAMPLES)\n",
    "        print(f\"Finished loading data into {m_col_name}\")\n",
    "    \n",
    "    # (4) Call each searcher pipeline\n",
    "    for uv, m_col_name in milvus_cols.items():\n",
    "        print(f\"Searching data in {m_col_name}\")\n",
    "        search_pipe = searcher_pipelines[uv]\n",
    "        search_dc = DataCollection(search_pipe(MSRVTT_SAMPLES))\n",
    "        search_dcs[uv] = search_dc\n",
    "        search_results_dfs[uv] = my_eval_utils.twohee_data_col_to_df(search_dc)\n",
    "        print(f\"Finished searching data in {m_col_name}\")\n",
    "\n",
    "    return search_results_dfs"
   ]
  },
  {
   "cell_type": "code",
   "execution_count": 44,
   "id": "e13f2adf",
   "metadata": {},
   "outputs": [
    {
     "name": "stdout",
     "output_type": "stream",
     "text": [
      "Creating collections: ['msrvtt_vid_hyp_tun_4', 'msrvtt_vid_hyp_tun_6', 'msrvtt_vid_hyp_tun_8', 'msrvtt_vid_hyp_tun_10', 'msrvtt_vid_hyp_tun_12']\n",
      "Creating loader pipeline for 4\n",
      "Creating loader pipeline for 4 with collection msrvtt_vid_hyp_tun_4\n",
      "Creating searcher pipeline with collection msrvtt_vid_hyp_tun_4\n",
      "Creating loader pipeline for 6\n",
      "Creating loader pipeline for 6 with collection msrvtt_vid_hyp_tun_6\n",
      "Creating searcher pipeline with collection msrvtt_vid_hyp_tun_6\n",
      "Creating loader pipeline for 8\n",
      "Creating loader pipeline for 8 with collection msrvtt_vid_hyp_tun_8\n",
      "Creating searcher pipeline with collection msrvtt_vid_hyp_tun_8\n",
      "Creating loader pipeline for 10\n",
      "Creating loader pipeline for 10 with collection msrvtt_vid_hyp_tun_10\n",
      "Creating searcher pipeline with collection msrvtt_vid_hyp_tun_10\n",
      "Creating loader pipeline for 12\n",
      "Creating loader pipeline for 12 with collection msrvtt_vid_hyp_tun_12\n",
      "Creating searcher pipeline with collection msrvtt_vid_hyp_tun_12\n"
     ]
    },
    {
     "name": "stderr",
     "output_type": "stream",
     "text": [
      "2025-04-17 16:56:40,676 - 14023471104 - node.py-node:167 - INFO: Begin to run Node-_input\n",
      "2025-04-17 16:56:40,680 - 14040297472 - node.py-node:167 - INFO: Begin to run Node-read_loader_csv-0\n",
      "2025-04-17 16:56:40,681 - 14023471104 - node.py-node:167 - INFO: Begin to run Node-video-decode/ffmpeg-1\n",
      "2025-04-17 16:56:40,681 - 14057123840 - node.py-node:167 - INFO: Begin to run Node-video-text-embedding/clip4clip-2\n",
      "2025-04-17 16:56:40,681 - 14073950208 - node.py-node:167 - INFO: Begin to run Node-ann-insert/milvus-client-3\n",
      "2025-04-17 16:56:40,682 - 14090776576 - node.py-node:167 - INFO: Begin to run Node-_output\n"
     ]
    },
    {
     "name": "stdout",
     "output_type": "stream",
     "text": [
      "Loading data into msrvtt_vid_hyp_tun_4\n"
     ]
    },
    {
     "name": "stderr",
     "output_type": "stream",
     "text": [
      "2025-04-17 16:57:32,722 - 26208137216 - node.py-node:167 - INFO: Begin to run Node-_input\n",
      "2025-04-17 16:57:32,722 - 26224963584 - node.py-node:167 - INFO: Begin to run Node-read_loader_csv-0\n",
      "2025-04-17 16:57:32,723 - 26241789952 - node.py-node:167 - INFO: Begin to run Node-video-decode/ffmpeg-1\n",
      "2025-04-17 16:57:32,723 - 26258616320 - node.py-node:167 - INFO: Begin to run Node-video-text-embedding/clip4clip-2\n",
      "2025-04-17 16:57:32,723 - 26208137216 - node.py-node:167 - INFO: Begin to run Node-ann-insert/milvus-client-3\n",
      "2025-04-17 16:57:32,724 - 26323890176 - node.py-node:167 - INFO: Begin to run Node-_output\n"
     ]
    },
    {
     "name": "stdout",
     "output_type": "stream",
     "text": [
      "Finished loading data into msrvtt_vid_hyp_tun_4\n",
      "Loading data into msrvtt_vid_hyp_tun_6\n"
     ]
    },
    {
     "name": "stderr",
     "output_type": "stream",
     "text": [
      "2025-04-17 16:58:28,509 - 20865642496 - node.py-node:167 - INFO: Begin to run Node-_input\n",
      "2025-04-17 16:58:28,510 - 20966305792 - node.py-node:167 - INFO: Begin to run Node-read_loader_csv-0\n",
      "2025-04-17 16:58:28,511 - 20992520192 - node.py-node:167 - INFO: Begin to run Node-video-decode/ffmpeg-1\n",
      "2025-04-17 16:58:28,512 - 25954381824 - node.py-node:167 - INFO: Begin to run Node-video-text-embedding/clip4clip-2\n",
      "2025-04-17 16:58:28,512 - 20865642496 - node.py-node:167 - INFO: Begin to run Node-ann-insert/milvus-client-3\n",
      "2025-04-17 16:58:28,512 - 25971208192 - node.py-node:167 - INFO: Begin to run Node-_output\n"
     ]
    },
    {
     "name": "stdout",
     "output_type": "stream",
     "text": [
      "Finished loading data into msrvtt_vid_hyp_tun_6\n",
      "Loading data into msrvtt_vid_hyp_tun_8\n"
     ]
    },
    {
     "name": "stderr",
     "output_type": "stream",
     "text": [
      "2025-04-17 16:59:30,335 - 26885517312 - node.py-node:167 - INFO: Begin to run Node-_input\n",
      "2025-04-17 16:59:30,336 - 26915942400 - node.py-node:167 - INFO: Begin to run Node-read_loader_csv-0\n",
      "2025-04-17 16:59:30,336 - 26932768768 - node.py-node:167 - INFO: Begin to run Node-video-decode/ffmpeg-1\n",
      "2025-04-17 16:59:30,337 - 26949595136 - node.py-node:167 - INFO: Begin to run Node-video-text-embedding/clip4clip-2\n",
      "2025-04-17 16:59:30,337 - 26885517312 - node.py-node:167 - INFO: Begin to run Node-ann-insert/milvus-client-3\n",
      "2025-04-17 16:59:30,337 - 26966421504 - node.py-node:167 - INFO: Begin to run Node-_output\n"
     ]
    },
    {
     "name": "stdout",
     "output_type": "stream",
     "text": [
      "Finished loading data into msrvtt_vid_hyp_tun_8\n",
      "Loading data into msrvtt_vid_hyp_tun_10\n"
     ]
    },
    {
     "name": "stderr",
     "output_type": "stream",
     "text": [
      "2025-04-17 17:00:49,228 - 30244630528 - node.py-node:167 - INFO: Begin to run Node-_input\n",
      "2025-04-17 17:00:49,229 - 30261456896 - node.py-node:167 - INFO: Begin to run Node-read_loader_csv-0\n",
      "2025-04-17 17:00:49,229 - 30278283264 - node.py-node:167 - INFO: Begin to run Node-video-decode/ffmpeg-1\n",
      "2025-04-17 17:00:49,230 - 30295109632 - node.py-node:167 - INFO: Begin to run Node-video-text-embedding/clip4clip-2\n",
      "2025-04-17 17:00:49,231 - 30311936000 - node.py-node:167 - INFO: Begin to run Node-ann-insert/milvus-client-3\n",
      "2025-04-17 17:00:49,231 - 30244630528 - node.py-node:167 - INFO: Begin to run Node-_output\n"
     ]
    },
    {
     "name": "stdout",
     "output_type": "stream",
     "text": [
      "Finished loading data into msrvtt_vid_hyp_tun_10\n",
      "Loading data into msrvtt_vid_hyp_tun_12\n"
     ]
    },
    {
     "name": "stderr",
     "output_type": "stream",
     "text": [
      "2025-04-17 17:02:01,395 - 31135330304 - node.py-node:167 - INFO: Begin to run Node-_input\n",
      "2025-04-17 17:02:01,396 - 31692189696 - node.py-node:167 - INFO: Begin to run Node-read_video_search_csv-0\n",
      "2025-04-17 17:02:01,397 - 31709016064 - node.py-node:167 - INFO: Begin to run Node-video-text-embedding/clip4clip-1\n",
      "2025-04-17 17:02:01,398 - 31725842432 - node.py-node:167 - INFO: Begin to run Node-ann-search/milvus-client-2\n",
      "2025-04-17 17:02:01,398 - 31135330304 - node.py-node:167 - INFO: Begin to run Node-lambda-3\n",
      "2025-04-17 17:02:01,398 - 31742668800 - node.py-node:167 - INFO: Begin to run Node-_output\n"
     ]
    },
    {
     "name": "stdout",
     "output_type": "stream",
     "text": [
      "Finished loading data into msrvtt_vid_hyp_tun_12\n",
      "Searching data in msrvtt_vid_hyp_tun_4\n"
     ]
    },
    {
     "name": "stderr",
     "output_type": "stream",
     "text": [
      "2025-04-17 17:03:13,745 - 16898895872 - node.py-node:167 - INFO: Begin to run Node-_input\n",
      "2025-04-17 17:03:13,745 - 16990040064 - node.py-node:167 - INFO: Begin to run Node-read_video_search_csv-0\n",
      "2025-04-17 17:03:13,745 - 17096011776 - node.py-node:167 - INFO: Begin to run Node-video-text-embedding/clip4clip-1\n",
      "2025-04-17 17:03:13,746 - 17134809088 - node.py-node:167 - INFO: Begin to run Node-ann-search/milvus-client-2\n",
      "2025-04-17 17:03:13,746 - 16898895872 - node.py-node:167 - INFO: Begin to run Node-lambda-3\n",
      "2025-04-17 17:03:13,746 - 18203308032 - node.py-node:167 - INFO: Begin to run Node-_output\n"
     ]
    },
    {
     "name": "stdout",
     "output_type": "stream",
     "text": [
      "Finished searching data in msrvtt_vid_hyp_tun_4\n",
      "Searching data in msrvtt_vid_hyp_tun_6\n"
     ]
    },
    {
     "name": "stderr",
     "output_type": "stream",
     "text": [
      "2025-04-17 17:04:26,206 - 18220134400 - node.py-node:167 - INFO: Begin to run Node-_input\n",
      "2025-04-17 17:04:26,207 - 18236960768 - node.py-node:167 - INFO: Begin to run Node-read_video_search_csv-0\n",
      "2025-04-17 17:04:26,207 - 18687864832 - node.py-node:167 - INFO: Begin to run Node-video-text-embedding/clip4clip-1\n",
      "2025-04-17 17:04:26,207 - 20599304192 - node.py-node:167 - INFO: Begin to run Node-ann-search/milvus-client-2\n",
      "2025-04-17 17:04:26,208 - 18220134400 - node.py-node:167 - INFO: Begin to run Node-lambda-3\n",
      "2025-04-17 17:04:26,208 - 20697870336 - node.py-node:167 - INFO: Begin to run Node-_output\n"
     ]
    },
    {
     "name": "stdout",
     "output_type": "stream",
     "text": [
      "Finished searching data in msrvtt_vid_hyp_tun_6\n",
      "Searching data in msrvtt_vid_hyp_tun_8\n"
     ]
    },
    {
     "name": "stderr",
     "output_type": "stream",
     "text": [
      "2025-04-17 17:11:56,785 - 20845719552 - node.py-node:167 - INFO: Begin to run Node-_input\n",
      "2025-04-17 17:11:56,785 - 25988034560 - node.py-node:167 - INFO: Begin to run Node-read_video_search_csv-0\n",
      "2025-04-17 17:11:56,786 - 26004860928 - node.py-node:167 - INFO: Begin to run Node-video-text-embedding/clip4clip-1\n",
      "2025-04-17 17:11:56,786 - 26088796160 - node.py-node:167 - INFO: Begin to run Node-ann-search/milvus-client-2\n",
      "2025-04-17 17:11:56,787 - 26105622528 - node.py-node:167 - INFO: Begin to run Node-lambda-3\n",
      "2025-04-17 17:11:56,787 - 26122448896 - node.py-node:167 - INFO: Begin to run Node-_output\n"
     ]
    },
    {
     "name": "stdout",
     "output_type": "stream",
     "text": [
      "Finished searching data in msrvtt_vid_hyp_tun_8\n",
      "Searching data in msrvtt_vid_hyp_tun_10\n"
     ]
    },
    {
     "name": "stderr",
     "output_type": "stream",
     "text": [
      "2025-04-17 17:13:10,464 - 26139275264 - node.py-node:167 - INFO: Begin to run Node-_input\n",
      "2025-04-17 17:13:10,464 - 26349137920 - node.py-node:167 - INFO: Begin to run Node-read_video_search_csv-0\n",
      "2025-04-17 17:13:10,464 - 26365964288 - node.py-node:167 - INFO: Begin to run Node-video-text-embedding/clip4clip-1\n",
      "2025-04-17 17:13:10,465 - 26382790656 - node.py-node:167 - INFO: Begin to run Node-ann-search/milvus-client-2\n",
      "2025-04-17 17:13:10,465 - 26139275264 - node.py-node:167 - INFO: Begin to run Node-lambda-3\n",
      "2025-04-17 17:13:10,465 - 26399617024 - node.py-node:167 - INFO: Begin to run Node-_output\n"
     ]
    },
    {
     "name": "stdout",
     "output_type": "stream",
     "text": [
      "Finished searching data in msrvtt_vid_hyp_tun_10\n",
      "Searching data in msrvtt_vid_hyp_tun_12\n",
      "Finished searching data in msrvtt_vid_hyp_tun_12\n"
     ]
    }
   ],
   "source": [
    "experiment_query_results = load_and_query_c4c([4, 6, 8, 10, 12])"
   ]
  },
  {
   "cell_type": "code",
   "execution_count": 46,
   "id": "c57704c8",
   "metadata": {},
   "outputs": [
    {
     "name": "stdout",
     "output_type": "stream",
     "text": [
      "Saved search results for 4 to CSV.\n",
      "Saved search results for 6 to CSV.\n",
      "Saved search results for 8 to CSV.\n",
      "Saved search results for 10 to CSV.\n",
      "Saved search results for 12 to CSV.\n"
     ]
    }
   ],
   "source": [
    "# Store all these dataframes into results folder for further evaluation\n",
    "\n",
    "for uv, search_results_df in experiment_query_results.items():\n",
    "    search_results_df.to_csv(f\"query_results/c4c_hyp_tuning_uv_{uv}.csv\", index=False)\n",
    "    print(f\"Saved search results for {uv} to CSV.\")"
   ]
  },
  {
   "cell_type": "code",
   "execution_count": 47,
   "id": "25af4b7c",
   "metadata": {},
   "outputs": [
    {
     "ename": "NameError",
     "evalue": "name 'np' is not defined",
     "output_type": "error",
     "traceback": [
      "\u001b[0;31m---------------------------------------------------------------------------\u001b[0m",
      "\u001b[0;31mNameError\u001b[0m                                 Traceback (most recent call last)",
      "Cell \u001b[0;32mIn[47], line 5\u001b[0m\n\u001b[1;32m      3\u001b[0m scores \u001b[38;5;241m=\u001b[39m []\n\u001b[1;32m      4\u001b[0m \u001b[38;5;28;01mfor\u001b[39;00m uv, search_results_df \u001b[38;5;129;01min\u001b[39;00m experiment_query_results\u001b[38;5;241m.\u001b[39mitems():\n\u001b[0;32m----> 5\u001b[0m     scores \u001b[38;5;241m=\u001b[39m \u001b[43mmy_eval_utils\u001b[49m\u001b[38;5;241;43m.\u001b[39;49m\u001b[43mget_all_eval_scores\u001b[49m\u001b[43m(\u001b[49m\u001b[43msearch_results_df\u001b[49m\u001b[43m)\u001b[49m\n\u001b[1;32m      6\u001b[0m     scores\u001b[38;5;241m.\u001b[39mappend((uv, scores))\n",
      "File \u001b[0;32m~/Documents/Classes/Spring2025/is4200/final-proj/helpers/eval_utils.py:147\u001b[0m, in \u001b[0;36mget_all_eval_scores\u001b[0;34m(df)\u001b[0m\n\u001b[1;32m    145\u001b[0m recall_scores \u001b[38;5;241m=\u001b[39m calculate_recall(df)\n\u001b[1;32m    146\u001b[0m map_score \u001b[38;5;241m=\u001b[39m calculate_mean_average_precision(df)\n\u001b[0;32m--> 147\u001b[0m ndcg_score_1 \u001b[38;5;241m=\u001b[39m \u001b[43mcalculate_ndcg\u001b[49m\u001b[43m(\u001b[49m\u001b[43mdf\u001b[49m\u001b[43m,\u001b[49m\u001b[43m \u001b[49m\u001b[43mk\u001b[49m\u001b[38;5;241;43m=\u001b[39;49m\u001b[38;5;241;43m1\u001b[39;49m\u001b[43m)\u001b[49m\n\u001b[1;32m    148\u001b[0m ndcg_score_5 \u001b[38;5;241m=\u001b[39m calculate_ndcg(df, k\u001b[38;5;241m=\u001b[39m\u001b[38;5;241m5\u001b[39m)\n\u001b[1;32m    149\u001b[0m ndcg_score_10 \u001b[38;5;241m=\u001b[39m calculate_ndcg(df, k\u001b[38;5;241m=\u001b[39m\u001b[38;5;241m10\u001b[39m)\n",
      "File \u001b[0;32m~/Documents/Classes/Spring2025/is4200/final-proj/helpers/eval_utils.py:137\u001b[0m, in \u001b[0;36mcalculate_ndcg\u001b[0;34m(df, k)\u001b[0m\n\u001b[1;32m    135\u001b[0m     ground_truth \u001b[38;5;241m=\u001b[39m row[\u001b[38;5;124m'\u001b[39m\u001b[38;5;124mground_truth\u001b[39m\u001b[38;5;124m'\u001b[39m]\n\u001b[1;32m    136\u001b[0m     predictions_with_scores \u001b[38;5;241m=\u001b[39m row[\u001b[38;5;124m'\u001b[39m\u001b[38;5;124mtop10\u001b[39m\u001b[38;5;124m'\u001b[39m]\n\u001b[0;32m--> 137\u001b[0m     ndcg_scores\u001b[38;5;241m.\u001b[39mappend(\u001b[43mndcg_score\u001b[49m\u001b[43m(\u001b[49m\n\u001b[1;32m    138\u001b[0m \u001b[43m        \u001b[49m\u001b[43mground_truth\u001b[49m\u001b[43m,\u001b[49m\u001b[43m \u001b[49m\u001b[43mpredictions_with_scores\u001b[49m\u001b[43m,\u001b[49m\u001b[43m \u001b[49m\u001b[43mk\u001b[49m\u001b[43m)\u001b[49m)\n\u001b[1;32m    140\u001b[0m \u001b[38;5;28;01mreturn\u001b[39;00m \u001b[38;5;28msum\u001b[39m(ndcg_scores) \u001b[38;5;241m/\u001b[39m \u001b[38;5;28mlen\u001b[39m(ndcg_scores) \u001b[38;5;28;01mif\u001b[39;00m ndcg_scores \u001b[38;5;28;01melse\u001b[39;00m \u001b[38;5;241m0\u001b[39m\n",
      "File \u001b[0;32m~/Documents/Classes/Spring2025/is4200/final-proj/helpers/eval_utils.py:113\u001b[0m, in \u001b[0;36mndcg_score\u001b[0;34m(ground_truth, predictions, k)\u001b[0m\n\u001b[1;32m    109\u001b[0m relevance_scores \u001b[38;5;241m=\u001b[39m [\u001b[38;5;241m1\u001b[39m \u001b[38;5;28;01mif\u001b[39;00m pred[\u001b[38;5;241m0\u001b[39m] \u001b[38;5;241m==\u001b[39m\n\u001b[1;32m    110\u001b[0m                     ground_truth \u001b[38;5;28;01melse\u001b[39;00m \u001b[38;5;241m0\u001b[39m \u001b[38;5;28;01mfor\u001b[39;00m pred \u001b[38;5;129;01min\u001b[39;00m predictions[:k]]\n\u001b[1;32m    112\u001b[0m \u001b[38;5;66;03m# Calculate DCG and IDCG\u001b[39;00m\n\u001b[0;32m--> 113\u001b[0m actual_dcg \u001b[38;5;241m=\u001b[39m \u001b[43mdcg\u001b[49m\u001b[43m(\u001b[49m\u001b[43mrelevance_scores\u001b[49m\u001b[43m)\u001b[49m\n\u001b[1;32m    114\u001b[0m ideal_dcg \u001b[38;5;241m=\u001b[39m dcg(\u001b[38;5;28msorted\u001b[39m(relevance_scores, reverse\u001b[38;5;241m=\u001b[39m\u001b[38;5;28;01mTrue\u001b[39;00m))\n\u001b[1;32m    116\u001b[0m \u001b[38;5;66;03m# Return NDCG\u001b[39;00m\n",
      "File \u001b[0;32m~/Documents/Classes/Spring2025/is4200/final-proj/helpers/eval_utils.py:106\u001b[0m, in \u001b[0;36mndcg_score.<locals>.dcg\u001b[0;34m(relevance_scores)\u001b[0m\n\u001b[1;32m    105\u001b[0m \u001b[38;5;28;01mdef\u001b[39;00m \u001b[38;5;21mdcg\u001b[39m(relevance_scores):\n\u001b[0;32m--> 106\u001b[0m     \u001b[38;5;28;01mreturn\u001b[39;00m \u001b[38;5;28;43msum\u001b[39;49m\u001b[43m(\u001b[49m\u001b[43mrel\u001b[49m\u001b[43m \u001b[49m\u001b[38;5;241;43m/\u001b[39;49m\u001b[43m \u001b[49m\u001b[43mnp\u001b[49m\u001b[38;5;241;43m.\u001b[39;49m\u001b[43mlog2\u001b[49m\u001b[43m(\u001b[49m\u001b[43midx\u001b[49m\u001b[43m \u001b[49m\u001b[38;5;241;43m+\u001b[39;49m\u001b[43m \u001b[49m\u001b[38;5;241;43m2\u001b[39;49m\u001b[43m)\u001b[49m\u001b[43m \u001b[49m\u001b[38;5;28;43;01mfor\u001b[39;49;00m\u001b[43m \u001b[49m\u001b[43midx\u001b[49m\u001b[43m,\u001b[49m\u001b[43m \u001b[49m\u001b[43mrel\u001b[49m\u001b[43m \u001b[49m\u001b[38;5;129;43;01min\u001b[39;49;00m\u001b[43m \u001b[49m\u001b[38;5;28;43menumerate\u001b[39;49m\u001b[43m(\u001b[49m\u001b[43mrelevance_scores\u001b[49m\u001b[43m)\u001b[49m\u001b[43m)\u001b[49m\n",
      "File \u001b[0;32m~/Documents/Classes/Spring2025/is4200/final-proj/helpers/eval_utils.py:106\u001b[0m, in \u001b[0;36m<genexpr>\u001b[0;34m(.0)\u001b[0m\n\u001b[1;32m    105\u001b[0m \u001b[38;5;28;01mdef\u001b[39;00m \u001b[38;5;21mdcg\u001b[39m(relevance_scores):\n\u001b[0;32m--> 106\u001b[0m     \u001b[38;5;28;01mreturn\u001b[39;00m \u001b[38;5;28msum\u001b[39m(rel \u001b[38;5;241m/\u001b[39m \u001b[43mnp\u001b[49m\u001b[38;5;241m.\u001b[39mlog2(idx \u001b[38;5;241m+\u001b[39m \u001b[38;5;241m2\u001b[39m) \u001b[38;5;28;01mfor\u001b[39;00m idx, rel \u001b[38;5;129;01min\u001b[39;00m \u001b[38;5;28menumerate\u001b[39m(relevance_scores))\n",
      "\u001b[0;31mNameError\u001b[0m: name 'np' is not defined"
     ]
    }
   ],
   "source": [
    "# Preview eval results in a table\n",
    "results_df = pd.DataFrame()\n",
    "scores = []\n",
    "for uv, search_results_df in experiment_query_results.items():\n",
    "    scores = my_eval_utils.get_all_eval_scores(search_results_df)\n",
    "    scores.append((uv, scores))"
   ]
  },
  {
   "cell_type": "code",
   "execution_count": 48,
   "id": "5def472b",
   "metadata": {},
   "outputs": [
    {
     "data": {
      "application/vnd.microsoft.datawrangler.viewer.v0+json": {
       "columns": [
        {
         "name": "index",
         "rawType": "int64",
         "type": "integer"
        },
        {
         "name": "rel_video_id",
         "rawType": "object",
         "type": "string"
        },
        {
         "name": "query",
         "rawType": "object",
         "type": "string"
        },
        {
         "name": "top1",
         "rawType": "object",
         "type": "unknown"
        },
        {
         "name": "top5",
         "rawType": "object",
         "type": "unknown"
        },
        {
         "name": "top10",
         "rawType": "object",
         "type": "unknown"
        },
        {
         "name": "ground_truth",
         "rawType": "int64",
         "type": "integer"
        }
       ],
       "conversionMethod": "pd.DataFrame",
       "ref": "a539b70c-ccb0-4505-a873-084f579725b2",
       "rows": [
        [
         "0",
         "video7579",
         "a girl wearing red top and black trouser is putting a sweater on a dog",
         "[[7579, 1.4419159889221191]]",
         "[[7579, 1.4419159889221191], [9969, 1.454778790473938], [9347, 1.5092854499816895], [8837, 1.5100274085998535], [9034, 1.5111958980560303]]",
         "[[7579, 1.4419159889221191], [9969, 1.454778790473938], [9347, 1.5092854499816895], [8837, 1.5100274085998535], [9034, 1.5111958980560303], [9348, 1.5196607112884521], [8866, 1.5261640548706055], [8604, 1.5342841148376465], [9580, 1.5375339984893799], [8825, 1.5395337343215942]]",
         "7579"
        ],
        [
         "1",
         "video7725",
         "young people sit around the edges of a room clapping and raising their arms while others dance in the center during a party",
         "[[7725, 1.3929578065872192]]",
         "[[7725, 1.3929578065872192], [8339, 1.4668443202972412], [9254, 1.4699351787567139], [8303, 1.5062799453735352], [8014, 1.5187926292419434]]",
         "[[7725, 1.3929578065872192], [8339, 1.4668443202972412], [9254, 1.4699351787567139], [8303, 1.5062799453735352], [8014, 1.5187926292419434], [9815, 1.5338184833526611], [7732, 1.5351190567016602], [9957, 1.536557912826538], [8442, 1.5366026163101196], [9243, 1.5409189462661743]]",
         "7725"
        ],
        [
         "2",
         "video9258",
         "a person is using a phone",
         "[[9258, 1.4097641706466675]]",
         "[[9258, 1.4097641706466675], [9257, 1.442448377609253], [9697, 1.4582353830337524], [7910, 1.4844496250152588], [8924, 1.4980531930923462]]",
         "[[9258, 1.4097641706466675], [9257, 1.442448377609253], [9697, 1.4582353830337524], [7910, 1.4844496250152588], [8924, 1.4980531930923462], [7363, 1.5250228643417358], [7154, 1.5283608436584473], [7593, 1.5296299457550049], [7369, 1.534214735031128], [9603, 1.5352033376693726]]",
         "9258"
        ],
        [
         "3",
         "video7365",
         "cartoon people are eating at a restaurant",
         "[[7365, 1.4170596599578857]]",
         "[[7365, 1.4170596599578857], [9537, 1.4586076736450195], [8781, 1.481340765953064], [7831, 1.4882769584655762], [7741, 1.503652572631836]]",
         "[[7365, 1.4170596599578857], [9537, 1.4586076736450195], [8781, 1.481340765953064], [7831, 1.4882769584655762], [7741, 1.503652572631836], [8911, 1.5071903467178345], [7222, 1.5082383155822754], [9777, 1.5524722337722778], [7111, 1.5647103786468506], [8839, 1.568527102470398]]",
         "7365"
        ],
        [
         "4",
         "video8068",
         "a woman on a couch talks to a a man",
         "[[8068, 1.4879887104034424]]",
         "[[8068, 1.4879887104034424], [9919, 1.5021100044250488], [9347, 1.5031837224960327], [8826, 1.50520920753479], [7162, 1.5090198516845703]]",
         "[[8068, 1.4879887104034424], [9919, 1.5021100044250488], [9347, 1.5031837224960327], [8826, 1.50520920753479], [7162, 1.5090198516845703], [8813, 1.511002779006958], [9012, 1.5129187107086182], [8048, 1.516589879989624], [7149, 1.5307590961456299], [8790, 1.5308241844177246]]",
         "8068"
        ],
        [
         "5",
         "video7131",
         "athletes are getting ready and start running for an event",
         "[[8264, 1.4207385778427124]]",
         "[[8264, 1.4207385778427124], [8451, 1.4563243389129639], [7131, 1.4596071243286133], [8945, 1.4785161018371582], [8322, 1.5389807224273682]]",
         "[[8264, 1.4207385778427124], [8451, 1.4563243389129639], [7131, 1.4596071243286133], [8945, 1.4785161018371582], [8322, 1.5389807224273682], [8013, 1.5393708944320679], [9803, 1.5428693294525146], [9302, 1.5484540462493896], [8622, 1.5498954057693481], [7153, 1.5512957572937012]]",
         "7131"
        ],
        [
         "6",
         "video7213",
         "a woman is making lasagna",
         "[[7213, 1.4615671634674072]]",
         "[[7213, 1.4615671634674072], [9836, 1.474291443824768], [8915, 1.4748141765594482], [7165, 1.4770886898040771], [8910, 1.4905635118484497]]",
         "[[7213, 1.4615671634674072], [9836, 1.474291443824768], [8915, 1.4748141765594482], [7165, 1.4770886898040771], [8910, 1.4905635118484497], [8345, 1.4939656257629395], [7591, 1.5125000476837158], [8654, 1.5142185688018799], [7826, 1.517155647277832], [9731, 1.5174310207366943]]",
         "7213"
        ],
        [
         "7",
         "video7575",
         "a man speaking in a microphone",
         "[[7828, 1.454134225845337]]",
         "[[7828, 1.454134225845337], [7575, 1.476961612701416], [8259, 1.4858334064483643], [9690, 1.486812710762024], [8830, 1.4915337562561035]]",
         "[[7828, 1.454134225845337], [7575, 1.476961612701416], [8259, 1.4858334064483643], [9690, 1.486812710762024], [8830, 1.4915337562561035], [9885, 1.491624355316162], [8416, 1.4990794658660889], [9117, 1.4990971088409424], [9233, 1.506664514541626], [8917, 1.5088849067687988]]",
         "7575"
        ],
        [
         "8",
         "video7978",
         "a team with blue uniforms are playing badmitten with a team in white",
         "[[7500, 1.47149658203125]]",
         "[[7500, 1.47149658203125], [9823, 1.4739913940429688], [9013, 1.484644889831543], [9605, 1.4872690439224243], [8675, 1.4881246089935303]]",
         "[[7500, 1.47149658203125], [9823, 1.4739913940429688], [9013, 1.484644889831543], [9605, 1.4872690439224243], [8675, 1.4881246089935303], [8660, 1.4889637231826782], [7358, 1.4919072389602661], [9647, 1.4964892864227295], [7978, 1.4970195293426514], [7699, 1.4996660947799683]]",
         "7978"
        ],
        [
         "9",
         "video8123",
         "a woman is giving demo for baby trolley",
         "[[7230, 1.3645353317260742]]",
         "[[7230, 1.3645353317260742], [9755, 1.3805193901062012], [8258, 1.384282112121582], [7217, 1.4661024808883667], [8123, 1.4987860918045044]]",
         "[[7230, 1.3645353317260742], [9755, 1.3805193901062012], [8258, 1.384282112121582], [7217, 1.4661024808883667], [8123, 1.4987860918045044], [8863, 1.5129650831222534], [8899, 1.5144002437591553], [9322, 1.5499147176742554], [8110, 1.557844877243042], [8240, 1.5580759048461914]]",
         "8123"
        ],
        [
         "10",
         "video9800",
         "a car is in a wreck",
         "[[7649, 1.4415688514709473]]",
         "[[7649, 1.4415688514709473], [9800, 1.465641975402832], [8243, 1.4895414113998413], [7614, 1.4968950748443604], [9622, 1.5112518072128296]]",
         "[[7649, 1.4415688514709473], [9800, 1.465641975402832], [8243, 1.4895414113998413], [7614, 1.4968950748443604], [9622, 1.5112518072128296], [7752, 1.5305949449539185], [7820, 1.532637596130371], [9354, 1.5341607332229614], [9975, 1.5378342866897583], [8497, 1.5415287017822266]]",
         "9800"
        ],
        [
         "11",
         "video9205",
         "a woman interviewing about her part in a protest happening in brazil",
         "[[9205, 1.4835752248764038]]",
         "[[9205, 1.4835752248764038], [8311, 1.5293607711791992], [8022, 1.53608238697052], [7364, 1.5409760475158691], [8650, 1.541276454925537]]",
         "[[9205, 1.4835752248764038], [8311, 1.5293607711791992], [8022, 1.53608238697052], [7364, 1.5409760475158691], [8650, 1.541276454925537], [9131, 1.554997444152832], [8789, 1.5579030513763428], [9028, 1.5585544109344482], [8906, 1.5641483068466187], [9882, 1.5670218467712402]]",
         "9205"
        ],
        [
         "12",
         "video7590",
         "an emotional scene of two persons where they are crying on meeting",
         "[[7590, 1.3663679361343384]]",
         "[[7590, 1.3663679361343384], [7114, 1.4822285175323486], [8653, 1.4924938678741455], [8330, 1.4960300922393799], [7782, 1.5084232091903687]]",
         "[[7590, 1.3663679361343384], [7114, 1.4822285175323486], [8653, 1.4924938678741455], [8330, 1.4960300922393799], [7782, 1.5084232091903687], [8974, 1.5089188814163208], [8340, 1.510578989982605], [7175, 1.5106298923492432], [8808, 1.5133695602416992], [8829, 1.5175824165344238]]",
         "7590"
        ],
        [
         "13",
         "video9017",
         "the man is driving his motorbike fast and having problems on the race",
         "[[9017, 1.4406211376190186]]",
         "[[9017, 1.4406211376190186], [8820, 1.4518262147903442], [8657, 1.4751462936401367], [7544, 1.4977102279663086], [8089, 1.503908634185791]]",
         "[[9017, 1.4406211376190186], [8820, 1.4518262147903442], [8657, 1.4751462936401367], [7544, 1.4977102279663086], [8089, 1.503908634185791], [9609, 1.5151691436767578], [7219, 1.5314619541168213], [9813, 1.5357375144958496], [8934, 1.5420329570770264], [9578, 1.5543627738952637]]",
         "9017"
        ],
        [
         "14",
         "video9241",
         "japanese people laughing and dancing",
         "[[9241, 1.3588354587554932]]",
         "[[9241, 1.3588354587554932], [9682, 1.438002347946167], [9131, 1.4834990501403809], [8349, 1.5128482580184937], [8303, 1.5141887664794922]]",
         "[[9241, 1.3588354587554932], [9682, 1.438002347946167], [9131, 1.4834990501403809], [8349, 1.5128482580184937], [8303, 1.5141887664794922], [7212, 1.5297393798828125], [7725, 1.5299190282821655], [9603, 1.5348930358886719], [8074, 1.5424551963806152], [7970, 1.542848825454712]]",
         "9241"
        ],
        [
         "15",
         "video7158",
         "fox news presidential debate recapping the gop debate with donald trump and ted cruz",
         "[[7158, 1.3363046646118164]]",
         "[[7158, 1.3363046646118164], [8464, 1.4354467391967773], [7731, 1.4944976568222046], [9223, 1.5228968858718872], [7754, 1.5501338243484497]]",
         "[[7158, 1.3363046646118164], [8464, 1.4354467391967773], [7731, 1.4944976568222046], [9223, 1.5228968858718872], [7754, 1.5501338243484497], [8864, 1.5544581413269043], [7613, 1.5651707649230957], [8175, 1.5837528705596924], [8905, 1.5965380668640137], [8120, 1.603116512298584]]",
         "7158"
        ],
        [
         "16",
         "video9233",
         "a man is giving a speech",
         "[[8830, 1.4144706726074219]]",
         "[[8830, 1.4144706726074219], [9203, 1.4485361576080322], [9233, 1.4818158149719238], [7410, 1.4860875606536865], [8072, 1.4864742755889893]]",
         "[[8830, 1.4144706726074219], [9203, 1.4485361576080322], [9233, 1.4818158149719238], [7410, 1.4860875606536865], [8072, 1.4864742755889893], [7828, 1.4973725080490112], [9117, 1.4975261688232422], [9406, 1.5026869773864746], [8917, 1.5027847290039062], [9522, 1.510361671447754]]",
         "9233"
        ],
        [
         "17",
         "video8687",
         "fast moving time is shown here",
         "[[8655, 1.475968599319458]]",
         "[[8655, 1.475968599319458], [7544, 1.4813200235366821], [7219, 1.4835476875305176], [9328, 1.4849348068237305], [8451, 1.4939632415771484]]",
         "[[8655, 1.475968599319458], [7544, 1.4813200235366821], [7219, 1.4835476875305176], [9328, 1.4849348068237305], [8451, 1.4939632415771484], [7214, 1.4988720417022705], [7699, 1.5004373788833618], [8089, 1.5017342567443848], [7506, 1.5027766227722168], [8016, 1.5103263854980469]]",
         "8687"
        ],
        [
         "18",
         "video9337",
         "some people are inside of a room",
         "[[7149, 1.48402738571167]]",
         "[[7149, 1.48402738571167], [9322, 1.4865221977233887], [8129, 1.494559407234192], [9326, 1.5000321865081787], [8339, 1.500380039215088]]",
         "[[7149, 1.48402738571167], [9322, 1.4865221977233887], [8129, 1.494559407234192], [9326, 1.5000321865081787], [8339, 1.500380039215088], [9237, 1.5006647109985352], [7843, 1.5051707029342651], [8472, 1.507232427597046], [9908, 1.50749933719635], [8664, 1.5092804431915283]]",
         "9337"
        ],
        [
         "19",
         "video9620",
         "outer space pictures that have parts of equipments in them with water droplets on it",
         "[[8069, 1.4682519435882568]]",
         "[[8069, 1.4682519435882568], [9620, 1.4771512746810913], [9680, 1.5111697912216187], [7562, 1.5175342559814453], [8490, 1.5217963457107544]]",
         "[[8069, 1.4682519435882568], [9620, 1.4771512746810913], [9680, 1.5111697912216187], [7562, 1.5175342559814453], [8490, 1.5217963457107544], [9679, 1.528928279876709], [8727, 1.5331809520721436], [7431, 1.5430166721343994], [8071, 1.549319863319397], [7732, 1.5533759593963623]]",
         "9620"
        ],
        [
         "20",
         "video7411",
         "jolly good music troop delivering a program and the lady is in good spirit",
         "[[9793, 1.4710851907730103]]",
         "[[9793, 1.4710851907730103], [8022, 1.4837602376937866], [8314, 1.4886958599090576], [9037, 1.4911811351776123], [8920, 1.4954990148544312]]",
         "[[9793, 1.4710851907730103], [8022, 1.4837602376937866], [8314, 1.4886958599090576], [9037, 1.4911811351776123], [8920, 1.4954990148544312], [9589, 1.4997434616088867], [7145, 1.5013399124145508], [8781, 1.5045325756072998], [7411, 1.5083239078521729], [8333, 1.5089211463928223]]",
         "7411"
        ],
        [
         "21",
         "video8514",
         "a person is putting the vegetable in to the water and boil it",
         "[[8514, 1.4180785417556763]]",
         "[[8514, 1.4180785417556763], [9639, 1.4540067911148071], [8656, 1.4593281745910645], [7565, 1.4598857164382935], [9625, 1.4632246494293213]]",
         "[[8514, 1.4180785417556763], [9639, 1.4540067911148071], [8656, 1.4593281745910645], [7565, 1.4598857164382935], [9625, 1.4632246494293213], [7148, 1.4763178825378418], [7911, 1.4766061305999756], [9689, 1.4849698543548584], [9693, 1.492525339126587], [7376, 1.4939007759094238]]",
         "8514"
        ],
        [
         "22",
         "video8481",
         "a woman is reporting on keds commercials",
         "[[8481, 1.3499133586883545]]",
         "[[8481, 1.3499133586883545], [9503, 1.4338592290878296], [8022, 1.4904406070709229], [8806, 1.4943475723266602], [8175, 1.505711317062378]]",
         "[[8481, 1.3499133586883545], [9503, 1.4338592290878296], [8022, 1.4904406070709229], [8806, 1.4943475723266602], [8175, 1.505711317062378], [9341, 1.5181831121444702], [7119, 1.5208747386932373], [8494, 1.528456687927246], [8825, 1.5348197221755981], [8491, 1.5365993976593018]]",
         "8481"
        ],
        [
         "23",
         "video9224",
         "someone is playing a game",
         "[[9200, 1.4763964414596558]]",
         "[[9200, 1.4763964414596558], [9336, 1.4765714406967163], [8313, 1.477622628211975], [7374, 1.4813703298568726], [8578, 1.4829615354537964]]",
         "[[9200, 1.4763964414596558], [9336, 1.4765714406967163], [8313, 1.477622628211975], [7374, 1.4813703298568726], [8578, 1.4829615354537964], [7919, 1.483689785003662], [8010, 1.483899474143982], [9332, 1.4840381145477295], [7792, 1.4844833612442017], [9031, 1.4859353303909302]]",
         "9224"
        ],
        [
         "24",
         "video8426",
         "cabins on a sandy beach have walkways going up to their porches",
         "[[8426, 1.269911289215088]]",
         "[[8426, 1.269911289215088], [8312, 1.4972176551818848], [8741, 1.5144569873809814], [8307, 1.5146269798278809], [7466, 1.5329071283340454]]",
         "[[8426, 1.269911289215088], [8312, 1.4972176551818848], [8741, 1.5144569873809814], [8307, 1.5146269798278809], [7466, 1.5329071283340454], [8248, 1.535497784614563], [7797, 1.536628246307373], [8862, 1.5368103981018066], [7589, 1.5396859645843506], [8803, 1.5411980152130127]]",
         "8426"
        ],
        [
         "25",
         "video9699",
         "a man explains how to do a experiment",
         "[[9699, 1.418363332748413]]",
         "[[9699, 1.418363332748413], [8257, 1.4836207628250122], [8804, 1.5066490173339844], [8067, 1.5137066841125488], [9901, 1.5238513946533203]]",
         "[[9699, 1.418363332748413], [8257, 1.4836207628250122], [8804, 1.5066490173339844], [8067, 1.5137066841125488], [9901, 1.5238513946533203], [7939, 1.53122878074646], [7575, 1.5328054428100586], [9549, 1.5343644618988037], [8774, 1.5378843545913696], [8121, 1.5391643047332764]]",
         "9699"
        ],
        [
         "26",
         "video9882",
         "a news reader is reading the news and asking question to some people",
         "[[7613, 1.4437217712402344]]",
         "[[7613, 1.4437217712402344], [9204, 1.458634614944458], [8822, 1.4604532718658447], [8864, 1.4648160934448242], [7731, 1.4760819673538208]]",
         "[[7613, 1.4437217712402344], [9204, 1.458634614944458], [8822, 1.4604532718658447], [8864, 1.4648160934448242], [7731, 1.4760819673538208], [9223, 1.4765921831130981], [7119, 1.4775381088256836], [9882, 1.478811264038086], [8333, 1.4801323413848877], [7145, 1.4851253032684326]]",
         "9882"
        ],
        [
         "27",
         "video8300",
         "a woman pours water into her pot of meat then tomato sauce and stirs it all around while talking",
         "[[8300, 1.4035320281982422]]",
         "[[8300, 1.4035320281982422], [8835, 1.448468804359436], [8654, 1.4643101692199707], [9689, 1.4722304344177246], [8656, 1.5082519054412842]]",
         "[[8300, 1.4035320281982422], [8835, 1.448468804359436], [8654, 1.4643101692199707], [9689, 1.4722304344177246], [8656, 1.5082519054412842], [7744, 1.5135796070098877], [9639, 1.527974247932434], [7565, 1.5300610065460205], [9693, 1.5335581302642822], [8910, 1.5393989086151123]]",
         "8300"
        ],
        [
         "28",
         "video8863",
         "an animated girl talks to a baby and plays with it",
         "[[7157, 1.4696991443634033]]",
         "[[7157, 1.4696991443634033], [7179, 1.4699639081954956], [8863, 1.4728819131851196], [7365, 1.488844871520996], [8341, 1.50258207321167]]",
         "[[7157, 1.4696991443634033], [7179, 1.4699639081954956], [8863, 1.4728819131851196], [7365, 1.488844871520996], [8341, 1.50258207321167], [8827, 1.5171325206756592], [8110, 1.5220611095428467], [8268, 1.5377365350723267], [7222, 1.547963261604309], [7970, 1.5552241802215576]]",
         "8863"
        ],
        [
         "29",
         "video7147",
         "a man cooks burgers and bacon on a grill",
         "[[7147, 1.3291071653366089]]",
         "[[7147, 1.3291071653366089], [9333, 1.374638319015503], [9694, 1.4357969760894775], [9015, 1.49196457862854], [9335, 1.5599448680877686]]",
         "[[7147, 1.3291071653366089], [9333, 1.374638319015503], [9694, 1.4357969760894775], [9015, 1.49196457862854], [9335, 1.5599448680877686], [7820, 1.5613970756530762], [8865, 1.5654144287109375], [7362, 1.5668601989746094], [9038, 1.5708553791046143], [7968, 1.5741777420043945]]",
         "7147"
        ],
        [
         "30",
         "video7744",
         "a chef stirs up some ingredients inside of a pan",
         "[[7148, 1.4564521312713623]]",
         "[[7148, 1.4564521312713623], [8656, 1.4608367681503296], [9335, 1.468179702758789], [9639, 1.4706799983978271], [9625, 1.471964955329895]]",
         "[[7148, 1.4564521312713623], [8656, 1.4608367681503296], [9335, 1.468179702758789], [9639, 1.4706799983978271], [9625, 1.471964955329895], [9689, 1.4778741598129272], [8300, 1.4778919219970703], [8751, 1.4787929058074951], [8483, 1.484019160270691], [8654, 1.4877575635910034]]",
         "7744"
        ],
        [
         "31",
         "video7839",
         "this is a vine sports compilation",
         "[[9029, 1.398680567741394]]",
         "[[9029, 1.398680567741394], [8913, 1.3994098901748657], [7358, 1.4002413749694824], [9018, 1.4059669971466064], [7789, 1.4095549583435059]]",
         "[[9029, 1.398680567741394], [8913, 1.3994098901748657], [7358, 1.4002413749694824], [9018, 1.4059669971466064], [7789, 1.4095549583435059], [9605, 1.4110479354858398], [9542, 1.4110537767410278], [9647, 1.4147982597351074], [8979, 1.4222112894058228], [8253, 1.4316596984863281]]",
         "7839"
        ],
        [
         "32",
         "video7214",
         "race cars of different colors lined up on a dark track",
         "[[7214, 1.4743366241455078]]",
         "[[7214, 1.4743366241455078], [7219, 1.5034918785095215], [7506, 1.5317466259002686], [7616, 1.5431835651397705], [9328, 1.5455268621444702]]",
         "[[7214, 1.4743366241455078], [7219, 1.5034918785095215], [7506, 1.5317466259002686], [7616, 1.5431835651397705], [9328, 1.5455268621444702], [8451, 1.5461536645889282], [9691, 1.546743392944336], [8264, 1.5565886497497559], [9017, 1.5591726303100586], [7464, 1.5688471794128418]]",
         "7214"
        ],
        [
         "33",
         "video7771",
         "a golf player is trying to hit the ball into the pit",
         "[[7771, 1.4123239517211914]]",
         "[[7771, 1.4123239517211914], [7556, 1.5074105262756348], [7368, 1.522178053855896], [7021, 1.5410041809082031], [8913, 1.5468140840530396]]",
         "[[7771, 1.4123239517211914], [7556, 1.5074105262756348], [7368, 1.522178053855896], [7021, 1.5410041809082031], [8913, 1.5468140840530396], [8049, 1.5469121932983398], [7699, 1.552055835723877], [9018, 1.555515170097351], [7822, 1.5610016584396362], [8267, 1.5644476413726807]]",
         "7771"
        ],
        [
         "34",
         "video8486",
         "a cartoon on a young guy cursing",
         "[[7160, 1.4148128032684326]]",
         "[[7160, 1.4148128032684326], [7222, 1.4235053062438965], [8486, 1.4376769065856934], [7741, 1.4459257125854492], [7029, 1.450735330581665]]",
         "[[7160, 1.4148128032684326], [7222, 1.4235053062438965], [8486, 1.4376769065856934], [7741, 1.4459257125854492], [7029, 1.450735330581665], [9790, 1.4591078758239746], [7831, 1.4631004333496094], [9814, 1.4650142192840576], [7172, 1.4795196056365967], [8911, 1.4855051040649414]]",
         "8486"
        ],
        [
         "35",
         "video9909",
         "a crowd of people sitting next to each other as one man plays a video game",
         "[[9909, 1.3841712474822998]]",
         "[[9909, 1.3841712474822998], [7444, 1.482701301574707], [8860, 1.490877389907837], [8689, 1.5003290176391602], [8578, 1.5118595361709595]]",
         "[[9909, 1.3841712474822998], [7444, 1.482701301574707], [8860, 1.490877389907837], [8689, 1.5003290176391602], [8578, 1.5118595361709595], [9745, 1.512869119644165], [8472, 1.5140910148620605], [8797, 1.5165425539016724], [7792, 1.5168006420135498], [8077, 1.5182907581329346]]",
         "9909"
        ],
        [
         "36",
         "video8922",
         "an old man shakes hands with another man and then they hug each other",
         "[[8922, 1.3958871364593506]]",
         "[[8922, 1.3958871364593506], [8829, 1.4634441137313843], [7590, 1.4634811878204346], [9023, 1.4778858423233032], [7704, 1.4864459037780762]]",
         "[[8922, 1.3958871364593506], [8829, 1.4634441137313843], [7590, 1.4634811878204346], [9023, 1.4778858423233032], [7704, 1.4864459037780762], [7349, 1.5090019702911377], [7159, 1.5275269746780396], [8808, 1.5291922092437744], [7754, 1.5373740196228027], [9576, 1.5406805276870728]]",
         "8922"
        ],
        [
         "37",
         "video9814",
         "a scene from spongebob squarepants where the townspeople are carrying torches and chasing a giant squidward",
         "[[7111, 1.4948537349700928]]",
         "[[7111, 1.4948537349700928], [9814, 1.5150468349456787], [9300, 1.5223653316497803], [8916, 1.5253723859786987], [9790, 1.529808759689331]]",
         "[[7111, 1.4948537349700928], [9814, 1.5150468349456787], [9300, 1.5223653316497803], [8916, 1.5253723859786987], [9790, 1.529808759689331], [8839, 1.5418777465820312], [7029, 1.556768774986267], [9306, 1.5770329236984253], [8128, 1.577045202255249], [7235, 1.5786008834838867]]",
         "9814"
        ],
        [
         "38",
         "video9368",
         "someone demonstrates about the small motor uses to the video",
         "[[8121, 1.4384812116622925]]",
         "[[8121, 1.4384812116622925], [9530, 1.4447226524353027], [9368, 1.4476078748703003], [7363, 1.4891666173934937], [7820, 1.4985274076461792]]",
         "[[8121, 1.4384812116622925], [9530, 1.4447226524353027], [9368, 1.4476078748703003], [7363, 1.4891666173934937], [7820, 1.4985274076461792], [7543, 1.508422613143921], [7765, 1.512481451034546], [8246, 1.513773798942566], [8332, 1.51576828956604], [8924, 1.51936674118042]]",
         "9368"
        ],
        [
         "39",
         "video8820",
         "a person comes up in the hill on a orange motor bike and falls down",
         "[[8820, 1.44203782081604]]",
         "[[8820, 1.44203782081604], [8657, 1.5064704418182373], [7796, 1.5149143934249878], [7915, 1.530103325843811], [9521, 1.540220022201538]]",
         "[[8820, 1.44203782081604], [8657, 1.5064704418182373], [7796, 1.5149143934249878], [7915, 1.530103325843811], [9521, 1.540220022201538], [9017, 1.541043758392334], [7155, 1.541979432106018], [7837, 1.5448384284973145], [9302, 1.5487654209136963], [9208, 1.5489526987075806]]",
         "8820"
        ],
        [
         "40",
         "video9452",
         "an animated grey shark in the middle of a blue water simulation background rotating in a circle on the screen of a monitor",
         "[[9452, 1.402066707611084]]",
         "[[9452, 1.402066707611084], [8909, 1.5131818056106567], [9821, 1.522695541381836], [9359, 1.52298903465271], [8328, 1.5250766277313232]]",
         "[[9452, 1.402066707611084], [8909, 1.5131818056106567], [9821, 1.522695541381836], [9359, 1.52298903465271], [8328, 1.5250766277313232], [8311, 1.5402183532714844], [8111, 1.544584035873413], [7900, 1.5523579120635986], [9620, 1.5571575164794922], [9680, 1.563081979751587]]",
         "9452"
        ],
        [
         "41",
         "video9344",
         "gameplay footage of someone playing a game",
         "[[9200, 1.4745359420776367]]",
         "[[9200, 1.4745359420776367], [8459, 1.4814448356628418], [8010, 1.4846163988113403], [7374, 1.48646879196167], [8313, 1.4871349334716797]]",
         "[[9200, 1.4745359420776367], [8459, 1.4814448356628418], [8010, 1.4846163988113403], [7374, 1.48646879196167], [8313, 1.4871349334716797], [9336, 1.4878112077713013], [8788, 1.4879059791564941], [8070, 1.488333821296692], [9795, 1.4908931255340576], [8116, 1.4910948276519775]]",
         "9344"
        ],
        [
         "42",
         "video9032",
         "a hospital mortuary room and a doctor treat the special case",
         "[[8664, 1.453716516494751]]",
         "[[8664, 1.453716516494751], [7829, 1.4835172891616821], [7169, 1.4934114217758179], [9322, 1.5015499591827393], [8666, 1.5034329891204834]]",
         "[[8664, 1.453716516494751], [7829, 1.4835172891616821], [7169, 1.4934114217758179], [9322, 1.5015499591827393], [8666, 1.5034329891204834], [9032, 1.5124986171722412], [7704, 1.5352768898010254], [9520, 1.548438549041748], [7149, 1.5511531829833984], [9238, 1.5571050643920898]]",
         "9032"
        ],
        [
         "43",
         "video9016",
         "all persons are wearing bikini dresses and playing in sea",
         "[[9342, 1.446763515472412]]",
         "[[9342, 1.446763515472412], [8241, 1.4557875394821167], [9201, 1.4634778499603271], [7681, 1.472886085510254], [9574, 1.4848113059997559]]",
         "[[9342, 1.446763515472412], [8241, 1.4557875394821167], [9201, 1.4634778499603271], [7681, 1.472886085510254], [9574, 1.4848113059997559], [8999, 1.5003985166549683], [8928, 1.5125205516815186], [7155, 1.514627456665039], [7795, 1.518803358078003], [8079, 1.5300722122192383]]",
         "9016"
        ],
        [
         "44",
         "video9353",
         "two women are outside and are discussing something in a foreign language",
         "[[9353, 1.3793079853057861]]",
         "[[9353, 1.3793079853057861], [9039, 1.4496018886566162], [9340, 1.4606294631958008], [7583, 1.4630305767059326], [7589, 1.4652807712554932]]",
         "[[9353, 1.3793079853057861], [9039, 1.4496018886566162], [9340, 1.4606294631958008], [7583, 1.4630305767059326], [7589, 1.4652807712554932], [7364, 1.495055079460144], [7116, 1.5124802589416504], [8330, 1.5133092403411865], [9521, 1.5241657495498657], [8022, 1.5247235298156738]]",
         "9353"
        ],
        [
         "45",
         "video9405",
         "red balloons float in the sky and have packages tied to them",
         "[[9405, 1.345451831817627]]",
         "[[9405, 1.345451831817627], [7061, 1.5283396244049072], [9680, 1.5316967964172363], [8306, 1.5390868186950684], [8069, 1.5412622690200806]]",
         "[[9405, 1.345451831817627], [7061, 1.5283396244049072], [9680, 1.5316967964172363], [8306, 1.5390868186950684], [8069, 1.5412622690200806], [8477, 1.548760175704956], [7217, 1.5490444898605347], [9807, 1.5569522380828857], [8666, 1.5584070682525635], [7549, 1.5587260723114014]]",
         "9405"
        ],
        [
         "46",
         "video7559",
         "a man is trying some sushi",
         "[[7559, 1.4403259754180908]]",
         "[[7559, 1.4403259754180908], [9309, 1.4835479259490967], [9327, 1.4922672510147095], [9409, 1.5157604217529297], [8301, 1.5172122716903687]]",
         "[[7559, 1.4403259754180908], [9309, 1.4835479259490967], [9327, 1.4922672510147095], [9409, 1.5157604217529297], [8301, 1.5172122716903687], [9684, 1.5238919258117676], [8772, 1.5325912237167358], [9229, 1.5335139036178589], [9687, 1.5393245220184326], [9539, 1.5562481880187988]]",
         "7559"
        ],
        [
         "47",
         "video9063",
         "people on stage performing",
         "[[9683, 1.4587212800979614]]",
         "[[9683, 1.4587212800979614], [8482, 1.4791059494018555], [7596, 1.4836220741271973], [9352, 1.4869126081466675], [8926, 1.4983479976654053]]",
         "[[9683, 1.4587212800979614], [8482, 1.4791059494018555], [7596, 1.4836220741271973], [9352, 1.4869126081466675], [8926, 1.4983479976654053], [9063, 1.4988689422607422], [9351, 1.5022165775299072], [8324, 1.5022331476211548], [8914, 1.503800630569458], [7351, 1.506988286972046]]",
         "9063"
        ],
        [
         "48",
         "video7352",
         "a movie scene starring morgan freeman and men in armor running",
         "[[7373, 1.5092980861663818]]",
         "[[7373, 1.5092980861663818], [9230, 1.510890245437622], [7352, 1.5174893140792847], [8315, 1.5182585716247559], [8948, 1.5224623680114746]]",
         "[[7373, 1.5092980861663818], [9230, 1.510890245437622], [7352, 1.5174893140792847], [8315, 1.5182585716247559], [8948, 1.5224623680114746], [8061, 1.5243197679519653], [9784, 1.5267767906188965], [7444, 1.5269901752471924], [8475, 1.5292279720306396], [8071, 1.5341675281524658]]",
         "7352"
        ],
        [
         "49",
         "video8447",
         "a woman singing on the voice",
         "[[8818, 1.4667956829071045]]",
         "[[8818, 1.4667956829071045], [7569, 1.472243070602417], [8810, 1.4776909351348877], [8265, 1.4801840782165527], [7756, 1.4816343784332275]]",
         "[[8818, 1.4667956829071045], [7569, 1.472243070602417], [8810, 1.4776909351348877], [8265, 1.4801840782165527], [7756, 1.4816343784332275], [9222, 1.482475996017456], [9879, 1.488576054573059], [8447, 1.492775559425354], [9351, 1.5022271871566772], [7220, 1.5050740242004395]]",
         "8447"
        ]
       ],
       "shape": {
        "columns": 6,
        "rows": 1000
       }
      },
      "text/html": [
       "<div>\n",
       "<style scoped>\n",
       "    .dataframe tbody tr th:only-of-type {\n",
       "        vertical-align: middle;\n",
       "    }\n",
       "\n",
       "    .dataframe tbody tr th {\n",
       "        vertical-align: top;\n",
       "    }\n",
       "\n",
       "    .dataframe thead th {\n",
       "        text-align: right;\n",
       "    }\n",
       "</style>\n",
       "<table border=\"1\" class=\"dataframe\">\n",
       "  <thead>\n",
       "    <tr style=\"text-align: right;\">\n",
       "      <th></th>\n",
       "      <th>rel_video_id</th>\n",
       "      <th>query</th>\n",
       "      <th>top1</th>\n",
       "      <th>top5</th>\n",
       "      <th>top10</th>\n",
       "      <th>ground_truth</th>\n",
       "    </tr>\n",
       "  </thead>\n",
       "  <tbody>\n",
       "    <tr>\n",
       "      <th>0</th>\n",
       "      <td>video7579</td>\n",
       "      <td>a girl wearing red top and black trouser is pu...</td>\n",
       "      <td>[[7579, 1.4419159889221191]]</td>\n",
       "      <td>[[7579, 1.4419159889221191], [9969, 1.45477879...</td>\n",
       "      <td>[[7579, 1.4419159889221191], [9969, 1.45477879...</td>\n",
       "      <td>7579</td>\n",
       "    </tr>\n",
       "    <tr>\n",
       "      <th>1</th>\n",
       "      <td>video7725</td>\n",
       "      <td>young people sit around the edges of a room cl...</td>\n",
       "      <td>[[7725, 1.3929578065872192]]</td>\n",
       "      <td>[[7725, 1.3929578065872192], [8339, 1.46684432...</td>\n",
       "      <td>[[7725, 1.3929578065872192], [8339, 1.46684432...</td>\n",
       "      <td>7725</td>\n",
       "    </tr>\n",
       "    <tr>\n",
       "      <th>2</th>\n",
       "      <td>video9258</td>\n",
       "      <td>a person is using a phone</td>\n",
       "      <td>[[9258, 1.4097641706466675]]</td>\n",
       "      <td>[[9258, 1.4097641706466675], [9257, 1.44244837...</td>\n",
       "      <td>[[9258, 1.4097641706466675], [9257, 1.44244837...</td>\n",
       "      <td>9258</td>\n",
       "    </tr>\n",
       "    <tr>\n",
       "      <th>3</th>\n",
       "      <td>video7365</td>\n",
       "      <td>cartoon people are eating at a restaurant</td>\n",
       "      <td>[[7365, 1.4170596599578857]]</td>\n",
       "      <td>[[7365, 1.4170596599578857], [9537, 1.45860767...</td>\n",
       "      <td>[[7365, 1.4170596599578857], [9537, 1.45860767...</td>\n",
       "      <td>7365</td>\n",
       "    </tr>\n",
       "    <tr>\n",
       "      <th>4</th>\n",
       "      <td>video8068</td>\n",
       "      <td>a woman on a couch talks to a a man</td>\n",
       "      <td>[[8068, 1.4879887104034424]]</td>\n",
       "      <td>[[8068, 1.4879887104034424], [9919, 1.50211000...</td>\n",
       "      <td>[[8068, 1.4879887104034424], [9919, 1.50211000...</td>\n",
       "      <td>8068</td>\n",
       "    </tr>\n",
       "    <tr>\n",
       "      <th>...</th>\n",
       "      <td>...</td>\n",
       "      <td>...</td>\n",
       "      <td>...</td>\n",
       "      <td>...</td>\n",
       "      <td>...</td>\n",
       "      <td>...</td>\n",
       "    </tr>\n",
       "    <tr>\n",
       "      <th>995</th>\n",
       "      <td>video7034</td>\n",
       "      <td>man in black shirt is holding a baby upside do...</td>\n",
       "      <td>[[9320, 1.50126314163208]]</td>\n",
       "      <td>[[9320, 1.50126314163208], [9404, 1.5271823406...</td>\n",
       "      <td>[[9320, 1.50126314163208], [9404, 1.5271823406...</td>\n",
       "      <td>7034</td>\n",
       "    </tr>\n",
       "    <tr>\n",
       "      <th>996</th>\n",
       "      <td>video7568</td>\n",
       "      <td>the queen of england is seen walking with an e...</td>\n",
       "      <td>[[7568, 1.289296269416809]]</td>\n",
       "      <td>[[7568, 1.289296269416809], [7116, 1.401354074...</td>\n",
       "      <td>[[7568, 1.289296269416809], [7116, 1.401354074...</td>\n",
       "      <td>7568</td>\n",
       "    </tr>\n",
       "    <tr>\n",
       "      <th>997</th>\n",
       "      <td>video7979</td>\n",
       "      <td>people talking about a fight</td>\n",
       "      <td>[[7979, 1.4600741863250732]]</td>\n",
       "      <td>[[7979, 1.4600741863250732], [7211, 1.48817718...</td>\n",
       "      <td>[[7979, 1.4600741863250732], [7211, 1.48817718...</td>\n",
       "      <td>7979</td>\n",
       "    </tr>\n",
       "    <tr>\n",
       "      <th>998</th>\n",
       "      <td>video7356</td>\n",
       "      <td>a vehicle with details on what comes with it b...</td>\n",
       "      <td>[[7356, 1.3331942558288574]]</td>\n",
       "      <td>[[7356, 1.3331942558288574], [9358, 1.48054170...</td>\n",
       "      <td>[[7356, 1.3331942558288574], [9358, 1.48054170...</td>\n",
       "      <td>7356</td>\n",
       "    </tr>\n",
       "    <tr>\n",
       "      <th>999</th>\n",
       "      <td>video8578</td>\n",
       "      <td>a man is commentating while playing minecraft</td>\n",
       "      <td>[[8663, 1.4565160274505615]]</td>\n",
       "      <td>[[8663, 1.4565160274505615], [8578, 1.45807468...</td>\n",
       "      <td>[[8663, 1.4565160274505615], [8578, 1.45807468...</td>\n",
       "      <td>8578</td>\n",
       "    </tr>\n",
       "  </tbody>\n",
       "</table>\n",
       "<p>1000 rows × 6 columns</p>\n",
       "</div>"
      ],
      "text/plain": [
       "    rel_video_id                                              query  \\\n",
       "0      video7579  a girl wearing red top and black trouser is pu...   \n",
       "1      video7725  young people sit around the edges of a room cl...   \n",
       "2      video9258                          a person is using a phone   \n",
       "3      video7365          cartoon people are eating at a restaurant   \n",
       "4      video8068                a woman on a couch talks to a a man   \n",
       "..           ...                                                ...   \n",
       "995    video7034  man in black shirt is holding a baby upside do...   \n",
       "996    video7568  the queen of england is seen walking with an e...   \n",
       "997    video7979                       people talking about a fight   \n",
       "998    video7356  a vehicle with details on what comes with it b...   \n",
       "999    video8578      a man is commentating while playing minecraft   \n",
       "\n",
       "                             top1  \\\n",
       "0    [[7579, 1.4419159889221191]]   \n",
       "1    [[7725, 1.3929578065872192]]   \n",
       "2    [[9258, 1.4097641706466675]]   \n",
       "3    [[7365, 1.4170596599578857]]   \n",
       "4    [[8068, 1.4879887104034424]]   \n",
       "..                            ...   \n",
       "995    [[9320, 1.50126314163208]]   \n",
       "996   [[7568, 1.289296269416809]]   \n",
       "997  [[7979, 1.4600741863250732]]   \n",
       "998  [[7356, 1.3331942558288574]]   \n",
       "999  [[8663, 1.4565160274505615]]   \n",
       "\n",
       "                                                  top5  \\\n",
       "0    [[7579, 1.4419159889221191], [9969, 1.45477879...   \n",
       "1    [[7725, 1.3929578065872192], [8339, 1.46684432...   \n",
       "2    [[9258, 1.4097641706466675], [9257, 1.44244837...   \n",
       "3    [[7365, 1.4170596599578857], [9537, 1.45860767...   \n",
       "4    [[8068, 1.4879887104034424], [9919, 1.50211000...   \n",
       "..                                                 ...   \n",
       "995  [[9320, 1.50126314163208], [9404, 1.5271823406...   \n",
       "996  [[7568, 1.289296269416809], [7116, 1.401354074...   \n",
       "997  [[7979, 1.4600741863250732], [7211, 1.48817718...   \n",
       "998  [[7356, 1.3331942558288574], [9358, 1.48054170...   \n",
       "999  [[8663, 1.4565160274505615], [8578, 1.45807468...   \n",
       "\n",
       "                                                 top10  ground_truth  \n",
       "0    [[7579, 1.4419159889221191], [9969, 1.45477879...          7579  \n",
       "1    [[7725, 1.3929578065872192], [8339, 1.46684432...          7725  \n",
       "2    [[9258, 1.4097641706466675], [9257, 1.44244837...          9258  \n",
       "3    [[7365, 1.4170596599578857], [9537, 1.45860767...          7365  \n",
       "4    [[8068, 1.4879887104034424], [9919, 1.50211000...          8068  \n",
       "..                                                 ...           ...  \n",
       "995  [[9320, 1.50126314163208], [9404, 1.5271823406...          7034  \n",
       "996  [[7568, 1.289296269416809], [7116, 1.401354074...          7568  \n",
       "997  [[7979, 1.4600741863250732], [7211, 1.48817718...          7979  \n",
       "998  [[7356, 1.3331942558288574], [9358, 1.48054170...          7356  \n",
       "999  [[8663, 1.4565160274505615], [8578, 1.45807468...          8578  \n",
       "\n",
       "[1000 rows x 6 columns]"
      ]
     },
     "execution_count": 48,
     "metadata": {},
     "output_type": "execute_result"
    }
   ],
   "source": [
    "search_results_df"
   ]
  },
  {
   "cell_type": "code",
   "execution_count": 49,
   "id": "6fdf8259",
   "metadata": {},
   "outputs": [
    {
     "ename": "NameError",
     "evalue": "name 'np' is not defined",
     "output_type": "error",
     "traceback": [
      "\u001b[0;31m---------------------------------------------------------------------------\u001b[0m",
      "\u001b[0;31mNameError\u001b[0m                                 Traceback (most recent call last)",
      "Cell \u001b[0;32mIn[49], line 1\u001b[0m\n\u001b[0;32m----> 1\u001b[0m \u001b[43mmy_eval_utils\u001b[49m\u001b[38;5;241;43m.\u001b[39;49m\u001b[43mget_all_eval_scores\u001b[49m\u001b[43m(\u001b[49m\u001b[43msearch_results_df\u001b[49m\u001b[43m)\u001b[49m\n",
      "File \u001b[0;32m~/Documents/Classes/Spring2025/is4200/final-proj/helpers/eval_utils.py:147\u001b[0m, in \u001b[0;36mget_all_eval_scores\u001b[0;34m(df)\u001b[0m\n\u001b[1;32m    145\u001b[0m recall_scores \u001b[38;5;241m=\u001b[39m calculate_recall(df)\n\u001b[1;32m    146\u001b[0m map_score \u001b[38;5;241m=\u001b[39m calculate_mean_average_precision(df)\n\u001b[0;32m--> 147\u001b[0m ndcg_score_1 \u001b[38;5;241m=\u001b[39m \u001b[43mcalculate_ndcg\u001b[49m\u001b[43m(\u001b[49m\u001b[43mdf\u001b[49m\u001b[43m,\u001b[49m\u001b[43m \u001b[49m\u001b[43mk\u001b[49m\u001b[38;5;241;43m=\u001b[39;49m\u001b[38;5;241;43m1\u001b[39;49m\u001b[43m)\u001b[49m\n\u001b[1;32m    148\u001b[0m ndcg_score_5 \u001b[38;5;241m=\u001b[39m calculate_ndcg(df, k\u001b[38;5;241m=\u001b[39m\u001b[38;5;241m5\u001b[39m)\n\u001b[1;32m    149\u001b[0m ndcg_score_10 \u001b[38;5;241m=\u001b[39m calculate_ndcg(df, k\u001b[38;5;241m=\u001b[39m\u001b[38;5;241m10\u001b[39m)\n",
      "File \u001b[0;32m~/Documents/Classes/Spring2025/is4200/final-proj/helpers/eval_utils.py:137\u001b[0m, in \u001b[0;36mcalculate_ndcg\u001b[0;34m(df, k)\u001b[0m\n\u001b[1;32m    135\u001b[0m     ground_truth \u001b[38;5;241m=\u001b[39m row[\u001b[38;5;124m'\u001b[39m\u001b[38;5;124mground_truth\u001b[39m\u001b[38;5;124m'\u001b[39m]\n\u001b[1;32m    136\u001b[0m     predictions_with_scores \u001b[38;5;241m=\u001b[39m row[\u001b[38;5;124m'\u001b[39m\u001b[38;5;124mtop10\u001b[39m\u001b[38;5;124m'\u001b[39m]\n\u001b[0;32m--> 137\u001b[0m     ndcg_scores\u001b[38;5;241m.\u001b[39mappend(\u001b[43mndcg_score\u001b[49m\u001b[43m(\u001b[49m\n\u001b[1;32m    138\u001b[0m \u001b[43m        \u001b[49m\u001b[43mground_truth\u001b[49m\u001b[43m,\u001b[49m\u001b[43m \u001b[49m\u001b[43mpredictions_with_scores\u001b[49m\u001b[43m,\u001b[49m\u001b[43m \u001b[49m\u001b[43mk\u001b[49m\u001b[43m)\u001b[49m)\n\u001b[1;32m    140\u001b[0m \u001b[38;5;28;01mreturn\u001b[39;00m \u001b[38;5;28msum\u001b[39m(ndcg_scores) \u001b[38;5;241m/\u001b[39m \u001b[38;5;28mlen\u001b[39m(ndcg_scores) \u001b[38;5;28;01mif\u001b[39;00m ndcg_scores \u001b[38;5;28;01melse\u001b[39;00m \u001b[38;5;241m0\u001b[39m\n",
      "File \u001b[0;32m~/Documents/Classes/Spring2025/is4200/final-proj/helpers/eval_utils.py:113\u001b[0m, in \u001b[0;36mndcg_score\u001b[0;34m(ground_truth, predictions, k)\u001b[0m\n\u001b[1;32m    109\u001b[0m relevance_scores \u001b[38;5;241m=\u001b[39m [\u001b[38;5;241m1\u001b[39m \u001b[38;5;28;01mif\u001b[39;00m pred[\u001b[38;5;241m0\u001b[39m] \u001b[38;5;241m==\u001b[39m\n\u001b[1;32m    110\u001b[0m                     ground_truth \u001b[38;5;28;01melse\u001b[39;00m \u001b[38;5;241m0\u001b[39m \u001b[38;5;28;01mfor\u001b[39;00m pred \u001b[38;5;129;01min\u001b[39;00m predictions[:k]]\n\u001b[1;32m    112\u001b[0m \u001b[38;5;66;03m# Calculate DCG and IDCG\u001b[39;00m\n\u001b[0;32m--> 113\u001b[0m actual_dcg \u001b[38;5;241m=\u001b[39m \u001b[43mdcg\u001b[49m\u001b[43m(\u001b[49m\u001b[43mrelevance_scores\u001b[49m\u001b[43m)\u001b[49m\n\u001b[1;32m    114\u001b[0m ideal_dcg \u001b[38;5;241m=\u001b[39m dcg(\u001b[38;5;28msorted\u001b[39m(relevance_scores, reverse\u001b[38;5;241m=\u001b[39m\u001b[38;5;28;01mTrue\u001b[39;00m))\n\u001b[1;32m    116\u001b[0m \u001b[38;5;66;03m# Return NDCG\u001b[39;00m\n",
      "File \u001b[0;32m~/Documents/Classes/Spring2025/is4200/final-proj/helpers/eval_utils.py:106\u001b[0m, in \u001b[0;36mndcg_score.<locals>.dcg\u001b[0;34m(relevance_scores)\u001b[0m\n\u001b[1;32m    105\u001b[0m \u001b[38;5;28;01mdef\u001b[39;00m \u001b[38;5;21mdcg\u001b[39m(relevance_scores):\n\u001b[0;32m--> 106\u001b[0m     \u001b[38;5;28;01mreturn\u001b[39;00m \u001b[38;5;28;43msum\u001b[39;49m\u001b[43m(\u001b[49m\u001b[43mrel\u001b[49m\u001b[43m \u001b[49m\u001b[38;5;241;43m/\u001b[39;49m\u001b[43m \u001b[49m\u001b[43mnp\u001b[49m\u001b[38;5;241;43m.\u001b[39;49m\u001b[43mlog2\u001b[49m\u001b[43m(\u001b[49m\u001b[43midx\u001b[49m\u001b[43m \u001b[49m\u001b[38;5;241;43m+\u001b[39;49m\u001b[43m \u001b[49m\u001b[38;5;241;43m2\u001b[39;49m\u001b[43m)\u001b[49m\u001b[43m \u001b[49m\u001b[38;5;28;43;01mfor\u001b[39;49;00m\u001b[43m \u001b[49m\u001b[43midx\u001b[49m\u001b[43m,\u001b[49m\u001b[43m \u001b[49m\u001b[43mrel\u001b[49m\u001b[43m \u001b[49m\u001b[38;5;129;43;01min\u001b[39;49;00m\u001b[43m \u001b[49m\u001b[38;5;28;43menumerate\u001b[39;49m\u001b[43m(\u001b[49m\u001b[43mrelevance_scores\u001b[49m\u001b[43m)\u001b[49m\u001b[43m)\u001b[49m\n",
      "File \u001b[0;32m~/Documents/Classes/Spring2025/is4200/final-proj/helpers/eval_utils.py:106\u001b[0m, in \u001b[0;36m<genexpr>\u001b[0;34m(.0)\u001b[0m\n\u001b[1;32m    105\u001b[0m \u001b[38;5;28;01mdef\u001b[39;00m \u001b[38;5;21mdcg\u001b[39m(relevance_scores):\n\u001b[0;32m--> 106\u001b[0m     \u001b[38;5;28;01mreturn\u001b[39;00m \u001b[38;5;28msum\u001b[39m(rel \u001b[38;5;241m/\u001b[39m \u001b[43mnp\u001b[49m\u001b[38;5;241m.\u001b[39mlog2(idx \u001b[38;5;241m+\u001b[39m \u001b[38;5;241m2\u001b[39m) \u001b[38;5;28;01mfor\u001b[39;00m idx, rel \u001b[38;5;129;01min\u001b[39;00m \u001b[38;5;28menumerate\u001b[39m(relevance_scores))\n",
      "\u001b[0;31mNameError\u001b[0m: name 'np' is not defined"
     ]
    }
   ],
   "source": [
    "my_eval_utils.get_all_eval_scores(search_results_df)"
   ]
  }
 ],
 "metadata": {
  "kernelspec": {
   "display_name": "info-ret-proj",
   "language": "python",
   "name": "python3"
  },
  "language_info": {
   "codemirror_mode": {
    "name": "ipython",
    "version": 3
   },
   "file_extension": ".py",
   "mimetype": "text/x-python",
   "name": "python",
   "nbconvert_exporter": "python",
   "pygments_lexer": "ipython3",
   "version": "3.10.16"
  }
 },
 "nbformat": 4,
 "nbformat_minor": 5
}
